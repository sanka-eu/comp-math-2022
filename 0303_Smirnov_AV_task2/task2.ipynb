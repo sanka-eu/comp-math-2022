{
 "cells": [
  {
   "cell_type": "markdown",
   "metadata": {},
   "source": [
    "# Практическая работа №2: Исследование задач о раскрасках\n",
    "\n",
    "Выполнил студент гр. 0303 Смирнов Артем, вариант 21."
   ]
  },
  {
   "cell_type": "markdown",
   "metadata": {},
   "source": [
    "## Цель работы\n",
    "\n",
    "Формирование представления о задачах о раскрасках, выработать умение использование леммы Бёрнсайда для решения задачи о раскрасках,\n",
    "привить навык использования систем компьютерной алгебры для реализации алгоритмов решения задачи.\n"
   ]
  },
  {
   "cell_type": "markdown",
   "metadata": {},
   "source": [
    "## Постановка задачи\n",
    "\n",
    "Аналитически решить задачу о раскрасках; графически отобразить решения задачи с использованием системы компьютерной алгебры SageMath. Полученные результаты содержательно интерпретировать.\n"
   ]
  },
  {
   "cell_type": "markdown",
   "metadata": {},
   "source": [
    "## Основные теоретические положения\n",
    "\n",
    "__Группа__\n",
    "\n",
    "Группой называется множество G с заданной бинарной операцией *, если выполнены следующие аксиомы:\n",
    "\n",
    "1. Множество замкнуто относительно операции *.\n",
    "2. Ассоциативность, т.е. $ (a * b) * c = a * (b * c)   \\forall a, b, c \\in G $.\n",
    "3. Наличие нейтрального элемента $ e \\in G $ т.ч. $ a * e = e * a = a, \\forall a \\in G $.\n",
    "4. Наличие обратных элементов т.ч. $ \\forall a \\in G $ $ \\exists a^{-1} \\in G $: $ a^{-1} * a = a * a^{-1} = e $.\n",
    "\n",
    "__Симметрическая группа__\n",
    "\n",
    "Пусть M $= \\{ 1, 2, ..., n\\} $ - конечное множество из n элементов.\n",
    "\n",
    "Тогда множество $ S_n = S(M) $ всех взаимно однозначных отображений множества M на себя с операцией умножения (композиции) называется симметрической группой степени n.\n",
    "\n",
    "$ \\cdot $ Элементы симметрической группы называются *подстановками*.\n",
    "\n",
    "$ \\cdot $ Количество элементов в $S_n = \\#S_n = n!$ \n",
    "\n",
    "$ \\cdot $ Действие подстановки $\\sigma \\in S_n $ на множестве удобно записывать как:\n",
    "\n",
    "$$ \n",
    "    \\sigma = \\begin{pmatrix}\n",
    "        1 & 2 & 3 & ... & n \\\\\n",
    "        i_1 & i_2 & i_3 & ... & i_n \\\\\n",
    "    \\end{pmatrix}, \\text{ где } i_k = \\sigma(i), k=1, 2, ..., n \n",
    "$$\n",
    "\n",
    "$ \\cdot $ Поскольку подстановки - взаимно однозначные соответствия, то они умножаются в соответствии с правилом композиции:\n",
    "$$ \n",
    "    \\sigma, \\tau \\in S_n \\text{, то } \\sigma \\times \\tau(i) = \\sigma(\\tau(i))\n",
    "$$\n",
    "\n",
    "$ \\cdot $ *Нейтральным* элементом в группе подстановок является тождественная подстановка $ e(i) = i, i=1,2,3,...,n $.\n",
    "\n",
    "$ \\cdot $ *Обратным* является обратная подстановка (возвращающая элементы множества M на изначальные позиции) - $ \\sigma^{-1}(i) $.\n",
    "\n",
    "__Циклы__\n",
    "\n",
    "Подстановка называется циклом длины k, если на некотором подмножестве $ \\{ a_{i_1}, a_{i_2}, ..., a_{i_k} \\} $ множества M она действует следующим образом:\n",
    "\n",
    "$$\n",
    "    \\begin{pmatrix}\n",
    "        a_{i_1} & a_{i_2} & ... & a_{i_{k-1}} & a_{i_k} \\\\\n",
    "        a_{i_2} & a_{i_3} & ... & a_{i_k} & a_{i_1} \\\\\n",
    "    \\end{pmatrix}\n",
    "$$\n",
    "\n",
    "$ \\cdot $ Обозначается цикл: $ (a_{i_1}, a_{i_2}, ..., a_{i_k}) $\n",
    "\n",
    "$ \\cdot $ Два цикла независимы, если они действуют на непересекающихся подмножествах M.\n",
    "\n",
    "$ \\cdot $ Thm. Каждая подстановка $ \\sigma \\neq e $ в $ S_n $ является произведением независимых циклов. При этом разложение в определено однозначно с точностью до порядка следования циклов.\n",
    "\n",
    "__Группа действий на множество__\n",
    "\n",
    "Пусть $ G $ - группа с нейтральным элементом e, $ X $ - какое-то множество. Говорим, что G действует на X, если задана операция $ G \\times X \\rightarrow G $ т.ч. $ \\forall x \\in X $ и $ g, h \\in G $ справедливо:\n",
    "\n",
    "1. $ e(x) = x $\n",
    "2. $ g \\times h(x) = g(h(x)) $\n",
    "\n",
    "$ \\cdot $ *Орбитой элемента* $ x \\in X $ под действием $ G $ называется множество $ G_x = \\{ gx: g \\in G \\} $. Число $ \\#(G_x) $ называется длиной орбиты.\n",
    "\n",
    "$ \\cdot $ *Неподвижными точками* элемента $ g \\in G $ называется $ x \\in X $, для которых $ gx = x $. Множество неподвижных точек элемента $ g $ обозначают $ X^g $.\n",
    "\n",
    "__Лемма Бернсайда__\n",
    "\n",
    "Количество орбит действия группы $ G $ на множестве $ X $ равно:\n",
    "$$\n",
    "    N = \\frac{1}{\\#G}\\sum_{g \\in G}{\\#X^g}\n",
    "$$\n",
    "\n",
    " __Постановка задачи о раскрасках__\n",
    " \n",
    "Пусть $I$ - произвольное множество, $С$ - множество цветов. Раскраской множества $I$ называется функция $I \\rightarrow C$\n",
    " \n",
    "Множество всех раскрасок: $C^I$.\n",
    "\n",
    "Их количество: $\\#C^I = \\#C^{\\#I}$\n",
    "\n",
    "Лемма. Пусть группа  G  действует на множество  I , тогда формула $$gf(i)=f(g^{−1}(i)),g \\in G,i \\in I,f \\in C^I$$\n",
    "задаёт действие $G$ на множество  $C^I$.\n",
    "\n",
    "Для $g \\in G$ и $f \\in C^I$ справедливо:\n",
    "<ol>\n",
    "<li>$gf = f$</li>\n",
    "\n",
    "<li>$f(i) = f(g^{n}i)$, $\\forall i \\in I $ и $n \\in \\mathbb{Z}$</li>\n",
    "\n",
    "<li>Если $i,j \\in I$ лежат в одном цикле в циклической записи перестановки $\\varphi(g)$, то $f(i) = f(j)$</li>\n",
    "</ol>\n",
    "\n",
    "Количество раскрасок из множетсва $C^I$, которые сохраняют элемент $g \\in G$ равно $\\#C^{c(\\phi(g))}$, где $c(\\phi(g))$ - число независимых циклов перестановки $\\phi(g)$"
   ]
  },
  {
   "cell_type": "markdown",
   "metadata": {},
   "source": [
    "## Порядок выполнения работы\n",
    "\n",
    "1. Аналитически решить задачу о раскрасках для заданного варианта. Все умозаключения в ходе решения обосновать и содержательно проинтерпретировать.\n",
    "2. Реализовать средствами SageMath функцию, отображающую графически раскраску по заданному номеру. Продемонстрировать работу функции на нескольких примерах. Сделать выводы.\n",
    "3. *Для заданного варианта решить задачу в общем виде.*"
   ]
  },
  {
   "cell_type": "markdown",
   "metadata": {},
   "source": [
    "## Задача\n",
    "\n",
    "Сколькими способами можно составить бусы из 133 бусинок 6 различных цветов (с точностью до поворотов и осевых симметрий)?"
   ]
  },
  {
   "cell_type": "markdown",
   "metadata": {},
   "source": [
    "## Выполнение работы\n",
    "### Аналитическое решение задачи:\n",
    "\n",
    "Пусть X - множество всех раскрасок, которые записываются в виде $ \\{ x_1, x_2, x_3, ..., x_{133} \\} $, где $ x_k = \\{ a, b, c, d, e, f \\} $ - один из 6-ти цветов. \n",
    "\n",
    "Тогда всего (с учетом поворотов и осевых симметрий) в множестве $ X $ - $ 6^{133} $ элементов.\n",
    "\n",
    "Пусть G - группа поворотов и осевых симметрий множества X, она изоморфна подгруппе $ G^* \\in S_{133} $,  $ G^{*} = \\{ 1, 2, 3, 4, ..., 133 \\} $\n",
    "\n",
    "Рассмотрим элементарные преобразования положений бусин:\n",
    "\n",
    "Пусть $ \\sigma $ - поворот на 1 бусину по часовой стрелке, а $ \\tau $ - осевая симметрия относительно оси, отделяющей $ \\{ 1, 2, 3, ..., 66 \\} $ от $ \\{ 68, 69, 70, ..., 133 \\} $ (вершина 67 не меняет своего положения):\n",
    "\n",
    "Начальное положение бус:"
   ]
  },
  {
   "attachments": {
    "1.png": {
     "image/png": "[encoded data removed]"
    }
   },
   "cell_type": "markdown",
   "metadata": {},
   "source": [
    "![1.png](attachment:1.png)"
   ]
  },
  {
   "cell_type": "markdown",
   "metadata": {},
   "source": [
    "Смещение бусин под действием $ \\sigma $:"
   ]
  },
  {
   "attachments": {
    "2.png": {
     "image/png": "[encoded data removed]"
    }
   },
   "cell_type": "markdown",
   "metadata": {},
   "source": [
    "![2.png](attachment:2.png)"
   ]
  },
  {
   "cell_type": "markdown",
   "metadata": {},
   "source": [
    "Смещение бусин под действием $ \\tau $:"
   ]
  },
  {
   "attachments": {
    "3.png": {
     "image/png": "[encoded data removed]"
    }
   },
   "cell_type": "markdown",
   "metadata": {},
   "source": [
    "![3.png](attachment:3.png)"
   ]
  },
  {
   "cell_type": "markdown",
   "metadata": {},
   "source": [
    "Опишем все возможные повороты и осевые симметрии для бус.\n",
    "\n",
    "Поворотот на 1 бусину по часовой:\n",
    "$$ \\sigma = (1, 2, 3, 4, ... 132, 133) $$\n",
    "\n",
    "Всего возможно 132 поворота, на 133 поворот бусы встанут в изначальное положение:"
   ]
  },
  {
   "cell_type": "code",
   "execution_count": 24,
   "metadata": {
    "scrolled": false
   },
   "outputs": [
    {
     "data": {
      "text/html": [
       "<html><script type=\"math/tex; mode=display\">\\newcommand{\\Bold}[1]{\\mathbf{#1}}\\sigma^{1}= (1,2,3,4,5,6,7,8,9,10,11,12,13,14,15,16,17,18,19,20,21,22,23,24,25,26,27,28,29,30,31,32,33,34,35,36,37,38,39,40,41,42,43,44,45,46,47,48,49,50,51,52,53,54,55,56,57,58,59,60,61,62,63,64,65,66,67,68,69,70,71,72,73,74,75,76,77,78,79,80,81,82,83,84,85,86,87,88,89,90,91,92,93,94,95,96,97,98,99,100,101,102,103,104,105,106,107,108,109,110,111,112,113,114,115,116,117,118,119,120,121,122,123,124,125,126,127,128,129,130,131,132,133)</script></html>"
      ],
      "text/latex": [
       "$$\\newcommand{\\Bold}[1]{\\mathbf{#1}}\\sigma^{1}= (1,2,3,4,5,6,7,8,9,10,11,12,13,14,15,16,17,18,19,20,21,22,23,24,25,26,27,28,29,30,31,32,33,34,35,36,37,38,39,40,41,42,43,44,45,46,47,48,49,50,51,52,53,54,55,56,57,58,59,60,61,62,63,64,65,66,67,68,69,70,71,72,73,74,75,76,77,78,79,80,81,82,83,84,85,86,87,88,89,90,91,92,93,94,95,96,97,98,99,100,101,102,103,104,105,106,107,108,109,110,111,112,113,114,115,116,117,118,119,120,121,122,123,124,125,126,127,128,129,130,131,132,133)$$"
      ],
      "text/plain": [
       "\\sigma^{1}= (1,2,3,4,5,6,7,8,9,10,11,12,13,14,15,16,17,18,19,20,21,22,23,24,25,26,27,28,29,30,31,32,33,34,35,36,37,38,39,40,41,42,43,44,45,46,47,48,49,50,51,52,53,54,55,56,57,58,59,60,61,62,63,64,65,66,67,68,69,70,71,72,73,74,75,76,77,78,79,80,81,82,83,84,85,86,87,88,89,90,91,92,93,94,95,96,97,98,99,100,101,102,103,104,105,106,107,108,109,110,111,112,113,114,115,116,117,118,119,120,121,122,123,124,125,126,127,128,129,130,131,132,133)"
      ]
     },
     "metadata": {},
     "output_type": "display_data"
    },
    {
     "data": {
      "text/html": [
       "<html><script type=\"math/tex; mode=display\">\\newcommand{\\Bold}[1]{\\mathbf{#1}}\\sigma^{2}= (1,3,5,7,9,11,13,15,17,19,21,23,25,27,29,31,33,35,37,39,41,43,45,47,49,51,53,55,57,59,61,63,65,67,69,71,73,75,77,79,81,83,85,87,89,91,93,95,97,99,101,103,105,107,109,111,113,115,117,119,121,123,125,127,129,131,133,2,4,6,8,10,12,14,16,18,20,22,24,26,28,30,32,34,36,38,40,42,44,46,48,50,52,54,56,58,60,62,64,66,68,70,72,74,76,78,80,82,84,86,88,90,92,94,96,98,100,102,104,106,108,110,112,114,116,118,120,122,124,126,128,130,132)</script></html>"
      ],
      "text/latex": [
       "$$\\newcommand{\\Bold}[1]{\\mathbf{#1}}\\sigma^{2}= (1,3,5,7,9,11,13,15,17,19,21,23,25,27,29,31,33,35,37,39,41,43,45,47,49,51,53,55,57,59,61,63,65,67,69,71,73,75,77,79,81,83,85,87,89,91,93,95,97,99,101,103,105,107,109,111,113,115,117,119,121,123,125,127,129,131,133,2,4,6,8,10,12,14,16,18,20,22,24,26,28,30,32,34,36,38,40,42,44,46,48,50,52,54,56,58,60,62,64,66,68,70,72,74,76,78,80,82,84,86,88,90,92,94,96,98,100,102,104,106,108,110,112,114,116,118,120,122,124,126,128,130,132)$$"
      ],
      "text/plain": [
       "\\sigma^{2}= (1,3,5,7,9,11,13,15,17,19,21,23,25,27,29,31,33,35,37,39,41,43,45,47,49,51,53,55,57,59,61,63,65,67,69,71,73,75,77,79,81,83,85,87,89,91,93,95,97,99,101,103,105,107,109,111,113,115,117,119,121,123,125,127,129,131,133,2,4,6,8,10,12,14,16,18,20,22,24,26,28,30,32,34,36,38,40,42,44,46,48,50,52,54,56,58,60,62,64,66,68,70,72,74,76,78,80,82,84,86,88,90,92,94,96,98,100,102,104,106,108,110,112,114,116,118,120,122,124,126,128,130,132)"
      ]
     },
     "metadata": {},
     "output_type": "display_data"
    },
    {
     "data": {
      "text/html": [
       "<html><script type=\"math/tex; mode=display\">\\newcommand{\\Bold}[1]{\\mathbf{#1}}\\sigma^{3}= (1,4,7,10,13,16,19,22,25,28,31,34,37,40,43,46,49,52,55,58,61,64,67,70,73,76,79,82,85,88,91,94,97,100,103,106,109,112,115,118,121,124,127,130,133,3,6,9,12,15,18,21,24,27,30,33,36,39,42,45,48,51,54,57,60,63,66,69,72,75,78,81,84,87,90,93,96,99,102,105,108,111,114,117,120,123,126,129,132,2,5,8,11,14,17,20,23,26,29,32,35,38,41,44,47,50,53,56,59,62,65,68,71,74,77,80,83,86,89,92,95,98,101,104,107,110,113,116,119,122,125,128,131)</script></html>"
      ],
      "text/latex": [
       "$$\\newcommand{\\Bold}[1]{\\mathbf{#1}}\\sigma^{3}= (1,4,7,10,13,16,19,22,25,28,31,34,37,40,43,46,49,52,55,58,61,64,67,70,73,76,79,82,85,88,91,94,97,100,103,106,109,112,115,118,121,124,127,130,133,3,6,9,12,15,18,21,24,27,30,33,36,39,42,45,48,51,54,57,60,63,66,69,72,75,78,81,84,87,90,93,96,99,102,105,108,111,114,117,120,123,126,129,132,2,5,8,11,14,17,20,23,26,29,32,35,38,41,44,47,50,53,56,59,62,65,68,71,74,77,80,83,86,89,92,95,98,101,104,107,110,113,116,119,122,125,128,131)$$"
      ],
      "text/plain": [
       "\\sigma^{3}= (1,4,7,10,13,16,19,22,25,28,31,34,37,40,43,46,49,52,55,58,61,64,67,70,73,76,79,82,85,88,91,94,97,100,103,106,109,112,115,118,121,124,127,130,133,3,6,9,12,15,18,21,24,27,30,33,36,39,42,45,48,51,54,57,60,63,66,69,72,75,78,81,84,87,90,93,96,99,102,105,108,111,114,117,120,123,126,129,132,2,5,8,11,14,17,20,23,26,29,32,35,38,41,44,47,50,53,56,59,62,65,68,71,74,77,80,83,86,89,92,95,98,101,104,107,110,113,116,119,122,125,128,131)"
      ]
     },
     "metadata": {},
     "output_type": "display_data"
    },
    {
     "data": {
      "text/html": [
       "<html><script type=\"math/tex; mode=display\">\\newcommand{\\Bold}[1]{\\mathbf{#1}}\\sigma^{4}= (1,5,9,13,17,21,25,29,33,37,41,45,49,53,57,61,65,69,73,77,81,85,89,93,97,101,105,109,113,117,121,125,129,133,4,8,12,16,20,24,28,32,36,40,44,48,52,56,60,64,68,72,76,80,84,88,92,96,100,104,108,112,116,120,124,128,132,3,7,11,15,19,23,27,31,35,39,43,47,51,55,59,63,67,71,75,79,83,87,91,95,99,103,107,111,115,119,123,127,131,2,6,10,14,18,22,26,30,34,38,42,46,50,54,58,62,66,70,74,78,82,86,90,94,98,102,106,110,114,118,122,126,130)</script></html>"
      ],
      "text/latex": [
       "$$\\newcommand{\\Bold}[1]{\\mathbf{#1}}\\sigma^{4}= (1,5,9,13,17,21,25,29,33,37,41,45,49,53,57,61,65,69,73,77,81,85,89,93,97,101,105,109,113,117,121,125,129,133,4,8,12,16,20,24,28,32,36,40,44,48,52,56,60,64,68,72,76,80,84,88,92,96,100,104,108,112,116,120,124,128,132,3,7,11,15,19,23,27,31,35,39,43,47,51,55,59,63,67,71,75,79,83,87,91,95,99,103,107,111,115,119,123,127,131,2,6,10,14,18,22,26,30,34,38,42,46,50,54,58,62,66,70,74,78,82,86,90,94,98,102,106,110,114,118,122,126,130)$$"
      ],
      "text/plain": [
       "\\sigma^{4}= (1,5,9,13,17,21,25,29,33,37,41,45,49,53,57,61,65,69,73,77,81,85,89,93,97,101,105,109,113,117,121,125,129,133,4,8,12,16,20,24,28,32,36,40,44,48,52,56,60,64,68,72,76,80,84,88,92,96,100,104,108,112,116,120,124,128,132,3,7,11,15,19,23,27,31,35,39,43,47,51,55,59,63,67,71,75,79,83,87,91,95,99,103,107,111,115,119,123,127,131,2,6,10,14,18,22,26,30,34,38,42,46,50,54,58,62,66,70,74,78,82,86,90,94,98,102,106,110,114,118,122,126,130)"
      ]
     },
     "metadata": {},
     "output_type": "display_data"
    },
    {
     "data": {
      "text/html": [
       "<html><script type=\"math/tex; mode=display\">\\newcommand{\\Bold}[1]{\\mathbf{#1}}\\sigma^{5}= (1,6,11,16,21,26,31,36,41,46,51,56,61,66,71,76,81,86,91,96,101,106,111,116,121,126,131,3,8,13,18,23,28,33,38,43,48,53,58,63,68,73,78,83,88,93,98,103,108,113,118,123,128,133,5,10,15,20,25,30,35,40,45,50,55,60,65,70,75,80,85,90,95,100,105,110,115,120,125,130,2,7,12,17,22,27,32,37,42,47,52,57,62,67,72,77,82,87,92,97,102,107,112,117,122,127,132,4,9,14,19,24,29,34,39,44,49,54,59,64,69,74,79,84,89,94,99,104,109,114,119,124,129)</script></html>"
      ],
      "text/latex": [
       "$$\\newcommand{\\Bold}[1]{\\mathbf{#1}}\\sigma^{5}= (1,6,11,16,21,26,31,36,41,46,51,56,61,66,71,76,81,86,91,96,101,106,111,116,121,126,131,3,8,13,18,23,28,33,38,43,48,53,58,63,68,73,78,83,88,93,98,103,108,113,118,123,128,133,5,10,15,20,25,30,35,40,45,50,55,60,65,70,75,80,85,90,95,100,105,110,115,120,125,130,2,7,12,17,22,27,32,37,42,47,52,57,62,67,72,77,82,87,92,97,102,107,112,117,122,127,132,4,9,14,19,24,29,34,39,44,49,54,59,64,69,74,79,84,89,94,99,104,109,114,119,124,129)$$"
      ],
      "text/plain": [
       "\\sigma^{5}= (1,6,11,16,21,26,31,36,41,46,51,56,61,66,71,76,81,86,91,96,101,106,111,116,121,126,131,3,8,13,18,23,28,33,38,43,48,53,58,63,68,73,78,83,88,93,98,103,108,113,118,123,128,133,5,10,15,20,25,30,35,40,45,50,55,60,65,70,75,80,85,90,95,100,105,110,115,120,125,130,2,7,12,17,22,27,32,37,42,47,52,57,62,67,72,77,82,87,92,97,102,107,112,117,122,127,132,4,9,14,19,24,29,34,39,44,49,54,59,64,69,74,79,84,89,94,99,104,109,114,119,124,129)"
      ]
     },
     "metadata": {},
     "output_type": "display_data"
    },
    {
     "data": {
      "text/html": [
       "<html><script type=\"math/tex; mode=display\">\\newcommand{\\Bold}[1]{\\mathbf{#1}}\\sigma^{6}= (1,7,13,19,25,31,37,43,49,55,61,67,73,79,85,91,97,103,109,115,121,127,133,6,12,18,24,30,36,42,48,54,60,66,72,78,84,90,96,102,108,114,120,126,132,5,11,17,23,29,35,41,47,53,59,65,71,77,83,89,95,101,107,113,119,125,131,4,10,16,22,28,34,40,46,52,58,64,70,76,82,88,94,100,106,112,118,124,130,3,9,15,21,27,33,39,45,51,57,63,69,75,81,87,93,99,105,111,117,123,129,2,8,14,20,26,32,38,44,50,56,62,68,74,80,86,92,98,104,110,116,122,128)</script></html>"
      ],
      "text/latex": [
       "$$\\newcommand{\\Bold}[1]{\\mathbf{#1}}\\sigma^{6}= (1,7,13,19,25,31,37,43,49,55,61,67,73,79,85,91,97,103,109,115,121,127,133,6,12,18,24,30,36,42,48,54,60,66,72,78,84,90,96,102,108,114,120,126,132,5,11,17,23,29,35,41,47,53,59,65,71,77,83,89,95,101,107,113,119,125,131,4,10,16,22,28,34,40,46,52,58,64,70,76,82,88,94,100,106,112,118,124,130,3,9,15,21,27,33,39,45,51,57,63,69,75,81,87,93,99,105,111,117,123,129,2,8,14,20,26,32,38,44,50,56,62,68,74,80,86,92,98,104,110,116,122,128)$$"
      ],
      "text/plain": [
       "\\sigma^{6}= (1,7,13,19,25,31,37,43,49,55,61,67,73,79,85,91,97,103,109,115,121,127,133,6,12,18,24,30,36,42,48,54,60,66,72,78,84,90,96,102,108,114,120,126,132,5,11,17,23,29,35,41,47,53,59,65,71,77,83,89,95,101,107,113,119,125,131,4,10,16,22,28,34,40,46,52,58,64,70,76,82,88,94,100,106,112,118,124,130,3,9,15,21,27,33,39,45,51,57,63,69,75,81,87,93,99,105,111,117,123,129,2,8,14,20,26,32,38,44,50,56,62,68,74,80,86,92,98,104,110,116,122,128)"
      ]
     },
     "metadata": {},
     "output_type": "display_data"
    },
    {
     "data": {
      "text/html": [
       "<html><script type=\"math/tex; mode=display\">\\newcommand{\\Bold}[1]{\\mathbf{#1}}\\sigma^{7}= (1,8,15,22,29,36,43,50,57,64,71,78,85,92,99,106,113,120,127)(2,9,16,23,30,37,44,51,58,65,72,79,86,93,100,107,114,121,128)(3,10,17,24,31,38,45,52,59,66,73,80,87,94,101,108,115,122,129)(4,11,18,25,32,39,46,53,60,67,74,81,88,95,102,109,116,123,130)(5,12,19,26,33,40,47,54,61,68,75,82,89,96,103,110,117,124,131)(6,13,20,27,34,41,48,55,62,69,76,83,90,97,104,111,118,125,132)(7,14,21,28,35,42,49,56,63,70,77,84,91,98,105,112,119,126,133)</script></html>"
      ],
      "text/latex": [
       "$$\\newcommand{\\Bold}[1]{\\mathbf{#1}}\\sigma^{7}= (1,8,15,22,29,36,43,50,57,64,71,78,85,92,99,106,113,120,127)(2,9,16,23,30,37,44,51,58,65,72,79,86,93,100,107,114,121,128)(3,10,17,24,31,38,45,52,59,66,73,80,87,94,101,108,115,122,129)(4,11,18,25,32,39,46,53,60,67,74,81,88,95,102,109,116,123,130)(5,12,19,26,33,40,47,54,61,68,75,82,89,96,103,110,117,124,131)(6,13,20,27,34,41,48,55,62,69,76,83,90,97,104,111,118,125,132)(7,14,21,28,35,42,49,56,63,70,77,84,91,98,105,112,119,126,133)$$"
      ],
      "text/plain": [
       "\\sigma^{7}= (1,8,15,22,29,36,43,50,57,64,71,78,85,92,99,106,113,120,127)(2,9,16,23,30,37,44,51,58,65,72,79,86,93,100,107,114,121,128)(3,10,17,24,31,38,45,52,59,66,73,80,87,94,101,108,115,122,129)(4,11,18,25,32,39,46,53,60,67,74,81,88,95,102,109,116,123,130)(5,12,19,26,33,40,47,54,61,68,75,82,89,96,103,110,117,124,131)(6,13,20,27,34,41,48,55,62,69,76,83,90,97,104,111,118,125,132)(7,14,21,28,35,42,49,56,63,70,77,84,91,98,105,112,119,126,133)"
      ]
     },
     "metadata": {},
     "output_type": "display_data"
    },
    {
     "data": {
      "text/html": [
       "<html><script type=\"math/tex; mode=display\">\\newcommand{\\Bold}[1]{\\mathbf{#1}}\\sigma^{8}= (1,9,17,25,33,41,49,57,65,73,81,89,97,105,113,121,129,4,12,20,28,36,44,52,60,68,76,84,92,100,108,116,124,132,7,15,23,31,39,47,55,63,71,79,87,95,103,111,119,127,2,10,18,26,34,42,50,58,66,74,82,90,98,106,114,122,130,5,13,21,29,37,45,53,61,69,77,85,93,101,109,117,125,133,8,16,24,32,40,48,56,64,72,80,88,96,104,112,120,128,3,11,19,27,35,43,51,59,67,75,83,91,99,107,115,123,131,6,14,22,30,38,46,54,62,70,78,86,94,102,110,118,126)</script></html>"
      ],
      "text/latex": [
       "$$\\newcommand{\\Bold}[1]{\\mathbf{#1}}\\sigma^{8}= (1,9,17,25,33,41,49,57,65,73,81,89,97,105,113,121,129,4,12,20,28,36,44,52,60,68,76,84,92,100,108,116,124,132,7,15,23,31,39,47,55,63,71,79,87,95,103,111,119,127,2,10,18,26,34,42,50,58,66,74,82,90,98,106,114,122,130,5,13,21,29,37,45,53,61,69,77,85,93,101,109,117,125,133,8,16,24,32,40,48,56,64,72,80,88,96,104,112,120,128,3,11,19,27,35,43,51,59,67,75,83,91,99,107,115,123,131,6,14,22,30,38,46,54,62,70,78,86,94,102,110,118,126)$$"
      ],
      "text/plain": [
       "\\sigma^{8}= (1,9,17,25,33,41,49,57,65,73,81,89,97,105,113,121,129,4,12,20,28,36,44,52,60,68,76,84,92,100,108,116,124,132,7,15,23,31,39,47,55,63,71,79,87,95,103,111,119,127,2,10,18,26,34,42,50,58,66,74,82,90,98,106,114,122,130,5,13,21,29,37,45,53,61,69,77,85,93,101,109,117,125,133,8,16,24,32,40,48,56,64,72,80,88,96,104,112,120,128,3,11,19,27,35,43,51,59,67,75,83,91,99,107,115,123,131,6,14,22,30,38,46,54,62,70,78,86,94,102,110,118,126)"
      ]
     },
     "metadata": {},
     "output_type": "display_data"
    },
    {
     "data": {
      "text/html": [
       "<html><script type=\"math/tex; mode=display\">\\newcommand{\\Bold}[1]{\\mathbf{#1}}\\sigma^{9}= (1,10,19,28,37,46,55,64,73,82,91,100,109,118,127,3,12,21,30,39,48,57,66,75,84,93,102,111,120,129,5,14,23,32,41,50,59,68,77,86,95,104,113,122,131,7,16,25,34,43,52,61,70,79,88,97,106,115,124,133,9,18,27,36,45,54,63,72,81,90,99,108,117,126,2,11,20,29,38,47,56,65,74,83,92,101,110,119,128,4,13,22,31,40,49,58,67,76,85,94,103,112,121,130,6,15,24,33,42,51,60,69,78,87,96,105,114,123,132,8,17,26,35,44,53,62,71,80,89,98,107,116,125)</script></html>"
      ],
      "text/latex": [
       "$$\\newcommand{\\Bold}[1]{\\mathbf{#1}}\\sigma^{9}= (1,10,19,28,37,46,55,64,73,82,91,100,109,118,127,3,12,21,30,39,48,57,66,75,84,93,102,111,120,129,5,14,23,32,41,50,59,68,77,86,95,104,113,122,131,7,16,25,34,43,52,61,70,79,88,97,106,115,124,133,9,18,27,36,45,54,63,72,81,90,99,108,117,126,2,11,20,29,38,47,56,65,74,83,92,101,110,119,128,4,13,22,31,40,49,58,67,76,85,94,103,112,121,130,6,15,24,33,42,51,60,69,78,87,96,105,114,123,132,8,17,26,35,44,53,62,71,80,89,98,107,116,125)$$"
      ],
      "text/plain": [
       "\\sigma^{9}= (1,10,19,28,37,46,55,64,73,82,91,100,109,118,127,3,12,21,30,39,48,57,66,75,84,93,102,111,120,129,5,14,23,32,41,50,59,68,77,86,95,104,113,122,131,7,16,25,34,43,52,61,70,79,88,97,106,115,124,133,9,18,27,36,45,54,63,72,81,90,99,108,117,126,2,11,20,29,38,47,56,65,74,83,92,101,110,119,128,4,13,22,31,40,49,58,67,76,85,94,103,112,121,130,6,15,24,33,42,51,60,69,78,87,96,105,114,123,132,8,17,26,35,44,53,62,71,80,89,98,107,116,125)"
      ]
     },
     "metadata": {},
     "output_type": "display_data"
    },
    {
     "data": {
      "text/html": [
       "<html><script type=\"math/tex; mode=display\">\\newcommand{\\Bold}[1]{\\mathbf{#1}}\\sigma^{10}= (1,11,21,31,41,51,61,71,81,91,101,111,121,131,8,18,28,38,48,58,68,78,88,98,108,118,128,5,15,25,35,45,55,65,75,85,95,105,115,125,2,12,22,32,42,52,62,72,82,92,102,112,122,132,9,19,29,39,49,59,69,79,89,99,109,119,129,6,16,26,36,46,56,66,76,86,96,106,116,126,3,13,23,33,43,53,63,73,83,93,103,113,123,133,10,20,30,40,50,60,70,80,90,100,110,120,130,7,17,27,37,47,57,67,77,87,97,107,117,127,4,14,24,34,44,54,64,74,84,94,104,114,124)</script></html>"
      ],
      "text/latex": [
       "$$\\newcommand{\\Bold}[1]{\\mathbf{#1}}\\sigma^{10}= (1,11,21,31,41,51,61,71,81,91,101,111,121,131,8,18,28,38,48,58,68,78,88,98,108,118,128,5,15,25,35,45,55,65,75,85,95,105,115,125,2,12,22,32,42,52,62,72,82,92,102,112,122,132,9,19,29,39,49,59,69,79,89,99,109,119,129,6,16,26,36,46,56,66,76,86,96,106,116,126,3,13,23,33,43,53,63,73,83,93,103,113,123,133,10,20,30,40,50,60,70,80,90,100,110,120,130,7,17,27,37,47,57,67,77,87,97,107,117,127,4,14,24,34,44,54,64,74,84,94,104,114,124)$$"
      ],
      "text/plain": [
       "\\sigma^{10}= (1,11,21,31,41,51,61,71,81,91,101,111,121,131,8,18,28,38,48,58,68,78,88,98,108,118,128,5,15,25,35,45,55,65,75,85,95,105,115,125,2,12,22,32,42,52,62,72,82,92,102,112,122,132,9,19,29,39,49,59,69,79,89,99,109,119,129,6,16,26,36,46,56,66,76,86,96,106,116,126,3,13,23,33,43,53,63,73,83,93,103,113,123,133,10,20,30,40,50,60,70,80,90,100,110,120,130,7,17,27,37,47,57,67,77,87,97,107,117,127,4,14,24,34,44,54,64,74,84,94,104,114,124)"
      ]
     },
     "metadata": {},
     "output_type": "display_data"
    },
    {
     "data": {
      "text/html": [
       "<html><script type=\"math/tex; mode=display\">\\newcommand{\\Bold}[1]{\\mathbf{#1}}\\sigma^{11}= (1,12,23,34,45,56,67,78,89,100,111,122,133,11,22,33,44,55,66,77,88,99,110,121,132,10,21,32,43,54,65,76,87,98,109,120,131,9,20,31,42,53,64,75,86,97,108,119,130,8,19,30,41,52,63,74,85,96,107,118,129,7,18,29,40,51,62,73,84,95,106,117,128,6,17,28,39,50,61,72,83,94,105,116,127,5,16,27,38,49,60,71,82,93,104,115,126,4,15,26,37,48,59,70,81,92,103,114,125,3,14,25,36,47,58,69,80,91,102,113,124,2,13,24,35,46,57,68,79,90,101,112,123)</script></html>"
      ],
      "text/latex": [
       "$$\\newcommand{\\Bold}[1]{\\mathbf{#1}}\\sigma^{11}= (1,12,23,34,45,56,67,78,89,100,111,122,133,11,22,33,44,55,66,77,88,99,110,121,132,10,21,32,43,54,65,76,87,98,109,120,131,9,20,31,42,53,64,75,86,97,108,119,130,8,19,30,41,52,63,74,85,96,107,118,129,7,18,29,40,51,62,73,84,95,106,117,128,6,17,28,39,50,61,72,83,94,105,116,127,5,16,27,38,49,60,71,82,93,104,115,126,4,15,26,37,48,59,70,81,92,103,114,125,3,14,25,36,47,58,69,80,91,102,113,124,2,13,24,35,46,57,68,79,90,101,112,123)$$"
      ],
      "text/plain": [
       "\\sigma^{11}= (1,12,23,34,45,56,67,78,89,100,111,122,133,11,22,33,44,55,66,77,88,99,110,121,132,10,21,32,43,54,65,76,87,98,109,120,131,9,20,31,42,53,64,75,86,97,108,119,130,8,19,30,41,52,63,74,85,96,107,118,129,7,18,29,40,51,62,73,84,95,106,117,128,6,17,28,39,50,61,72,83,94,105,116,127,5,16,27,38,49,60,71,82,93,104,115,126,4,15,26,37,48,59,70,81,92,103,114,125,3,14,25,36,47,58,69,80,91,102,113,124,2,13,24,35,46,57,68,79,90,101,112,123)"
      ]
     },
     "metadata": {},
     "output_type": "display_data"
    },
    {
     "data": {
      "text/html": [
       "<html><script type=\"math/tex; mode=display\">\\newcommand{\\Bold}[1]{\\mathbf{#1}}\\sigma^{12}= (1,13,25,37,49,61,73,85,97,109,121,133,12,24,36,48,60,72,84,96,108,120,132,11,23,35,47,59,71,83,95,107,119,131,10,22,34,46,58,70,82,94,106,118,130,9,21,33,45,57,69,81,93,105,117,129,8,20,32,44,56,68,80,92,104,116,128,7,19,31,43,55,67,79,91,103,115,127,6,18,30,42,54,66,78,90,102,114,126,5,17,29,41,53,65,77,89,101,113,125,4,16,28,40,52,64,76,88,100,112,124,3,15,27,39,51,63,75,87,99,111,123,2,14,26,38,50,62,74,86,98,110,122)</script></html>"
      ],
      "text/latex": [
       "$$\\newcommand{\\Bold}[1]{\\mathbf{#1}}\\sigma^{12}= (1,13,25,37,49,61,73,85,97,109,121,133,12,24,36,48,60,72,84,96,108,120,132,11,23,35,47,59,71,83,95,107,119,131,10,22,34,46,58,70,82,94,106,118,130,9,21,33,45,57,69,81,93,105,117,129,8,20,32,44,56,68,80,92,104,116,128,7,19,31,43,55,67,79,91,103,115,127,6,18,30,42,54,66,78,90,102,114,126,5,17,29,41,53,65,77,89,101,113,125,4,16,28,40,52,64,76,88,100,112,124,3,15,27,39,51,63,75,87,99,111,123,2,14,26,38,50,62,74,86,98,110,122)$$"
      ],
      "text/plain": [
       "\\sigma^{12}= (1,13,25,37,49,61,73,85,97,109,121,133,12,24,36,48,60,72,84,96,108,120,132,11,23,35,47,59,71,83,95,107,119,131,10,22,34,46,58,70,82,94,106,118,130,9,21,33,45,57,69,81,93,105,117,129,8,20,32,44,56,68,80,92,104,116,128,7,19,31,43,55,67,79,91,103,115,127,6,18,30,42,54,66,78,90,102,114,126,5,17,29,41,53,65,77,89,101,113,125,4,16,28,40,52,64,76,88,100,112,124,3,15,27,39,51,63,75,87,99,111,123,2,14,26,38,50,62,74,86,98,110,122)"
      ]
     },
     "metadata": {},
     "output_type": "display_data"
    },
    {
     "data": {
      "text/html": [
       "<html><script type=\"math/tex; mode=display\">\\newcommand{\\Bold}[1]{\\mathbf{#1}}\\sigma^{13}= (1,14,27,40,53,66,79,92,105,118,131,11,24,37,50,63,76,89,102,115,128,8,21,34,47,60,73,86,99,112,125,5,18,31,44,57,70,83,96,109,122,2,15,28,41,54,67,80,93,106,119,132,12,25,38,51,64,77,90,103,116,129,9,22,35,48,61,74,87,100,113,126,6,19,32,45,58,71,84,97,110,123,3,16,29,42,55,68,81,94,107,120,133,13,26,39,52,65,78,91,104,117,130,10,23,36,49,62,75,88,101,114,127,7,20,33,46,59,72,85,98,111,124,4,17,30,43,56,69,82,95,108,121)</script></html>"
      ],
      "text/latex": [
       "$$\\newcommand{\\Bold}[1]{\\mathbf{#1}}\\sigma^{13}= (1,14,27,40,53,66,79,92,105,118,131,11,24,37,50,63,76,89,102,115,128,8,21,34,47,60,73,86,99,112,125,5,18,31,44,57,70,83,96,109,122,2,15,28,41,54,67,80,93,106,119,132,12,25,38,51,64,77,90,103,116,129,9,22,35,48,61,74,87,100,113,126,6,19,32,45,58,71,84,97,110,123,3,16,29,42,55,68,81,94,107,120,133,13,26,39,52,65,78,91,104,117,130,10,23,36,49,62,75,88,101,114,127,7,20,33,46,59,72,85,98,111,124,4,17,30,43,56,69,82,95,108,121)$$"
      ],
      "text/plain": [
       "\\sigma^{13}= (1,14,27,40,53,66,79,92,105,118,131,11,24,37,50,63,76,89,102,115,128,8,21,34,47,60,73,86,99,112,125,5,18,31,44,57,70,83,96,109,122,2,15,28,41,54,67,80,93,106,119,132,12,25,38,51,64,77,90,103,116,129,9,22,35,48,61,74,87,100,113,126,6,19,32,45,58,71,84,97,110,123,3,16,29,42,55,68,81,94,107,120,133,13,26,39,52,65,78,91,104,117,130,10,23,36,49,62,75,88,101,114,127,7,20,33,46,59,72,85,98,111,124,4,17,30,43,56,69,82,95,108,121)"
      ]
     },
     "metadata": {},
     "output_type": "display_data"
    },
    {
     "data": {
      "text/html": [
       "<html><script type=\"math/tex; mode=display\">\\newcommand{\\Bold}[1]{\\mathbf{#1}}\\sigma^{14}= (1,15,29,43,57,71,85,99,113,127,8,22,36,50,64,78,92,106,120)(2,16,30,44,58,72,86,100,114,128,9,23,37,51,65,79,93,107,121)(3,17,31,45,59,73,87,101,115,129,10,24,38,52,66,80,94,108,122)(4,18,32,46,60,74,88,102,116,130,11,25,39,53,67,81,95,109,123)(5,19,33,47,61,75,89,103,117,131,12,26,40,54,68,82,96,110,124)(6,20,34,48,62,76,90,104,118,132,13,27,41,55,69,83,97,111,125)(7,21,35,49,63,77,91,105,119,133,14,28,42,56,70,84,98,112,126)</script></html>"
      ],
      "text/latex": [
       "$$\\newcommand{\\Bold}[1]{\\mathbf{#1}}\\sigma^{14}= (1,15,29,43,57,71,85,99,113,127,8,22,36,50,64,78,92,106,120)(2,16,30,44,58,72,86,100,114,128,9,23,37,51,65,79,93,107,121)(3,17,31,45,59,73,87,101,115,129,10,24,38,52,66,80,94,108,122)(4,18,32,46,60,74,88,102,116,130,11,25,39,53,67,81,95,109,123)(5,19,33,47,61,75,89,103,117,131,12,26,40,54,68,82,96,110,124)(6,20,34,48,62,76,90,104,118,132,13,27,41,55,69,83,97,111,125)(7,21,35,49,63,77,91,105,119,133,14,28,42,56,70,84,98,112,126)$$"
      ],
      "text/plain": [
       "\\sigma^{14}= (1,15,29,43,57,71,85,99,113,127,8,22,36,50,64,78,92,106,120)(2,16,30,44,58,72,86,100,114,128,9,23,37,51,65,79,93,107,121)(3,17,31,45,59,73,87,101,115,129,10,24,38,52,66,80,94,108,122)(4,18,32,46,60,74,88,102,116,130,11,25,39,53,67,81,95,109,123)(5,19,33,47,61,75,89,103,117,131,12,26,40,54,68,82,96,110,124)(6,20,34,48,62,76,90,104,118,132,13,27,41,55,69,83,97,111,125)(7,21,35,49,63,77,91,105,119,133,14,28,42,56,70,84,98,112,126)"
      ]
     },
     "metadata": {},
     "output_type": "display_data"
    },
    {
     "data": {
      "text/html": [
       "<html><script type=\"math/tex; mode=display\">\\newcommand{\\Bold}[1]{\\mathbf{#1}}\\sigma^{15}= (1,16,31,46,61,76,91,106,121,3,18,33,48,63,78,93,108,123,5,20,35,50,65,80,95,110,125,7,22,37,52,67,82,97,112,127,9,24,39,54,69,84,99,114,129,11,26,41,56,71,86,101,116,131,13,28,43,58,73,88,103,118,133,15,30,45,60,75,90,105,120,2,17,32,47,62,77,92,107,122,4,19,34,49,64,79,94,109,124,6,21,36,51,66,81,96,111,126,8,23,38,53,68,83,98,113,128,10,25,40,55,70,85,100,115,130,12,27,42,57,72,87,102,117,132,14,29,44,59,74,89,104,119)</script></html>"
      ],
      "text/latex": [
       "$$\\newcommand{\\Bold}[1]{\\mathbf{#1}}\\sigma^{15}= (1,16,31,46,61,76,91,106,121,3,18,33,48,63,78,93,108,123,5,20,35,50,65,80,95,110,125,7,22,37,52,67,82,97,112,127,9,24,39,54,69,84,99,114,129,11,26,41,56,71,86,101,116,131,13,28,43,58,73,88,103,118,133,15,30,45,60,75,90,105,120,2,17,32,47,62,77,92,107,122,4,19,34,49,64,79,94,109,124,6,21,36,51,66,81,96,111,126,8,23,38,53,68,83,98,113,128,10,25,40,55,70,85,100,115,130,12,27,42,57,72,87,102,117,132,14,29,44,59,74,89,104,119)$$"
      ],
      "text/plain": [
       "\\sigma^{15}= (1,16,31,46,61,76,91,106,121,3,18,33,48,63,78,93,108,123,5,20,35,50,65,80,95,110,125,7,22,37,52,67,82,97,112,127,9,24,39,54,69,84,99,114,129,11,26,41,56,71,86,101,116,131,13,28,43,58,73,88,103,118,133,15,30,45,60,75,90,105,120,2,17,32,47,62,77,92,107,122,4,19,34,49,64,79,94,109,124,6,21,36,51,66,81,96,111,126,8,23,38,53,68,83,98,113,128,10,25,40,55,70,85,100,115,130,12,27,42,57,72,87,102,117,132,14,29,44,59,74,89,104,119)"
      ]
     },
     "metadata": {},
     "output_type": "display_data"
    },
    {
     "data": {
      "text/html": [
       "<html><script type=\"math/tex; mode=display\">\\newcommand{\\Bold}[1]{\\mathbf{#1}}\\sigma^{16}= (1,17,33,49,65,81,97,113,129,12,28,44,60,76,92,108,124,7,23,39,55,71,87,103,119,2,18,34,50,66,82,98,114,130,13,29,45,61,77,93,109,125,8,24,40,56,72,88,104,120,3,19,35,51,67,83,99,115,131,14,30,46,62,78,94,110,126,9,25,41,57,73,89,105,121,4,20,36,52,68,84,100,116,132,15,31,47,63,79,95,111,127,10,26,42,58,74,90,106,122,5,21,37,53,69,85,101,117,133,16,32,48,64,80,96,112,128,11,27,43,59,75,91,107,123,6,22,38,54,70,86,102,118)</script></html>"
      ],
      "text/latex": [
       "$$\\newcommand{\\Bold}[1]{\\mathbf{#1}}\\sigma^{16}= (1,17,33,49,65,81,97,113,129,12,28,44,60,76,92,108,124,7,23,39,55,71,87,103,119,2,18,34,50,66,82,98,114,130,13,29,45,61,77,93,109,125,8,24,40,56,72,88,104,120,3,19,35,51,67,83,99,115,131,14,30,46,62,78,94,110,126,9,25,41,57,73,89,105,121,4,20,36,52,68,84,100,116,132,15,31,47,63,79,95,111,127,10,26,42,58,74,90,106,122,5,21,37,53,69,85,101,117,133,16,32,48,64,80,96,112,128,11,27,43,59,75,91,107,123,6,22,38,54,70,86,102,118)$$"
      ],
      "text/plain": [
       "\\sigma^{16}= (1,17,33,49,65,81,97,113,129,12,28,44,60,76,92,108,124,7,23,39,55,71,87,103,119,2,18,34,50,66,82,98,114,130,13,29,45,61,77,93,109,125,8,24,40,56,72,88,104,120,3,19,35,51,67,83,99,115,131,14,30,46,62,78,94,110,126,9,25,41,57,73,89,105,121,4,20,36,52,68,84,100,116,132,15,31,47,63,79,95,111,127,10,26,42,58,74,90,106,122,5,21,37,53,69,85,101,117,133,16,32,48,64,80,96,112,128,11,27,43,59,75,91,107,123,6,22,38,54,70,86,102,118)"
      ]
     },
     "metadata": {},
     "output_type": "display_data"
    },
    {
     "data": {
      "text/html": [
       "<html><script type=\"math/tex; mode=display\">\\newcommand{\\Bold}[1]{\\mathbf{#1}}\\sigma^{17}= (1,18,35,52,69,86,103,120,4,21,38,55,72,89,106,123,7,24,41,58,75,92,109,126,10,27,44,61,78,95,112,129,13,30,47,64,81,98,115,132,16,33,50,67,84,101,118,2,19,36,53,70,87,104,121,5,22,39,56,73,90,107,124,8,25,42,59,76,93,110,127,11,28,45,62,79,96,113,130,14,31,48,65,82,99,116,133,17,34,51,68,85,102,119,3,20,37,54,71,88,105,122,6,23,40,57,74,91,108,125,9,26,43,60,77,94,111,128,12,29,46,63,80,97,114,131,15,32,49,66,83,100,117)</script></html>"
      ],
      "text/latex": [
       "$$\\newcommand{\\Bold}[1]{\\mathbf{#1}}\\sigma^{17}= (1,18,35,52,69,86,103,120,4,21,38,55,72,89,106,123,7,24,41,58,75,92,109,126,10,27,44,61,78,95,112,129,13,30,47,64,81,98,115,132,16,33,50,67,84,101,118,2,19,36,53,70,87,104,121,5,22,39,56,73,90,107,124,8,25,42,59,76,93,110,127,11,28,45,62,79,96,113,130,14,31,48,65,82,99,116,133,17,34,51,68,85,102,119,3,20,37,54,71,88,105,122,6,23,40,57,74,91,108,125,9,26,43,60,77,94,111,128,12,29,46,63,80,97,114,131,15,32,49,66,83,100,117)$$"
      ],
      "text/plain": [
       "\\sigma^{17}= (1,18,35,52,69,86,103,120,4,21,38,55,72,89,106,123,7,24,41,58,75,92,109,126,10,27,44,61,78,95,112,129,13,30,47,64,81,98,115,132,16,33,50,67,84,101,118,2,19,36,53,70,87,104,121,5,22,39,56,73,90,107,124,8,25,42,59,76,93,110,127,11,28,45,62,79,96,113,130,14,31,48,65,82,99,116,133,17,34,51,68,85,102,119,3,20,37,54,71,88,105,122,6,23,40,57,74,91,108,125,9,26,43,60,77,94,111,128,12,29,46,63,80,97,114,131,15,32,49,66,83,100,117)"
      ]
     },
     "metadata": {},
     "output_type": "display_data"
    },
    {
     "data": {
      "text/html": [
       "<html><script type=\"math/tex; mode=display\">\\newcommand{\\Bold}[1]{\\mathbf{#1}}\\sigma^{18}= (1,19,37,55,73,91,109,127,12,30,48,66,84,102,120,5,23,41,59,77,95,113,131,16,34,52,70,88,106,124,9,27,45,63,81,99,117,2,20,38,56,74,92,110,128,13,31,49,67,85,103,121,6,24,42,60,78,96,114,132,17,35,53,71,89,107,125,10,28,46,64,82,100,118,3,21,39,57,75,93,111,129,14,32,50,68,86,104,122,7,25,43,61,79,97,115,133,18,36,54,72,90,108,126,11,29,47,65,83,101,119,4,22,40,58,76,94,112,130,15,33,51,69,87,105,123,8,26,44,62,80,98,116)</script></html>"
      ],
      "text/latex": [
       "$$\\newcommand{\\Bold}[1]{\\mathbf{#1}}\\sigma^{18}= (1,19,37,55,73,91,109,127,12,30,48,66,84,102,120,5,23,41,59,77,95,113,131,16,34,52,70,88,106,124,9,27,45,63,81,99,117,2,20,38,56,74,92,110,128,13,31,49,67,85,103,121,6,24,42,60,78,96,114,132,17,35,53,71,89,107,125,10,28,46,64,82,100,118,3,21,39,57,75,93,111,129,14,32,50,68,86,104,122,7,25,43,61,79,97,115,133,18,36,54,72,90,108,126,11,29,47,65,83,101,119,4,22,40,58,76,94,112,130,15,33,51,69,87,105,123,8,26,44,62,80,98,116)$$"
      ],
      "text/plain": [
       "\\sigma^{18}= (1,19,37,55,73,91,109,127,12,30,48,66,84,102,120,5,23,41,59,77,95,113,131,16,34,52,70,88,106,124,9,27,45,63,81,99,117,2,20,38,56,74,92,110,128,13,31,49,67,85,103,121,6,24,42,60,78,96,114,132,17,35,53,71,89,107,125,10,28,46,64,82,100,118,3,21,39,57,75,93,111,129,14,32,50,68,86,104,122,7,25,43,61,79,97,115,133,18,36,54,72,90,108,126,11,29,47,65,83,101,119,4,22,40,58,76,94,112,130,15,33,51,69,87,105,123,8,26,44,62,80,98,116)"
      ]
     },
     "metadata": {},
     "output_type": "display_data"
    },
    {
     "data": {
      "text/html": [
       "<html><script type=\"math/tex; mode=display\">\\newcommand{\\Bold}[1]{\\mathbf{#1}}\\sigma^{19}= (1,20,39,58,77,96,115)(2,21,40,59,78,97,116)(3,22,41,60,79,98,117)(4,23,42,61,80,99,118)(5,24,43,62,81,100,119)(6,25,44,63,82,101,120)(7,26,45,64,83,102,121)(8,27,46,65,84,103,122)(9,28,47,66,85,104,123)(10,29,48,67,86,105,124)(11,30,49,68,87,106,125)(12,31,50,69,88,107,126)(13,32,51,70,89,108,127)(14,33,52,71,90,109,128)(15,34,53,72,91,110,129)(16,35,54,73,92,111,130)(17,36,55,74,93,112,131)(18,37,56,75,94,113,132)(19,38,57,76,95,114,133)</script></html>"
      ],
      "text/latex": [
       "$$\\newcommand{\\Bold}[1]{\\mathbf{#1}}\\sigma^{19}= (1,20,39,58,77,96,115)(2,21,40,59,78,97,116)(3,22,41,60,79,98,117)(4,23,42,61,80,99,118)(5,24,43,62,81,100,119)(6,25,44,63,82,101,120)(7,26,45,64,83,102,121)(8,27,46,65,84,103,122)(9,28,47,66,85,104,123)(10,29,48,67,86,105,124)(11,30,49,68,87,106,125)(12,31,50,69,88,107,126)(13,32,51,70,89,108,127)(14,33,52,71,90,109,128)(15,34,53,72,91,110,129)(16,35,54,73,92,111,130)(17,36,55,74,93,112,131)(18,37,56,75,94,113,132)(19,38,57,76,95,114,133)$$"
      ],
      "text/plain": [
       "\\sigma^{19}= (1,20,39,58,77,96,115)(2,21,40,59,78,97,116)(3,22,41,60,79,98,117)(4,23,42,61,80,99,118)(5,24,43,62,81,100,119)(6,25,44,63,82,101,120)(7,26,45,64,83,102,121)(8,27,46,65,84,103,122)(9,28,47,66,85,104,123)(10,29,48,67,86,105,124)(11,30,49,68,87,106,125)(12,31,50,69,88,107,126)(13,32,51,70,89,108,127)(14,33,52,71,90,109,128)(15,34,53,72,91,110,129)(16,35,54,73,92,111,130)(17,36,55,74,93,112,131)(18,37,56,75,94,113,132)(19,38,57,76,95,114,133)"
      ]
     },
     "metadata": {},
     "output_type": "display_data"
    },
    {
     "data": {
      "text/html": [
       "<html><script type=\"math/tex; mode=display\">\\newcommand{\\Bold}[1]{\\mathbf{#1}}\\sigma^{20}= (1,21,41,61,81,101,121,8,28,48,68,88,108,128,15,35,55,75,95,115,2,22,42,62,82,102,122,9,29,49,69,89,109,129,16,36,56,76,96,116,3,23,43,63,83,103,123,10,30,50,70,90,110,130,17,37,57,77,97,117,4,24,44,64,84,104,124,11,31,51,71,91,111,131,18,38,58,78,98,118,5,25,45,65,85,105,125,12,32,52,72,92,112,132,19,39,59,79,99,119,6,26,46,66,86,106,126,13,33,53,73,93,113,133,20,40,60,80,100,120,7,27,47,67,87,107,127,14,34,54,74,94,114)</script></html>"
      ],
      "text/latex": [
       "$$\\newcommand{\\Bold}[1]{\\mathbf{#1}}\\sigma^{20}= (1,21,41,61,81,101,121,8,28,48,68,88,108,128,15,35,55,75,95,115,2,22,42,62,82,102,122,9,29,49,69,89,109,129,16,36,56,76,96,116,3,23,43,63,83,103,123,10,30,50,70,90,110,130,17,37,57,77,97,117,4,24,44,64,84,104,124,11,31,51,71,91,111,131,18,38,58,78,98,118,5,25,45,65,85,105,125,12,32,52,72,92,112,132,19,39,59,79,99,119,6,26,46,66,86,106,126,13,33,53,73,93,113,133,20,40,60,80,100,120,7,27,47,67,87,107,127,14,34,54,74,94,114)$$"
      ],
      "text/plain": [
       "\\sigma^{20}= (1,21,41,61,81,101,121,8,28,48,68,88,108,128,15,35,55,75,95,115,2,22,42,62,82,102,122,9,29,49,69,89,109,129,16,36,56,76,96,116,3,23,43,63,83,103,123,10,30,50,70,90,110,130,17,37,57,77,97,117,4,24,44,64,84,104,124,11,31,51,71,91,111,131,18,38,58,78,98,118,5,25,45,65,85,105,125,12,32,52,72,92,112,132,19,39,59,79,99,119,6,26,46,66,86,106,126,13,33,53,73,93,113,133,20,40,60,80,100,120,7,27,47,67,87,107,127,14,34,54,74,94,114)"
      ]
     },
     "metadata": {},
     "output_type": "display_data"
    },
    {
     "data": {
      "text/html": [
       "<html><script type=\"math/tex; mode=display\">\\newcommand{\\Bold}[1]{\\mathbf{#1}}\\sigma^{21}= (1,22,43,64,85,106,127,15,36,57,78,99,120,8,29,50,71,92,113)(2,23,44,65,86,107,128,16,37,58,79,100,121,9,30,51,72,93,114)(3,24,45,66,87,108,129,17,38,59,80,101,122,10,31,52,73,94,115)(4,25,46,67,88,109,130,18,39,60,81,102,123,11,32,53,74,95,116)(5,26,47,68,89,110,131,19,40,61,82,103,124,12,33,54,75,96,117)(6,27,48,69,90,111,132,20,41,62,83,104,125,13,34,55,76,97,118)(7,28,49,70,91,112,133,21,42,63,84,105,126,14,35,56,77,98,119)</script></html>"
      ],
      "text/latex": [
       "$$\\newcommand{\\Bold}[1]{\\mathbf{#1}}\\sigma^{21}= (1,22,43,64,85,106,127,15,36,57,78,99,120,8,29,50,71,92,113)(2,23,44,65,86,107,128,16,37,58,79,100,121,9,30,51,72,93,114)(3,24,45,66,87,108,129,17,38,59,80,101,122,10,31,52,73,94,115)(4,25,46,67,88,109,130,18,39,60,81,102,123,11,32,53,74,95,116)(5,26,47,68,89,110,131,19,40,61,82,103,124,12,33,54,75,96,117)(6,27,48,69,90,111,132,20,41,62,83,104,125,13,34,55,76,97,118)(7,28,49,70,91,112,133,21,42,63,84,105,126,14,35,56,77,98,119)$$"
      ],
      "text/plain": [
       "\\sigma^{21}= (1,22,43,64,85,106,127,15,36,57,78,99,120,8,29,50,71,92,113)(2,23,44,65,86,107,128,16,37,58,79,100,121,9,30,51,72,93,114)(3,24,45,66,87,108,129,17,38,59,80,101,122,10,31,52,73,94,115)(4,25,46,67,88,109,130,18,39,60,81,102,123,11,32,53,74,95,116)(5,26,47,68,89,110,131,19,40,61,82,103,124,12,33,54,75,96,117)(6,27,48,69,90,111,132,20,41,62,83,104,125,13,34,55,76,97,118)(7,28,49,70,91,112,133,21,42,63,84,105,126,14,35,56,77,98,119)"
      ]
     },
     "metadata": {},
     "output_type": "display_data"
    },
    {
     "data": {
      "text/html": [
       "<html><script type=\"math/tex; mode=display\">\\newcommand{\\Bold}[1]{\\mathbf{#1}}\\sigma^{22}= (1,23,45,67,89,111,133,22,44,66,88,110,132,21,43,65,87,109,131,20,42,64,86,108,130,19,41,63,85,107,129,18,40,62,84,106,128,17,39,61,83,105,127,16,38,60,82,104,126,15,37,59,81,103,125,14,36,58,80,102,124,13,35,57,79,101,123,12,34,56,78,100,122,11,33,55,77,99,121,10,32,54,76,98,120,9,31,53,75,97,119,8,30,52,74,96,118,7,29,51,73,95,117,6,28,50,72,94,116,5,27,49,71,93,115,4,26,48,70,92,114,3,25,47,69,91,113,2,24,46,68,90,112)</script></html>"
      ],
      "text/latex": [
       "$$\\newcommand{\\Bold}[1]{\\mathbf{#1}}\\sigma^{22}= (1,23,45,67,89,111,133,22,44,66,88,110,132,21,43,65,87,109,131,20,42,64,86,108,130,19,41,63,85,107,129,18,40,62,84,106,128,17,39,61,83,105,127,16,38,60,82,104,126,15,37,59,81,103,125,14,36,58,80,102,124,13,35,57,79,101,123,12,34,56,78,100,122,11,33,55,77,99,121,10,32,54,76,98,120,9,31,53,75,97,119,8,30,52,74,96,118,7,29,51,73,95,117,6,28,50,72,94,116,5,27,49,71,93,115,4,26,48,70,92,114,3,25,47,69,91,113,2,24,46,68,90,112)$$"
      ],
      "text/plain": [
       "\\sigma^{22}= (1,23,45,67,89,111,133,22,44,66,88,110,132,21,43,65,87,109,131,20,42,64,86,108,130,19,41,63,85,107,129,18,40,62,84,106,128,17,39,61,83,105,127,16,38,60,82,104,126,15,37,59,81,103,125,14,36,58,80,102,124,13,35,57,79,101,123,12,34,56,78,100,122,11,33,55,77,99,121,10,32,54,76,98,120,9,31,53,75,97,119,8,30,52,74,96,118,7,29,51,73,95,117,6,28,50,72,94,116,5,27,49,71,93,115,4,26,48,70,92,114,3,25,47,69,91,113,2,24,46,68,90,112)"
      ]
     },
     "metadata": {},
     "output_type": "display_data"
    },
    {
     "data": {
      "text/html": [
       "<html><script type=\"math/tex; mode=display\">\\newcommand{\\Bold}[1]{\\mathbf{#1}}\\sigma^{23}= (1,24,47,70,93,116,6,29,52,75,98,121,11,34,57,80,103,126,16,39,62,85,108,131,21,44,67,90,113,3,26,49,72,95,118,8,31,54,77,100,123,13,36,59,82,105,128,18,41,64,87,110,133,23,46,69,92,115,5,28,51,74,97,120,10,33,56,79,102,125,15,38,61,84,107,130,20,43,66,89,112,2,25,48,71,94,117,7,30,53,76,99,122,12,35,58,81,104,127,17,40,63,86,109,132,22,45,68,91,114,4,27,50,73,96,119,9,32,55,78,101,124,14,37,60,83,106,129,19,42,65,88,111)</script></html>"
      ],
      "text/latex": [
       "$$\\newcommand{\\Bold}[1]{\\mathbf{#1}}\\sigma^{23}= (1,24,47,70,93,116,6,29,52,75,98,121,11,34,57,80,103,126,16,39,62,85,108,131,21,44,67,90,113,3,26,49,72,95,118,8,31,54,77,100,123,13,36,59,82,105,128,18,41,64,87,110,133,23,46,69,92,115,5,28,51,74,97,120,10,33,56,79,102,125,15,38,61,84,107,130,20,43,66,89,112,2,25,48,71,94,117,7,30,53,76,99,122,12,35,58,81,104,127,17,40,63,86,109,132,22,45,68,91,114,4,27,50,73,96,119,9,32,55,78,101,124,14,37,60,83,106,129,19,42,65,88,111)$$"
      ],
      "text/plain": [
       "\\sigma^{23}= (1,24,47,70,93,116,6,29,52,75,98,121,11,34,57,80,103,126,16,39,62,85,108,131,21,44,67,90,113,3,26,49,72,95,118,8,31,54,77,100,123,13,36,59,82,105,128,18,41,64,87,110,133,23,46,69,92,115,5,28,51,74,97,120,10,33,56,79,102,125,15,38,61,84,107,130,20,43,66,89,112,2,25,48,71,94,117,7,30,53,76,99,122,12,35,58,81,104,127,17,40,63,86,109,132,22,45,68,91,114,4,27,50,73,96,119,9,32,55,78,101,124,14,37,60,83,106,129,19,42,65,88,111)"
      ]
     },
     "metadata": {},
     "output_type": "display_data"
    },
    {
     "data": {
      "text/html": [
       "<html><script type=\"math/tex; mode=display\">\\newcommand{\\Bold}[1]{\\mathbf{#1}}\\sigma^{24}= (1,25,49,73,97,121,12,36,60,84,108,132,23,47,71,95,119,10,34,58,82,106,130,21,45,69,93,117,8,32,56,80,104,128,19,43,67,91,115,6,30,54,78,102,126,17,41,65,89,113,4,28,52,76,100,124,15,39,63,87,111,2,26,50,74,98,122,13,37,61,85,109,133,24,48,72,96,120,11,35,59,83,107,131,22,46,70,94,118,9,33,57,81,105,129,20,44,68,92,116,7,31,55,79,103,127,18,42,66,90,114,5,29,53,77,101,125,16,40,64,88,112,3,27,51,75,99,123,14,38,62,86,110)</script></html>"
      ],
      "text/latex": [
       "$$\\newcommand{\\Bold}[1]{\\mathbf{#1}}\\sigma^{24}= (1,25,49,73,97,121,12,36,60,84,108,132,23,47,71,95,119,10,34,58,82,106,130,21,45,69,93,117,8,32,56,80,104,128,19,43,67,91,115,6,30,54,78,102,126,17,41,65,89,113,4,28,52,76,100,124,15,39,63,87,111,2,26,50,74,98,122,13,37,61,85,109,133,24,48,72,96,120,11,35,59,83,107,131,22,46,70,94,118,9,33,57,81,105,129,20,44,68,92,116,7,31,55,79,103,127,18,42,66,90,114,5,29,53,77,101,125,16,40,64,88,112,3,27,51,75,99,123,14,38,62,86,110)$$"
      ],
      "text/plain": [
       "\\sigma^{24}= (1,25,49,73,97,121,12,36,60,84,108,132,23,47,71,95,119,10,34,58,82,106,130,21,45,69,93,117,8,32,56,80,104,128,19,43,67,91,115,6,30,54,78,102,126,17,41,65,89,113,4,28,52,76,100,124,15,39,63,87,111,2,26,50,74,98,122,13,37,61,85,109,133,24,48,72,96,120,11,35,59,83,107,131,22,46,70,94,118,9,33,57,81,105,129,20,44,68,92,116,7,31,55,79,103,127,18,42,66,90,114,5,29,53,77,101,125,16,40,64,88,112,3,27,51,75,99,123,14,38,62,86,110)"
      ]
     },
     "metadata": {},
     "output_type": "display_data"
    },
    {
     "data": {
      "text/html": [
       "<html><script type=\"math/tex; mode=display\">\\newcommand{\\Bold}[1]{\\mathbf{#1}}\\sigma^{25}= (1,26,51,76,101,126,18,43,68,93,118,10,35,60,85,110,2,27,52,77,102,127,19,44,69,94,119,11,36,61,86,111,3,28,53,78,103,128,20,45,70,95,120,12,37,62,87,112,4,29,54,79,104,129,21,46,71,96,121,13,38,63,88,113,5,30,55,80,105,130,22,47,72,97,122,14,39,64,89,114,6,31,56,81,106,131,23,48,73,98,123,15,40,65,90,115,7,32,57,82,107,132,24,49,74,99,124,16,41,66,91,116,8,33,58,83,108,133,25,50,75,100,125,17,42,67,92,117,9,34,59,84,109)</script></html>"
      ],
      "text/latex": [
       "$$\\newcommand{\\Bold}[1]{\\mathbf{#1}}\\sigma^{25}= (1,26,51,76,101,126,18,43,68,93,118,10,35,60,85,110,2,27,52,77,102,127,19,44,69,94,119,11,36,61,86,111,3,28,53,78,103,128,20,45,70,95,120,12,37,62,87,112,4,29,54,79,104,129,21,46,71,96,121,13,38,63,88,113,5,30,55,80,105,130,22,47,72,97,122,14,39,64,89,114,6,31,56,81,106,131,23,48,73,98,123,15,40,65,90,115,7,32,57,82,107,132,24,49,74,99,124,16,41,66,91,116,8,33,58,83,108,133,25,50,75,100,125,17,42,67,92,117,9,34,59,84,109)$$"
      ],
      "text/plain": [
       "\\sigma^{25}= (1,26,51,76,101,126,18,43,68,93,118,10,35,60,85,110,2,27,52,77,102,127,19,44,69,94,119,11,36,61,86,111,3,28,53,78,103,128,20,45,70,95,120,12,37,62,87,112,4,29,54,79,104,129,21,46,71,96,121,13,38,63,88,113,5,30,55,80,105,130,22,47,72,97,122,14,39,64,89,114,6,31,56,81,106,131,23,48,73,98,123,15,40,65,90,115,7,32,57,82,107,132,24,49,74,99,124,16,41,66,91,116,8,33,58,83,108,133,25,50,75,100,125,17,42,67,92,117,9,34,59,84,109)"
      ]
     },
     "metadata": {},
     "output_type": "display_data"
    },
    {
     "data": {
      "text/html": [
       "<html><script type=\"math/tex; mode=display\">\\newcommand{\\Bold}[1]{\\mathbf{#1}}\\sigma^{26}= (1,27,53,79,105,131,24,50,76,102,128,21,47,73,99,125,18,44,70,96,122,15,41,67,93,119,12,38,64,90,116,9,35,61,87,113,6,32,58,84,110,3,29,55,81,107,133,26,52,78,104,130,23,49,75,101,127,20,46,72,98,124,17,43,69,95,121,14,40,66,92,118,11,37,63,89,115,8,34,60,86,112,5,31,57,83,109,2,28,54,80,106,132,25,51,77,103,129,22,48,74,100,126,19,45,71,97,123,16,42,68,94,120,13,39,65,91,117,10,36,62,88,114,7,33,59,85,111,4,30,56,82,108)</script></html>"
      ],
      "text/latex": [
       "$$\\newcommand{\\Bold}[1]{\\mathbf{#1}}\\sigma^{26}= (1,27,53,79,105,131,24,50,76,102,128,21,47,73,99,125,18,44,70,96,122,15,41,67,93,119,12,38,64,90,116,9,35,61,87,113,6,32,58,84,110,3,29,55,81,107,133,26,52,78,104,130,23,49,75,101,127,20,46,72,98,124,17,43,69,95,121,14,40,66,92,118,11,37,63,89,115,8,34,60,86,112,5,31,57,83,109,2,28,54,80,106,132,25,51,77,103,129,22,48,74,100,126,19,45,71,97,123,16,42,68,94,120,13,39,65,91,117,10,36,62,88,114,7,33,59,85,111,4,30,56,82,108)$$"
      ],
      "text/plain": [
       "\\sigma^{26}= (1,27,53,79,105,131,24,50,76,102,128,21,47,73,99,125,18,44,70,96,122,15,41,67,93,119,12,38,64,90,116,9,35,61,87,113,6,32,58,84,110,3,29,55,81,107,133,26,52,78,104,130,23,49,75,101,127,20,46,72,98,124,17,43,69,95,121,14,40,66,92,118,11,37,63,89,115,8,34,60,86,112,5,31,57,83,109,2,28,54,80,106,132,25,51,77,103,129,22,48,74,100,126,19,45,71,97,123,16,42,68,94,120,13,39,65,91,117,10,36,62,88,114,7,33,59,85,111,4,30,56,82,108)"
      ]
     },
     "metadata": {},
     "output_type": "display_data"
    },
    {
     "data": {
      "text/html": [
       "<html><script type=\"math/tex; mode=display\">\\newcommand{\\Bold}[1]{\\mathbf{#1}}\\sigma^{27}= (1,28,55,82,109,3,30,57,84,111,5,32,59,86,113,7,34,61,88,115,9,36,63,90,117,11,38,65,92,119,13,40,67,94,121,15,42,69,96,123,17,44,71,98,125,19,46,73,100,127,21,48,75,102,129,23,50,77,104,131,25,52,79,106,133,27,54,81,108,2,29,56,83,110,4,31,58,85,112,6,33,60,87,114,8,35,62,89,116,10,37,64,91,118,12,39,66,93,120,14,41,68,95,122,16,43,70,97,124,18,45,72,99,126,20,47,74,101,128,22,49,76,103,130,24,51,78,105,132,26,53,80,107)</script></html>"
      ],
      "text/latex": [
       "$$\\newcommand{\\Bold}[1]{\\mathbf{#1}}\\sigma^{27}= (1,28,55,82,109,3,30,57,84,111,5,32,59,86,113,7,34,61,88,115,9,36,63,90,117,11,38,65,92,119,13,40,67,94,121,15,42,69,96,123,17,44,71,98,125,19,46,73,100,127,21,48,75,102,129,23,50,77,104,131,25,52,79,106,133,27,54,81,108,2,29,56,83,110,4,31,58,85,112,6,33,60,87,114,8,35,62,89,116,10,37,64,91,118,12,39,66,93,120,14,41,68,95,122,16,43,70,97,124,18,45,72,99,126,20,47,74,101,128,22,49,76,103,130,24,51,78,105,132,26,53,80,107)$$"
      ],
      "text/plain": [
       "\\sigma^{27}= (1,28,55,82,109,3,30,57,84,111,5,32,59,86,113,7,34,61,88,115,9,36,63,90,117,11,38,65,92,119,13,40,67,94,121,15,42,69,96,123,17,44,71,98,125,19,46,73,100,127,21,48,75,102,129,23,50,77,104,131,25,52,79,106,133,27,54,81,108,2,29,56,83,110,4,31,58,85,112,6,33,60,87,114,8,35,62,89,116,10,37,64,91,118,12,39,66,93,120,14,41,68,95,122,16,43,70,97,124,18,45,72,99,126,20,47,74,101,128,22,49,76,103,130,24,51,78,105,132,26,53,80,107)"
      ]
     },
     "metadata": {},
     "output_type": "display_data"
    },
    {
     "data": {
      "text/html": [
       "<html><script type=\"math/tex; mode=display\">\\newcommand{\\Bold}[1]{\\mathbf{#1}}\\sigma^{28}= (1,29,57,85,113,8,36,64,92,120,15,43,71,99,127,22,50,78,106)(2,30,58,86,114,9,37,65,93,121,16,44,72,100,128,23,51,79,107)(3,31,59,87,115,10,38,66,94,122,17,45,73,101,129,24,52,80,108)(4,32,60,88,116,11,39,67,95,123,18,46,74,102,130,25,53,81,109)(5,33,61,89,117,12,40,68,96,124,19,47,75,103,131,26,54,82,110)(6,34,62,90,118,13,41,69,97,125,20,48,76,104,132,27,55,83,111)(7,35,63,91,119,14,42,70,98,126,21,49,77,105,133,28,56,84,112)</script></html>"
      ],
      "text/latex": [
       "$$\\newcommand{\\Bold}[1]{\\mathbf{#1}}\\sigma^{28}= (1,29,57,85,113,8,36,64,92,120,15,43,71,99,127,22,50,78,106)(2,30,58,86,114,9,37,65,93,121,16,44,72,100,128,23,51,79,107)(3,31,59,87,115,10,38,66,94,122,17,45,73,101,129,24,52,80,108)(4,32,60,88,116,11,39,67,95,123,18,46,74,102,130,25,53,81,109)(5,33,61,89,117,12,40,68,96,124,19,47,75,103,131,26,54,82,110)(6,34,62,90,118,13,41,69,97,125,20,48,76,104,132,27,55,83,111)(7,35,63,91,119,14,42,70,98,126,21,49,77,105,133,28,56,84,112)$$"
      ],
      "text/plain": [
       "\\sigma^{28}= (1,29,57,85,113,8,36,64,92,120,15,43,71,99,127,22,50,78,106)(2,30,58,86,114,9,37,65,93,121,16,44,72,100,128,23,51,79,107)(3,31,59,87,115,10,38,66,94,122,17,45,73,101,129,24,52,80,108)(4,32,60,88,116,11,39,67,95,123,18,46,74,102,130,25,53,81,109)(5,33,61,89,117,12,40,68,96,124,19,47,75,103,131,26,54,82,110)(6,34,62,90,118,13,41,69,97,125,20,48,76,104,132,27,55,83,111)(7,35,63,91,119,14,42,70,98,126,21,49,77,105,133,28,56,84,112)"
      ]
     },
     "metadata": {},
     "output_type": "display_data"
    },
    {
     "data": {
      "text/html": [
       "<html><script type=\"math/tex; mode=display\">\\newcommand{\\Bold}[1]{\\mathbf{#1}}\\sigma^{29}= (1,30,59,88,117,13,42,71,100,129,25,54,83,112,8,37,66,95,124,20,49,78,107,3,32,61,90,119,15,44,73,102,131,27,56,85,114,10,39,68,97,126,22,51,80,109,5,34,63,92,121,17,46,75,104,133,29,58,87,116,12,41,70,99,128,24,53,82,111,7,36,65,94,123,19,48,77,106,2,31,60,89,118,14,43,72,101,130,26,55,84,113,9,38,67,96,125,21,50,79,108,4,33,62,91,120,16,45,74,103,132,28,57,86,115,11,40,69,98,127,23,52,81,110,6,35,64,93,122,18,47,76,105)</script></html>"
      ],
      "text/latex": [
       "$$\\newcommand{\\Bold}[1]{\\mathbf{#1}}\\sigma^{29}= (1,30,59,88,117,13,42,71,100,129,25,54,83,112,8,37,66,95,124,20,49,78,107,3,32,61,90,119,15,44,73,102,131,27,56,85,114,10,39,68,97,126,22,51,80,109,5,34,63,92,121,17,46,75,104,133,29,58,87,116,12,41,70,99,128,24,53,82,111,7,36,65,94,123,19,48,77,106,2,31,60,89,118,14,43,72,101,130,26,55,84,113,9,38,67,96,125,21,50,79,108,4,33,62,91,120,16,45,74,103,132,28,57,86,115,11,40,69,98,127,23,52,81,110,6,35,64,93,122,18,47,76,105)$$"
      ],
      "text/plain": [
       "\\sigma^{29}= (1,30,59,88,117,13,42,71,100,129,25,54,83,112,8,37,66,95,124,20,49,78,107,3,32,61,90,119,15,44,73,102,131,27,56,85,114,10,39,68,97,126,22,51,80,109,5,34,63,92,121,17,46,75,104,133,29,58,87,116,12,41,70,99,128,24,53,82,111,7,36,65,94,123,19,48,77,106,2,31,60,89,118,14,43,72,101,130,26,55,84,113,9,38,67,96,125,21,50,79,108,4,33,62,91,120,16,45,74,103,132,28,57,86,115,11,40,69,98,127,23,52,81,110,6,35,64,93,122,18,47,76,105)"
      ]
     },
     "metadata": {},
     "output_type": "display_data"
    },
    {
     "data": {
      "text/html": [
       "<html><script type=\"math/tex; mode=display\">\\newcommand{\\Bold}[1]{\\mathbf{#1}}\\sigma^{30}= (1,31,61,91,121,18,48,78,108,5,35,65,95,125,22,52,82,112,9,39,69,99,129,26,56,86,116,13,43,73,103,133,30,60,90,120,17,47,77,107,4,34,64,94,124,21,51,81,111,8,38,68,98,128,25,55,85,115,12,42,72,102,132,29,59,89,119,16,46,76,106,3,33,63,93,123,20,50,80,110,7,37,67,97,127,24,54,84,114,11,41,71,101,131,28,58,88,118,15,45,75,105,2,32,62,92,122,19,49,79,109,6,36,66,96,126,23,53,83,113,10,40,70,100,130,27,57,87,117,14,44,74,104)</script></html>"
      ],
      "text/latex": [
       "$$\\newcommand{\\Bold}[1]{\\mathbf{#1}}\\sigma^{30}= (1,31,61,91,121,18,48,78,108,5,35,65,95,125,22,52,82,112,9,39,69,99,129,26,56,86,116,13,43,73,103,133,30,60,90,120,17,47,77,107,4,34,64,94,124,21,51,81,111,8,38,68,98,128,25,55,85,115,12,42,72,102,132,29,59,89,119,16,46,76,106,3,33,63,93,123,20,50,80,110,7,37,67,97,127,24,54,84,114,11,41,71,101,131,28,58,88,118,15,45,75,105,2,32,62,92,122,19,49,79,109,6,36,66,96,126,23,53,83,113,10,40,70,100,130,27,57,87,117,14,44,74,104)$$"
      ],
      "text/plain": [
       "\\sigma^{30}= (1,31,61,91,121,18,48,78,108,5,35,65,95,125,22,52,82,112,9,39,69,99,129,26,56,86,116,13,43,73,103,133,30,60,90,120,17,47,77,107,4,34,64,94,124,21,51,81,111,8,38,68,98,128,25,55,85,115,12,42,72,102,132,29,59,89,119,16,46,76,106,3,33,63,93,123,20,50,80,110,7,37,67,97,127,24,54,84,114,11,41,71,101,131,28,58,88,118,15,45,75,105,2,32,62,92,122,19,49,79,109,6,36,66,96,126,23,53,83,113,10,40,70,100,130,27,57,87,117,14,44,74,104)"
      ]
     },
     "metadata": {},
     "output_type": "display_data"
    },
    {
     "data": {
      "text/html": [
       "<html><script type=\"math/tex; mode=display\">\\newcommand{\\Bold}[1]{\\mathbf{#1}}\\sigma^{31}= (1,32,63,94,125,23,54,85,116,14,45,76,107,5,36,67,98,129,27,58,89,120,18,49,80,111,9,40,71,102,133,31,62,93,124,22,53,84,115,13,44,75,106,4,35,66,97,128,26,57,88,119,17,48,79,110,8,39,70,101,132,30,61,92,123,21,52,83,114,12,43,74,105,3,34,65,96,127,25,56,87,118,16,47,78,109,7,38,69,100,131,29,60,91,122,20,51,82,113,11,42,73,104,2,33,64,95,126,24,55,86,117,15,46,77,108,6,37,68,99,130,28,59,90,121,19,50,81,112,10,41,72,103)</script></html>"
      ],
      "text/latex": [
       "$$\\newcommand{\\Bold}[1]{\\mathbf{#1}}\\sigma^{31}= (1,32,63,94,125,23,54,85,116,14,45,76,107,5,36,67,98,129,27,58,89,120,18,49,80,111,9,40,71,102,133,31,62,93,124,22,53,84,115,13,44,75,106,4,35,66,97,128,26,57,88,119,17,48,79,110,8,39,70,101,132,30,61,92,123,21,52,83,114,12,43,74,105,3,34,65,96,127,25,56,87,118,16,47,78,109,7,38,69,100,131,29,60,91,122,20,51,82,113,11,42,73,104,2,33,64,95,126,24,55,86,117,15,46,77,108,6,37,68,99,130,28,59,90,121,19,50,81,112,10,41,72,103)$$"
      ],
      "text/plain": [
       "\\sigma^{31}= (1,32,63,94,125,23,54,85,116,14,45,76,107,5,36,67,98,129,27,58,89,120,18,49,80,111,9,40,71,102,133,31,62,93,124,22,53,84,115,13,44,75,106,4,35,66,97,128,26,57,88,119,17,48,79,110,8,39,70,101,132,30,61,92,123,21,52,83,114,12,43,74,105,3,34,65,96,127,25,56,87,118,16,47,78,109,7,38,69,100,131,29,60,91,122,20,51,82,113,11,42,73,104,2,33,64,95,126,24,55,86,117,15,46,77,108,6,37,68,99,130,28,59,90,121,19,50,81,112,10,41,72,103)"
      ]
     },
     "metadata": {},
     "output_type": "display_data"
    },
    {
     "data": {
      "text/html": [
       "<html><script type=\"math/tex; mode=display\">\\newcommand{\\Bold}[1]{\\mathbf{#1}}\\sigma^{32}= (1,33,65,97,129,28,60,92,124,23,55,87,119,18,50,82,114,13,45,77,109,8,40,72,104,3,35,67,99,131,30,62,94,126,25,57,89,121,20,52,84,116,15,47,79,111,10,42,74,106,5,37,69,101,133,32,64,96,128,27,59,91,123,22,54,86,118,17,49,81,113,12,44,76,108,7,39,71,103,2,34,66,98,130,29,61,93,125,24,56,88,120,19,51,83,115,14,46,78,110,9,41,73,105,4,36,68,100,132,31,63,95,127,26,58,90,122,21,53,85,117,16,48,80,112,11,43,75,107,6,38,70,102)</script></html>"
      ],
      "text/latex": [
       "$$\\newcommand{\\Bold}[1]{\\mathbf{#1}}\\sigma^{32}= (1,33,65,97,129,28,60,92,124,23,55,87,119,18,50,82,114,13,45,77,109,8,40,72,104,3,35,67,99,131,30,62,94,126,25,57,89,121,20,52,84,116,15,47,79,111,10,42,74,106,5,37,69,101,133,32,64,96,128,27,59,91,123,22,54,86,118,17,49,81,113,12,44,76,108,7,39,71,103,2,34,66,98,130,29,61,93,125,24,56,88,120,19,51,83,115,14,46,78,110,9,41,73,105,4,36,68,100,132,31,63,95,127,26,58,90,122,21,53,85,117,16,48,80,112,11,43,75,107,6,38,70,102)$$"
      ],
      "text/plain": [
       "\\sigma^{32}= (1,33,65,97,129,28,60,92,124,23,55,87,119,18,50,82,114,13,45,77,109,8,40,72,104,3,35,67,99,131,30,62,94,126,25,57,89,121,20,52,84,116,15,47,79,111,10,42,74,106,5,37,69,101,133,32,64,96,128,27,59,91,123,22,54,86,118,17,49,81,113,12,44,76,108,7,39,71,103,2,34,66,98,130,29,61,93,125,24,56,88,120,19,51,83,115,14,46,78,110,9,41,73,105,4,36,68,100,132,31,63,95,127,26,58,90,122,21,53,85,117,16,48,80,112,11,43,75,107,6,38,70,102)"
      ]
     },
     "metadata": {},
     "output_type": "display_data"
    },
    {
     "data": {
      "text/html": [
       "<html><script type=\"math/tex; mode=display\">\\newcommand{\\Bold}[1]{\\mathbf{#1}}\\sigma^{33}= (1,34,67,100,133,33,66,99,132,32,65,98,131,31,64,97,130,30,63,96,129,29,62,95,128,28,61,94,127,27,60,93,126,26,59,92,125,25,58,91,124,24,57,90,123,23,56,89,122,22,55,88,121,21,54,87,120,20,53,86,119,19,52,85,118,18,51,84,117,17,50,83,116,16,49,82,115,15,48,81,114,14,47,80,113,13,46,79,112,12,45,78,111,11,44,77,110,10,43,76,109,9,42,75,108,8,41,74,107,7,40,73,106,6,39,72,105,5,38,71,104,4,37,70,103,3,36,69,102,2,35,68,101)</script></html>"
      ],
      "text/latex": [
       "$$\\newcommand{\\Bold}[1]{\\mathbf{#1}}\\sigma^{33}= (1,34,67,100,133,33,66,99,132,32,65,98,131,31,64,97,130,30,63,96,129,29,62,95,128,28,61,94,127,27,60,93,126,26,59,92,125,25,58,91,124,24,57,90,123,23,56,89,122,22,55,88,121,21,54,87,120,20,53,86,119,19,52,85,118,18,51,84,117,17,50,83,116,16,49,82,115,15,48,81,114,14,47,80,113,13,46,79,112,12,45,78,111,11,44,77,110,10,43,76,109,9,42,75,108,8,41,74,107,7,40,73,106,6,39,72,105,5,38,71,104,4,37,70,103,3,36,69,102,2,35,68,101)$$"
      ],
      "text/plain": [
       "\\sigma^{33}= (1,34,67,100,133,33,66,99,132,32,65,98,131,31,64,97,130,30,63,96,129,29,62,95,128,28,61,94,127,27,60,93,126,26,59,92,125,25,58,91,124,24,57,90,123,23,56,89,122,22,55,88,121,21,54,87,120,20,53,86,119,19,52,85,118,18,51,84,117,17,50,83,116,16,49,82,115,15,48,81,114,14,47,80,113,13,46,79,112,12,45,78,111,11,44,77,110,10,43,76,109,9,42,75,108,8,41,74,107,7,40,73,106,6,39,72,105,5,38,71,104,4,37,70,103,3,36,69,102,2,35,68,101)"
      ]
     },
     "metadata": {},
     "output_type": "display_data"
    },
    {
     "data": {
      "text/html": [
       "<html><script type=\"math/tex; mode=display\">\\newcommand{\\Bold}[1]{\\mathbf{#1}}\\sigma^{34}= (1,35,69,103,4,38,72,106,7,41,75,109,10,44,78,112,13,47,81,115,16,50,84,118,19,53,87,121,22,56,90,124,25,59,93,127,28,62,96,130,31,65,99,133,34,68,102,3,37,71,105,6,40,74,108,9,43,77,111,12,46,80,114,15,49,83,117,18,52,86,120,21,55,89,123,24,58,92,126,27,61,95,129,30,64,98,132,33,67,101,2,36,70,104,5,39,73,107,8,42,76,110,11,45,79,113,14,48,82,116,17,51,85,119,20,54,88,122,23,57,91,125,26,60,94,128,29,63,97,131,32,66,100)</script></html>"
      ],
      "text/latex": [
       "$$\\newcommand{\\Bold}[1]{\\mathbf{#1}}\\sigma^{34}= (1,35,69,103,4,38,72,106,7,41,75,109,10,44,78,112,13,47,81,115,16,50,84,118,19,53,87,121,22,56,90,124,25,59,93,127,28,62,96,130,31,65,99,133,34,68,102,3,37,71,105,6,40,74,108,9,43,77,111,12,46,80,114,15,49,83,117,18,52,86,120,21,55,89,123,24,58,92,126,27,61,95,129,30,64,98,132,33,67,101,2,36,70,104,5,39,73,107,8,42,76,110,11,45,79,113,14,48,82,116,17,51,85,119,20,54,88,122,23,57,91,125,26,60,94,128,29,63,97,131,32,66,100)$$"
      ],
      "text/plain": [
       "\\sigma^{34}= (1,35,69,103,4,38,72,106,7,41,75,109,10,44,78,112,13,47,81,115,16,50,84,118,19,53,87,121,22,56,90,124,25,59,93,127,28,62,96,130,31,65,99,133,34,68,102,3,37,71,105,6,40,74,108,9,43,77,111,12,46,80,114,15,49,83,117,18,52,86,120,21,55,89,123,24,58,92,126,27,61,95,129,30,64,98,132,33,67,101,2,36,70,104,5,39,73,107,8,42,76,110,11,45,79,113,14,48,82,116,17,51,85,119,20,54,88,122,23,57,91,125,26,60,94,128,29,63,97,131,32,66,100)"
      ]
     },
     "metadata": {},
     "output_type": "display_data"
    },
    {
     "data": {
      "text/html": [
       "<html><script type=\"math/tex; mode=display\">\\newcommand{\\Bold}[1]{\\mathbf{#1}}\\sigma^{35}= (1,36,71,106,8,43,78,113,15,50,85,120,22,57,92,127,29,64,99)(2,37,72,107,9,44,79,114,16,51,86,121,23,58,93,128,30,65,100)(3,38,73,108,10,45,80,115,17,52,87,122,24,59,94,129,31,66,101)(4,39,74,109,11,46,81,116,18,53,88,123,25,60,95,130,32,67,102)(5,40,75,110,12,47,82,117,19,54,89,124,26,61,96,131,33,68,103)(6,41,76,111,13,48,83,118,20,55,90,125,27,62,97,132,34,69,104)(7,42,77,112,14,49,84,119,21,56,91,126,28,63,98,133,35,70,105)</script></html>"
      ],
      "text/latex": [
       "$$\\newcommand{\\Bold}[1]{\\mathbf{#1}}\\sigma^{35}= (1,36,71,106,8,43,78,113,15,50,85,120,22,57,92,127,29,64,99)(2,37,72,107,9,44,79,114,16,51,86,121,23,58,93,128,30,65,100)(3,38,73,108,10,45,80,115,17,52,87,122,24,59,94,129,31,66,101)(4,39,74,109,11,46,81,116,18,53,88,123,25,60,95,130,32,67,102)(5,40,75,110,12,47,82,117,19,54,89,124,26,61,96,131,33,68,103)(6,41,76,111,13,48,83,118,20,55,90,125,27,62,97,132,34,69,104)(7,42,77,112,14,49,84,119,21,56,91,126,28,63,98,133,35,70,105)$$"
      ],
      "text/plain": [
       "\\sigma^{35}= (1,36,71,106,8,43,78,113,15,50,85,120,22,57,92,127,29,64,99)(2,37,72,107,9,44,79,114,16,51,86,121,23,58,93,128,30,65,100)(3,38,73,108,10,45,80,115,17,52,87,122,24,59,94,129,31,66,101)(4,39,74,109,11,46,81,116,18,53,88,123,25,60,95,130,32,67,102)(5,40,75,110,12,47,82,117,19,54,89,124,26,61,96,131,33,68,103)(6,41,76,111,13,48,83,118,20,55,90,125,27,62,97,132,34,69,104)(7,42,77,112,14,49,84,119,21,56,91,126,28,63,98,133,35,70,105)"
      ]
     },
     "metadata": {},
     "output_type": "display_data"
    },
    {
     "data": {
      "text/html": [
       "<html><script type=\"math/tex; mode=display\">\\newcommand{\\Bold}[1]{\\mathbf{#1}}\\sigma^{36}= (1,37,73,109,12,48,84,120,23,59,95,131,34,70,106,9,45,81,117,20,56,92,128,31,67,103,6,42,78,114,17,53,89,125,28,64,100,3,39,75,111,14,50,86,122,25,61,97,133,36,72,108,11,47,83,119,22,58,94,130,33,69,105,8,44,80,116,19,55,91,127,30,66,102,5,41,77,113,16,52,88,124,27,63,99,2,38,74,110,13,49,85,121,24,60,96,132,35,71,107,10,46,82,118,21,57,93,129,32,68,104,7,43,79,115,18,54,90,126,29,65,101,4,40,76,112,15,51,87,123,26,62,98)</script></html>"
      ],
      "text/latex": [
       "$$\\newcommand{\\Bold}[1]{\\mathbf{#1}}\\sigma^{36}= (1,37,73,109,12,48,84,120,23,59,95,131,34,70,106,9,45,81,117,20,56,92,128,31,67,103,6,42,78,114,17,53,89,125,28,64,100,3,39,75,111,14,50,86,122,25,61,97,133,36,72,108,11,47,83,119,22,58,94,130,33,69,105,8,44,80,116,19,55,91,127,30,66,102,5,41,77,113,16,52,88,124,27,63,99,2,38,74,110,13,49,85,121,24,60,96,132,35,71,107,10,46,82,118,21,57,93,129,32,68,104,7,43,79,115,18,54,90,126,29,65,101,4,40,76,112,15,51,87,123,26,62,98)$$"
      ],
      "text/plain": [
       "\\sigma^{36}= (1,37,73,109,12,48,84,120,23,59,95,131,34,70,106,9,45,81,117,20,56,92,128,31,67,103,6,42,78,114,17,53,89,125,28,64,100,3,39,75,111,14,50,86,122,25,61,97,133,36,72,108,11,47,83,119,22,58,94,130,33,69,105,8,44,80,116,19,55,91,127,30,66,102,5,41,77,113,16,52,88,124,27,63,99,2,38,74,110,13,49,85,121,24,60,96,132,35,71,107,10,46,82,118,21,57,93,129,32,68,104,7,43,79,115,18,54,90,126,29,65,101,4,40,76,112,15,51,87,123,26,62,98)"
      ]
     },
     "metadata": {},
     "output_type": "display_data"
    },
    {
     "data": {
      "text/html": [
       "<html><script type=\"math/tex; mode=display\">\\newcommand{\\Bold}[1]{\\mathbf{#1}}\\sigma^{37}= (1,38,75,112,16,53,90,127,31,68,105,9,46,83,120,24,61,98,2,39,76,113,17,54,91,128,32,69,106,10,47,84,121,25,62,99,3,40,77,114,18,55,92,129,33,70,107,11,48,85,122,26,63,100,4,41,78,115,19,56,93,130,34,71,108,12,49,86,123,27,64,101,5,42,79,116,20,57,94,131,35,72,109,13,50,87,124,28,65,102,6,43,80,117,21,58,95,132,36,73,110,14,51,88,125,29,66,103,7,44,81,118,22,59,96,133,37,74,111,15,52,89,126,30,67,104,8,45,82,119,23,60,97)</script></html>"
      ],
      "text/latex": [
       "$$\\newcommand{\\Bold}[1]{\\mathbf{#1}}\\sigma^{37}= (1,38,75,112,16,53,90,127,31,68,105,9,46,83,120,24,61,98,2,39,76,113,17,54,91,128,32,69,106,10,47,84,121,25,62,99,3,40,77,114,18,55,92,129,33,70,107,11,48,85,122,26,63,100,4,41,78,115,19,56,93,130,34,71,108,12,49,86,123,27,64,101,5,42,79,116,20,57,94,131,35,72,109,13,50,87,124,28,65,102,6,43,80,117,21,58,95,132,36,73,110,14,51,88,125,29,66,103,7,44,81,118,22,59,96,133,37,74,111,15,52,89,126,30,67,104,8,45,82,119,23,60,97)$$"
      ],
      "text/plain": [
       "\\sigma^{37}= (1,38,75,112,16,53,90,127,31,68,105,9,46,83,120,24,61,98,2,39,76,113,17,54,91,128,32,69,106,10,47,84,121,25,62,99,3,40,77,114,18,55,92,129,33,70,107,11,48,85,122,26,63,100,4,41,78,115,19,56,93,130,34,71,108,12,49,86,123,27,64,101,5,42,79,116,20,57,94,131,35,72,109,13,50,87,124,28,65,102,6,43,80,117,21,58,95,132,36,73,110,14,51,88,125,29,66,103,7,44,81,118,22,59,96,133,37,74,111,15,52,89,126,30,67,104,8,45,82,119,23,60,97)"
      ]
     },
     "metadata": {},
     "output_type": "display_data"
    },
    {
     "data": {
      "text/html": [
       "<html><script type=\"math/tex; mode=display\">\\newcommand{\\Bold}[1]{\\mathbf{#1}}\\sigma^{38}= (1,39,77,115,20,58,96)(2,40,78,116,21,59,97)(3,41,79,117,22,60,98)(4,42,80,118,23,61,99)(5,43,81,119,24,62,100)(6,44,82,120,25,63,101)(7,45,83,121,26,64,102)(8,46,84,122,27,65,103)(9,47,85,123,28,66,104)(10,48,86,124,29,67,105)(11,49,87,125,30,68,106)(12,50,88,126,31,69,107)(13,51,89,127,32,70,108)(14,52,90,128,33,71,109)(15,53,91,129,34,72,110)(16,54,92,130,35,73,111)(17,55,93,131,36,74,112)(18,56,94,132,37,75,113)(19,57,95,133,38,76,114)</script></html>"
      ],
      "text/latex": [
       "$$\\newcommand{\\Bold}[1]{\\mathbf{#1}}\\sigma^{38}= (1,39,77,115,20,58,96)(2,40,78,116,21,59,97)(3,41,79,117,22,60,98)(4,42,80,118,23,61,99)(5,43,81,119,24,62,100)(6,44,82,120,25,63,101)(7,45,83,121,26,64,102)(8,46,84,122,27,65,103)(9,47,85,123,28,66,104)(10,48,86,124,29,67,105)(11,49,87,125,30,68,106)(12,50,88,126,31,69,107)(13,51,89,127,32,70,108)(14,52,90,128,33,71,109)(15,53,91,129,34,72,110)(16,54,92,130,35,73,111)(17,55,93,131,36,74,112)(18,56,94,132,37,75,113)(19,57,95,133,38,76,114)$$"
      ],
      "text/plain": [
       "\\sigma^{38}= (1,39,77,115,20,58,96)(2,40,78,116,21,59,97)(3,41,79,117,22,60,98)(4,42,80,118,23,61,99)(5,43,81,119,24,62,100)(6,44,82,120,25,63,101)(7,45,83,121,26,64,102)(8,46,84,122,27,65,103)(9,47,85,123,28,66,104)(10,48,86,124,29,67,105)(11,49,87,125,30,68,106)(12,50,88,126,31,69,107)(13,51,89,127,32,70,108)(14,52,90,128,33,71,109)(15,53,91,129,34,72,110)(16,54,92,130,35,73,111)(17,55,93,131,36,74,112)(18,56,94,132,37,75,113)(19,57,95,133,38,76,114)"
      ]
     },
     "metadata": {},
     "output_type": "display_data"
    },
    {
     "data": {
      "text/html": [
       "<html><script type=\"math/tex; mode=display\">\\newcommand{\\Bold}[1]{\\mathbf{#1}}\\sigma^{39}= (1,40,79,118,24,63,102,8,47,86,125,31,70,109,15,54,93,132,38,77,116,22,61,100,6,45,84,123,29,68,107,13,52,91,130,36,75,114,20,59,98,4,43,82,121,27,66,105,11,50,89,128,34,73,112,18,57,96,2,41,80,119,25,64,103,9,48,87,126,32,71,110,16,55,94,133,39,78,117,23,62,101,7,46,85,124,30,69,108,14,53,92,131,37,76,115,21,60,99,5,44,83,122,28,67,106,12,51,90,129,35,74,113,19,58,97,3,42,81,120,26,65,104,10,49,88,127,33,72,111,17,56,95)</script></html>"
      ],
      "text/latex": [
       "$$\\newcommand{\\Bold}[1]{\\mathbf{#1}}\\sigma^{39}= (1,40,79,118,24,63,102,8,47,86,125,31,70,109,15,54,93,132,38,77,116,22,61,100,6,45,84,123,29,68,107,13,52,91,130,36,75,114,20,59,98,4,43,82,121,27,66,105,11,50,89,128,34,73,112,18,57,96,2,41,80,119,25,64,103,9,48,87,126,32,71,110,16,55,94,133,39,78,117,23,62,101,7,46,85,124,30,69,108,14,53,92,131,37,76,115,21,60,99,5,44,83,122,28,67,106,12,51,90,129,35,74,113,19,58,97,3,42,81,120,26,65,104,10,49,88,127,33,72,111,17,56,95)$$"
      ],
      "text/plain": [
       "\\sigma^{39}= (1,40,79,118,24,63,102,8,47,86,125,31,70,109,15,54,93,132,38,77,116,22,61,100,6,45,84,123,29,68,107,13,52,91,130,36,75,114,20,59,98,4,43,82,121,27,66,105,11,50,89,128,34,73,112,18,57,96,2,41,80,119,25,64,103,9,48,87,126,32,71,110,16,55,94,133,39,78,117,23,62,101,7,46,85,124,30,69,108,14,53,92,131,37,76,115,21,60,99,5,44,83,122,28,67,106,12,51,90,129,35,74,113,19,58,97,3,42,81,120,26,65,104,10,49,88,127,33,72,111,17,56,95)"
      ]
     },
     "metadata": {},
     "output_type": "display_data"
    },
    {
     "data": {
      "text/html": [
       "<html><script type=\"math/tex; mode=display\">\\newcommand{\\Bold}[1]{\\mathbf{#1}}\\sigma^{40}= (1,41,81,121,28,68,108,15,55,95,2,42,82,122,29,69,109,16,56,96,3,43,83,123,30,70,110,17,57,97,4,44,84,124,31,71,111,18,58,98,5,45,85,125,32,72,112,19,59,99,6,46,86,126,33,73,113,20,60,100,7,47,87,127,34,74,114,21,61,101,8,48,88,128,35,75,115,22,62,102,9,49,89,129,36,76,116,23,63,103,10,50,90,130,37,77,117,24,64,104,11,51,91,131,38,78,118,25,65,105,12,52,92,132,39,79,119,26,66,106,13,53,93,133,40,80,120,27,67,107,14,54,94)</script></html>"
      ],
      "text/latex": [
       "$$\\newcommand{\\Bold}[1]{\\mathbf{#1}}\\sigma^{40}= (1,41,81,121,28,68,108,15,55,95,2,42,82,122,29,69,109,16,56,96,3,43,83,123,30,70,110,17,57,97,4,44,84,124,31,71,111,18,58,98,5,45,85,125,32,72,112,19,59,99,6,46,86,126,33,73,113,20,60,100,7,47,87,127,34,74,114,21,61,101,8,48,88,128,35,75,115,22,62,102,9,49,89,129,36,76,116,23,63,103,10,50,90,130,37,77,117,24,64,104,11,51,91,131,38,78,118,25,65,105,12,52,92,132,39,79,119,26,66,106,13,53,93,133,40,80,120,27,67,107,14,54,94)$$"
      ],
      "text/plain": [
       "\\sigma^{40}= (1,41,81,121,28,68,108,15,55,95,2,42,82,122,29,69,109,16,56,96,3,43,83,123,30,70,110,17,57,97,4,44,84,124,31,71,111,18,58,98,5,45,85,125,32,72,112,19,59,99,6,46,86,126,33,73,113,20,60,100,7,47,87,127,34,74,114,21,61,101,8,48,88,128,35,75,115,22,62,102,9,49,89,129,36,76,116,23,63,103,10,50,90,130,37,77,117,24,64,104,11,51,91,131,38,78,118,25,65,105,12,52,92,132,39,79,119,26,66,106,13,53,93,133,40,80,120,27,67,107,14,54,94)"
      ]
     },
     "metadata": {},
     "output_type": "display_data"
    },
    {
     "data": {
      "text/html": [
       "<html><script type=\"math/tex; mode=display\">\\newcommand{\\Bold}[1]{\\mathbf{#1}}\\sigma^{41}= (1,42,83,124,32,73,114,22,63,104,12,53,94,2,43,84,125,33,74,115,23,64,105,13,54,95,3,44,85,126,34,75,116,24,65,106,14,55,96,4,45,86,127,35,76,117,25,66,107,15,56,97,5,46,87,128,36,77,118,26,67,108,16,57,98,6,47,88,129,37,78,119,27,68,109,17,58,99,7,48,89,130,38,79,120,28,69,110,18,59,100,8,49,90,131,39,80,121,29,70,111,19,60,101,9,50,91,132,40,81,122,30,71,112,20,61,102,10,51,92,133,41,82,123,31,72,113,21,62,103,11,52,93)</script></html>"
      ],
      "text/latex": [
       "$$\\newcommand{\\Bold}[1]{\\mathbf{#1}}\\sigma^{41}= (1,42,83,124,32,73,114,22,63,104,12,53,94,2,43,84,125,33,74,115,23,64,105,13,54,95,3,44,85,126,34,75,116,24,65,106,14,55,96,4,45,86,127,35,76,117,25,66,107,15,56,97,5,46,87,128,36,77,118,26,67,108,16,57,98,6,47,88,129,37,78,119,27,68,109,17,58,99,7,48,89,130,38,79,120,28,69,110,18,59,100,8,49,90,131,39,80,121,29,70,111,19,60,101,9,50,91,132,40,81,122,30,71,112,20,61,102,10,51,92,133,41,82,123,31,72,113,21,62,103,11,52,93)$$"
      ],
      "text/plain": [
       "\\sigma^{41}= (1,42,83,124,32,73,114,22,63,104,12,53,94,2,43,84,125,33,74,115,23,64,105,13,54,95,3,44,85,126,34,75,116,24,65,106,14,55,96,4,45,86,127,35,76,117,25,66,107,15,56,97,5,46,87,128,36,77,118,26,67,108,16,57,98,6,47,88,129,37,78,119,27,68,109,17,58,99,7,48,89,130,38,79,120,28,69,110,18,59,100,8,49,90,131,39,80,121,29,70,111,19,60,101,9,50,91,132,40,81,122,30,71,112,20,61,102,10,51,92,133,41,82,123,31,72,113,21,62,103,11,52,93)"
      ]
     },
     "metadata": {},
     "output_type": "display_data"
    },
    {
     "data": {
      "text/html": [
       "<html><script type=\"math/tex; mode=display\">\\newcommand{\\Bold}[1]{\\mathbf{#1}}\\sigma^{42}= (1,43,85,127,36,78,120,29,71,113,22,64,106,15,57,99,8,50,92)(2,44,86,128,37,79,121,30,72,114,23,65,107,16,58,100,9,51,93)(3,45,87,129,38,80,122,31,73,115,24,66,108,17,59,101,10,52,94)(4,46,88,130,39,81,123,32,74,116,25,67,109,18,60,102,11,53,95)(5,47,89,131,40,82,124,33,75,117,26,68,110,19,61,103,12,54,96)(6,48,90,132,41,83,125,34,76,118,27,69,111,20,62,104,13,55,97)(7,49,91,133,42,84,126,35,77,119,28,70,112,21,63,105,14,56,98)</script></html>"
      ],
      "text/latex": [
       "$$\\newcommand{\\Bold}[1]{\\mathbf{#1}}\\sigma^{42}= (1,43,85,127,36,78,120,29,71,113,22,64,106,15,57,99,8,50,92)(2,44,86,128,37,79,121,30,72,114,23,65,107,16,58,100,9,51,93)(3,45,87,129,38,80,122,31,73,115,24,66,108,17,59,101,10,52,94)(4,46,88,130,39,81,123,32,74,116,25,67,109,18,60,102,11,53,95)(5,47,89,131,40,82,124,33,75,117,26,68,110,19,61,103,12,54,96)(6,48,90,132,41,83,125,34,76,118,27,69,111,20,62,104,13,55,97)(7,49,91,133,42,84,126,35,77,119,28,70,112,21,63,105,14,56,98)$$"
      ],
      "text/plain": [
       "\\sigma^{42}= (1,43,85,127,36,78,120,29,71,113,22,64,106,15,57,99,8,50,92)(2,44,86,128,37,79,121,30,72,114,23,65,107,16,58,100,9,51,93)(3,45,87,129,38,80,122,31,73,115,24,66,108,17,59,101,10,52,94)(4,46,88,130,39,81,123,32,74,116,25,67,109,18,60,102,11,53,95)(5,47,89,131,40,82,124,33,75,117,26,68,110,19,61,103,12,54,96)(6,48,90,132,41,83,125,34,76,118,27,69,111,20,62,104,13,55,97)(7,49,91,133,42,84,126,35,77,119,28,70,112,21,63,105,14,56,98)"
      ]
     },
     "metadata": {},
     "output_type": "display_data"
    },
    {
     "data": {
      "text/html": [
       "<html><script type=\"math/tex; mode=display\">\\newcommand{\\Bold}[1]{\\mathbf{#1}}\\sigma^{43}= (1,44,87,130,40,83,126,36,79,122,32,75,118,28,71,114,24,67,110,20,63,106,16,59,102,12,55,98,8,51,94,4,47,90,133,43,86,129,39,82,125,35,78,121,31,74,117,27,70,113,23,66,109,19,62,105,15,58,101,11,54,97,7,50,93,3,46,89,132,42,85,128,38,81,124,34,77,120,30,73,116,26,69,112,22,65,108,18,61,104,14,57,100,10,53,96,6,49,92,2,45,88,131,41,84,127,37,80,123,33,76,119,29,72,115,25,68,111,21,64,107,17,60,103,13,56,99,9,52,95,5,48,91)</script></html>"
      ],
      "text/latex": [
       "$$\\newcommand{\\Bold}[1]{\\mathbf{#1}}\\sigma^{43}= (1,44,87,130,40,83,126,36,79,122,32,75,118,28,71,114,24,67,110,20,63,106,16,59,102,12,55,98,8,51,94,4,47,90,133,43,86,129,39,82,125,35,78,121,31,74,117,27,70,113,23,66,109,19,62,105,15,58,101,11,54,97,7,50,93,3,46,89,132,42,85,128,38,81,124,34,77,120,30,73,116,26,69,112,22,65,108,18,61,104,14,57,100,10,53,96,6,49,92,2,45,88,131,41,84,127,37,80,123,33,76,119,29,72,115,25,68,111,21,64,107,17,60,103,13,56,99,9,52,95,5,48,91)$$"
      ],
      "text/plain": [
       "\\sigma^{43}= (1,44,87,130,40,83,126,36,79,122,32,75,118,28,71,114,24,67,110,20,63,106,16,59,102,12,55,98,8,51,94,4,47,90,133,43,86,129,39,82,125,35,78,121,31,74,117,27,70,113,23,66,109,19,62,105,15,58,101,11,54,97,7,50,93,3,46,89,132,42,85,128,38,81,124,34,77,120,30,73,116,26,69,112,22,65,108,18,61,104,14,57,100,10,53,96,6,49,92,2,45,88,131,41,84,127,37,80,123,33,76,119,29,72,115,25,68,111,21,64,107,17,60,103,13,56,99,9,52,95,5,48,91)"
      ]
     },
     "metadata": {},
     "output_type": "display_data"
    },
    {
     "data": {
      "text/html": [
       "<html><script type=\"math/tex; mode=display\">\\newcommand{\\Bold}[1]{\\mathbf{#1}}\\sigma^{44}= (1,45,89,133,44,88,132,43,87,131,42,86,130,41,85,129,40,84,128,39,83,127,38,82,126,37,81,125,36,80,124,35,79,123,34,78,122,33,77,121,32,76,120,31,75,119,30,74,118,29,73,117,28,72,116,27,71,115,26,70,114,25,69,113,24,68,112,23,67,111,22,66,110,21,65,109,20,64,108,19,63,107,18,62,106,17,61,105,16,60,104,15,59,103,14,58,102,13,57,101,12,56,100,11,55,99,10,54,98,9,53,97,8,52,96,7,51,95,6,50,94,5,49,93,4,48,92,3,47,91,2,46,90)</script></html>"
      ],
      "text/latex": [
       "$$\\newcommand{\\Bold}[1]{\\mathbf{#1}}\\sigma^{44}= (1,45,89,133,44,88,132,43,87,131,42,86,130,41,85,129,40,84,128,39,83,127,38,82,126,37,81,125,36,80,124,35,79,123,34,78,122,33,77,121,32,76,120,31,75,119,30,74,118,29,73,117,28,72,116,27,71,115,26,70,114,25,69,113,24,68,112,23,67,111,22,66,110,21,65,109,20,64,108,19,63,107,18,62,106,17,61,105,16,60,104,15,59,103,14,58,102,13,57,101,12,56,100,11,55,99,10,54,98,9,53,97,8,52,96,7,51,95,6,50,94,5,49,93,4,48,92,3,47,91,2,46,90)$$"
      ],
      "text/plain": [
       "\\sigma^{44}= (1,45,89,133,44,88,132,43,87,131,42,86,130,41,85,129,40,84,128,39,83,127,38,82,126,37,81,125,36,80,124,35,79,123,34,78,122,33,77,121,32,76,120,31,75,119,30,74,118,29,73,117,28,72,116,27,71,115,26,70,114,25,69,113,24,68,112,23,67,111,22,66,110,21,65,109,20,64,108,19,63,107,18,62,106,17,61,105,16,60,104,15,59,103,14,58,102,13,57,101,12,56,100,11,55,99,10,54,98,9,53,97,8,52,96,7,51,95,6,50,94,5,49,93,4,48,92,3,47,91,2,46,90)"
      ]
     },
     "metadata": {},
     "output_type": "display_data"
    },
    {
     "data": {
      "text/html": [
       "<html><script type=\"math/tex; mode=display\">\\newcommand{\\Bold}[1]{\\mathbf{#1}}\\sigma^{45}= (1,46,91,3,48,93,5,50,95,7,52,97,9,54,99,11,56,101,13,58,103,15,60,105,17,62,107,19,64,109,21,66,111,23,68,113,25,70,115,27,72,117,29,74,119,31,76,121,33,78,123,35,80,125,37,82,127,39,84,129,41,86,131,43,88,133,45,90,2,47,92,4,49,94,6,51,96,8,53,98,10,55,100,12,57,102,14,59,104,16,61,106,18,63,108,20,65,110,22,67,112,24,69,114,26,71,116,28,73,118,30,75,120,32,77,122,34,79,124,36,81,126,38,83,128,40,85,130,42,87,132,44,89)</script></html>"
      ],
      "text/latex": [
       "$$\\newcommand{\\Bold}[1]{\\mathbf{#1}}\\sigma^{45}= (1,46,91,3,48,93,5,50,95,7,52,97,9,54,99,11,56,101,13,58,103,15,60,105,17,62,107,19,64,109,21,66,111,23,68,113,25,70,115,27,72,117,29,74,119,31,76,121,33,78,123,35,80,125,37,82,127,39,84,129,41,86,131,43,88,133,45,90,2,47,92,4,49,94,6,51,96,8,53,98,10,55,100,12,57,102,14,59,104,16,61,106,18,63,108,20,65,110,22,67,112,24,69,114,26,71,116,28,73,118,30,75,120,32,77,122,34,79,124,36,81,126,38,83,128,40,85,130,42,87,132,44,89)$$"
      ],
      "text/plain": [
       "\\sigma^{45}= (1,46,91,3,48,93,5,50,95,7,52,97,9,54,99,11,56,101,13,58,103,15,60,105,17,62,107,19,64,109,21,66,111,23,68,113,25,70,115,27,72,117,29,74,119,31,76,121,33,78,123,35,80,125,37,82,127,39,84,129,41,86,131,43,88,133,45,90,2,47,92,4,49,94,6,51,96,8,53,98,10,55,100,12,57,102,14,59,104,16,61,106,18,63,108,20,65,110,22,67,112,24,69,114,26,71,116,28,73,118,30,75,120,32,77,122,34,79,124,36,81,126,38,83,128,40,85,130,42,87,132,44,89)"
      ]
     },
     "metadata": {},
     "output_type": "display_data"
    },
    {
     "data": {
      "text/html": [
       "<html><script type=\"math/tex; mode=display\">\\newcommand{\\Bold}[1]{\\mathbf{#1}}\\sigma^{46}= (1,47,93,6,52,98,11,57,103,16,62,108,21,67,113,26,72,118,31,77,123,36,82,128,41,87,133,46,92,5,51,97,10,56,102,15,61,107,20,66,112,25,71,117,30,76,122,35,81,127,40,86,132,45,91,4,50,96,9,55,101,14,60,106,19,65,111,24,70,116,29,75,121,34,80,126,39,85,131,44,90,3,49,95,8,54,100,13,59,105,18,64,110,23,69,115,28,74,120,33,79,125,38,84,130,43,89,2,48,94,7,53,99,12,58,104,17,63,109,22,68,114,27,73,119,32,78,124,37,83,129,42,88)</script></html>"
      ],
      "text/latex": [
       "$$\\newcommand{\\Bold}[1]{\\mathbf{#1}}\\sigma^{46}= (1,47,93,6,52,98,11,57,103,16,62,108,21,67,113,26,72,118,31,77,123,36,82,128,41,87,133,46,92,5,51,97,10,56,102,15,61,107,20,66,112,25,71,117,30,76,122,35,81,127,40,86,132,45,91,4,50,96,9,55,101,14,60,106,19,65,111,24,70,116,29,75,121,34,80,126,39,85,131,44,90,3,49,95,8,54,100,13,59,105,18,64,110,23,69,115,28,74,120,33,79,125,38,84,130,43,89,2,48,94,7,53,99,12,58,104,17,63,109,22,68,114,27,73,119,32,78,124,37,83,129,42,88)$$"
      ],
      "text/plain": [
       "\\sigma^{46}= (1,47,93,6,52,98,11,57,103,16,62,108,21,67,113,26,72,118,31,77,123,36,82,128,41,87,133,46,92,5,51,97,10,56,102,15,61,107,20,66,112,25,71,117,30,76,122,35,81,127,40,86,132,45,91,4,50,96,9,55,101,14,60,106,19,65,111,24,70,116,29,75,121,34,80,126,39,85,131,44,90,3,49,95,8,54,100,13,59,105,18,64,110,23,69,115,28,74,120,33,79,125,38,84,130,43,89,2,48,94,7,53,99,12,58,104,17,63,109,22,68,114,27,73,119,32,78,124,37,83,129,42,88)"
      ]
     },
     "metadata": {},
     "output_type": "display_data"
    },
    {
     "data": {
      "text/html": [
       "<html><script type=\"math/tex; mode=display\">\\newcommand{\\Bold}[1]{\\mathbf{#1}}\\sigma^{47}= (1,48,95,9,56,103,17,64,111,25,72,119,33,80,127,41,88,2,49,96,10,57,104,18,65,112,26,73,120,34,81,128,42,89,3,50,97,11,58,105,19,66,113,27,74,121,35,82,129,43,90,4,51,98,12,59,106,20,67,114,28,75,122,36,83,130,44,91,5,52,99,13,60,107,21,68,115,29,76,123,37,84,131,45,92,6,53,100,14,61,108,22,69,116,30,77,124,38,85,132,46,93,7,54,101,15,62,109,23,70,117,31,78,125,39,86,133,47,94,8,55,102,16,63,110,24,71,118,32,79,126,40,87)</script></html>"
      ],
      "text/latex": [
       "$$\\newcommand{\\Bold}[1]{\\mathbf{#1}}\\sigma^{47}= (1,48,95,9,56,103,17,64,111,25,72,119,33,80,127,41,88,2,49,96,10,57,104,18,65,112,26,73,120,34,81,128,42,89,3,50,97,11,58,105,19,66,113,27,74,121,35,82,129,43,90,4,51,98,12,59,106,20,67,114,28,75,122,36,83,130,44,91,5,52,99,13,60,107,21,68,115,29,76,123,37,84,131,45,92,6,53,100,14,61,108,22,69,116,30,77,124,38,85,132,46,93,7,54,101,15,62,109,23,70,117,31,78,125,39,86,133,47,94,8,55,102,16,63,110,24,71,118,32,79,126,40,87)$$"
      ],
      "text/plain": [
       "\\sigma^{47}= (1,48,95,9,56,103,17,64,111,25,72,119,33,80,127,41,88,2,49,96,10,57,104,18,65,112,26,73,120,34,81,128,42,89,3,50,97,11,58,105,19,66,113,27,74,121,35,82,129,43,90,4,51,98,12,59,106,20,67,114,28,75,122,36,83,130,44,91,5,52,99,13,60,107,21,68,115,29,76,123,37,84,131,45,92,6,53,100,14,61,108,22,69,116,30,77,124,38,85,132,46,93,7,54,101,15,62,109,23,70,117,31,78,125,39,86,133,47,94,8,55,102,16,63,110,24,71,118,32,79,126,40,87)"
      ]
     },
     "metadata": {},
     "output_type": "display_data"
    },
    {
     "data": {
      "text/html": [
       "<html><script type=\"math/tex; mode=display\">\\newcommand{\\Bold}[1]{\\mathbf{#1}}\\sigma^{48}= (1,49,97,12,60,108,23,71,119,34,82,130,45,93,8,56,104,19,67,115,30,78,126,41,89,4,52,100,15,63,111,26,74,122,37,85,133,48,96,11,59,107,22,70,118,33,81,129,44,92,7,55,103,18,66,114,29,77,125,40,88,3,51,99,14,62,110,25,73,121,36,84,132,47,95,10,58,106,21,69,117,32,80,128,43,91,6,54,102,17,65,113,28,76,124,39,87,2,50,98,13,61,109,24,72,120,35,83,131,46,94,9,57,105,20,68,116,31,79,127,42,90,5,53,101,16,64,112,27,75,123,38,86)</script></html>"
      ],
      "text/latex": [
       "$$\\newcommand{\\Bold}[1]{\\mathbf{#1}}\\sigma^{48}= (1,49,97,12,60,108,23,71,119,34,82,130,45,93,8,56,104,19,67,115,30,78,126,41,89,4,52,100,15,63,111,26,74,122,37,85,133,48,96,11,59,107,22,70,118,33,81,129,44,92,7,55,103,18,66,114,29,77,125,40,88,3,51,99,14,62,110,25,73,121,36,84,132,47,95,10,58,106,21,69,117,32,80,128,43,91,6,54,102,17,65,113,28,76,124,39,87,2,50,98,13,61,109,24,72,120,35,83,131,46,94,9,57,105,20,68,116,31,79,127,42,90,5,53,101,16,64,112,27,75,123,38,86)$$"
      ],
      "text/plain": [
       "\\sigma^{48}= (1,49,97,12,60,108,23,71,119,34,82,130,45,93,8,56,104,19,67,115,30,78,126,41,89,4,52,100,15,63,111,26,74,122,37,85,133,48,96,11,59,107,22,70,118,33,81,129,44,92,7,55,103,18,66,114,29,77,125,40,88,3,51,99,14,62,110,25,73,121,36,84,132,47,95,10,58,106,21,69,117,32,80,128,43,91,6,54,102,17,65,113,28,76,124,39,87,2,50,98,13,61,109,24,72,120,35,83,131,46,94,9,57,105,20,68,116,31,79,127,42,90,5,53,101,16,64,112,27,75,123,38,86)"
      ]
     },
     "metadata": {},
     "output_type": "display_data"
    },
    {
     "data": {
      "text/html": [
       "<html><script type=\"math/tex; mode=display\">\\newcommand{\\Bold}[1]{\\mathbf{#1}}\\sigma^{49}= (1,50,99,15,64,113,29,78,127,43,92,8,57,106,22,71,120,36,85)(2,51,100,16,65,114,30,79,128,44,93,9,58,107,23,72,121,37,86)(3,52,101,17,66,115,31,80,129,45,94,10,59,108,24,73,122,38,87)(4,53,102,18,67,116,32,81,130,46,95,11,60,109,25,74,123,39,88)(5,54,103,19,68,117,33,82,131,47,96,12,61,110,26,75,124,40,89)(6,55,104,20,69,118,34,83,132,48,97,13,62,111,27,76,125,41,90)(7,56,105,21,70,119,35,84,133,49,98,14,63,112,28,77,126,42,91)</script></html>"
      ],
      "text/latex": [
       "$$\\newcommand{\\Bold}[1]{\\mathbf{#1}}\\sigma^{49}= (1,50,99,15,64,113,29,78,127,43,92,8,57,106,22,71,120,36,85)(2,51,100,16,65,114,30,79,128,44,93,9,58,107,23,72,121,37,86)(3,52,101,17,66,115,31,80,129,45,94,10,59,108,24,73,122,38,87)(4,53,102,18,67,116,32,81,130,46,95,11,60,109,25,74,123,39,88)(5,54,103,19,68,117,33,82,131,47,96,12,61,110,26,75,124,40,89)(6,55,104,20,69,118,34,83,132,48,97,13,62,111,27,76,125,41,90)(7,56,105,21,70,119,35,84,133,49,98,14,63,112,28,77,126,42,91)$$"
      ],
      "text/plain": [
       "\\sigma^{49}= (1,50,99,15,64,113,29,78,127,43,92,8,57,106,22,71,120,36,85)(2,51,100,16,65,114,30,79,128,44,93,9,58,107,23,72,121,37,86)(3,52,101,17,66,115,31,80,129,45,94,10,59,108,24,73,122,38,87)(4,53,102,18,67,116,32,81,130,46,95,11,60,109,25,74,123,39,88)(5,54,103,19,68,117,33,82,131,47,96,12,61,110,26,75,124,40,89)(6,55,104,20,69,118,34,83,132,48,97,13,62,111,27,76,125,41,90)(7,56,105,21,70,119,35,84,133,49,98,14,63,112,28,77,126,42,91)"
      ]
     },
     "metadata": {},
     "output_type": "display_data"
    },
    {
     "data": {
      "text/html": [
       "<html><script type=\"math/tex; mode=display\">\\newcommand{\\Bold}[1]{\\mathbf{#1}}\\sigma^{50}= (1,51,101,18,68,118,35,85,2,52,102,19,69,119,36,86,3,53,103,20,70,120,37,87,4,54,104,21,71,121,38,88,5,55,105,22,72,122,39,89,6,56,106,23,73,123,40,90,7,57,107,24,74,124,41,91,8,58,108,25,75,125,42,92,9,59,109,26,76,126,43,93,10,60,110,27,77,127,44,94,11,61,111,28,78,128,45,95,12,62,112,29,79,129,46,96,13,63,113,30,80,130,47,97,14,64,114,31,81,131,48,98,15,65,115,32,82,132,49,99,16,66,116,33,83,133,50,100,17,67,117,34,84)</script></html>"
      ],
      "text/latex": [
       "$$\\newcommand{\\Bold}[1]{\\mathbf{#1}}\\sigma^{50}= (1,51,101,18,68,118,35,85,2,52,102,19,69,119,36,86,3,53,103,20,70,120,37,87,4,54,104,21,71,121,38,88,5,55,105,22,72,122,39,89,6,56,106,23,73,123,40,90,7,57,107,24,74,124,41,91,8,58,108,25,75,125,42,92,9,59,109,26,76,126,43,93,10,60,110,27,77,127,44,94,11,61,111,28,78,128,45,95,12,62,112,29,79,129,46,96,13,63,113,30,80,130,47,97,14,64,114,31,81,131,48,98,15,65,115,32,82,132,49,99,16,66,116,33,83,133,50,100,17,67,117,34,84)$$"
      ],
      "text/plain": [
       "\\sigma^{50}= (1,51,101,18,68,118,35,85,2,52,102,19,69,119,36,86,3,53,103,20,70,120,37,87,4,54,104,21,71,121,38,88,5,55,105,22,72,122,39,89,6,56,106,23,73,123,40,90,7,57,107,24,74,124,41,91,8,58,108,25,75,125,42,92,9,59,109,26,76,126,43,93,10,60,110,27,77,127,44,94,11,61,111,28,78,128,45,95,12,62,112,29,79,129,46,96,13,63,113,30,80,130,47,97,14,64,114,31,81,131,48,98,15,65,115,32,82,132,49,99,16,66,116,33,83,133,50,100,17,67,117,34,84)"
      ]
     },
     "metadata": {},
     "output_type": "display_data"
    },
    {
     "data": {
      "text/html": [
       "<html><script type=\"math/tex; mode=display\">\\newcommand{\\Bold}[1]{\\mathbf{#1}}\\sigma^{51}= (1,52,103,21,72,123,41,92,10,61,112,30,81,132,50,101,19,70,121,39,90,8,59,110,28,79,130,48,99,17,68,119,37,88,6,57,108,26,77,128,46,97,15,66,117,35,86,4,55,106,24,75,126,44,95,13,64,115,33,84,2,53,104,22,73,124,42,93,11,62,113,31,82,133,51,102,20,71,122,40,91,9,60,111,29,80,131,49,100,18,69,120,38,89,7,58,109,27,78,129,47,98,16,67,118,36,87,5,56,107,25,76,127,45,96,14,65,116,34,85,3,54,105,23,74,125,43,94,12,63,114,32,83)</script></html>"
      ],
      "text/latex": [
       "$$\\newcommand{\\Bold}[1]{\\mathbf{#1}}\\sigma^{51}= (1,52,103,21,72,123,41,92,10,61,112,30,81,132,50,101,19,70,121,39,90,8,59,110,28,79,130,48,99,17,68,119,37,88,6,57,108,26,77,128,46,97,15,66,117,35,86,4,55,106,24,75,126,44,95,13,64,115,33,84,2,53,104,22,73,124,42,93,11,62,113,31,82,133,51,102,20,71,122,40,91,9,60,111,29,80,131,49,100,18,69,120,38,89,7,58,109,27,78,129,47,98,16,67,118,36,87,5,56,107,25,76,127,45,96,14,65,116,34,85,3,54,105,23,74,125,43,94,12,63,114,32,83)$$"
      ],
      "text/plain": [
       "\\sigma^{51}= (1,52,103,21,72,123,41,92,10,61,112,30,81,132,50,101,19,70,121,39,90,8,59,110,28,79,130,48,99,17,68,119,37,88,6,57,108,26,77,128,46,97,15,66,117,35,86,4,55,106,24,75,126,44,95,13,64,115,33,84,2,53,104,22,73,124,42,93,11,62,113,31,82,133,51,102,20,71,122,40,91,9,60,111,29,80,131,49,100,18,69,120,38,89,7,58,109,27,78,129,47,98,16,67,118,36,87,5,56,107,25,76,127,45,96,14,65,116,34,85,3,54,105,23,74,125,43,94,12,63,114,32,83)"
      ]
     },
     "metadata": {},
     "output_type": "display_data"
    },
    {
     "data": {
      "text/html": [
       "<html><script type=\"math/tex; mode=display\">\\newcommand{\\Bold}[1]{\\mathbf{#1}}\\sigma^{52}= (1,53,105,24,76,128,47,99,18,70,122,41,93,12,64,116,35,87,6,58,110,29,81,133,52,104,23,75,127,46,98,17,69,121,40,92,11,63,115,34,86,5,57,109,28,80,132,51,103,22,74,126,45,97,16,68,120,39,91,10,62,114,33,85,4,56,108,27,79,131,50,102,21,73,125,44,96,15,67,119,38,90,9,61,113,32,84,3,55,107,26,78,130,49,101,20,72,124,43,95,14,66,118,37,89,8,60,112,31,83,2,54,106,25,77,129,48,100,19,71,123,42,94,13,65,117,36,88,7,59,111,30,82)</script></html>"
      ],
      "text/latex": [
       "$$\\newcommand{\\Bold}[1]{\\mathbf{#1}}\\sigma^{52}= (1,53,105,24,76,128,47,99,18,70,122,41,93,12,64,116,35,87,6,58,110,29,81,133,52,104,23,75,127,46,98,17,69,121,40,92,11,63,115,34,86,5,57,109,28,80,132,51,103,22,74,126,45,97,16,68,120,39,91,10,62,114,33,85,4,56,108,27,79,131,50,102,21,73,125,44,96,15,67,119,38,90,9,61,113,32,84,3,55,107,26,78,130,49,101,20,72,124,43,95,14,66,118,37,89,8,60,112,31,83,2,54,106,25,77,129,48,100,19,71,123,42,94,13,65,117,36,88,7,59,111,30,82)$$"
      ],
      "text/plain": [
       "\\sigma^{52}= (1,53,105,24,76,128,47,99,18,70,122,41,93,12,64,116,35,87,6,58,110,29,81,133,52,104,23,75,127,46,98,17,69,121,40,92,11,63,115,34,86,5,57,109,28,80,132,51,103,22,74,126,45,97,16,68,120,39,91,10,62,114,33,85,4,56,108,27,79,131,50,102,21,73,125,44,96,15,67,119,38,90,9,61,113,32,84,3,55,107,26,78,130,49,101,20,72,124,43,95,14,66,118,37,89,8,60,112,31,83,2,54,106,25,77,129,48,100,19,71,123,42,94,13,65,117,36,88,7,59,111,30,82)"
      ]
     },
     "metadata": {},
     "output_type": "display_data"
    },
    {
     "data": {
      "text/html": [
       "<html><script type=\"math/tex; mode=display\">\\newcommand{\\Bold}[1]{\\mathbf{#1}}\\sigma^{53}= (1,54,107,27,80,133,53,106,26,79,132,52,105,25,78,131,51,104,24,77,130,50,103,23,76,129,49,102,22,75,128,48,101,21,74,127,47,100,20,73,126,46,99,19,72,125,45,98,18,71,124,44,97,17,70,123,43,96,16,69,122,42,95,15,68,121,41,94,14,67,120,40,93,13,66,119,39,92,12,65,118,38,91,11,64,117,37,90,10,63,116,36,89,9,62,115,35,88,8,61,114,34,87,7,60,113,33,86,6,59,112,32,85,5,58,111,31,84,4,57,110,30,83,3,56,109,29,82,2,55,108,28,81)</script></html>"
      ],
      "text/latex": [
       "$$\\newcommand{\\Bold}[1]{\\mathbf{#1}}\\sigma^{53}= (1,54,107,27,80,133,53,106,26,79,132,52,105,25,78,131,51,104,24,77,130,50,103,23,76,129,49,102,22,75,128,48,101,21,74,127,47,100,20,73,126,46,99,19,72,125,45,98,18,71,124,44,97,17,70,123,43,96,16,69,122,42,95,15,68,121,41,94,14,67,120,40,93,13,66,119,39,92,12,65,118,38,91,11,64,117,37,90,10,63,116,36,89,9,62,115,35,88,8,61,114,34,87,7,60,113,33,86,6,59,112,32,85,5,58,111,31,84,4,57,110,30,83,3,56,109,29,82,2,55,108,28,81)$$"
      ],
      "text/plain": [
       "\\sigma^{53}= (1,54,107,27,80,133,53,106,26,79,132,52,105,25,78,131,51,104,24,77,130,50,103,23,76,129,49,102,22,75,128,48,101,21,74,127,47,100,20,73,126,46,99,19,72,125,45,98,18,71,124,44,97,17,70,123,43,96,16,69,122,42,95,15,68,121,41,94,14,67,120,40,93,13,66,119,39,92,12,65,118,38,91,11,64,117,37,90,10,63,116,36,89,9,62,115,35,88,8,61,114,34,87,7,60,113,33,86,6,59,112,32,85,5,58,111,31,84,4,57,110,30,83,3,56,109,29,82,2,55,108,28,81)"
      ]
     },
     "metadata": {},
     "output_type": "display_data"
    },
    {
     "data": {
      "text/html": [
       "<html><script type=\"math/tex; mode=display\">\\newcommand{\\Bold}[1]{\\mathbf{#1}}\\sigma^{54}= (1,55,109,30,84,5,59,113,34,88,9,63,117,38,92,13,67,121,42,96,17,71,125,46,100,21,75,129,50,104,25,79,133,54,108,29,83,4,58,112,33,87,8,62,116,37,91,12,66,120,41,95,16,70,124,45,99,20,74,128,49,103,24,78,132,53,107,28,82,3,57,111,32,86,7,61,115,36,90,11,65,119,40,94,15,69,123,44,98,19,73,127,48,102,23,77,131,52,106,27,81,2,56,110,31,85,6,60,114,35,89,10,64,118,39,93,14,68,122,43,97,18,72,126,47,101,22,76,130,51,105,26,80)</script></html>"
      ],
      "text/latex": [
       "$$\\newcommand{\\Bold}[1]{\\mathbf{#1}}\\sigma^{54}= (1,55,109,30,84,5,59,113,34,88,9,63,117,38,92,13,67,121,42,96,17,71,125,46,100,21,75,129,50,104,25,79,133,54,108,29,83,4,58,112,33,87,8,62,116,37,91,12,66,120,41,95,16,70,124,45,99,20,74,128,49,103,24,78,132,53,107,28,82,3,57,111,32,86,7,61,115,36,90,11,65,119,40,94,15,69,123,44,98,19,73,127,48,102,23,77,131,52,106,27,81,2,56,110,31,85,6,60,114,35,89,10,64,118,39,93,14,68,122,43,97,18,72,126,47,101,22,76,130,51,105,26,80)$$"
      ],
      "text/plain": [
       "\\sigma^{54}= (1,55,109,30,84,5,59,113,34,88,9,63,117,38,92,13,67,121,42,96,17,71,125,46,100,21,75,129,50,104,25,79,133,54,108,29,83,4,58,112,33,87,8,62,116,37,91,12,66,120,41,95,16,70,124,45,99,20,74,128,49,103,24,78,132,53,107,28,82,3,57,111,32,86,7,61,115,36,90,11,65,119,40,94,15,69,123,44,98,19,73,127,48,102,23,77,131,52,106,27,81,2,56,110,31,85,6,60,114,35,89,10,64,118,39,93,14,68,122,43,97,18,72,126,47,101,22,76,130,51,105,26,80)"
      ]
     },
     "metadata": {},
     "output_type": "display_data"
    },
    {
     "data": {
      "text/html": [
       "<html><script type=\"math/tex; mode=display\">\\newcommand{\\Bold}[1]{\\mathbf{#1}}\\sigma^{55}= (1,56,111,33,88,10,65,120,42,97,19,74,129,51,106,28,83,5,60,115,37,92,14,69,124,46,101,23,78,133,55,110,32,87,9,64,119,41,96,18,73,128,50,105,27,82,4,59,114,36,91,13,68,123,45,100,22,77,132,54,109,31,86,8,63,118,40,95,17,72,127,49,104,26,81,3,58,113,35,90,12,67,122,44,99,21,76,131,53,108,30,85,7,62,117,39,94,16,71,126,48,103,25,80,2,57,112,34,89,11,66,121,43,98,20,75,130,52,107,29,84,6,61,116,38,93,15,70,125,47,102,24,79)</script></html>"
      ],
      "text/latex": [
       "$$\\newcommand{\\Bold}[1]{\\mathbf{#1}}\\sigma^{55}= (1,56,111,33,88,10,65,120,42,97,19,74,129,51,106,28,83,5,60,115,37,92,14,69,124,46,101,23,78,133,55,110,32,87,9,64,119,41,96,18,73,128,50,105,27,82,4,59,114,36,91,13,68,123,45,100,22,77,132,54,109,31,86,8,63,118,40,95,17,72,127,49,104,26,81,3,58,113,35,90,12,67,122,44,99,21,76,131,53,108,30,85,7,62,117,39,94,16,71,126,48,103,25,80,2,57,112,34,89,11,66,121,43,98,20,75,130,52,107,29,84,6,61,116,38,93,15,70,125,47,102,24,79)$$"
      ],
      "text/plain": [
       "\\sigma^{55}= (1,56,111,33,88,10,65,120,42,97,19,74,129,51,106,28,83,5,60,115,37,92,14,69,124,46,101,23,78,133,55,110,32,87,9,64,119,41,96,18,73,128,50,105,27,82,4,59,114,36,91,13,68,123,45,100,22,77,132,54,109,31,86,8,63,118,40,95,17,72,127,49,104,26,81,3,58,113,35,90,12,67,122,44,99,21,76,131,53,108,30,85,7,62,117,39,94,16,71,126,48,103,25,80,2,57,112,34,89,11,66,121,43,98,20,75,130,52,107,29,84,6,61,116,38,93,15,70,125,47,102,24,79)"
      ]
     },
     "metadata": {},
     "output_type": "display_data"
    },
    {
     "data": {
      "text/html": [
       "<html><script type=\"math/tex; mode=display\">\\newcommand{\\Bold}[1]{\\mathbf{#1}}\\sigma^{56}= (1,57,113,36,92,15,71,127,50,106,29,85,8,64,120,43,99,22,78)(2,58,114,37,93,16,72,128,51,107,30,86,9,65,121,44,100,23,79)(3,59,115,38,94,17,73,129,52,108,31,87,10,66,122,45,101,24,80)(4,60,116,39,95,18,74,130,53,109,32,88,11,67,123,46,102,25,81)(5,61,117,40,96,19,75,131,54,110,33,89,12,68,124,47,103,26,82)(6,62,118,41,97,20,76,132,55,111,34,90,13,69,125,48,104,27,83)(7,63,119,42,98,21,77,133,56,112,35,91,14,70,126,49,105,28,84)</script></html>"
      ],
      "text/latex": [
       "$$\\newcommand{\\Bold}[1]{\\mathbf{#1}}\\sigma^{56}= (1,57,113,36,92,15,71,127,50,106,29,85,8,64,120,43,99,22,78)(2,58,114,37,93,16,72,128,51,107,30,86,9,65,121,44,100,23,79)(3,59,115,38,94,17,73,129,52,108,31,87,10,66,122,45,101,24,80)(4,60,116,39,95,18,74,130,53,109,32,88,11,67,123,46,102,25,81)(5,61,117,40,96,19,75,131,54,110,33,89,12,68,124,47,103,26,82)(6,62,118,41,97,20,76,132,55,111,34,90,13,69,125,48,104,27,83)(7,63,119,42,98,21,77,133,56,112,35,91,14,70,126,49,105,28,84)$$"
      ],
      "text/plain": [
       "\\sigma^{56}= (1,57,113,36,92,15,71,127,50,106,29,85,8,64,120,43,99,22,78)(2,58,114,37,93,16,72,128,51,107,30,86,9,65,121,44,100,23,79)(3,59,115,38,94,17,73,129,52,108,31,87,10,66,122,45,101,24,80)(4,60,116,39,95,18,74,130,53,109,32,88,11,67,123,46,102,25,81)(5,61,117,40,96,19,75,131,54,110,33,89,12,68,124,47,103,26,82)(6,62,118,41,97,20,76,132,55,111,34,90,13,69,125,48,104,27,83)(7,63,119,42,98,21,77,133,56,112,35,91,14,70,126,49,105,28,84)"
      ]
     },
     "metadata": {},
     "output_type": "display_data"
    },
    {
     "data": {
      "text/html": [
       "<html><script type=\"math/tex; mode=display\">\\newcommand{\\Bold}[1]{\\mathbf{#1}}\\sigma^{57}= (1,58,115,39,96,20,77)(2,59,116,40,97,21,78)(3,60,117,41,98,22,79)(4,61,118,42,99,23,80)(5,62,119,43,100,24,81)(6,63,120,44,101,25,82)(7,64,121,45,102,26,83)(8,65,122,46,103,27,84)(9,66,123,47,104,28,85)(10,67,124,48,105,29,86)(11,68,125,49,106,30,87)(12,69,126,50,107,31,88)(13,70,127,51,108,32,89)(14,71,128,52,109,33,90)(15,72,129,53,110,34,91)(16,73,130,54,111,35,92)(17,74,131,55,112,36,93)(18,75,132,56,113,37,94)(19,76,133,57,114,38,95)</script></html>"
      ],
      "text/latex": [
       "$$\\newcommand{\\Bold}[1]{\\mathbf{#1}}\\sigma^{57}= (1,58,115,39,96,20,77)(2,59,116,40,97,21,78)(3,60,117,41,98,22,79)(4,61,118,42,99,23,80)(5,62,119,43,100,24,81)(6,63,120,44,101,25,82)(7,64,121,45,102,26,83)(8,65,122,46,103,27,84)(9,66,123,47,104,28,85)(10,67,124,48,105,29,86)(11,68,125,49,106,30,87)(12,69,126,50,107,31,88)(13,70,127,51,108,32,89)(14,71,128,52,109,33,90)(15,72,129,53,110,34,91)(16,73,130,54,111,35,92)(17,74,131,55,112,36,93)(18,75,132,56,113,37,94)(19,76,133,57,114,38,95)$$"
      ],
      "text/plain": [
       "\\sigma^{57}= (1,58,115,39,96,20,77)(2,59,116,40,97,21,78)(3,60,117,41,98,22,79)(4,61,118,42,99,23,80)(5,62,119,43,100,24,81)(6,63,120,44,101,25,82)(7,64,121,45,102,26,83)(8,65,122,46,103,27,84)(9,66,123,47,104,28,85)(10,67,124,48,105,29,86)(11,68,125,49,106,30,87)(12,69,126,50,107,31,88)(13,70,127,51,108,32,89)(14,71,128,52,109,33,90)(15,72,129,53,110,34,91)(16,73,130,54,111,35,92)(17,74,131,55,112,36,93)(18,75,132,56,113,37,94)(19,76,133,57,114,38,95)"
      ]
     },
     "metadata": {},
     "output_type": "display_data"
    },
    {
     "data": {
      "text/html": [
       "<html><script type=\"math/tex; mode=display\">\\newcommand{\\Bold}[1]{\\mathbf{#1}}\\sigma^{58}= (1,59,117,42,100,25,83,8,66,124,49,107,32,90,15,73,131,56,114,39,97,22,80,5,63,121,46,104,29,87,12,70,128,53,111,36,94,19,77,2,60,118,43,101,26,84,9,67,125,50,108,33,91,16,74,132,57,115,40,98,23,81,6,64,122,47,105,30,88,13,71,129,54,112,37,95,20,78,3,61,119,44,102,27,85,10,68,126,51,109,34,92,17,75,133,58,116,41,99,24,82,7,65,123,48,106,31,89,14,72,130,55,113,38,96,21,79,4,62,120,45,103,28,86,11,69,127,52,110,35,93,18,76)</script></html>"
      ],
      "text/latex": [
       "$$\\newcommand{\\Bold}[1]{\\mathbf{#1}}\\sigma^{58}= (1,59,117,42,100,25,83,8,66,124,49,107,32,90,15,73,131,56,114,39,97,22,80,5,63,121,46,104,29,87,12,70,128,53,111,36,94,19,77,2,60,118,43,101,26,84,9,67,125,50,108,33,91,16,74,132,57,115,40,98,23,81,6,64,122,47,105,30,88,13,71,129,54,112,37,95,20,78,3,61,119,44,102,27,85,10,68,126,51,109,34,92,17,75,133,58,116,41,99,24,82,7,65,123,48,106,31,89,14,72,130,55,113,38,96,21,79,4,62,120,45,103,28,86,11,69,127,52,110,35,93,18,76)$$"
      ],
      "text/plain": [
       "\\sigma^{58}= (1,59,117,42,100,25,83,8,66,124,49,107,32,90,15,73,131,56,114,39,97,22,80,5,63,121,46,104,29,87,12,70,128,53,111,36,94,19,77,2,60,118,43,101,26,84,9,67,125,50,108,33,91,16,74,132,57,115,40,98,23,81,6,64,122,47,105,30,88,13,71,129,54,112,37,95,20,78,3,61,119,44,102,27,85,10,68,126,51,109,34,92,17,75,133,58,116,41,99,24,82,7,65,123,48,106,31,89,14,72,130,55,113,38,96,21,79,4,62,120,45,103,28,86,11,69,127,52,110,35,93,18,76)"
      ]
     },
     "metadata": {},
     "output_type": "display_data"
    },
    {
     "data": {
      "text/html": [
       "<html><script type=\"math/tex; mode=display\">\\newcommand{\\Bold}[1]{\\mathbf{#1}}\\sigma^{59}= (1,60,119,45,104,30,89,15,74,133,59,118,44,103,29,88,14,73,132,58,117,43,102,28,87,13,72,131,57,116,42,101,27,86,12,71,130,56,115,41,100,26,85,11,70,129,55,114,40,99,25,84,10,69,128,54,113,39,98,24,83,9,68,127,53,112,38,97,23,82,8,67,126,52,111,37,96,22,81,7,66,125,51,110,36,95,21,80,6,65,124,50,109,35,94,20,79,5,64,123,49,108,34,93,19,78,4,63,122,48,107,33,92,18,77,3,62,121,47,106,32,91,17,76,2,61,120,46,105,31,90,16,75)</script></html>"
      ],
      "text/latex": [
       "$$\\newcommand{\\Bold}[1]{\\mathbf{#1}}\\sigma^{59}= (1,60,119,45,104,30,89,15,74,133,59,118,44,103,29,88,14,73,132,58,117,43,102,28,87,13,72,131,57,116,42,101,27,86,12,71,130,56,115,41,100,26,85,11,70,129,55,114,40,99,25,84,10,69,128,54,113,39,98,24,83,9,68,127,53,112,38,97,23,82,8,67,126,52,111,37,96,22,81,7,66,125,51,110,36,95,21,80,6,65,124,50,109,35,94,20,79,5,64,123,49,108,34,93,19,78,4,63,122,48,107,33,92,18,77,3,62,121,47,106,32,91,17,76,2,61,120,46,105,31,90,16,75)$$"
      ],
      "text/plain": [
       "\\sigma^{59}= (1,60,119,45,104,30,89,15,74,133,59,118,44,103,29,88,14,73,132,58,117,43,102,28,87,13,72,131,57,116,42,101,27,86,12,71,130,56,115,41,100,26,85,11,70,129,55,114,40,99,25,84,10,69,128,54,113,39,98,24,83,9,68,127,53,112,38,97,23,82,8,67,126,52,111,37,96,22,81,7,66,125,51,110,36,95,21,80,6,65,124,50,109,35,94,20,79,5,64,123,49,108,34,93,19,78,4,63,122,48,107,33,92,18,77,3,62,121,47,106,32,91,17,76,2,61,120,46,105,31,90,16,75)"
      ]
     },
     "metadata": {},
     "output_type": "display_data"
    },
    {
     "data": {
      "text/html": [
       "<html><script type=\"math/tex; mode=display\">\\newcommand{\\Bold}[1]{\\mathbf{#1}}\\sigma^{60}= (1,61,121,48,108,35,95,22,82,9,69,129,56,116,43,103,30,90,17,77,4,64,124,51,111,38,98,25,85,12,72,132,59,119,46,106,33,93,20,80,7,67,127,54,114,41,101,28,88,15,75,2,62,122,49,109,36,96,23,83,10,70,130,57,117,44,104,31,91,18,78,5,65,125,52,112,39,99,26,86,13,73,133,60,120,47,107,34,94,21,81,8,68,128,55,115,42,102,29,89,16,76,3,63,123,50,110,37,97,24,84,11,71,131,58,118,45,105,32,92,19,79,6,66,126,53,113,40,100,27,87,14,74)</script></html>"
      ],
      "text/latex": [
       "$$\\newcommand{\\Bold}[1]{\\mathbf{#1}}\\sigma^{60}= (1,61,121,48,108,35,95,22,82,9,69,129,56,116,43,103,30,90,17,77,4,64,124,51,111,38,98,25,85,12,72,132,59,119,46,106,33,93,20,80,7,67,127,54,114,41,101,28,88,15,75,2,62,122,49,109,36,96,23,83,10,70,130,57,117,44,104,31,91,18,78,5,65,125,52,112,39,99,26,86,13,73,133,60,120,47,107,34,94,21,81,8,68,128,55,115,42,102,29,89,16,76,3,63,123,50,110,37,97,24,84,11,71,131,58,118,45,105,32,92,19,79,6,66,126,53,113,40,100,27,87,14,74)$$"
      ],
      "text/plain": [
       "\\sigma^{60}= (1,61,121,48,108,35,95,22,82,9,69,129,56,116,43,103,30,90,17,77,4,64,124,51,111,38,98,25,85,12,72,132,59,119,46,106,33,93,20,80,7,67,127,54,114,41,101,28,88,15,75,2,62,122,49,109,36,96,23,83,10,70,130,57,117,44,104,31,91,18,78,5,65,125,52,112,39,99,26,86,13,73,133,60,120,47,107,34,94,21,81,8,68,128,55,115,42,102,29,89,16,76,3,63,123,50,110,37,97,24,84,11,71,131,58,118,45,105,32,92,19,79,6,66,126,53,113,40,100,27,87,14,74)"
      ]
     },
     "metadata": {},
     "output_type": "display_data"
    },
    {
     "data": {
      "text/html": [
       "<html><script type=\"math/tex; mode=display\">\\newcommand{\\Bold}[1]{\\mathbf{#1}}\\sigma^{61}= (1,62,123,51,112,40,101,29,90,18,79,7,68,129,57,118,46,107,35,96,24,85,13,74,2,63,124,52,113,41,102,30,91,19,80,8,69,130,58,119,47,108,36,97,25,86,14,75,3,64,125,53,114,42,103,31,92,20,81,9,70,131,59,120,48,109,37,98,26,87,15,76,4,65,126,54,115,43,104,32,93,21,82,10,71,132,60,121,49,110,38,99,27,88,16,77,5,66,127,55,116,44,105,33,94,22,83,11,72,133,61,122,50,111,39,100,28,89,17,78,6,67,128,56,117,45,106,34,95,23,84,12,73)</script></html>"
      ],
      "text/latex": [
       "$$\\newcommand{\\Bold}[1]{\\mathbf{#1}}\\sigma^{61}= (1,62,123,51,112,40,101,29,90,18,79,7,68,129,57,118,46,107,35,96,24,85,13,74,2,63,124,52,113,41,102,30,91,19,80,8,69,130,58,119,47,108,36,97,25,86,14,75,3,64,125,53,114,42,103,31,92,20,81,9,70,131,59,120,48,109,37,98,26,87,15,76,4,65,126,54,115,43,104,32,93,21,82,10,71,132,60,121,49,110,38,99,27,88,16,77,5,66,127,55,116,44,105,33,94,22,83,11,72,133,61,122,50,111,39,100,28,89,17,78,6,67,128,56,117,45,106,34,95,23,84,12,73)$$"
      ],
      "text/plain": [
       "\\sigma^{61}= (1,62,123,51,112,40,101,29,90,18,79,7,68,129,57,118,46,107,35,96,24,85,13,74,2,63,124,52,113,41,102,30,91,19,80,8,69,130,58,119,47,108,36,97,25,86,14,75,3,64,125,53,114,42,103,31,92,20,81,9,70,131,59,120,48,109,37,98,26,87,15,76,4,65,126,54,115,43,104,32,93,21,82,10,71,132,60,121,49,110,38,99,27,88,16,77,5,66,127,55,116,44,105,33,94,22,83,11,72,133,61,122,50,111,39,100,28,89,17,78,6,67,128,56,117,45,106,34,95,23,84,12,73)"
      ]
     },
     "metadata": {},
     "output_type": "display_data"
    },
    {
     "data": {
      "text/html": [
       "<html><script type=\"math/tex; mode=display\">\\newcommand{\\Bold}[1]{\\mathbf{#1}}\\sigma^{62}= (1,63,125,54,116,45,107,36,98,27,89,18,80,9,71,133,62,124,53,115,44,106,35,97,26,88,17,79,8,70,132,61,123,52,114,43,105,34,96,25,87,16,78,7,69,131,60,122,51,113,42,104,33,95,24,86,15,77,6,68,130,59,121,50,112,41,103,32,94,23,85,14,76,5,67,129,58,120,49,111,40,102,31,93,22,84,13,75,4,66,128,57,119,48,110,39,101,30,92,21,83,12,74,3,65,127,56,118,47,109,38,100,29,91,20,82,11,73,2,64,126,55,117,46,108,37,99,28,90,19,81,10,72)</script></html>"
      ],
      "text/latex": [
       "$$\\newcommand{\\Bold}[1]{\\mathbf{#1}}\\sigma^{62}= (1,63,125,54,116,45,107,36,98,27,89,18,80,9,71,133,62,124,53,115,44,106,35,97,26,88,17,79,8,70,132,61,123,52,114,43,105,34,96,25,87,16,78,7,69,131,60,122,51,113,42,104,33,95,24,86,15,77,6,68,130,59,121,50,112,41,103,32,94,23,85,14,76,5,67,129,58,120,49,111,40,102,31,93,22,84,13,75,4,66,128,57,119,48,110,39,101,30,92,21,83,12,74,3,65,127,56,118,47,109,38,100,29,91,20,82,11,73,2,64,126,55,117,46,108,37,99,28,90,19,81,10,72)$$"
      ],
      "text/plain": [
       "\\sigma^{62}= (1,63,125,54,116,45,107,36,98,27,89,18,80,9,71,133,62,124,53,115,44,106,35,97,26,88,17,79,8,70,132,61,123,52,114,43,105,34,96,25,87,16,78,7,69,131,60,122,51,113,42,104,33,95,24,86,15,77,6,68,130,59,121,50,112,41,103,32,94,23,85,14,76,5,67,129,58,120,49,111,40,102,31,93,22,84,13,75,4,66,128,57,119,48,110,39,101,30,92,21,83,12,74,3,65,127,56,118,47,109,38,100,29,91,20,82,11,73,2,64,126,55,117,46,108,37,99,28,90,19,81,10,72)"
      ]
     },
     "metadata": {},
     "output_type": "display_data"
    },
    {
     "data": {
      "text/html": [
       "<html><script type=\"math/tex; mode=display\">\\newcommand{\\Bold}[1]{\\mathbf{#1}}\\sigma^{63}= (1,64,127,57,120,50,113,43,106,36,99,29,92,22,85,15,78,8,71)(2,65,128,58,121,51,114,44,107,37,100,30,93,23,86,16,79,9,72)(3,66,129,59,122,52,115,45,108,38,101,31,94,24,87,17,80,10,73)(4,67,130,60,123,53,116,46,109,39,102,32,95,25,88,18,81,11,74)(5,68,131,61,124,54,117,47,110,40,103,33,96,26,89,19,82,12,75)(6,69,132,62,125,55,118,48,111,41,104,34,97,27,90,20,83,13,76)(7,70,133,63,126,56,119,49,112,42,105,35,98,28,91,21,84,14,77)</script></html>"
      ],
      "text/latex": [
       "$$\\newcommand{\\Bold}[1]{\\mathbf{#1}}\\sigma^{63}= (1,64,127,57,120,50,113,43,106,36,99,29,92,22,85,15,78,8,71)(2,65,128,58,121,51,114,44,107,37,100,30,93,23,86,16,79,9,72)(3,66,129,59,122,52,115,45,108,38,101,31,94,24,87,17,80,10,73)(4,67,130,60,123,53,116,46,109,39,102,32,95,25,88,18,81,11,74)(5,68,131,61,124,54,117,47,110,40,103,33,96,26,89,19,82,12,75)(6,69,132,62,125,55,118,48,111,41,104,34,97,27,90,20,83,13,76)(7,70,133,63,126,56,119,49,112,42,105,35,98,28,91,21,84,14,77)$$"
      ],
      "text/plain": [
       "\\sigma^{63}= (1,64,127,57,120,50,113,43,106,36,99,29,92,22,85,15,78,8,71)(2,65,128,58,121,51,114,44,107,37,100,30,93,23,86,16,79,9,72)(3,66,129,59,122,52,115,45,108,38,101,31,94,24,87,17,80,10,73)(4,67,130,60,123,53,116,46,109,39,102,32,95,25,88,18,81,11,74)(5,68,131,61,124,54,117,47,110,40,103,33,96,26,89,19,82,12,75)(6,69,132,62,125,55,118,48,111,41,104,34,97,27,90,20,83,13,76)(7,70,133,63,126,56,119,49,112,42,105,35,98,28,91,21,84,14,77)"
      ]
     },
     "metadata": {},
     "output_type": "display_data"
    },
    {
     "data": {
      "text/html": [
       "<html><script type=\"math/tex; mode=display\">\\newcommand{\\Bold}[1]{\\mathbf{#1}}\\sigma^{64}= (1,65,129,60,124,55,119,50,114,45,109,40,104,35,99,30,94,25,89,20,84,15,79,10,74,5,69,133,64,128,59,123,54,118,49,113,44,108,39,103,34,98,29,93,24,88,19,83,14,78,9,73,4,68,132,63,127,58,122,53,117,48,112,43,107,38,102,33,97,28,92,23,87,18,82,13,77,8,72,3,67,131,62,126,57,121,52,116,47,111,42,106,37,101,32,96,27,91,22,86,17,81,12,76,7,71,2,66,130,61,125,56,120,51,115,46,110,41,105,36,100,31,95,26,90,21,85,16,80,11,75,6,70)</script></html>"
      ],
      "text/latex": [
       "$$\\newcommand{\\Bold}[1]{\\mathbf{#1}}\\sigma^{64}= (1,65,129,60,124,55,119,50,114,45,109,40,104,35,99,30,94,25,89,20,84,15,79,10,74,5,69,133,64,128,59,123,54,118,49,113,44,108,39,103,34,98,29,93,24,88,19,83,14,78,9,73,4,68,132,63,127,58,122,53,117,48,112,43,107,38,102,33,97,28,92,23,87,18,82,13,77,8,72,3,67,131,62,126,57,121,52,116,47,111,42,106,37,101,32,96,27,91,22,86,17,81,12,76,7,71,2,66,130,61,125,56,120,51,115,46,110,41,105,36,100,31,95,26,90,21,85,16,80,11,75,6,70)$$"
      ],
      "text/plain": [
       "\\sigma^{64}= (1,65,129,60,124,55,119,50,114,45,109,40,104,35,99,30,94,25,89,20,84,15,79,10,74,5,69,133,64,128,59,123,54,118,49,113,44,108,39,103,34,98,29,93,24,88,19,83,14,78,9,73,4,68,132,63,127,58,122,53,117,48,112,43,107,38,102,33,97,28,92,23,87,18,82,13,77,8,72,3,67,131,62,126,57,121,52,116,47,111,42,106,37,101,32,96,27,91,22,86,17,81,12,76,7,71,2,66,130,61,125,56,120,51,115,46,110,41,105,36,100,31,95,26,90,21,85,16,80,11,75,6,70)"
      ]
     },
     "metadata": {},
     "output_type": "display_data"
    },
    {
     "data": {
      "text/html": [
       "<html><script type=\"math/tex; mode=display\">\\newcommand{\\Bold}[1]{\\mathbf{#1}}\\sigma^{65}= (1,66,131,63,128,60,125,57,122,54,119,51,116,48,113,45,110,42,107,39,104,36,101,33,98,30,95,27,92,24,89,21,86,18,83,15,80,12,77,9,74,6,71,3,68,133,65,130,62,127,59,124,56,121,53,118,50,115,47,112,44,109,41,106,38,103,35,100,32,97,29,94,26,91,23,88,20,85,17,82,14,79,11,76,8,73,5,70,2,67,132,64,129,61,126,58,123,55,120,52,117,49,114,46,111,43,108,40,105,37,102,34,99,31,96,28,93,25,90,22,87,19,84,16,81,13,78,10,75,7,72,4,69)</script></html>"
      ],
      "text/latex": [
       "$$\\newcommand{\\Bold}[1]{\\mathbf{#1}}\\sigma^{65}= (1,66,131,63,128,60,125,57,122,54,119,51,116,48,113,45,110,42,107,39,104,36,101,33,98,30,95,27,92,24,89,21,86,18,83,15,80,12,77,9,74,6,71,3,68,133,65,130,62,127,59,124,56,121,53,118,50,115,47,112,44,109,41,106,38,103,35,100,32,97,29,94,26,91,23,88,20,85,17,82,14,79,11,76,8,73,5,70,2,67,132,64,129,61,126,58,123,55,120,52,117,49,114,46,111,43,108,40,105,37,102,34,99,31,96,28,93,25,90,22,87,19,84,16,81,13,78,10,75,7,72,4,69)$$"
      ],
      "text/plain": [
       "\\sigma^{65}= (1,66,131,63,128,60,125,57,122,54,119,51,116,48,113,45,110,42,107,39,104,36,101,33,98,30,95,27,92,24,89,21,86,18,83,15,80,12,77,9,74,6,71,3,68,133,65,130,62,127,59,124,56,121,53,118,50,115,47,112,44,109,41,106,38,103,35,100,32,97,29,94,26,91,23,88,20,85,17,82,14,79,11,76,8,73,5,70,2,67,132,64,129,61,126,58,123,55,120,52,117,49,114,46,111,43,108,40,105,37,102,34,99,31,96,28,93,25,90,22,87,19,84,16,81,13,78,10,75,7,72,4,69)"
      ]
     },
     "metadata": {},
     "output_type": "display_data"
    },
    {
     "data": {
      "text/html": [
       "<html><script type=\"math/tex; mode=display\">\\newcommand{\\Bold}[1]{\\mathbf{#1}}\\sigma^{66}= (1,67,133,66,132,65,131,64,130,63,129,62,128,61,127,60,126,59,125,58,124,57,123,56,122,55,121,54,120,53,119,52,118,51,117,50,116,49,115,48,114,47,113,46,112,45,111,44,110,43,109,42,108,41,107,40,106,39,105,38,104,37,103,36,102,35,101,34,100,33,99,32,98,31,97,30,96,29,95,28,94,27,93,26,92,25,91,24,90,23,89,22,88,21,87,20,86,19,85,18,84,17,83,16,82,15,81,14,80,13,79,12,78,11,77,10,76,9,75,8,74,7,73,6,72,5,71,4,70,3,69,2,68)</script></html>"
      ],
      "text/latex": [
       "$$\\newcommand{\\Bold}[1]{\\mathbf{#1}}\\sigma^{66}= (1,67,133,66,132,65,131,64,130,63,129,62,128,61,127,60,126,59,125,58,124,57,123,56,122,55,121,54,120,53,119,52,118,51,117,50,116,49,115,48,114,47,113,46,112,45,111,44,110,43,109,42,108,41,107,40,106,39,105,38,104,37,103,36,102,35,101,34,100,33,99,32,98,31,97,30,96,29,95,28,94,27,93,26,92,25,91,24,90,23,89,22,88,21,87,20,86,19,85,18,84,17,83,16,82,15,81,14,80,13,79,12,78,11,77,10,76,9,75,8,74,7,73,6,72,5,71,4,70,3,69,2,68)$$"
      ],
      "text/plain": [
       "\\sigma^{66}= (1,67,133,66,132,65,131,64,130,63,129,62,128,61,127,60,126,59,125,58,124,57,123,56,122,55,121,54,120,53,119,52,118,51,117,50,116,49,115,48,114,47,113,46,112,45,111,44,110,43,109,42,108,41,107,40,106,39,105,38,104,37,103,36,102,35,101,34,100,33,99,32,98,31,97,30,96,29,95,28,94,27,93,26,92,25,91,24,90,23,89,22,88,21,87,20,86,19,85,18,84,17,83,16,82,15,81,14,80,13,79,12,78,11,77,10,76,9,75,8,74,7,73,6,72,5,71,4,70,3,69,2,68)"
      ]
     },
     "metadata": {},
     "output_type": "display_data"
    },
    {
     "data": {
      "text/html": [
       "<html><script type=\"math/tex; mode=display\">\\newcommand{\\Bold}[1]{\\mathbf{#1}}\\sigma^{67}= (1,68,2,69,3,70,4,71,5,72,6,73,7,74,8,75,9,76,10,77,11,78,12,79,13,80,14,81,15,82,16,83,17,84,18,85,19,86,20,87,21,88,22,89,23,90,24,91,25,92,26,93,27,94,28,95,29,96,30,97,31,98,32,99,33,100,34,101,35,102,36,103,37,104,38,105,39,106,40,107,41,108,42,109,43,110,44,111,45,112,46,113,47,114,48,115,49,116,50,117,51,118,52,119,53,120,54,121,55,122,56,123,57,124,58,125,59,126,60,127,61,128,62,129,63,130,64,131,65,132,66,133,67)</script></html>"
      ],
      "text/latex": [
       "$$\\newcommand{\\Bold}[1]{\\mathbf{#1}}\\sigma^{67}= (1,68,2,69,3,70,4,71,5,72,6,73,7,74,8,75,9,76,10,77,11,78,12,79,13,80,14,81,15,82,16,83,17,84,18,85,19,86,20,87,21,88,22,89,23,90,24,91,25,92,26,93,27,94,28,95,29,96,30,97,31,98,32,99,33,100,34,101,35,102,36,103,37,104,38,105,39,106,40,107,41,108,42,109,43,110,44,111,45,112,46,113,47,114,48,115,49,116,50,117,51,118,52,119,53,120,54,121,55,122,56,123,57,124,58,125,59,126,60,127,61,128,62,129,63,130,64,131,65,132,66,133,67)$$"
      ],
      "text/plain": [
       "\\sigma^{67}= (1,68,2,69,3,70,4,71,5,72,6,73,7,74,8,75,9,76,10,77,11,78,12,79,13,80,14,81,15,82,16,83,17,84,18,85,19,86,20,87,21,88,22,89,23,90,24,91,25,92,26,93,27,94,28,95,29,96,30,97,31,98,32,99,33,100,34,101,35,102,36,103,37,104,38,105,39,106,40,107,41,108,42,109,43,110,44,111,45,112,46,113,47,114,48,115,49,116,50,117,51,118,52,119,53,120,54,121,55,122,56,123,57,124,58,125,59,126,60,127,61,128,62,129,63,130,64,131,65,132,66,133,67)"
      ]
     },
     "metadata": {},
     "output_type": "display_data"
    },
    {
     "data": {
      "text/html": [
       "<html><script type=\"math/tex; mode=display\">\\newcommand{\\Bold}[1]{\\mathbf{#1}}\\sigma^{68}= (1,69,4,72,7,75,10,78,13,81,16,84,19,87,22,90,25,93,28,96,31,99,34,102,37,105,40,108,43,111,46,114,49,117,52,120,55,123,58,126,61,129,64,132,67,2,70,5,73,8,76,11,79,14,82,17,85,20,88,23,91,26,94,29,97,32,100,35,103,38,106,41,109,44,112,47,115,50,118,53,121,56,124,59,127,62,130,65,133,68,3,71,6,74,9,77,12,80,15,83,18,86,21,89,24,92,27,95,30,98,33,101,36,104,39,107,42,110,45,113,48,116,51,119,54,122,57,125,60,128,63,131,66)</script></html>"
      ],
      "text/latex": [
       "$$\\newcommand{\\Bold}[1]{\\mathbf{#1}}\\sigma^{68}= (1,69,4,72,7,75,10,78,13,81,16,84,19,87,22,90,25,93,28,96,31,99,34,102,37,105,40,108,43,111,46,114,49,117,52,120,55,123,58,126,61,129,64,132,67,2,70,5,73,8,76,11,79,14,82,17,85,20,88,23,91,26,94,29,97,32,100,35,103,38,106,41,109,44,112,47,115,50,118,53,121,56,124,59,127,62,130,65,133,68,3,71,6,74,9,77,12,80,15,83,18,86,21,89,24,92,27,95,30,98,33,101,36,104,39,107,42,110,45,113,48,116,51,119,54,122,57,125,60,128,63,131,66)$$"
      ],
      "text/plain": [
       "\\sigma^{68}= (1,69,4,72,7,75,10,78,13,81,16,84,19,87,22,90,25,93,28,96,31,99,34,102,37,105,40,108,43,111,46,114,49,117,52,120,55,123,58,126,61,129,64,132,67,2,70,5,73,8,76,11,79,14,82,17,85,20,88,23,91,26,94,29,97,32,100,35,103,38,106,41,109,44,112,47,115,50,118,53,121,56,124,59,127,62,130,65,133,68,3,71,6,74,9,77,12,80,15,83,18,86,21,89,24,92,27,95,30,98,33,101,36,104,39,107,42,110,45,113,48,116,51,119,54,122,57,125,60,128,63,131,66)"
      ]
     },
     "metadata": {},
     "output_type": "display_data"
    },
    {
     "data": {
      "text/html": [
       "<html><script type=\"math/tex; mode=display\">\\newcommand{\\Bold}[1]{\\mathbf{#1}}\\sigma^{69}= (1,70,6,75,11,80,16,85,21,90,26,95,31,100,36,105,41,110,46,115,51,120,56,125,61,130,66,2,71,7,76,12,81,17,86,22,91,27,96,32,101,37,106,42,111,47,116,52,121,57,126,62,131,67,3,72,8,77,13,82,18,87,23,92,28,97,33,102,38,107,43,112,48,117,53,122,58,127,63,132,68,4,73,9,78,14,83,19,88,24,93,29,98,34,103,39,108,44,113,49,118,54,123,59,128,64,133,69,5,74,10,79,15,84,20,89,25,94,30,99,35,104,40,109,45,114,50,119,55,124,60,129,65)</script></html>"
      ],
      "text/latex": [
       "$$\\newcommand{\\Bold}[1]{\\mathbf{#1}}\\sigma^{69}= (1,70,6,75,11,80,16,85,21,90,26,95,31,100,36,105,41,110,46,115,51,120,56,125,61,130,66,2,71,7,76,12,81,17,86,22,91,27,96,32,101,37,106,42,111,47,116,52,121,57,126,62,131,67,3,72,8,77,13,82,18,87,23,92,28,97,33,102,38,107,43,112,48,117,53,122,58,127,63,132,68,4,73,9,78,14,83,19,88,24,93,29,98,34,103,39,108,44,113,49,118,54,123,59,128,64,133,69,5,74,10,79,15,84,20,89,25,94,30,99,35,104,40,109,45,114,50,119,55,124,60,129,65)$$"
      ],
      "text/plain": [
       "\\sigma^{69}= (1,70,6,75,11,80,16,85,21,90,26,95,31,100,36,105,41,110,46,115,51,120,56,125,61,130,66,2,71,7,76,12,81,17,86,22,91,27,96,32,101,37,106,42,111,47,116,52,121,57,126,62,131,67,3,72,8,77,13,82,18,87,23,92,28,97,33,102,38,107,43,112,48,117,53,122,58,127,63,132,68,4,73,9,78,14,83,19,88,24,93,29,98,34,103,39,108,44,113,49,118,54,123,59,128,64,133,69,5,74,10,79,15,84,20,89,25,94,30,99,35,104,40,109,45,114,50,119,55,124,60,129,65)"
      ]
     },
     "metadata": {},
     "output_type": "display_data"
    },
    {
     "data": {
      "text/html": [
       "<html><script type=\"math/tex; mode=display\">\\newcommand{\\Bold}[1]{\\mathbf{#1}}\\sigma^{70}= (1,71,8,78,15,85,22,92,29,99,36,106,43,113,50,120,57,127,64)(2,72,9,79,16,86,23,93,30,100,37,107,44,114,51,121,58,128,65)(3,73,10,80,17,87,24,94,31,101,38,108,45,115,52,122,59,129,66)(4,74,11,81,18,88,25,95,32,102,39,109,46,116,53,123,60,130,67)(5,75,12,82,19,89,26,96,33,103,40,110,47,117,54,124,61,131,68)(6,76,13,83,20,90,27,97,34,104,41,111,48,118,55,125,62,132,69)(7,77,14,84,21,91,28,98,35,105,42,112,49,119,56,126,63,133,70)</script></html>"
      ],
      "text/latex": [
       "$$\\newcommand{\\Bold}[1]{\\mathbf{#1}}\\sigma^{70}= (1,71,8,78,15,85,22,92,29,99,36,106,43,113,50,120,57,127,64)(2,72,9,79,16,86,23,93,30,100,37,107,44,114,51,121,58,128,65)(3,73,10,80,17,87,24,94,31,101,38,108,45,115,52,122,59,129,66)(4,74,11,81,18,88,25,95,32,102,39,109,46,116,53,123,60,130,67)(5,75,12,82,19,89,26,96,33,103,40,110,47,117,54,124,61,131,68)(6,76,13,83,20,90,27,97,34,104,41,111,48,118,55,125,62,132,69)(7,77,14,84,21,91,28,98,35,105,42,112,49,119,56,126,63,133,70)$$"
      ],
      "text/plain": [
       "\\sigma^{70}= (1,71,8,78,15,85,22,92,29,99,36,106,43,113,50,120,57,127,64)(2,72,9,79,16,86,23,93,30,100,37,107,44,114,51,121,58,128,65)(3,73,10,80,17,87,24,94,31,101,38,108,45,115,52,122,59,129,66)(4,74,11,81,18,88,25,95,32,102,39,109,46,116,53,123,60,130,67)(5,75,12,82,19,89,26,96,33,103,40,110,47,117,54,124,61,131,68)(6,76,13,83,20,90,27,97,34,104,41,111,48,118,55,125,62,132,69)(7,77,14,84,21,91,28,98,35,105,42,112,49,119,56,126,63,133,70)"
      ]
     },
     "metadata": {},
     "output_type": "display_data"
    },
    {
     "data": {
      "text/html": [
       "<html><script type=\"math/tex; mode=display\">\\newcommand{\\Bold}[1]{\\mathbf{#1}}\\sigma^{71}= (1,72,10,81,19,90,28,99,37,108,46,117,55,126,64,2,73,11,82,20,91,29,100,38,109,47,118,56,127,65,3,74,12,83,21,92,30,101,39,110,48,119,57,128,66,4,75,13,84,22,93,31,102,40,111,49,120,58,129,67,5,76,14,85,23,94,32,103,41,112,50,121,59,130,68,6,77,15,86,24,95,33,104,42,113,51,122,60,131,69,7,78,16,87,25,96,34,105,43,114,52,123,61,132,70,8,79,17,88,26,97,35,106,44,115,53,124,62,133,71,9,80,18,89,27,98,36,107,45,116,54,125,63)</script></html>"
      ],
      "text/latex": [
       "$$\\newcommand{\\Bold}[1]{\\mathbf{#1}}\\sigma^{71}= (1,72,10,81,19,90,28,99,37,108,46,117,55,126,64,2,73,11,82,20,91,29,100,38,109,47,118,56,127,65,3,74,12,83,21,92,30,101,39,110,48,119,57,128,66,4,75,13,84,22,93,31,102,40,111,49,120,58,129,67,5,76,14,85,23,94,32,103,41,112,50,121,59,130,68,6,77,15,86,24,95,33,104,42,113,51,122,60,131,69,7,78,16,87,25,96,34,105,43,114,52,123,61,132,70,8,79,17,88,26,97,35,106,44,115,53,124,62,133,71,9,80,18,89,27,98,36,107,45,116,54,125,63)$$"
      ],
      "text/plain": [
       "\\sigma^{71}= (1,72,10,81,19,90,28,99,37,108,46,117,55,126,64,2,73,11,82,20,91,29,100,38,109,47,118,56,127,65,3,74,12,83,21,92,30,101,39,110,48,119,57,128,66,4,75,13,84,22,93,31,102,40,111,49,120,58,129,67,5,76,14,85,23,94,32,103,41,112,50,121,59,130,68,6,77,15,86,24,95,33,104,42,113,51,122,60,131,69,7,78,16,87,25,96,34,105,43,114,52,123,61,132,70,8,79,17,88,26,97,35,106,44,115,53,124,62,133,71,9,80,18,89,27,98,36,107,45,116,54,125,63)"
      ]
     },
     "metadata": {},
     "output_type": "display_data"
    },
    {
     "data": {
      "text/html": [
       "<html><script type=\"math/tex; mode=display\">\\newcommand{\\Bold}[1]{\\mathbf{#1}}\\sigma^{72}= (1,73,12,84,23,95,34,106,45,117,56,128,67,6,78,17,89,28,100,39,111,50,122,61,133,72,11,83,22,94,33,105,44,116,55,127,66,5,77,16,88,27,99,38,110,49,121,60,132,71,10,82,21,93,32,104,43,115,54,126,65,4,76,15,87,26,98,37,109,48,120,59,131,70,9,81,20,92,31,103,42,114,53,125,64,3,75,14,86,25,97,36,108,47,119,58,130,69,8,80,19,91,30,102,41,113,52,124,63,2,74,13,85,24,96,35,107,46,118,57,129,68,7,79,18,90,29,101,40,112,51,123,62)</script></html>"
      ],
      "text/latex": [
       "$$\\newcommand{\\Bold}[1]{\\mathbf{#1}}\\sigma^{72}= (1,73,12,84,23,95,34,106,45,117,56,128,67,6,78,17,89,28,100,39,111,50,122,61,133,72,11,83,22,94,33,105,44,116,55,127,66,5,77,16,88,27,99,38,110,49,121,60,132,71,10,82,21,93,32,104,43,115,54,126,65,4,76,15,87,26,98,37,109,48,120,59,131,70,9,81,20,92,31,103,42,114,53,125,64,3,75,14,86,25,97,36,108,47,119,58,130,69,8,80,19,91,30,102,41,113,52,124,63,2,74,13,85,24,96,35,107,46,118,57,129,68,7,79,18,90,29,101,40,112,51,123,62)$$"
      ],
      "text/plain": [
       "\\sigma^{72}= (1,73,12,84,23,95,34,106,45,117,56,128,67,6,78,17,89,28,100,39,111,50,122,61,133,72,11,83,22,94,33,105,44,116,55,127,66,5,77,16,88,27,99,38,110,49,121,60,132,71,10,82,21,93,32,104,43,115,54,126,65,4,76,15,87,26,98,37,109,48,120,59,131,70,9,81,20,92,31,103,42,114,53,125,64,3,75,14,86,25,97,36,108,47,119,58,130,69,8,80,19,91,30,102,41,113,52,124,63,2,74,13,85,24,96,35,107,46,118,57,129,68,7,79,18,90,29,101,40,112,51,123,62)"
      ]
     },
     "metadata": {},
     "output_type": "display_data"
    },
    {
     "data": {
      "text/html": [
       "<html><script type=\"math/tex; mode=display\">\\newcommand{\\Bold}[1]{\\mathbf{#1}}\\sigma^{73}= (1,74,14,87,27,100,40,113,53,126,66,6,79,19,92,32,105,45,118,58,131,71,11,84,24,97,37,110,50,123,63,3,76,16,89,29,102,42,115,55,128,68,8,81,21,94,34,107,47,120,60,133,73,13,86,26,99,39,112,52,125,65,5,78,18,91,31,104,44,117,57,130,70,10,83,23,96,36,109,49,122,62,2,75,15,88,28,101,41,114,54,127,67,7,80,20,93,33,106,46,119,59,132,72,12,85,25,98,38,111,51,124,64,4,77,17,90,30,103,43,116,56,129,69,9,82,22,95,35,108,48,121,61)</script></html>"
      ],
      "text/latex": [
       "$$\\newcommand{\\Bold}[1]{\\mathbf{#1}}\\sigma^{73}= (1,74,14,87,27,100,40,113,53,126,66,6,79,19,92,32,105,45,118,58,131,71,11,84,24,97,37,110,50,123,63,3,76,16,89,29,102,42,115,55,128,68,8,81,21,94,34,107,47,120,60,133,73,13,86,26,99,39,112,52,125,65,5,78,18,91,31,104,44,117,57,130,70,10,83,23,96,36,109,49,122,62,2,75,15,88,28,101,41,114,54,127,67,7,80,20,93,33,106,46,119,59,132,72,12,85,25,98,38,111,51,124,64,4,77,17,90,30,103,43,116,56,129,69,9,82,22,95,35,108,48,121,61)$$"
      ],
      "text/plain": [
       "\\sigma^{73}= (1,74,14,87,27,100,40,113,53,126,66,6,79,19,92,32,105,45,118,58,131,71,11,84,24,97,37,110,50,123,63,3,76,16,89,29,102,42,115,55,128,68,8,81,21,94,34,107,47,120,60,133,73,13,86,26,99,39,112,52,125,65,5,78,18,91,31,104,44,117,57,130,70,10,83,23,96,36,109,49,122,62,2,75,15,88,28,101,41,114,54,127,67,7,80,20,93,33,106,46,119,59,132,72,12,85,25,98,38,111,51,124,64,4,77,17,90,30,103,43,116,56,129,69,9,82,22,95,35,108,48,121,61)"
      ]
     },
     "metadata": {},
     "output_type": "display_data"
    },
    {
     "data": {
      "text/html": [
       "<html><script type=\"math/tex; mode=display\">\\newcommand{\\Bold}[1]{\\mathbf{#1}}\\sigma^{74}= (1,75,16,90,31,105,46,120,61,2,76,17,91,32,106,47,121,62,3,77,18,92,33,107,48,122,63,4,78,19,93,34,108,49,123,64,5,79,20,94,35,109,50,124,65,6,80,21,95,36,110,51,125,66,7,81,22,96,37,111,52,126,67,8,82,23,97,38,112,53,127,68,9,83,24,98,39,113,54,128,69,10,84,25,99,40,114,55,129,70,11,85,26,100,41,115,56,130,71,12,86,27,101,42,116,57,131,72,13,87,28,102,43,117,58,132,73,14,88,29,103,44,118,59,133,74,15,89,30,104,45,119,60)</script></html>"
      ],
      "text/latex": [
       "$$\\newcommand{\\Bold}[1]{\\mathbf{#1}}\\sigma^{74}= (1,75,16,90,31,105,46,120,61,2,76,17,91,32,106,47,121,62,3,77,18,92,33,107,48,122,63,4,78,19,93,34,108,49,123,64,5,79,20,94,35,109,50,124,65,6,80,21,95,36,110,51,125,66,7,81,22,96,37,111,52,126,67,8,82,23,97,38,112,53,127,68,9,83,24,98,39,113,54,128,69,10,84,25,99,40,114,55,129,70,11,85,26,100,41,115,56,130,71,12,86,27,101,42,116,57,131,72,13,87,28,102,43,117,58,132,73,14,88,29,103,44,118,59,133,74,15,89,30,104,45,119,60)$$"
      ],
      "text/plain": [
       "\\sigma^{74}= (1,75,16,90,31,105,46,120,61,2,76,17,91,32,106,47,121,62,3,77,18,92,33,107,48,122,63,4,78,19,93,34,108,49,123,64,5,79,20,94,35,109,50,124,65,6,80,21,95,36,110,51,125,66,7,81,22,96,37,111,52,126,67,8,82,23,97,38,112,53,127,68,9,83,24,98,39,113,54,128,69,10,84,25,99,40,114,55,129,70,11,85,26,100,41,115,56,130,71,12,86,27,101,42,116,57,131,72,13,87,28,102,43,117,58,132,73,14,88,29,103,44,118,59,133,74,15,89,30,104,45,119,60)"
      ]
     },
     "metadata": {},
     "output_type": "display_data"
    },
    {
     "data": {
      "text/html": [
       "<html><script type=\"math/tex; mode=display\">\\newcommand{\\Bold}[1]{\\mathbf{#1}}\\sigma^{75}= (1,76,18,93,35,110,52,127,69,11,86,28,103,45,120,62,4,79,21,96,38,113,55,130,72,14,89,31,106,48,123,65,7,82,24,99,41,116,58,133,75,17,92,34,109,51,126,68,10,85,27,102,44,119,61,3,78,20,95,37,112,54,129,71,13,88,30,105,47,122,64,6,81,23,98,40,115,57,132,74,16,91,33,108,50,125,67,9,84,26,101,43,118,60,2,77,19,94,36,111,53,128,70,12,87,29,104,46,121,63,5,80,22,97,39,114,56,131,73,15,90,32,107,49,124,66,8,83,25,100,42,117,59)</script></html>"
      ],
      "text/latex": [
       "$$\\newcommand{\\Bold}[1]{\\mathbf{#1}}\\sigma^{75}= (1,76,18,93,35,110,52,127,69,11,86,28,103,45,120,62,4,79,21,96,38,113,55,130,72,14,89,31,106,48,123,65,7,82,24,99,41,116,58,133,75,17,92,34,109,51,126,68,10,85,27,102,44,119,61,3,78,20,95,37,112,54,129,71,13,88,30,105,47,122,64,6,81,23,98,40,115,57,132,74,16,91,33,108,50,125,67,9,84,26,101,43,118,60,2,77,19,94,36,111,53,128,70,12,87,29,104,46,121,63,5,80,22,97,39,114,56,131,73,15,90,32,107,49,124,66,8,83,25,100,42,117,59)$$"
      ],
      "text/plain": [
       "\\sigma^{75}= (1,76,18,93,35,110,52,127,69,11,86,28,103,45,120,62,4,79,21,96,38,113,55,130,72,14,89,31,106,48,123,65,7,82,24,99,41,116,58,133,75,17,92,34,109,51,126,68,10,85,27,102,44,119,61,3,78,20,95,37,112,54,129,71,13,88,30,105,47,122,64,6,81,23,98,40,115,57,132,74,16,91,33,108,50,125,67,9,84,26,101,43,118,60,2,77,19,94,36,111,53,128,70,12,87,29,104,46,121,63,5,80,22,97,39,114,56,131,73,15,90,32,107,49,124,66,8,83,25,100,42,117,59)"
      ]
     },
     "metadata": {},
     "output_type": "display_data"
    },
    {
     "data": {
      "text/html": [
       "<html><script type=\"math/tex; mode=display\">\\newcommand{\\Bold}[1]{\\mathbf{#1}}\\sigma^{76}= (1,77,20,96,39,115,58)(2,78,21,97,40,116,59)(3,79,22,98,41,117,60)(4,80,23,99,42,118,61)(5,81,24,100,43,119,62)(6,82,25,101,44,120,63)(7,83,26,102,45,121,64)(8,84,27,103,46,122,65)(9,85,28,104,47,123,66)(10,86,29,105,48,124,67)(11,87,30,106,49,125,68)(12,88,31,107,50,126,69)(13,89,32,108,51,127,70)(14,90,33,109,52,128,71)(15,91,34,110,53,129,72)(16,92,35,111,54,130,73)(17,93,36,112,55,131,74)(18,94,37,113,56,132,75)(19,95,38,114,57,133,76)</script></html>"
      ],
      "text/latex": [
       "$$\\newcommand{\\Bold}[1]{\\mathbf{#1}}\\sigma^{76}= (1,77,20,96,39,115,58)(2,78,21,97,40,116,59)(3,79,22,98,41,117,60)(4,80,23,99,42,118,61)(5,81,24,100,43,119,62)(6,82,25,101,44,120,63)(7,83,26,102,45,121,64)(8,84,27,103,46,122,65)(9,85,28,104,47,123,66)(10,86,29,105,48,124,67)(11,87,30,106,49,125,68)(12,88,31,107,50,126,69)(13,89,32,108,51,127,70)(14,90,33,109,52,128,71)(15,91,34,110,53,129,72)(16,92,35,111,54,130,73)(17,93,36,112,55,131,74)(18,94,37,113,56,132,75)(19,95,38,114,57,133,76)$$"
      ],
      "text/plain": [
       "\\sigma^{76}= (1,77,20,96,39,115,58)(2,78,21,97,40,116,59)(3,79,22,98,41,117,60)(4,80,23,99,42,118,61)(5,81,24,100,43,119,62)(6,82,25,101,44,120,63)(7,83,26,102,45,121,64)(8,84,27,103,46,122,65)(9,85,28,104,47,123,66)(10,86,29,105,48,124,67)(11,87,30,106,49,125,68)(12,88,31,107,50,126,69)(13,89,32,108,51,127,70)(14,90,33,109,52,128,71)(15,91,34,110,53,129,72)(16,92,35,111,54,130,73)(17,93,36,112,55,131,74)(18,94,37,113,56,132,75)(19,95,38,114,57,133,76)"
      ]
     },
     "metadata": {},
     "output_type": "display_data"
    },
    {
     "data": {
      "text/html": [
       "<html><script type=\"math/tex; mode=display\">\\newcommand{\\Bold}[1]{\\mathbf{#1}}\\sigma^{77}= (1,78,22,99,43,120,64,8,85,29,106,50,127,71,15,92,36,113,57)(2,79,23,100,44,121,65,9,86,30,107,51,128,72,16,93,37,114,58)(3,80,24,101,45,122,66,10,87,31,108,52,129,73,17,94,38,115,59)(4,81,25,102,46,123,67,11,88,32,109,53,130,74,18,95,39,116,60)(5,82,26,103,47,124,68,12,89,33,110,54,131,75,19,96,40,117,61)(6,83,27,104,48,125,69,13,90,34,111,55,132,76,20,97,41,118,62)(7,84,28,105,49,126,70,14,91,35,112,56,133,77,21,98,42,119,63)</script></html>"
      ],
      "text/latex": [
       "$$\\newcommand{\\Bold}[1]{\\mathbf{#1}}\\sigma^{77}= (1,78,22,99,43,120,64,8,85,29,106,50,127,71,15,92,36,113,57)(2,79,23,100,44,121,65,9,86,30,107,51,128,72,16,93,37,114,58)(3,80,24,101,45,122,66,10,87,31,108,52,129,73,17,94,38,115,59)(4,81,25,102,46,123,67,11,88,32,109,53,130,74,18,95,39,116,60)(5,82,26,103,47,124,68,12,89,33,110,54,131,75,19,96,40,117,61)(6,83,27,104,48,125,69,13,90,34,111,55,132,76,20,97,41,118,62)(7,84,28,105,49,126,70,14,91,35,112,56,133,77,21,98,42,119,63)$$"
      ],
      "text/plain": [
       "\\sigma^{77}= (1,78,22,99,43,120,64,8,85,29,106,50,127,71,15,92,36,113,57)(2,79,23,100,44,121,65,9,86,30,107,51,128,72,16,93,37,114,58)(3,80,24,101,45,122,66,10,87,31,108,52,129,73,17,94,38,115,59)(4,81,25,102,46,123,67,11,88,32,109,53,130,74,18,95,39,116,60)(5,82,26,103,47,124,68,12,89,33,110,54,131,75,19,96,40,117,61)(6,83,27,104,48,125,69,13,90,34,111,55,132,76,20,97,41,118,62)(7,84,28,105,49,126,70,14,91,35,112,56,133,77,21,98,42,119,63)"
      ]
     },
     "metadata": {},
     "output_type": "display_data"
    },
    {
     "data": {
      "text/html": [
       "<html><script type=\"math/tex; mode=display\">\\newcommand{\\Bold}[1]{\\mathbf{#1}}\\sigma^{78}= (1,79,24,102,47,125,70,15,93,38,116,61,6,84,29,107,52,130,75,20,98,43,121,66,11,89,34,112,57,2,80,25,103,48,126,71,16,94,39,117,62,7,85,30,108,53,131,76,21,99,44,122,67,12,90,35,113,58,3,81,26,104,49,127,72,17,95,40,118,63,8,86,31,109,54,132,77,22,100,45,123,68,13,91,36,114,59,4,82,27,105,50,128,73,18,96,41,119,64,9,87,32,110,55,133,78,23,101,46,124,69,14,92,37,115,60,5,83,28,106,51,129,74,19,97,42,120,65,10,88,33,111,56)</script></html>"
      ],
      "text/latex": [
       "$$\\newcommand{\\Bold}[1]{\\mathbf{#1}}\\sigma^{78}= (1,79,24,102,47,125,70,15,93,38,116,61,6,84,29,107,52,130,75,20,98,43,121,66,11,89,34,112,57,2,80,25,103,48,126,71,16,94,39,117,62,7,85,30,108,53,131,76,21,99,44,122,67,12,90,35,113,58,3,81,26,104,49,127,72,17,95,40,118,63,8,86,31,109,54,132,77,22,100,45,123,68,13,91,36,114,59,4,82,27,105,50,128,73,18,96,41,119,64,9,87,32,110,55,133,78,23,101,46,124,69,14,92,37,115,60,5,83,28,106,51,129,74,19,97,42,120,65,10,88,33,111,56)$$"
      ],
      "text/plain": [
       "\\sigma^{78}= (1,79,24,102,47,125,70,15,93,38,116,61,6,84,29,107,52,130,75,20,98,43,121,66,11,89,34,112,57,2,80,25,103,48,126,71,16,94,39,117,62,7,85,30,108,53,131,76,21,99,44,122,67,12,90,35,113,58,3,81,26,104,49,127,72,17,95,40,118,63,8,86,31,109,54,132,77,22,100,45,123,68,13,91,36,114,59,4,82,27,105,50,128,73,18,96,41,119,64,9,87,32,110,55,133,78,23,101,46,124,69,14,92,37,115,60,5,83,28,106,51,129,74,19,97,42,120,65,10,88,33,111,56)"
      ]
     },
     "metadata": {},
     "output_type": "display_data"
    },
    {
     "data": {
      "text/html": [
       "<html><script type=\"math/tex; mode=display\">\\newcommand{\\Bold}[1]{\\mathbf{#1}}\\sigma^{79}= (1,80,26,105,51,130,76,22,101,47,126,72,18,97,43,122,68,14,93,39,118,64,10,89,35,114,60,6,85,31,110,56,2,81,27,106,52,131,77,23,102,48,127,73,19,98,44,123,69,15,94,40,119,65,11,90,36,115,61,7,86,32,111,57,3,82,28,107,53,132,78,24,103,49,128,74,20,99,45,124,70,16,95,41,120,66,12,91,37,116,62,8,87,33,112,58,4,83,29,108,54,133,79,25,104,50,129,75,21,100,46,125,71,17,96,42,121,67,13,92,38,117,63,9,88,34,113,59,5,84,30,109,55)</script></html>"
      ],
      "text/latex": [
       "$$\\newcommand{\\Bold}[1]{\\mathbf{#1}}\\sigma^{79}= (1,80,26,105,51,130,76,22,101,47,126,72,18,97,43,122,68,14,93,39,118,64,10,89,35,114,60,6,85,31,110,56,2,81,27,106,52,131,77,23,102,48,127,73,19,98,44,123,69,15,94,40,119,65,11,90,36,115,61,7,86,32,111,57,3,82,28,107,53,132,78,24,103,49,128,74,20,99,45,124,70,16,95,41,120,66,12,91,37,116,62,8,87,33,112,58,4,83,29,108,54,133,79,25,104,50,129,75,21,100,46,125,71,17,96,42,121,67,13,92,38,117,63,9,88,34,113,59,5,84,30,109,55)$$"
      ],
      "text/plain": [
       "\\sigma^{79}= (1,80,26,105,51,130,76,22,101,47,126,72,18,97,43,122,68,14,93,39,118,64,10,89,35,114,60,6,85,31,110,56,2,81,27,106,52,131,77,23,102,48,127,73,19,98,44,123,69,15,94,40,119,65,11,90,36,115,61,7,86,32,111,57,3,82,28,107,53,132,78,24,103,49,128,74,20,99,45,124,70,16,95,41,120,66,12,91,37,116,62,8,87,33,112,58,4,83,29,108,54,133,79,25,104,50,129,75,21,100,46,125,71,17,96,42,121,67,13,92,38,117,63,9,88,34,113,59,5,84,30,109,55)"
      ]
     },
     "metadata": {},
     "output_type": "display_data"
    },
    {
     "data": {
      "text/html": [
       "<html><script type=\"math/tex; mode=display\">\\newcommand{\\Bold}[1]{\\mathbf{#1}}\\sigma^{80}= (1,81,28,108,55,2,82,29,109,56,3,83,30,110,57,4,84,31,111,58,5,85,32,112,59,6,86,33,113,60,7,87,34,114,61,8,88,35,115,62,9,89,36,116,63,10,90,37,117,64,11,91,38,118,65,12,92,39,119,66,13,93,40,120,67,14,94,41,121,68,15,95,42,122,69,16,96,43,123,70,17,97,44,124,71,18,98,45,125,72,19,99,46,126,73,20,100,47,127,74,21,101,48,128,75,22,102,49,129,76,23,103,50,130,77,24,104,51,131,78,25,105,52,132,79,26,106,53,133,80,27,107,54)</script></html>"
      ],
      "text/latex": [
       "$$\\newcommand{\\Bold}[1]{\\mathbf{#1}}\\sigma^{80}= (1,81,28,108,55,2,82,29,109,56,3,83,30,110,57,4,84,31,111,58,5,85,32,112,59,6,86,33,113,60,7,87,34,114,61,8,88,35,115,62,9,89,36,116,63,10,90,37,117,64,11,91,38,118,65,12,92,39,119,66,13,93,40,120,67,14,94,41,121,68,15,95,42,122,69,16,96,43,123,70,17,97,44,124,71,18,98,45,125,72,19,99,46,126,73,20,100,47,127,74,21,101,48,128,75,22,102,49,129,76,23,103,50,130,77,24,104,51,131,78,25,105,52,132,79,26,106,53,133,80,27,107,54)$$"
      ],
      "text/plain": [
       "\\sigma^{80}= (1,81,28,108,55,2,82,29,109,56,3,83,30,110,57,4,84,31,111,58,5,85,32,112,59,6,86,33,113,60,7,87,34,114,61,8,88,35,115,62,9,89,36,116,63,10,90,37,117,64,11,91,38,118,65,12,92,39,119,66,13,93,40,120,67,14,94,41,121,68,15,95,42,122,69,16,96,43,123,70,17,97,44,124,71,18,98,45,125,72,19,99,46,126,73,20,100,47,127,74,21,101,48,128,75,22,102,49,129,76,23,103,50,130,77,24,104,51,131,78,25,105,52,132,79,26,106,53,133,80,27,107,54)"
      ]
     },
     "metadata": {},
     "output_type": "display_data"
    },
    {
     "data": {
      "text/html": [
       "<html><script type=\"math/tex; mode=display\">\\newcommand{\\Bold}[1]{\\mathbf{#1}}\\sigma^{81}= (1,82,30,111,59,7,88,36,117,65,13,94,42,123,71,19,100,48,129,77,25,106,54,2,83,31,112,60,8,89,37,118,66,14,95,43,124,72,20,101,49,130,78,26,107,55,3,84,32,113,61,9,90,38,119,67,15,96,44,125,73,21,102,50,131,79,27,108,56,4,85,33,114,62,10,91,39,120,68,16,97,45,126,74,22,103,51,132,80,28,109,57,5,86,34,115,63,11,92,40,121,69,17,98,46,127,75,23,104,52,133,81,29,110,58,6,87,35,116,64,12,93,41,122,70,18,99,47,128,76,24,105,53)</script></html>"
      ],
      "text/latex": [
       "$$\\newcommand{\\Bold}[1]{\\mathbf{#1}}\\sigma^{81}= (1,82,30,111,59,7,88,36,117,65,13,94,42,123,71,19,100,48,129,77,25,106,54,2,83,31,112,60,8,89,37,118,66,14,95,43,124,72,20,101,49,130,78,26,107,55,3,84,32,113,61,9,90,38,119,67,15,96,44,125,73,21,102,50,131,79,27,108,56,4,85,33,114,62,10,91,39,120,68,16,97,45,126,74,22,103,51,132,80,28,109,57,5,86,34,115,63,11,92,40,121,69,17,98,46,127,75,23,104,52,133,81,29,110,58,6,87,35,116,64,12,93,41,122,70,18,99,47,128,76,24,105,53)$$"
      ],
      "text/plain": [
       "\\sigma^{81}= (1,82,30,111,59,7,88,36,117,65,13,94,42,123,71,19,100,48,129,77,25,106,54,2,83,31,112,60,8,89,37,118,66,14,95,43,124,72,20,101,49,130,78,26,107,55,3,84,32,113,61,9,90,38,119,67,15,96,44,125,73,21,102,50,131,79,27,108,56,4,85,33,114,62,10,91,39,120,68,16,97,45,126,74,22,103,51,132,80,28,109,57,5,86,34,115,63,11,92,40,121,69,17,98,46,127,75,23,104,52,133,81,29,110,58,6,87,35,116,64,12,93,41,122,70,18,99,47,128,76,24,105,53)"
      ]
     },
     "metadata": {},
     "output_type": "display_data"
    },
    {
     "data": {
      "text/html": [
       "<html><script type=\"math/tex; mode=display\">\\newcommand{\\Bold}[1]{\\mathbf{#1}}\\sigma^{82}= (1,83,32,114,63,12,94,43,125,74,23,105,54,3,85,34,116,65,14,96,45,127,76,25,107,56,5,87,36,118,67,16,98,47,129,78,27,109,58,7,89,38,120,69,18,100,49,131,80,29,111,60,9,91,40,122,71,20,102,51,133,82,31,113,62,11,93,42,124,73,22,104,53,2,84,33,115,64,13,95,44,126,75,24,106,55,4,86,35,117,66,15,97,46,128,77,26,108,57,6,88,37,119,68,17,99,48,130,79,28,110,59,8,90,39,121,70,19,101,50,132,81,30,112,61,10,92,41,123,72,21,103,52)</script></html>"
      ],
      "text/latex": [
       "$$\\newcommand{\\Bold}[1]{\\mathbf{#1}}\\sigma^{82}= (1,83,32,114,63,12,94,43,125,74,23,105,54,3,85,34,116,65,14,96,45,127,76,25,107,56,5,87,36,118,67,16,98,47,129,78,27,109,58,7,89,38,120,69,18,100,49,131,80,29,111,60,9,91,40,122,71,20,102,51,133,82,31,113,62,11,93,42,124,73,22,104,53,2,84,33,115,64,13,95,44,126,75,24,106,55,4,86,35,117,66,15,97,46,128,77,26,108,57,6,88,37,119,68,17,99,48,130,79,28,110,59,8,90,39,121,70,19,101,50,132,81,30,112,61,10,92,41,123,72,21,103,52)$$"
      ],
      "text/plain": [
       "\\sigma^{82}= (1,83,32,114,63,12,94,43,125,74,23,105,54,3,85,34,116,65,14,96,45,127,76,25,107,56,5,87,36,118,67,16,98,47,129,78,27,109,58,7,89,38,120,69,18,100,49,131,80,29,111,60,9,91,40,122,71,20,102,51,133,82,31,113,62,11,93,42,124,73,22,104,53,2,84,33,115,64,13,95,44,126,75,24,106,55,4,86,35,117,66,15,97,46,128,77,26,108,57,6,88,37,119,68,17,99,48,130,79,28,110,59,8,90,39,121,70,19,101,50,132,81,30,112,61,10,92,41,123,72,21,103,52)"
      ]
     },
     "metadata": {},
     "output_type": "display_data"
    },
    {
     "data": {
      "text/html": [
       "<html><script type=\"math/tex; mode=display\">\\newcommand{\\Bold}[1]{\\mathbf{#1}}\\sigma^{83}= (1,84,34,117,67,17,100,50,133,83,33,116,66,16,99,49,132,82,32,115,65,15,98,48,131,81,31,114,64,14,97,47,130,80,30,113,63,13,96,46,129,79,29,112,62,12,95,45,128,78,28,111,61,11,94,44,127,77,27,110,60,10,93,43,126,76,26,109,59,9,92,42,125,75,25,108,58,8,91,41,124,74,24,107,57,7,90,40,123,73,23,106,56,6,89,39,122,72,22,105,55,5,88,38,121,71,21,104,54,4,87,37,120,70,20,103,53,3,86,36,119,69,19,102,52,2,85,35,118,68,18,101,51)</script></html>"
      ],
      "text/latex": [
       "$$\\newcommand{\\Bold}[1]{\\mathbf{#1}}\\sigma^{83}= (1,84,34,117,67,17,100,50,133,83,33,116,66,16,99,49,132,82,32,115,65,15,98,48,131,81,31,114,64,14,97,47,130,80,30,113,63,13,96,46,129,79,29,112,62,12,95,45,128,78,28,111,61,11,94,44,127,77,27,110,60,10,93,43,126,76,26,109,59,9,92,42,125,75,25,108,58,8,91,41,124,74,24,107,57,7,90,40,123,73,23,106,56,6,89,39,122,72,22,105,55,5,88,38,121,71,21,104,54,4,87,37,120,70,20,103,53,3,86,36,119,69,19,102,52,2,85,35,118,68,18,101,51)$$"
      ],
      "text/plain": [
       "\\sigma^{83}= (1,84,34,117,67,17,100,50,133,83,33,116,66,16,99,49,132,82,32,115,65,15,98,48,131,81,31,114,64,14,97,47,130,80,30,113,63,13,96,46,129,79,29,112,62,12,95,45,128,78,28,111,61,11,94,44,127,77,27,110,60,10,93,43,126,76,26,109,59,9,92,42,125,75,25,108,58,8,91,41,124,74,24,107,57,7,90,40,123,73,23,106,56,6,89,39,122,72,22,105,55,5,88,38,121,71,21,104,54,4,87,37,120,70,20,103,53,3,86,36,119,69,19,102,52,2,85,35,118,68,18,101,51)"
      ]
     },
     "metadata": {},
     "output_type": "display_data"
    },
    {
     "data": {
      "text/html": [
       "<html><script type=\"math/tex; mode=display\">\\newcommand{\\Bold}[1]{\\mathbf{#1}}\\sigma^{84}= (1,85,36,120,71,22,106,57,8,92,43,127,78,29,113,64,15,99,50)(2,86,37,121,72,23,107,58,9,93,44,128,79,30,114,65,16,100,51)(3,87,38,122,73,24,108,59,10,94,45,129,80,31,115,66,17,101,52)(4,88,39,123,74,25,109,60,11,95,46,130,81,32,116,67,18,102,53)(5,89,40,124,75,26,110,61,12,96,47,131,82,33,117,68,19,103,54)(6,90,41,125,76,27,111,62,13,97,48,132,83,34,118,69,20,104,55)(7,91,42,126,77,28,112,63,14,98,49,133,84,35,119,70,21,105,56)</script></html>"
      ],
      "text/latex": [
       "$$\\newcommand{\\Bold}[1]{\\mathbf{#1}}\\sigma^{84}= (1,85,36,120,71,22,106,57,8,92,43,127,78,29,113,64,15,99,50)(2,86,37,121,72,23,107,58,9,93,44,128,79,30,114,65,16,100,51)(3,87,38,122,73,24,108,59,10,94,45,129,80,31,115,66,17,101,52)(4,88,39,123,74,25,109,60,11,95,46,130,81,32,116,67,18,102,53)(5,89,40,124,75,26,110,61,12,96,47,131,82,33,117,68,19,103,54)(6,90,41,125,76,27,111,62,13,97,48,132,83,34,118,69,20,104,55)(7,91,42,126,77,28,112,63,14,98,49,133,84,35,119,70,21,105,56)$$"
      ],
      "text/plain": [
       "\\sigma^{84}= (1,85,36,120,71,22,106,57,8,92,43,127,78,29,113,64,15,99,50)(2,86,37,121,72,23,107,58,9,93,44,128,79,30,114,65,16,100,51)(3,87,38,122,73,24,108,59,10,94,45,129,80,31,115,66,17,101,52)(4,88,39,123,74,25,109,60,11,95,46,130,81,32,116,67,18,102,53)(5,89,40,124,75,26,110,61,12,96,47,131,82,33,117,68,19,103,54)(6,90,41,125,76,27,111,62,13,97,48,132,83,34,118,69,20,104,55)(7,91,42,126,77,28,112,63,14,98,49,133,84,35,119,70,21,105,56)"
      ]
     },
     "metadata": {},
     "output_type": "display_data"
    },
    {
     "data": {
      "text/html": [
       "<html><script type=\"math/tex; mode=display\">\\newcommand{\\Bold}[1]{\\mathbf{#1}}\\sigma^{85}= (1,86,38,123,75,27,112,64,16,101,53,5,90,42,127,79,31,116,68,20,105,57,9,94,46,131,83,35,120,72,24,109,61,13,98,50,2,87,39,124,76,28,113,65,17,102,54,6,91,43,128,80,32,117,69,21,106,58,10,95,47,132,84,36,121,73,25,110,62,14,99,51,3,88,40,125,77,29,114,66,18,103,55,7,92,44,129,81,33,118,70,22,107,59,11,96,48,133,85,37,122,74,26,111,63,15,100,52,4,89,41,126,78,30,115,67,19,104,56,8,93,45,130,82,34,119,71,23,108,60,12,97,49)</script></html>"
      ],
      "text/latex": [
       "$$\\newcommand{\\Bold}[1]{\\mathbf{#1}}\\sigma^{85}= (1,86,38,123,75,27,112,64,16,101,53,5,90,42,127,79,31,116,68,20,105,57,9,94,46,131,83,35,120,72,24,109,61,13,98,50,2,87,39,124,76,28,113,65,17,102,54,6,91,43,128,80,32,117,69,21,106,58,10,95,47,132,84,36,121,73,25,110,62,14,99,51,3,88,40,125,77,29,114,66,18,103,55,7,92,44,129,81,33,118,70,22,107,59,11,96,48,133,85,37,122,74,26,111,63,15,100,52,4,89,41,126,78,30,115,67,19,104,56,8,93,45,130,82,34,119,71,23,108,60,12,97,49)$$"
      ],
      "text/plain": [
       "\\sigma^{85}= (1,86,38,123,75,27,112,64,16,101,53,5,90,42,127,79,31,116,68,20,105,57,9,94,46,131,83,35,120,72,24,109,61,13,98,50,2,87,39,124,76,28,113,65,17,102,54,6,91,43,128,80,32,117,69,21,106,58,10,95,47,132,84,36,121,73,25,110,62,14,99,51,3,88,40,125,77,29,114,66,18,103,55,7,92,44,129,81,33,118,70,22,107,59,11,96,48,133,85,37,122,74,26,111,63,15,100,52,4,89,41,126,78,30,115,67,19,104,56,8,93,45,130,82,34,119,71,23,108,60,12,97,49)"
      ]
     },
     "metadata": {},
     "output_type": "display_data"
    },
    {
     "data": {
      "text/html": [
       "<html><script type=\"math/tex; mode=display\">\\newcommand{\\Bold}[1]{\\mathbf{#1}}\\sigma^{86}= (1,87,40,126,79,32,118,71,24,110,63,16,102,55,8,94,47,133,86,39,125,78,31,117,70,23,109,62,15,101,54,7,93,46,132,85,38,124,77,30,116,69,22,108,61,14,100,53,6,92,45,131,84,37,123,76,29,115,68,21,107,60,13,99,52,5,91,44,130,83,36,122,75,28,114,67,20,106,59,12,98,51,4,90,43,129,82,35,121,74,27,113,66,19,105,58,11,97,50,3,89,42,128,81,34,120,73,26,112,65,18,104,57,10,96,49,2,88,41,127,80,33,119,72,25,111,64,17,103,56,9,95,48)</script></html>"
      ],
      "text/latex": [
       "$$\\newcommand{\\Bold}[1]{\\mathbf{#1}}\\sigma^{86}= (1,87,40,126,79,32,118,71,24,110,63,16,102,55,8,94,47,133,86,39,125,78,31,117,70,23,109,62,15,101,54,7,93,46,132,85,38,124,77,30,116,69,22,108,61,14,100,53,6,92,45,131,84,37,123,76,29,115,68,21,107,60,13,99,52,5,91,44,130,83,36,122,75,28,114,67,20,106,59,12,98,51,4,90,43,129,82,35,121,74,27,113,66,19,105,58,11,97,50,3,89,42,128,81,34,120,73,26,112,65,18,104,57,10,96,49,2,88,41,127,80,33,119,72,25,111,64,17,103,56,9,95,48)$$"
      ],
      "text/plain": [
       "\\sigma^{86}= (1,87,40,126,79,32,118,71,24,110,63,16,102,55,8,94,47,133,86,39,125,78,31,117,70,23,109,62,15,101,54,7,93,46,132,85,38,124,77,30,116,69,22,108,61,14,100,53,6,92,45,131,84,37,123,76,29,115,68,21,107,60,13,99,52,5,91,44,130,83,36,122,75,28,114,67,20,106,59,12,98,51,4,90,43,129,82,35,121,74,27,113,66,19,105,58,11,97,50,3,89,42,128,81,34,120,73,26,112,65,18,104,57,10,96,49,2,88,41,127,80,33,119,72,25,111,64,17,103,56,9,95,48)"
      ]
     },
     "metadata": {},
     "output_type": "display_data"
    },
    {
     "data": {
      "text/html": [
       "<html><script type=\"math/tex; mode=display\">\\newcommand{\\Bold}[1]{\\mathbf{#1}}\\sigma^{87}= (1,88,42,129,83,37,124,78,32,119,73,27,114,68,22,109,63,17,104,58,12,99,53,7,94,48,2,89,43,130,84,38,125,79,33,120,74,28,115,69,23,110,64,18,105,59,13,100,54,8,95,49,3,90,44,131,85,39,126,80,34,121,75,29,116,70,24,111,65,19,106,60,14,101,55,9,96,50,4,91,45,132,86,40,127,81,35,122,76,30,117,71,25,112,66,20,107,61,15,102,56,10,97,51,5,92,46,133,87,41,128,82,36,123,77,31,118,72,26,113,67,21,108,62,16,103,57,11,98,52,6,93,47)</script></html>"
      ],
      "text/latex": [
       "$$\\newcommand{\\Bold}[1]{\\mathbf{#1}}\\sigma^{87}= (1,88,42,129,83,37,124,78,32,119,73,27,114,68,22,109,63,17,104,58,12,99,53,7,94,48,2,89,43,130,84,38,125,79,33,120,74,28,115,69,23,110,64,18,105,59,13,100,54,8,95,49,3,90,44,131,85,39,126,80,34,121,75,29,116,70,24,111,65,19,106,60,14,101,55,9,96,50,4,91,45,132,86,40,127,81,35,122,76,30,117,71,25,112,66,20,107,61,15,102,56,10,97,51,5,92,46,133,87,41,128,82,36,123,77,31,118,72,26,113,67,21,108,62,16,103,57,11,98,52,6,93,47)$$"
      ],
      "text/plain": [
       "\\sigma^{87}= (1,88,42,129,83,37,124,78,32,119,73,27,114,68,22,109,63,17,104,58,12,99,53,7,94,48,2,89,43,130,84,38,125,79,33,120,74,28,115,69,23,110,64,18,105,59,13,100,54,8,95,49,3,90,44,131,85,39,126,80,34,121,75,29,116,70,24,111,65,19,106,60,14,101,55,9,96,50,4,91,45,132,86,40,127,81,35,122,76,30,117,71,25,112,66,20,107,61,15,102,56,10,97,51,5,92,46,133,87,41,128,82,36,123,77,31,118,72,26,113,67,21,108,62,16,103,57,11,98,52,6,93,47)"
      ]
     },
     "metadata": {},
     "output_type": "display_data"
    },
    {
     "data": {
      "text/html": [
       "<html><script type=\"math/tex; mode=display\">\\newcommand{\\Bold}[1]{\\mathbf{#1}}\\sigma^{88}= (1,89,44,132,87,42,130,85,40,128,83,38,126,81,36,124,79,34,122,77,32,120,75,30,118,73,28,116,71,26,114,69,24,112,67,22,110,65,20,108,63,18,106,61,16,104,59,14,102,57,12,100,55,10,98,53,8,96,51,6,94,49,4,92,47,2,90,45,133,88,43,131,86,41,129,84,39,127,82,37,125,80,35,123,78,33,121,76,31,119,74,29,117,72,27,115,70,25,113,68,23,111,66,21,109,64,19,107,62,17,105,60,15,103,58,13,101,56,11,99,54,9,97,52,7,95,50,5,93,48,3,91,46)</script></html>"
      ],
      "text/latex": [
       "$$\\newcommand{\\Bold}[1]{\\mathbf{#1}}\\sigma^{88}= (1,89,44,132,87,42,130,85,40,128,83,38,126,81,36,124,79,34,122,77,32,120,75,30,118,73,28,116,71,26,114,69,24,112,67,22,110,65,20,108,63,18,106,61,16,104,59,14,102,57,12,100,55,10,98,53,8,96,51,6,94,49,4,92,47,2,90,45,133,88,43,131,86,41,129,84,39,127,82,37,125,80,35,123,78,33,121,76,31,119,74,29,117,72,27,115,70,25,113,68,23,111,66,21,109,64,19,107,62,17,105,60,15,103,58,13,101,56,11,99,54,9,97,52,7,95,50,5,93,48,3,91,46)$$"
      ],
      "text/plain": [
       "\\sigma^{88}= (1,89,44,132,87,42,130,85,40,128,83,38,126,81,36,124,79,34,122,77,32,120,75,30,118,73,28,116,71,26,114,69,24,112,67,22,110,65,20,108,63,18,106,61,16,104,59,14,102,57,12,100,55,10,98,53,8,96,51,6,94,49,4,92,47,2,90,45,133,88,43,131,86,41,129,84,39,127,82,37,125,80,35,123,78,33,121,76,31,119,74,29,117,72,27,115,70,25,113,68,23,111,66,21,109,64,19,107,62,17,105,60,15,103,58,13,101,56,11,99,54,9,97,52,7,95,50,5,93,48,3,91,46)"
      ]
     },
     "metadata": {},
     "output_type": "display_data"
    },
    {
     "data": {
      "text/html": [
       "<html><script type=\"math/tex; mode=display\">\\newcommand{\\Bold}[1]{\\mathbf{#1}}\\sigma^{89}= (1,90,46,2,91,47,3,92,48,4,93,49,5,94,50,6,95,51,7,96,52,8,97,53,9,98,54,10,99,55,11,100,56,12,101,57,13,102,58,14,103,59,15,104,60,16,105,61,17,106,62,18,107,63,19,108,64,20,109,65,21,110,66,22,111,67,23,112,68,24,113,69,25,114,70,26,115,71,27,116,72,28,117,73,29,118,74,30,119,75,31,120,76,32,121,77,33,122,78,34,123,79,35,124,80,36,125,81,37,126,82,38,127,83,39,128,84,40,129,85,41,130,86,42,131,87,43,132,88,44,133,89,45)</script></html>"
      ],
      "text/latex": [
       "$$\\newcommand{\\Bold}[1]{\\mathbf{#1}}\\sigma^{89}= (1,90,46,2,91,47,3,92,48,4,93,49,5,94,50,6,95,51,7,96,52,8,97,53,9,98,54,10,99,55,11,100,56,12,101,57,13,102,58,14,103,59,15,104,60,16,105,61,17,106,62,18,107,63,19,108,64,20,109,65,21,110,66,22,111,67,23,112,68,24,113,69,25,114,70,26,115,71,27,116,72,28,117,73,29,118,74,30,119,75,31,120,76,32,121,77,33,122,78,34,123,79,35,124,80,36,125,81,37,126,82,38,127,83,39,128,84,40,129,85,41,130,86,42,131,87,43,132,88,44,133,89,45)$$"
      ],
      "text/plain": [
       "\\sigma^{89}= (1,90,46,2,91,47,3,92,48,4,93,49,5,94,50,6,95,51,7,96,52,8,97,53,9,98,54,10,99,55,11,100,56,12,101,57,13,102,58,14,103,59,15,104,60,16,105,61,17,106,62,18,107,63,19,108,64,20,109,65,21,110,66,22,111,67,23,112,68,24,113,69,25,114,70,26,115,71,27,116,72,28,117,73,29,118,74,30,119,75,31,120,76,32,121,77,33,122,78,34,123,79,35,124,80,36,125,81,37,126,82,38,127,83,39,128,84,40,129,85,41,130,86,42,131,87,43,132,88,44,133,89,45)"
      ]
     },
     "metadata": {},
     "output_type": "display_data"
    },
    {
     "data": {
      "text/html": [
       "<html><script type=\"math/tex; mode=display\">\\newcommand{\\Bold}[1]{\\mathbf{#1}}\\sigma^{90}= (1,91,48,5,95,52,9,99,56,13,103,60,17,107,64,21,111,68,25,115,72,29,119,76,33,123,80,37,127,84,41,131,88,45,2,92,49,6,96,53,10,100,57,14,104,61,18,108,65,22,112,69,26,116,73,30,120,77,34,124,81,38,128,85,42,132,89,46,3,93,50,7,97,54,11,101,58,15,105,62,19,109,66,23,113,70,27,117,74,31,121,78,35,125,82,39,129,86,43,133,90,47,4,94,51,8,98,55,12,102,59,16,106,63,20,110,67,24,114,71,28,118,75,32,122,79,36,126,83,40,130,87,44)</script></html>"
      ],
      "text/latex": [
       "$$\\newcommand{\\Bold}[1]{\\mathbf{#1}}\\sigma^{90}= (1,91,48,5,95,52,9,99,56,13,103,60,17,107,64,21,111,68,25,115,72,29,119,76,33,123,80,37,127,84,41,131,88,45,2,92,49,6,96,53,10,100,57,14,104,61,18,108,65,22,112,69,26,116,73,30,120,77,34,124,81,38,128,85,42,132,89,46,3,93,50,7,97,54,11,101,58,15,105,62,19,109,66,23,113,70,27,117,74,31,121,78,35,125,82,39,129,86,43,133,90,47,4,94,51,8,98,55,12,102,59,16,106,63,20,110,67,24,114,71,28,118,75,32,122,79,36,126,83,40,130,87,44)$$"
      ],
      "text/plain": [
       "\\sigma^{90}= (1,91,48,5,95,52,9,99,56,13,103,60,17,107,64,21,111,68,25,115,72,29,119,76,33,123,80,37,127,84,41,131,88,45,2,92,49,6,96,53,10,100,57,14,104,61,18,108,65,22,112,69,26,116,73,30,120,77,34,124,81,38,128,85,42,132,89,46,3,93,50,7,97,54,11,101,58,15,105,62,19,109,66,23,113,70,27,117,74,31,121,78,35,125,82,39,129,86,43,133,90,47,4,94,51,8,98,55,12,102,59,16,106,63,20,110,67,24,114,71,28,118,75,32,122,79,36,126,83,40,130,87,44)"
      ]
     },
     "metadata": {},
     "output_type": "display_data"
    },
    {
     "data": {
      "text/html": [
       "<html><script type=\"math/tex; mode=display\">\\newcommand{\\Bold}[1]{\\mathbf{#1}}\\sigma^{91}= (1,92,50,8,99,57,15,106,64,22,113,71,29,120,78,36,127,85,43)(2,93,51,9,100,58,16,107,65,23,114,72,30,121,79,37,128,86,44)(3,94,52,10,101,59,17,108,66,24,115,73,31,122,80,38,129,87,45)(4,95,53,11,102,60,18,109,67,25,116,74,32,123,81,39,130,88,46)(5,96,54,12,103,61,19,110,68,26,117,75,33,124,82,40,131,89,47)(6,97,55,13,104,62,20,111,69,27,118,76,34,125,83,41,132,90,48)(7,98,56,14,105,63,21,112,70,28,119,77,35,126,84,42,133,91,49)</script></html>"
      ],
      "text/latex": [
       "$$\\newcommand{\\Bold}[1]{\\mathbf{#1}}\\sigma^{91}= (1,92,50,8,99,57,15,106,64,22,113,71,29,120,78,36,127,85,43)(2,93,51,9,100,58,16,107,65,23,114,72,30,121,79,37,128,86,44)(3,94,52,10,101,59,17,108,66,24,115,73,31,122,80,38,129,87,45)(4,95,53,11,102,60,18,109,67,25,116,74,32,123,81,39,130,88,46)(5,96,54,12,103,61,19,110,68,26,117,75,33,124,82,40,131,89,47)(6,97,55,13,104,62,20,111,69,27,118,76,34,125,83,41,132,90,48)(7,98,56,14,105,63,21,112,70,28,119,77,35,126,84,42,133,91,49)$$"
      ],
      "text/plain": [
       "\\sigma^{91}= (1,92,50,8,99,57,15,106,64,22,113,71,29,120,78,36,127,85,43)(2,93,51,9,100,58,16,107,65,23,114,72,30,121,79,37,128,86,44)(3,94,52,10,101,59,17,108,66,24,115,73,31,122,80,38,129,87,45)(4,95,53,11,102,60,18,109,67,25,116,74,32,123,81,39,130,88,46)(5,96,54,12,103,61,19,110,68,26,117,75,33,124,82,40,131,89,47)(6,97,55,13,104,62,20,111,69,27,118,76,34,125,83,41,132,90,48)(7,98,56,14,105,63,21,112,70,28,119,77,35,126,84,42,133,91,49)"
      ]
     },
     "metadata": {},
     "output_type": "display_data"
    },
    {
     "data": {
      "text/html": [
       "<html><script type=\"math/tex; mode=display\">\\newcommand{\\Bold}[1]{\\mathbf{#1}}\\sigma^{92}= (1,93,52,11,103,62,21,113,72,31,123,82,41,133,92,51,10,102,61,20,112,71,30,122,81,40,132,91,50,9,101,60,19,111,70,29,121,80,39,131,90,49,8,100,59,18,110,69,28,120,79,38,130,89,48,7,99,58,17,109,68,27,119,78,37,129,88,47,6,98,57,16,108,67,26,118,77,36,128,87,46,5,97,56,15,107,66,25,117,76,35,127,86,45,4,96,55,14,106,65,24,116,75,34,126,85,44,3,95,54,13,105,64,23,115,74,33,125,84,43,2,94,53,12,104,63,22,114,73,32,124,83,42)</script></html>"
      ],
      "text/latex": [
       "$$\\newcommand{\\Bold}[1]{\\mathbf{#1}}\\sigma^{92}= (1,93,52,11,103,62,21,113,72,31,123,82,41,133,92,51,10,102,61,20,112,71,30,122,81,40,132,91,50,9,101,60,19,111,70,29,121,80,39,131,90,49,8,100,59,18,110,69,28,120,79,38,130,89,48,7,99,58,17,109,68,27,119,78,37,129,88,47,6,98,57,16,108,67,26,118,77,36,128,87,46,5,97,56,15,107,66,25,117,76,35,127,86,45,4,96,55,14,106,65,24,116,75,34,126,85,44,3,95,54,13,105,64,23,115,74,33,125,84,43,2,94,53,12,104,63,22,114,73,32,124,83,42)$$"
      ],
      "text/plain": [
       "\\sigma^{92}= (1,93,52,11,103,62,21,113,72,31,123,82,41,133,92,51,10,102,61,20,112,71,30,122,81,40,132,91,50,9,101,60,19,111,70,29,121,80,39,131,90,49,8,100,59,18,110,69,28,120,79,38,130,89,48,7,99,58,17,109,68,27,119,78,37,129,88,47,6,98,57,16,108,67,26,118,77,36,128,87,46,5,97,56,15,107,66,25,117,76,35,127,86,45,4,96,55,14,106,65,24,116,75,34,126,85,44,3,95,54,13,105,64,23,115,74,33,125,84,43,2,94,53,12,104,63,22,114,73,32,124,83,42)"
      ]
     },
     "metadata": {},
     "output_type": "display_data"
    },
    {
     "data": {
      "text/html": [
       "<html><script type=\"math/tex; mode=display\">\\newcommand{\\Bold}[1]{\\mathbf{#1}}\\sigma^{93}= (1,94,54,14,107,67,27,120,80,40,133,93,53,13,106,66,26,119,79,39,132,92,52,12,105,65,25,118,78,38,131,91,51,11,104,64,24,117,77,37,130,90,50,10,103,63,23,116,76,36,129,89,49,9,102,62,22,115,75,35,128,88,48,8,101,61,21,114,74,34,127,87,47,7,100,60,20,113,73,33,126,86,46,6,99,59,19,112,72,32,125,85,45,5,98,58,18,111,71,31,124,84,44,4,97,57,17,110,70,30,123,83,43,3,96,56,16,109,69,29,122,82,42,2,95,55,15,108,68,28,121,81,41)</script></html>"
      ],
      "text/latex": [
       "$$\\newcommand{\\Bold}[1]{\\mathbf{#1}}\\sigma^{93}= (1,94,54,14,107,67,27,120,80,40,133,93,53,13,106,66,26,119,79,39,132,92,52,12,105,65,25,118,78,38,131,91,51,11,104,64,24,117,77,37,130,90,50,10,103,63,23,116,76,36,129,89,49,9,102,62,22,115,75,35,128,88,48,8,101,61,21,114,74,34,127,87,47,7,100,60,20,113,73,33,126,86,46,6,99,59,19,112,72,32,125,85,45,5,98,58,18,111,71,31,124,84,44,4,97,57,17,110,70,30,123,83,43,3,96,56,16,109,69,29,122,82,42,2,95,55,15,108,68,28,121,81,41)$$"
      ],
      "text/plain": [
       "\\sigma^{93}= (1,94,54,14,107,67,27,120,80,40,133,93,53,13,106,66,26,119,79,39,132,92,52,12,105,65,25,118,78,38,131,91,51,11,104,64,24,117,77,37,130,90,50,10,103,63,23,116,76,36,129,89,49,9,102,62,22,115,75,35,128,88,48,8,101,61,21,114,74,34,127,87,47,7,100,60,20,113,73,33,126,86,46,6,99,59,19,112,72,32,125,85,45,5,98,58,18,111,71,31,124,84,44,4,97,57,17,110,70,30,123,83,43,3,96,56,16,109,69,29,122,82,42,2,95,55,15,108,68,28,121,81,41)"
      ]
     },
     "metadata": {},
     "output_type": "display_data"
    },
    {
     "data": {
      "text/html": [
       "<html><script type=\"math/tex; mode=display\">\\newcommand{\\Bold}[1]{\\mathbf{#1}}\\sigma^{94}= (1,95,56,17,111,72,33,127,88,49,10,104,65,26,120,81,42,3,97,58,19,113,74,35,129,90,51,12,106,67,28,122,83,44,5,99,60,21,115,76,37,131,92,53,14,108,69,30,124,85,46,7,101,62,23,117,78,39,133,94,55,16,110,71,32,126,87,48,9,103,64,25,119,80,41,2,96,57,18,112,73,34,128,89,50,11,105,66,27,121,82,43,4,98,59,20,114,75,36,130,91,52,13,107,68,29,123,84,45,6,100,61,22,116,77,38,132,93,54,15,109,70,31,125,86,47,8,102,63,24,118,79,40)</script></html>"
      ],
      "text/latex": [
       "$$\\newcommand{\\Bold}[1]{\\mathbf{#1}}\\sigma^{94}= (1,95,56,17,111,72,33,127,88,49,10,104,65,26,120,81,42,3,97,58,19,113,74,35,129,90,51,12,106,67,28,122,83,44,5,99,60,21,115,76,37,131,92,53,14,108,69,30,124,85,46,7,101,62,23,117,78,39,133,94,55,16,110,71,32,126,87,48,9,103,64,25,119,80,41,2,96,57,18,112,73,34,128,89,50,11,105,66,27,121,82,43,4,98,59,20,114,75,36,130,91,52,13,107,68,29,123,84,45,6,100,61,22,116,77,38,132,93,54,15,109,70,31,125,86,47,8,102,63,24,118,79,40)$$"
      ],
      "text/plain": [
       "\\sigma^{94}= (1,95,56,17,111,72,33,127,88,49,10,104,65,26,120,81,42,3,97,58,19,113,74,35,129,90,51,12,106,67,28,122,83,44,5,99,60,21,115,76,37,131,92,53,14,108,69,30,124,85,46,7,101,62,23,117,78,39,133,94,55,16,110,71,32,126,87,48,9,103,64,25,119,80,41,2,96,57,18,112,73,34,128,89,50,11,105,66,27,121,82,43,4,98,59,20,114,75,36,130,91,52,13,107,68,29,123,84,45,6,100,61,22,116,77,38,132,93,54,15,109,70,31,125,86,47,8,102,63,24,118,79,40)"
      ]
     },
     "metadata": {},
     "output_type": "display_data"
    },
    {
     "data": {
      "text/html": [
       "<html><script type=\"math/tex; mode=display\">\\newcommand{\\Bold}[1]{\\mathbf{#1}}\\sigma^{95}= (1,96,58,20,115,77,39)(2,97,59,21,116,78,40)(3,98,60,22,117,79,41)(4,99,61,23,118,80,42)(5,100,62,24,119,81,43)(6,101,63,25,120,82,44)(7,102,64,26,121,83,45)(8,103,65,27,122,84,46)(9,104,66,28,123,85,47)(10,105,67,29,124,86,48)(11,106,68,30,125,87,49)(12,107,69,31,126,88,50)(13,108,70,32,127,89,51)(14,109,71,33,128,90,52)(15,110,72,34,129,91,53)(16,111,73,35,130,92,54)(17,112,74,36,131,93,55)(18,113,75,37,132,94,56)(19,114,76,38,133,95,57)</script></html>"
      ],
      "text/latex": [
       "$$\\newcommand{\\Bold}[1]{\\mathbf{#1}}\\sigma^{95}= (1,96,58,20,115,77,39)(2,97,59,21,116,78,40)(3,98,60,22,117,79,41)(4,99,61,23,118,80,42)(5,100,62,24,119,81,43)(6,101,63,25,120,82,44)(7,102,64,26,121,83,45)(8,103,65,27,122,84,46)(9,104,66,28,123,85,47)(10,105,67,29,124,86,48)(11,106,68,30,125,87,49)(12,107,69,31,126,88,50)(13,108,70,32,127,89,51)(14,109,71,33,128,90,52)(15,110,72,34,129,91,53)(16,111,73,35,130,92,54)(17,112,74,36,131,93,55)(18,113,75,37,132,94,56)(19,114,76,38,133,95,57)$$"
      ],
      "text/plain": [
       "\\sigma^{95}= (1,96,58,20,115,77,39)(2,97,59,21,116,78,40)(3,98,60,22,117,79,41)(4,99,61,23,118,80,42)(5,100,62,24,119,81,43)(6,101,63,25,120,82,44)(7,102,64,26,121,83,45)(8,103,65,27,122,84,46)(9,104,66,28,123,85,47)(10,105,67,29,124,86,48)(11,106,68,30,125,87,49)(12,107,69,31,126,88,50)(13,108,70,32,127,89,51)(14,109,71,33,128,90,52)(15,110,72,34,129,91,53)(16,111,73,35,130,92,54)(17,112,74,36,131,93,55)(18,113,75,37,132,94,56)(19,114,76,38,133,95,57)"
      ]
     },
     "metadata": {},
     "output_type": "display_data"
    },
    {
     "data": {
      "text/html": [
       "<html><script type=\"math/tex; mode=display\">\\newcommand{\\Bold}[1]{\\mathbf{#1}}\\sigma^{96}= (1,97,60,23,119,82,45,8,104,67,30,126,89,52,15,111,74,37,133,96,59,22,118,81,44,7,103,66,29,125,88,51,14,110,73,36,132,95,58,21,117,80,43,6,102,65,28,124,87,50,13,109,72,35,131,94,57,20,116,79,42,5,101,64,27,123,86,49,12,108,71,34,130,93,56,19,115,78,41,4,100,63,26,122,85,48,11,107,70,33,129,92,55,18,114,77,40,3,99,62,25,121,84,47,10,106,69,32,128,91,54,17,113,76,39,2,98,61,24,120,83,46,9,105,68,31,127,90,53,16,112,75,38)</script></html>"
      ],
      "text/latex": [
       "$$\\newcommand{\\Bold}[1]{\\mathbf{#1}}\\sigma^{96}= (1,97,60,23,119,82,45,8,104,67,30,126,89,52,15,111,74,37,133,96,59,22,118,81,44,7,103,66,29,125,88,51,14,110,73,36,132,95,58,21,117,80,43,6,102,65,28,124,87,50,13,109,72,35,131,94,57,20,116,79,42,5,101,64,27,123,86,49,12,108,71,34,130,93,56,19,115,78,41,4,100,63,26,122,85,48,11,107,70,33,129,92,55,18,114,77,40,3,99,62,25,121,84,47,10,106,69,32,128,91,54,17,113,76,39,2,98,61,24,120,83,46,9,105,68,31,127,90,53,16,112,75,38)$$"
      ],
      "text/plain": [
       "\\sigma^{96}= (1,97,60,23,119,82,45,8,104,67,30,126,89,52,15,111,74,37,133,96,59,22,118,81,44,7,103,66,29,125,88,51,14,110,73,36,132,95,58,21,117,80,43,6,102,65,28,124,87,50,13,109,72,35,131,94,57,20,116,79,42,5,101,64,27,123,86,49,12,108,71,34,130,93,56,19,115,78,41,4,100,63,26,122,85,48,11,107,70,33,129,92,55,18,114,77,40,3,99,62,25,121,84,47,10,106,69,32,128,91,54,17,113,76,39,2,98,61,24,120,83,46,9,105,68,31,127,90,53,16,112,75,38)"
      ]
     },
     "metadata": {},
     "output_type": "display_data"
    },
    {
     "data": {
      "text/html": [
       "<html><script type=\"math/tex; mode=display\">\\newcommand{\\Bold}[1]{\\mathbf{#1}}\\sigma^{97}= (1,98,62,26,123,87,51,15,112,76,40,4,101,65,29,126,90,54,18,115,79,43,7,104,68,32,129,93,57,21,118,82,46,10,107,71,35,132,96,60,24,121,85,49,13,110,74,38,2,99,63,27,124,88,52,16,113,77,41,5,102,66,30,127,91,55,19,116,80,44,8,105,69,33,130,94,58,22,119,83,47,11,108,72,36,133,97,61,25,122,86,50,14,111,75,39,3,100,64,28,125,89,53,17,114,78,42,6,103,67,31,128,92,56,20,117,81,45,9,106,70,34,131,95,59,23,120,84,48,12,109,73,37)</script></html>"
      ],
      "text/latex": [
       "$$\\newcommand{\\Bold}[1]{\\mathbf{#1}}\\sigma^{97}= (1,98,62,26,123,87,51,15,112,76,40,4,101,65,29,126,90,54,18,115,79,43,7,104,68,32,129,93,57,21,118,82,46,10,107,71,35,132,96,60,24,121,85,49,13,110,74,38,2,99,63,27,124,88,52,16,113,77,41,5,102,66,30,127,91,55,19,116,80,44,8,105,69,33,130,94,58,22,119,83,47,11,108,72,36,133,97,61,25,122,86,50,14,111,75,39,3,100,64,28,125,89,53,17,114,78,42,6,103,67,31,128,92,56,20,117,81,45,9,106,70,34,131,95,59,23,120,84,48,12,109,73,37)$$"
      ],
      "text/plain": [
       "\\sigma^{97}= (1,98,62,26,123,87,51,15,112,76,40,4,101,65,29,126,90,54,18,115,79,43,7,104,68,32,129,93,57,21,118,82,46,10,107,71,35,132,96,60,24,121,85,49,13,110,74,38,2,99,63,27,124,88,52,16,113,77,41,5,102,66,30,127,91,55,19,116,80,44,8,105,69,33,130,94,58,22,119,83,47,11,108,72,36,133,97,61,25,122,86,50,14,111,75,39,3,100,64,28,125,89,53,17,114,78,42,6,103,67,31,128,92,56,20,117,81,45,9,106,70,34,131,95,59,23,120,84,48,12,109,73,37)"
      ]
     },
     "metadata": {},
     "output_type": "display_data"
    },
    {
     "data": {
      "text/html": [
       "<html><script type=\"math/tex; mode=display\">\\newcommand{\\Bold}[1]{\\mathbf{#1}}\\sigma^{98}= (1,99,64,29,127,92,57,22,120,85,50,15,113,78,43,8,106,71,36)(2,100,65,30,128,93,58,23,121,86,51,16,114,79,44,9,107,72,37)(3,101,66,31,129,94,59,24,122,87,52,17,115,80,45,10,108,73,38)(4,102,67,32,130,95,60,25,123,88,53,18,116,81,46,11,109,74,39)(5,103,68,33,131,96,61,26,124,89,54,19,117,82,47,12,110,75,40)(6,104,69,34,132,97,62,27,125,90,55,20,118,83,48,13,111,76,41)(7,105,70,35,133,98,63,28,126,91,56,21,119,84,49,14,112,77,42)</script></html>"
      ],
      "text/latex": [
       "$$\\newcommand{\\Bold}[1]{\\mathbf{#1}}\\sigma^{98}= (1,99,64,29,127,92,57,22,120,85,50,15,113,78,43,8,106,71,36)(2,100,65,30,128,93,58,23,121,86,51,16,114,79,44,9,107,72,37)(3,101,66,31,129,94,59,24,122,87,52,17,115,80,45,10,108,73,38)(4,102,67,32,130,95,60,25,123,88,53,18,116,81,46,11,109,74,39)(5,103,68,33,131,96,61,26,124,89,54,19,117,82,47,12,110,75,40)(6,104,69,34,132,97,62,27,125,90,55,20,118,83,48,13,111,76,41)(7,105,70,35,133,98,63,28,126,91,56,21,119,84,49,14,112,77,42)$$"
      ],
      "text/plain": [
       "\\sigma^{98}= (1,99,64,29,127,92,57,22,120,85,50,15,113,78,43,8,106,71,36)(2,100,65,30,128,93,58,23,121,86,51,16,114,79,44,9,107,72,37)(3,101,66,31,129,94,59,24,122,87,52,17,115,80,45,10,108,73,38)(4,102,67,32,130,95,60,25,123,88,53,18,116,81,46,11,109,74,39)(5,103,68,33,131,96,61,26,124,89,54,19,117,82,47,12,110,75,40)(6,104,69,34,132,97,62,27,125,90,55,20,118,83,48,13,111,76,41)(7,105,70,35,133,98,63,28,126,91,56,21,119,84,49,14,112,77,42)"
      ]
     },
     "metadata": {},
     "output_type": "display_data"
    },
    {
     "data": {
      "text/html": [
       "<html><script type=\"math/tex; mode=display\">\\newcommand{\\Bold}[1]{\\mathbf{#1}}\\sigma^{99}= (1,100,66,32,131,97,63,29,128,94,60,26,125,91,57,23,122,88,54,20,119,85,51,17,116,82,48,14,113,79,45,11,110,76,42,8,107,73,39,5,104,70,36,2,101,67,33,132,98,64,30,129,95,61,27,126,92,58,24,123,89,55,21,120,86,52,18,117,83,49,15,114,80,46,12,111,77,43,9,108,74,40,6,105,71,37,3,102,68,34,133,99,65,31,130,96,62,28,127,93,59,25,124,90,56,22,121,87,53,19,118,84,50,16,115,81,47,13,112,78,44,10,109,75,41,7,106,72,38,4,103,69,35)</script></html>"
      ],
      "text/latex": [
       "$$\\newcommand{\\Bold}[1]{\\mathbf{#1}}\\sigma^{99}= (1,100,66,32,131,97,63,29,128,94,60,26,125,91,57,23,122,88,54,20,119,85,51,17,116,82,48,14,113,79,45,11,110,76,42,8,107,73,39,5,104,70,36,2,101,67,33,132,98,64,30,129,95,61,27,126,92,58,24,123,89,55,21,120,86,52,18,117,83,49,15,114,80,46,12,111,77,43,9,108,74,40,6,105,71,37,3,102,68,34,133,99,65,31,130,96,62,28,127,93,59,25,124,90,56,22,121,87,53,19,118,84,50,16,115,81,47,13,112,78,44,10,109,75,41,7,106,72,38,4,103,69,35)$$"
      ],
      "text/plain": [
       "\\sigma^{99}= (1,100,66,32,131,97,63,29,128,94,60,26,125,91,57,23,122,88,54,20,119,85,51,17,116,82,48,14,113,79,45,11,110,76,42,8,107,73,39,5,104,70,36,2,101,67,33,132,98,64,30,129,95,61,27,126,92,58,24,123,89,55,21,120,86,52,18,117,83,49,15,114,80,46,12,111,77,43,9,108,74,40,6,105,71,37,3,102,68,34,133,99,65,31,130,96,62,28,127,93,59,25,124,90,56,22,121,87,53,19,118,84,50,16,115,81,47,13,112,78,44,10,109,75,41,7,106,72,38,4,103,69,35)"
      ]
     },
     "metadata": {},
     "output_type": "display_data"
    },
    {
     "data": {
      "text/html": [
       "<html><script type=\"math/tex; mode=display\">\\newcommand{\\Bold}[1]{\\mathbf{#1}}\\sigma^{100}= (1,101,68,35,2,102,69,36,3,103,70,37,4,104,71,38,5,105,72,39,6,106,73,40,7,107,74,41,8,108,75,42,9,109,76,43,10,110,77,44,11,111,78,45,12,112,79,46,13,113,80,47,14,114,81,48,15,115,82,49,16,116,83,50,17,117,84,51,18,118,85,52,19,119,86,53,20,120,87,54,21,121,88,55,22,122,89,56,23,123,90,57,24,124,91,58,25,125,92,59,26,126,93,60,27,127,94,61,28,128,95,62,29,129,96,63,30,130,97,64,31,131,98,65,32,132,99,66,33,133,100,67,34)</script></html>"
      ],
      "text/latex": [
       "$$\\newcommand{\\Bold}[1]{\\mathbf{#1}}\\sigma^{100}= (1,101,68,35,2,102,69,36,3,103,70,37,4,104,71,38,5,105,72,39,6,106,73,40,7,107,74,41,8,108,75,42,9,109,76,43,10,110,77,44,11,111,78,45,12,112,79,46,13,113,80,47,14,114,81,48,15,115,82,49,16,116,83,50,17,117,84,51,18,118,85,52,19,119,86,53,20,120,87,54,21,121,88,55,22,122,89,56,23,123,90,57,24,124,91,58,25,125,92,59,26,126,93,60,27,127,94,61,28,128,95,62,29,129,96,63,30,130,97,64,31,131,98,65,32,132,99,66,33,133,100,67,34)$$"
      ],
      "text/plain": [
       "\\sigma^{100}= (1,101,68,35,2,102,69,36,3,103,70,37,4,104,71,38,5,105,72,39,6,106,73,40,7,107,74,41,8,108,75,42,9,109,76,43,10,110,77,44,11,111,78,45,12,112,79,46,13,113,80,47,14,114,81,48,15,115,82,49,16,116,83,50,17,117,84,51,18,118,85,52,19,119,86,53,20,120,87,54,21,121,88,55,22,122,89,56,23,123,90,57,24,124,91,58,25,125,92,59,26,126,93,60,27,127,94,61,28,128,95,62,29,129,96,63,30,130,97,64,31,131,98,65,32,132,99,66,33,133,100,67,34)"
      ]
     },
     "metadata": {},
     "output_type": "display_data"
    },
    {
     "data": {
      "text/html": [
       "<html><script type=\"math/tex; mode=display\">\\newcommand{\\Bold}[1]{\\mathbf{#1}}\\sigma^{101}= (1,102,70,38,6,107,75,43,11,112,80,48,16,117,85,53,21,122,90,58,26,127,95,63,31,132,100,68,36,4,105,73,41,9,110,78,46,14,115,83,51,19,120,88,56,24,125,93,61,29,130,98,66,34,2,103,71,39,7,108,76,44,12,113,81,49,17,118,86,54,22,123,91,59,27,128,96,64,32,133,101,69,37,5,106,74,42,10,111,79,47,15,116,84,52,20,121,89,57,25,126,94,62,30,131,99,67,35,3,104,72,40,8,109,77,45,13,114,82,50,18,119,87,55,23,124,92,60,28,129,97,65,33)</script></html>"
      ],
      "text/latex": [
       "$$\\newcommand{\\Bold}[1]{\\mathbf{#1}}\\sigma^{101}= (1,102,70,38,6,107,75,43,11,112,80,48,16,117,85,53,21,122,90,58,26,127,95,63,31,132,100,68,36,4,105,73,41,9,110,78,46,14,115,83,51,19,120,88,56,24,125,93,61,29,130,98,66,34,2,103,71,39,7,108,76,44,12,113,81,49,17,118,86,54,22,123,91,59,27,128,96,64,32,133,101,69,37,5,106,74,42,10,111,79,47,15,116,84,52,20,121,89,57,25,126,94,62,30,131,99,67,35,3,104,72,40,8,109,77,45,13,114,82,50,18,119,87,55,23,124,92,60,28,129,97,65,33)$$"
      ],
      "text/plain": [
       "\\sigma^{101}= (1,102,70,38,6,107,75,43,11,112,80,48,16,117,85,53,21,122,90,58,26,127,95,63,31,132,100,68,36,4,105,73,41,9,110,78,46,14,115,83,51,19,120,88,56,24,125,93,61,29,130,98,66,34,2,103,71,39,7,108,76,44,12,113,81,49,17,118,86,54,22,123,91,59,27,128,96,64,32,133,101,69,37,5,106,74,42,10,111,79,47,15,116,84,52,20,121,89,57,25,126,94,62,30,131,99,67,35,3,104,72,40,8,109,77,45,13,114,82,50,18,119,87,55,23,124,92,60,28,129,97,65,33)"
      ]
     },
     "metadata": {},
     "output_type": "display_data"
    },
    {
     "data": {
      "text/html": [
       "<html><script type=\"math/tex; mode=display\">\\newcommand{\\Bold}[1]{\\mathbf{#1}}\\sigma^{102}= (1,103,72,41,10,112,81,50,19,121,90,59,28,130,99,68,37,6,108,77,46,15,117,86,55,24,126,95,64,33,2,104,73,42,11,113,82,51,20,122,91,60,29,131,100,69,38,7,109,78,47,16,118,87,56,25,127,96,65,34,3,105,74,43,12,114,83,52,21,123,92,61,30,132,101,70,39,8,110,79,48,17,119,88,57,26,128,97,66,35,4,106,75,44,13,115,84,53,22,124,93,62,31,133,102,71,40,9,111,80,49,18,120,89,58,27,129,98,67,36,5,107,76,45,14,116,85,54,23,125,94,63,32)</script></html>"
      ],
      "text/latex": [
       "$$\\newcommand{\\Bold}[1]{\\mathbf{#1}}\\sigma^{102}= (1,103,72,41,10,112,81,50,19,121,90,59,28,130,99,68,37,6,108,77,46,15,117,86,55,24,126,95,64,33,2,104,73,42,11,113,82,51,20,122,91,60,29,131,100,69,38,7,109,78,47,16,118,87,56,25,127,96,65,34,3,105,74,43,12,114,83,52,21,123,92,61,30,132,101,70,39,8,110,79,48,17,119,88,57,26,128,97,66,35,4,106,75,44,13,115,84,53,22,124,93,62,31,133,102,71,40,9,111,80,49,18,120,89,58,27,129,98,67,36,5,107,76,45,14,116,85,54,23,125,94,63,32)$$"
      ],
      "text/plain": [
       "\\sigma^{102}= (1,103,72,41,10,112,81,50,19,121,90,59,28,130,99,68,37,6,108,77,46,15,117,86,55,24,126,95,64,33,2,104,73,42,11,113,82,51,20,122,91,60,29,131,100,69,38,7,109,78,47,16,118,87,56,25,127,96,65,34,3,105,74,43,12,114,83,52,21,123,92,61,30,132,101,70,39,8,110,79,48,17,119,88,57,26,128,97,66,35,4,106,75,44,13,115,84,53,22,124,93,62,31,133,102,71,40,9,111,80,49,18,120,89,58,27,129,98,67,36,5,107,76,45,14,116,85,54,23,125,94,63,32)"
      ]
     },
     "metadata": {},
     "output_type": "display_data"
    },
    {
     "data": {
      "text/html": [
       "<html><script type=\"math/tex; mode=display\">\\newcommand{\\Bold}[1]{\\mathbf{#1}}\\sigma^{103}= (1,104,74,44,14,117,87,57,27,130,100,70,40,10,113,83,53,23,126,96,66,36,6,109,79,49,19,122,92,62,32,2,105,75,45,15,118,88,58,28,131,101,71,41,11,114,84,54,24,127,97,67,37,7,110,80,50,20,123,93,63,33,3,106,76,46,16,119,89,59,29,132,102,72,42,12,115,85,55,25,128,98,68,38,8,111,81,51,21,124,94,64,34,4,107,77,47,17,120,90,60,30,133,103,73,43,13,116,86,56,26,129,99,69,39,9,112,82,52,22,125,95,65,35,5,108,78,48,18,121,91,61,31)</script></html>"
      ],
      "text/latex": [
       "$$\\newcommand{\\Bold}[1]{\\mathbf{#1}}\\sigma^{103}= (1,104,74,44,14,117,87,57,27,130,100,70,40,10,113,83,53,23,126,96,66,36,6,109,79,49,19,122,92,62,32,2,105,75,45,15,118,88,58,28,131,101,71,41,11,114,84,54,24,127,97,67,37,7,110,80,50,20,123,93,63,33,3,106,76,46,16,119,89,59,29,132,102,72,42,12,115,85,55,25,128,98,68,38,8,111,81,51,21,124,94,64,34,4,107,77,47,17,120,90,60,30,133,103,73,43,13,116,86,56,26,129,99,69,39,9,112,82,52,22,125,95,65,35,5,108,78,48,18,121,91,61,31)$$"
      ],
      "text/plain": [
       "\\sigma^{103}= (1,104,74,44,14,117,87,57,27,130,100,70,40,10,113,83,53,23,126,96,66,36,6,109,79,49,19,122,92,62,32,2,105,75,45,15,118,88,58,28,131,101,71,41,11,114,84,54,24,127,97,67,37,7,110,80,50,20,123,93,63,33,3,106,76,46,16,119,89,59,29,132,102,72,42,12,115,85,55,25,128,98,68,38,8,111,81,51,21,124,94,64,34,4,107,77,47,17,120,90,60,30,133,103,73,43,13,116,86,56,26,129,99,69,39,9,112,82,52,22,125,95,65,35,5,108,78,48,18,121,91,61,31)"
      ]
     },
     "metadata": {},
     "output_type": "display_data"
    },
    {
     "data": {
      "text/html": [
       "<html><script type=\"math/tex; mode=display\">\\newcommand{\\Bold}[1]{\\mathbf{#1}}\\sigma^{104}= (1,105,76,47,18,122,93,64,35,6,110,81,52,23,127,98,69,40,11,115,86,57,28,132,103,74,45,16,120,91,62,33,4,108,79,50,21,125,96,67,38,9,113,84,55,26,130,101,72,43,14,118,89,60,31,2,106,77,48,19,123,94,65,36,7,111,82,53,24,128,99,70,41,12,116,87,58,29,133,104,75,46,17,121,92,63,34,5,109,80,51,22,126,97,68,39,10,114,85,56,27,131,102,73,44,15,119,90,61,32,3,107,78,49,20,124,95,66,37,8,112,83,54,25,129,100,71,42,13,117,88,59,30)</script></html>"
      ],
      "text/latex": [
       "$$\\newcommand{\\Bold}[1]{\\mathbf{#1}}\\sigma^{104}= (1,105,76,47,18,122,93,64,35,6,110,81,52,23,127,98,69,40,11,115,86,57,28,132,103,74,45,16,120,91,62,33,4,108,79,50,21,125,96,67,38,9,113,84,55,26,130,101,72,43,14,118,89,60,31,2,106,77,48,19,123,94,65,36,7,111,82,53,24,128,99,70,41,12,116,87,58,29,133,104,75,46,17,121,92,63,34,5,109,80,51,22,126,97,68,39,10,114,85,56,27,131,102,73,44,15,119,90,61,32,3,107,78,49,20,124,95,66,37,8,112,83,54,25,129,100,71,42,13,117,88,59,30)$$"
      ],
      "text/plain": [
       "\\sigma^{104}= (1,105,76,47,18,122,93,64,35,6,110,81,52,23,127,98,69,40,11,115,86,57,28,132,103,74,45,16,120,91,62,33,4,108,79,50,21,125,96,67,38,9,113,84,55,26,130,101,72,43,14,118,89,60,31,2,106,77,48,19,123,94,65,36,7,111,82,53,24,128,99,70,41,12,116,87,58,29,133,104,75,46,17,121,92,63,34,5,109,80,51,22,126,97,68,39,10,114,85,56,27,131,102,73,44,15,119,90,61,32,3,107,78,49,20,124,95,66,37,8,112,83,54,25,129,100,71,42,13,117,88,59,30)"
      ]
     },
     "metadata": {},
     "output_type": "display_data"
    },
    {
     "data": {
      "text/html": [
       "<html><script type=\"math/tex; mode=display\">\\newcommand{\\Bold}[1]{\\mathbf{#1}}\\sigma^{105}= (1,106,78,50,22,127,99,71,43,15,120,92,64,36,8,113,85,57,29)(2,107,79,51,23,128,100,72,44,16,121,93,65,37,9,114,86,58,30)(3,108,80,52,24,129,101,73,45,17,122,94,66,38,10,115,87,59,31)(4,109,81,53,25,130,102,74,46,18,123,95,67,39,11,116,88,60,32)(5,110,82,54,26,131,103,75,47,19,124,96,68,40,12,117,89,61,33)(6,111,83,55,27,132,104,76,48,20,125,97,69,41,13,118,90,62,34)(7,112,84,56,28,133,105,77,49,21,126,98,70,42,14,119,91,63,35)</script></html>"
      ],
      "text/latex": [
       "$$\\newcommand{\\Bold}[1]{\\mathbf{#1}}\\sigma^{105}= (1,106,78,50,22,127,99,71,43,15,120,92,64,36,8,113,85,57,29)(2,107,79,51,23,128,100,72,44,16,121,93,65,37,9,114,86,58,30)(3,108,80,52,24,129,101,73,45,17,122,94,66,38,10,115,87,59,31)(4,109,81,53,25,130,102,74,46,18,123,95,67,39,11,116,88,60,32)(5,110,82,54,26,131,103,75,47,19,124,96,68,40,12,117,89,61,33)(6,111,83,55,27,132,104,76,48,20,125,97,69,41,13,118,90,62,34)(7,112,84,56,28,133,105,77,49,21,126,98,70,42,14,119,91,63,35)$$"
      ],
      "text/plain": [
       "\\sigma^{105}= (1,106,78,50,22,127,99,71,43,15,120,92,64,36,8,113,85,57,29)(2,107,79,51,23,128,100,72,44,16,121,93,65,37,9,114,86,58,30)(3,108,80,52,24,129,101,73,45,17,122,94,66,38,10,115,87,59,31)(4,109,81,53,25,130,102,74,46,18,123,95,67,39,11,116,88,60,32)(5,110,82,54,26,131,103,75,47,19,124,96,68,40,12,117,89,61,33)(6,111,83,55,27,132,104,76,48,20,125,97,69,41,13,118,90,62,34)(7,112,84,56,28,133,105,77,49,21,126,98,70,42,14,119,91,63,35)"
      ]
     },
     "metadata": {},
     "output_type": "display_data"
    },
    {
     "data": {
      "text/html": [
       "<html><script type=\"math/tex; mode=display\">\\newcommand{\\Bold}[1]{\\mathbf{#1}}\\sigma^{106}= (1,107,80,53,26,132,105,78,51,24,130,103,76,49,22,128,101,74,47,20,126,99,72,45,18,124,97,70,43,16,122,95,68,41,14,120,93,66,39,12,118,91,64,37,10,116,89,62,35,8,114,87,60,33,6,112,85,58,31,4,110,83,56,29,2,108,81,54,27,133,106,79,52,25,131,104,77,50,23,129,102,75,48,21,127,100,73,46,19,125,98,71,44,17,123,96,69,42,15,121,94,67,40,13,119,92,65,38,11,117,90,63,36,9,115,88,61,34,7,113,86,59,32,5,111,84,57,30,3,109,82,55,28)</script></html>"
      ],
      "text/latex": [
       "$$\\newcommand{\\Bold}[1]{\\mathbf{#1}}\\sigma^{106}= (1,107,80,53,26,132,105,78,51,24,130,103,76,49,22,128,101,74,47,20,126,99,72,45,18,124,97,70,43,16,122,95,68,41,14,120,93,66,39,12,118,91,64,37,10,116,89,62,35,8,114,87,60,33,6,112,85,58,31,4,110,83,56,29,2,108,81,54,27,133,106,79,52,25,131,104,77,50,23,129,102,75,48,21,127,100,73,46,19,125,98,71,44,17,123,96,69,42,15,121,94,67,40,13,119,92,65,38,11,117,90,63,36,9,115,88,61,34,7,113,86,59,32,5,111,84,57,30,3,109,82,55,28)$$"
      ],
      "text/plain": [
       "\\sigma^{106}= (1,107,80,53,26,132,105,78,51,24,130,103,76,49,22,128,101,74,47,20,126,99,72,45,18,124,97,70,43,16,122,95,68,41,14,120,93,66,39,12,118,91,64,37,10,116,89,62,35,8,114,87,60,33,6,112,85,58,31,4,110,83,56,29,2,108,81,54,27,133,106,79,52,25,131,104,77,50,23,129,102,75,48,21,127,100,73,46,19,125,98,71,44,17,123,96,69,42,15,121,94,67,40,13,119,92,65,38,11,117,90,63,36,9,115,88,61,34,7,113,86,59,32,5,111,84,57,30,3,109,82,55,28)"
      ]
     },
     "metadata": {},
     "output_type": "display_data"
    },
    {
     "data": {
      "text/html": [
       "<html><script type=\"math/tex; mode=display\">\\newcommand{\\Bold}[1]{\\mathbf{#1}}\\sigma^{107}= (1,108,82,56,30,4,111,85,59,33,7,114,88,62,36,10,117,91,65,39,13,120,94,68,42,16,123,97,71,45,19,126,100,74,48,22,129,103,77,51,25,132,106,80,54,28,2,109,83,57,31,5,112,86,60,34,8,115,89,63,37,11,118,92,66,40,14,121,95,69,43,17,124,98,72,46,20,127,101,75,49,23,130,104,78,52,26,133,107,81,55,29,3,110,84,58,32,6,113,87,61,35,9,116,90,64,38,12,119,93,67,41,15,122,96,70,44,18,125,99,73,47,21,128,102,76,50,24,131,105,79,53,27)</script></html>"
      ],
      "text/latex": [
       "$$\\newcommand{\\Bold}[1]{\\mathbf{#1}}\\sigma^{107}= (1,108,82,56,30,4,111,85,59,33,7,114,88,62,36,10,117,91,65,39,13,120,94,68,42,16,123,97,71,45,19,126,100,74,48,22,129,103,77,51,25,132,106,80,54,28,2,109,83,57,31,5,112,86,60,34,8,115,89,63,37,11,118,92,66,40,14,121,95,69,43,17,124,98,72,46,20,127,101,75,49,23,130,104,78,52,26,133,107,81,55,29,3,110,84,58,32,6,113,87,61,35,9,116,90,64,38,12,119,93,67,41,15,122,96,70,44,18,125,99,73,47,21,128,102,76,50,24,131,105,79,53,27)$$"
      ],
      "text/plain": [
       "\\sigma^{107}= (1,108,82,56,30,4,111,85,59,33,7,114,88,62,36,10,117,91,65,39,13,120,94,68,42,16,123,97,71,45,19,126,100,74,48,22,129,103,77,51,25,132,106,80,54,28,2,109,83,57,31,5,112,86,60,34,8,115,89,63,37,11,118,92,66,40,14,121,95,69,43,17,124,98,72,46,20,127,101,75,49,23,130,104,78,52,26,133,107,81,55,29,3,110,84,58,32,6,113,87,61,35,9,116,90,64,38,12,119,93,67,41,15,122,96,70,44,18,125,99,73,47,21,128,102,76,50,24,131,105,79,53,27)"
      ]
     },
     "metadata": {},
     "output_type": "display_data"
    },
    {
     "data": {
      "text/html": [
       "<html><script type=\"math/tex; mode=display\">\\newcommand{\\Bold}[1]{\\mathbf{#1}}\\sigma^{108}= (1,109,84,59,34,9,117,92,67,42,17,125,100,75,50,25,133,108,83,58,33,8,116,91,66,41,16,124,99,74,49,24,132,107,82,57,32,7,115,90,65,40,15,123,98,73,48,23,131,106,81,56,31,6,114,89,64,39,14,122,97,72,47,22,130,105,80,55,30,5,113,88,63,38,13,121,96,71,46,21,129,104,79,54,29,4,112,87,62,37,12,120,95,70,45,20,128,103,78,53,28,3,111,86,61,36,11,119,94,69,44,19,127,102,77,52,27,2,110,85,60,35,10,118,93,68,43,18,126,101,76,51,26)</script></html>"
      ],
      "text/latex": [
       "$$\\newcommand{\\Bold}[1]{\\mathbf{#1}}\\sigma^{108}= (1,109,84,59,34,9,117,92,67,42,17,125,100,75,50,25,133,108,83,58,33,8,116,91,66,41,16,124,99,74,49,24,132,107,82,57,32,7,115,90,65,40,15,123,98,73,48,23,131,106,81,56,31,6,114,89,64,39,14,122,97,72,47,22,130,105,80,55,30,5,113,88,63,38,13,121,96,71,46,21,129,104,79,54,29,4,112,87,62,37,12,120,95,70,45,20,128,103,78,53,28,3,111,86,61,36,11,119,94,69,44,19,127,102,77,52,27,2,110,85,60,35,10,118,93,68,43,18,126,101,76,51,26)$$"
      ],
      "text/plain": [
       "\\sigma^{108}= (1,109,84,59,34,9,117,92,67,42,17,125,100,75,50,25,133,108,83,58,33,8,116,91,66,41,16,124,99,74,49,24,132,107,82,57,32,7,115,90,65,40,15,123,98,73,48,23,131,106,81,56,31,6,114,89,64,39,14,122,97,72,47,22,130,105,80,55,30,5,113,88,63,38,13,121,96,71,46,21,129,104,79,54,29,4,112,87,62,37,12,120,95,70,45,20,128,103,78,53,28,3,111,86,61,36,11,119,94,69,44,19,127,102,77,52,27,2,110,85,60,35,10,118,93,68,43,18,126,101,76,51,26)"
      ]
     },
     "metadata": {},
     "output_type": "display_data"
    },
    {
     "data": {
      "text/html": [
       "<html><script type=\"math/tex; mode=display\">\\newcommand{\\Bold}[1]{\\mathbf{#1}}\\sigma^{109}= (1,110,86,62,38,14,123,99,75,51,27,3,112,88,64,40,16,125,101,77,53,29,5,114,90,66,42,18,127,103,79,55,31,7,116,92,68,44,20,129,105,81,57,33,9,118,94,70,46,22,131,107,83,59,35,11,120,96,72,48,24,133,109,85,61,37,13,122,98,74,50,26,2,111,87,63,39,15,124,100,76,52,28,4,113,89,65,41,17,126,102,78,54,30,6,115,91,67,43,19,128,104,80,56,32,8,117,93,69,45,21,130,106,82,58,34,10,119,95,71,47,23,132,108,84,60,36,12,121,97,73,49,25)</script></html>"
      ],
      "text/latex": [
       "$$\\newcommand{\\Bold}[1]{\\mathbf{#1}}\\sigma^{109}= (1,110,86,62,38,14,123,99,75,51,27,3,112,88,64,40,16,125,101,77,53,29,5,114,90,66,42,18,127,103,79,55,31,7,116,92,68,44,20,129,105,81,57,33,9,118,94,70,46,22,131,107,83,59,35,11,120,96,72,48,24,133,109,85,61,37,13,122,98,74,50,26,2,111,87,63,39,15,124,100,76,52,28,4,113,89,65,41,17,126,102,78,54,30,6,115,91,67,43,19,128,104,80,56,32,8,117,93,69,45,21,130,106,82,58,34,10,119,95,71,47,23,132,108,84,60,36,12,121,97,73,49,25)$$"
      ],
      "text/plain": [
       "\\sigma^{109}= (1,110,86,62,38,14,123,99,75,51,27,3,112,88,64,40,16,125,101,77,53,29,5,114,90,66,42,18,127,103,79,55,31,7,116,92,68,44,20,129,105,81,57,33,9,118,94,70,46,22,131,107,83,59,35,11,120,96,72,48,24,133,109,85,61,37,13,122,98,74,50,26,2,111,87,63,39,15,124,100,76,52,28,4,113,89,65,41,17,126,102,78,54,30,6,115,91,67,43,19,128,104,80,56,32,8,117,93,69,45,21,130,106,82,58,34,10,119,95,71,47,23,132,108,84,60,36,12,121,97,73,49,25)"
      ]
     },
     "metadata": {},
     "output_type": "display_data"
    },
    {
     "data": {
      "text/html": [
       "<html><script type=\"math/tex; mode=display\">\\newcommand{\\Bold}[1]{\\mathbf{#1}}\\sigma^{110}= (1,111,88,65,42,19,129,106,83,60,37,14,124,101,78,55,32,9,119,96,73,50,27,4,114,91,68,45,22,132,109,86,63,40,17,127,104,81,58,35,12,122,99,76,53,30,7,117,94,71,48,25,2,112,89,66,43,20,130,107,84,61,38,15,125,102,79,56,33,10,120,97,74,51,28,5,115,92,69,46,23,133,110,87,64,41,18,128,105,82,59,36,13,123,100,77,54,31,8,118,95,72,49,26,3,113,90,67,44,21,131,108,85,62,39,16,126,103,80,57,34,11,121,98,75,52,29,6,116,93,70,47,24)</script></html>"
      ],
      "text/latex": [
       "$$\\newcommand{\\Bold}[1]{\\mathbf{#1}}\\sigma^{110}= (1,111,88,65,42,19,129,106,83,60,37,14,124,101,78,55,32,9,119,96,73,50,27,4,114,91,68,45,22,132,109,86,63,40,17,127,104,81,58,35,12,122,99,76,53,30,7,117,94,71,48,25,2,112,89,66,43,20,130,107,84,61,38,15,125,102,79,56,33,10,120,97,74,51,28,5,115,92,69,46,23,133,110,87,64,41,18,128,105,82,59,36,13,123,100,77,54,31,8,118,95,72,49,26,3,113,90,67,44,21,131,108,85,62,39,16,126,103,80,57,34,11,121,98,75,52,29,6,116,93,70,47,24)$$"
      ],
      "text/plain": [
       "\\sigma^{110}= (1,111,88,65,42,19,129,106,83,60,37,14,124,101,78,55,32,9,119,96,73,50,27,4,114,91,68,45,22,132,109,86,63,40,17,127,104,81,58,35,12,122,99,76,53,30,7,117,94,71,48,25,2,112,89,66,43,20,130,107,84,61,38,15,125,102,79,56,33,10,120,97,74,51,28,5,115,92,69,46,23,133,110,87,64,41,18,128,105,82,59,36,13,123,100,77,54,31,8,118,95,72,49,26,3,113,90,67,44,21,131,108,85,62,39,16,126,103,80,57,34,11,121,98,75,52,29,6,116,93,70,47,24)"
      ]
     },
     "metadata": {},
     "output_type": "display_data"
    },
    {
     "data": {
      "text/html": [
       "<html><script type=\"math/tex; mode=display\">\\newcommand{\\Bold}[1]{\\mathbf{#1}}\\sigma^{111}= (1,112,90,68,46,24,2,113,91,69,47,25,3,114,92,70,48,26,4,115,93,71,49,27,5,116,94,72,50,28,6,117,95,73,51,29,7,118,96,74,52,30,8,119,97,75,53,31,9,120,98,76,54,32,10,121,99,77,55,33,11,122,100,78,56,34,12,123,101,79,57,35,13,124,102,80,58,36,14,125,103,81,59,37,15,126,104,82,60,38,16,127,105,83,61,39,17,128,106,84,62,40,18,129,107,85,63,41,19,130,108,86,64,42,20,131,109,87,65,43,21,132,110,88,66,44,22,133,111,89,67,45,23)</script></html>"
      ],
      "text/latex": [
       "$$\\newcommand{\\Bold}[1]{\\mathbf{#1}}\\sigma^{111}= (1,112,90,68,46,24,2,113,91,69,47,25,3,114,92,70,48,26,4,115,93,71,49,27,5,116,94,72,50,28,6,117,95,73,51,29,7,118,96,74,52,30,8,119,97,75,53,31,9,120,98,76,54,32,10,121,99,77,55,33,11,122,100,78,56,34,12,123,101,79,57,35,13,124,102,80,58,36,14,125,103,81,59,37,15,126,104,82,60,38,16,127,105,83,61,39,17,128,106,84,62,40,18,129,107,85,63,41,19,130,108,86,64,42,20,131,109,87,65,43,21,132,110,88,66,44,22,133,111,89,67,45,23)$$"
      ],
      "text/plain": [
       "\\sigma^{111}= (1,112,90,68,46,24,2,113,91,69,47,25,3,114,92,70,48,26,4,115,93,71,49,27,5,116,94,72,50,28,6,117,95,73,51,29,7,118,96,74,52,30,8,119,97,75,53,31,9,120,98,76,54,32,10,121,99,77,55,33,11,122,100,78,56,34,12,123,101,79,57,35,13,124,102,80,58,36,14,125,103,81,59,37,15,126,104,82,60,38,16,127,105,83,61,39,17,128,106,84,62,40,18,129,107,85,63,41,19,130,108,86,64,42,20,131,109,87,65,43,21,132,110,88,66,44,22,133,111,89,67,45,23)"
      ]
     },
     "metadata": {},
     "output_type": "display_data"
    },
    {
     "data": {
      "text/html": [
       "<html><script type=\"math/tex; mode=display\">\\newcommand{\\Bold}[1]{\\mathbf{#1}}\\sigma^{112}= (1,113,92,71,50,29,8,120,99,78,57,36,15,127,106,85,64,43,22)(2,114,93,72,51,30,9,121,100,79,58,37,16,128,107,86,65,44,23)(3,115,94,73,52,31,10,122,101,80,59,38,17,129,108,87,66,45,24)(4,116,95,74,53,32,11,123,102,81,60,39,18,130,109,88,67,46,25)(5,117,96,75,54,33,12,124,103,82,61,40,19,131,110,89,68,47,26)(6,118,97,76,55,34,13,125,104,83,62,41,20,132,111,90,69,48,27)(7,119,98,77,56,35,14,126,105,84,63,42,21,133,112,91,70,49,28)</script></html>"
      ],
      "text/latex": [
       "$$\\newcommand{\\Bold}[1]{\\mathbf{#1}}\\sigma^{112}= (1,113,92,71,50,29,8,120,99,78,57,36,15,127,106,85,64,43,22)(2,114,93,72,51,30,9,121,100,79,58,37,16,128,107,86,65,44,23)(3,115,94,73,52,31,10,122,101,80,59,38,17,129,108,87,66,45,24)(4,116,95,74,53,32,11,123,102,81,60,39,18,130,109,88,67,46,25)(5,117,96,75,54,33,12,124,103,82,61,40,19,131,110,89,68,47,26)(6,118,97,76,55,34,13,125,104,83,62,41,20,132,111,90,69,48,27)(7,119,98,77,56,35,14,126,105,84,63,42,21,133,112,91,70,49,28)$$"
      ],
      "text/plain": [
       "\\sigma^{112}= (1,113,92,71,50,29,8,120,99,78,57,36,15,127,106,85,64,43,22)(2,114,93,72,51,30,9,121,100,79,58,37,16,128,107,86,65,44,23)(3,115,94,73,52,31,10,122,101,80,59,38,17,129,108,87,66,45,24)(4,116,95,74,53,32,11,123,102,81,60,39,18,130,109,88,67,46,25)(5,117,96,75,54,33,12,124,103,82,61,40,19,131,110,89,68,47,26)(6,118,97,76,55,34,13,125,104,83,62,41,20,132,111,90,69,48,27)(7,119,98,77,56,35,14,126,105,84,63,42,21,133,112,91,70,49,28)"
      ]
     },
     "metadata": {},
     "output_type": "display_data"
    },
    {
     "data": {
      "text/html": [
       "<html><script type=\"math/tex; mode=display\">\\newcommand{\\Bold}[1]{\\mathbf{#1}}\\sigma^{113}= (1,114,94,74,54,34,14,127,107,87,67,47,27,7,120,100,80,60,40,20,133,113,93,73,53,33,13,126,106,86,66,46,26,6,119,99,79,59,39,19,132,112,92,72,52,32,12,125,105,85,65,45,25,5,118,98,78,58,38,18,131,111,91,71,51,31,11,124,104,84,64,44,24,4,117,97,77,57,37,17,130,110,90,70,50,30,10,123,103,83,63,43,23,3,116,96,76,56,36,16,129,109,89,69,49,29,9,122,102,82,62,42,22,2,115,95,75,55,35,15,128,108,88,68,48,28,8,121,101,81,61,41,21)</script></html>"
      ],
      "text/latex": [
       "$$\\newcommand{\\Bold}[1]{\\mathbf{#1}}\\sigma^{113}= (1,114,94,74,54,34,14,127,107,87,67,47,27,7,120,100,80,60,40,20,133,113,93,73,53,33,13,126,106,86,66,46,26,6,119,99,79,59,39,19,132,112,92,72,52,32,12,125,105,85,65,45,25,5,118,98,78,58,38,18,131,111,91,71,51,31,11,124,104,84,64,44,24,4,117,97,77,57,37,17,130,110,90,70,50,30,10,123,103,83,63,43,23,3,116,96,76,56,36,16,129,109,89,69,49,29,9,122,102,82,62,42,22,2,115,95,75,55,35,15,128,108,88,68,48,28,8,121,101,81,61,41,21)$$"
      ],
      "text/plain": [
       "\\sigma^{113}= (1,114,94,74,54,34,14,127,107,87,67,47,27,7,120,100,80,60,40,20,133,113,93,73,53,33,13,126,106,86,66,46,26,6,119,99,79,59,39,19,132,112,92,72,52,32,12,125,105,85,65,45,25,5,118,98,78,58,38,18,131,111,91,71,51,31,11,124,104,84,64,44,24,4,117,97,77,57,37,17,130,110,90,70,50,30,10,123,103,83,63,43,23,3,116,96,76,56,36,16,129,109,89,69,49,29,9,122,102,82,62,42,22,2,115,95,75,55,35,15,128,108,88,68,48,28,8,121,101,81,61,41,21)"
      ]
     },
     "metadata": {},
     "output_type": "display_data"
    },
    {
     "data": {
      "text/html": [
       "<html><script type=\"math/tex; mode=display\">\\newcommand{\\Bold}[1]{\\mathbf{#1}}\\sigma^{114}= (1,115,96,77,58,39,20)(2,116,97,78,59,40,21)(3,117,98,79,60,41,22)(4,118,99,80,61,42,23)(5,119,100,81,62,43,24)(6,120,101,82,63,44,25)(7,121,102,83,64,45,26)(8,122,103,84,65,46,27)(9,123,104,85,66,47,28)(10,124,105,86,67,48,29)(11,125,106,87,68,49,30)(12,126,107,88,69,50,31)(13,127,108,89,70,51,32)(14,128,109,90,71,52,33)(15,129,110,91,72,53,34)(16,130,111,92,73,54,35)(17,131,112,93,74,55,36)(18,132,113,94,75,56,37)(19,133,114,95,76,57,38)</script></html>"
      ],
      "text/latex": [
       "$$\\newcommand{\\Bold}[1]{\\mathbf{#1}}\\sigma^{114}= (1,115,96,77,58,39,20)(2,116,97,78,59,40,21)(3,117,98,79,60,41,22)(4,118,99,80,61,42,23)(5,119,100,81,62,43,24)(6,120,101,82,63,44,25)(7,121,102,83,64,45,26)(8,122,103,84,65,46,27)(9,123,104,85,66,47,28)(10,124,105,86,67,48,29)(11,125,106,87,68,49,30)(12,126,107,88,69,50,31)(13,127,108,89,70,51,32)(14,128,109,90,71,52,33)(15,129,110,91,72,53,34)(16,130,111,92,73,54,35)(17,131,112,93,74,55,36)(18,132,113,94,75,56,37)(19,133,114,95,76,57,38)$$"
      ],
      "text/plain": [
       "\\sigma^{114}= (1,115,96,77,58,39,20)(2,116,97,78,59,40,21)(3,117,98,79,60,41,22)(4,118,99,80,61,42,23)(5,119,100,81,62,43,24)(6,120,101,82,63,44,25)(7,121,102,83,64,45,26)(8,122,103,84,65,46,27)(9,123,104,85,66,47,28)(10,124,105,86,67,48,29)(11,125,106,87,68,49,30)(12,126,107,88,69,50,31)(13,127,108,89,70,51,32)(14,128,109,90,71,52,33)(15,129,110,91,72,53,34)(16,130,111,92,73,54,35)(17,131,112,93,74,55,36)(18,132,113,94,75,56,37)(19,133,114,95,76,57,38)"
      ]
     },
     "metadata": {},
     "output_type": "display_data"
    },
    {
     "data": {
      "text/html": [
       "<html><script type=\"math/tex; mode=display\">\\newcommand{\\Bold}[1]{\\mathbf{#1}}\\sigma^{115}= (1,116,98,80,62,44,26,8,123,105,87,69,51,33,15,130,112,94,76,58,40,22,4,119,101,83,65,47,29,11,126,108,90,72,54,36,18,133,115,97,79,61,43,25,7,122,104,86,68,50,32,14,129,111,93,75,57,39,21,3,118,100,82,64,46,28,10,125,107,89,71,53,35,17,132,114,96,78,60,42,24,6,121,103,85,67,49,31,13,128,110,92,74,56,38,20,2,117,99,81,63,45,27,9,124,106,88,70,52,34,16,131,113,95,77,59,41,23,5,120,102,84,66,48,30,12,127,109,91,73,55,37,19)</script></html>"
      ],
      "text/latex": [
       "$$\\newcommand{\\Bold}[1]{\\mathbf{#1}}\\sigma^{115}= (1,116,98,80,62,44,26,8,123,105,87,69,51,33,15,130,112,94,76,58,40,22,4,119,101,83,65,47,29,11,126,108,90,72,54,36,18,133,115,97,79,61,43,25,7,122,104,86,68,50,32,14,129,111,93,75,57,39,21,3,118,100,82,64,46,28,10,125,107,89,71,53,35,17,132,114,96,78,60,42,24,6,121,103,85,67,49,31,13,128,110,92,74,56,38,20,2,117,99,81,63,45,27,9,124,106,88,70,52,34,16,131,113,95,77,59,41,23,5,120,102,84,66,48,30,12,127,109,91,73,55,37,19)$$"
      ],
      "text/plain": [
       "\\sigma^{115}= (1,116,98,80,62,44,26,8,123,105,87,69,51,33,15,130,112,94,76,58,40,22,4,119,101,83,65,47,29,11,126,108,90,72,54,36,18,133,115,97,79,61,43,25,7,122,104,86,68,50,32,14,129,111,93,75,57,39,21,3,118,100,82,64,46,28,10,125,107,89,71,53,35,17,132,114,96,78,60,42,24,6,121,103,85,67,49,31,13,128,110,92,74,56,38,20,2,117,99,81,63,45,27,9,124,106,88,70,52,34,16,131,113,95,77,59,41,23,5,120,102,84,66,48,30,12,127,109,91,73,55,37,19)"
      ]
     },
     "metadata": {},
     "output_type": "display_data"
    },
    {
     "data": {
      "text/html": [
       "<html><script type=\"math/tex; mode=display\">\\newcommand{\\Bold}[1]{\\mathbf{#1}}\\sigma^{116}= (1,117,100,83,66,49,32,15,131,114,97,80,63,46,29,12,128,111,94,77,60,43,26,9,125,108,91,74,57,40,23,6,122,105,88,71,54,37,20,3,119,102,85,68,51,34,17,133,116,99,82,65,48,31,14,130,113,96,79,62,45,28,11,127,110,93,76,59,42,25,8,124,107,90,73,56,39,22,5,121,104,87,70,53,36,19,2,118,101,84,67,50,33,16,132,115,98,81,64,47,30,13,129,112,95,78,61,44,27,10,126,109,92,75,58,41,24,7,123,106,89,72,55,38,21,4,120,103,86,69,52,35,18)</script></html>"
      ],
      "text/latex": [
       "$$\\newcommand{\\Bold}[1]{\\mathbf{#1}}\\sigma^{116}= (1,117,100,83,66,49,32,15,131,114,97,80,63,46,29,12,128,111,94,77,60,43,26,9,125,108,91,74,57,40,23,6,122,105,88,71,54,37,20,3,119,102,85,68,51,34,17,133,116,99,82,65,48,31,14,130,113,96,79,62,45,28,11,127,110,93,76,59,42,25,8,124,107,90,73,56,39,22,5,121,104,87,70,53,36,19,2,118,101,84,67,50,33,16,132,115,98,81,64,47,30,13,129,112,95,78,61,44,27,10,126,109,92,75,58,41,24,7,123,106,89,72,55,38,21,4,120,103,86,69,52,35,18)$$"
      ],
      "text/plain": [
       "\\sigma^{116}= (1,117,100,83,66,49,32,15,131,114,97,80,63,46,29,12,128,111,94,77,60,43,26,9,125,108,91,74,57,40,23,6,122,105,88,71,54,37,20,3,119,102,85,68,51,34,17,133,116,99,82,65,48,31,14,130,113,96,79,62,45,28,11,127,110,93,76,59,42,25,8,124,107,90,73,56,39,22,5,121,104,87,70,53,36,19,2,118,101,84,67,50,33,16,132,115,98,81,64,47,30,13,129,112,95,78,61,44,27,10,126,109,92,75,58,41,24,7,123,106,89,72,55,38,21,4,120,103,86,69,52,35,18)"
      ]
     },
     "metadata": {},
     "output_type": "display_data"
    },
    {
     "data": {
      "text/html": [
       "<html><script type=\"math/tex; mode=display\">\\newcommand{\\Bold}[1]{\\mathbf{#1}}\\sigma^{117}= (1,118,102,86,70,54,38,22,6,123,107,91,75,59,43,27,11,128,112,96,80,64,48,32,16,133,117,101,85,69,53,37,21,5,122,106,90,74,58,42,26,10,127,111,95,79,63,47,31,15,132,116,100,84,68,52,36,20,4,121,105,89,73,57,41,25,9,126,110,94,78,62,46,30,14,131,115,99,83,67,51,35,19,3,120,104,88,72,56,40,24,8,125,109,93,77,61,45,29,13,130,114,98,82,66,50,34,18,2,119,103,87,71,55,39,23,7,124,108,92,76,60,44,28,12,129,113,97,81,65,49,33,17)</script></html>"
      ],
      "text/latex": [
       "$$\\newcommand{\\Bold}[1]{\\mathbf{#1}}\\sigma^{117}= (1,118,102,86,70,54,38,22,6,123,107,91,75,59,43,27,11,128,112,96,80,64,48,32,16,133,117,101,85,69,53,37,21,5,122,106,90,74,58,42,26,10,127,111,95,79,63,47,31,15,132,116,100,84,68,52,36,20,4,121,105,89,73,57,41,25,9,126,110,94,78,62,46,30,14,131,115,99,83,67,51,35,19,3,120,104,88,72,56,40,24,8,125,109,93,77,61,45,29,13,130,114,98,82,66,50,34,18,2,119,103,87,71,55,39,23,7,124,108,92,76,60,44,28,12,129,113,97,81,65,49,33,17)$$"
      ],
      "text/plain": [
       "\\sigma^{117}= (1,118,102,86,70,54,38,22,6,123,107,91,75,59,43,27,11,128,112,96,80,64,48,32,16,133,117,101,85,69,53,37,21,5,122,106,90,74,58,42,26,10,127,111,95,79,63,47,31,15,132,116,100,84,68,52,36,20,4,121,105,89,73,57,41,25,9,126,110,94,78,62,46,30,14,131,115,99,83,67,51,35,19,3,120,104,88,72,56,40,24,8,125,109,93,77,61,45,29,13,130,114,98,82,66,50,34,18,2,119,103,87,71,55,39,23,7,124,108,92,76,60,44,28,12,129,113,97,81,65,49,33,17)"
      ]
     },
     "metadata": {},
     "output_type": "display_data"
    },
    {
     "data": {
      "text/html": [
       "<html><script type=\"math/tex; mode=display\">\\newcommand{\\Bold}[1]{\\mathbf{#1}}\\sigma^{118}= (1,119,104,89,74,59,44,29,14,132,117,102,87,72,57,42,27,12,130,115,100,85,70,55,40,25,10,128,113,98,83,68,53,38,23,8,126,111,96,81,66,51,36,21,6,124,109,94,79,64,49,34,19,4,122,107,92,77,62,47,32,17,2,120,105,90,75,60,45,30,15,133,118,103,88,73,58,43,28,13,131,116,101,86,71,56,41,26,11,129,114,99,84,69,54,39,24,9,127,112,97,82,67,52,37,22,7,125,110,95,80,65,50,35,20,5,123,108,93,78,63,48,33,18,3,121,106,91,76,61,46,31,16)</script></html>"
      ],
      "text/latex": [
       "$$\\newcommand{\\Bold}[1]{\\mathbf{#1}}\\sigma^{118}= (1,119,104,89,74,59,44,29,14,132,117,102,87,72,57,42,27,12,130,115,100,85,70,55,40,25,10,128,113,98,83,68,53,38,23,8,126,111,96,81,66,51,36,21,6,124,109,94,79,64,49,34,19,4,122,107,92,77,62,47,32,17,2,120,105,90,75,60,45,30,15,133,118,103,88,73,58,43,28,13,131,116,101,86,71,56,41,26,11,129,114,99,84,69,54,39,24,9,127,112,97,82,67,52,37,22,7,125,110,95,80,65,50,35,20,5,123,108,93,78,63,48,33,18,3,121,106,91,76,61,46,31,16)$$"
      ],
      "text/plain": [
       "\\sigma^{118}= (1,119,104,89,74,59,44,29,14,132,117,102,87,72,57,42,27,12,130,115,100,85,70,55,40,25,10,128,113,98,83,68,53,38,23,8,126,111,96,81,66,51,36,21,6,124,109,94,79,64,49,34,19,4,122,107,92,77,62,47,32,17,2,120,105,90,75,60,45,30,15,133,118,103,88,73,58,43,28,13,131,116,101,86,71,56,41,26,11,129,114,99,84,69,54,39,24,9,127,112,97,82,67,52,37,22,7,125,110,95,80,65,50,35,20,5,123,108,93,78,63,48,33,18,3,121,106,91,76,61,46,31,16)"
      ]
     },
     "metadata": {},
     "output_type": "display_data"
    },
    {
     "data": {
      "text/html": [
       "<html><script type=\"math/tex; mode=display\">\\newcommand{\\Bold}[1]{\\mathbf{#1}}\\sigma^{119}= (1,120,106,92,78,64,50,36,22,8,127,113,99,85,71,57,43,29,15)(2,121,107,93,79,65,51,37,23,9,128,114,100,86,72,58,44,30,16)(3,122,108,94,80,66,52,38,24,10,129,115,101,87,73,59,45,31,17)(4,123,109,95,81,67,53,39,25,11,130,116,102,88,74,60,46,32,18)(5,124,110,96,82,68,54,40,26,12,131,117,103,89,75,61,47,33,19)(6,125,111,97,83,69,55,41,27,13,132,118,104,90,76,62,48,34,20)(7,126,112,98,84,70,56,42,28,14,133,119,105,91,77,63,49,35,21)</script></html>"
      ],
      "text/latex": [
       "$$\\newcommand{\\Bold}[1]{\\mathbf{#1}}\\sigma^{119}= (1,120,106,92,78,64,50,36,22,8,127,113,99,85,71,57,43,29,15)(2,121,107,93,79,65,51,37,23,9,128,114,100,86,72,58,44,30,16)(3,122,108,94,80,66,52,38,24,10,129,115,101,87,73,59,45,31,17)(4,123,109,95,81,67,53,39,25,11,130,116,102,88,74,60,46,32,18)(5,124,110,96,82,68,54,40,26,12,131,117,103,89,75,61,47,33,19)(6,125,111,97,83,69,55,41,27,13,132,118,104,90,76,62,48,34,20)(7,126,112,98,84,70,56,42,28,14,133,119,105,91,77,63,49,35,21)$$"
      ],
      "text/plain": [
       "\\sigma^{119}= (1,120,106,92,78,64,50,36,22,8,127,113,99,85,71,57,43,29,15)(2,121,107,93,79,65,51,37,23,9,128,114,100,86,72,58,44,30,16)(3,122,108,94,80,66,52,38,24,10,129,115,101,87,73,59,45,31,17)(4,123,109,95,81,67,53,39,25,11,130,116,102,88,74,60,46,32,18)(5,124,110,96,82,68,54,40,26,12,131,117,103,89,75,61,47,33,19)(6,125,111,97,83,69,55,41,27,13,132,118,104,90,76,62,48,34,20)(7,126,112,98,84,70,56,42,28,14,133,119,105,91,77,63,49,35,21)"
      ]
     },
     "metadata": {},
     "output_type": "display_data"
    },
    {
     "data": {
      "text/html": [
       "<html><script type=\"math/tex; mode=display\">\\newcommand{\\Bold}[1]{\\mathbf{#1}}\\sigma^{120}= (1,121,108,95,82,69,56,43,30,17,4,124,111,98,85,72,59,46,33,20,7,127,114,101,88,75,62,49,36,23,10,130,117,104,91,78,65,52,39,26,13,133,120,107,94,81,68,55,42,29,16,3,123,110,97,84,71,58,45,32,19,6,126,113,100,87,74,61,48,35,22,9,129,116,103,90,77,64,51,38,25,12,132,119,106,93,80,67,54,41,28,15,2,122,109,96,83,70,57,44,31,18,5,125,112,99,86,73,60,47,34,21,8,128,115,102,89,76,63,50,37,24,11,131,118,105,92,79,66,53,40,27,14)</script></html>"
      ],
      "text/latex": [
       "$$\\newcommand{\\Bold}[1]{\\mathbf{#1}}\\sigma^{120}= (1,121,108,95,82,69,56,43,30,17,4,124,111,98,85,72,59,46,33,20,7,127,114,101,88,75,62,49,36,23,10,130,117,104,91,78,65,52,39,26,13,133,120,107,94,81,68,55,42,29,16,3,123,110,97,84,71,58,45,32,19,6,126,113,100,87,74,61,48,35,22,9,129,116,103,90,77,64,51,38,25,12,132,119,106,93,80,67,54,41,28,15,2,122,109,96,83,70,57,44,31,18,5,125,112,99,86,73,60,47,34,21,8,128,115,102,89,76,63,50,37,24,11,131,118,105,92,79,66,53,40,27,14)$$"
      ],
      "text/plain": [
       "\\sigma^{120}= (1,121,108,95,82,69,56,43,30,17,4,124,111,98,85,72,59,46,33,20,7,127,114,101,88,75,62,49,36,23,10,130,117,104,91,78,65,52,39,26,13,133,120,107,94,81,68,55,42,29,16,3,123,110,97,84,71,58,45,32,19,6,126,113,100,87,74,61,48,35,22,9,129,116,103,90,77,64,51,38,25,12,132,119,106,93,80,67,54,41,28,15,2,122,109,96,83,70,57,44,31,18,5,125,112,99,86,73,60,47,34,21,8,128,115,102,89,76,63,50,37,24,11,131,118,105,92,79,66,53,40,27,14)"
      ]
     },
     "metadata": {},
     "output_type": "display_data"
    },
    {
     "data": {
      "text/html": [
       "<html><script type=\"math/tex; mode=display\">\\newcommand{\\Bold}[1]{\\mathbf{#1}}\\sigma^{121}= (1,122,110,98,86,74,62,50,38,26,14,2,123,111,99,87,75,63,51,39,27,15,3,124,112,100,88,76,64,52,40,28,16,4,125,113,101,89,77,65,53,41,29,17,5,126,114,102,90,78,66,54,42,30,18,6,127,115,103,91,79,67,55,43,31,19,7,128,116,104,92,80,68,56,44,32,20,8,129,117,105,93,81,69,57,45,33,21,9,130,118,106,94,82,70,58,46,34,22,10,131,119,107,95,83,71,59,47,35,23,11,132,120,108,96,84,72,60,48,36,24,12,133,121,109,97,85,73,61,49,37,25,13)</script></html>"
      ],
      "text/latex": [
       "$$\\newcommand{\\Bold}[1]{\\mathbf{#1}}\\sigma^{121}= (1,122,110,98,86,74,62,50,38,26,14,2,123,111,99,87,75,63,51,39,27,15,3,124,112,100,88,76,64,52,40,28,16,4,125,113,101,89,77,65,53,41,29,17,5,126,114,102,90,78,66,54,42,30,18,6,127,115,103,91,79,67,55,43,31,19,7,128,116,104,92,80,68,56,44,32,20,8,129,117,105,93,81,69,57,45,33,21,9,130,118,106,94,82,70,58,46,34,22,10,131,119,107,95,83,71,59,47,35,23,11,132,120,108,96,84,72,60,48,36,24,12,133,121,109,97,85,73,61,49,37,25,13)$$"
      ],
      "text/plain": [
       "\\sigma^{121}= (1,122,110,98,86,74,62,50,38,26,14,2,123,111,99,87,75,63,51,39,27,15,3,124,112,100,88,76,64,52,40,28,16,4,125,113,101,89,77,65,53,41,29,17,5,126,114,102,90,78,66,54,42,30,18,6,127,115,103,91,79,67,55,43,31,19,7,128,116,104,92,80,68,56,44,32,20,8,129,117,105,93,81,69,57,45,33,21,9,130,118,106,94,82,70,58,46,34,22,10,131,119,107,95,83,71,59,47,35,23,11,132,120,108,96,84,72,60,48,36,24,12,133,121,109,97,85,73,61,49,37,25,13)"
      ]
     },
     "metadata": {},
     "output_type": "display_data"
    },
    {
     "data": {
      "text/html": [
       "<html><script type=\"math/tex; mode=display\">\\newcommand{\\Bold}[1]{\\mathbf{#1}}\\sigma^{122}= (1,123,112,101,90,79,68,57,46,35,24,13,2,124,113,102,91,80,69,58,47,36,25,14,3,125,114,103,92,81,70,59,48,37,26,15,4,126,115,104,93,82,71,60,49,38,27,16,5,127,116,105,94,83,72,61,50,39,28,17,6,128,117,106,95,84,73,62,51,40,29,18,7,129,118,107,96,85,74,63,52,41,30,19,8,130,119,108,97,86,75,64,53,42,31,20,9,131,120,109,98,87,76,65,54,43,32,21,10,132,121,110,99,88,77,66,55,44,33,22,11,133,122,111,100,89,78,67,56,45,34,23,12)</script></html>"
      ],
      "text/latex": [
       "$$\\newcommand{\\Bold}[1]{\\mathbf{#1}}\\sigma^{122}= (1,123,112,101,90,79,68,57,46,35,24,13,2,124,113,102,91,80,69,58,47,36,25,14,3,125,114,103,92,81,70,59,48,37,26,15,4,126,115,104,93,82,71,60,49,38,27,16,5,127,116,105,94,83,72,61,50,39,28,17,6,128,117,106,95,84,73,62,51,40,29,18,7,129,118,107,96,85,74,63,52,41,30,19,8,130,119,108,97,86,75,64,53,42,31,20,9,131,120,109,98,87,76,65,54,43,32,21,10,132,121,110,99,88,77,66,55,44,33,22,11,133,122,111,100,89,78,67,56,45,34,23,12)$$"
      ],
      "text/plain": [
       "\\sigma^{122}= (1,123,112,101,90,79,68,57,46,35,24,13,2,124,113,102,91,80,69,58,47,36,25,14,3,125,114,103,92,81,70,59,48,37,26,15,4,126,115,104,93,82,71,60,49,38,27,16,5,127,116,105,94,83,72,61,50,39,28,17,6,128,117,106,95,84,73,62,51,40,29,18,7,129,118,107,96,85,74,63,52,41,30,19,8,130,119,108,97,86,75,64,53,42,31,20,9,131,120,109,98,87,76,65,54,43,32,21,10,132,121,110,99,88,77,66,55,44,33,22,11,133,122,111,100,89,78,67,56,45,34,23,12)"
      ]
     },
     "metadata": {},
     "output_type": "display_data"
    },
    {
     "data": {
      "text/html": [
       "<html><script type=\"math/tex; mode=display\">\\newcommand{\\Bold}[1]{\\mathbf{#1}}\\sigma^{123}= (1,124,114,104,94,84,74,64,54,44,34,24,14,4,127,117,107,97,87,77,67,57,47,37,27,17,7,130,120,110,100,90,80,70,60,50,40,30,20,10,133,123,113,103,93,83,73,63,53,43,33,23,13,3,126,116,106,96,86,76,66,56,46,36,26,16,6,129,119,109,99,89,79,69,59,49,39,29,19,9,132,122,112,102,92,82,72,62,52,42,32,22,12,2,125,115,105,95,85,75,65,55,45,35,25,15,5,128,118,108,98,88,78,68,58,48,38,28,18,8,131,121,111,101,91,81,71,61,51,41,31,21,11)</script></html>"
      ],
      "text/latex": [
       "$$\\newcommand{\\Bold}[1]{\\mathbf{#1}}\\sigma^{123}= (1,124,114,104,94,84,74,64,54,44,34,24,14,4,127,117,107,97,87,77,67,57,47,37,27,17,7,130,120,110,100,90,80,70,60,50,40,30,20,10,133,123,113,103,93,83,73,63,53,43,33,23,13,3,126,116,106,96,86,76,66,56,46,36,26,16,6,129,119,109,99,89,79,69,59,49,39,29,19,9,132,122,112,102,92,82,72,62,52,42,32,22,12,2,125,115,105,95,85,75,65,55,45,35,25,15,5,128,118,108,98,88,78,68,58,48,38,28,18,8,131,121,111,101,91,81,71,61,51,41,31,21,11)$$"
      ],
      "text/plain": [
       "\\sigma^{123}= (1,124,114,104,94,84,74,64,54,44,34,24,14,4,127,117,107,97,87,77,67,57,47,37,27,17,7,130,120,110,100,90,80,70,60,50,40,30,20,10,133,123,113,103,93,83,73,63,53,43,33,23,13,3,126,116,106,96,86,76,66,56,46,36,26,16,6,129,119,109,99,89,79,69,59,49,39,29,19,9,132,122,112,102,92,82,72,62,52,42,32,22,12,2,125,115,105,95,85,75,65,55,45,35,25,15,5,128,118,108,98,88,78,68,58,48,38,28,18,8,131,121,111,101,91,81,71,61,51,41,31,21,11)"
      ]
     },
     "metadata": {},
     "output_type": "display_data"
    },
    {
     "data": {
      "text/html": [
       "<html><script type=\"math/tex; mode=display\">\\newcommand{\\Bold}[1]{\\mathbf{#1}}\\sigma^{124}= (1,125,116,107,98,89,80,71,62,53,44,35,26,17,8,132,123,114,105,96,87,78,69,60,51,42,33,24,15,6,130,121,112,103,94,85,76,67,58,49,40,31,22,13,4,128,119,110,101,92,83,74,65,56,47,38,29,20,11,2,126,117,108,99,90,81,72,63,54,45,36,27,18,9,133,124,115,106,97,88,79,70,61,52,43,34,25,16,7,131,122,113,104,95,86,77,68,59,50,41,32,23,14,5,129,120,111,102,93,84,75,66,57,48,39,30,21,12,3,127,118,109,100,91,82,73,64,55,46,37,28,19,10)</script></html>"
      ],
      "text/latex": [
       "$$\\newcommand{\\Bold}[1]{\\mathbf{#1}}\\sigma^{124}= (1,125,116,107,98,89,80,71,62,53,44,35,26,17,8,132,123,114,105,96,87,78,69,60,51,42,33,24,15,6,130,121,112,103,94,85,76,67,58,49,40,31,22,13,4,128,119,110,101,92,83,74,65,56,47,38,29,20,11,2,126,117,108,99,90,81,72,63,54,45,36,27,18,9,133,124,115,106,97,88,79,70,61,52,43,34,25,16,7,131,122,113,104,95,86,77,68,59,50,41,32,23,14,5,129,120,111,102,93,84,75,66,57,48,39,30,21,12,3,127,118,109,100,91,82,73,64,55,46,37,28,19,10)$$"
      ],
      "text/plain": [
       "\\sigma^{124}= (1,125,116,107,98,89,80,71,62,53,44,35,26,17,8,132,123,114,105,96,87,78,69,60,51,42,33,24,15,6,130,121,112,103,94,85,76,67,58,49,40,31,22,13,4,128,119,110,101,92,83,74,65,56,47,38,29,20,11,2,126,117,108,99,90,81,72,63,54,45,36,27,18,9,133,124,115,106,97,88,79,70,61,52,43,34,25,16,7,131,122,113,104,95,86,77,68,59,50,41,32,23,14,5,129,120,111,102,93,84,75,66,57,48,39,30,21,12,3,127,118,109,100,91,82,73,64,55,46,37,28,19,10)"
      ]
     },
     "metadata": {},
     "output_type": "display_data"
    },
    {
     "data": {
      "text/html": [
       "<html><script type=\"math/tex; mode=display\">\\newcommand{\\Bold}[1]{\\mathbf{#1}}\\sigma^{125}= (1,126,118,110,102,94,86,78,70,62,54,46,38,30,22,14,6,131,123,115,107,99,91,83,75,67,59,51,43,35,27,19,11,3,128,120,112,104,96,88,80,72,64,56,48,40,32,24,16,8,133,125,117,109,101,93,85,77,69,61,53,45,37,29,21,13,5,130,122,114,106,98,90,82,74,66,58,50,42,34,26,18,10,2,127,119,111,103,95,87,79,71,63,55,47,39,31,23,15,7,132,124,116,108,100,92,84,76,68,60,52,44,36,28,20,12,4,129,121,113,105,97,89,81,73,65,57,49,41,33,25,17,9)</script></html>"
      ],
      "text/latex": [
       "$$\\newcommand{\\Bold}[1]{\\mathbf{#1}}\\sigma^{125}= (1,126,118,110,102,94,86,78,70,62,54,46,38,30,22,14,6,131,123,115,107,99,91,83,75,67,59,51,43,35,27,19,11,3,128,120,112,104,96,88,80,72,64,56,48,40,32,24,16,8,133,125,117,109,101,93,85,77,69,61,53,45,37,29,21,13,5,130,122,114,106,98,90,82,74,66,58,50,42,34,26,18,10,2,127,119,111,103,95,87,79,71,63,55,47,39,31,23,15,7,132,124,116,108,100,92,84,76,68,60,52,44,36,28,20,12,4,129,121,113,105,97,89,81,73,65,57,49,41,33,25,17,9)$$"
      ],
      "text/plain": [
       "\\sigma^{125}= (1,126,118,110,102,94,86,78,70,62,54,46,38,30,22,14,6,131,123,115,107,99,91,83,75,67,59,51,43,35,27,19,11,3,128,120,112,104,96,88,80,72,64,56,48,40,32,24,16,8,133,125,117,109,101,93,85,77,69,61,53,45,37,29,21,13,5,130,122,114,106,98,90,82,74,66,58,50,42,34,26,18,10,2,127,119,111,103,95,87,79,71,63,55,47,39,31,23,15,7,132,124,116,108,100,92,84,76,68,60,52,44,36,28,20,12,4,129,121,113,105,97,89,81,73,65,57,49,41,33,25,17,9)"
      ]
     },
     "metadata": {},
     "output_type": "display_data"
    },
    {
     "data": {
      "text/html": [
       "<html><script type=\"math/tex; mode=display\">\\newcommand{\\Bold}[1]{\\mathbf{#1}}\\sigma^{126}= (1,127,120,113,106,99,92,85,78,71,64,57,50,43,36,29,22,15,8)(2,128,121,114,107,100,93,86,79,72,65,58,51,44,37,30,23,16,9)(3,129,122,115,108,101,94,87,80,73,66,59,52,45,38,31,24,17,10)(4,130,123,116,109,102,95,88,81,74,67,60,53,46,39,32,25,18,11)(5,131,124,117,110,103,96,89,82,75,68,61,54,47,40,33,26,19,12)(6,132,125,118,111,104,97,90,83,76,69,62,55,48,41,34,27,20,13)(7,133,126,119,112,105,98,91,84,77,70,63,56,49,42,35,28,21,14)</script></html>"
      ],
      "text/latex": [
       "$$\\newcommand{\\Bold}[1]{\\mathbf{#1}}\\sigma^{126}= (1,127,120,113,106,99,92,85,78,71,64,57,50,43,36,29,22,15,8)(2,128,121,114,107,100,93,86,79,72,65,58,51,44,37,30,23,16,9)(3,129,122,115,108,101,94,87,80,73,66,59,52,45,38,31,24,17,10)(4,130,123,116,109,102,95,88,81,74,67,60,53,46,39,32,25,18,11)(5,131,124,117,110,103,96,89,82,75,68,61,54,47,40,33,26,19,12)(6,132,125,118,111,104,97,90,83,76,69,62,55,48,41,34,27,20,13)(7,133,126,119,112,105,98,91,84,77,70,63,56,49,42,35,28,21,14)$$"
      ],
      "text/plain": [
       "\\sigma^{126}= (1,127,120,113,106,99,92,85,78,71,64,57,50,43,36,29,22,15,8)(2,128,121,114,107,100,93,86,79,72,65,58,51,44,37,30,23,16,9)(3,129,122,115,108,101,94,87,80,73,66,59,52,45,38,31,24,17,10)(4,130,123,116,109,102,95,88,81,74,67,60,53,46,39,32,25,18,11)(5,131,124,117,110,103,96,89,82,75,68,61,54,47,40,33,26,19,12)(6,132,125,118,111,104,97,90,83,76,69,62,55,48,41,34,27,20,13)(7,133,126,119,112,105,98,91,84,77,70,63,56,49,42,35,28,21,14)"
      ]
     },
     "metadata": {},
     "output_type": "display_data"
    },
    {
     "data": {
      "text/html": [
       "<html><script type=\"math/tex; mode=display\">\\newcommand{\\Bold}[1]{\\mathbf{#1}}\\sigma^{127}= (1,128,122,116,110,104,98,92,86,80,74,68,62,56,50,44,38,32,26,20,14,8,2,129,123,117,111,105,99,93,87,81,75,69,63,57,51,45,39,33,27,21,15,9,3,130,124,118,112,106,100,94,88,82,76,70,64,58,52,46,40,34,28,22,16,10,4,131,125,119,113,107,101,95,89,83,77,71,65,59,53,47,41,35,29,23,17,11,5,132,126,120,114,108,102,96,90,84,78,72,66,60,54,48,42,36,30,24,18,12,6,133,127,121,115,109,103,97,91,85,79,73,67,61,55,49,43,37,31,25,19,13,7)</script></html>"
      ],
      "text/latex": [
       "$$\\newcommand{\\Bold}[1]{\\mathbf{#1}}\\sigma^{127}= (1,128,122,116,110,104,98,92,86,80,74,68,62,56,50,44,38,32,26,20,14,8,2,129,123,117,111,105,99,93,87,81,75,69,63,57,51,45,39,33,27,21,15,9,3,130,124,118,112,106,100,94,88,82,76,70,64,58,52,46,40,34,28,22,16,10,4,131,125,119,113,107,101,95,89,83,77,71,65,59,53,47,41,35,29,23,17,11,5,132,126,120,114,108,102,96,90,84,78,72,66,60,54,48,42,36,30,24,18,12,6,133,127,121,115,109,103,97,91,85,79,73,67,61,55,49,43,37,31,25,19,13,7)$$"
      ],
      "text/plain": [
       "\\sigma^{127}= (1,128,122,116,110,104,98,92,86,80,74,68,62,56,50,44,38,32,26,20,14,8,2,129,123,117,111,105,99,93,87,81,75,69,63,57,51,45,39,33,27,21,15,9,3,130,124,118,112,106,100,94,88,82,76,70,64,58,52,46,40,34,28,22,16,10,4,131,125,119,113,107,101,95,89,83,77,71,65,59,53,47,41,35,29,23,17,11,5,132,126,120,114,108,102,96,90,84,78,72,66,60,54,48,42,36,30,24,18,12,6,133,127,121,115,109,103,97,91,85,79,73,67,61,55,49,43,37,31,25,19,13,7)"
      ]
     },
     "metadata": {},
     "output_type": "display_data"
    },
    {
     "data": {
      "text/html": [
       "<html><script type=\"math/tex; mode=display\">\\newcommand{\\Bold}[1]{\\mathbf{#1}}\\sigma^{128}= (1,129,124,119,114,109,104,99,94,89,84,79,74,69,64,59,54,49,44,39,34,29,24,19,14,9,4,132,127,122,117,112,107,102,97,92,87,82,77,72,67,62,57,52,47,42,37,32,27,22,17,12,7,2,130,125,120,115,110,105,100,95,90,85,80,75,70,65,60,55,50,45,40,35,30,25,20,15,10,5,133,128,123,118,113,108,103,98,93,88,83,78,73,68,63,58,53,48,43,38,33,28,23,18,13,8,3,131,126,121,116,111,106,101,96,91,86,81,76,71,66,61,56,51,46,41,36,31,26,21,16,11,6)</script></html>"
      ],
      "text/latex": [
       "$$\\newcommand{\\Bold}[1]{\\mathbf{#1}}\\sigma^{128}= (1,129,124,119,114,109,104,99,94,89,84,79,74,69,64,59,54,49,44,39,34,29,24,19,14,9,4,132,127,122,117,112,107,102,97,92,87,82,77,72,67,62,57,52,47,42,37,32,27,22,17,12,7,2,130,125,120,115,110,105,100,95,90,85,80,75,70,65,60,55,50,45,40,35,30,25,20,15,10,5,133,128,123,118,113,108,103,98,93,88,83,78,73,68,63,58,53,48,43,38,33,28,23,18,13,8,3,131,126,121,116,111,106,101,96,91,86,81,76,71,66,61,56,51,46,41,36,31,26,21,16,11,6)$$"
      ],
      "text/plain": [
       "\\sigma^{128}= (1,129,124,119,114,109,104,99,94,89,84,79,74,69,64,59,54,49,44,39,34,29,24,19,14,9,4,132,127,122,117,112,107,102,97,92,87,82,77,72,67,62,57,52,47,42,37,32,27,22,17,12,7,2,130,125,120,115,110,105,100,95,90,85,80,75,70,65,60,55,50,45,40,35,30,25,20,15,10,5,133,128,123,118,113,108,103,98,93,88,83,78,73,68,63,58,53,48,43,38,33,28,23,18,13,8,3,131,126,121,116,111,106,101,96,91,86,81,76,71,66,61,56,51,46,41,36,31,26,21,16,11,6)"
      ]
     },
     "metadata": {},
     "output_type": "display_data"
    },
    {
     "data": {
      "text/html": [
       "<html><script type=\"math/tex; mode=display\">\\newcommand{\\Bold}[1]{\\mathbf{#1}}\\sigma^{129}= (1,130,126,122,118,114,110,106,102,98,94,90,86,82,78,74,70,66,62,58,54,50,46,42,38,34,30,26,22,18,14,10,6,2,131,127,123,119,115,111,107,103,99,95,91,87,83,79,75,71,67,63,59,55,51,47,43,39,35,31,27,23,19,15,11,7,3,132,128,124,120,116,112,108,104,100,96,92,88,84,80,76,72,68,64,60,56,52,48,44,40,36,32,28,24,20,16,12,8,4,133,129,125,121,117,113,109,105,101,97,93,89,85,81,77,73,69,65,61,57,53,49,45,41,37,33,29,25,21,17,13,9,5)</script></html>"
      ],
      "text/latex": [
       "$$\\newcommand{\\Bold}[1]{\\mathbf{#1}}\\sigma^{129}= (1,130,126,122,118,114,110,106,102,98,94,90,86,82,78,74,70,66,62,58,54,50,46,42,38,34,30,26,22,18,14,10,6,2,131,127,123,119,115,111,107,103,99,95,91,87,83,79,75,71,67,63,59,55,51,47,43,39,35,31,27,23,19,15,11,7,3,132,128,124,120,116,112,108,104,100,96,92,88,84,80,76,72,68,64,60,56,52,48,44,40,36,32,28,24,20,16,12,8,4,133,129,125,121,117,113,109,105,101,97,93,89,85,81,77,73,69,65,61,57,53,49,45,41,37,33,29,25,21,17,13,9,5)$$"
      ],
      "text/plain": [
       "\\sigma^{129}= (1,130,126,122,118,114,110,106,102,98,94,90,86,82,78,74,70,66,62,58,54,50,46,42,38,34,30,26,22,18,14,10,6,2,131,127,123,119,115,111,107,103,99,95,91,87,83,79,75,71,67,63,59,55,51,47,43,39,35,31,27,23,19,15,11,7,3,132,128,124,120,116,112,108,104,100,96,92,88,84,80,76,72,68,64,60,56,52,48,44,40,36,32,28,24,20,16,12,8,4,133,129,125,121,117,113,109,105,101,97,93,89,85,81,77,73,69,65,61,57,53,49,45,41,37,33,29,25,21,17,13,9,5)"
      ]
     },
     "metadata": {},
     "output_type": "display_data"
    },
    {
     "data": {
      "text/html": [
       "<html><script type=\"math/tex; mode=display\">\\newcommand{\\Bold}[1]{\\mathbf{#1}}\\sigma^{130}= (1,131,128,125,122,119,116,113,110,107,104,101,98,95,92,89,86,83,80,77,74,71,68,65,62,59,56,53,50,47,44,41,38,35,32,29,26,23,20,17,14,11,8,5,2,132,129,126,123,120,117,114,111,108,105,102,99,96,93,90,87,84,81,78,75,72,69,66,63,60,57,54,51,48,45,42,39,36,33,30,27,24,21,18,15,12,9,6,3,133,130,127,124,121,118,115,112,109,106,103,100,97,94,91,88,85,82,79,76,73,70,67,64,61,58,55,52,49,46,43,40,37,34,31,28,25,22,19,16,13,10,7,4)</script></html>"
      ],
      "text/latex": [
       "$$\\newcommand{\\Bold}[1]{\\mathbf{#1}}\\sigma^{130}= (1,131,128,125,122,119,116,113,110,107,104,101,98,95,92,89,86,83,80,77,74,71,68,65,62,59,56,53,50,47,44,41,38,35,32,29,26,23,20,17,14,11,8,5,2,132,129,126,123,120,117,114,111,108,105,102,99,96,93,90,87,84,81,78,75,72,69,66,63,60,57,54,51,48,45,42,39,36,33,30,27,24,21,18,15,12,9,6,3,133,130,127,124,121,118,115,112,109,106,103,100,97,94,91,88,85,82,79,76,73,70,67,64,61,58,55,52,49,46,43,40,37,34,31,28,25,22,19,16,13,10,7,4)$$"
      ],
      "text/plain": [
       "\\sigma^{130}= (1,131,128,125,122,119,116,113,110,107,104,101,98,95,92,89,86,83,80,77,74,71,68,65,62,59,56,53,50,47,44,41,38,35,32,29,26,23,20,17,14,11,8,5,2,132,129,126,123,120,117,114,111,108,105,102,99,96,93,90,87,84,81,78,75,72,69,66,63,60,57,54,51,48,45,42,39,36,33,30,27,24,21,18,15,12,9,6,3,133,130,127,124,121,118,115,112,109,106,103,100,97,94,91,88,85,82,79,76,73,70,67,64,61,58,55,52,49,46,43,40,37,34,31,28,25,22,19,16,13,10,7,4)"
      ]
     },
     "metadata": {},
     "output_type": "display_data"
    },
    {
     "data": {
      "text/html": [
       "<html><script type=\"math/tex; mode=display\">\\newcommand{\\Bold}[1]{\\mathbf{#1}}\\sigma^{131}= (1,132,130,128,126,124,122,120,118,116,114,112,110,108,106,104,102,100,98,96,94,92,90,88,86,84,82,80,78,76,74,72,70,68,66,64,62,60,58,56,54,52,50,48,46,44,42,40,38,36,34,32,30,28,26,24,22,20,18,16,14,12,10,8,6,4,2,133,131,129,127,125,123,121,119,117,115,113,111,109,107,105,103,101,99,97,95,93,91,89,87,85,83,81,79,77,75,73,71,69,67,65,63,61,59,57,55,53,51,49,47,45,43,41,39,37,35,33,31,29,27,25,23,21,19,17,15,13,11,9,7,5,3)</script></html>"
      ],
      "text/latex": [
       "$$\\newcommand{\\Bold}[1]{\\mathbf{#1}}\\sigma^{131}= (1,132,130,128,126,124,122,120,118,116,114,112,110,108,106,104,102,100,98,96,94,92,90,88,86,84,82,80,78,76,74,72,70,68,66,64,62,60,58,56,54,52,50,48,46,44,42,40,38,36,34,32,30,28,26,24,22,20,18,16,14,12,10,8,6,4,2,133,131,129,127,125,123,121,119,117,115,113,111,109,107,105,103,101,99,97,95,93,91,89,87,85,83,81,79,77,75,73,71,69,67,65,63,61,59,57,55,53,51,49,47,45,43,41,39,37,35,33,31,29,27,25,23,21,19,17,15,13,11,9,7,5,3)$$"
      ],
      "text/plain": [
       "\\sigma^{131}= (1,132,130,128,126,124,122,120,118,116,114,112,110,108,106,104,102,100,98,96,94,92,90,88,86,84,82,80,78,76,74,72,70,68,66,64,62,60,58,56,54,52,50,48,46,44,42,40,38,36,34,32,30,28,26,24,22,20,18,16,14,12,10,8,6,4,2,133,131,129,127,125,123,121,119,117,115,113,111,109,107,105,103,101,99,97,95,93,91,89,87,85,83,81,79,77,75,73,71,69,67,65,63,61,59,57,55,53,51,49,47,45,43,41,39,37,35,33,31,29,27,25,23,21,19,17,15,13,11,9,7,5,3)"
      ]
     },
     "metadata": {},
     "output_type": "display_data"
    },
    {
     "data": {
      "text/html": [
       "<html><script type=\"math/tex; mode=display\">\\newcommand{\\Bold}[1]{\\mathbf{#1}}\\sigma^{132}= (1,133,132,131,130,129,128,127,126,125,124,123,122,121,120,119,118,117,116,115,114,113,112,111,110,109,108,107,106,105,104,103,102,101,100,99,98,97,96,95,94,93,92,91,90,89,88,87,86,85,84,83,82,81,80,79,78,77,76,75,74,73,72,71,70,69,68,67,66,65,64,63,62,61,60,59,58,57,56,55,54,53,52,51,50,49,48,47,46,45,44,43,42,41,40,39,38,37,36,35,34,33,32,31,30,29,28,27,26,25,24,23,22,21,20,19,18,17,16,15,14,13,12,11,10,9,8,7,6,5,4,3,2)</script></html>"
      ],
      "text/latex": [
       "$$\\newcommand{\\Bold}[1]{\\mathbf{#1}}\\sigma^{132}= (1,133,132,131,130,129,128,127,126,125,124,123,122,121,120,119,118,117,116,115,114,113,112,111,110,109,108,107,106,105,104,103,102,101,100,99,98,97,96,95,94,93,92,91,90,89,88,87,86,85,84,83,82,81,80,79,78,77,76,75,74,73,72,71,70,69,68,67,66,65,64,63,62,61,60,59,58,57,56,55,54,53,52,51,50,49,48,47,46,45,44,43,42,41,40,39,38,37,36,35,34,33,32,31,30,29,28,27,26,25,24,23,22,21,20,19,18,17,16,15,14,13,12,11,10,9,8,7,6,5,4,3,2)$$"
      ],
      "text/plain": [
       "\\sigma^{132}= (1,133,132,131,130,129,128,127,126,125,124,123,122,121,120,119,118,117,116,115,114,113,112,111,110,109,108,107,106,105,104,103,102,101,100,99,98,97,96,95,94,93,92,91,90,89,88,87,86,85,84,83,82,81,80,79,78,77,76,75,74,73,72,71,70,69,68,67,66,65,64,63,62,61,60,59,58,57,56,55,54,53,52,51,50,49,48,47,46,45,44,43,42,41,40,39,38,37,36,35,34,33,32,31,30,29,28,27,26,25,24,23,22,21,20,19,18,17,16,15,14,13,12,11,10,9,8,7,6,5,4,3,2)"
      ]
     },
     "metadata": {},
     "output_type": "display_data"
    }
   ],
   "source": [
    "G = SymmetricGroup(133)\n",
    "s = G(tuple(srange(1, 134, 1)))\n",
    "for i in range(1, 133, 1):\n",
    "    pretty_print(LatexExpr(r\"\\sigma^{\" + str(i) + r\"}=\"), s**i)"
   ]
  },
  {
   "cell_type": "markdown",
   "metadata": {},
   "source": [
    "Отражение бус по оси симметрии:\n",
    "$$ \\tau = (1, 133)(2, 132)(3, 131)(4, 130)...(64, 70)(65, 69)(66, 68)(67) $$\n",
    "\n",
    "Всевозможные комбинации осевой симметрии и поворотов:"
   ]
  },
  {
   "cell_type": "code",
   "execution_count": 25,
   "metadata": {
    "scrolled": false
   },
   "outputs": [
    {
     "data": {
      "text/html": [
       "<html><script type=\"math/tex; mode=display\">\\newcommand{\\Bold}[1]{\\mathbf{#1}}\\tau \\times \\sigma^{1}= (1,132)(2,131)(3,130)(4,129)(5,128)(6,127)(7,126)(8,125)(9,124)(10,123)(11,122)(12,121)(13,120)(14,119)(15,118)(16,117)(17,116)(18,115)(19,114)(20,113)(21,112)(22,111)(23,110)(24,109)(25,108)(26,107)(27,106)(28,105)(29,104)(30,103)(31,102)(32,101)(33,100)(34,99)(35,98)(36,97)(37,96)(38,95)(39,94)(40,93)(41,92)(42,91)(43,90)(44,89)(45,88)(46,87)(47,86)(48,85)(49,84)(50,83)(51,82)(52,81)(53,80)(54,79)(55,78)(56,77)(57,76)(58,75)(59,74)(60,73)(61,72)(62,71)(63,70)(64,69)(65,68)(66,67)</script></html>"
      ],
      "text/latex": [
       "$$\\newcommand{\\Bold}[1]{\\mathbf{#1}}\\tau \\times \\sigma^{1}= (1,132)(2,131)(3,130)(4,129)(5,128)(6,127)(7,126)(8,125)(9,124)(10,123)(11,122)(12,121)(13,120)(14,119)(15,118)(16,117)(17,116)(18,115)(19,114)(20,113)(21,112)(22,111)(23,110)(24,109)(25,108)(26,107)(27,106)(28,105)(29,104)(30,103)(31,102)(32,101)(33,100)(34,99)(35,98)(36,97)(37,96)(38,95)(39,94)(40,93)(41,92)(42,91)(43,90)(44,89)(45,88)(46,87)(47,86)(48,85)(49,84)(50,83)(51,82)(52,81)(53,80)(54,79)(55,78)(56,77)(57,76)(58,75)(59,74)(60,73)(61,72)(62,71)(63,70)(64,69)(65,68)(66,67)$$"
      ],
      "text/plain": [
       "\\tau \\times \\sigma^{1}= (1,132)(2,131)(3,130)(4,129)(5,128)(6,127)(7,126)(8,125)(9,124)(10,123)(11,122)(12,121)(13,120)(14,119)(15,118)(16,117)(17,116)(18,115)(19,114)(20,113)(21,112)(22,111)(23,110)(24,109)(25,108)(26,107)(27,106)(28,105)(29,104)(30,103)(31,102)(32,101)(33,100)(34,99)(35,98)(36,97)(37,96)(38,95)(39,94)(40,93)(41,92)(42,91)(43,90)(44,89)(45,88)(46,87)(47,86)(48,85)(49,84)(50,83)(51,82)(52,81)(53,80)(54,79)(55,78)(56,77)(57,76)(58,75)(59,74)(60,73)(61,72)(62,71)(63,70)(64,69)(65,68)(66,67)"
      ]
     },
     "metadata": {},
     "output_type": "display_data"
    },
    {
     "data": {
      "text/html": [
       "<html><script type=\"math/tex; mode=display\">\\newcommand{\\Bold}[1]{\\mathbf{#1}}\\tau \\times \\sigma^{2}= (1,131)(2,130)(3,129)(4,128)(5,127)(6,126)(7,125)(8,124)(9,123)(10,122)(11,121)(12,120)(13,119)(14,118)(15,117)(16,116)(17,115)(18,114)(19,113)(20,112)(21,111)(22,110)(23,109)(24,108)(25,107)(26,106)(27,105)(28,104)(29,103)(30,102)(31,101)(32,100)(33,99)(34,98)(35,97)(36,96)(37,95)(38,94)(39,93)(40,92)(41,91)(42,90)(43,89)(44,88)(45,87)(46,86)(47,85)(48,84)(49,83)(50,82)(51,81)(52,80)(53,79)(54,78)(55,77)(56,76)(57,75)(58,74)(59,73)(60,72)(61,71)(62,70)(63,69)(64,68)(65,67)(132,133)</script></html>"
      ],
      "text/latex": [
       "$$\\newcommand{\\Bold}[1]{\\mathbf{#1}}\\tau \\times \\sigma^{2}= (1,131)(2,130)(3,129)(4,128)(5,127)(6,126)(7,125)(8,124)(9,123)(10,122)(11,121)(12,120)(13,119)(14,118)(15,117)(16,116)(17,115)(18,114)(19,113)(20,112)(21,111)(22,110)(23,109)(24,108)(25,107)(26,106)(27,105)(28,104)(29,103)(30,102)(31,101)(32,100)(33,99)(34,98)(35,97)(36,96)(37,95)(38,94)(39,93)(40,92)(41,91)(42,90)(43,89)(44,88)(45,87)(46,86)(47,85)(48,84)(49,83)(50,82)(51,81)(52,80)(53,79)(54,78)(55,77)(56,76)(57,75)(58,74)(59,73)(60,72)(61,71)(62,70)(63,69)(64,68)(65,67)(132,133)$$"
      ],
      "text/plain": [
       "\\tau \\times \\sigma^{2}= (1,131)(2,130)(3,129)(4,128)(5,127)(6,126)(7,125)(8,124)(9,123)(10,122)(11,121)(12,120)(13,119)(14,118)(15,117)(16,116)(17,115)(18,114)(19,113)(20,112)(21,111)(22,110)(23,109)(24,108)(25,107)(26,106)(27,105)(28,104)(29,103)(30,102)(31,101)(32,100)(33,99)(34,98)(35,97)(36,96)(37,95)(38,94)(39,93)(40,92)(41,91)(42,90)(43,89)(44,88)(45,87)(46,86)(47,85)(48,84)(49,83)(50,82)(51,81)(52,80)(53,79)(54,78)(55,77)(56,76)(57,75)(58,74)(59,73)(60,72)(61,71)(62,70)(63,69)(64,68)(65,67)(132,133)"
      ]
     },
     "metadata": {},
     "output_type": "display_data"
    },
    {
     "data": {
      "text/html": [
       "<html><script type=\"math/tex; mode=display\">\\newcommand{\\Bold}[1]{\\mathbf{#1}}\\tau \\times \\sigma^{3}= (1,130)(2,129)(3,128)(4,127)(5,126)(6,125)(7,124)(8,123)(9,122)(10,121)(11,120)(12,119)(13,118)(14,117)(15,116)(16,115)(17,114)(18,113)(19,112)(20,111)(21,110)(22,109)(23,108)(24,107)(25,106)(26,105)(27,104)(28,103)(29,102)(30,101)(31,100)(32,99)(33,98)(34,97)(35,96)(36,95)(37,94)(38,93)(39,92)(40,91)(41,90)(42,89)(43,88)(44,87)(45,86)(46,85)(47,84)(48,83)(49,82)(50,81)(51,80)(52,79)(53,78)(54,77)(55,76)(56,75)(57,74)(58,73)(59,72)(60,71)(61,70)(62,69)(63,68)(64,67)(65,66)(131,133)</script></html>"
      ],
      "text/latex": [
       "$$\\newcommand{\\Bold}[1]{\\mathbf{#1}}\\tau \\times \\sigma^{3}= (1,130)(2,129)(3,128)(4,127)(5,126)(6,125)(7,124)(8,123)(9,122)(10,121)(11,120)(12,119)(13,118)(14,117)(15,116)(16,115)(17,114)(18,113)(19,112)(20,111)(21,110)(22,109)(23,108)(24,107)(25,106)(26,105)(27,104)(28,103)(29,102)(30,101)(31,100)(32,99)(33,98)(34,97)(35,96)(36,95)(37,94)(38,93)(39,92)(40,91)(41,90)(42,89)(43,88)(44,87)(45,86)(46,85)(47,84)(48,83)(49,82)(50,81)(51,80)(52,79)(53,78)(54,77)(55,76)(56,75)(57,74)(58,73)(59,72)(60,71)(61,70)(62,69)(63,68)(64,67)(65,66)(131,133)$$"
      ],
      "text/plain": [
       "\\tau \\times \\sigma^{3}= (1,130)(2,129)(3,128)(4,127)(5,126)(6,125)(7,124)(8,123)(9,122)(10,121)(11,120)(12,119)(13,118)(14,117)(15,116)(16,115)(17,114)(18,113)(19,112)(20,111)(21,110)(22,109)(23,108)(24,107)(25,106)(26,105)(27,104)(28,103)(29,102)(30,101)(31,100)(32,99)(33,98)(34,97)(35,96)(36,95)(37,94)(38,93)(39,92)(40,91)(41,90)(42,89)(43,88)(44,87)(45,86)(46,85)(47,84)(48,83)(49,82)(50,81)(51,80)(52,79)(53,78)(54,77)(55,76)(56,75)(57,74)(58,73)(59,72)(60,71)(61,70)(62,69)(63,68)(64,67)(65,66)(131,133)"
      ]
     },
     "metadata": {},
     "output_type": "display_data"
    },
    {
     "data": {
      "text/html": [
       "<html><script type=\"math/tex; mode=display\">\\newcommand{\\Bold}[1]{\\mathbf{#1}}\\tau \\times \\sigma^{4}= (1,129)(2,128)(3,127)(4,126)(5,125)(6,124)(7,123)(8,122)(9,121)(10,120)(11,119)(12,118)(13,117)(14,116)(15,115)(16,114)(17,113)(18,112)(19,111)(20,110)(21,109)(22,108)(23,107)(24,106)(25,105)(26,104)(27,103)(28,102)(29,101)(30,100)(31,99)(32,98)(33,97)(34,96)(35,95)(36,94)(37,93)(38,92)(39,91)(40,90)(41,89)(42,88)(43,87)(44,86)(45,85)(46,84)(47,83)(48,82)(49,81)(50,80)(51,79)(52,78)(53,77)(54,76)(55,75)(56,74)(57,73)(58,72)(59,71)(60,70)(61,69)(62,68)(63,67)(64,66)(130,133)(131,132)</script></html>"
      ],
      "text/latex": [
       "$$\\newcommand{\\Bold}[1]{\\mathbf{#1}}\\tau \\times \\sigma^{4}= (1,129)(2,128)(3,127)(4,126)(5,125)(6,124)(7,123)(8,122)(9,121)(10,120)(11,119)(12,118)(13,117)(14,116)(15,115)(16,114)(17,113)(18,112)(19,111)(20,110)(21,109)(22,108)(23,107)(24,106)(25,105)(26,104)(27,103)(28,102)(29,101)(30,100)(31,99)(32,98)(33,97)(34,96)(35,95)(36,94)(37,93)(38,92)(39,91)(40,90)(41,89)(42,88)(43,87)(44,86)(45,85)(46,84)(47,83)(48,82)(49,81)(50,80)(51,79)(52,78)(53,77)(54,76)(55,75)(56,74)(57,73)(58,72)(59,71)(60,70)(61,69)(62,68)(63,67)(64,66)(130,133)(131,132)$$"
      ],
      "text/plain": [
       "\\tau \\times \\sigma^{4}= (1,129)(2,128)(3,127)(4,126)(5,125)(6,124)(7,123)(8,122)(9,121)(10,120)(11,119)(12,118)(13,117)(14,116)(15,115)(16,114)(17,113)(18,112)(19,111)(20,110)(21,109)(22,108)(23,107)(24,106)(25,105)(26,104)(27,103)(28,102)(29,101)(30,100)(31,99)(32,98)(33,97)(34,96)(35,95)(36,94)(37,93)(38,92)(39,91)(40,90)(41,89)(42,88)(43,87)(44,86)(45,85)(46,84)(47,83)(48,82)(49,81)(50,80)(51,79)(52,78)(53,77)(54,76)(55,75)(56,74)(57,73)(58,72)(59,71)(60,70)(61,69)(62,68)(63,67)(64,66)(130,133)(131,132)"
      ]
     },
     "metadata": {},
     "output_type": "display_data"
    },
    {
     "data": {
      "text/html": [
       "<html><script type=\"math/tex; mode=display\">\\newcommand{\\Bold}[1]{\\mathbf{#1}}\\tau \\times \\sigma^{5}= (1,128)(2,127)(3,126)(4,125)(5,124)(6,123)(7,122)(8,121)(9,120)(10,119)(11,118)(12,117)(13,116)(14,115)(15,114)(16,113)(17,112)(18,111)(19,110)(20,109)(21,108)(22,107)(23,106)(24,105)(25,104)(26,103)(27,102)(28,101)(29,100)(30,99)(31,98)(32,97)(33,96)(34,95)(35,94)(36,93)(37,92)(38,91)(39,90)(40,89)(41,88)(42,87)(43,86)(44,85)(45,84)(46,83)(47,82)(48,81)(49,80)(50,79)(51,78)(52,77)(53,76)(54,75)(55,74)(56,73)(57,72)(58,71)(59,70)(60,69)(61,68)(62,67)(63,66)(64,65)(129,133)(130,132)</script></html>"
      ],
      "text/latex": [
       "$$\\newcommand{\\Bold}[1]{\\mathbf{#1}}\\tau \\times \\sigma^{5}= (1,128)(2,127)(3,126)(4,125)(5,124)(6,123)(7,122)(8,121)(9,120)(10,119)(11,118)(12,117)(13,116)(14,115)(15,114)(16,113)(17,112)(18,111)(19,110)(20,109)(21,108)(22,107)(23,106)(24,105)(25,104)(26,103)(27,102)(28,101)(29,100)(30,99)(31,98)(32,97)(33,96)(34,95)(35,94)(36,93)(37,92)(38,91)(39,90)(40,89)(41,88)(42,87)(43,86)(44,85)(45,84)(46,83)(47,82)(48,81)(49,80)(50,79)(51,78)(52,77)(53,76)(54,75)(55,74)(56,73)(57,72)(58,71)(59,70)(60,69)(61,68)(62,67)(63,66)(64,65)(129,133)(130,132)$$"
      ],
      "text/plain": [
       "\\tau \\times \\sigma^{5}= (1,128)(2,127)(3,126)(4,125)(5,124)(6,123)(7,122)(8,121)(9,120)(10,119)(11,118)(12,117)(13,116)(14,115)(15,114)(16,113)(17,112)(18,111)(19,110)(20,109)(21,108)(22,107)(23,106)(24,105)(25,104)(26,103)(27,102)(28,101)(29,100)(30,99)(31,98)(32,97)(33,96)(34,95)(35,94)(36,93)(37,92)(38,91)(39,90)(40,89)(41,88)(42,87)(43,86)(44,85)(45,84)(46,83)(47,82)(48,81)(49,80)(50,79)(51,78)(52,77)(53,76)(54,75)(55,74)(56,73)(57,72)(58,71)(59,70)(60,69)(61,68)(62,67)(63,66)(64,65)(129,133)(130,132)"
      ]
     },
     "metadata": {},
     "output_type": "display_data"
    },
    {
     "data": {
      "text/html": [
       "<html><script type=\"math/tex; mode=display\">\\newcommand{\\Bold}[1]{\\mathbf{#1}}\\tau \\times \\sigma^{6}= (1,127)(2,126)(3,125)(4,124)(5,123)(6,122)(7,121)(8,120)(9,119)(10,118)(11,117)(12,116)(13,115)(14,114)(15,113)(16,112)(17,111)(18,110)(19,109)(20,108)(21,107)(22,106)(23,105)(24,104)(25,103)(26,102)(27,101)(28,100)(29,99)(30,98)(31,97)(32,96)(33,95)(34,94)(35,93)(36,92)(37,91)(38,90)(39,89)(40,88)(41,87)(42,86)(43,85)(44,84)(45,83)(46,82)(47,81)(48,80)(49,79)(50,78)(51,77)(52,76)(53,75)(54,74)(55,73)(56,72)(57,71)(58,70)(59,69)(60,68)(61,67)(62,66)(63,65)(128,133)(129,132)(130,131)</script></html>"
      ],
      "text/latex": [
       "$$\\newcommand{\\Bold}[1]{\\mathbf{#1}}\\tau \\times \\sigma^{6}= (1,127)(2,126)(3,125)(4,124)(5,123)(6,122)(7,121)(8,120)(9,119)(10,118)(11,117)(12,116)(13,115)(14,114)(15,113)(16,112)(17,111)(18,110)(19,109)(20,108)(21,107)(22,106)(23,105)(24,104)(25,103)(26,102)(27,101)(28,100)(29,99)(30,98)(31,97)(32,96)(33,95)(34,94)(35,93)(36,92)(37,91)(38,90)(39,89)(40,88)(41,87)(42,86)(43,85)(44,84)(45,83)(46,82)(47,81)(48,80)(49,79)(50,78)(51,77)(52,76)(53,75)(54,74)(55,73)(56,72)(57,71)(58,70)(59,69)(60,68)(61,67)(62,66)(63,65)(128,133)(129,132)(130,131)$$"
      ],
      "text/plain": [
       "\\tau \\times \\sigma^{6}= (1,127)(2,126)(3,125)(4,124)(5,123)(6,122)(7,121)(8,120)(9,119)(10,118)(11,117)(12,116)(13,115)(14,114)(15,113)(16,112)(17,111)(18,110)(19,109)(20,108)(21,107)(22,106)(23,105)(24,104)(25,103)(26,102)(27,101)(28,100)(29,99)(30,98)(31,97)(32,96)(33,95)(34,94)(35,93)(36,92)(37,91)(38,90)(39,89)(40,88)(41,87)(42,86)(43,85)(44,84)(45,83)(46,82)(47,81)(48,80)(49,79)(50,78)(51,77)(52,76)(53,75)(54,74)(55,73)(56,72)(57,71)(58,70)(59,69)(60,68)(61,67)(62,66)(63,65)(128,133)(129,132)(130,131)"
      ]
     },
     "metadata": {},
     "output_type": "display_data"
    },
    {
     "data": {
      "text/html": [
       "<html><script type=\"math/tex; mode=display\">\\newcommand{\\Bold}[1]{\\mathbf{#1}}\\tau \\times \\sigma^{7}= (1,126)(2,125)(3,124)(4,123)(5,122)(6,121)(7,120)(8,119)(9,118)(10,117)(11,116)(12,115)(13,114)(14,113)(15,112)(16,111)(17,110)(18,109)(19,108)(20,107)(21,106)(22,105)(23,104)(24,103)(25,102)(26,101)(27,100)(28,99)(29,98)(30,97)(31,96)(32,95)(33,94)(34,93)(35,92)(36,91)(37,90)(38,89)(39,88)(40,87)(41,86)(42,85)(43,84)(44,83)(45,82)(46,81)(47,80)(48,79)(49,78)(50,77)(51,76)(52,75)(53,74)(54,73)(55,72)(56,71)(57,70)(58,69)(59,68)(60,67)(61,66)(62,65)(63,64)(127,133)(128,132)(129,131)</script></html>"
      ],
      "text/latex": [
       "$$\\newcommand{\\Bold}[1]{\\mathbf{#1}}\\tau \\times \\sigma^{7}= (1,126)(2,125)(3,124)(4,123)(5,122)(6,121)(7,120)(8,119)(9,118)(10,117)(11,116)(12,115)(13,114)(14,113)(15,112)(16,111)(17,110)(18,109)(19,108)(20,107)(21,106)(22,105)(23,104)(24,103)(25,102)(26,101)(27,100)(28,99)(29,98)(30,97)(31,96)(32,95)(33,94)(34,93)(35,92)(36,91)(37,90)(38,89)(39,88)(40,87)(41,86)(42,85)(43,84)(44,83)(45,82)(46,81)(47,80)(48,79)(49,78)(50,77)(51,76)(52,75)(53,74)(54,73)(55,72)(56,71)(57,70)(58,69)(59,68)(60,67)(61,66)(62,65)(63,64)(127,133)(128,132)(129,131)$$"
      ],
      "text/plain": [
       "\\tau \\times \\sigma^{7}= (1,126)(2,125)(3,124)(4,123)(5,122)(6,121)(7,120)(8,119)(9,118)(10,117)(11,116)(12,115)(13,114)(14,113)(15,112)(16,111)(17,110)(18,109)(19,108)(20,107)(21,106)(22,105)(23,104)(24,103)(25,102)(26,101)(27,100)(28,99)(29,98)(30,97)(31,96)(32,95)(33,94)(34,93)(35,92)(36,91)(37,90)(38,89)(39,88)(40,87)(41,86)(42,85)(43,84)(44,83)(45,82)(46,81)(47,80)(48,79)(49,78)(50,77)(51,76)(52,75)(53,74)(54,73)(55,72)(56,71)(57,70)(58,69)(59,68)(60,67)(61,66)(62,65)(63,64)(127,133)(128,132)(129,131)"
      ]
     },
     "metadata": {},
     "output_type": "display_data"
    },
    {
     "data": {
      "text/html": [
       "<html><script type=\"math/tex; mode=display\">\\newcommand{\\Bold}[1]{\\mathbf{#1}}\\tau \\times \\sigma^{8}= (1,125)(2,124)(3,123)(4,122)(5,121)(6,120)(7,119)(8,118)(9,117)(10,116)(11,115)(12,114)(13,113)(14,112)(15,111)(16,110)(17,109)(18,108)(19,107)(20,106)(21,105)(22,104)(23,103)(24,102)(25,101)(26,100)(27,99)(28,98)(29,97)(30,96)(31,95)(32,94)(33,93)(34,92)(35,91)(36,90)(37,89)(38,88)(39,87)(40,86)(41,85)(42,84)(43,83)(44,82)(45,81)(46,80)(47,79)(48,78)(49,77)(50,76)(51,75)(52,74)(53,73)(54,72)(55,71)(56,70)(57,69)(58,68)(59,67)(60,66)(61,65)(62,64)(126,133)(127,132)(128,131)(129,130)</script></html>"
      ],
      "text/latex": [
       "$$\\newcommand{\\Bold}[1]{\\mathbf{#1}}\\tau \\times \\sigma^{8}= (1,125)(2,124)(3,123)(4,122)(5,121)(6,120)(7,119)(8,118)(9,117)(10,116)(11,115)(12,114)(13,113)(14,112)(15,111)(16,110)(17,109)(18,108)(19,107)(20,106)(21,105)(22,104)(23,103)(24,102)(25,101)(26,100)(27,99)(28,98)(29,97)(30,96)(31,95)(32,94)(33,93)(34,92)(35,91)(36,90)(37,89)(38,88)(39,87)(40,86)(41,85)(42,84)(43,83)(44,82)(45,81)(46,80)(47,79)(48,78)(49,77)(50,76)(51,75)(52,74)(53,73)(54,72)(55,71)(56,70)(57,69)(58,68)(59,67)(60,66)(61,65)(62,64)(126,133)(127,132)(128,131)(129,130)$$"
      ],
      "text/plain": [
       "\\tau \\times \\sigma^{8}= (1,125)(2,124)(3,123)(4,122)(5,121)(6,120)(7,119)(8,118)(9,117)(10,116)(11,115)(12,114)(13,113)(14,112)(15,111)(16,110)(17,109)(18,108)(19,107)(20,106)(21,105)(22,104)(23,103)(24,102)(25,101)(26,100)(27,99)(28,98)(29,97)(30,96)(31,95)(32,94)(33,93)(34,92)(35,91)(36,90)(37,89)(38,88)(39,87)(40,86)(41,85)(42,84)(43,83)(44,82)(45,81)(46,80)(47,79)(48,78)(49,77)(50,76)(51,75)(52,74)(53,73)(54,72)(55,71)(56,70)(57,69)(58,68)(59,67)(60,66)(61,65)(62,64)(126,133)(127,132)(128,131)(129,130)"
      ]
     },
     "metadata": {},
     "output_type": "display_data"
    },
    {
     "data": {
      "text/html": [
       "<html><script type=\"math/tex; mode=display\">\\newcommand{\\Bold}[1]{\\mathbf{#1}}\\tau \\times \\sigma^{9}= (1,124)(2,123)(3,122)(4,121)(5,120)(6,119)(7,118)(8,117)(9,116)(10,115)(11,114)(12,113)(13,112)(14,111)(15,110)(16,109)(17,108)(18,107)(19,106)(20,105)(21,104)(22,103)(23,102)(24,101)(25,100)(26,99)(27,98)(28,97)(29,96)(30,95)(31,94)(32,93)(33,92)(34,91)(35,90)(36,89)(37,88)(38,87)(39,86)(40,85)(41,84)(42,83)(43,82)(44,81)(45,80)(46,79)(47,78)(48,77)(49,76)(50,75)(51,74)(52,73)(53,72)(54,71)(55,70)(56,69)(57,68)(58,67)(59,66)(60,65)(61,64)(62,63)(125,133)(126,132)(127,131)(128,130)</script></html>"
      ],
      "text/latex": [
       "$$\\newcommand{\\Bold}[1]{\\mathbf{#1}}\\tau \\times \\sigma^{9}= (1,124)(2,123)(3,122)(4,121)(5,120)(6,119)(7,118)(8,117)(9,116)(10,115)(11,114)(12,113)(13,112)(14,111)(15,110)(16,109)(17,108)(18,107)(19,106)(20,105)(21,104)(22,103)(23,102)(24,101)(25,100)(26,99)(27,98)(28,97)(29,96)(30,95)(31,94)(32,93)(33,92)(34,91)(35,90)(36,89)(37,88)(38,87)(39,86)(40,85)(41,84)(42,83)(43,82)(44,81)(45,80)(46,79)(47,78)(48,77)(49,76)(50,75)(51,74)(52,73)(53,72)(54,71)(55,70)(56,69)(57,68)(58,67)(59,66)(60,65)(61,64)(62,63)(125,133)(126,132)(127,131)(128,130)$$"
      ],
      "text/plain": [
       "\\tau \\times \\sigma^{9}= (1,124)(2,123)(3,122)(4,121)(5,120)(6,119)(7,118)(8,117)(9,116)(10,115)(11,114)(12,113)(13,112)(14,111)(15,110)(16,109)(17,108)(18,107)(19,106)(20,105)(21,104)(22,103)(23,102)(24,101)(25,100)(26,99)(27,98)(28,97)(29,96)(30,95)(31,94)(32,93)(33,92)(34,91)(35,90)(36,89)(37,88)(38,87)(39,86)(40,85)(41,84)(42,83)(43,82)(44,81)(45,80)(46,79)(47,78)(48,77)(49,76)(50,75)(51,74)(52,73)(53,72)(54,71)(55,70)(56,69)(57,68)(58,67)(59,66)(60,65)(61,64)(62,63)(125,133)(126,132)(127,131)(128,130)"
      ]
     },
     "metadata": {},
     "output_type": "display_data"
    },
    {
     "data": {
      "text/html": [
       "<html><script type=\"math/tex; mode=display\">\\newcommand{\\Bold}[1]{\\mathbf{#1}}\\tau \\times \\sigma^{10}= (1,123)(2,122)(3,121)(4,120)(5,119)(6,118)(7,117)(8,116)(9,115)(10,114)(11,113)(12,112)(13,111)(14,110)(15,109)(16,108)(17,107)(18,106)(19,105)(20,104)(21,103)(22,102)(23,101)(24,100)(25,99)(26,98)(27,97)(28,96)(29,95)(30,94)(31,93)(32,92)(33,91)(34,90)(35,89)(36,88)(37,87)(38,86)(39,85)(40,84)(41,83)(42,82)(43,81)(44,80)(45,79)(46,78)(47,77)(48,76)(49,75)(50,74)(51,73)(52,72)(53,71)(54,70)(55,69)(56,68)(57,67)(58,66)(59,65)(60,64)(61,63)(124,133)(125,132)(126,131)(127,130)(128,129)</script></html>"
      ],
      "text/latex": [
       "$$\\newcommand{\\Bold}[1]{\\mathbf{#1}}\\tau \\times \\sigma^{10}= (1,123)(2,122)(3,121)(4,120)(5,119)(6,118)(7,117)(8,116)(9,115)(10,114)(11,113)(12,112)(13,111)(14,110)(15,109)(16,108)(17,107)(18,106)(19,105)(20,104)(21,103)(22,102)(23,101)(24,100)(25,99)(26,98)(27,97)(28,96)(29,95)(30,94)(31,93)(32,92)(33,91)(34,90)(35,89)(36,88)(37,87)(38,86)(39,85)(40,84)(41,83)(42,82)(43,81)(44,80)(45,79)(46,78)(47,77)(48,76)(49,75)(50,74)(51,73)(52,72)(53,71)(54,70)(55,69)(56,68)(57,67)(58,66)(59,65)(60,64)(61,63)(124,133)(125,132)(126,131)(127,130)(128,129)$$"
      ],
      "text/plain": [
       "\\tau \\times \\sigma^{10}= (1,123)(2,122)(3,121)(4,120)(5,119)(6,118)(7,117)(8,116)(9,115)(10,114)(11,113)(12,112)(13,111)(14,110)(15,109)(16,108)(17,107)(18,106)(19,105)(20,104)(21,103)(22,102)(23,101)(24,100)(25,99)(26,98)(27,97)(28,96)(29,95)(30,94)(31,93)(32,92)(33,91)(34,90)(35,89)(36,88)(37,87)(38,86)(39,85)(40,84)(41,83)(42,82)(43,81)(44,80)(45,79)(46,78)(47,77)(48,76)(49,75)(50,74)(51,73)(52,72)(53,71)(54,70)(55,69)(56,68)(57,67)(58,66)(59,65)(60,64)(61,63)(124,133)(125,132)(126,131)(127,130)(128,129)"
      ]
     },
     "metadata": {},
     "output_type": "display_data"
    },
    {
     "data": {
      "text/html": [
       "<html><script type=\"math/tex; mode=display\">\\newcommand{\\Bold}[1]{\\mathbf{#1}}\\tau \\times \\sigma^{11}= (1,122)(2,121)(3,120)(4,119)(5,118)(6,117)(7,116)(8,115)(9,114)(10,113)(11,112)(12,111)(13,110)(14,109)(15,108)(16,107)(17,106)(18,105)(19,104)(20,103)(21,102)(22,101)(23,100)(24,99)(25,98)(26,97)(27,96)(28,95)(29,94)(30,93)(31,92)(32,91)(33,90)(34,89)(35,88)(36,87)(37,86)(38,85)(39,84)(40,83)(41,82)(42,81)(43,80)(44,79)(45,78)(46,77)(47,76)(48,75)(49,74)(50,73)(51,72)(52,71)(53,70)(54,69)(55,68)(56,67)(57,66)(58,65)(59,64)(60,63)(61,62)(123,133)(124,132)(125,131)(126,130)(127,129)</script></html>"
      ],
      "text/latex": [
       "$$\\newcommand{\\Bold}[1]{\\mathbf{#1}}\\tau \\times \\sigma^{11}= (1,122)(2,121)(3,120)(4,119)(5,118)(6,117)(7,116)(8,115)(9,114)(10,113)(11,112)(12,111)(13,110)(14,109)(15,108)(16,107)(17,106)(18,105)(19,104)(20,103)(21,102)(22,101)(23,100)(24,99)(25,98)(26,97)(27,96)(28,95)(29,94)(30,93)(31,92)(32,91)(33,90)(34,89)(35,88)(36,87)(37,86)(38,85)(39,84)(40,83)(41,82)(42,81)(43,80)(44,79)(45,78)(46,77)(47,76)(48,75)(49,74)(50,73)(51,72)(52,71)(53,70)(54,69)(55,68)(56,67)(57,66)(58,65)(59,64)(60,63)(61,62)(123,133)(124,132)(125,131)(126,130)(127,129)$$"
      ],
      "text/plain": [
       "\\tau \\times \\sigma^{11}= (1,122)(2,121)(3,120)(4,119)(5,118)(6,117)(7,116)(8,115)(9,114)(10,113)(11,112)(12,111)(13,110)(14,109)(15,108)(16,107)(17,106)(18,105)(19,104)(20,103)(21,102)(22,101)(23,100)(24,99)(25,98)(26,97)(27,96)(28,95)(29,94)(30,93)(31,92)(32,91)(33,90)(34,89)(35,88)(36,87)(37,86)(38,85)(39,84)(40,83)(41,82)(42,81)(43,80)(44,79)(45,78)(46,77)(47,76)(48,75)(49,74)(50,73)(51,72)(52,71)(53,70)(54,69)(55,68)(56,67)(57,66)(58,65)(59,64)(60,63)(61,62)(123,133)(124,132)(125,131)(126,130)(127,129)"
      ]
     },
     "metadata": {},
     "output_type": "display_data"
    },
    {
     "data": {
      "text/html": [
       "<html><script type=\"math/tex; mode=display\">\\newcommand{\\Bold}[1]{\\mathbf{#1}}\\tau \\times \\sigma^{12}= (1,121)(2,120)(3,119)(4,118)(5,117)(6,116)(7,115)(8,114)(9,113)(10,112)(11,111)(12,110)(13,109)(14,108)(15,107)(16,106)(17,105)(18,104)(19,103)(20,102)(21,101)(22,100)(23,99)(24,98)(25,97)(26,96)(27,95)(28,94)(29,93)(30,92)(31,91)(32,90)(33,89)(34,88)(35,87)(36,86)(37,85)(38,84)(39,83)(40,82)(41,81)(42,80)(43,79)(44,78)(45,77)(46,76)(47,75)(48,74)(49,73)(50,72)(51,71)(52,70)(53,69)(54,68)(55,67)(56,66)(57,65)(58,64)(59,63)(60,62)(122,133)(123,132)(124,131)(125,130)(126,129)(127,128)</script></html>"
      ],
      "text/latex": [
       "$$\\newcommand{\\Bold}[1]{\\mathbf{#1}}\\tau \\times \\sigma^{12}= (1,121)(2,120)(3,119)(4,118)(5,117)(6,116)(7,115)(8,114)(9,113)(10,112)(11,111)(12,110)(13,109)(14,108)(15,107)(16,106)(17,105)(18,104)(19,103)(20,102)(21,101)(22,100)(23,99)(24,98)(25,97)(26,96)(27,95)(28,94)(29,93)(30,92)(31,91)(32,90)(33,89)(34,88)(35,87)(36,86)(37,85)(38,84)(39,83)(40,82)(41,81)(42,80)(43,79)(44,78)(45,77)(46,76)(47,75)(48,74)(49,73)(50,72)(51,71)(52,70)(53,69)(54,68)(55,67)(56,66)(57,65)(58,64)(59,63)(60,62)(122,133)(123,132)(124,131)(125,130)(126,129)(127,128)$$"
      ],
      "text/plain": [
       "\\tau \\times \\sigma^{12}= (1,121)(2,120)(3,119)(4,118)(5,117)(6,116)(7,115)(8,114)(9,113)(10,112)(11,111)(12,110)(13,109)(14,108)(15,107)(16,106)(17,105)(18,104)(19,103)(20,102)(21,101)(22,100)(23,99)(24,98)(25,97)(26,96)(27,95)(28,94)(29,93)(30,92)(31,91)(32,90)(33,89)(34,88)(35,87)(36,86)(37,85)(38,84)(39,83)(40,82)(41,81)(42,80)(43,79)(44,78)(45,77)(46,76)(47,75)(48,74)(49,73)(50,72)(51,71)(52,70)(53,69)(54,68)(55,67)(56,66)(57,65)(58,64)(59,63)(60,62)(122,133)(123,132)(124,131)(125,130)(126,129)(127,128)"
      ]
     },
     "metadata": {},
     "output_type": "display_data"
    },
    {
     "data": {
      "text/html": [
       "<html><script type=\"math/tex; mode=display\">\\newcommand{\\Bold}[1]{\\mathbf{#1}}\\tau \\times \\sigma^{13}= (1,120)(2,119)(3,118)(4,117)(5,116)(6,115)(7,114)(8,113)(9,112)(10,111)(11,110)(12,109)(13,108)(14,107)(15,106)(16,105)(17,104)(18,103)(19,102)(20,101)(21,100)(22,99)(23,98)(24,97)(25,96)(26,95)(27,94)(28,93)(29,92)(30,91)(31,90)(32,89)(33,88)(34,87)(35,86)(36,85)(37,84)(38,83)(39,82)(40,81)(41,80)(42,79)(43,78)(44,77)(45,76)(46,75)(47,74)(48,73)(49,72)(50,71)(51,70)(52,69)(53,68)(54,67)(55,66)(56,65)(57,64)(58,63)(59,62)(60,61)(121,133)(122,132)(123,131)(124,130)(125,129)(126,128)</script></html>"
      ],
      "text/latex": [
       "$$\\newcommand{\\Bold}[1]{\\mathbf{#1}}\\tau \\times \\sigma^{13}= (1,120)(2,119)(3,118)(4,117)(5,116)(6,115)(7,114)(8,113)(9,112)(10,111)(11,110)(12,109)(13,108)(14,107)(15,106)(16,105)(17,104)(18,103)(19,102)(20,101)(21,100)(22,99)(23,98)(24,97)(25,96)(26,95)(27,94)(28,93)(29,92)(30,91)(31,90)(32,89)(33,88)(34,87)(35,86)(36,85)(37,84)(38,83)(39,82)(40,81)(41,80)(42,79)(43,78)(44,77)(45,76)(46,75)(47,74)(48,73)(49,72)(50,71)(51,70)(52,69)(53,68)(54,67)(55,66)(56,65)(57,64)(58,63)(59,62)(60,61)(121,133)(122,132)(123,131)(124,130)(125,129)(126,128)$$"
      ],
      "text/plain": [
       "\\tau \\times \\sigma^{13}= (1,120)(2,119)(3,118)(4,117)(5,116)(6,115)(7,114)(8,113)(9,112)(10,111)(11,110)(12,109)(13,108)(14,107)(15,106)(16,105)(17,104)(18,103)(19,102)(20,101)(21,100)(22,99)(23,98)(24,97)(25,96)(26,95)(27,94)(28,93)(29,92)(30,91)(31,90)(32,89)(33,88)(34,87)(35,86)(36,85)(37,84)(38,83)(39,82)(40,81)(41,80)(42,79)(43,78)(44,77)(45,76)(46,75)(47,74)(48,73)(49,72)(50,71)(51,70)(52,69)(53,68)(54,67)(55,66)(56,65)(57,64)(58,63)(59,62)(60,61)(121,133)(122,132)(123,131)(124,130)(125,129)(126,128)"
      ]
     },
     "metadata": {},
     "output_type": "display_data"
    },
    {
     "data": {
      "text/html": [
       "<html><script type=\"math/tex; mode=display\">\\newcommand{\\Bold}[1]{\\mathbf{#1}}\\tau \\times \\sigma^{14}= (1,119)(2,118)(3,117)(4,116)(5,115)(6,114)(7,113)(8,112)(9,111)(10,110)(11,109)(12,108)(13,107)(14,106)(15,105)(16,104)(17,103)(18,102)(19,101)(20,100)(21,99)(22,98)(23,97)(24,96)(25,95)(26,94)(27,93)(28,92)(29,91)(30,90)(31,89)(32,88)(33,87)(34,86)(35,85)(36,84)(37,83)(38,82)(39,81)(40,80)(41,79)(42,78)(43,77)(44,76)(45,75)(46,74)(47,73)(48,72)(49,71)(50,70)(51,69)(52,68)(53,67)(54,66)(55,65)(56,64)(57,63)(58,62)(59,61)(120,133)(121,132)(122,131)(123,130)(124,129)(125,128)(126,127)</script></html>"
      ],
      "text/latex": [
       "$$\\newcommand{\\Bold}[1]{\\mathbf{#1}}\\tau \\times \\sigma^{14}= (1,119)(2,118)(3,117)(4,116)(5,115)(6,114)(7,113)(8,112)(9,111)(10,110)(11,109)(12,108)(13,107)(14,106)(15,105)(16,104)(17,103)(18,102)(19,101)(20,100)(21,99)(22,98)(23,97)(24,96)(25,95)(26,94)(27,93)(28,92)(29,91)(30,90)(31,89)(32,88)(33,87)(34,86)(35,85)(36,84)(37,83)(38,82)(39,81)(40,80)(41,79)(42,78)(43,77)(44,76)(45,75)(46,74)(47,73)(48,72)(49,71)(50,70)(51,69)(52,68)(53,67)(54,66)(55,65)(56,64)(57,63)(58,62)(59,61)(120,133)(121,132)(122,131)(123,130)(124,129)(125,128)(126,127)$$"
      ],
      "text/plain": [
       "\\tau \\times \\sigma^{14}= (1,119)(2,118)(3,117)(4,116)(5,115)(6,114)(7,113)(8,112)(9,111)(10,110)(11,109)(12,108)(13,107)(14,106)(15,105)(16,104)(17,103)(18,102)(19,101)(20,100)(21,99)(22,98)(23,97)(24,96)(25,95)(26,94)(27,93)(28,92)(29,91)(30,90)(31,89)(32,88)(33,87)(34,86)(35,85)(36,84)(37,83)(38,82)(39,81)(40,80)(41,79)(42,78)(43,77)(44,76)(45,75)(46,74)(47,73)(48,72)(49,71)(50,70)(51,69)(52,68)(53,67)(54,66)(55,65)(56,64)(57,63)(58,62)(59,61)(120,133)(121,132)(122,131)(123,130)(124,129)(125,128)(126,127)"
      ]
     },
     "metadata": {},
     "output_type": "display_data"
    },
    {
     "data": {
      "text/html": [
       "<html><script type=\"math/tex; mode=display\">\\newcommand{\\Bold}[1]{\\mathbf{#1}}\\tau \\times \\sigma^{15}= (1,118)(2,117)(3,116)(4,115)(5,114)(6,113)(7,112)(8,111)(9,110)(10,109)(11,108)(12,107)(13,106)(14,105)(15,104)(16,103)(17,102)(18,101)(19,100)(20,99)(21,98)(22,97)(23,96)(24,95)(25,94)(26,93)(27,92)(28,91)(29,90)(30,89)(31,88)(32,87)(33,86)(34,85)(35,84)(36,83)(37,82)(38,81)(39,80)(40,79)(41,78)(42,77)(43,76)(44,75)(45,74)(46,73)(47,72)(48,71)(49,70)(50,69)(51,68)(52,67)(53,66)(54,65)(55,64)(56,63)(57,62)(58,61)(59,60)(119,133)(120,132)(121,131)(122,130)(123,129)(124,128)(125,127)</script></html>"
      ],
      "text/latex": [
       "$$\\newcommand{\\Bold}[1]{\\mathbf{#1}}\\tau \\times \\sigma^{15}= (1,118)(2,117)(3,116)(4,115)(5,114)(6,113)(7,112)(8,111)(9,110)(10,109)(11,108)(12,107)(13,106)(14,105)(15,104)(16,103)(17,102)(18,101)(19,100)(20,99)(21,98)(22,97)(23,96)(24,95)(25,94)(26,93)(27,92)(28,91)(29,90)(30,89)(31,88)(32,87)(33,86)(34,85)(35,84)(36,83)(37,82)(38,81)(39,80)(40,79)(41,78)(42,77)(43,76)(44,75)(45,74)(46,73)(47,72)(48,71)(49,70)(50,69)(51,68)(52,67)(53,66)(54,65)(55,64)(56,63)(57,62)(58,61)(59,60)(119,133)(120,132)(121,131)(122,130)(123,129)(124,128)(125,127)$$"
      ],
      "text/plain": [
       "\\tau \\times \\sigma^{15}= (1,118)(2,117)(3,116)(4,115)(5,114)(6,113)(7,112)(8,111)(9,110)(10,109)(11,108)(12,107)(13,106)(14,105)(15,104)(16,103)(17,102)(18,101)(19,100)(20,99)(21,98)(22,97)(23,96)(24,95)(25,94)(26,93)(27,92)(28,91)(29,90)(30,89)(31,88)(32,87)(33,86)(34,85)(35,84)(36,83)(37,82)(38,81)(39,80)(40,79)(41,78)(42,77)(43,76)(44,75)(45,74)(46,73)(47,72)(48,71)(49,70)(50,69)(51,68)(52,67)(53,66)(54,65)(55,64)(56,63)(57,62)(58,61)(59,60)(119,133)(120,132)(121,131)(122,130)(123,129)(124,128)(125,127)"
      ]
     },
     "metadata": {},
     "output_type": "display_data"
    },
    {
     "data": {
      "text/html": [
       "<html><script type=\"math/tex; mode=display\">\\newcommand{\\Bold}[1]{\\mathbf{#1}}\\tau \\times \\sigma^{16}= (1,117)(2,116)(3,115)(4,114)(5,113)(6,112)(7,111)(8,110)(9,109)(10,108)(11,107)(12,106)(13,105)(14,104)(15,103)(16,102)(17,101)(18,100)(19,99)(20,98)(21,97)(22,96)(23,95)(24,94)(25,93)(26,92)(27,91)(28,90)(29,89)(30,88)(31,87)(32,86)(33,85)(34,84)(35,83)(36,82)(37,81)(38,80)(39,79)(40,78)(41,77)(42,76)(43,75)(44,74)(45,73)(46,72)(47,71)(48,70)(49,69)(50,68)(51,67)(52,66)(53,65)(54,64)(55,63)(56,62)(57,61)(58,60)(118,133)(119,132)(120,131)(121,130)(122,129)(123,128)(124,127)(125,126)</script></html>"
      ],
      "text/latex": [
       "$$\\newcommand{\\Bold}[1]{\\mathbf{#1}}\\tau \\times \\sigma^{16}= (1,117)(2,116)(3,115)(4,114)(5,113)(6,112)(7,111)(8,110)(9,109)(10,108)(11,107)(12,106)(13,105)(14,104)(15,103)(16,102)(17,101)(18,100)(19,99)(20,98)(21,97)(22,96)(23,95)(24,94)(25,93)(26,92)(27,91)(28,90)(29,89)(30,88)(31,87)(32,86)(33,85)(34,84)(35,83)(36,82)(37,81)(38,80)(39,79)(40,78)(41,77)(42,76)(43,75)(44,74)(45,73)(46,72)(47,71)(48,70)(49,69)(50,68)(51,67)(52,66)(53,65)(54,64)(55,63)(56,62)(57,61)(58,60)(118,133)(119,132)(120,131)(121,130)(122,129)(123,128)(124,127)(125,126)$$"
      ],
      "text/plain": [
       "\\tau \\times \\sigma^{16}= (1,117)(2,116)(3,115)(4,114)(5,113)(6,112)(7,111)(8,110)(9,109)(10,108)(11,107)(12,106)(13,105)(14,104)(15,103)(16,102)(17,101)(18,100)(19,99)(20,98)(21,97)(22,96)(23,95)(24,94)(25,93)(26,92)(27,91)(28,90)(29,89)(30,88)(31,87)(32,86)(33,85)(34,84)(35,83)(36,82)(37,81)(38,80)(39,79)(40,78)(41,77)(42,76)(43,75)(44,74)(45,73)(46,72)(47,71)(48,70)(49,69)(50,68)(51,67)(52,66)(53,65)(54,64)(55,63)(56,62)(57,61)(58,60)(118,133)(119,132)(120,131)(121,130)(122,129)(123,128)(124,127)(125,126)"
      ]
     },
     "metadata": {},
     "output_type": "display_data"
    },
    {
     "data": {
      "text/html": [
       "<html><script type=\"math/tex; mode=display\">\\newcommand{\\Bold}[1]{\\mathbf{#1}}\\tau \\times \\sigma^{17}= (1,116)(2,115)(3,114)(4,113)(5,112)(6,111)(7,110)(8,109)(9,108)(10,107)(11,106)(12,105)(13,104)(14,103)(15,102)(16,101)(17,100)(18,99)(19,98)(20,97)(21,96)(22,95)(23,94)(24,93)(25,92)(26,91)(27,90)(28,89)(29,88)(30,87)(31,86)(32,85)(33,84)(34,83)(35,82)(36,81)(37,80)(38,79)(39,78)(40,77)(41,76)(42,75)(43,74)(44,73)(45,72)(46,71)(47,70)(48,69)(49,68)(50,67)(51,66)(52,65)(53,64)(54,63)(55,62)(56,61)(57,60)(58,59)(117,133)(118,132)(119,131)(120,130)(121,129)(122,128)(123,127)(124,126)</script></html>"
      ],
      "text/latex": [
       "$$\\newcommand{\\Bold}[1]{\\mathbf{#1}}\\tau \\times \\sigma^{17}= (1,116)(2,115)(3,114)(4,113)(5,112)(6,111)(7,110)(8,109)(9,108)(10,107)(11,106)(12,105)(13,104)(14,103)(15,102)(16,101)(17,100)(18,99)(19,98)(20,97)(21,96)(22,95)(23,94)(24,93)(25,92)(26,91)(27,90)(28,89)(29,88)(30,87)(31,86)(32,85)(33,84)(34,83)(35,82)(36,81)(37,80)(38,79)(39,78)(40,77)(41,76)(42,75)(43,74)(44,73)(45,72)(46,71)(47,70)(48,69)(49,68)(50,67)(51,66)(52,65)(53,64)(54,63)(55,62)(56,61)(57,60)(58,59)(117,133)(118,132)(119,131)(120,130)(121,129)(122,128)(123,127)(124,126)$$"
      ],
      "text/plain": [
       "\\tau \\times \\sigma^{17}= (1,116)(2,115)(3,114)(4,113)(5,112)(6,111)(7,110)(8,109)(9,108)(10,107)(11,106)(12,105)(13,104)(14,103)(15,102)(16,101)(17,100)(18,99)(19,98)(20,97)(21,96)(22,95)(23,94)(24,93)(25,92)(26,91)(27,90)(28,89)(29,88)(30,87)(31,86)(32,85)(33,84)(34,83)(35,82)(36,81)(37,80)(38,79)(39,78)(40,77)(41,76)(42,75)(43,74)(44,73)(45,72)(46,71)(47,70)(48,69)(49,68)(50,67)(51,66)(52,65)(53,64)(54,63)(55,62)(56,61)(57,60)(58,59)(117,133)(118,132)(119,131)(120,130)(121,129)(122,128)(123,127)(124,126)"
      ]
     },
     "metadata": {},
     "output_type": "display_data"
    },
    {
     "data": {
      "text/html": [
       "<html><script type=\"math/tex; mode=display\">\\newcommand{\\Bold}[1]{\\mathbf{#1}}\\tau \\times \\sigma^{18}= (1,115)(2,114)(3,113)(4,112)(5,111)(6,110)(7,109)(8,108)(9,107)(10,106)(11,105)(12,104)(13,103)(14,102)(15,101)(16,100)(17,99)(18,98)(19,97)(20,96)(21,95)(22,94)(23,93)(24,92)(25,91)(26,90)(27,89)(28,88)(29,87)(30,86)(31,85)(32,84)(33,83)(34,82)(35,81)(36,80)(37,79)(38,78)(39,77)(40,76)(41,75)(42,74)(43,73)(44,72)(45,71)(46,70)(47,69)(48,68)(49,67)(50,66)(51,65)(52,64)(53,63)(54,62)(55,61)(56,60)(57,59)(116,133)(117,132)(118,131)(119,130)(120,129)(121,128)(122,127)(123,126)(124,125)</script></html>"
      ],
      "text/latex": [
       "$$\\newcommand{\\Bold}[1]{\\mathbf{#1}}\\tau \\times \\sigma^{18}= (1,115)(2,114)(3,113)(4,112)(5,111)(6,110)(7,109)(8,108)(9,107)(10,106)(11,105)(12,104)(13,103)(14,102)(15,101)(16,100)(17,99)(18,98)(19,97)(20,96)(21,95)(22,94)(23,93)(24,92)(25,91)(26,90)(27,89)(28,88)(29,87)(30,86)(31,85)(32,84)(33,83)(34,82)(35,81)(36,80)(37,79)(38,78)(39,77)(40,76)(41,75)(42,74)(43,73)(44,72)(45,71)(46,70)(47,69)(48,68)(49,67)(50,66)(51,65)(52,64)(53,63)(54,62)(55,61)(56,60)(57,59)(116,133)(117,132)(118,131)(119,130)(120,129)(121,128)(122,127)(123,126)(124,125)$$"
      ],
      "text/plain": [
       "\\tau \\times \\sigma^{18}= (1,115)(2,114)(3,113)(4,112)(5,111)(6,110)(7,109)(8,108)(9,107)(10,106)(11,105)(12,104)(13,103)(14,102)(15,101)(16,100)(17,99)(18,98)(19,97)(20,96)(21,95)(22,94)(23,93)(24,92)(25,91)(26,90)(27,89)(28,88)(29,87)(30,86)(31,85)(32,84)(33,83)(34,82)(35,81)(36,80)(37,79)(38,78)(39,77)(40,76)(41,75)(42,74)(43,73)(44,72)(45,71)(46,70)(47,69)(48,68)(49,67)(50,66)(51,65)(52,64)(53,63)(54,62)(55,61)(56,60)(57,59)(116,133)(117,132)(118,131)(119,130)(120,129)(121,128)(122,127)(123,126)(124,125)"
      ]
     },
     "metadata": {},
     "output_type": "display_data"
    },
    {
     "data": {
      "text/html": [
       "<html><script type=\"math/tex; mode=display\">\\newcommand{\\Bold}[1]{\\mathbf{#1}}\\tau \\times \\sigma^{19}= (1,114)(2,113)(3,112)(4,111)(5,110)(6,109)(7,108)(8,107)(9,106)(10,105)(11,104)(12,103)(13,102)(14,101)(15,100)(16,99)(17,98)(18,97)(19,96)(20,95)(21,94)(22,93)(23,92)(24,91)(25,90)(26,89)(27,88)(28,87)(29,86)(30,85)(31,84)(32,83)(33,82)(34,81)(35,80)(36,79)(37,78)(38,77)(39,76)(40,75)(41,74)(42,73)(43,72)(44,71)(45,70)(46,69)(47,68)(48,67)(49,66)(50,65)(51,64)(52,63)(53,62)(54,61)(55,60)(56,59)(57,58)(115,133)(116,132)(117,131)(118,130)(119,129)(120,128)(121,127)(122,126)(123,125)</script></html>"
      ],
      "text/latex": [
       "$$\\newcommand{\\Bold}[1]{\\mathbf{#1}}\\tau \\times \\sigma^{19}= (1,114)(2,113)(3,112)(4,111)(5,110)(6,109)(7,108)(8,107)(9,106)(10,105)(11,104)(12,103)(13,102)(14,101)(15,100)(16,99)(17,98)(18,97)(19,96)(20,95)(21,94)(22,93)(23,92)(24,91)(25,90)(26,89)(27,88)(28,87)(29,86)(30,85)(31,84)(32,83)(33,82)(34,81)(35,80)(36,79)(37,78)(38,77)(39,76)(40,75)(41,74)(42,73)(43,72)(44,71)(45,70)(46,69)(47,68)(48,67)(49,66)(50,65)(51,64)(52,63)(53,62)(54,61)(55,60)(56,59)(57,58)(115,133)(116,132)(117,131)(118,130)(119,129)(120,128)(121,127)(122,126)(123,125)$$"
      ],
      "text/plain": [
       "\\tau \\times \\sigma^{19}= (1,114)(2,113)(3,112)(4,111)(5,110)(6,109)(7,108)(8,107)(9,106)(10,105)(11,104)(12,103)(13,102)(14,101)(15,100)(16,99)(17,98)(18,97)(19,96)(20,95)(21,94)(22,93)(23,92)(24,91)(25,90)(26,89)(27,88)(28,87)(29,86)(30,85)(31,84)(32,83)(33,82)(34,81)(35,80)(36,79)(37,78)(38,77)(39,76)(40,75)(41,74)(42,73)(43,72)(44,71)(45,70)(46,69)(47,68)(48,67)(49,66)(50,65)(51,64)(52,63)(53,62)(54,61)(55,60)(56,59)(57,58)(115,133)(116,132)(117,131)(118,130)(119,129)(120,128)(121,127)(122,126)(123,125)"
      ]
     },
     "metadata": {},
     "output_type": "display_data"
    },
    {
     "data": {
      "text/html": [
       "<html><script type=\"math/tex; mode=display\">\\newcommand{\\Bold}[1]{\\mathbf{#1}}\\tau \\times \\sigma^{20}= (1,113)(2,112)(3,111)(4,110)(5,109)(6,108)(7,107)(8,106)(9,105)(10,104)(11,103)(12,102)(13,101)(14,100)(15,99)(16,98)(17,97)(18,96)(19,95)(20,94)(21,93)(22,92)(23,91)(24,90)(25,89)(26,88)(27,87)(28,86)(29,85)(30,84)(31,83)(32,82)(33,81)(34,80)(35,79)(36,78)(37,77)(38,76)(39,75)(40,74)(41,73)(42,72)(43,71)(44,70)(45,69)(46,68)(47,67)(48,66)(49,65)(50,64)(51,63)(52,62)(53,61)(54,60)(55,59)(56,58)(114,133)(115,132)(116,131)(117,130)(118,129)(119,128)(120,127)(121,126)(122,125)(123,124)</script></html>"
      ],
      "text/latex": [
       "$$\\newcommand{\\Bold}[1]{\\mathbf{#1}}\\tau \\times \\sigma^{20}= (1,113)(2,112)(3,111)(4,110)(5,109)(6,108)(7,107)(8,106)(9,105)(10,104)(11,103)(12,102)(13,101)(14,100)(15,99)(16,98)(17,97)(18,96)(19,95)(20,94)(21,93)(22,92)(23,91)(24,90)(25,89)(26,88)(27,87)(28,86)(29,85)(30,84)(31,83)(32,82)(33,81)(34,80)(35,79)(36,78)(37,77)(38,76)(39,75)(40,74)(41,73)(42,72)(43,71)(44,70)(45,69)(46,68)(47,67)(48,66)(49,65)(50,64)(51,63)(52,62)(53,61)(54,60)(55,59)(56,58)(114,133)(115,132)(116,131)(117,130)(118,129)(119,128)(120,127)(121,126)(122,125)(123,124)$$"
      ],
      "text/plain": [
       "\\tau \\times \\sigma^{20}= (1,113)(2,112)(3,111)(4,110)(5,109)(6,108)(7,107)(8,106)(9,105)(10,104)(11,103)(12,102)(13,101)(14,100)(15,99)(16,98)(17,97)(18,96)(19,95)(20,94)(21,93)(22,92)(23,91)(24,90)(25,89)(26,88)(27,87)(28,86)(29,85)(30,84)(31,83)(32,82)(33,81)(34,80)(35,79)(36,78)(37,77)(38,76)(39,75)(40,74)(41,73)(42,72)(43,71)(44,70)(45,69)(46,68)(47,67)(48,66)(49,65)(50,64)(51,63)(52,62)(53,61)(54,60)(55,59)(56,58)(114,133)(115,132)(116,131)(117,130)(118,129)(119,128)(120,127)(121,126)(122,125)(123,124)"
      ]
     },
     "metadata": {},
     "output_type": "display_data"
    },
    {
     "data": {
      "text/html": [
       "<html><script type=\"math/tex; mode=display\">\\newcommand{\\Bold}[1]{\\mathbf{#1}}\\tau \\times \\sigma^{21}= (1,112)(2,111)(3,110)(4,109)(5,108)(6,107)(7,106)(8,105)(9,104)(10,103)(11,102)(12,101)(13,100)(14,99)(15,98)(16,97)(17,96)(18,95)(19,94)(20,93)(21,92)(22,91)(23,90)(24,89)(25,88)(26,87)(27,86)(28,85)(29,84)(30,83)(31,82)(32,81)(33,80)(34,79)(35,78)(36,77)(37,76)(38,75)(39,74)(40,73)(41,72)(42,71)(43,70)(44,69)(45,68)(46,67)(47,66)(48,65)(49,64)(50,63)(51,62)(52,61)(53,60)(54,59)(55,58)(56,57)(113,133)(114,132)(115,131)(116,130)(117,129)(118,128)(119,127)(120,126)(121,125)(122,124)</script></html>"
      ],
      "text/latex": [
       "$$\\newcommand{\\Bold}[1]{\\mathbf{#1}}\\tau \\times \\sigma^{21}= (1,112)(2,111)(3,110)(4,109)(5,108)(6,107)(7,106)(8,105)(9,104)(10,103)(11,102)(12,101)(13,100)(14,99)(15,98)(16,97)(17,96)(18,95)(19,94)(20,93)(21,92)(22,91)(23,90)(24,89)(25,88)(26,87)(27,86)(28,85)(29,84)(30,83)(31,82)(32,81)(33,80)(34,79)(35,78)(36,77)(37,76)(38,75)(39,74)(40,73)(41,72)(42,71)(43,70)(44,69)(45,68)(46,67)(47,66)(48,65)(49,64)(50,63)(51,62)(52,61)(53,60)(54,59)(55,58)(56,57)(113,133)(114,132)(115,131)(116,130)(117,129)(118,128)(119,127)(120,126)(121,125)(122,124)$$"
      ],
      "text/plain": [
       "\\tau \\times \\sigma^{21}= (1,112)(2,111)(3,110)(4,109)(5,108)(6,107)(7,106)(8,105)(9,104)(10,103)(11,102)(12,101)(13,100)(14,99)(15,98)(16,97)(17,96)(18,95)(19,94)(20,93)(21,92)(22,91)(23,90)(24,89)(25,88)(26,87)(27,86)(28,85)(29,84)(30,83)(31,82)(32,81)(33,80)(34,79)(35,78)(36,77)(37,76)(38,75)(39,74)(40,73)(41,72)(42,71)(43,70)(44,69)(45,68)(46,67)(47,66)(48,65)(49,64)(50,63)(51,62)(52,61)(53,60)(54,59)(55,58)(56,57)(113,133)(114,132)(115,131)(116,130)(117,129)(118,128)(119,127)(120,126)(121,125)(122,124)"
      ]
     },
     "metadata": {},
     "output_type": "display_data"
    },
    {
     "data": {
      "text/html": [
       "<html><script type=\"math/tex; mode=display\">\\newcommand{\\Bold}[1]{\\mathbf{#1}}\\tau \\times \\sigma^{22}= (1,111)(2,110)(3,109)(4,108)(5,107)(6,106)(7,105)(8,104)(9,103)(10,102)(11,101)(12,100)(13,99)(14,98)(15,97)(16,96)(17,95)(18,94)(19,93)(20,92)(21,91)(22,90)(23,89)(24,88)(25,87)(26,86)(27,85)(28,84)(29,83)(30,82)(31,81)(32,80)(33,79)(34,78)(35,77)(36,76)(37,75)(38,74)(39,73)(40,72)(41,71)(42,70)(43,69)(44,68)(45,67)(46,66)(47,65)(48,64)(49,63)(50,62)(51,61)(52,60)(53,59)(54,58)(55,57)(112,133)(113,132)(114,131)(115,130)(116,129)(117,128)(118,127)(119,126)(120,125)(121,124)(122,123)</script></html>"
      ],
      "text/latex": [
       "$$\\newcommand{\\Bold}[1]{\\mathbf{#1}}\\tau \\times \\sigma^{22}= (1,111)(2,110)(3,109)(4,108)(5,107)(6,106)(7,105)(8,104)(9,103)(10,102)(11,101)(12,100)(13,99)(14,98)(15,97)(16,96)(17,95)(18,94)(19,93)(20,92)(21,91)(22,90)(23,89)(24,88)(25,87)(26,86)(27,85)(28,84)(29,83)(30,82)(31,81)(32,80)(33,79)(34,78)(35,77)(36,76)(37,75)(38,74)(39,73)(40,72)(41,71)(42,70)(43,69)(44,68)(45,67)(46,66)(47,65)(48,64)(49,63)(50,62)(51,61)(52,60)(53,59)(54,58)(55,57)(112,133)(113,132)(114,131)(115,130)(116,129)(117,128)(118,127)(119,126)(120,125)(121,124)(122,123)$$"
      ],
      "text/plain": [
       "\\tau \\times \\sigma^{22}= (1,111)(2,110)(3,109)(4,108)(5,107)(6,106)(7,105)(8,104)(9,103)(10,102)(11,101)(12,100)(13,99)(14,98)(15,97)(16,96)(17,95)(18,94)(19,93)(20,92)(21,91)(22,90)(23,89)(24,88)(25,87)(26,86)(27,85)(28,84)(29,83)(30,82)(31,81)(32,80)(33,79)(34,78)(35,77)(36,76)(37,75)(38,74)(39,73)(40,72)(41,71)(42,70)(43,69)(44,68)(45,67)(46,66)(47,65)(48,64)(49,63)(50,62)(51,61)(52,60)(53,59)(54,58)(55,57)(112,133)(113,132)(114,131)(115,130)(116,129)(117,128)(118,127)(119,126)(120,125)(121,124)(122,123)"
      ]
     },
     "metadata": {},
     "output_type": "display_data"
    },
    {
     "data": {
      "text/html": [
       "<html><script type=\"math/tex; mode=display\">\\newcommand{\\Bold}[1]{\\mathbf{#1}}\\tau \\times \\sigma^{23}= (1,110)(2,109)(3,108)(4,107)(5,106)(6,105)(7,104)(8,103)(9,102)(10,101)(11,100)(12,99)(13,98)(14,97)(15,96)(16,95)(17,94)(18,93)(19,92)(20,91)(21,90)(22,89)(23,88)(24,87)(25,86)(26,85)(27,84)(28,83)(29,82)(30,81)(31,80)(32,79)(33,78)(34,77)(35,76)(36,75)(37,74)(38,73)(39,72)(40,71)(41,70)(42,69)(43,68)(44,67)(45,66)(46,65)(47,64)(48,63)(49,62)(50,61)(51,60)(52,59)(53,58)(54,57)(55,56)(111,133)(112,132)(113,131)(114,130)(115,129)(116,128)(117,127)(118,126)(119,125)(120,124)(121,123)</script></html>"
      ],
      "text/latex": [
       "$$\\newcommand{\\Bold}[1]{\\mathbf{#1}}\\tau \\times \\sigma^{23}= (1,110)(2,109)(3,108)(4,107)(5,106)(6,105)(7,104)(8,103)(9,102)(10,101)(11,100)(12,99)(13,98)(14,97)(15,96)(16,95)(17,94)(18,93)(19,92)(20,91)(21,90)(22,89)(23,88)(24,87)(25,86)(26,85)(27,84)(28,83)(29,82)(30,81)(31,80)(32,79)(33,78)(34,77)(35,76)(36,75)(37,74)(38,73)(39,72)(40,71)(41,70)(42,69)(43,68)(44,67)(45,66)(46,65)(47,64)(48,63)(49,62)(50,61)(51,60)(52,59)(53,58)(54,57)(55,56)(111,133)(112,132)(113,131)(114,130)(115,129)(116,128)(117,127)(118,126)(119,125)(120,124)(121,123)$$"
      ],
      "text/plain": [
       "\\tau \\times \\sigma^{23}= (1,110)(2,109)(3,108)(4,107)(5,106)(6,105)(7,104)(8,103)(9,102)(10,101)(11,100)(12,99)(13,98)(14,97)(15,96)(16,95)(17,94)(18,93)(19,92)(20,91)(21,90)(22,89)(23,88)(24,87)(25,86)(26,85)(27,84)(28,83)(29,82)(30,81)(31,80)(32,79)(33,78)(34,77)(35,76)(36,75)(37,74)(38,73)(39,72)(40,71)(41,70)(42,69)(43,68)(44,67)(45,66)(46,65)(47,64)(48,63)(49,62)(50,61)(51,60)(52,59)(53,58)(54,57)(55,56)(111,133)(112,132)(113,131)(114,130)(115,129)(116,128)(117,127)(118,126)(119,125)(120,124)(121,123)"
      ]
     },
     "metadata": {},
     "output_type": "display_data"
    },
    {
     "data": {
      "text/html": [
       "<html><script type=\"math/tex; mode=display\">\\newcommand{\\Bold}[1]{\\mathbf{#1}}\\tau \\times \\sigma^{24}= (1,109)(2,108)(3,107)(4,106)(5,105)(6,104)(7,103)(8,102)(9,101)(10,100)(11,99)(12,98)(13,97)(14,96)(15,95)(16,94)(17,93)(18,92)(19,91)(20,90)(21,89)(22,88)(23,87)(24,86)(25,85)(26,84)(27,83)(28,82)(29,81)(30,80)(31,79)(32,78)(33,77)(34,76)(35,75)(36,74)(37,73)(38,72)(39,71)(40,70)(41,69)(42,68)(43,67)(44,66)(45,65)(46,64)(47,63)(48,62)(49,61)(50,60)(51,59)(52,58)(53,57)(54,56)(110,133)(111,132)(112,131)(113,130)(114,129)(115,128)(116,127)(117,126)(118,125)(119,124)(120,123)(121,122)</script></html>"
      ],
      "text/latex": [
       "$$\\newcommand{\\Bold}[1]{\\mathbf{#1}}\\tau \\times \\sigma^{24}= (1,109)(2,108)(3,107)(4,106)(5,105)(6,104)(7,103)(8,102)(9,101)(10,100)(11,99)(12,98)(13,97)(14,96)(15,95)(16,94)(17,93)(18,92)(19,91)(20,90)(21,89)(22,88)(23,87)(24,86)(25,85)(26,84)(27,83)(28,82)(29,81)(30,80)(31,79)(32,78)(33,77)(34,76)(35,75)(36,74)(37,73)(38,72)(39,71)(40,70)(41,69)(42,68)(43,67)(44,66)(45,65)(46,64)(47,63)(48,62)(49,61)(50,60)(51,59)(52,58)(53,57)(54,56)(110,133)(111,132)(112,131)(113,130)(114,129)(115,128)(116,127)(117,126)(118,125)(119,124)(120,123)(121,122)$$"
      ],
      "text/plain": [
       "\\tau \\times \\sigma^{24}= (1,109)(2,108)(3,107)(4,106)(5,105)(6,104)(7,103)(8,102)(9,101)(10,100)(11,99)(12,98)(13,97)(14,96)(15,95)(16,94)(17,93)(18,92)(19,91)(20,90)(21,89)(22,88)(23,87)(24,86)(25,85)(26,84)(27,83)(28,82)(29,81)(30,80)(31,79)(32,78)(33,77)(34,76)(35,75)(36,74)(37,73)(38,72)(39,71)(40,70)(41,69)(42,68)(43,67)(44,66)(45,65)(46,64)(47,63)(48,62)(49,61)(50,60)(51,59)(52,58)(53,57)(54,56)(110,133)(111,132)(112,131)(113,130)(114,129)(115,128)(116,127)(117,126)(118,125)(119,124)(120,123)(121,122)"
      ]
     },
     "metadata": {},
     "output_type": "display_data"
    },
    {
     "data": {
      "text/html": [
       "<html><script type=\"math/tex; mode=display\">\\newcommand{\\Bold}[1]{\\mathbf{#1}}\\tau \\times \\sigma^{25}= (1,108)(2,107)(3,106)(4,105)(5,104)(6,103)(7,102)(8,101)(9,100)(10,99)(11,98)(12,97)(13,96)(14,95)(15,94)(16,93)(17,92)(18,91)(19,90)(20,89)(21,88)(22,87)(23,86)(24,85)(25,84)(26,83)(27,82)(28,81)(29,80)(30,79)(31,78)(32,77)(33,76)(34,75)(35,74)(36,73)(37,72)(38,71)(39,70)(40,69)(41,68)(42,67)(43,66)(44,65)(45,64)(46,63)(47,62)(48,61)(49,60)(50,59)(51,58)(52,57)(53,56)(54,55)(109,133)(110,132)(111,131)(112,130)(113,129)(114,128)(115,127)(116,126)(117,125)(118,124)(119,123)(120,122)</script></html>"
      ],
      "text/latex": [
       "$$\\newcommand{\\Bold}[1]{\\mathbf{#1}}\\tau \\times \\sigma^{25}= (1,108)(2,107)(3,106)(4,105)(5,104)(6,103)(7,102)(8,101)(9,100)(10,99)(11,98)(12,97)(13,96)(14,95)(15,94)(16,93)(17,92)(18,91)(19,90)(20,89)(21,88)(22,87)(23,86)(24,85)(25,84)(26,83)(27,82)(28,81)(29,80)(30,79)(31,78)(32,77)(33,76)(34,75)(35,74)(36,73)(37,72)(38,71)(39,70)(40,69)(41,68)(42,67)(43,66)(44,65)(45,64)(46,63)(47,62)(48,61)(49,60)(50,59)(51,58)(52,57)(53,56)(54,55)(109,133)(110,132)(111,131)(112,130)(113,129)(114,128)(115,127)(116,126)(117,125)(118,124)(119,123)(120,122)$$"
      ],
      "text/plain": [
       "\\tau \\times \\sigma^{25}= (1,108)(2,107)(3,106)(4,105)(5,104)(6,103)(7,102)(8,101)(9,100)(10,99)(11,98)(12,97)(13,96)(14,95)(15,94)(16,93)(17,92)(18,91)(19,90)(20,89)(21,88)(22,87)(23,86)(24,85)(25,84)(26,83)(27,82)(28,81)(29,80)(30,79)(31,78)(32,77)(33,76)(34,75)(35,74)(36,73)(37,72)(38,71)(39,70)(40,69)(41,68)(42,67)(43,66)(44,65)(45,64)(46,63)(47,62)(48,61)(49,60)(50,59)(51,58)(52,57)(53,56)(54,55)(109,133)(110,132)(111,131)(112,130)(113,129)(114,128)(115,127)(116,126)(117,125)(118,124)(119,123)(120,122)"
      ]
     },
     "metadata": {},
     "output_type": "display_data"
    },
    {
     "data": {
      "text/html": [
       "<html><script type=\"math/tex; mode=display\">\\newcommand{\\Bold}[1]{\\mathbf{#1}}\\tau \\times \\sigma^{26}= (1,107)(2,106)(3,105)(4,104)(5,103)(6,102)(7,101)(8,100)(9,99)(10,98)(11,97)(12,96)(13,95)(14,94)(15,93)(16,92)(17,91)(18,90)(19,89)(20,88)(21,87)(22,86)(23,85)(24,84)(25,83)(26,82)(27,81)(28,80)(29,79)(30,78)(31,77)(32,76)(33,75)(34,74)(35,73)(36,72)(37,71)(38,70)(39,69)(40,68)(41,67)(42,66)(43,65)(44,64)(45,63)(46,62)(47,61)(48,60)(49,59)(50,58)(51,57)(52,56)(53,55)(108,133)(109,132)(110,131)(111,130)(112,129)(113,128)(114,127)(115,126)(116,125)(117,124)(118,123)(119,122)(120,121)</script></html>"
      ],
      "text/latex": [
       "$$\\newcommand{\\Bold}[1]{\\mathbf{#1}}\\tau \\times \\sigma^{26}= (1,107)(2,106)(3,105)(4,104)(5,103)(6,102)(7,101)(8,100)(9,99)(10,98)(11,97)(12,96)(13,95)(14,94)(15,93)(16,92)(17,91)(18,90)(19,89)(20,88)(21,87)(22,86)(23,85)(24,84)(25,83)(26,82)(27,81)(28,80)(29,79)(30,78)(31,77)(32,76)(33,75)(34,74)(35,73)(36,72)(37,71)(38,70)(39,69)(40,68)(41,67)(42,66)(43,65)(44,64)(45,63)(46,62)(47,61)(48,60)(49,59)(50,58)(51,57)(52,56)(53,55)(108,133)(109,132)(110,131)(111,130)(112,129)(113,128)(114,127)(115,126)(116,125)(117,124)(118,123)(119,122)(120,121)$$"
      ],
      "text/plain": [
       "\\tau \\times \\sigma^{26}= (1,107)(2,106)(3,105)(4,104)(5,103)(6,102)(7,101)(8,100)(9,99)(10,98)(11,97)(12,96)(13,95)(14,94)(15,93)(16,92)(17,91)(18,90)(19,89)(20,88)(21,87)(22,86)(23,85)(24,84)(25,83)(26,82)(27,81)(28,80)(29,79)(30,78)(31,77)(32,76)(33,75)(34,74)(35,73)(36,72)(37,71)(38,70)(39,69)(40,68)(41,67)(42,66)(43,65)(44,64)(45,63)(46,62)(47,61)(48,60)(49,59)(50,58)(51,57)(52,56)(53,55)(108,133)(109,132)(110,131)(111,130)(112,129)(113,128)(114,127)(115,126)(116,125)(117,124)(118,123)(119,122)(120,121)"
      ]
     },
     "metadata": {},
     "output_type": "display_data"
    },
    {
     "data": {
      "text/html": [
       "<html><script type=\"math/tex; mode=display\">\\newcommand{\\Bold}[1]{\\mathbf{#1}}\\tau \\times \\sigma^{27}= (1,106)(2,105)(3,104)(4,103)(5,102)(6,101)(7,100)(8,99)(9,98)(10,97)(11,96)(12,95)(13,94)(14,93)(15,92)(16,91)(17,90)(18,89)(19,88)(20,87)(21,86)(22,85)(23,84)(24,83)(25,82)(26,81)(27,80)(28,79)(29,78)(30,77)(31,76)(32,75)(33,74)(34,73)(35,72)(36,71)(37,70)(38,69)(39,68)(40,67)(41,66)(42,65)(43,64)(44,63)(45,62)(46,61)(47,60)(48,59)(49,58)(50,57)(51,56)(52,55)(53,54)(107,133)(108,132)(109,131)(110,130)(111,129)(112,128)(113,127)(114,126)(115,125)(116,124)(117,123)(118,122)(119,121)</script></html>"
      ],
      "text/latex": [
       "$$\\newcommand{\\Bold}[1]{\\mathbf{#1}}\\tau \\times \\sigma^{27}= (1,106)(2,105)(3,104)(4,103)(5,102)(6,101)(7,100)(8,99)(9,98)(10,97)(11,96)(12,95)(13,94)(14,93)(15,92)(16,91)(17,90)(18,89)(19,88)(20,87)(21,86)(22,85)(23,84)(24,83)(25,82)(26,81)(27,80)(28,79)(29,78)(30,77)(31,76)(32,75)(33,74)(34,73)(35,72)(36,71)(37,70)(38,69)(39,68)(40,67)(41,66)(42,65)(43,64)(44,63)(45,62)(46,61)(47,60)(48,59)(49,58)(50,57)(51,56)(52,55)(53,54)(107,133)(108,132)(109,131)(110,130)(111,129)(112,128)(113,127)(114,126)(115,125)(116,124)(117,123)(118,122)(119,121)$$"
      ],
      "text/plain": [
       "\\tau \\times \\sigma^{27}= (1,106)(2,105)(3,104)(4,103)(5,102)(6,101)(7,100)(8,99)(9,98)(10,97)(11,96)(12,95)(13,94)(14,93)(15,92)(16,91)(17,90)(18,89)(19,88)(20,87)(21,86)(22,85)(23,84)(24,83)(25,82)(26,81)(27,80)(28,79)(29,78)(30,77)(31,76)(32,75)(33,74)(34,73)(35,72)(36,71)(37,70)(38,69)(39,68)(40,67)(41,66)(42,65)(43,64)(44,63)(45,62)(46,61)(47,60)(48,59)(49,58)(50,57)(51,56)(52,55)(53,54)(107,133)(108,132)(109,131)(110,130)(111,129)(112,128)(113,127)(114,126)(115,125)(116,124)(117,123)(118,122)(119,121)"
      ]
     },
     "metadata": {},
     "output_type": "display_data"
    },
    {
     "data": {
      "text/html": [
       "<html><script type=\"math/tex; mode=display\">\\newcommand{\\Bold}[1]{\\mathbf{#1}}\\tau \\times \\sigma^{28}= (1,105)(2,104)(3,103)(4,102)(5,101)(6,100)(7,99)(8,98)(9,97)(10,96)(11,95)(12,94)(13,93)(14,92)(15,91)(16,90)(17,89)(18,88)(19,87)(20,86)(21,85)(22,84)(23,83)(24,82)(25,81)(26,80)(27,79)(28,78)(29,77)(30,76)(31,75)(32,74)(33,73)(34,72)(35,71)(36,70)(37,69)(38,68)(39,67)(40,66)(41,65)(42,64)(43,63)(44,62)(45,61)(46,60)(47,59)(48,58)(49,57)(50,56)(51,55)(52,54)(106,133)(107,132)(108,131)(109,130)(110,129)(111,128)(112,127)(113,126)(114,125)(115,124)(116,123)(117,122)(118,121)(119,120)</script></html>"
      ],
      "text/latex": [
       "$$\\newcommand{\\Bold}[1]{\\mathbf{#1}}\\tau \\times \\sigma^{28}= (1,105)(2,104)(3,103)(4,102)(5,101)(6,100)(7,99)(8,98)(9,97)(10,96)(11,95)(12,94)(13,93)(14,92)(15,91)(16,90)(17,89)(18,88)(19,87)(20,86)(21,85)(22,84)(23,83)(24,82)(25,81)(26,80)(27,79)(28,78)(29,77)(30,76)(31,75)(32,74)(33,73)(34,72)(35,71)(36,70)(37,69)(38,68)(39,67)(40,66)(41,65)(42,64)(43,63)(44,62)(45,61)(46,60)(47,59)(48,58)(49,57)(50,56)(51,55)(52,54)(106,133)(107,132)(108,131)(109,130)(110,129)(111,128)(112,127)(113,126)(114,125)(115,124)(116,123)(117,122)(118,121)(119,120)$$"
      ],
      "text/plain": [
       "\\tau \\times \\sigma^{28}= (1,105)(2,104)(3,103)(4,102)(5,101)(6,100)(7,99)(8,98)(9,97)(10,96)(11,95)(12,94)(13,93)(14,92)(15,91)(16,90)(17,89)(18,88)(19,87)(20,86)(21,85)(22,84)(23,83)(24,82)(25,81)(26,80)(27,79)(28,78)(29,77)(30,76)(31,75)(32,74)(33,73)(34,72)(35,71)(36,70)(37,69)(38,68)(39,67)(40,66)(41,65)(42,64)(43,63)(44,62)(45,61)(46,60)(47,59)(48,58)(49,57)(50,56)(51,55)(52,54)(106,133)(107,132)(108,131)(109,130)(110,129)(111,128)(112,127)(113,126)(114,125)(115,124)(116,123)(117,122)(118,121)(119,120)"
      ]
     },
     "metadata": {},
     "output_type": "display_data"
    },
    {
     "data": {
      "text/html": [
       "<html><script type=\"math/tex; mode=display\">\\newcommand{\\Bold}[1]{\\mathbf{#1}}\\tau \\times \\sigma^{29}= (1,104)(2,103)(3,102)(4,101)(5,100)(6,99)(7,98)(8,97)(9,96)(10,95)(11,94)(12,93)(13,92)(14,91)(15,90)(16,89)(17,88)(18,87)(19,86)(20,85)(21,84)(22,83)(23,82)(24,81)(25,80)(26,79)(27,78)(28,77)(29,76)(30,75)(31,74)(32,73)(33,72)(34,71)(35,70)(36,69)(37,68)(38,67)(39,66)(40,65)(41,64)(42,63)(43,62)(44,61)(45,60)(46,59)(47,58)(48,57)(49,56)(50,55)(51,54)(52,53)(105,133)(106,132)(107,131)(108,130)(109,129)(110,128)(111,127)(112,126)(113,125)(114,124)(115,123)(116,122)(117,121)(118,120)</script></html>"
      ],
      "text/latex": [
       "$$\\newcommand{\\Bold}[1]{\\mathbf{#1}}\\tau \\times \\sigma^{29}= (1,104)(2,103)(3,102)(4,101)(5,100)(6,99)(7,98)(8,97)(9,96)(10,95)(11,94)(12,93)(13,92)(14,91)(15,90)(16,89)(17,88)(18,87)(19,86)(20,85)(21,84)(22,83)(23,82)(24,81)(25,80)(26,79)(27,78)(28,77)(29,76)(30,75)(31,74)(32,73)(33,72)(34,71)(35,70)(36,69)(37,68)(38,67)(39,66)(40,65)(41,64)(42,63)(43,62)(44,61)(45,60)(46,59)(47,58)(48,57)(49,56)(50,55)(51,54)(52,53)(105,133)(106,132)(107,131)(108,130)(109,129)(110,128)(111,127)(112,126)(113,125)(114,124)(115,123)(116,122)(117,121)(118,120)$$"
      ],
      "text/plain": [
       "\\tau \\times \\sigma^{29}= (1,104)(2,103)(3,102)(4,101)(5,100)(6,99)(7,98)(8,97)(9,96)(10,95)(11,94)(12,93)(13,92)(14,91)(15,90)(16,89)(17,88)(18,87)(19,86)(20,85)(21,84)(22,83)(23,82)(24,81)(25,80)(26,79)(27,78)(28,77)(29,76)(30,75)(31,74)(32,73)(33,72)(34,71)(35,70)(36,69)(37,68)(38,67)(39,66)(40,65)(41,64)(42,63)(43,62)(44,61)(45,60)(46,59)(47,58)(48,57)(49,56)(50,55)(51,54)(52,53)(105,133)(106,132)(107,131)(108,130)(109,129)(110,128)(111,127)(112,126)(113,125)(114,124)(115,123)(116,122)(117,121)(118,120)"
      ]
     },
     "metadata": {},
     "output_type": "display_data"
    },
    {
     "data": {
      "text/html": [
       "<html><script type=\"math/tex; mode=display\">\\newcommand{\\Bold}[1]{\\mathbf{#1}}\\tau \\times \\sigma^{30}= (1,103)(2,102)(3,101)(4,100)(5,99)(6,98)(7,97)(8,96)(9,95)(10,94)(11,93)(12,92)(13,91)(14,90)(15,89)(16,88)(17,87)(18,86)(19,85)(20,84)(21,83)(22,82)(23,81)(24,80)(25,79)(26,78)(27,77)(28,76)(29,75)(30,74)(31,73)(32,72)(33,71)(34,70)(35,69)(36,68)(37,67)(38,66)(39,65)(40,64)(41,63)(42,62)(43,61)(44,60)(45,59)(46,58)(47,57)(48,56)(49,55)(50,54)(51,53)(104,133)(105,132)(106,131)(107,130)(108,129)(109,128)(110,127)(111,126)(112,125)(113,124)(114,123)(115,122)(116,121)(117,120)(118,119)</script></html>"
      ],
      "text/latex": [
       "$$\\newcommand{\\Bold}[1]{\\mathbf{#1}}\\tau \\times \\sigma^{30}= (1,103)(2,102)(3,101)(4,100)(5,99)(6,98)(7,97)(8,96)(9,95)(10,94)(11,93)(12,92)(13,91)(14,90)(15,89)(16,88)(17,87)(18,86)(19,85)(20,84)(21,83)(22,82)(23,81)(24,80)(25,79)(26,78)(27,77)(28,76)(29,75)(30,74)(31,73)(32,72)(33,71)(34,70)(35,69)(36,68)(37,67)(38,66)(39,65)(40,64)(41,63)(42,62)(43,61)(44,60)(45,59)(46,58)(47,57)(48,56)(49,55)(50,54)(51,53)(104,133)(105,132)(106,131)(107,130)(108,129)(109,128)(110,127)(111,126)(112,125)(113,124)(114,123)(115,122)(116,121)(117,120)(118,119)$$"
      ],
      "text/plain": [
       "\\tau \\times \\sigma^{30}= (1,103)(2,102)(3,101)(4,100)(5,99)(6,98)(7,97)(8,96)(9,95)(10,94)(11,93)(12,92)(13,91)(14,90)(15,89)(16,88)(17,87)(18,86)(19,85)(20,84)(21,83)(22,82)(23,81)(24,80)(25,79)(26,78)(27,77)(28,76)(29,75)(30,74)(31,73)(32,72)(33,71)(34,70)(35,69)(36,68)(37,67)(38,66)(39,65)(40,64)(41,63)(42,62)(43,61)(44,60)(45,59)(46,58)(47,57)(48,56)(49,55)(50,54)(51,53)(104,133)(105,132)(106,131)(107,130)(108,129)(109,128)(110,127)(111,126)(112,125)(113,124)(114,123)(115,122)(116,121)(117,120)(118,119)"
      ]
     },
     "metadata": {},
     "output_type": "display_data"
    },
    {
     "data": {
      "text/html": [
       "<html><script type=\"math/tex; mode=display\">\\newcommand{\\Bold}[1]{\\mathbf{#1}}\\tau \\times \\sigma^{31}= (1,102)(2,101)(3,100)(4,99)(5,98)(6,97)(7,96)(8,95)(9,94)(10,93)(11,92)(12,91)(13,90)(14,89)(15,88)(16,87)(17,86)(18,85)(19,84)(20,83)(21,82)(22,81)(23,80)(24,79)(25,78)(26,77)(27,76)(28,75)(29,74)(30,73)(31,72)(32,71)(33,70)(34,69)(35,68)(36,67)(37,66)(38,65)(39,64)(40,63)(41,62)(42,61)(43,60)(44,59)(45,58)(46,57)(47,56)(48,55)(49,54)(50,53)(51,52)(103,133)(104,132)(105,131)(106,130)(107,129)(108,128)(109,127)(110,126)(111,125)(112,124)(113,123)(114,122)(115,121)(116,120)(117,119)</script></html>"
      ],
      "text/latex": [
       "$$\\newcommand{\\Bold}[1]{\\mathbf{#1}}\\tau \\times \\sigma^{31}= (1,102)(2,101)(3,100)(4,99)(5,98)(6,97)(7,96)(8,95)(9,94)(10,93)(11,92)(12,91)(13,90)(14,89)(15,88)(16,87)(17,86)(18,85)(19,84)(20,83)(21,82)(22,81)(23,80)(24,79)(25,78)(26,77)(27,76)(28,75)(29,74)(30,73)(31,72)(32,71)(33,70)(34,69)(35,68)(36,67)(37,66)(38,65)(39,64)(40,63)(41,62)(42,61)(43,60)(44,59)(45,58)(46,57)(47,56)(48,55)(49,54)(50,53)(51,52)(103,133)(104,132)(105,131)(106,130)(107,129)(108,128)(109,127)(110,126)(111,125)(112,124)(113,123)(114,122)(115,121)(116,120)(117,119)$$"
      ],
      "text/plain": [
       "\\tau \\times \\sigma^{31}= (1,102)(2,101)(3,100)(4,99)(5,98)(6,97)(7,96)(8,95)(9,94)(10,93)(11,92)(12,91)(13,90)(14,89)(15,88)(16,87)(17,86)(18,85)(19,84)(20,83)(21,82)(22,81)(23,80)(24,79)(25,78)(26,77)(27,76)(28,75)(29,74)(30,73)(31,72)(32,71)(33,70)(34,69)(35,68)(36,67)(37,66)(38,65)(39,64)(40,63)(41,62)(42,61)(43,60)(44,59)(45,58)(46,57)(47,56)(48,55)(49,54)(50,53)(51,52)(103,133)(104,132)(105,131)(106,130)(107,129)(108,128)(109,127)(110,126)(111,125)(112,124)(113,123)(114,122)(115,121)(116,120)(117,119)"
      ]
     },
     "metadata": {},
     "output_type": "display_data"
    },
    {
     "data": {
      "text/html": [
       "<html><script type=\"math/tex; mode=display\">\\newcommand{\\Bold}[1]{\\mathbf{#1}}\\tau \\times \\sigma^{32}= (1,101)(2,100)(3,99)(4,98)(5,97)(6,96)(7,95)(8,94)(9,93)(10,92)(11,91)(12,90)(13,89)(14,88)(15,87)(16,86)(17,85)(18,84)(19,83)(20,82)(21,81)(22,80)(23,79)(24,78)(25,77)(26,76)(27,75)(28,74)(29,73)(30,72)(31,71)(32,70)(33,69)(34,68)(35,67)(36,66)(37,65)(38,64)(39,63)(40,62)(41,61)(42,60)(43,59)(44,58)(45,57)(46,56)(47,55)(48,54)(49,53)(50,52)(102,133)(103,132)(104,131)(105,130)(106,129)(107,128)(108,127)(109,126)(110,125)(111,124)(112,123)(113,122)(114,121)(115,120)(116,119)(117,118)</script></html>"
      ],
      "text/latex": [
       "$$\\newcommand{\\Bold}[1]{\\mathbf{#1}}\\tau \\times \\sigma^{32}= (1,101)(2,100)(3,99)(4,98)(5,97)(6,96)(7,95)(8,94)(9,93)(10,92)(11,91)(12,90)(13,89)(14,88)(15,87)(16,86)(17,85)(18,84)(19,83)(20,82)(21,81)(22,80)(23,79)(24,78)(25,77)(26,76)(27,75)(28,74)(29,73)(30,72)(31,71)(32,70)(33,69)(34,68)(35,67)(36,66)(37,65)(38,64)(39,63)(40,62)(41,61)(42,60)(43,59)(44,58)(45,57)(46,56)(47,55)(48,54)(49,53)(50,52)(102,133)(103,132)(104,131)(105,130)(106,129)(107,128)(108,127)(109,126)(110,125)(111,124)(112,123)(113,122)(114,121)(115,120)(116,119)(117,118)$$"
      ],
      "text/plain": [
       "\\tau \\times \\sigma^{32}= (1,101)(2,100)(3,99)(4,98)(5,97)(6,96)(7,95)(8,94)(9,93)(10,92)(11,91)(12,90)(13,89)(14,88)(15,87)(16,86)(17,85)(18,84)(19,83)(20,82)(21,81)(22,80)(23,79)(24,78)(25,77)(26,76)(27,75)(28,74)(29,73)(30,72)(31,71)(32,70)(33,69)(34,68)(35,67)(36,66)(37,65)(38,64)(39,63)(40,62)(41,61)(42,60)(43,59)(44,58)(45,57)(46,56)(47,55)(48,54)(49,53)(50,52)(102,133)(103,132)(104,131)(105,130)(106,129)(107,128)(108,127)(109,126)(110,125)(111,124)(112,123)(113,122)(114,121)(115,120)(116,119)(117,118)"
      ]
     },
     "metadata": {},
     "output_type": "display_data"
    },
    {
     "data": {
      "text/html": [
       "<html><script type=\"math/tex; mode=display\">\\newcommand{\\Bold}[1]{\\mathbf{#1}}\\tau \\times \\sigma^{33}= (1,100)(2,99)(3,98)(4,97)(5,96)(6,95)(7,94)(8,93)(9,92)(10,91)(11,90)(12,89)(13,88)(14,87)(15,86)(16,85)(17,84)(18,83)(19,82)(20,81)(21,80)(22,79)(23,78)(24,77)(25,76)(26,75)(27,74)(28,73)(29,72)(30,71)(31,70)(32,69)(33,68)(34,67)(35,66)(36,65)(37,64)(38,63)(39,62)(40,61)(41,60)(42,59)(43,58)(44,57)(45,56)(46,55)(47,54)(48,53)(49,52)(50,51)(101,133)(102,132)(103,131)(104,130)(105,129)(106,128)(107,127)(108,126)(109,125)(110,124)(111,123)(112,122)(113,121)(114,120)(115,119)(116,118)</script></html>"
      ],
      "text/latex": [
       "$$\\newcommand{\\Bold}[1]{\\mathbf{#1}}\\tau \\times \\sigma^{33}= (1,100)(2,99)(3,98)(4,97)(5,96)(6,95)(7,94)(8,93)(9,92)(10,91)(11,90)(12,89)(13,88)(14,87)(15,86)(16,85)(17,84)(18,83)(19,82)(20,81)(21,80)(22,79)(23,78)(24,77)(25,76)(26,75)(27,74)(28,73)(29,72)(30,71)(31,70)(32,69)(33,68)(34,67)(35,66)(36,65)(37,64)(38,63)(39,62)(40,61)(41,60)(42,59)(43,58)(44,57)(45,56)(46,55)(47,54)(48,53)(49,52)(50,51)(101,133)(102,132)(103,131)(104,130)(105,129)(106,128)(107,127)(108,126)(109,125)(110,124)(111,123)(112,122)(113,121)(114,120)(115,119)(116,118)$$"
      ],
      "text/plain": [
       "\\tau \\times \\sigma^{33}= (1,100)(2,99)(3,98)(4,97)(5,96)(6,95)(7,94)(8,93)(9,92)(10,91)(11,90)(12,89)(13,88)(14,87)(15,86)(16,85)(17,84)(18,83)(19,82)(20,81)(21,80)(22,79)(23,78)(24,77)(25,76)(26,75)(27,74)(28,73)(29,72)(30,71)(31,70)(32,69)(33,68)(34,67)(35,66)(36,65)(37,64)(38,63)(39,62)(40,61)(41,60)(42,59)(43,58)(44,57)(45,56)(46,55)(47,54)(48,53)(49,52)(50,51)(101,133)(102,132)(103,131)(104,130)(105,129)(106,128)(107,127)(108,126)(109,125)(110,124)(111,123)(112,122)(113,121)(114,120)(115,119)(116,118)"
      ]
     },
     "metadata": {},
     "output_type": "display_data"
    },
    {
     "data": {
      "text/html": [
       "<html><script type=\"math/tex; mode=display\">\\newcommand{\\Bold}[1]{\\mathbf{#1}}\\tau \\times \\sigma^{34}= (1,99)(2,98)(3,97)(4,96)(5,95)(6,94)(7,93)(8,92)(9,91)(10,90)(11,89)(12,88)(13,87)(14,86)(15,85)(16,84)(17,83)(18,82)(19,81)(20,80)(21,79)(22,78)(23,77)(24,76)(25,75)(26,74)(27,73)(28,72)(29,71)(30,70)(31,69)(32,68)(33,67)(34,66)(35,65)(36,64)(37,63)(38,62)(39,61)(40,60)(41,59)(42,58)(43,57)(44,56)(45,55)(46,54)(47,53)(48,52)(49,51)(100,133)(101,132)(102,131)(103,130)(104,129)(105,128)(106,127)(107,126)(108,125)(109,124)(110,123)(111,122)(112,121)(113,120)(114,119)(115,118)(116,117)</script></html>"
      ],
      "text/latex": [
       "$$\\newcommand{\\Bold}[1]{\\mathbf{#1}}\\tau \\times \\sigma^{34}= (1,99)(2,98)(3,97)(4,96)(5,95)(6,94)(7,93)(8,92)(9,91)(10,90)(11,89)(12,88)(13,87)(14,86)(15,85)(16,84)(17,83)(18,82)(19,81)(20,80)(21,79)(22,78)(23,77)(24,76)(25,75)(26,74)(27,73)(28,72)(29,71)(30,70)(31,69)(32,68)(33,67)(34,66)(35,65)(36,64)(37,63)(38,62)(39,61)(40,60)(41,59)(42,58)(43,57)(44,56)(45,55)(46,54)(47,53)(48,52)(49,51)(100,133)(101,132)(102,131)(103,130)(104,129)(105,128)(106,127)(107,126)(108,125)(109,124)(110,123)(111,122)(112,121)(113,120)(114,119)(115,118)(116,117)$$"
      ],
      "text/plain": [
       "\\tau \\times \\sigma^{34}= (1,99)(2,98)(3,97)(4,96)(5,95)(6,94)(7,93)(8,92)(9,91)(10,90)(11,89)(12,88)(13,87)(14,86)(15,85)(16,84)(17,83)(18,82)(19,81)(20,80)(21,79)(22,78)(23,77)(24,76)(25,75)(26,74)(27,73)(28,72)(29,71)(30,70)(31,69)(32,68)(33,67)(34,66)(35,65)(36,64)(37,63)(38,62)(39,61)(40,60)(41,59)(42,58)(43,57)(44,56)(45,55)(46,54)(47,53)(48,52)(49,51)(100,133)(101,132)(102,131)(103,130)(104,129)(105,128)(106,127)(107,126)(108,125)(109,124)(110,123)(111,122)(112,121)(113,120)(114,119)(115,118)(116,117)"
      ]
     },
     "metadata": {},
     "output_type": "display_data"
    },
    {
     "data": {
      "text/html": [
       "<html><script type=\"math/tex; mode=display\">\\newcommand{\\Bold}[1]{\\mathbf{#1}}\\tau \\times \\sigma^{35}= (1,98)(2,97)(3,96)(4,95)(5,94)(6,93)(7,92)(8,91)(9,90)(10,89)(11,88)(12,87)(13,86)(14,85)(15,84)(16,83)(17,82)(18,81)(19,80)(20,79)(21,78)(22,77)(23,76)(24,75)(25,74)(26,73)(27,72)(28,71)(29,70)(30,69)(31,68)(32,67)(33,66)(34,65)(35,64)(36,63)(37,62)(38,61)(39,60)(40,59)(41,58)(42,57)(43,56)(44,55)(45,54)(46,53)(47,52)(48,51)(49,50)(99,133)(100,132)(101,131)(102,130)(103,129)(104,128)(105,127)(106,126)(107,125)(108,124)(109,123)(110,122)(111,121)(112,120)(113,119)(114,118)(115,117)</script></html>"
      ],
      "text/latex": [
       "$$\\newcommand{\\Bold}[1]{\\mathbf{#1}}\\tau \\times \\sigma^{35}= (1,98)(2,97)(3,96)(4,95)(5,94)(6,93)(7,92)(8,91)(9,90)(10,89)(11,88)(12,87)(13,86)(14,85)(15,84)(16,83)(17,82)(18,81)(19,80)(20,79)(21,78)(22,77)(23,76)(24,75)(25,74)(26,73)(27,72)(28,71)(29,70)(30,69)(31,68)(32,67)(33,66)(34,65)(35,64)(36,63)(37,62)(38,61)(39,60)(40,59)(41,58)(42,57)(43,56)(44,55)(45,54)(46,53)(47,52)(48,51)(49,50)(99,133)(100,132)(101,131)(102,130)(103,129)(104,128)(105,127)(106,126)(107,125)(108,124)(109,123)(110,122)(111,121)(112,120)(113,119)(114,118)(115,117)$$"
      ],
      "text/plain": [
       "\\tau \\times \\sigma^{35}= (1,98)(2,97)(3,96)(4,95)(5,94)(6,93)(7,92)(8,91)(9,90)(10,89)(11,88)(12,87)(13,86)(14,85)(15,84)(16,83)(17,82)(18,81)(19,80)(20,79)(21,78)(22,77)(23,76)(24,75)(25,74)(26,73)(27,72)(28,71)(29,70)(30,69)(31,68)(32,67)(33,66)(34,65)(35,64)(36,63)(37,62)(38,61)(39,60)(40,59)(41,58)(42,57)(43,56)(44,55)(45,54)(46,53)(47,52)(48,51)(49,50)(99,133)(100,132)(101,131)(102,130)(103,129)(104,128)(105,127)(106,126)(107,125)(108,124)(109,123)(110,122)(111,121)(112,120)(113,119)(114,118)(115,117)"
      ]
     },
     "metadata": {},
     "output_type": "display_data"
    },
    {
     "data": {
      "text/html": [
       "<html><script type=\"math/tex; mode=display\">\\newcommand{\\Bold}[1]{\\mathbf{#1}}\\tau \\times \\sigma^{36}= (1,97)(2,96)(3,95)(4,94)(5,93)(6,92)(7,91)(8,90)(9,89)(10,88)(11,87)(12,86)(13,85)(14,84)(15,83)(16,82)(17,81)(18,80)(19,79)(20,78)(21,77)(22,76)(23,75)(24,74)(25,73)(26,72)(27,71)(28,70)(29,69)(30,68)(31,67)(32,66)(33,65)(34,64)(35,63)(36,62)(37,61)(38,60)(39,59)(40,58)(41,57)(42,56)(43,55)(44,54)(45,53)(46,52)(47,51)(48,50)(98,133)(99,132)(100,131)(101,130)(102,129)(103,128)(104,127)(105,126)(106,125)(107,124)(108,123)(109,122)(110,121)(111,120)(112,119)(113,118)(114,117)(115,116)</script></html>"
      ],
      "text/latex": [
       "$$\\newcommand{\\Bold}[1]{\\mathbf{#1}}\\tau \\times \\sigma^{36}= (1,97)(2,96)(3,95)(4,94)(5,93)(6,92)(7,91)(8,90)(9,89)(10,88)(11,87)(12,86)(13,85)(14,84)(15,83)(16,82)(17,81)(18,80)(19,79)(20,78)(21,77)(22,76)(23,75)(24,74)(25,73)(26,72)(27,71)(28,70)(29,69)(30,68)(31,67)(32,66)(33,65)(34,64)(35,63)(36,62)(37,61)(38,60)(39,59)(40,58)(41,57)(42,56)(43,55)(44,54)(45,53)(46,52)(47,51)(48,50)(98,133)(99,132)(100,131)(101,130)(102,129)(103,128)(104,127)(105,126)(106,125)(107,124)(108,123)(109,122)(110,121)(111,120)(112,119)(113,118)(114,117)(115,116)$$"
      ],
      "text/plain": [
       "\\tau \\times \\sigma^{36}= (1,97)(2,96)(3,95)(4,94)(5,93)(6,92)(7,91)(8,90)(9,89)(10,88)(11,87)(12,86)(13,85)(14,84)(15,83)(16,82)(17,81)(18,80)(19,79)(20,78)(21,77)(22,76)(23,75)(24,74)(25,73)(26,72)(27,71)(28,70)(29,69)(30,68)(31,67)(32,66)(33,65)(34,64)(35,63)(36,62)(37,61)(38,60)(39,59)(40,58)(41,57)(42,56)(43,55)(44,54)(45,53)(46,52)(47,51)(48,50)(98,133)(99,132)(100,131)(101,130)(102,129)(103,128)(104,127)(105,126)(106,125)(107,124)(108,123)(109,122)(110,121)(111,120)(112,119)(113,118)(114,117)(115,116)"
      ]
     },
     "metadata": {},
     "output_type": "display_data"
    },
    {
     "data": {
      "text/html": [
       "<html><script type=\"math/tex; mode=display\">\\newcommand{\\Bold}[1]{\\mathbf{#1}}\\tau \\times \\sigma^{37}= (1,96)(2,95)(3,94)(4,93)(5,92)(6,91)(7,90)(8,89)(9,88)(10,87)(11,86)(12,85)(13,84)(14,83)(15,82)(16,81)(17,80)(18,79)(19,78)(20,77)(21,76)(22,75)(23,74)(24,73)(25,72)(26,71)(27,70)(28,69)(29,68)(30,67)(31,66)(32,65)(33,64)(34,63)(35,62)(36,61)(37,60)(38,59)(39,58)(40,57)(41,56)(42,55)(43,54)(44,53)(45,52)(46,51)(47,50)(48,49)(97,133)(98,132)(99,131)(100,130)(101,129)(102,128)(103,127)(104,126)(105,125)(106,124)(107,123)(108,122)(109,121)(110,120)(111,119)(112,118)(113,117)(114,116)</script></html>"
      ],
      "text/latex": [
       "$$\\newcommand{\\Bold}[1]{\\mathbf{#1}}\\tau \\times \\sigma^{37}= (1,96)(2,95)(3,94)(4,93)(5,92)(6,91)(7,90)(8,89)(9,88)(10,87)(11,86)(12,85)(13,84)(14,83)(15,82)(16,81)(17,80)(18,79)(19,78)(20,77)(21,76)(22,75)(23,74)(24,73)(25,72)(26,71)(27,70)(28,69)(29,68)(30,67)(31,66)(32,65)(33,64)(34,63)(35,62)(36,61)(37,60)(38,59)(39,58)(40,57)(41,56)(42,55)(43,54)(44,53)(45,52)(46,51)(47,50)(48,49)(97,133)(98,132)(99,131)(100,130)(101,129)(102,128)(103,127)(104,126)(105,125)(106,124)(107,123)(108,122)(109,121)(110,120)(111,119)(112,118)(113,117)(114,116)$$"
      ],
      "text/plain": [
       "\\tau \\times \\sigma^{37}= (1,96)(2,95)(3,94)(4,93)(5,92)(6,91)(7,90)(8,89)(9,88)(10,87)(11,86)(12,85)(13,84)(14,83)(15,82)(16,81)(17,80)(18,79)(19,78)(20,77)(21,76)(22,75)(23,74)(24,73)(25,72)(26,71)(27,70)(28,69)(29,68)(30,67)(31,66)(32,65)(33,64)(34,63)(35,62)(36,61)(37,60)(38,59)(39,58)(40,57)(41,56)(42,55)(43,54)(44,53)(45,52)(46,51)(47,50)(48,49)(97,133)(98,132)(99,131)(100,130)(101,129)(102,128)(103,127)(104,126)(105,125)(106,124)(107,123)(108,122)(109,121)(110,120)(111,119)(112,118)(113,117)(114,116)"
      ]
     },
     "metadata": {},
     "output_type": "display_data"
    },
    {
     "data": {
      "text/html": [
       "<html><script type=\"math/tex; mode=display\">\\newcommand{\\Bold}[1]{\\mathbf{#1}}\\tau \\times \\sigma^{38}= (1,95)(2,94)(3,93)(4,92)(5,91)(6,90)(7,89)(8,88)(9,87)(10,86)(11,85)(12,84)(13,83)(14,82)(15,81)(16,80)(17,79)(18,78)(19,77)(20,76)(21,75)(22,74)(23,73)(24,72)(25,71)(26,70)(27,69)(28,68)(29,67)(30,66)(31,65)(32,64)(33,63)(34,62)(35,61)(36,60)(37,59)(38,58)(39,57)(40,56)(41,55)(42,54)(43,53)(44,52)(45,51)(46,50)(47,49)(96,133)(97,132)(98,131)(99,130)(100,129)(101,128)(102,127)(103,126)(104,125)(105,124)(106,123)(107,122)(108,121)(109,120)(110,119)(111,118)(112,117)(113,116)(114,115)</script></html>"
      ],
      "text/latex": [
       "$$\\newcommand{\\Bold}[1]{\\mathbf{#1}}\\tau \\times \\sigma^{38}= (1,95)(2,94)(3,93)(4,92)(5,91)(6,90)(7,89)(8,88)(9,87)(10,86)(11,85)(12,84)(13,83)(14,82)(15,81)(16,80)(17,79)(18,78)(19,77)(20,76)(21,75)(22,74)(23,73)(24,72)(25,71)(26,70)(27,69)(28,68)(29,67)(30,66)(31,65)(32,64)(33,63)(34,62)(35,61)(36,60)(37,59)(38,58)(39,57)(40,56)(41,55)(42,54)(43,53)(44,52)(45,51)(46,50)(47,49)(96,133)(97,132)(98,131)(99,130)(100,129)(101,128)(102,127)(103,126)(104,125)(105,124)(106,123)(107,122)(108,121)(109,120)(110,119)(111,118)(112,117)(113,116)(114,115)$$"
      ],
      "text/plain": [
       "\\tau \\times \\sigma^{38}= (1,95)(2,94)(3,93)(4,92)(5,91)(6,90)(7,89)(8,88)(9,87)(10,86)(11,85)(12,84)(13,83)(14,82)(15,81)(16,80)(17,79)(18,78)(19,77)(20,76)(21,75)(22,74)(23,73)(24,72)(25,71)(26,70)(27,69)(28,68)(29,67)(30,66)(31,65)(32,64)(33,63)(34,62)(35,61)(36,60)(37,59)(38,58)(39,57)(40,56)(41,55)(42,54)(43,53)(44,52)(45,51)(46,50)(47,49)(96,133)(97,132)(98,131)(99,130)(100,129)(101,128)(102,127)(103,126)(104,125)(105,124)(106,123)(107,122)(108,121)(109,120)(110,119)(111,118)(112,117)(113,116)(114,115)"
      ]
     },
     "metadata": {},
     "output_type": "display_data"
    },
    {
     "data": {
      "text/html": [
       "<html><script type=\"math/tex; mode=display\">\\newcommand{\\Bold}[1]{\\mathbf{#1}}\\tau \\times \\sigma^{39}= (1,94)(2,93)(3,92)(4,91)(5,90)(6,89)(7,88)(8,87)(9,86)(10,85)(11,84)(12,83)(13,82)(14,81)(15,80)(16,79)(17,78)(18,77)(19,76)(20,75)(21,74)(22,73)(23,72)(24,71)(25,70)(26,69)(27,68)(28,67)(29,66)(30,65)(31,64)(32,63)(33,62)(34,61)(35,60)(36,59)(37,58)(38,57)(39,56)(40,55)(41,54)(42,53)(43,52)(44,51)(45,50)(46,49)(47,48)(95,133)(96,132)(97,131)(98,130)(99,129)(100,128)(101,127)(102,126)(103,125)(104,124)(105,123)(106,122)(107,121)(108,120)(109,119)(110,118)(111,117)(112,116)(113,115)</script></html>"
      ],
      "text/latex": [
       "$$\\newcommand{\\Bold}[1]{\\mathbf{#1}}\\tau \\times \\sigma^{39}= (1,94)(2,93)(3,92)(4,91)(5,90)(6,89)(7,88)(8,87)(9,86)(10,85)(11,84)(12,83)(13,82)(14,81)(15,80)(16,79)(17,78)(18,77)(19,76)(20,75)(21,74)(22,73)(23,72)(24,71)(25,70)(26,69)(27,68)(28,67)(29,66)(30,65)(31,64)(32,63)(33,62)(34,61)(35,60)(36,59)(37,58)(38,57)(39,56)(40,55)(41,54)(42,53)(43,52)(44,51)(45,50)(46,49)(47,48)(95,133)(96,132)(97,131)(98,130)(99,129)(100,128)(101,127)(102,126)(103,125)(104,124)(105,123)(106,122)(107,121)(108,120)(109,119)(110,118)(111,117)(112,116)(113,115)$$"
      ],
      "text/plain": [
       "\\tau \\times \\sigma^{39}= (1,94)(2,93)(3,92)(4,91)(5,90)(6,89)(7,88)(8,87)(9,86)(10,85)(11,84)(12,83)(13,82)(14,81)(15,80)(16,79)(17,78)(18,77)(19,76)(20,75)(21,74)(22,73)(23,72)(24,71)(25,70)(26,69)(27,68)(28,67)(29,66)(30,65)(31,64)(32,63)(33,62)(34,61)(35,60)(36,59)(37,58)(38,57)(39,56)(40,55)(41,54)(42,53)(43,52)(44,51)(45,50)(46,49)(47,48)(95,133)(96,132)(97,131)(98,130)(99,129)(100,128)(101,127)(102,126)(103,125)(104,124)(105,123)(106,122)(107,121)(108,120)(109,119)(110,118)(111,117)(112,116)(113,115)"
      ]
     },
     "metadata": {},
     "output_type": "display_data"
    },
    {
     "data": {
      "text/html": [
       "<html><script type=\"math/tex; mode=display\">\\newcommand{\\Bold}[1]{\\mathbf{#1}}\\tau \\times \\sigma^{40}= (1,93)(2,92)(3,91)(4,90)(5,89)(6,88)(7,87)(8,86)(9,85)(10,84)(11,83)(12,82)(13,81)(14,80)(15,79)(16,78)(17,77)(18,76)(19,75)(20,74)(21,73)(22,72)(23,71)(24,70)(25,69)(26,68)(27,67)(28,66)(29,65)(30,64)(31,63)(32,62)(33,61)(34,60)(35,59)(36,58)(37,57)(38,56)(39,55)(40,54)(41,53)(42,52)(43,51)(44,50)(45,49)(46,48)(94,133)(95,132)(96,131)(97,130)(98,129)(99,128)(100,127)(101,126)(102,125)(103,124)(104,123)(105,122)(106,121)(107,120)(108,119)(109,118)(110,117)(111,116)(112,115)(113,114)</script></html>"
      ],
      "text/latex": [
       "$$\\newcommand{\\Bold}[1]{\\mathbf{#1}}\\tau \\times \\sigma^{40}= (1,93)(2,92)(3,91)(4,90)(5,89)(6,88)(7,87)(8,86)(9,85)(10,84)(11,83)(12,82)(13,81)(14,80)(15,79)(16,78)(17,77)(18,76)(19,75)(20,74)(21,73)(22,72)(23,71)(24,70)(25,69)(26,68)(27,67)(28,66)(29,65)(30,64)(31,63)(32,62)(33,61)(34,60)(35,59)(36,58)(37,57)(38,56)(39,55)(40,54)(41,53)(42,52)(43,51)(44,50)(45,49)(46,48)(94,133)(95,132)(96,131)(97,130)(98,129)(99,128)(100,127)(101,126)(102,125)(103,124)(104,123)(105,122)(106,121)(107,120)(108,119)(109,118)(110,117)(111,116)(112,115)(113,114)$$"
      ],
      "text/plain": [
       "\\tau \\times \\sigma^{40}= (1,93)(2,92)(3,91)(4,90)(5,89)(6,88)(7,87)(8,86)(9,85)(10,84)(11,83)(12,82)(13,81)(14,80)(15,79)(16,78)(17,77)(18,76)(19,75)(20,74)(21,73)(22,72)(23,71)(24,70)(25,69)(26,68)(27,67)(28,66)(29,65)(30,64)(31,63)(32,62)(33,61)(34,60)(35,59)(36,58)(37,57)(38,56)(39,55)(40,54)(41,53)(42,52)(43,51)(44,50)(45,49)(46,48)(94,133)(95,132)(96,131)(97,130)(98,129)(99,128)(100,127)(101,126)(102,125)(103,124)(104,123)(105,122)(106,121)(107,120)(108,119)(109,118)(110,117)(111,116)(112,115)(113,114)"
      ]
     },
     "metadata": {},
     "output_type": "display_data"
    },
    {
     "data": {
      "text/html": [
       "<html><script type=\"math/tex; mode=display\">\\newcommand{\\Bold}[1]{\\mathbf{#1}}\\tau \\times \\sigma^{41}= (1,92)(2,91)(3,90)(4,89)(5,88)(6,87)(7,86)(8,85)(9,84)(10,83)(11,82)(12,81)(13,80)(14,79)(15,78)(16,77)(17,76)(18,75)(19,74)(20,73)(21,72)(22,71)(23,70)(24,69)(25,68)(26,67)(27,66)(28,65)(29,64)(30,63)(31,62)(32,61)(33,60)(34,59)(35,58)(36,57)(37,56)(38,55)(39,54)(40,53)(41,52)(42,51)(43,50)(44,49)(45,48)(46,47)(93,133)(94,132)(95,131)(96,130)(97,129)(98,128)(99,127)(100,126)(101,125)(102,124)(103,123)(104,122)(105,121)(106,120)(107,119)(108,118)(109,117)(110,116)(111,115)(112,114)</script></html>"
      ],
      "text/latex": [
       "$$\\newcommand{\\Bold}[1]{\\mathbf{#1}}\\tau \\times \\sigma^{41}= (1,92)(2,91)(3,90)(4,89)(5,88)(6,87)(7,86)(8,85)(9,84)(10,83)(11,82)(12,81)(13,80)(14,79)(15,78)(16,77)(17,76)(18,75)(19,74)(20,73)(21,72)(22,71)(23,70)(24,69)(25,68)(26,67)(27,66)(28,65)(29,64)(30,63)(31,62)(32,61)(33,60)(34,59)(35,58)(36,57)(37,56)(38,55)(39,54)(40,53)(41,52)(42,51)(43,50)(44,49)(45,48)(46,47)(93,133)(94,132)(95,131)(96,130)(97,129)(98,128)(99,127)(100,126)(101,125)(102,124)(103,123)(104,122)(105,121)(106,120)(107,119)(108,118)(109,117)(110,116)(111,115)(112,114)$$"
      ],
      "text/plain": [
       "\\tau \\times \\sigma^{41}= (1,92)(2,91)(3,90)(4,89)(5,88)(6,87)(7,86)(8,85)(9,84)(10,83)(11,82)(12,81)(13,80)(14,79)(15,78)(16,77)(17,76)(18,75)(19,74)(20,73)(21,72)(22,71)(23,70)(24,69)(25,68)(26,67)(27,66)(28,65)(29,64)(30,63)(31,62)(32,61)(33,60)(34,59)(35,58)(36,57)(37,56)(38,55)(39,54)(40,53)(41,52)(42,51)(43,50)(44,49)(45,48)(46,47)(93,133)(94,132)(95,131)(96,130)(97,129)(98,128)(99,127)(100,126)(101,125)(102,124)(103,123)(104,122)(105,121)(106,120)(107,119)(108,118)(109,117)(110,116)(111,115)(112,114)"
      ]
     },
     "metadata": {},
     "output_type": "display_data"
    },
    {
     "data": {
      "text/html": [
       "<html><script type=\"math/tex; mode=display\">\\newcommand{\\Bold}[1]{\\mathbf{#1}}\\tau \\times \\sigma^{42}= (1,91)(2,90)(3,89)(4,88)(5,87)(6,86)(7,85)(8,84)(9,83)(10,82)(11,81)(12,80)(13,79)(14,78)(15,77)(16,76)(17,75)(18,74)(19,73)(20,72)(21,71)(22,70)(23,69)(24,68)(25,67)(26,66)(27,65)(28,64)(29,63)(30,62)(31,61)(32,60)(33,59)(34,58)(35,57)(36,56)(37,55)(38,54)(39,53)(40,52)(41,51)(42,50)(43,49)(44,48)(45,47)(92,133)(93,132)(94,131)(95,130)(96,129)(97,128)(98,127)(99,126)(100,125)(101,124)(102,123)(103,122)(104,121)(105,120)(106,119)(107,118)(108,117)(109,116)(110,115)(111,114)(112,113)</script></html>"
      ],
      "text/latex": [
       "$$\\newcommand{\\Bold}[1]{\\mathbf{#1}}\\tau \\times \\sigma^{42}= (1,91)(2,90)(3,89)(4,88)(5,87)(6,86)(7,85)(8,84)(9,83)(10,82)(11,81)(12,80)(13,79)(14,78)(15,77)(16,76)(17,75)(18,74)(19,73)(20,72)(21,71)(22,70)(23,69)(24,68)(25,67)(26,66)(27,65)(28,64)(29,63)(30,62)(31,61)(32,60)(33,59)(34,58)(35,57)(36,56)(37,55)(38,54)(39,53)(40,52)(41,51)(42,50)(43,49)(44,48)(45,47)(92,133)(93,132)(94,131)(95,130)(96,129)(97,128)(98,127)(99,126)(100,125)(101,124)(102,123)(103,122)(104,121)(105,120)(106,119)(107,118)(108,117)(109,116)(110,115)(111,114)(112,113)$$"
      ],
      "text/plain": [
       "\\tau \\times \\sigma^{42}= (1,91)(2,90)(3,89)(4,88)(5,87)(6,86)(7,85)(8,84)(9,83)(10,82)(11,81)(12,80)(13,79)(14,78)(15,77)(16,76)(17,75)(18,74)(19,73)(20,72)(21,71)(22,70)(23,69)(24,68)(25,67)(26,66)(27,65)(28,64)(29,63)(30,62)(31,61)(32,60)(33,59)(34,58)(35,57)(36,56)(37,55)(38,54)(39,53)(40,52)(41,51)(42,50)(43,49)(44,48)(45,47)(92,133)(93,132)(94,131)(95,130)(96,129)(97,128)(98,127)(99,126)(100,125)(101,124)(102,123)(103,122)(104,121)(105,120)(106,119)(107,118)(108,117)(109,116)(110,115)(111,114)(112,113)"
      ]
     },
     "metadata": {},
     "output_type": "display_data"
    },
    {
     "data": {
      "text/html": [
       "<html><script type=\"math/tex; mode=display\">\\newcommand{\\Bold}[1]{\\mathbf{#1}}\\tau \\times \\sigma^{43}= (1,90)(2,89)(3,88)(4,87)(5,86)(6,85)(7,84)(8,83)(9,82)(10,81)(11,80)(12,79)(13,78)(14,77)(15,76)(16,75)(17,74)(18,73)(19,72)(20,71)(21,70)(22,69)(23,68)(24,67)(25,66)(26,65)(27,64)(28,63)(29,62)(30,61)(31,60)(32,59)(33,58)(34,57)(35,56)(36,55)(37,54)(38,53)(39,52)(40,51)(41,50)(42,49)(43,48)(44,47)(45,46)(91,133)(92,132)(93,131)(94,130)(95,129)(96,128)(97,127)(98,126)(99,125)(100,124)(101,123)(102,122)(103,121)(104,120)(105,119)(106,118)(107,117)(108,116)(109,115)(110,114)(111,113)</script></html>"
      ],
      "text/latex": [
       "$$\\newcommand{\\Bold}[1]{\\mathbf{#1}}\\tau \\times \\sigma^{43}= (1,90)(2,89)(3,88)(4,87)(5,86)(6,85)(7,84)(8,83)(9,82)(10,81)(11,80)(12,79)(13,78)(14,77)(15,76)(16,75)(17,74)(18,73)(19,72)(20,71)(21,70)(22,69)(23,68)(24,67)(25,66)(26,65)(27,64)(28,63)(29,62)(30,61)(31,60)(32,59)(33,58)(34,57)(35,56)(36,55)(37,54)(38,53)(39,52)(40,51)(41,50)(42,49)(43,48)(44,47)(45,46)(91,133)(92,132)(93,131)(94,130)(95,129)(96,128)(97,127)(98,126)(99,125)(100,124)(101,123)(102,122)(103,121)(104,120)(105,119)(106,118)(107,117)(108,116)(109,115)(110,114)(111,113)$$"
      ],
      "text/plain": [
       "\\tau \\times \\sigma^{43}= (1,90)(2,89)(3,88)(4,87)(5,86)(6,85)(7,84)(8,83)(9,82)(10,81)(11,80)(12,79)(13,78)(14,77)(15,76)(16,75)(17,74)(18,73)(19,72)(20,71)(21,70)(22,69)(23,68)(24,67)(25,66)(26,65)(27,64)(28,63)(29,62)(30,61)(31,60)(32,59)(33,58)(34,57)(35,56)(36,55)(37,54)(38,53)(39,52)(40,51)(41,50)(42,49)(43,48)(44,47)(45,46)(91,133)(92,132)(93,131)(94,130)(95,129)(96,128)(97,127)(98,126)(99,125)(100,124)(101,123)(102,122)(103,121)(104,120)(105,119)(106,118)(107,117)(108,116)(109,115)(110,114)(111,113)"
      ]
     },
     "metadata": {},
     "output_type": "display_data"
    },
    {
     "data": {
      "text/html": [
       "<html><script type=\"math/tex; mode=display\">\\newcommand{\\Bold}[1]{\\mathbf{#1}}\\tau \\times \\sigma^{44}= (1,89)(2,88)(3,87)(4,86)(5,85)(6,84)(7,83)(8,82)(9,81)(10,80)(11,79)(12,78)(13,77)(14,76)(15,75)(16,74)(17,73)(18,72)(19,71)(20,70)(21,69)(22,68)(23,67)(24,66)(25,65)(26,64)(27,63)(28,62)(29,61)(30,60)(31,59)(32,58)(33,57)(34,56)(35,55)(36,54)(37,53)(38,52)(39,51)(40,50)(41,49)(42,48)(43,47)(44,46)(90,133)(91,132)(92,131)(93,130)(94,129)(95,128)(96,127)(97,126)(98,125)(99,124)(100,123)(101,122)(102,121)(103,120)(104,119)(105,118)(106,117)(107,116)(108,115)(109,114)(110,113)(111,112)</script></html>"
      ],
      "text/latex": [
       "$$\\newcommand{\\Bold}[1]{\\mathbf{#1}}\\tau \\times \\sigma^{44}= (1,89)(2,88)(3,87)(4,86)(5,85)(6,84)(7,83)(8,82)(9,81)(10,80)(11,79)(12,78)(13,77)(14,76)(15,75)(16,74)(17,73)(18,72)(19,71)(20,70)(21,69)(22,68)(23,67)(24,66)(25,65)(26,64)(27,63)(28,62)(29,61)(30,60)(31,59)(32,58)(33,57)(34,56)(35,55)(36,54)(37,53)(38,52)(39,51)(40,50)(41,49)(42,48)(43,47)(44,46)(90,133)(91,132)(92,131)(93,130)(94,129)(95,128)(96,127)(97,126)(98,125)(99,124)(100,123)(101,122)(102,121)(103,120)(104,119)(105,118)(106,117)(107,116)(108,115)(109,114)(110,113)(111,112)$$"
      ],
      "text/plain": [
       "\\tau \\times \\sigma^{44}= (1,89)(2,88)(3,87)(4,86)(5,85)(6,84)(7,83)(8,82)(9,81)(10,80)(11,79)(12,78)(13,77)(14,76)(15,75)(16,74)(17,73)(18,72)(19,71)(20,70)(21,69)(22,68)(23,67)(24,66)(25,65)(26,64)(27,63)(28,62)(29,61)(30,60)(31,59)(32,58)(33,57)(34,56)(35,55)(36,54)(37,53)(38,52)(39,51)(40,50)(41,49)(42,48)(43,47)(44,46)(90,133)(91,132)(92,131)(93,130)(94,129)(95,128)(96,127)(97,126)(98,125)(99,124)(100,123)(101,122)(102,121)(103,120)(104,119)(105,118)(106,117)(107,116)(108,115)(109,114)(110,113)(111,112)"
      ]
     },
     "metadata": {},
     "output_type": "display_data"
    },
    {
     "data": {
      "text/html": [
       "<html><script type=\"math/tex; mode=display\">\\newcommand{\\Bold}[1]{\\mathbf{#1}}\\tau \\times \\sigma^{45}= (1,88)(2,87)(3,86)(4,85)(5,84)(6,83)(7,82)(8,81)(9,80)(10,79)(11,78)(12,77)(13,76)(14,75)(15,74)(16,73)(17,72)(18,71)(19,70)(20,69)(21,68)(22,67)(23,66)(24,65)(25,64)(26,63)(27,62)(28,61)(29,60)(30,59)(31,58)(32,57)(33,56)(34,55)(35,54)(36,53)(37,52)(38,51)(39,50)(40,49)(41,48)(42,47)(43,46)(44,45)(89,133)(90,132)(91,131)(92,130)(93,129)(94,128)(95,127)(96,126)(97,125)(98,124)(99,123)(100,122)(101,121)(102,120)(103,119)(104,118)(105,117)(106,116)(107,115)(108,114)(109,113)(110,112)</script></html>"
      ],
      "text/latex": [
       "$$\\newcommand{\\Bold}[1]{\\mathbf{#1}}\\tau \\times \\sigma^{45}= (1,88)(2,87)(3,86)(4,85)(5,84)(6,83)(7,82)(8,81)(9,80)(10,79)(11,78)(12,77)(13,76)(14,75)(15,74)(16,73)(17,72)(18,71)(19,70)(20,69)(21,68)(22,67)(23,66)(24,65)(25,64)(26,63)(27,62)(28,61)(29,60)(30,59)(31,58)(32,57)(33,56)(34,55)(35,54)(36,53)(37,52)(38,51)(39,50)(40,49)(41,48)(42,47)(43,46)(44,45)(89,133)(90,132)(91,131)(92,130)(93,129)(94,128)(95,127)(96,126)(97,125)(98,124)(99,123)(100,122)(101,121)(102,120)(103,119)(104,118)(105,117)(106,116)(107,115)(108,114)(109,113)(110,112)$$"
      ],
      "text/plain": [
       "\\tau \\times \\sigma^{45}= (1,88)(2,87)(3,86)(4,85)(5,84)(6,83)(7,82)(8,81)(9,80)(10,79)(11,78)(12,77)(13,76)(14,75)(15,74)(16,73)(17,72)(18,71)(19,70)(20,69)(21,68)(22,67)(23,66)(24,65)(25,64)(26,63)(27,62)(28,61)(29,60)(30,59)(31,58)(32,57)(33,56)(34,55)(35,54)(36,53)(37,52)(38,51)(39,50)(40,49)(41,48)(42,47)(43,46)(44,45)(89,133)(90,132)(91,131)(92,130)(93,129)(94,128)(95,127)(96,126)(97,125)(98,124)(99,123)(100,122)(101,121)(102,120)(103,119)(104,118)(105,117)(106,116)(107,115)(108,114)(109,113)(110,112)"
      ]
     },
     "metadata": {},
     "output_type": "display_data"
    },
    {
     "data": {
      "text/html": [
       "<html><script type=\"math/tex; mode=display\">\\newcommand{\\Bold}[1]{\\mathbf{#1}}\\tau \\times \\sigma^{46}= (1,87)(2,86)(3,85)(4,84)(5,83)(6,82)(7,81)(8,80)(9,79)(10,78)(11,77)(12,76)(13,75)(14,74)(15,73)(16,72)(17,71)(18,70)(19,69)(20,68)(21,67)(22,66)(23,65)(24,64)(25,63)(26,62)(27,61)(28,60)(29,59)(30,58)(31,57)(32,56)(33,55)(34,54)(35,53)(36,52)(37,51)(38,50)(39,49)(40,48)(41,47)(42,46)(43,45)(88,133)(89,132)(90,131)(91,130)(92,129)(93,128)(94,127)(95,126)(96,125)(97,124)(98,123)(99,122)(100,121)(101,120)(102,119)(103,118)(104,117)(105,116)(106,115)(107,114)(108,113)(109,112)(110,111)</script></html>"
      ],
      "text/latex": [
       "$$\\newcommand{\\Bold}[1]{\\mathbf{#1}}\\tau \\times \\sigma^{46}= (1,87)(2,86)(3,85)(4,84)(5,83)(6,82)(7,81)(8,80)(9,79)(10,78)(11,77)(12,76)(13,75)(14,74)(15,73)(16,72)(17,71)(18,70)(19,69)(20,68)(21,67)(22,66)(23,65)(24,64)(25,63)(26,62)(27,61)(28,60)(29,59)(30,58)(31,57)(32,56)(33,55)(34,54)(35,53)(36,52)(37,51)(38,50)(39,49)(40,48)(41,47)(42,46)(43,45)(88,133)(89,132)(90,131)(91,130)(92,129)(93,128)(94,127)(95,126)(96,125)(97,124)(98,123)(99,122)(100,121)(101,120)(102,119)(103,118)(104,117)(105,116)(106,115)(107,114)(108,113)(109,112)(110,111)$$"
      ],
      "text/plain": [
       "\\tau \\times \\sigma^{46}= (1,87)(2,86)(3,85)(4,84)(5,83)(6,82)(7,81)(8,80)(9,79)(10,78)(11,77)(12,76)(13,75)(14,74)(15,73)(16,72)(17,71)(18,70)(19,69)(20,68)(21,67)(22,66)(23,65)(24,64)(25,63)(26,62)(27,61)(28,60)(29,59)(30,58)(31,57)(32,56)(33,55)(34,54)(35,53)(36,52)(37,51)(38,50)(39,49)(40,48)(41,47)(42,46)(43,45)(88,133)(89,132)(90,131)(91,130)(92,129)(93,128)(94,127)(95,126)(96,125)(97,124)(98,123)(99,122)(100,121)(101,120)(102,119)(103,118)(104,117)(105,116)(106,115)(107,114)(108,113)(109,112)(110,111)"
      ]
     },
     "metadata": {},
     "output_type": "display_data"
    },
    {
     "data": {
      "text/html": [
       "<html><script type=\"math/tex; mode=display\">\\newcommand{\\Bold}[1]{\\mathbf{#1}}\\tau \\times \\sigma^{47}= (1,86)(2,85)(3,84)(4,83)(5,82)(6,81)(7,80)(8,79)(9,78)(10,77)(11,76)(12,75)(13,74)(14,73)(15,72)(16,71)(17,70)(18,69)(19,68)(20,67)(21,66)(22,65)(23,64)(24,63)(25,62)(26,61)(27,60)(28,59)(29,58)(30,57)(31,56)(32,55)(33,54)(34,53)(35,52)(36,51)(37,50)(38,49)(39,48)(40,47)(41,46)(42,45)(43,44)(87,133)(88,132)(89,131)(90,130)(91,129)(92,128)(93,127)(94,126)(95,125)(96,124)(97,123)(98,122)(99,121)(100,120)(101,119)(102,118)(103,117)(104,116)(105,115)(106,114)(107,113)(108,112)(109,111)</script></html>"
      ],
      "text/latex": [
       "$$\\newcommand{\\Bold}[1]{\\mathbf{#1}}\\tau \\times \\sigma^{47}= (1,86)(2,85)(3,84)(4,83)(5,82)(6,81)(7,80)(8,79)(9,78)(10,77)(11,76)(12,75)(13,74)(14,73)(15,72)(16,71)(17,70)(18,69)(19,68)(20,67)(21,66)(22,65)(23,64)(24,63)(25,62)(26,61)(27,60)(28,59)(29,58)(30,57)(31,56)(32,55)(33,54)(34,53)(35,52)(36,51)(37,50)(38,49)(39,48)(40,47)(41,46)(42,45)(43,44)(87,133)(88,132)(89,131)(90,130)(91,129)(92,128)(93,127)(94,126)(95,125)(96,124)(97,123)(98,122)(99,121)(100,120)(101,119)(102,118)(103,117)(104,116)(105,115)(106,114)(107,113)(108,112)(109,111)$$"
      ],
      "text/plain": [
       "\\tau \\times \\sigma^{47}= (1,86)(2,85)(3,84)(4,83)(5,82)(6,81)(7,80)(8,79)(9,78)(10,77)(11,76)(12,75)(13,74)(14,73)(15,72)(16,71)(17,70)(18,69)(19,68)(20,67)(21,66)(22,65)(23,64)(24,63)(25,62)(26,61)(27,60)(28,59)(29,58)(30,57)(31,56)(32,55)(33,54)(34,53)(35,52)(36,51)(37,50)(38,49)(39,48)(40,47)(41,46)(42,45)(43,44)(87,133)(88,132)(89,131)(90,130)(91,129)(92,128)(93,127)(94,126)(95,125)(96,124)(97,123)(98,122)(99,121)(100,120)(101,119)(102,118)(103,117)(104,116)(105,115)(106,114)(107,113)(108,112)(109,111)"
      ]
     },
     "metadata": {},
     "output_type": "display_data"
    },
    {
     "data": {
      "text/html": [
       "<html><script type=\"math/tex; mode=display\">\\newcommand{\\Bold}[1]{\\mathbf{#1}}\\tau \\times \\sigma^{48}= (1,85)(2,84)(3,83)(4,82)(5,81)(6,80)(7,79)(8,78)(9,77)(10,76)(11,75)(12,74)(13,73)(14,72)(15,71)(16,70)(17,69)(18,68)(19,67)(20,66)(21,65)(22,64)(23,63)(24,62)(25,61)(26,60)(27,59)(28,58)(29,57)(30,56)(31,55)(32,54)(33,53)(34,52)(35,51)(36,50)(37,49)(38,48)(39,47)(40,46)(41,45)(42,44)(86,133)(87,132)(88,131)(89,130)(90,129)(91,128)(92,127)(93,126)(94,125)(95,124)(96,123)(97,122)(98,121)(99,120)(100,119)(101,118)(102,117)(103,116)(104,115)(105,114)(106,113)(107,112)(108,111)(109,110)</script></html>"
      ],
      "text/latex": [
       "$$\\newcommand{\\Bold}[1]{\\mathbf{#1}}\\tau \\times \\sigma^{48}= (1,85)(2,84)(3,83)(4,82)(5,81)(6,80)(7,79)(8,78)(9,77)(10,76)(11,75)(12,74)(13,73)(14,72)(15,71)(16,70)(17,69)(18,68)(19,67)(20,66)(21,65)(22,64)(23,63)(24,62)(25,61)(26,60)(27,59)(28,58)(29,57)(30,56)(31,55)(32,54)(33,53)(34,52)(35,51)(36,50)(37,49)(38,48)(39,47)(40,46)(41,45)(42,44)(86,133)(87,132)(88,131)(89,130)(90,129)(91,128)(92,127)(93,126)(94,125)(95,124)(96,123)(97,122)(98,121)(99,120)(100,119)(101,118)(102,117)(103,116)(104,115)(105,114)(106,113)(107,112)(108,111)(109,110)$$"
      ],
      "text/plain": [
       "\\tau \\times \\sigma^{48}= (1,85)(2,84)(3,83)(4,82)(5,81)(6,80)(7,79)(8,78)(9,77)(10,76)(11,75)(12,74)(13,73)(14,72)(15,71)(16,70)(17,69)(18,68)(19,67)(20,66)(21,65)(22,64)(23,63)(24,62)(25,61)(26,60)(27,59)(28,58)(29,57)(30,56)(31,55)(32,54)(33,53)(34,52)(35,51)(36,50)(37,49)(38,48)(39,47)(40,46)(41,45)(42,44)(86,133)(87,132)(88,131)(89,130)(90,129)(91,128)(92,127)(93,126)(94,125)(95,124)(96,123)(97,122)(98,121)(99,120)(100,119)(101,118)(102,117)(103,116)(104,115)(105,114)(106,113)(107,112)(108,111)(109,110)"
      ]
     },
     "metadata": {},
     "output_type": "display_data"
    },
    {
     "data": {
      "text/html": [
       "<html><script type=\"math/tex; mode=display\">\\newcommand{\\Bold}[1]{\\mathbf{#1}}\\tau \\times \\sigma^{49}= (1,84)(2,83)(3,82)(4,81)(5,80)(6,79)(7,78)(8,77)(9,76)(10,75)(11,74)(12,73)(13,72)(14,71)(15,70)(16,69)(17,68)(18,67)(19,66)(20,65)(21,64)(22,63)(23,62)(24,61)(25,60)(26,59)(27,58)(28,57)(29,56)(30,55)(31,54)(32,53)(33,52)(34,51)(35,50)(36,49)(37,48)(38,47)(39,46)(40,45)(41,44)(42,43)(85,133)(86,132)(87,131)(88,130)(89,129)(90,128)(91,127)(92,126)(93,125)(94,124)(95,123)(96,122)(97,121)(98,120)(99,119)(100,118)(101,117)(102,116)(103,115)(104,114)(105,113)(106,112)(107,111)(108,110)</script></html>"
      ],
      "text/latex": [
       "$$\\newcommand{\\Bold}[1]{\\mathbf{#1}}\\tau \\times \\sigma^{49}= (1,84)(2,83)(3,82)(4,81)(5,80)(6,79)(7,78)(8,77)(9,76)(10,75)(11,74)(12,73)(13,72)(14,71)(15,70)(16,69)(17,68)(18,67)(19,66)(20,65)(21,64)(22,63)(23,62)(24,61)(25,60)(26,59)(27,58)(28,57)(29,56)(30,55)(31,54)(32,53)(33,52)(34,51)(35,50)(36,49)(37,48)(38,47)(39,46)(40,45)(41,44)(42,43)(85,133)(86,132)(87,131)(88,130)(89,129)(90,128)(91,127)(92,126)(93,125)(94,124)(95,123)(96,122)(97,121)(98,120)(99,119)(100,118)(101,117)(102,116)(103,115)(104,114)(105,113)(106,112)(107,111)(108,110)$$"
      ],
      "text/plain": [
       "\\tau \\times \\sigma^{49}= (1,84)(2,83)(3,82)(4,81)(5,80)(6,79)(7,78)(8,77)(9,76)(10,75)(11,74)(12,73)(13,72)(14,71)(15,70)(16,69)(17,68)(18,67)(19,66)(20,65)(21,64)(22,63)(23,62)(24,61)(25,60)(26,59)(27,58)(28,57)(29,56)(30,55)(31,54)(32,53)(33,52)(34,51)(35,50)(36,49)(37,48)(38,47)(39,46)(40,45)(41,44)(42,43)(85,133)(86,132)(87,131)(88,130)(89,129)(90,128)(91,127)(92,126)(93,125)(94,124)(95,123)(96,122)(97,121)(98,120)(99,119)(100,118)(101,117)(102,116)(103,115)(104,114)(105,113)(106,112)(107,111)(108,110)"
      ]
     },
     "metadata": {},
     "output_type": "display_data"
    },
    {
     "data": {
      "text/html": [
       "<html><script type=\"math/tex; mode=display\">\\newcommand{\\Bold}[1]{\\mathbf{#1}}\\tau \\times \\sigma^{50}= (1,83)(2,82)(3,81)(4,80)(5,79)(6,78)(7,77)(8,76)(9,75)(10,74)(11,73)(12,72)(13,71)(14,70)(15,69)(16,68)(17,67)(18,66)(19,65)(20,64)(21,63)(22,62)(23,61)(24,60)(25,59)(26,58)(27,57)(28,56)(29,55)(30,54)(31,53)(32,52)(33,51)(34,50)(35,49)(36,48)(37,47)(38,46)(39,45)(40,44)(41,43)(84,133)(85,132)(86,131)(87,130)(88,129)(89,128)(90,127)(91,126)(92,125)(93,124)(94,123)(95,122)(96,121)(97,120)(98,119)(99,118)(100,117)(101,116)(102,115)(103,114)(104,113)(105,112)(106,111)(107,110)(108,109)</script></html>"
      ],
      "text/latex": [
       "$$\\newcommand{\\Bold}[1]{\\mathbf{#1}}\\tau \\times \\sigma^{50}= (1,83)(2,82)(3,81)(4,80)(5,79)(6,78)(7,77)(8,76)(9,75)(10,74)(11,73)(12,72)(13,71)(14,70)(15,69)(16,68)(17,67)(18,66)(19,65)(20,64)(21,63)(22,62)(23,61)(24,60)(25,59)(26,58)(27,57)(28,56)(29,55)(30,54)(31,53)(32,52)(33,51)(34,50)(35,49)(36,48)(37,47)(38,46)(39,45)(40,44)(41,43)(84,133)(85,132)(86,131)(87,130)(88,129)(89,128)(90,127)(91,126)(92,125)(93,124)(94,123)(95,122)(96,121)(97,120)(98,119)(99,118)(100,117)(101,116)(102,115)(103,114)(104,113)(105,112)(106,111)(107,110)(108,109)$$"
      ],
      "text/plain": [
       "\\tau \\times \\sigma^{50}= (1,83)(2,82)(3,81)(4,80)(5,79)(6,78)(7,77)(8,76)(9,75)(10,74)(11,73)(12,72)(13,71)(14,70)(15,69)(16,68)(17,67)(18,66)(19,65)(20,64)(21,63)(22,62)(23,61)(24,60)(25,59)(26,58)(27,57)(28,56)(29,55)(30,54)(31,53)(32,52)(33,51)(34,50)(35,49)(36,48)(37,47)(38,46)(39,45)(40,44)(41,43)(84,133)(85,132)(86,131)(87,130)(88,129)(89,128)(90,127)(91,126)(92,125)(93,124)(94,123)(95,122)(96,121)(97,120)(98,119)(99,118)(100,117)(101,116)(102,115)(103,114)(104,113)(105,112)(106,111)(107,110)(108,109)"
      ]
     },
     "metadata": {},
     "output_type": "display_data"
    },
    {
     "data": {
      "text/html": [
       "<html><script type=\"math/tex; mode=display\">\\newcommand{\\Bold}[1]{\\mathbf{#1}}\\tau \\times \\sigma^{51}= (1,82)(2,81)(3,80)(4,79)(5,78)(6,77)(7,76)(8,75)(9,74)(10,73)(11,72)(12,71)(13,70)(14,69)(15,68)(16,67)(17,66)(18,65)(19,64)(20,63)(21,62)(22,61)(23,60)(24,59)(25,58)(26,57)(27,56)(28,55)(29,54)(30,53)(31,52)(32,51)(33,50)(34,49)(35,48)(36,47)(37,46)(38,45)(39,44)(40,43)(41,42)(83,133)(84,132)(85,131)(86,130)(87,129)(88,128)(89,127)(90,126)(91,125)(92,124)(93,123)(94,122)(95,121)(96,120)(97,119)(98,118)(99,117)(100,116)(101,115)(102,114)(103,113)(104,112)(105,111)(106,110)(107,109)</script></html>"
      ],
      "text/latex": [
       "$$\\newcommand{\\Bold}[1]{\\mathbf{#1}}\\tau \\times \\sigma^{51}= (1,82)(2,81)(3,80)(4,79)(5,78)(6,77)(7,76)(8,75)(9,74)(10,73)(11,72)(12,71)(13,70)(14,69)(15,68)(16,67)(17,66)(18,65)(19,64)(20,63)(21,62)(22,61)(23,60)(24,59)(25,58)(26,57)(27,56)(28,55)(29,54)(30,53)(31,52)(32,51)(33,50)(34,49)(35,48)(36,47)(37,46)(38,45)(39,44)(40,43)(41,42)(83,133)(84,132)(85,131)(86,130)(87,129)(88,128)(89,127)(90,126)(91,125)(92,124)(93,123)(94,122)(95,121)(96,120)(97,119)(98,118)(99,117)(100,116)(101,115)(102,114)(103,113)(104,112)(105,111)(106,110)(107,109)$$"
      ],
      "text/plain": [
       "\\tau \\times \\sigma^{51}= (1,82)(2,81)(3,80)(4,79)(5,78)(6,77)(7,76)(8,75)(9,74)(10,73)(11,72)(12,71)(13,70)(14,69)(15,68)(16,67)(17,66)(18,65)(19,64)(20,63)(21,62)(22,61)(23,60)(24,59)(25,58)(26,57)(27,56)(28,55)(29,54)(30,53)(31,52)(32,51)(33,50)(34,49)(35,48)(36,47)(37,46)(38,45)(39,44)(40,43)(41,42)(83,133)(84,132)(85,131)(86,130)(87,129)(88,128)(89,127)(90,126)(91,125)(92,124)(93,123)(94,122)(95,121)(96,120)(97,119)(98,118)(99,117)(100,116)(101,115)(102,114)(103,113)(104,112)(105,111)(106,110)(107,109)"
      ]
     },
     "metadata": {},
     "output_type": "display_data"
    },
    {
     "data": {
      "text/html": [
       "<html><script type=\"math/tex; mode=display\">\\newcommand{\\Bold}[1]{\\mathbf{#1}}\\tau \\times \\sigma^{52}= (1,81)(2,80)(3,79)(4,78)(5,77)(6,76)(7,75)(8,74)(9,73)(10,72)(11,71)(12,70)(13,69)(14,68)(15,67)(16,66)(17,65)(18,64)(19,63)(20,62)(21,61)(22,60)(23,59)(24,58)(25,57)(26,56)(27,55)(28,54)(29,53)(30,52)(31,51)(32,50)(33,49)(34,48)(35,47)(36,46)(37,45)(38,44)(39,43)(40,42)(82,133)(83,132)(84,131)(85,130)(86,129)(87,128)(88,127)(89,126)(90,125)(91,124)(92,123)(93,122)(94,121)(95,120)(96,119)(97,118)(98,117)(99,116)(100,115)(101,114)(102,113)(103,112)(104,111)(105,110)(106,109)(107,108)</script></html>"
      ],
      "text/latex": [
       "$$\\newcommand{\\Bold}[1]{\\mathbf{#1}}\\tau \\times \\sigma^{52}= (1,81)(2,80)(3,79)(4,78)(5,77)(6,76)(7,75)(8,74)(9,73)(10,72)(11,71)(12,70)(13,69)(14,68)(15,67)(16,66)(17,65)(18,64)(19,63)(20,62)(21,61)(22,60)(23,59)(24,58)(25,57)(26,56)(27,55)(28,54)(29,53)(30,52)(31,51)(32,50)(33,49)(34,48)(35,47)(36,46)(37,45)(38,44)(39,43)(40,42)(82,133)(83,132)(84,131)(85,130)(86,129)(87,128)(88,127)(89,126)(90,125)(91,124)(92,123)(93,122)(94,121)(95,120)(96,119)(97,118)(98,117)(99,116)(100,115)(101,114)(102,113)(103,112)(104,111)(105,110)(106,109)(107,108)$$"
      ],
      "text/plain": [
       "\\tau \\times \\sigma^{52}= (1,81)(2,80)(3,79)(4,78)(5,77)(6,76)(7,75)(8,74)(9,73)(10,72)(11,71)(12,70)(13,69)(14,68)(15,67)(16,66)(17,65)(18,64)(19,63)(20,62)(21,61)(22,60)(23,59)(24,58)(25,57)(26,56)(27,55)(28,54)(29,53)(30,52)(31,51)(32,50)(33,49)(34,48)(35,47)(36,46)(37,45)(38,44)(39,43)(40,42)(82,133)(83,132)(84,131)(85,130)(86,129)(87,128)(88,127)(89,126)(90,125)(91,124)(92,123)(93,122)(94,121)(95,120)(96,119)(97,118)(98,117)(99,116)(100,115)(101,114)(102,113)(103,112)(104,111)(105,110)(106,109)(107,108)"
      ]
     },
     "metadata": {},
     "output_type": "display_data"
    },
    {
     "data": {
      "text/html": [
       "<html><script type=\"math/tex; mode=display\">\\newcommand{\\Bold}[1]{\\mathbf{#1}}\\tau \\times \\sigma^{53}= (1,80)(2,79)(3,78)(4,77)(5,76)(6,75)(7,74)(8,73)(9,72)(10,71)(11,70)(12,69)(13,68)(14,67)(15,66)(16,65)(17,64)(18,63)(19,62)(20,61)(21,60)(22,59)(23,58)(24,57)(25,56)(26,55)(27,54)(28,53)(29,52)(30,51)(31,50)(32,49)(33,48)(34,47)(35,46)(36,45)(37,44)(38,43)(39,42)(40,41)(81,133)(82,132)(83,131)(84,130)(85,129)(86,128)(87,127)(88,126)(89,125)(90,124)(91,123)(92,122)(93,121)(94,120)(95,119)(96,118)(97,117)(98,116)(99,115)(100,114)(101,113)(102,112)(103,111)(104,110)(105,109)(106,108)</script></html>"
      ],
      "text/latex": [
       "$$\\newcommand{\\Bold}[1]{\\mathbf{#1}}\\tau \\times \\sigma^{53}= (1,80)(2,79)(3,78)(4,77)(5,76)(6,75)(7,74)(8,73)(9,72)(10,71)(11,70)(12,69)(13,68)(14,67)(15,66)(16,65)(17,64)(18,63)(19,62)(20,61)(21,60)(22,59)(23,58)(24,57)(25,56)(26,55)(27,54)(28,53)(29,52)(30,51)(31,50)(32,49)(33,48)(34,47)(35,46)(36,45)(37,44)(38,43)(39,42)(40,41)(81,133)(82,132)(83,131)(84,130)(85,129)(86,128)(87,127)(88,126)(89,125)(90,124)(91,123)(92,122)(93,121)(94,120)(95,119)(96,118)(97,117)(98,116)(99,115)(100,114)(101,113)(102,112)(103,111)(104,110)(105,109)(106,108)$$"
      ],
      "text/plain": [
       "\\tau \\times \\sigma^{53}= (1,80)(2,79)(3,78)(4,77)(5,76)(6,75)(7,74)(8,73)(9,72)(10,71)(11,70)(12,69)(13,68)(14,67)(15,66)(16,65)(17,64)(18,63)(19,62)(20,61)(21,60)(22,59)(23,58)(24,57)(25,56)(26,55)(27,54)(28,53)(29,52)(30,51)(31,50)(32,49)(33,48)(34,47)(35,46)(36,45)(37,44)(38,43)(39,42)(40,41)(81,133)(82,132)(83,131)(84,130)(85,129)(86,128)(87,127)(88,126)(89,125)(90,124)(91,123)(92,122)(93,121)(94,120)(95,119)(96,118)(97,117)(98,116)(99,115)(100,114)(101,113)(102,112)(103,111)(104,110)(105,109)(106,108)"
      ]
     },
     "metadata": {},
     "output_type": "display_data"
    },
    {
     "data": {
      "text/html": [
       "<html><script type=\"math/tex; mode=display\">\\newcommand{\\Bold}[1]{\\mathbf{#1}}\\tau \\times \\sigma^{54}= (1,79)(2,78)(3,77)(4,76)(5,75)(6,74)(7,73)(8,72)(9,71)(10,70)(11,69)(12,68)(13,67)(14,66)(15,65)(16,64)(17,63)(18,62)(19,61)(20,60)(21,59)(22,58)(23,57)(24,56)(25,55)(26,54)(27,53)(28,52)(29,51)(30,50)(31,49)(32,48)(33,47)(34,46)(35,45)(36,44)(37,43)(38,42)(39,41)(80,133)(81,132)(82,131)(83,130)(84,129)(85,128)(86,127)(87,126)(88,125)(89,124)(90,123)(91,122)(92,121)(93,120)(94,119)(95,118)(96,117)(97,116)(98,115)(99,114)(100,113)(101,112)(102,111)(103,110)(104,109)(105,108)(106,107)</script></html>"
      ],
      "text/latex": [
       "$$\\newcommand{\\Bold}[1]{\\mathbf{#1}}\\tau \\times \\sigma^{54}= (1,79)(2,78)(3,77)(4,76)(5,75)(6,74)(7,73)(8,72)(9,71)(10,70)(11,69)(12,68)(13,67)(14,66)(15,65)(16,64)(17,63)(18,62)(19,61)(20,60)(21,59)(22,58)(23,57)(24,56)(25,55)(26,54)(27,53)(28,52)(29,51)(30,50)(31,49)(32,48)(33,47)(34,46)(35,45)(36,44)(37,43)(38,42)(39,41)(80,133)(81,132)(82,131)(83,130)(84,129)(85,128)(86,127)(87,126)(88,125)(89,124)(90,123)(91,122)(92,121)(93,120)(94,119)(95,118)(96,117)(97,116)(98,115)(99,114)(100,113)(101,112)(102,111)(103,110)(104,109)(105,108)(106,107)$$"
      ],
      "text/plain": [
       "\\tau \\times \\sigma^{54}= (1,79)(2,78)(3,77)(4,76)(5,75)(6,74)(7,73)(8,72)(9,71)(10,70)(11,69)(12,68)(13,67)(14,66)(15,65)(16,64)(17,63)(18,62)(19,61)(20,60)(21,59)(22,58)(23,57)(24,56)(25,55)(26,54)(27,53)(28,52)(29,51)(30,50)(31,49)(32,48)(33,47)(34,46)(35,45)(36,44)(37,43)(38,42)(39,41)(80,133)(81,132)(82,131)(83,130)(84,129)(85,128)(86,127)(87,126)(88,125)(89,124)(90,123)(91,122)(92,121)(93,120)(94,119)(95,118)(96,117)(97,116)(98,115)(99,114)(100,113)(101,112)(102,111)(103,110)(104,109)(105,108)(106,107)"
      ]
     },
     "metadata": {},
     "output_type": "display_data"
    },
    {
     "data": {
      "text/html": [
       "<html><script type=\"math/tex; mode=display\">\\newcommand{\\Bold}[1]{\\mathbf{#1}}\\tau \\times \\sigma^{55}= (1,78)(2,77)(3,76)(4,75)(5,74)(6,73)(7,72)(8,71)(9,70)(10,69)(11,68)(12,67)(13,66)(14,65)(15,64)(16,63)(17,62)(18,61)(19,60)(20,59)(21,58)(22,57)(23,56)(24,55)(25,54)(26,53)(27,52)(28,51)(29,50)(30,49)(31,48)(32,47)(33,46)(34,45)(35,44)(36,43)(37,42)(38,41)(39,40)(79,133)(80,132)(81,131)(82,130)(83,129)(84,128)(85,127)(86,126)(87,125)(88,124)(89,123)(90,122)(91,121)(92,120)(93,119)(94,118)(95,117)(96,116)(97,115)(98,114)(99,113)(100,112)(101,111)(102,110)(103,109)(104,108)(105,107)</script></html>"
      ],
      "text/latex": [
       "$$\\newcommand{\\Bold}[1]{\\mathbf{#1}}\\tau \\times \\sigma^{55}= (1,78)(2,77)(3,76)(4,75)(5,74)(6,73)(7,72)(8,71)(9,70)(10,69)(11,68)(12,67)(13,66)(14,65)(15,64)(16,63)(17,62)(18,61)(19,60)(20,59)(21,58)(22,57)(23,56)(24,55)(25,54)(26,53)(27,52)(28,51)(29,50)(30,49)(31,48)(32,47)(33,46)(34,45)(35,44)(36,43)(37,42)(38,41)(39,40)(79,133)(80,132)(81,131)(82,130)(83,129)(84,128)(85,127)(86,126)(87,125)(88,124)(89,123)(90,122)(91,121)(92,120)(93,119)(94,118)(95,117)(96,116)(97,115)(98,114)(99,113)(100,112)(101,111)(102,110)(103,109)(104,108)(105,107)$$"
      ],
      "text/plain": [
       "\\tau \\times \\sigma^{55}= (1,78)(2,77)(3,76)(4,75)(5,74)(6,73)(7,72)(8,71)(9,70)(10,69)(11,68)(12,67)(13,66)(14,65)(15,64)(16,63)(17,62)(18,61)(19,60)(20,59)(21,58)(22,57)(23,56)(24,55)(25,54)(26,53)(27,52)(28,51)(29,50)(30,49)(31,48)(32,47)(33,46)(34,45)(35,44)(36,43)(37,42)(38,41)(39,40)(79,133)(80,132)(81,131)(82,130)(83,129)(84,128)(85,127)(86,126)(87,125)(88,124)(89,123)(90,122)(91,121)(92,120)(93,119)(94,118)(95,117)(96,116)(97,115)(98,114)(99,113)(100,112)(101,111)(102,110)(103,109)(104,108)(105,107)"
      ]
     },
     "metadata": {},
     "output_type": "display_data"
    },
    {
     "data": {
      "text/html": [
       "<html><script type=\"math/tex; mode=display\">\\newcommand{\\Bold}[1]{\\mathbf{#1}}\\tau \\times \\sigma^{56}= (1,77)(2,76)(3,75)(4,74)(5,73)(6,72)(7,71)(8,70)(9,69)(10,68)(11,67)(12,66)(13,65)(14,64)(15,63)(16,62)(17,61)(18,60)(19,59)(20,58)(21,57)(22,56)(23,55)(24,54)(25,53)(26,52)(27,51)(28,50)(29,49)(30,48)(31,47)(32,46)(33,45)(34,44)(35,43)(36,42)(37,41)(38,40)(78,133)(79,132)(80,131)(81,130)(82,129)(83,128)(84,127)(85,126)(86,125)(87,124)(88,123)(89,122)(90,121)(91,120)(92,119)(93,118)(94,117)(95,116)(96,115)(97,114)(98,113)(99,112)(100,111)(101,110)(102,109)(103,108)(104,107)(105,106)</script></html>"
      ],
      "text/latex": [
       "$$\\newcommand{\\Bold}[1]{\\mathbf{#1}}\\tau \\times \\sigma^{56}= (1,77)(2,76)(3,75)(4,74)(5,73)(6,72)(7,71)(8,70)(9,69)(10,68)(11,67)(12,66)(13,65)(14,64)(15,63)(16,62)(17,61)(18,60)(19,59)(20,58)(21,57)(22,56)(23,55)(24,54)(25,53)(26,52)(27,51)(28,50)(29,49)(30,48)(31,47)(32,46)(33,45)(34,44)(35,43)(36,42)(37,41)(38,40)(78,133)(79,132)(80,131)(81,130)(82,129)(83,128)(84,127)(85,126)(86,125)(87,124)(88,123)(89,122)(90,121)(91,120)(92,119)(93,118)(94,117)(95,116)(96,115)(97,114)(98,113)(99,112)(100,111)(101,110)(102,109)(103,108)(104,107)(105,106)$$"
      ],
      "text/plain": [
       "\\tau \\times \\sigma^{56}= (1,77)(2,76)(3,75)(4,74)(5,73)(6,72)(7,71)(8,70)(9,69)(10,68)(11,67)(12,66)(13,65)(14,64)(15,63)(16,62)(17,61)(18,60)(19,59)(20,58)(21,57)(22,56)(23,55)(24,54)(25,53)(26,52)(27,51)(28,50)(29,49)(30,48)(31,47)(32,46)(33,45)(34,44)(35,43)(36,42)(37,41)(38,40)(78,133)(79,132)(80,131)(81,130)(82,129)(83,128)(84,127)(85,126)(86,125)(87,124)(88,123)(89,122)(90,121)(91,120)(92,119)(93,118)(94,117)(95,116)(96,115)(97,114)(98,113)(99,112)(100,111)(101,110)(102,109)(103,108)(104,107)(105,106)"
      ]
     },
     "metadata": {},
     "output_type": "display_data"
    },
    {
     "data": {
      "text/html": [
       "<html><script type=\"math/tex; mode=display\">\\newcommand{\\Bold}[1]{\\mathbf{#1}}\\tau \\times \\sigma^{57}= (1,76)(2,75)(3,74)(4,73)(5,72)(6,71)(7,70)(8,69)(9,68)(10,67)(11,66)(12,65)(13,64)(14,63)(15,62)(16,61)(17,60)(18,59)(19,58)(20,57)(21,56)(22,55)(23,54)(24,53)(25,52)(26,51)(27,50)(28,49)(29,48)(30,47)(31,46)(32,45)(33,44)(34,43)(35,42)(36,41)(37,40)(38,39)(77,133)(78,132)(79,131)(80,130)(81,129)(82,128)(83,127)(84,126)(85,125)(86,124)(87,123)(88,122)(89,121)(90,120)(91,119)(92,118)(93,117)(94,116)(95,115)(96,114)(97,113)(98,112)(99,111)(100,110)(101,109)(102,108)(103,107)(104,106)</script></html>"
      ],
      "text/latex": [
       "$$\\newcommand{\\Bold}[1]{\\mathbf{#1}}\\tau \\times \\sigma^{57}= (1,76)(2,75)(3,74)(4,73)(5,72)(6,71)(7,70)(8,69)(9,68)(10,67)(11,66)(12,65)(13,64)(14,63)(15,62)(16,61)(17,60)(18,59)(19,58)(20,57)(21,56)(22,55)(23,54)(24,53)(25,52)(26,51)(27,50)(28,49)(29,48)(30,47)(31,46)(32,45)(33,44)(34,43)(35,42)(36,41)(37,40)(38,39)(77,133)(78,132)(79,131)(80,130)(81,129)(82,128)(83,127)(84,126)(85,125)(86,124)(87,123)(88,122)(89,121)(90,120)(91,119)(92,118)(93,117)(94,116)(95,115)(96,114)(97,113)(98,112)(99,111)(100,110)(101,109)(102,108)(103,107)(104,106)$$"
      ],
      "text/plain": [
       "\\tau \\times \\sigma^{57}= (1,76)(2,75)(3,74)(4,73)(5,72)(6,71)(7,70)(8,69)(9,68)(10,67)(11,66)(12,65)(13,64)(14,63)(15,62)(16,61)(17,60)(18,59)(19,58)(20,57)(21,56)(22,55)(23,54)(24,53)(25,52)(26,51)(27,50)(28,49)(29,48)(30,47)(31,46)(32,45)(33,44)(34,43)(35,42)(36,41)(37,40)(38,39)(77,133)(78,132)(79,131)(80,130)(81,129)(82,128)(83,127)(84,126)(85,125)(86,124)(87,123)(88,122)(89,121)(90,120)(91,119)(92,118)(93,117)(94,116)(95,115)(96,114)(97,113)(98,112)(99,111)(100,110)(101,109)(102,108)(103,107)(104,106)"
      ]
     },
     "metadata": {},
     "output_type": "display_data"
    },
    {
     "data": {
      "text/html": [
       "<html><script type=\"math/tex; mode=display\">\\newcommand{\\Bold}[1]{\\mathbf{#1}}\\tau \\times \\sigma^{58}= (1,75)(2,74)(3,73)(4,72)(5,71)(6,70)(7,69)(8,68)(9,67)(10,66)(11,65)(12,64)(13,63)(14,62)(15,61)(16,60)(17,59)(18,58)(19,57)(20,56)(21,55)(22,54)(23,53)(24,52)(25,51)(26,50)(27,49)(28,48)(29,47)(30,46)(31,45)(32,44)(33,43)(34,42)(35,41)(36,40)(37,39)(76,133)(77,132)(78,131)(79,130)(80,129)(81,128)(82,127)(83,126)(84,125)(85,124)(86,123)(87,122)(88,121)(89,120)(90,119)(91,118)(92,117)(93,116)(94,115)(95,114)(96,113)(97,112)(98,111)(99,110)(100,109)(101,108)(102,107)(103,106)(104,105)</script></html>"
      ],
      "text/latex": [
       "$$\\newcommand{\\Bold}[1]{\\mathbf{#1}}\\tau \\times \\sigma^{58}= (1,75)(2,74)(3,73)(4,72)(5,71)(6,70)(7,69)(8,68)(9,67)(10,66)(11,65)(12,64)(13,63)(14,62)(15,61)(16,60)(17,59)(18,58)(19,57)(20,56)(21,55)(22,54)(23,53)(24,52)(25,51)(26,50)(27,49)(28,48)(29,47)(30,46)(31,45)(32,44)(33,43)(34,42)(35,41)(36,40)(37,39)(76,133)(77,132)(78,131)(79,130)(80,129)(81,128)(82,127)(83,126)(84,125)(85,124)(86,123)(87,122)(88,121)(89,120)(90,119)(91,118)(92,117)(93,116)(94,115)(95,114)(96,113)(97,112)(98,111)(99,110)(100,109)(101,108)(102,107)(103,106)(104,105)$$"
      ],
      "text/plain": [
       "\\tau \\times \\sigma^{58}= (1,75)(2,74)(3,73)(4,72)(5,71)(6,70)(7,69)(8,68)(9,67)(10,66)(11,65)(12,64)(13,63)(14,62)(15,61)(16,60)(17,59)(18,58)(19,57)(20,56)(21,55)(22,54)(23,53)(24,52)(25,51)(26,50)(27,49)(28,48)(29,47)(30,46)(31,45)(32,44)(33,43)(34,42)(35,41)(36,40)(37,39)(76,133)(77,132)(78,131)(79,130)(80,129)(81,128)(82,127)(83,126)(84,125)(85,124)(86,123)(87,122)(88,121)(89,120)(90,119)(91,118)(92,117)(93,116)(94,115)(95,114)(96,113)(97,112)(98,111)(99,110)(100,109)(101,108)(102,107)(103,106)(104,105)"
      ]
     },
     "metadata": {},
     "output_type": "display_data"
    },
    {
     "data": {
      "text/html": [
       "<html><script type=\"math/tex; mode=display\">\\newcommand{\\Bold}[1]{\\mathbf{#1}}\\tau \\times \\sigma^{59}= (1,74)(2,73)(3,72)(4,71)(5,70)(6,69)(7,68)(8,67)(9,66)(10,65)(11,64)(12,63)(13,62)(14,61)(15,60)(16,59)(17,58)(18,57)(19,56)(20,55)(21,54)(22,53)(23,52)(24,51)(25,50)(26,49)(27,48)(28,47)(29,46)(30,45)(31,44)(32,43)(33,42)(34,41)(35,40)(36,39)(37,38)(75,133)(76,132)(77,131)(78,130)(79,129)(80,128)(81,127)(82,126)(83,125)(84,124)(85,123)(86,122)(87,121)(88,120)(89,119)(90,118)(91,117)(92,116)(93,115)(94,114)(95,113)(96,112)(97,111)(98,110)(99,109)(100,108)(101,107)(102,106)(103,105)</script></html>"
      ],
      "text/latex": [
       "$$\\newcommand{\\Bold}[1]{\\mathbf{#1}}\\tau \\times \\sigma^{59}= (1,74)(2,73)(3,72)(4,71)(5,70)(6,69)(7,68)(8,67)(9,66)(10,65)(11,64)(12,63)(13,62)(14,61)(15,60)(16,59)(17,58)(18,57)(19,56)(20,55)(21,54)(22,53)(23,52)(24,51)(25,50)(26,49)(27,48)(28,47)(29,46)(30,45)(31,44)(32,43)(33,42)(34,41)(35,40)(36,39)(37,38)(75,133)(76,132)(77,131)(78,130)(79,129)(80,128)(81,127)(82,126)(83,125)(84,124)(85,123)(86,122)(87,121)(88,120)(89,119)(90,118)(91,117)(92,116)(93,115)(94,114)(95,113)(96,112)(97,111)(98,110)(99,109)(100,108)(101,107)(102,106)(103,105)$$"
      ],
      "text/plain": [
       "\\tau \\times \\sigma^{59}= (1,74)(2,73)(3,72)(4,71)(5,70)(6,69)(7,68)(8,67)(9,66)(10,65)(11,64)(12,63)(13,62)(14,61)(15,60)(16,59)(17,58)(18,57)(19,56)(20,55)(21,54)(22,53)(23,52)(24,51)(25,50)(26,49)(27,48)(28,47)(29,46)(30,45)(31,44)(32,43)(33,42)(34,41)(35,40)(36,39)(37,38)(75,133)(76,132)(77,131)(78,130)(79,129)(80,128)(81,127)(82,126)(83,125)(84,124)(85,123)(86,122)(87,121)(88,120)(89,119)(90,118)(91,117)(92,116)(93,115)(94,114)(95,113)(96,112)(97,111)(98,110)(99,109)(100,108)(101,107)(102,106)(103,105)"
      ]
     },
     "metadata": {},
     "output_type": "display_data"
    },
    {
     "data": {
      "text/html": [
       "<html><script type=\"math/tex; mode=display\">\\newcommand{\\Bold}[1]{\\mathbf{#1}}\\tau \\times \\sigma^{60}= (1,73)(2,72)(3,71)(4,70)(5,69)(6,68)(7,67)(8,66)(9,65)(10,64)(11,63)(12,62)(13,61)(14,60)(15,59)(16,58)(17,57)(18,56)(19,55)(20,54)(21,53)(22,52)(23,51)(24,50)(25,49)(26,48)(27,47)(28,46)(29,45)(30,44)(31,43)(32,42)(33,41)(34,40)(35,39)(36,38)(74,133)(75,132)(76,131)(77,130)(78,129)(79,128)(80,127)(81,126)(82,125)(83,124)(84,123)(85,122)(86,121)(87,120)(88,119)(89,118)(90,117)(91,116)(92,115)(93,114)(94,113)(95,112)(96,111)(97,110)(98,109)(99,108)(100,107)(101,106)(102,105)(103,104)</script></html>"
      ],
      "text/latex": [
       "$$\\newcommand{\\Bold}[1]{\\mathbf{#1}}\\tau \\times \\sigma^{60}= (1,73)(2,72)(3,71)(4,70)(5,69)(6,68)(7,67)(8,66)(9,65)(10,64)(11,63)(12,62)(13,61)(14,60)(15,59)(16,58)(17,57)(18,56)(19,55)(20,54)(21,53)(22,52)(23,51)(24,50)(25,49)(26,48)(27,47)(28,46)(29,45)(30,44)(31,43)(32,42)(33,41)(34,40)(35,39)(36,38)(74,133)(75,132)(76,131)(77,130)(78,129)(79,128)(80,127)(81,126)(82,125)(83,124)(84,123)(85,122)(86,121)(87,120)(88,119)(89,118)(90,117)(91,116)(92,115)(93,114)(94,113)(95,112)(96,111)(97,110)(98,109)(99,108)(100,107)(101,106)(102,105)(103,104)$$"
      ],
      "text/plain": [
       "\\tau \\times \\sigma^{60}= (1,73)(2,72)(3,71)(4,70)(5,69)(6,68)(7,67)(8,66)(9,65)(10,64)(11,63)(12,62)(13,61)(14,60)(15,59)(16,58)(17,57)(18,56)(19,55)(20,54)(21,53)(22,52)(23,51)(24,50)(25,49)(26,48)(27,47)(28,46)(29,45)(30,44)(31,43)(32,42)(33,41)(34,40)(35,39)(36,38)(74,133)(75,132)(76,131)(77,130)(78,129)(79,128)(80,127)(81,126)(82,125)(83,124)(84,123)(85,122)(86,121)(87,120)(88,119)(89,118)(90,117)(91,116)(92,115)(93,114)(94,113)(95,112)(96,111)(97,110)(98,109)(99,108)(100,107)(101,106)(102,105)(103,104)"
      ]
     },
     "metadata": {},
     "output_type": "display_data"
    },
    {
     "data": {
      "text/html": [
       "<html><script type=\"math/tex; mode=display\">\\newcommand{\\Bold}[1]{\\mathbf{#1}}\\tau \\times \\sigma^{61}= (1,72)(2,71)(3,70)(4,69)(5,68)(6,67)(7,66)(8,65)(9,64)(10,63)(11,62)(12,61)(13,60)(14,59)(15,58)(16,57)(17,56)(18,55)(19,54)(20,53)(21,52)(22,51)(23,50)(24,49)(25,48)(26,47)(27,46)(28,45)(29,44)(30,43)(31,42)(32,41)(33,40)(34,39)(35,38)(36,37)(73,133)(74,132)(75,131)(76,130)(77,129)(78,128)(79,127)(80,126)(81,125)(82,124)(83,123)(84,122)(85,121)(86,120)(87,119)(88,118)(89,117)(90,116)(91,115)(92,114)(93,113)(94,112)(95,111)(96,110)(97,109)(98,108)(99,107)(100,106)(101,105)(102,104)</script></html>"
      ],
      "text/latex": [
       "$$\\newcommand{\\Bold}[1]{\\mathbf{#1}}\\tau \\times \\sigma^{61}= (1,72)(2,71)(3,70)(4,69)(5,68)(6,67)(7,66)(8,65)(9,64)(10,63)(11,62)(12,61)(13,60)(14,59)(15,58)(16,57)(17,56)(18,55)(19,54)(20,53)(21,52)(22,51)(23,50)(24,49)(25,48)(26,47)(27,46)(28,45)(29,44)(30,43)(31,42)(32,41)(33,40)(34,39)(35,38)(36,37)(73,133)(74,132)(75,131)(76,130)(77,129)(78,128)(79,127)(80,126)(81,125)(82,124)(83,123)(84,122)(85,121)(86,120)(87,119)(88,118)(89,117)(90,116)(91,115)(92,114)(93,113)(94,112)(95,111)(96,110)(97,109)(98,108)(99,107)(100,106)(101,105)(102,104)$$"
      ],
      "text/plain": [
       "\\tau \\times \\sigma^{61}= (1,72)(2,71)(3,70)(4,69)(5,68)(6,67)(7,66)(8,65)(9,64)(10,63)(11,62)(12,61)(13,60)(14,59)(15,58)(16,57)(17,56)(18,55)(19,54)(20,53)(21,52)(22,51)(23,50)(24,49)(25,48)(26,47)(27,46)(28,45)(29,44)(30,43)(31,42)(32,41)(33,40)(34,39)(35,38)(36,37)(73,133)(74,132)(75,131)(76,130)(77,129)(78,128)(79,127)(80,126)(81,125)(82,124)(83,123)(84,122)(85,121)(86,120)(87,119)(88,118)(89,117)(90,116)(91,115)(92,114)(93,113)(94,112)(95,111)(96,110)(97,109)(98,108)(99,107)(100,106)(101,105)(102,104)"
      ]
     },
     "metadata": {},
     "output_type": "display_data"
    },
    {
     "data": {
      "text/html": [
       "<html><script type=\"math/tex; mode=display\">\\newcommand{\\Bold}[1]{\\mathbf{#1}}\\tau \\times \\sigma^{62}= (1,71)(2,70)(3,69)(4,68)(5,67)(6,66)(7,65)(8,64)(9,63)(10,62)(11,61)(12,60)(13,59)(14,58)(15,57)(16,56)(17,55)(18,54)(19,53)(20,52)(21,51)(22,50)(23,49)(24,48)(25,47)(26,46)(27,45)(28,44)(29,43)(30,42)(31,41)(32,40)(33,39)(34,38)(35,37)(72,133)(73,132)(74,131)(75,130)(76,129)(77,128)(78,127)(79,126)(80,125)(81,124)(82,123)(83,122)(84,121)(85,120)(86,119)(87,118)(88,117)(89,116)(90,115)(91,114)(92,113)(93,112)(94,111)(95,110)(96,109)(97,108)(98,107)(99,106)(100,105)(101,104)(102,103)</script></html>"
      ],
      "text/latex": [
       "$$\\newcommand{\\Bold}[1]{\\mathbf{#1}}\\tau \\times \\sigma^{62}= (1,71)(2,70)(3,69)(4,68)(5,67)(6,66)(7,65)(8,64)(9,63)(10,62)(11,61)(12,60)(13,59)(14,58)(15,57)(16,56)(17,55)(18,54)(19,53)(20,52)(21,51)(22,50)(23,49)(24,48)(25,47)(26,46)(27,45)(28,44)(29,43)(30,42)(31,41)(32,40)(33,39)(34,38)(35,37)(72,133)(73,132)(74,131)(75,130)(76,129)(77,128)(78,127)(79,126)(80,125)(81,124)(82,123)(83,122)(84,121)(85,120)(86,119)(87,118)(88,117)(89,116)(90,115)(91,114)(92,113)(93,112)(94,111)(95,110)(96,109)(97,108)(98,107)(99,106)(100,105)(101,104)(102,103)$$"
      ],
      "text/plain": [
       "\\tau \\times \\sigma^{62}= (1,71)(2,70)(3,69)(4,68)(5,67)(6,66)(7,65)(8,64)(9,63)(10,62)(11,61)(12,60)(13,59)(14,58)(15,57)(16,56)(17,55)(18,54)(19,53)(20,52)(21,51)(22,50)(23,49)(24,48)(25,47)(26,46)(27,45)(28,44)(29,43)(30,42)(31,41)(32,40)(33,39)(34,38)(35,37)(72,133)(73,132)(74,131)(75,130)(76,129)(77,128)(78,127)(79,126)(80,125)(81,124)(82,123)(83,122)(84,121)(85,120)(86,119)(87,118)(88,117)(89,116)(90,115)(91,114)(92,113)(93,112)(94,111)(95,110)(96,109)(97,108)(98,107)(99,106)(100,105)(101,104)(102,103)"
      ]
     },
     "metadata": {},
     "output_type": "display_data"
    },
    {
     "data": {
      "text/html": [
       "<html><script type=\"math/tex; mode=display\">\\newcommand{\\Bold}[1]{\\mathbf{#1}}\\tau \\times \\sigma^{63}= (1,70)(2,69)(3,68)(4,67)(5,66)(6,65)(7,64)(8,63)(9,62)(10,61)(11,60)(12,59)(13,58)(14,57)(15,56)(16,55)(17,54)(18,53)(19,52)(20,51)(21,50)(22,49)(23,48)(24,47)(25,46)(26,45)(27,44)(28,43)(29,42)(30,41)(31,40)(32,39)(33,38)(34,37)(35,36)(71,133)(72,132)(73,131)(74,130)(75,129)(76,128)(77,127)(78,126)(79,125)(80,124)(81,123)(82,122)(83,121)(84,120)(85,119)(86,118)(87,117)(88,116)(89,115)(90,114)(91,113)(92,112)(93,111)(94,110)(95,109)(96,108)(97,107)(98,106)(99,105)(100,104)(101,103)</script></html>"
      ],
      "text/latex": [
       "$$\\newcommand{\\Bold}[1]{\\mathbf{#1}}\\tau \\times \\sigma^{63}= (1,70)(2,69)(3,68)(4,67)(5,66)(6,65)(7,64)(8,63)(9,62)(10,61)(11,60)(12,59)(13,58)(14,57)(15,56)(16,55)(17,54)(18,53)(19,52)(20,51)(21,50)(22,49)(23,48)(24,47)(25,46)(26,45)(27,44)(28,43)(29,42)(30,41)(31,40)(32,39)(33,38)(34,37)(35,36)(71,133)(72,132)(73,131)(74,130)(75,129)(76,128)(77,127)(78,126)(79,125)(80,124)(81,123)(82,122)(83,121)(84,120)(85,119)(86,118)(87,117)(88,116)(89,115)(90,114)(91,113)(92,112)(93,111)(94,110)(95,109)(96,108)(97,107)(98,106)(99,105)(100,104)(101,103)$$"
      ],
      "text/plain": [
       "\\tau \\times \\sigma^{63}= (1,70)(2,69)(3,68)(4,67)(5,66)(6,65)(7,64)(8,63)(9,62)(10,61)(11,60)(12,59)(13,58)(14,57)(15,56)(16,55)(17,54)(18,53)(19,52)(20,51)(21,50)(22,49)(23,48)(24,47)(25,46)(26,45)(27,44)(28,43)(29,42)(30,41)(31,40)(32,39)(33,38)(34,37)(35,36)(71,133)(72,132)(73,131)(74,130)(75,129)(76,128)(77,127)(78,126)(79,125)(80,124)(81,123)(82,122)(83,121)(84,120)(85,119)(86,118)(87,117)(88,116)(89,115)(90,114)(91,113)(92,112)(93,111)(94,110)(95,109)(96,108)(97,107)(98,106)(99,105)(100,104)(101,103)"
      ]
     },
     "metadata": {},
     "output_type": "display_data"
    },
    {
     "data": {
      "text/html": [
       "<html><script type=\"math/tex; mode=display\">\\newcommand{\\Bold}[1]{\\mathbf{#1}}\\tau \\times \\sigma^{64}= (1,69)(2,68)(3,67)(4,66)(5,65)(6,64)(7,63)(8,62)(9,61)(10,60)(11,59)(12,58)(13,57)(14,56)(15,55)(16,54)(17,53)(18,52)(19,51)(20,50)(21,49)(22,48)(23,47)(24,46)(25,45)(26,44)(27,43)(28,42)(29,41)(30,40)(31,39)(32,38)(33,37)(34,36)(70,133)(71,132)(72,131)(73,130)(74,129)(75,128)(76,127)(77,126)(78,125)(79,124)(80,123)(81,122)(82,121)(83,120)(84,119)(85,118)(86,117)(87,116)(88,115)(89,114)(90,113)(91,112)(92,111)(93,110)(94,109)(95,108)(96,107)(97,106)(98,105)(99,104)(100,103)(101,102)</script></html>"
      ],
      "text/latex": [
       "$$\\newcommand{\\Bold}[1]{\\mathbf{#1}}\\tau \\times \\sigma^{64}= (1,69)(2,68)(3,67)(4,66)(5,65)(6,64)(7,63)(8,62)(9,61)(10,60)(11,59)(12,58)(13,57)(14,56)(15,55)(16,54)(17,53)(18,52)(19,51)(20,50)(21,49)(22,48)(23,47)(24,46)(25,45)(26,44)(27,43)(28,42)(29,41)(30,40)(31,39)(32,38)(33,37)(34,36)(70,133)(71,132)(72,131)(73,130)(74,129)(75,128)(76,127)(77,126)(78,125)(79,124)(80,123)(81,122)(82,121)(83,120)(84,119)(85,118)(86,117)(87,116)(88,115)(89,114)(90,113)(91,112)(92,111)(93,110)(94,109)(95,108)(96,107)(97,106)(98,105)(99,104)(100,103)(101,102)$$"
      ],
      "text/plain": [
       "\\tau \\times \\sigma^{64}= (1,69)(2,68)(3,67)(4,66)(5,65)(6,64)(7,63)(8,62)(9,61)(10,60)(11,59)(12,58)(13,57)(14,56)(15,55)(16,54)(17,53)(18,52)(19,51)(20,50)(21,49)(22,48)(23,47)(24,46)(25,45)(26,44)(27,43)(28,42)(29,41)(30,40)(31,39)(32,38)(33,37)(34,36)(70,133)(71,132)(72,131)(73,130)(74,129)(75,128)(76,127)(77,126)(78,125)(79,124)(80,123)(81,122)(82,121)(83,120)(84,119)(85,118)(86,117)(87,116)(88,115)(89,114)(90,113)(91,112)(92,111)(93,110)(94,109)(95,108)(96,107)(97,106)(98,105)(99,104)(100,103)(101,102)"
      ]
     },
     "metadata": {},
     "output_type": "display_data"
    },
    {
     "data": {
      "text/html": [
       "<html><script type=\"math/tex; mode=display\">\\newcommand{\\Bold}[1]{\\mathbf{#1}}\\tau \\times \\sigma^{65}= (1,68)(2,67)(3,66)(4,65)(5,64)(6,63)(7,62)(8,61)(9,60)(10,59)(11,58)(12,57)(13,56)(14,55)(15,54)(16,53)(17,52)(18,51)(19,50)(20,49)(21,48)(22,47)(23,46)(24,45)(25,44)(26,43)(27,42)(28,41)(29,40)(30,39)(31,38)(32,37)(33,36)(34,35)(69,133)(70,132)(71,131)(72,130)(73,129)(74,128)(75,127)(76,126)(77,125)(78,124)(79,123)(80,122)(81,121)(82,120)(83,119)(84,118)(85,117)(86,116)(87,115)(88,114)(89,113)(90,112)(91,111)(92,110)(93,109)(94,108)(95,107)(96,106)(97,105)(98,104)(99,103)(100,102)</script></html>"
      ],
      "text/latex": [
       "$$\\newcommand{\\Bold}[1]{\\mathbf{#1}}\\tau \\times \\sigma^{65}= (1,68)(2,67)(3,66)(4,65)(5,64)(6,63)(7,62)(8,61)(9,60)(10,59)(11,58)(12,57)(13,56)(14,55)(15,54)(16,53)(17,52)(18,51)(19,50)(20,49)(21,48)(22,47)(23,46)(24,45)(25,44)(26,43)(27,42)(28,41)(29,40)(30,39)(31,38)(32,37)(33,36)(34,35)(69,133)(70,132)(71,131)(72,130)(73,129)(74,128)(75,127)(76,126)(77,125)(78,124)(79,123)(80,122)(81,121)(82,120)(83,119)(84,118)(85,117)(86,116)(87,115)(88,114)(89,113)(90,112)(91,111)(92,110)(93,109)(94,108)(95,107)(96,106)(97,105)(98,104)(99,103)(100,102)$$"
      ],
      "text/plain": [
       "\\tau \\times \\sigma^{65}= (1,68)(2,67)(3,66)(4,65)(5,64)(6,63)(7,62)(8,61)(9,60)(10,59)(11,58)(12,57)(13,56)(14,55)(15,54)(16,53)(17,52)(18,51)(19,50)(20,49)(21,48)(22,47)(23,46)(24,45)(25,44)(26,43)(27,42)(28,41)(29,40)(30,39)(31,38)(32,37)(33,36)(34,35)(69,133)(70,132)(71,131)(72,130)(73,129)(74,128)(75,127)(76,126)(77,125)(78,124)(79,123)(80,122)(81,121)(82,120)(83,119)(84,118)(85,117)(86,116)(87,115)(88,114)(89,113)(90,112)(91,111)(92,110)(93,109)(94,108)(95,107)(96,106)(97,105)(98,104)(99,103)(100,102)"
      ]
     },
     "metadata": {},
     "output_type": "display_data"
    },
    {
     "data": {
      "text/html": [
       "<html><script type=\"math/tex; mode=display\">\\newcommand{\\Bold}[1]{\\mathbf{#1}}\\tau \\times \\sigma^{66}= (1,67)(2,66)(3,65)(4,64)(5,63)(6,62)(7,61)(8,60)(9,59)(10,58)(11,57)(12,56)(13,55)(14,54)(15,53)(16,52)(17,51)(18,50)(19,49)(20,48)(21,47)(22,46)(23,45)(24,44)(25,43)(26,42)(27,41)(28,40)(29,39)(30,38)(31,37)(32,36)(33,35)(68,133)(69,132)(70,131)(71,130)(72,129)(73,128)(74,127)(75,126)(76,125)(77,124)(78,123)(79,122)(80,121)(81,120)(82,119)(83,118)(84,117)(85,116)(86,115)(87,114)(88,113)(89,112)(90,111)(91,110)(92,109)(93,108)(94,107)(95,106)(96,105)(97,104)(98,103)(99,102)(100,101)</script></html>"
      ],
      "text/latex": [
       "$$\\newcommand{\\Bold}[1]{\\mathbf{#1}}\\tau \\times \\sigma^{66}= (1,67)(2,66)(3,65)(4,64)(5,63)(6,62)(7,61)(8,60)(9,59)(10,58)(11,57)(12,56)(13,55)(14,54)(15,53)(16,52)(17,51)(18,50)(19,49)(20,48)(21,47)(22,46)(23,45)(24,44)(25,43)(26,42)(27,41)(28,40)(29,39)(30,38)(31,37)(32,36)(33,35)(68,133)(69,132)(70,131)(71,130)(72,129)(73,128)(74,127)(75,126)(76,125)(77,124)(78,123)(79,122)(80,121)(81,120)(82,119)(83,118)(84,117)(85,116)(86,115)(87,114)(88,113)(89,112)(90,111)(91,110)(92,109)(93,108)(94,107)(95,106)(96,105)(97,104)(98,103)(99,102)(100,101)$$"
      ],
      "text/plain": [
       "\\tau \\times \\sigma^{66}= (1,67)(2,66)(3,65)(4,64)(5,63)(6,62)(7,61)(8,60)(9,59)(10,58)(11,57)(12,56)(13,55)(14,54)(15,53)(16,52)(17,51)(18,50)(19,49)(20,48)(21,47)(22,46)(23,45)(24,44)(25,43)(26,42)(27,41)(28,40)(29,39)(30,38)(31,37)(32,36)(33,35)(68,133)(69,132)(70,131)(71,130)(72,129)(73,128)(74,127)(75,126)(76,125)(77,124)(78,123)(79,122)(80,121)(81,120)(82,119)(83,118)(84,117)(85,116)(86,115)(87,114)(88,113)(89,112)(90,111)(91,110)(92,109)(93,108)(94,107)(95,106)(96,105)(97,104)(98,103)(99,102)(100,101)"
      ]
     },
     "metadata": {},
     "output_type": "display_data"
    },
    {
     "data": {
      "text/html": [
       "<html><script type=\"math/tex; mode=display\">\\newcommand{\\Bold}[1]{\\mathbf{#1}}\\tau \\times \\sigma^{67}= (1,66)(2,65)(3,64)(4,63)(5,62)(6,61)(7,60)(8,59)(9,58)(10,57)(11,56)(12,55)(13,54)(14,53)(15,52)(16,51)(17,50)(18,49)(19,48)(20,47)(21,46)(22,45)(23,44)(24,43)(25,42)(26,41)(27,40)(28,39)(29,38)(30,37)(31,36)(32,35)(33,34)(67,133)(68,132)(69,131)(70,130)(71,129)(72,128)(73,127)(74,126)(75,125)(76,124)(77,123)(78,122)(79,121)(80,120)(81,119)(82,118)(83,117)(84,116)(85,115)(86,114)(87,113)(88,112)(89,111)(90,110)(91,109)(92,108)(93,107)(94,106)(95,105)(96,104)(97,103)(98,102)(99,101)</script></html>"
      ],
      "text/latex": [
       "$$\\newcommand{\\Bold}[1]{\\mathbf{#1}}\\tau \\times \\sigma^{67}= (1,66)(2,65)(3,64)(4,63)(5,62)(6,61)(7,60)(8,59)(9,58)(10,57)(11,56)(12,55)(13,54)(14,53)(15,52)(16,51)(17,50)(18,49)(19,48)(20,47)(21,46)(22,45)(23,44)(24,43)(25,42)(26,41)(27,40)(28,39)(29,38)(30,37)(31,36)(32,35)(33,34)(67,133)(68,132)(69,131)(70,130)(71,129)(72,128)(73,127)(74,126)(75,125)(76,124)(77,123)(78,122)(79,121)(80,120)(81,119)(82,118)(83,117)(84,116)(85,115)(86,114)(87,113)(88,112)(89,111)(90,110)(91,109)(92,108)(93,107)(94,106)(95,105)(96,104)(97,103)(98,102)(99,101)$$"
      ],
      "text/plain": [
       "\\tau \\times \\sigma^{67}= (1,66)(2,65)(3,64)(4,63)(5,62)(6,61)(7,60)(8,59)(9,58)(10,57)(11,56)(12,55)(13,54)(14,53)(15,52)(16,51)(17,50)(18,49)(19,48)(20,47)(21,46)(22,45)(23,44)(24,43)(25,42)(26,41)(27,40)(28,39)(29,38)(30,37)(31,36)(32,35)(33,34)(67,133)(68,132)(69,131)(70,130)(71,129)(72,128)(73,127)(74,126)(75,125)(76,124)(77,123)(78,122)(79,121)(80,120)(81,119)(82,118)(83,117)(84,116)(85,115)(86,114)(87,113)(88,112)(89,111)(90,110)(91,109)(92,108)(93,107)(94,106)(95,105)(96,104)(97,103)(98,102)(99,101)"
      ]
     },
     "metadata": {},
     "output_type": "display_data"
    },
    {
     "data": {
      "text/html": [
       "<html><script type=\"math/tex; mode=display\">\\newcommand{\\Bold}[1]{\\mathbf{#1}}\\tau \\times \\sigma^{68}= (1,65)(2,64)(3,63)(4,62)(5,61)(6,60)(7,59)(8,58)(9,57)(10,56)(11,55)(12,54)(13,53)(14,52)(15,51)(16,50)(17,49)(18,48)(19,47)(20,46)(21,45)(22,44)(23,43)(24,42)(25,41)(26,40)(27,39)(28,38)(29,37)(30,36)(31,35)(32,34)(66,133)(67,132)(68,131)(69,130)(70,129)(71,128)(72,127)(73,126)(74,125)(75,124)(76,123)(77,122)(78,121)(79,120)(80,119)(81,118)(82,117)(83,116)(84,115)(85,114)(86,113)(87,112)(88,111)(89,110)(90,109)(91,108)(92,107)(93,106)(94,105)(95,104)(96,103)(97,102)(98,101)(99,100)</script></html>"
      ],
      "text/latex": [
       "$$\\newcommand{\\Bold}[1]{\\mathbf{#1}}\\tau \\times \\sigma^{68}= (1,65)(2,64)(3,63)(4,62)(5,61)(6,60)(7,59)(8,58)(9,57)(10,56)(11,55)(12,54)(13,53)(14,52)(15,51)(16,50)(17,49)(18,48)(19,47)(20,46)(21,45)(22,44)(23,43)(24,42)(25,41)(26,40)(27,39)(28,38)(29,37)(30,36)(31,35)(32,34)(66,133)(67,132)(68,131)(69,130)(70,129)(71,128)(72,127)(73,126)(74,125)(75,124)(76,123)(77,122)(78,121)(79,120)(80,119)(81,118)(82,117)(83,116)(84,115)(85,114)(86,113)(87,112)(88,111)(89,110)(90,109)(91,108)(92,107)(93,106)(94,105)(95,104)(96,103)(97,102)(98,101)(99,100)$$"
      ],
      "text/plain": [
       "\\tau \\times \\sigma^{68}= (1,65)(2,64)(3,63)(4,62)(5,61)(6,60)(7,59)(8,58)(9,57)(10,56)(11,55)(12,54)(13,53)(14,52)(15,51)(16,50)(17,49)(18,48)(19,47)(20,46)(21,45)(22,44)(23,43)(24,42)(25,41)(26,40)(27,39)(28,38)(29,37)(30,36)(31,35)(32,34)(66,133)(67,132)(68,131)(69,130)(70,129)(71,128)(72,127)(73,126)(74,125)(75,124)(76,123)(77,122)(78,121)(79,120)(80,119)(81,118)(82,117)(83,116)(84,115)(85,114)(86,113)(87,112)(88,111)(89,110)(90,109)(91,108)(92,107)(93,106)(94,105)(95,104)(96,103)(97,102)(98,101)(99,100)"
      ]
     },
     "metadata": {},
     "output_type": "display_data"
    },
    {
     "data": {
      "text/html": [
       "<html><script type=\"math/tex; mode=display\">\\newcommand{\\Bold}[1]{\\mathbf{#1}}\\tau \\times \\sigma^{69}= (1,64)(2,63)(3,62)(4,61)(5,60)(6,59)(7,58)(8,57)(9,56)(10,55)(11,54)(12,53)(13,52)(14,51)(15,50)(16,49)(17,48)(18,47)(19,46)(20,45)(21,44)(22,43)(23,42)(24,41)(25,40)(26,39)(27,38)(28,37)(29,36)(30,35)(31,34)(32,33)(65,133)(66,132)(67,131)(68,130)(69,129)(70,128)(71,127)(72,126)(73,125)(74,124)(75,123)(76,122)(77,121)(78,120)(79,119)(80,118)(81,117)(82,116)(83,115)(84,114)(85,113)(86,112)(87,111)(88,110)(89,109)(90,108)(91,107)(92,106)(93,105)(94,104)(95,103)(96,102)(97,101)(98,100)</script></html>"
      ],
      "text/latex": [
       "$$\\newcommand{\\Bold}[1]{\\mathbf{#1}}\\tau \\times \\sigma^{69}= (1,64)(2,63)(3,62)(4,61)(5,60)(6,59)(7,58)(8,57)(9,56)(10,55)(11,54)(12,53)(13,52)(14,51)(15,50)(16,49)(17,48)(18,47)(19,46)(20,45)(21,44)(22,43)(23,42)(24,41)(25,40)(26,39)(27,38)(28,37)(29,36)(30,35)(31,34)(32,33)(65,133)(66,132)(67,131)(68,130)(69,129)(70,128)(71,127)(72,126)(73,125)(74,124)(75,123)(76,122)(77,121)(78,120)(79,119)(80,118)(81,117)(82,116)(83,115)(84,114)(85,113)(86,112)(87,111)(88,110)(89,109)(90,108)(91,107)(92,106)(93,105)(94,104)(95,103)(96,102)(97,101)(98,100)$$"
      ],
      "text/plain": [
       "\\tau \\times \\sigma^{69}= (1,64)(2,63)(3,62)(4,61)(5,60)(6,59)(7,58)(8,57)(9,56)(10,55)(11,54)(12,53)(13,52)(14,51)(15,50)(16,49)(17,48)(18,47)(19,46)(20,45)(21,44)(22,43)(23,42)(24,41)(25,40)(26,39)(27,38)(28,37)(29,36)(30,35)(31,34)(32,33)(65,133)(66,132)(67,131)(68,130)(69,129)(70,128)(71,127)(72,126)(73,125)(74,124)(75,123)(76,122)(77,121)(78,120)(79,119)(80,118)(81,117)(82,116)(83,115)(84,114)(85,113)(86,112)(87,111)(88,110)(89,109)(90,108)(91,107)(92,106)(93,105)(94,104)(95,103)(96,102)(97,101)(98,100)"
      ]
     },
     "metadata": {},
     "output_type": "display_data"
    },
    {
     "data": {
      "text/html": [
       "<html><script type=\"math/tex; mode=display\">\\newcommand{\\Bold}[1]{\\mathbf{#1}}\\tau \\times \\sigma^{70}= (1,63)(2,62)(3,61)(4,60)(5,59)(6,58)(7,57)(8,56)(9,55)(10,54)(11,53)(12,52)(13,51)(14,50)(15,49)(16,48)(17,47)(18,46)(19,45)(20,44)(21,43)(22,42)(23,41)(24,40)(25,39)(26,38)(27,37)(28,36)(29,35)(30,34)(31,33)(64,133)(65,132)(66,131)(67,130)(68,129)(69,128)(70,127)(71,126)(72,125)(73,124)(74,123)(75,122)(76,121)(77,120)(78,119)(79,118)(80,117)(81,116)(82,115)(83,114)(84,113)(85,112)(86,111)(87,110)(88,109)(89,108)(90,107)(91,106)(92,105)(93,104)(94,103)(95,102)(96,101)(97,100)(98,99)</script></html>"
      ],
      "text/latex": [
       "$$\\newcommand{\\Bold}[1]{\\mathbf{#1}}\\tau \\times \\sigma^{70}= (1,63)(2,62)(3,61)(4,60)(5,59)(6,58)(7,57)(8,56)(9,55)(10,54)(11,53)(12,52)(13,51)(14,50)(15,49)(16,48)(17,47)(18,46)(19,45)(20,44)(21,43)(22,42)(23,41)(24,40)(25,39)(26,38)(27,37)(28,36)(29,35)(30,34)(31,33)(64,133)(65,132)(66,131)(67,130)(68,129)(69,128)(70,127)(71,126)(72,125)(73,124)(74,123)(75,122)(76,121)(77,120)(78,119)(79,118)(80,117)(81,116)(82,115)(83,114)(84,113)(85,112)(86,111)(87,110)(88,109)(89,108)(90,107)(91,106)(92,105)(93,104)(94,103)(95,102)(96,101)(97,100)(98,99)$$"
      ],
      "text/plain": [
       "\\tau \\times \\sigma^{70}= (1,63)(2,62)(3,61)(4,60)(5,59)(6,58)(7,57)(8,56)(9,55)(10,54)(11,53)(12,52)(13,51)(14,50)(15,49)(16,48)(17,47)(18,46)(19,45)(20,44)(21,43)(22,42)(23,41)(24,40)(25,39)(26,38)(27,37)(28,36)(29,35)(30,34)(31,33)(64,133)(65,132)(66,131)(67,130)(68,129)(69,128)(70,127)(71,126)(72,125)(73,124)(74,123)(75,122)(76,121)(77,120)(78,119)(79,118)(80,117)(81,116)(82,115)(83,114)(84,113)(85,112)(86,111)(87,110)(88,109)(89,108)(90,107)(91,106)(92,105)(93,104)(94,103)(95,102)(96,101)(97,100)(98,99)"
      ]
     },
     "metadata": {},
     "output_type": "display_data"
    },
    {
     "data": {
      "text/html": [
       "<html><script type=\"math/tex; mode=display\">\\newcommand{\\Bold}[1]{\\mathbf{#1}}\\tau \\times \\sigma^{71}= (1,62)(2,61)(3,60)(4,59)(5,58)(6,57)(7,56)(8,55)(9,54)(10,53)(11,52)(12,51)(13,50)(14,49)(15,48)(16,47)(17,46)(18,45)(19,44)(20,43)(21,42)(22,41)(23,40)(24,39)(25,38)(26,37)(27,36)(28,35)(29,34)(30,33)(31,32)(63,133)(64,132)(65,131)(66,130)(67,129)(68,128)(69,127)(70,126)(71,125)(72,124)(73,123)(74,122)(75,121)(76,120)(77,119)(78,118)(79,117)(80,116)(81,115)(82,114)(83,113)(84,112)(85,111)(86,110)(87,109)(88,108)(89,107)(90,106)(91,105)(92,104)(93,103)(94,102)(95,101)(96,100)(97,99)</script></html>"
      ],
      "text/latex": [
       "$$\\newcommand{\\Bold}[1]{\\mathbf{#1}}\\tau \\times \\sigma^{71}= (1,62)(2,61)(3,60)(4,59)(5,58)(6,57)(7,56)(8,55)(9,54)(10,53)(11,52)(12,51)(13,50)(14,49)(15,48)(16,47)(17,46)(18,45)(19,44)(20,43)(21,42)(22,41)(23,40)(24,39)(25,38)(26,37)(27,36)(28,35)(29,34)(30,33)(31,32)(63,133)(64,132)(65,131)(66,130)(67,129)(68,128)(69,127)(70,126)(71,125)(72,124)(73,123)(74,122)(75,121)(76,120)(77,119)(78,118)(79,117)(80,116)(81,115)(82,114)(83,113)(84,112)(85,111)(86,110)(87,109)(88,108)(89,107)(90,106)(91,105)(92,104)(93,103)(94,102)(95,101)(96,100)(97,99)$$"
      ],
      "text/plain": [
       "\\tau \\times \\sigma^{71}= (1,62)(2,61)(3,60)(4,59)(5,58)(6,57)(7,56)(8,55)(9,54)(10,53)(11,52)(12,51)(13,50)(14,49)(15,48)(16,47)(17,46)(18,45)(19,44)(20,43)(21,42)(22,41)(23,40)(24,39)(25,38)(26,37)(27,36)(28,35)(29,34)(30,33)(31,32)(63,133)(64,132)(65,131)(66,130)(67,129)(68,128)(69,127)(70,126)(71,125)(72,124)(73,123)(74,122)(75,121)(76,120)(77,119)(78,118)(79,117)(80,116)(81,115)(82,114)(83,113)(84,112)(85,111)(86,110)(87,109)(88,108)(89,107)(90,106)(91,105)(92,104)(93,103)(94,102)(95,101)(96,100)(97,99)"
      ]
     },
     "metadata": {},
     "output_type": "display_data"
    },
    {
     "data": {
      "text/html": [
       "<html><script type=\"math/tex; mode=display\">\\newcommand{\\Bold}[1]{\\mathbf{#1}}\\tau \\times \\sigma^{72}= (1,61)(2,60)(3,59)(4,58)(5,57)(6,56)(7,55)(8,54)(9,53)(10,52)(11,51)(12,50)(13,49)(14,48)(15,47)(16,46)(17,45)(18,44)(19,43)(20,42)(21,41)(22,40)(23,39)(24,38)(25,37)(26,36)(27,35)(28,34)(29,33)(30,32)(62,133)(63,132)(64,131)(65,130)(66,129)(67,128)(68,127)(69,126)(70,125)(71,124)(72,123)(73,122)(74,121)(75,120)(76,119)(77,118)(78,117)(79,116)(80,115)(81,114)(82,113)(83,112)(84,111)(85,110)(86,109)(87,108)(88,107)(89,106)(90,105)(91,104)(92,103)(93,102)(94,101)(95,100)(96,99)(97,98)</script></html>"
      ],
      "text/latex": [
       "$$\\newcommand{\\Bold}[1]{\\mathbf{#1}}\\tau \\times \\sigma^{72}= (1,61)(2,60)(3,59)(4,58)(5,57)(6,56)(7,55)(8,54)(9,53)(10,52)(11,51)(12,50)(13,49)(14,48)(15,47)(16,46)(17,45)(18,44)(19,43)(20,42)(21,41)(22,40)(23,39)(24,38)(25,37)(26,36)(27,35)(28,34)(29,33)(30,32)(62,133)(63,132)(64,131)(65,130)(66,129)(67,128)(68,127)(69,126)(70,125)(71,124)(72,123)(73,122)(74,121)(75,120)(76,119)(77,118)(78,117)(79,116)(80,115)(81,114)(82,113)(83,112)(84,111)(85,110)(86,109)(87,108)(88,107)(89,106)(90,105)(91,104)(92,103)(93,102)(94,101)(95,100)(96,99)(97,98)$$"
      ],
      "text/plain": [
       "\\tau \\times \\sigma^{72}= (1,61)(2,60)(3,59)(4,58)(5,57)(6,56)(7,55)(8,54)(9,53)(10,52)(11,51)(12,50)(13,49)(14,48)(15,47)(16,46)(17,45)(18,44)(19,43)(20,42)(21,41)(22,40)(23,39)(24,38)(25,37)(26,36)(27,35)(28,34)(29,33)(30,32)(62,133)(63,132)(64,131)(65,130)(66,129)(67,128)(68,127)(69,126)(70,125)(71,124)(72,123)(73,122)(74,121)(75,120)(76,119)(77,118)(78,117)(79,116)(80,115)(81,114)(82,113)(83,112)(84,111)(85,110)(86,109)(87,108)(88,107)(89,106)(90,105)(91,104)(92,103)(93,102)(94,101)(95,100)(96,99)(97,98)"
      ]
     },
     "metadata": {},
     "output_type": "display_data"
    },
    {
     "data": {
      "text/html": [
       "<html><script type=\"math/tex; mode=display\">\\newcommand{\\Bold}[1]{\\mathbf{#1}}\\tau \\times \\sigma^{73}= (1,60)(2,59)(3,58)(4,57)(5,56)(6,55)(7,54)(8,53)(9,52)(10,51)(11,50)(12,49)(13,48)(14,47)(15,46)(16,45)(17,44)(18,43)(19,42)(20,41)(21,40)(22,39)(23,38)(24,37)(25,36)(26,35)(27,34)(28,33)(29,32)(30,31)(61,133)(62,132)(63,131)(64,130)(65,129)(66,128)(67,127)(68,126)(69,125)(70,124)(71,123)(72,122)(73,121)(74,120)(75,119)(76,118)(77,117)(78,116)(79,115)(80,114)(81,113)(82,112)(83,111)(84,110)(85,109)(86,108)(87,107)(88,106)(89,105)(90,104)(91,103)(92,102)(93,101)(94,100)(95,99)(96,98)</script></html>"
      ],
      "text/latex": [
       "$$\\newcommand{\\Bold}[1]{\\mathbf{#1}}\\tau \\times \\sigma^{73}= (1,60)(2,59)(3,58)(4,57)(5,56)(6,55)(7,54)(8,53)(9,52)(10,51)(11,50)(12,49)(13,48)(14,47)(15,46)(16,45)(17,44)(18,43)(19,42)(20,41)(21,40)(22,39)(23,38)(24,37)(25,36)(26,35)(27,34)(28,33)(29,32)(30,31)(61,133)(62,132)(63,131)(64,130)(65,129)(66,128)(67,127)(68,126)(69,125)(70,124)(71,123)(72,122)(73,121)(74,120)(75,119)(76,118)(77,117)(78,116)(79,115)(80,114)(81,113)(82,112)(83,111)(84,110)(85,109)(86,108)(87,107)(88,106)(89,105)(90,104)(91,103)(92,102)(93,101)(94,100)(95,99)(96,98)$$"
      ],
      "text/plain": [
       "\\tau \\times \\sigma^{73}= (1,60)(2,59)(3,58)(4,57)(5,56)(6,55)(7,54)(8,53)(9,52)(10,51)(11,50)(12,49)(13,48)(14,47)(15,46)(16,45)(17,44)(18,43)(19,42)(20,41)(21,40)(22,39)(23,38)(24,37)(25,36)(26,35)(27,34)(28,33)(29,32)(30,31)(61,133)(62,132)(63,131)(64,130)(65,129)(66,128)(67,127)(68,126)(69,125)(70,124)(71,123)(72,122)(73,121)(74,120)(75,119)(76,118)(77,117)(78,116)(79,115)(80,114)(81,113)(82,112)(83,111)(84,110)(85,109)(86,108)(87,107)(88,106)(89,105)(90,104)(91,103)(92,102)(93,101)(94,100)(95,99)(96,98)"
      ]
     },
     "metadata": {},
     "output_type": "display_data"
    },
    {
     "data": {
      "text/html": [
       "<html><script type=\"math/tex; mode=display\">\\newcommand{\\Bold}[1]{\\mathbf{#1}}\\tau \\times \\sigma^{74}= (1,59)(2,58)(3,57)(4,56)(5,55)(6,54)(7,53)(8,52)(9,51)(10,50)(11,49)(12,48)(13,47)(14,46)(15,45)(16,44)(17,43)(18,42)(19,41)(20,40)(21,39)(22,38)(23,37)(24,36)(25,35)(26,34)(27,33)(28,32)(29,31)(60,133)(61,132)(62,131)(63,130)(64,129)(65,128)(66,127)(67,126)(68,125)(69,124)(70,123)(71,122)(72,121)(73,120)(74,119)(75,118)(76,117)(77,116)(78,115)(79,114)(80,113)(81,112)(82,111)(83,110)(84,109)(85,108)(86,107)(87,106)(88,105)(89,104)(90,103)(91,102)(92,101)(93,100)(94,99)(95,98)(96,97)</script></html>"
      ],
      "text/latex": [
       "$$\\newcommand{\\Bold}[1]{\\mathbf{#1}}\\tau \\times \\sigma^{74}= (1,59)(2,58)(3,57)(4,56)(5,55)(6,54)(7,53)(8,52)(9,51)(10,50)(11,49)(12,48)(13,47)(14,46)(15,45)(16,44)(17,43)(18,42)(19,41)(20,40)(21,39)(22,38)(23,37)(24,36)(25,35)(26,34)(27,33)(28,32)(29,31)(60,133)(61,132)(62,131)(63,130)(64,129)(65,128)(66,127)(67,126)(68,125)(69,124)(70,123)(71,122)(72,121)(73,120)(74,119)(75,118)(76,117)(77,116)(78,115)(79,114)(80,113)(81,112)(82,111)(83,110)(84,109)(85,108)(86,107)(87,106)(88,105)(89,104)(90,103)(91,102)(92,101)(93,100)(94,99)(95,98)(96,97)$$"
      ],
      "text/plain": [
       "\\tau \\times \\sigma^{74}= (1,59)(2,58)(3,57)(4,56)(5,55)(6,54)(7,53)(8,52)(9,51)(10,50)(11,49)(12,48)(13,47)(14,46)(15,45)(16,44)(17,43)(18,42)(19,41)(20,40)(21,39)(22,38)(23,37)(24,36)(25,35)(26,34)(27,33)(28,32)(29,31)(60,133)(61,132)(62,131)(63,130)(64,129)(65,128)(66,127)(67,126)(68,125)(69,124)(70,123)(71,122)(72,121)(73,120)(74,119)(75,118)(76,117)(77,116)(78,115)(79,114)(80,113)(81,112)(82,111)(83,110)(84,109)(85,108)(86,107)(87,106)(88,105)(89,104)(90,103)(91,102)(92,101)(93,100)(94,99)(95,98)(96,97)"
      ]
     },
     "metadata": {},
     "output_type": "display_data"
    },
    {
     "data": {
      "text/html": [
       "<html><script type=\"math/tex; mode=display\">\\newcommand{\\Bold}[1]{\\mathbf{#1}}\\tau \\times \\sigma^{75}= (1,58)(2,57)(3,56)(4,55)(5,54)(6,53)(7,52)(8,51)(9,50)(10,49)(11,48)(12,47)(13,46)(14,45)(15,44)(16,43)(17,42)(18,41)(19,40)(20,39)(21,38)(22,37)(23,36)(24,35)(25,34)(26,33)(27,32)(28,31)(29,30)(59,133)(60,132)(61,131)(62,130)(63,129)(64,128)(65,127)(66,126)(67,125)(68,124)(69,123)(70,122)(71,121)(72,120)(73,119)(74,118)(75,117)(76,116)(77,115)(78,114)(79,113)(80,112)(81,111)(82,110)(83,109)(84,108)(85,107)(86,106)(87,105)(88,104)(89,103)(90,102)(91,101)(92,100)(93,99)(94,98)(95,97)</script></html>"
      ],
      "text/latex": [
       "$$\\newcommand{\\Bold}[1]{\\mathbf{#1}}\\tau \\times \\sigma^{75}= (1,58)(2,57)(3,56)(4,55)(5,54)(6,53)(7,52)(8,51)(9,50)(10,49)(11,48)(12,47)(13,46)(14,45)(15,44)(16,43)(17,42)(18,41)(19,40)(20,39)(21,38)(22,37)(23,36)(24,35)(25,34)(26,33)(27,32)(28,31)(29,30)(59,133)(60,132)(61,131)(62,130)(63,129)(64,128)(65,127)(66,126)(67,125)(68,124)(69,123)(70,122)(71,121)(72,120)(73,119)(74,118)(75,117)(76,116)(77,115)(78,114)(79,113)(80,112)(81,111)(82,110)(83,109)(84,108)(85,107)(86,106)(87,105)(88,104)(89,103)(90,102)(91,101)(92,100)(93,99)(94,98)(95,97)$$"
      ],
      "text/plain": [
       "\\tau \\times \\sigma^{75}= (1,58)(2,57)(3,56)(4,55)(5,54)(6,53)(7,52)(8,51)(9,50)(10,49)(11,48)(12,47)(13,46)(14,45)(15,44)(16,43)(17,42)(18,41)(19,40)(20,39)(21,38)(22,37)(23,36)(24,35)(25,34)(26,33)(27,32)(28,31)(29,30)(59,133)(60,132)(61,131)(62,130)(63,129)(64,128)(65,127)(66,126)(67,125)(68,124)(69,123)(70,122)(71,121)(72,120)(73,119)(74,118)(75,117)(76,116)(77,115)(78,114)(79,113)(80,112)(81,111)(82,110)(83,109)(84,108)(85,107)(86,106)(87,105)(88,104)(89,103)(90,102)(91,101)(92,100)(93,99)(94,98)(95,97)"
      ]
     },
     "metadata": {},
     "output_type": "display_data"
    },
    {
     "data": {
      "text/html": [
       "<html><script type=\"math/tex; mode=display\">\\newcommand{\\Bold}[1]{\\mathbf{#1}}\\tau \\times \\sigma^{76}= (1,57)(2,56)(3,55)(4,54)(5,53)(6,52)(7,51)(8,50)(9,49)(10,48)(11,47)(12,46)(13,45)(14,44)(15,43)(16,42)(17,41)(18,40)(19,39)(20,38)(21,37)(22,36)(23,35)(24,34)(25,33)(26,32)(27,31)(28,30)(58,133)(59,132)(60,131)(61,130)(62,129)(63,128)(64,127)(65,126)(66,125)(67,124)(68,123)(69,122)(70,121)(71,120)(72,119)(73,118)(74,117)(75,116)(76,115)(77,114)(78,113)(79,112)(80,111)(81,110)(82,109)(83,108)(84,107)(85,106)(86,105)(87,104)(88,103)(89,102)(90,101)(91,100)(92,99)(93,98)(94,97)(95,96)</script></html>"
      ],
      "text/latex": [
       "$$\\newcommand{\\Bold}[1]{\\mathbf{#1}}\\tau \\times \\sigma^{76}= (1,57)(2,56)(3,55)(4,54)(5,53)(6,52)(7,51)(8,50)(9,49)(10,48)(11,47)(12,46)(13,45)(14,44)(15,43)(16,42)(17,41)(18,40)(19,39)(20,38)(21,37)(22,36)(23,35)(24,34)(25,33)(26,32)(27,31)(28,30)(58,133)(59,132)(60,131)(61,130)(62,129)(63,128)(64,127)(65,126)(66,125)(67,124)(68,123)(69,122)(70,121)(71,120)(72,119)(73,118)(74,117)(75,116)(76,115)(77,114)(78,113)(79,112)(80,111)(81,110)(82,109)(83,108)(84,107)(85,106)(86,105)(87,104)(88,103)(89,102)(90,101)(91,100)(92,99)(93,98)(94,97)(95,96)$$"
      ],
      "text/plain": [
       "\\tau \\times \\sigma^{76}= (1,57)(2,56)(3,55)(4,54)(5,53)(6,52)(7,51)(8,50)(9,49)(10,48)(11,47)(12,46)(13,45)(14,44)(15,43)(16,42)(17,41)(18,40)(19,39)(20,38)(21,37)(22,36)(23,35)(24,34)(25,33)(26,32)(27,31)(28,30)(58,133)(59,132)(60,131)(61,130)(62,129)(63,128)(64,127)(65,126)(66,125)(67,124)(68,123)(69,122)(70,121)(71,120)(72,119)(73,118)(74,117)(75,116)(76,115)(77,114)(78,113)(79,112)(80,111)(81,110)(82,109)(83,108)(84,107)(85,106)(86,105)(87,104)(88,103)(89,102)(90,101)(91,100)(92,99)(93,98)(94,97)(95,96)"
      ]
     },
     "metadata": {},
     "output_type": "display_data"
    },
    {
     "data": {
      "text/html": [
       "<html><script type=\"math/tex; mode=display\">\\newcommand{\\Bold}[1]{\\mathbf{#1}}\\tau \\times \\sigma^{77}= (1,56)(2,55)(3,54)(4,53)(5,52)(6,51)(7,50)(8,49)(9,48)(10,47)(11,46)(12,45)(13,44)(14,43)(15,42)(16,41)(17,40)(18,39)(19,38)(20,37)(21,36)(22,35)(23,34)(24,33)(25,32)(26,31)(27,30)(28,29)(57,133)(58,132)(59,131)(60,130)(61,129)(62,128)(63,127)(64,126)(65,125)(66,124)(67,123)(68,122)(69,121)(70,120)(71,119)(72,118)(73,117)(74,116)(75,115)(76,114)(77,113)(78,112)(79,111)(80,110)(81,109)(82,108)(83,107)(84,106)(85,105)(86,104)(87,103)(88,102)(89,101)(90,100)(91,99)(92,98)(93,97)(94,96)</script></html>"
      ],
      "text/latex": [
       "$$\\newcommand{\\Bold}[1]{\\mathbf{#1}}\\tau \\times \\sigma^{77}= (1,56)(2,55)(3,54)(4,53)(5,52)(6,51)(7,50)(8,49)(9,48)(10,47)(11,46)(12,45)(13,44)(14,43)(15,42)(16,41)(17,40)(18,39)(19,38)(20,37)(21,36)(22,35)(23,34)(24,33)(25,32)(26,31)(27,30)(28,29)(57,133)(58,132)(59,131)(60,130)(61,129)(62,128)(63,127)(64,126)(65,125)(66,124)(67,123)(68,122)(69,121)(70,120)(71,119)(72,118)(73,117)(74,116)(75,115)(76,114)(77,113)(78,112)(79,111)(80,110)(81,109)(82,108)(83,107)(84,106)(85,105)(86,104)(87,103)(88,102)(89,101)(90,100)(91,99)(92,98)(93,97)(94,96)$$"
      ],
      "text/plain": [
       "\\tau \\times \\sigma^{77}= (1,56)(2,55)(3,54)(4,53)(5,52)(6,51)(7,50)(8,49)(9,48)(10,47)(11,46)(12,45)(13,44)(14,43)(15,42)(16,41)(17,40)(18,39)(19,38)(20,37)(21,36)(22,35)(23,34)(24,33)(25,32)(26,31)(27,30)(28,29)(57,133)(58,132)(59,131)(60,130)(61,129)(62,128)(63,127)(64,126)(65,125)(66,124)(67,123)(68,122)(69,121)(70,120)(71,119)(72,118)(73,117)(74,116)(75,115)(76,114)(77,113)(78,112)(79,111)(80,110)(81,109)(82,108)(83,107)(84,106)(85,105)(86,104)(87,103)(88,102)(89,101)(90,100)(91,99)(92,98)(93,97)(94,96)"
      ]
     },
     "metadata": {},
     "output_type": "display_data"
    },
    {
     "data": {
      "text/html": [
       "<html><script type=\"math/tex; mode=display\">\\newcommand{\\Bold}[1]{\\mathbf{#1}}\\tau \\times \\sigma^{78}= (1,55)(2,54)(3,53)(4,52)(5,51)(6,50)(7,49)(8,48)(9,47)(10,46)(11,45)(12,44)(13,43)(14,42)(15,41)(16,40)(17,39)(18,38)(19,37)(20,36)(21,35)(22,34)(23,33)(24,32)(25,31)(26,30)(27,29)(56,133)(57,132)(58,131)(59,130)(60,129)(61,128)(62,127)(63,126)(64,125)(65,124)(66,123)(67,122)(68,121)(69,120)(70,119)(71,118)(72,117)(73,116)(74,115)(75,114)(76,113)(77,112)(78,111)(79,110)(80,109)(81,108)(82,107)(83,106)(84,105)(85,104)(86,103)(87,102)(88,101)(89,100)(90,99)(91,98)(92,97)(93,96)(94,95)</script></html>"
      ],
      "text/latex": [
       "$$\\newcommand{\\Bold}[1]{\\mathbf{#1}}\\tau \\times \\sigma^{78}= (1,55)(2,54)(3,53)(4,52)(5,51)(6,50)(7,49)(8,48)(9,47)(10,46)(11,45)(12,44)(13,43)(14,42)(15,41)(16,40)(17,39)(18,38)(19,37)(20,36)(21,35)(22,34)(23,33)(24,32)(25,31)(26,30)(27,29)(56,133)(57,132)(58,131)(59,130)(60,129)(61,128)(62,127)(63,126)(64,125)(65,124)(66,123)(67,122)(68,121)(69,120)(70,119)(71,118)(72,117)(73,116)(74,115)(75,114)(76,113)(77,112)(78,111)(79,110)(80,109)(81,108)(82,107)(83,106)(84,105)(85,104)(86,103)(87,102)(88,101)(89,100)(90,99)(91,98)(92,97)(93,96)(94,95)$$"
      ],
      "text/plain": [
       "\\tau \\times \\sigma^{78}= (1,55)(2,54)(3,53)(4,52)(5,51)(6,50)(7,49)(8,48)(9,47)(10,46)(11,45)(12,44)(13,43)(14,42)(15,41)(16,40)(17,39)(18,38)(19,37)(20,36)(21,35)(22,34)(23,33)(24,32)(25,31)(26,30)(27,29)(56,133)(57,132)(58,131)(59,130)(60,129)(61,128)(62,127)(63,126)(64,125)(65,124)(66,123)(67,122)(68,121)(69,120)(70,119)(71,118)(72,117)(73,116)(74,115)(75,114)(76,113)(77,112)(78,111)(79,110)(80,109)(81,108)(82,107)(83,106)(84,105)(85,104)(86,103)(87,102)(88,101)(89,100)(90,99)(91,98)(92,97)(93,96)(94,95)"
      ]
     },
     "metadata": {},
     "output_type": "display_data"
    },
    {
     "data": {
      "text/html": [
       "<html><script type=\"math/tex; mode=display\">\\newcommand{\\Bold}[1]{\\mathbf{#1}}\\tau \\times \\sigma^{79}= (1,54)(2,53)(3,52)(4,51)(5,50)(6,49)(7,48)(8,47)(9,46)(10,45)(11,44)(12,43)(13,42)(14,41)(15,40)(16,39)(17,38)(18,37)(19,36)(20,35)(21,34)(22,33)(23,32)(24,31)(25,30)(26,29)(27,28)(55,133)(56,132)(57,131)(58,130)(59,129)(60,128)(61,127)(62,126)(63,125)(64,124)(65,123)(66,122)(67,121)(68,120)(69,119)(70,118)(71,117)(72,116)(73,115)(74,114)(75,113)(76,112)(77,111)(78,110)(79,109)(80,108)(81,107)(82,106)(83,105)(84,104)(85,103)(86,102)(87,101)(88,100)(89,99)(90,98)(91,97)(92,96)(93,95)</script></html>"
      ],
      "text/latex": [
       "$$\\newcommand{\\Bold}[1]{\\mathbf{#1}}\\tau \\times \\sigma^{79}= (1,54)(2,53)(3,52)(4,51)(5,50)(6,49)(7,48)(8,47)(9,46)(10,45)(11,44)(12,43)(13,42)(14,41)(15,40)(16,39)(17,38)(18,37)(19,36)(20,35)(21,34)(22,33)(23,32)(24,31)(25,30)(26,29)(27,28)(55,133)(56,132)(57,131)(58,130)(59,129)(60,128)(61,127)(62,126)(63,125)(64,124)(65,123)(66,122)(67,121)(68,120)(69,119)(70,118)(71,117)(72,116)(73,115)(74,114)(75,113)(76,112)(77,111)(78,110)(79,109)(80,108)(81,107)(82,106)(83,105)(84,104)(85,103)(86,102)(87,101)(88,100)(89,99)(90,98)(91,97)(92,96)(93,95)$$"
      ],
      "text/plain": [
       "\\tau \\times \\sigma^{79}= (1,54)(2,53)(3,52)(4,51)(5,50)(6,49)(7,48)(8,47)(9,46)(10,45)(11,44)(12,43)(13,42)(14,41)(15,40)(16,39)(17,38)(18,37)(19,36)(20,35)(21,34)(22,33)(23,32)(24,31)(25,30)(26,29)(27,28)(55,133)(56,132)(57,131)(58,130)(59,129)(60,128)(61,127)(62,126)(63,125)(64,124)(65,123)(66,122)(67,121)(68,120)(69,119)(70,118)(71,117)(72,116)(73,115)(74,114)(75,113)(76,112)(77,111)(78,110)(79,109)(80,108)(81,107)(82,106)(83,105)(84,104)(85,103)(86,102)(87,101)(88,100)(89,99)(90,98)(91,97)(92,96)(93,95)"
      ]
     },
     "metadata": {},
     "output_type": "display_data"
    },
    {
     "data": {
      "text/html": [
       "<html><script type=\"math/tex; mode=display\">\\newcommand{\\Bold}[1]{\\mathbf{#1}}\\tau \\times \\sigma^{80}= (1,53)(2,52)(3,51)(4,50)(5,49)(6,48)(7,47)(8,46)(9,45)(10,44)(11,43)(12,42)(13,41)(14,40)(15,39)(16,38)(17,37)(18,36)(19,35)(20,34)(21,33)(22,32)(23,31)(24,30)(25,29)(26,28)(54,133)(55,132)(56,131)(57,130)(58,129)(59,128)(60,127)(61,126)(62,125)(63,124)(64,123)(65,122)(66,121)(67,120)(68,119)(69,118)(70,117)(71,116)(72,115)(73,114)(74,113)(75,112)(76,111)(77,110)(78,109)(79,108)(80,107)(81,106)(82,105)(83,104)(84,103)(85,102)(86,101)(87,100)(88,99)(89,98)(90,97)(91,96)(92,95)(93,94)</script></html>"
      ],
      "text/latex": [
       "$$\\newcommand{\\Bold}[1]{\\mathbf{#1}}\\tau \\times \\sigma^{80}= (1,53)(2,52)(3,51)(4,50)(5,49)(6,48)(7,47)(8,46)(9,45)(10,44)(11,43)(12,42)(13,41)(14,40)(15,39)(16,38)(17,37)(18,36)(19,35)(20,34)(21,33)(22,32)(23,31)(24,30)(25,29)(26,28)(54,133)(55,132)(56,131)(57,130)(58,129)(59,128)(60,127)(61,126)(62,125)(63,124)(64,123)(65,122)(66,121)(67,120)(68,119)(69,118)(70,117)(71,116)(72,115)(73,114)(74,113)(75,112)(76,111)(77,110)(78,109)(79,108)(80,107)(81,106)(82,105)(83,104)(84,103)(85,102)(86,101)(87,100)(88,99)(89,98)(90,97)(91,96)(92,95)(93,94)$$"
      ],
      "text/plain": [
       "\\tau \\times \\sigma^{80}= (1,53)(2,52)(3,51)(4,50)(5,49)(6,48)(7,47)(8,46)(9,45)(10,44)(11,43)(12,42)(13,41)(14,40)(15,39)(16,38)(17,37)(18,36)(19,35)(20,34)(21,33)(22,32)(23,31)(24,30)(25,29)(26,28)(54,133)(55,132)(56,131)(57,130)(58,129)(59,128)(60,127)(61,126)(62,125)(63,124)(64,123)(65,122)(66,121)(67,120)(68,119)(69,118)(70,117)(71,116)(72,115)(73,114)(74,113)(75,112)(76,111)(77,110)(78,109)(79,108)(80,107)(81,106)(82,105)(83,104)(84,103)(85,102)(86,101)(87,100)(88,99)(89,98)(90,97)(91,96)(92,95)(93,94)"
      ]
     },
     "metadata": {},
     "output_type": "display_data"
    },
    {
     "data": {
      "text/html": [
       "<html><script type=\"math/tex; mode=display\">\\newcommand{\\Bold}[1]{\\mathbf{#1}}\\tau \\times \\sigma^{81}= (1,52)(2,51)(3,50)(4,49)(5,48)(6,47)(7,46)(8,45)(9,44)(10,43)(11,42)(12,41)(13,40)(14,39)(15,38)(16,37)(17,36)(18,35)(19,34)(20,33)(21,32)(22,31)(23,30)(24,29)(25,28)(26,27)(53,133)(54,132)(55,131)(56,130)(57,129)(58,128)(59,127)(60,126)(61,125)(62,124)(63,123)(64,122)(65,121)(66,120)(67,119)(68,118)(69,117)(70,116)(71,115)(72,114)(73,113)(74,112)(75,111)(76,110)(77,109)(78,108)(79,107)(80,106)(81,105)(82,104)(83,103)(84,102)(85,101)(86,100)(87,99)(88,98)(89,97)(90,96)(91,95)(92,94)</script></html>"
      ],
      "text/latex": [
       "$$\\newcommand{\\Bold}[1]{\\mathbf{#1}}\\tau \\times \\sigma^{81}= (1,52)(2,51)(3,50)(4,49)(5,48)(6,47)(7,46)(8,45)(9,44)(10,43)(11,42)(12,41)(13,40)(14,39)(15,38)(16,37)(17,36)(18,35)(19,34)(20,33)(21,32)(22,31)(23,30)(24,29)(25,28)(26,27)(53,133)(54,132)(55,131)(56,130)(57,129)(58,128)(59,127)(60,126)(61,125)(62,124)(63,123)(64,122)(65,121)(66,120)(67,119)(68,118)(69,117)(70,116)(71,115)(72,114)(73,113)(74,112)(75,111)(76,110)(77,109)(78,108)(79,107)(80,106)(81,105)(82,104)(83,103)(84,102)(85,101)(86,100)(87,99)(88,98)(89,97)(90,96)(91,95)(92,94)$$"
      ],
      "text/plain": [
       "\\tau \\times \\sigma^{81}= (1,52)(2,51)(3,50)(4,49)(5,48)(6,47)(7,46)(8,45)(9,44)(10,43)(11,42)(12,41)(13,40)(14,39)(15,38)(16,37)(17,36)(18,35)(19,34)(20,33)(21,32)(22,31)(23,30)(24,29)(25,28)(26,27)(53,133)(54,132)(55,131)(56,130)(57,129)(58,128)(59,127)(60,126)(61,125)(62,124)(63,123)(64,122)(65,121)(66,120)(67,119)(68,118)(69,117)(70,116)(71,115)(72,114)(73,113)(74,112)(75,111)(76,110)(77,109)(78,108)(79,107)(80,106)(81,105)(82,104)(83,103)(84,102)(85,101)(86,100)(87,99)(88,98)(89,97)(90,96)(91,95)(92,94)"
      ]
     },
     "metadata": {},
     "output_type": "display_data"
    },
    {
     "data": {
      "text/html": [
       "<html><script type=\"math/tex; mode=display\">\\newcommand{\\Bold}[1]{\\mathbf{#1}}\\tau \\times \\sigma^{82}= (1,51)(2,50)(3,49)(4,48)(5,47)(6,46)(7,45)(8,44)(9,43)(10,42)(11,41)(12,40)(13,39)(14,38)(15,37)(16,36)(17,35)(18,34)(19,33)(20,32)(21,31)(22,30)(23,29)(24,28)(25,27)(52,133)(53,132)(54,131)(55,130)(56,129)(57,128)(58,127)(59,126)(60,125)(61,124)(62,123)(63,122)(64,121)(65,120)(66,119)(67,118)(68,117)(69,116)(70,115)(71,114)(72,113)(73,112)(74,111)(75,110)(76,109)(77,108)(78,107)(79,106)(80,105)(81,104)(82,103)(83,102)(84,101)(85,100)(86,99)(87,98)(88,97)(89,96)(90,95)(91,94)(92,93)</script></html>"
      ],
      "text/latex": [
       "$$\\newcommand{\\Bold}[1]{\\mathbf{#1}}\\tau \\times \\sigma^{82}= (1,51)(2,50)(3,49)(4,48)(5,47)(6,46)(7,45)(8,44)(9,43)(10,42)(11,41)(12,40)(13,39)(14,38)(15,37)(16,36)(17,35)(18,34)(19,33)(20,32)(21,31)(22,30)(23,29)(24,28)(25,27)(52,133)(53,132)(54,131)(55,130)(56,129)(57,128)(58,127)(59,126)(60,125)(61,124)(62,123)(63,122)(64,121)(65,120)(66,119)(67,118)(68,117)(69,116)(70,115)(71,114)(72,113)(73,112)(74,111)(75,110)(76,109)(77,108)(78,107)(79,106)(80,105)(81,104)(82,103)(83,102)(84,101)(85,100)(86,99)(87,98)(88,97)(89,96)(90,95)(91,94)(92,93)$$"
      ],
      "text/plain": [
       "\\tau \\times \\sigma^{82}= (1,51)(2,50)(3,49)(4,48)(5,47)(6,46)(7,45)(8,44)(9,43)(10,42)(11,41)(12,40)(13,39)(14,38)(15,37)(16,36)(17,35)(18,34)(19,33)(20,32)(21,31)(22,30)(23,29)(24,28)(25,27)(52,133)(53,132)(54,131)(55,130)(56,129)(57,128)(58,127)(59,126)(60,125)(61,124)(62,123)(63,122)(64,121)(65,120)(66,119)(67,118)(68,117)(69,116)(70,115)(71,114)(72,113)(73,112)(74,111)(75,110)(76,109)(77,108)(78,107)(79,106)(80,105)(81,104)(82,103)(83,102)(84,101)(85,100)(86,99)(87,98)(88,97)(89,96)(90,95)(91,94)(92,93)"
      ]
     },
     "metadata": {},
     "output_type": "display_data"
    },
    {
     "data": {
      "text/html": [
       "<html><script type=\"math/tex; mode=display\">\\newcommand{\\Bold}[1]{\\mathbf{#1}}\\tau \\times \\sigma^{83}= (1,50)(2,49)(3,48)(4,47)(5,46)(6,45)(7,44)(8,43)(9,42)(10,41)(11,40)(12,39)(13,38)(14,37)(15,36)(16,35)(17,34)(18,33)(19,32)(20,31)(21,30)(22,29)(23,28)(24,27)(25,26)(51,133)(52,132)(53,131)(54,130)(55,129)(56,128)(57,127)(58,126)(59,125)(60,124)(61,123)(62,122)(63,121)(64,120)(65,119)(66,118)(67,117)(68,116)(69,115)(70,114)(71,113)(72,112)(73,111)(74,110)(75,109)(76,108)(77,107)(78,106)(79,105)(80,104)(81,103)(82,102)(83,101)(84,100)(85,99)(86,98)(87,97)(88,96)(89,95)(90,94)(91,93)</script></html>"
      ],
      "text/latex": [
       "$$\\newcommand{\\Bold}[1]{\\mathbf{#1}}\\tau \\times \\sigma^{83}= (1,50)(2,49)(3,48)(4,47)(5,46)(6,45)(7,44)(8,43)(9,42)(10,41)(11,40)(12,39)(13,38)(14,37)(15,36)(16,35)(17,34)(18,33)(19,32)(20,31)(21,30)(22,29)(23,28)(24,27)(25,26)(51,133)(52,132)(53,131)(54,130)(55,129)(56,128)(57,127)(58,126)(59,125)(60,124)(61,123)(62,122)(63,121)(64,120)(65,119)(66,118)(67,117)(68,116)(69,115)(70,114)(71,113)(72,112)(73,111)(74,110)(75,109)(76,108)(77,107)(78,106)(79,105)(80,104)(81,103)(82,102)(83,101)(84,100)(85,99)(86,98)(87,97)(88,96)(89,95)(90,94)(91,93)$$"
      ],
      "text/plain": [
       "\\tau \\times \\sigma^{83}= (1,50)(2,49)(3,48)(4,47)(5,46)(6,45)(7,44)(8,43)(9,42)(10,41)(11,40)(12,39)(13,38)(14,37)(15,36)(16,35)(17,34)(18,33)(19,32)(20,31)(21,30)(22,29)(23,28)(24,27)(25,26)(51,133)(52,132)(53,131)(54,130)(55,129)(56,128)(57,127)(58,126)(59,125)(60,124)(61,123)(62,122)(63,121)(64,120)(65,119)(66,118)(67,117)(68,116)(69,115)(70,114)(71,113)(72,112)(73,111)(74,110)(75,109)(76,108)(77,107)(78,106)(79,105)(80,104)(81,103)(82,102)(83,101)(84,100)(85,99)(86,98)(87,97)(88,96)(89,95)(90,94)(91,93)"
      ]
     },
     "metadata": {},
     "output_type": "display_data"
    },
    {
     "data": {
      "text/html": [
       "<html><script type=\"math/tex; mode=display\">\\newcommand{\\Bold}[1]{\\mathbf{#1}}\\tau \\times \\sigma^{84}= (1,49)(2,48)(3,47)(4,46)(5,45)(6,44)(7,43)(8,42)(9,41)(10,40)(11,39)(12,38)(13,37)(14,36)(15,35)(16,34)(17,33)(18,32)(19,31)(20,30)(21,29)(22,28)(23,27)(24,26)(50,133)(51,132)(52,131)(53,130)(54,129)(55,128)(56,127)(57,126)(58,125)(59,124)(60,123)(61,122)(62,121)(63,120)(64,119)(65,118)(66,117)(67,116)(68,115)(69,114)(70,113)(71,112)(72,111)(73,110)(74,109)(75,108)(76,107)(77,106)(78,105)(79,104)(80,103)(81,102)(82,101)(83,100)(84,99)(85,98)(86,97)(87,96)(88,95)(89,94)(90,93)(91,92)</script></html>"
      ],
      "text/latex": [
       "$$\\newcommand{\\Bold}[1]{\\mathbf{#1}}\\tau \\times \\sigma^{84}= (1,49)(2,48)(3,47)(4,46)(5,45)(6,44)(7,43)(8,42)(9,41)(10,40)(11,39)(12,38)(13,37)(14,36)(15,35)(16,34)(17,33)(18,32)(19,31)(20,30)(21,29)(22,28)(23,27)(24,26)(50,133)(51,132)(52,131)(53,130)(54,129)(55,128)(56,127)(57,126)(58,125)(59,124)(60,123)(61,122)(62,121)(63,120)(64,119)(65,118)(66,117)(67,116)(68,115)(69,114)(70,113)(71,112)(72,111)(73,110)(74,109)(75,108)(76,107)(77,106)(78,105)(79,104)(80,103)(81,102)(82,101)(83,100)(84,99)(85,98)(86,97)(87,96)(88,95)(89,94)(90,93)(91,92)$$"
      ],
      "text/plain": [
       "\\tau \\times \\sigma^{84}= (1,49)(2,48)(3,47)(4,46)(5,45)(6,44)(7,43)(8,42)(9,41)(10,40)(11,39)(12,38)(13,37)(14,36)(15,35)(16,34)(17,33)(18,32)(19,31)(20,30)(21,29)(22,28)(23,27)(24,26)(50,133)(51,132)(52,131)(53,130)(54,129)(55,128)(56,127)(57,126)(58,125)(59,124)(60,123)(61,122)(62,121)(63,120)(64,119)(65,118)(66,117)(67,116)(68,115)(69,114)(70,113)(71,112)(72,111)(73,110)(74,109)(75,108)(76,107)(77,106)(78,105)(79,104)(80,103)(81,102)(82,101)(83,100)(84,99)(85,98)(86,97)(87,96)(88,95)(89,94)(90,93)(91,92)"
      ]
     },
     "metadata": {},
     "output_type": "display_data"
    },
    {
     "data": {
      "text/html": [
       "<html><script type=\"math/tex; mode=display\">\\newcommand{\\Bold}[1]{\\mathbf{#1}}\\tau \\times \\sigma^{85}= (1,48)(2,47)(3,46)(4,45)(5,44)(6,43)(7,42)(8,41)(9,40)(10,39)(11,38)(12,37)(13,36)(14,35)(15,34)(16,33)(17,32)(18,31)(19,30)(20,29)(21,28)(22,27)(23,26)(24,25)(49,133)(50,132)(51,131)(52,130)(53,129)(54,128)(55,127)(56,126)(57,125)(58,124)(59,123)(60,122)(61,121)(62,120)(63,119)(64,118)(65,117)(66,116)(67,115)(68,114)(69,113)(70,112)(71,111)(72,110)(73,109)(74,108)(75,107)(76,106)(77,105)(78,104)(79,103)(80,102)(81,101)(82,100)(83,99)(84,98)(85,97)(86,96)(87,95)(88,94)(89,93)(90,92)</script></html>"
      ],
      "text/latex": [
       "$$\\newcommand{\\Bold}[1]{\\mathbf{#1}}\\tau \\times \\sigma^{85}= (1,48)(2,47)(3,46)(4,45)(5,44)(6,43)(7,42)(8,41)(9,40)(10,39)(11,38)(12,37)(13,36)(14,35)(15,34)(16,33)(17,32)(18,31)(19,30)(20,29)(21,28)(22,27)(23,26)(24,25)(49,133)(50,132)(51,131)(52,130)(53,129)(54,128)(55,127)(56,126)(57,125)(58,124)(59,123)(60,122)(61,121)(62,120)(63,119)(64,118)(65,117)(66,116)(67,115)(68,114)(69,113)(70,112)(71,111)(72,110)(73,109)(74,108)(75,107)(76,106)(77,105)(78,104)(79,103)(80,102)(81,101)(82,100)(83,99)(84,98)(85,97)(86,96)(87,95)(88,94)(89,93)(90,92)$$"
      ],
      "text/plain": [
       "\\tau \\times \\sigma^{85}= (1,48)(2,47)(3,46)(4,45)(5,44)(6,43)(7,42)(8,41)(9,40)(10,39)(11,38)(12,37)(13,36)(14,35)(15,34)(16,33)(17,32)(18,31)(19,30)(20,29)(21,28)(22,27)(23,26)(24,25)(49,133)(50,132)(51,131)(52,130)(53,129)(54,128)(55,127)(56,126)(57,125)(58,124)(59,123)(60,122)(61,121)(62,120)(63,119)(64,118)(65,117)(66,116)(67,115)(68,114)(69,113)(70,112)(71,111)(72,110)(73,109)(74,108)(75,107)(76,106)(77,105)(78,104)(79,103)(80,102)(81,101)(82,100)(83,99)(84,98)(85,97)(86,96)(87,95)(88,94)(89,93)(90,92)"
      ]
     },
     "metadata": {},
     "output_type": "display_data"
    },
    {
     "data": {
      "text/html": [
       "<html><script type=\"math/tex; mode=display\">\\newcommand{\\Bold}[1]{\\mathbf{#1}}\\tau \\times \\sigma^{86}= (1,47)(2,46)(3,45)(4,44)(5,43)(6,42)(7,41)(8,40)(9,39)(10,38)(11,37)(12,36)(13,35)(14,34)(15,33)(16,32)(17,31)(18,30)(19,29)(20,28)(21,27)(22,26)(23,25)(48,133)(49,132)(50,131)(51,130)(52,129)(53,128)(54,127)(55,126)(56,125)(57,124)(58,123)(59,122)(60,121)(61,120)(62,119)(63,118)(64,117)(65,116)(66,115)(67,114)(68,113)(69,112)(70,111)(71,110)(72,109)(73,108)(74,107)(75,106)(76,105)(77,104)(78,103)(79,102)(80,101)(81,100)(82,99)(83,98)(84,97)(85,96)(86,95)(87,94)(88,93)(89,92)(90,91)</script></html>"
      ],
      "text/latex": [
       "$$\\newcommand{\\Bold}[1]{\\mathbf{#1}}\\tau \\times \\sigma^{86}= (1,47)(2,46)(3,45)(4,44)(5,43)(6,42)(7,41)(8,40)(9,39)(10,38)(11,37)(12,36)(13,35)(14,34)(15,33)(16,32)(17,31)(18,30)(19,29)(20,28)(21,27)(22,26)(23,25)(48,133)(49,132)(50,131)(51,130)(52,129)(53,128)(54,127)(55,126)(56,125)(57,124)(58,123)(59,122)(60,121)(61,120)(62,119)(63,118)(64,117)(65,116)(66,115)(67,114)(68,113)(69,112)(70,111)(71,110)(72,109)(73,108)(74,107)(75,106)(76,105)(77,104)(78,103)(79,102)(80,101)(81,100)(82,99)(83,98)(84,97)(85,96)(86,95)(87,94)(88,93)(89,92)(90,91)$$"
      ],
      "text/plain": [
       "\\tau \\times \\sigma^{86}= (1,47)(2,46)(3,45)(4,44)(5,43)(6,42)(7,41)(8,40)(9,39)(10,38)(11,37)(12,36)(13,35)(14,34)(15,33)(16,32)(17,31)(18,30)(19,29)(20,28)(21,27)(22,26)(23,25)(48,133)(49,132)(50,131)(51,130)(52,129)(53,128)(54,127)(55,126)(56,125)(57,124)(58,123)(59,122)(60,121)(61,120)(62,119)(63,118)(64,117)(65,116)(66,115)(67,114)(68,113)(69,112)(70,111)(71,110)(72,109)(73,108)(74,107)(75,106)(76,105)(77,104)(78,103)(79,102)(80,101)(81,100)(82,99)(83,98)(84,97)(85,96)(86,95)(87,94)(88,93)(89,92)(90,91)"
      ]
     },
     "metadata": {},
     "output_type": "display_data"
    },
    {
     "data": {
      "text/html": [
       "<html><script type=\"math/tex; mode=display\">\\newcommand{\\Bold}[1]{\\mathbf{#1}}\\tau \\times \\sigma^{87}= (1,46)(2,45)(3,44)(4,43)(5,42)(6,41)(7,40)(8,39)(9,38)(10,37)(11,36)(12,35)(13,34)(14,33)(15,32)(16,31)(17,30)(18,29)(19,28)(20,27)(21,26)(22,25)(23,24)(47,133)(48,132)(49,131)(50,130)(51,129)(52,128)(53,127)(54,126)(55,125)(56,124)(57,123)(58,122)(59,121)(60,120)(61,119)(62,118)(63,117)(64,116)(65,115)(66,114)(67,113)(68,112)(69,111)(70,110)(71,109)(72,108)(73,107)(74,106)(75,105)(76,104)(77,103)(78,102)(79,101)(80,100)(81,99)(82,98)(83,97)(84,96)(85,95)(86,94)(87,93)(88,92)(89,91)</script></html>"
      ],
      "text/latex": [
       "$$\\newcommand{\\Bold}[1]{\\mathbf{#1}}\\tau \\times \\sigma^{87}= (1,46)(2,45)(3,44)(4,43)(5,42)(6,41)(7,40)(8,39)(9,38)(10,37)(11,36)(12,35)(13,34)(14,33)(15,32)(16,31)(17,30)(18,29)(19,28)(20,27)(21,26)(22,25)(23,24)(47,133)(48,132)(49,131)(50,130)(51,129)(52,128)(53,127)(54,126)(55,125)(56,124)(57,123)(58,122)(59,121)(60,120)(61,119)(62,118)(63,117)(64,116)(65,115)(66,114)(67,113)(68,112)(69,111)(70,110)(71,109)(72,108)(73,107)(74,106)(75,105)(76,104)(77,103)(78,102)(79,101)(80,100)(81,99)(82,98)(83,97)(84,96)(85,95)(86,94)(87,93)(88,92)(89,91)$$"
      ],
      "text/plain": [
       "\\tau \\times \\sigma^{87}= (1,46)(2,45)(3,44)(4,43)(5,42)(6,41)(7,40)(8,39)(9,38)(10,37)(11,36)(12,35)(13,34)(14,33)(15,32)(16,31)(17,30)(18,29)(19,28)(20,27)(21,26)(22,25)(23,24)(47,133)(48,132)(49,131)(50,130)(51,129)(52,128)(53,127)(54,126)(55,125)(56,124)(57,123)(58,122)(59,121)(60,120)(61,119)(62,118)(63,117)(64,116)(65,115)(66,114)(67,113)(68,112)(69,111)(70,110)(71,109)(72,108)(73,107)(74,106)(75,105)(76,104)(77,103)(78,102)(79,101)(80,100)(81,99)(82,98)(83,97)(84,96)(85,95)(86,94)(87,93)(88,92)(89,91)"
      ]
     },
     "metadata": {},
     "output_type": "display_data"
    },
    {
     "data": {
      "text/html": [
       "<html><script type=\"math/tex; mode=display\">\\newcommand{\\Bold}[1]{\\mathbf{#1}}\\tau \\times \\sigma^{88}= (1,45)(2,44)(3,43)(4,42)(5,41)(6,40)(7,39)(8,38)(9,37)(10,36)(11,35)(12,34)(13,33)(14,32)(15,31)(16,30)(17,29)(18,28)(19,27)(20,26)(21,25)(22,24)(46,133)(47,132)(48,131)(49,130)(50,129)(51,128)(52,127)(53,126)(54,125)(55,124)(56,123)(57,122)(58,121)(59,120)(60,119)(61,118)(62,117)(63,116)(64,115)(65,114)(66,113)(67,112)(68,111)(69,110)(70,109)(71,108)(72,107)(73,106)(74,105)(75,104)(76,103)(77,102)(78,101)(79,100)(80,99)(81,98)(82,97)(83,96)(84,95)(85,94)(86,93)(87,92)(88,91)(89,90)</script></html>"
      ],
      "text/latex": [
       "$$\\newcommand{\\Bold}[1]{\\mathbf{#1}}\\tau \\times \\sigma^{88}= (1,45)(2,44)(3,43)(4,42)(5,41)(6,40)(7,39)(8,38)(9,37)(10,36)(11,35)(12,34)(13,33)(14,32)(15,31)(16,30)(17,29)(18,28)(19,27)(20,26)(21,25)(22,24)(46,133)(47,132)(48,131)(49,130)(50,129)(51,128)(52,127)(53,126)(54,125)(55,124)(56,123)(57,122)(58,121)(59,120)(60,119)(61,118)(62,117)(63,116)(64,115)(65,114)(66,113)(67,112)(68,111)(69,110)(70,109)(71,108)(72,107)(73,106)(74,105)(75,104)(76,103)(77,102)(78,101)(79,100)(80,99)(81,98)(82,97)(83,96)(84,95)(85,94)(86,93)(87,92)(88,91)(89,90)$$"
      ],
      "text/plain": [
       "\\tau \\times \\sigma^{88}= (1,45)(2,44)(3,43)(4,42)(5,41)(6,40)(7,39)(8,38)(9,37)(10,36)(11,35)(12,34)(13,33)(14,32)(15,31)(16,30)(17,29)(18,28)(19,27)(20,26)(21,25)(22,24)(46,133)(47,132)(48,131)(49,130)(50,129)(51,128)(52,127)(53,126)(54,125)(55,124)(56,123)(57,122)(58,121)(59,120)(60,119)(61,118)(62,117)(63,116)(64,115)(65,114)(66,113)(67,112)(68,111)(69,110)(70,109)(71,108)(72,107)(73,106)(74,105)(75,104)(76,103)(77,102)(78,101)(79,100)(80,99)(81,98)(82,97)(83,96)(84,95)(85,94)(86,93)(87,92)(88,91)(89,90)"
      ]
     },
     "metadata": {},
     "output_type": "display_data"
    },
    {
     "data": {
      "text/html": [
       "<html><script type=\"math/tex; mode=display\">\\newcommand{\\Bold}[1]{\\mathbf{#1}}\\tau \\times \\sigma^{89}= (1,44)(2,43)(3,42)(4,41)(5,40)(6,39)(7,38)(8,37)(9,36)(10,35)(11,34)(12,33)(13,32)(14,31)(15,30)(16,29)(17,28)(18,27)(19,26)(20,25)(21,24)(22,23)(45,133)(46,132)(47,131)(48,130)(49,129)(50,128)(51,127)(52,126)(53,125)(54,124)(55,123)(56,122)(57,121)(58,120)(59,119)(60,118)(61,117)(62,116)(63,115)(64,114)(65,113)(66,112)(67,111)(68,110)(69,109)(70,108)(71,107)(72,106)(73,105)(74,104)(75,103)(76,102)(77,101)(78,100)(79,99)(80,98)(81,97)(82,96)(83,95)(84,94)(85,93)(86,92)(87,91)(88,90)</script></html>"
      ],
      "text/latex": [
       "$$\\newcommand{\\Bold}[1]{\\mathbf{#1}}\\tau \\times \\sigma^{89}= (1,44)(2,43)(3,42)(4,41)(5,40)(6,39)(7,38)(8,37)(9,36)(10,35)(11,34)(12,33)(13,32)(14,31)(15,30)(16,29)(17,28)(18,27)(19,26)(20,25)(21,24)(22,23)(45,133)(46,132)(47,131)(48,130)(49,129)(50,128)(51,127)(52,126)(53,125)(54,124)(55,123)(56,122)(57,121)(58,120)(59,119)(60,118)(61,117)(62,116)(63,115)(64,114)(65,113)(66,112)(67,111)(68,110)(69,109)(70,108)(71,107)(72,106)(73,105)(74,104)(75,103)(76,102)(77,101)(78,100)(79,99)(80,98)(81,97)(82,96)(83,95)(84,94)(85,93)(86,92)(87,91)(88,90)$$"
      ],
      "text/plain": [
       "\\tau \\times \\sigma^{89}= (1,44)(2,43)(3,42)(4,41)(5,40)(6,39)(7,38)(8,37)(9,36)(10,35)(11,34)(12,33)(13,32)(14,31)(15,30)(16,29)(17,28)(18,27)(19,26)(20,25)(21,24)(22,23)(45,133)(46,132)(47,131)(48,130)(49,129)(50,128)(51,127)(52,126)(53,125)(54,124)(55,123)(56,122)(57,121)(58,120)(59,119)(60,118)(61,117)(62,116)(63,115)(64,114)(65,113)(66,112)(67,111)(68,110)(69,109)(70,108)(71,107)(72,106)(73,105)(74,104)(75,103)(76,102)(77,101)(78,100)(79,99)(80,98)(81,97)(82,96)(83,95)(84,94)(85,93)(86,92)(87,91)(88,90)"
      ]
     },
     "metadata": {},
     "output_type": "display_data"
    },
    {
     "data": {
      "text/html": [
       "<html><script type=\"math/tex; mode=display\">\\newcommand{\\Bold}[1]{\\mathbf{#1}}\\tau \\times \\sigma^{90}= (1,43)(2,42)(3,41)(4,40)(5,39)(6,38)(7,37)(8,36)(9,35)(10,34)(11,33)(12,32)(13,31)(14,30)(15,29)(16,28)(17,27)(18,26)(19,25)(20,24)(21,23)(44,133)(45,132)(46,131)(47,130)(48,129)(49,128)(50,127)(51,126)(52,125)(53,124)(54,123)(55,122)(56,121)(57,120)(58,119)(59,118)(60,117)(61,116)(62,115)(63,114)(64,113)(65,112)(66,111)(67,110)(68,109)(69,108)(70,107)(71,106)(72,105)(73,104)(74,103)(75,102)(76,101)(77,100)(78,99)(79,98)(80,97)(81,96)(82,95)(83,94)(84,93)(85,92)(86,91)(87,90)(88,89)</script></html>"
      ],
      "text/latex": [
       "$$\\newcommand{\\Bold}[1]{\\mathbf{#1}}\\tau \\times \\sigma^{90}= (1,43)(2,42)(3,41)(4,40)(5,39)(6,38)(7,37)(8,36)(9,35)(10,34)(11,33)(12,32)(13,31)(14,30)(15,29)(16,28)(17,27)(18,26)(19,25)(20,24)(21,23)(44,133)(45,132)(46,131)(47,130)(48,129)(49,128)(50,127)(51,126)(52,125)(53,124)(54,123)(55,122)(56,121)(57,120)(58,119)(59,118)(60,117)(61,116)(62,115)(63,114)(64,113)(65,112)(66,111)(67,110)(68,109)(69,108)(70,107)(71,106)(72,105)(73,104)(74,103)(75,102)(76,101)(77,100)(78,99)(79,98)(80,97)(81,96)(82,95)(83,94)(84,93)(85,92)(86,91)(87,90)(88,89)$$"
      ],
      "text/plain": [
       "\\tau \\times \\sigma^{90}= (1,43)(2,42)(3,41)(4,40)(5,39)(6,38)(7,37)(8,36)(9,35)(10,34)(11,33)(12,32)(13,31)(14,30)(15,29)(16,28)(17,27)(18,26)(19,25)(20,24)(21,23)(44,133)(45,132)(46,131)(47,130)(48,129)(49,128)(50,127)(51,126)(52,125)(53,124)(54,123)(55,122)(56,121)(57,120)(58,119)(59,118)(60,117)(61,116)(62,115)(63,114)(64,113)(65,112)(66,111)(67,110)(68,109)(69,108)(70,107)(71,106)(72,105)(73,104)(74,103)(75,102)(76,101)(77,100)(78,99)(79,98)(80,97)(81,96)(82,95)(83,94)(84,93)(85,92)(86,91)(87,90)(88,89)"
      ]
     },
     "metadata": {},
     "output_type": "display_data"
    },
    {
     "data": {
      "text/html": [
       "<html><script type=\"math/tex; mode=display\">\\newcommand{\\Bold}[1]{\\mathbf{#1}}\\tau \\times \\sigma^{91}= (1,42)(2,41)(3,40)(4,39)(5,38)(6,37)(7,36)(8,35)(9,34)(10,33)(11,32)(12,31)(13,30)(14,29)(15,28)(16,27)(17,26)(18,25)(19,24)(20,23)(21,22)(43,133)(44,132)(45,131)(46,130)(47,129)(48,128)(49,127)(50,126)(51,125)(52,124)(53,123)(54,122)(55,121)(56,120)(57,119)(58,118)(59,117)(60,116)(61,115)(62,114)(63,113)(64,112)(65,111)(66,110)(67,109)(68,108)(69,107)(70,106)(71,105)(72,104)(73,103)(74,102)(75,101)(76,100)(77,99)(78,98)(79,97)(80,96)(81,95)(82,94)(83,93)(84,92)(85,91)(86,90)(87,89)</script></html>"
      ],
      "text/latex": [
       "$$\\newcommand{\\Bold}[1]{\\mathbf{#1}}\\tau \\times \\sigma^{91}= (1,42)(2,41)(3,40)(4,39)(5,38)(6,37)(7,36)(8,35)(9,34)(10,33)(11,32)(12,31)(13,30)(14,29)(15,28)(16,27)(17,26)(18,25)(19,24)(20,23)(21,22)(43,133)(44,132)(45,131)(46,130)(47,129)(48,128)(49,127)(50,126)(51,125)(52,124)(53,123)(54,122)(55,121)(56,120)(57,119)(58,118)(59,117)(60,116)(61,115)(62,114)(63,113)(64,112)(65,111)(66,110)(67,109)(68,108)(69,107)(70,106)(71,105)(72,104)(73,103)(74,102)(75,101)(76,100)(77,99)(78,98)(79,97)(80,96)(81,95)(82,94)(83,93)(84,92)(85,91)(86,90)(87,89)$$"
      ],
      "text/plain": [
       "\\tau \\times \\sigma^{91}= (1,42)(2,41)(3,40)(4,39)(5,38)(6,37)(7,36)(8,35)(9,34)(10,33)(11,32)(12,31)(13,30)(14,29)(15,28)(16,27)(17,26)(18,25)(19,24)(20,23)(21,22)(43,133)(44,132)(45,131)(46,130)(47,129)(48,128)(49,127)(50,126)(51,125)(52,124)(53,123)(54,122)(55,121)(56,120)(57,119)(58,118)(59,117)(60,116)(61,115)(62,114)(63,113)(64,112)(65,111)(66,110)(67,109)(68,108)(69,107)(70,106)(71,105)(72,104)(73,103)(74,102)(75,101)(76,100)(77,99)(78,98)(79,97)(80,96)(81,95)(82,94)(83,93)(84,92)(85,91)(86,90)(87,89)"
      ]
     },
     "metadata": {},
     "output_type": "display_data"
    },
    {
     "data": {
      "text/html": [
       "<html><script type=\"math/tex; mode=display\">\\newcommand{\\Bold}[1]{\\mathbf{#1}}\\tau \\times \\sigma^{92}= (1,41)(2,40)(3,39)(4,38)(5,37)(6,36)(7,35)(8,34)(9,33)(10,32)(11,31)(12,30)(13,29)(14,28)(15,27)(16,26)(17,25)(18,24)(19,23)(20,22)(42,133)(43,132)(44,131)(45,130)(46,129)(47,128)(48,127)(49,126)(50,125)(51,124)(52,123)(53,122)(54,121)(55,120)(56,119)(57,118)(58,117)(59,116)(60,115)(61,114)(62,113)(63,112)(64,111)(65,110)(66,109)(67,108)(68,107)(69,106)(70,105)(71,104)(72,103)(73,102)(74,101)(75,100)(76,99)(77,98)(78,97)(79,96)(80,95)(81,94)(82,93)(83,92)(84,91)(85,90)(86,89)(87,88)</script></html>"
      ],
      "text/latex": [
       "$$\\newcommand{\\Bold}[1]{\\mathbf{#1}}\\tau \\times \\sigma^{92}= (1,41)(2,40)(3,39)(4,38)(5,37)(6,36)(7,35)(8,34)(9,33)(10,32)(11,31)(12,30)(13,29)(14,28)(15,27)(16,26)(17,25)(18,24)(19,23)(20,22)(42,133)(43,132)(44,131)(45,130)(46,129)(47,128)(48,127)(49,126)(50,125)(51,124)(52,123)(53,122)(54,121)(55,120)(56,119)(57,118)(58,117)(59,116)(60,115)(61,114)(62,113)(63,112)(64,111)(65,110)(66,109)(67,108)(68,107)(69,106)(70,105)(71,104)(72,103)(73,102)(74,101)(75,100)(76,99)(77,98)(78,97)(79,96)(80,95)(81,94)(82,93)(83,92)(84,91)(85,90)(86,89)(87,88)$$"
      ],
      "text/plain": [
       "\\tau \\times \\sigma^{92}= (1,41)(2,40)(3,39)(4,38)(5,37)(6,36)(7,35)(8,34)(9,33)(10,32)(11,31)(12,30)(13,29)(14,28)(15,27)(16,26)(17,25)(18,24)(19,23)(20,22)(42,133)(43,132)(44,131)(45,130)(46,129)(47,128)(48,127)(49,126)(50,125)(51,124)(52,123)(53,122)(54,121)(55,120)(56,119)(57,118)(58,117)(59,116)(60,115)(61,114)(62,113)(63,112)(64,111)(65,110)(66,109)(67,108)(68,107)(69,106)(70,105)(71,104)(72,103)(73,102)(74,101)(75,100)(76,99)(77,98)(78,97)(79,96)(80,95)(81,94)(82,93)(83,92)(84,91)(85,90)(86,89)(87,88)"
      ]
     },
     "metadata": {},
     "output_type": "display_data"
    },
    {
     "data": {
      "text/html": [
       "<html><script type=\"math/tex; mode=display\">\\newcommand{\\Bold}[1]{\\mathbf{#1}}\\tau \\times \\sigma^{93}= (1,40)(2,39)(3,38)(4,37)(5,36)(6,35)(7,34)(8,33)(9,32)(10,31)(11,30)(12,29)(13,28)(14,27)(15,26)(16,25)(17,24)(18,23)(19,22)(20,21)(41,133)(42,132)(43,131)(44,130)(45,129)(46,128)(47,127)(48,126)(49,125)(50,124)(51,123)(52,122)(53,121)(54,120)(55,119)(56,118)(57,117)(58,116)(59,115)(60,114)(61,113)(62,112)(63,111)(64,110)(65,109)(66,108)(67,107)(68,106)(69,105)(70,104)(71,103)(72,102)(73,101)(74,100)(75,99)(76,98)(77,97)(78,96)(79,95)(80,94)(81,93)(82,92)(83,91)(84,90)(85,89)(86,88)</script></html>"
      ],
      "text/latex": [
       "$$\\newcommand{\\Bold}[1]{\\mathbf{#1}}\\tau \\times \\sigma^{93}= (1,40)(2,39)(3,38)(4,37)(5,36)(6,35)(7,34)(8,33)(9,32)(10,31)(11,30)(12,29)(13,28)(14,27)(15,26)(16,25)(17,24)(18,23)(19,22)(20,21)(41,133)(42,132)(43,131)(44,130)(45,129)(46,128)(47,127)(48,126)(49,125)(50,124)(51,123)(52,122)(53,121)(54,120)(55,119)(56,118)(57,117)(58,116)(59,115)(60,114)(61,113)(62,112)(63,111)(64,110)(65,109)(66,108)(67,107)(68,106)(69,105)(70,104)(71,103)(72,102)(73,101)(74,100)(75,99)(76,98)(77,97)(78,96)(79,95)(80,94)(81,93)(82,92)(83,91)(84,90)(85,89)(86,88)$$"
      ],
      "text/plain": [
       "\\tau \\times \\sigma^{93}= (1,40)(2,39)(3,38)(4,37)(5,36)(6,35)(7,34)(8,33)(9,32)(10,31)(11,30)(12,29)(13,28)(14,27)(15,26)(16,25)(17,24)(18,23)(19,22)(20,21)(41,133)(42,132)(43,131)(44,130)(45,129)(46,128)(47,127)(48,126)(49,125)(50,124)(51,123)(52,122)(53,121)(54,120)(55,119)(56,118)(57,117)(58,116)(59,115)(60,114)(61,113)(62,112)(63,111)(64,110)(65,109)(66,108)(67,107)(68,106)(69,105)(70,104)(71,103)(72,102)(73,101)(74,100)(75,99)(76,98)(77,97)(78,96)(79,95)(80,94)(81,93)(82,92)(83,91)(84,90)(85,89)(86,88)"
      ]
     },
     "metadata": {},
     "output_type": "display_data"
    },
    {
     "data": {
      "text/html": [
       "<html><script type=\"math/tex; mode=display\">\\newcommand{\\Bold}[1]{\\mathbf{#1}}\\tau \\times \\sigma^{94}= (1,39)(2,38)(3,37)(4,36)(5,35)(6,34)(7,33)(8,32)(9,31)(10,30)(11,29)(12,28)(13,27)(14,26)(15,25)(16,24)(17,23)(18,22)(19,21)(40,133)(41,132)(42,131)(43,130)(44,129)(45,128)(46,127)(47,126)(48,125)(49,124)(50,123)(51,122)(52,121)(53,120)(54,119)(55,118)(56,117)(57,116)(58,115)(59,114)(60,113)(61,112)(62,111)(63,110)(64,109)(65,108)(66,107)(67,106)(68,105)(69,104)(70,103)(71,102)(72,101)(73,100)(74,99)(75,98)(76,97)(77,96)(78,95)(79,94)(80,93)(81,92)(82,91)(83,90)(84,89)(85,88)(86,87)</script></html>"
      ],
      "text/latex": [
       "$$\\newcommand{\\Bold}[1]{\\mathbf{#1}}\\tau \\times \\sigma^{94}= (1,39)(2,38)(3,37)(4,36)(5,35)(6,34)(7,33)(8,32)(9,31)(10,30)(11,29)(12,28)(13,27)(14,26)(15,25)(16,24)(17,23)(18,22)(19,21)(40,133)(41,132)(42,131)(43,130)(44,129)(45,128)(46,127)(47,126)(48,125)(49,124)(50,123)(51,122)(52,121)(53,120)(54,119)(55,118)(56,117)(57,116)(58,115)(59,114)(60,113)(61,112)(62,111)(63,110)(64,109)(65,108)(66,107)(67,106)(68,105)(69,104)(70,103)(71,102)(72,101)(73,100)(74,99)(75,98)(76,97)(77,96)(78,95)(79,94)(80,93)(81,92)(82,91)(83,90)(84,89)(85,88)(86,87)$$"
      ],
      "text/plain": [
       "\\tau \\times \\sigma^{94}= (1,39)(2,38)(3,37)(4,36)(5,35)(6,34)(7,33)(8,32)(9,31)(10,30)(11,29)(12,28)(13,27)(14,26)(15,25)(16,24)(17,23)(18,22)(19,21)(40,133)(41,132)(42,131)(43,130)(44,129)(45,128)(46,127)(47,126)(48,125)(49,124)(50,123)(51,122)(52,121)(53,120)(54,119)(55,118)(56,117)(57,116)(58,115)(59,114)(60,113)(61,112)(62,111)(63,110)(64,109)(65,108)(66,107)(67,106)(68,105)(69,104)(70,103)(71,102)(72,101)(73,100)(74,99)(75,98)(76,97)(77,96)(78,95)(79,94)(80,93)(81,92)(82,91)(83,90)(84,89)(85,88)(86,87)"
      ]
     },
     "metadata": {},
     "output_type": "display_data"
    },
    {
     "data": {
      "text/html": [
       "<html><script type=\"math/tex; mode=display\">\\newcommand{\\Bold}[1]{\\mathbf{#1}}\\tau \\times \\sigma^{95}= (1,38)(2,37)(3,36)(4,35)(5,34)(6,33)(7,32)(8,31)(9,30)(10,29)(11,28)(12,27)(13,26)(14,25)(15,24)(16,23)(17,22)(18,21)(19,20)(39,133)(40,132)(41,131)(42,130)(43,129)(44,128)(45,127)(46,126)(47,125)(48,124)(49,123)(50,122)(51,121)(52,120)(53,119)(54,118)(55,117)(56,116)(57,115)(58,114)(59,113)(60,112)(61,111)(62,110)(63,109)(64,108)(65,107)(66,106)(67,105)(68,104)(69,103)(70,102)(71,101)(72,100)(73,99)(74,98)(75,97)(76,96)(77,95)(78,94)(79,93)(80,92)(81,91)(82,90)(83,89)(84,88)(85,87)</script></html>"
      ],
      "text/latex": [
       "$$\\newcommand{\\Bold}[1]{\\mathbf{#1}}\\tau \\times \\sigma^{95}= (1,38)(2,37)(3,36)(4,35)(5,34)(6,33)(7,32)(8,31)(9,30)(10,29)(11,28)(12,27)(13,26)(14,25)(15,24)(16,23)(17,22)(18,21)(19,20)(39,133)(40,132)(41,131)(42,130)(43,129)(44,128)(45,127)(46,126)(47,125)(48,124)(49,123)(50,122)(51,121)(52,120)(53,119)(54,118)(55,117)(56,116)(57,115)(58,114)(59,113)(60,112)(61,111)(62,110)(63,109)(64,108)(65,107)(66,106)(67,105)(68,104)(69,103)(70,102)(71,101)(72,100)(73,99)(74,98)(75,97)(76,96)(77,95)(78,94)(79,93)(80,92)(81,91)(82,90)(83,89)(84,88)(85,87)$$"
      ],
      "text/plain": [
       "\\tau \\times \\sigma^{95}= (1,38)(2,37)(3,36)(4,35)(5,34)(6,33)(7,32)(8,31)(9,30)(10,29)(11,28)(12,27)(13,26)(14,25)(15,24)(16,23)(17,22)(18,21)(19,20)(39,133)(40,132)(41,131)(42,130)(43,129)(44,128)(45,127)(46,126)(47,125)(48,124)(49,123)(50,122)(51,121)(52,120)(53,119)(54,118)(55,117)(56,116)(57,115)(58,114)(59,113)(60,112)(61,111)(62,110)(63,109)(64,108)(65,107)(66,106)(67,105)(68,104)(69,103)(70,102)(71,101)(72,100)(73,99)(74,98)(75,97)(76,96)(77,95)(78,94)(79,93)(80,92)(81,91)(82,90)(83,89)(84,88)(85,87)"
      ]
     },
     "metadata": {},
     "output_type": "display_data"
    },
    {
     "data": {
      "text/html": [
       "<html><script type=\"math/tex; mode=display\">\\newcommand{\\Bold}[1]{\\mathbf{#1}}\\tau \\times \\sigma^{96}= (1,37)(2,36)(3,35)(4,34)(5,33)(6,32)(7,31)(8,30)(9,29)(10,28)(11,27)(12,26)(13,25)(14,24)(15,23)(16,22)(17,21)(18,20)(38,133)(39,132)(40,131)(41,130)(42,129)(43,128)(44,127)(45,126)(46,125)(47,124)(48,123)(49,122)(50,121)(51,120)(52,119)(53,118)(54,117)(55,116)(56,115)(57,114)(58,113)(59,112)(60,111)(61,110)(62,109)(63,108)(64,107)(65,106)(66,105)(67,104)(68,103)(69,102)(70,101)(71,100)(72,99)(73,98)(74,97)(75,96)(76,95)(77,94)(78,93)(79,92)(80,91)(81,90)(82,89)(83,88)(84,87)(85,86)</script></html>"
      ],
      "text/latex": [
       "$$\\newcommand{\\Bold}[1]{\\mathbf{#1}}\\tau \\times \\sigma^{96}= (1,37)(2,36)(3,35)(4,34)(5,33)(6,32)(7,31)(8,30)(9,29)(10,28)(11,27)(12,26)(13,25)(14,24)(15,23)(16,22)(17,21)(18,20)(38,133)(39,132)(40,131)(41,130)(42,129)(43,128)(44,127)(45,126)(46,125)(47,124)(48,123)(49,122)(50,121)(51,120)(52,119)(53,118)(54,117)(55,116)(56,115)(57,114)(58,113)(59,112)(60,111)(61,110)(62,109)(63,108)(64,107)(65,106)(66,105)(67,104)(68,103)(69,102)(70,101)(71,100)(72,99)(73,98)(74,97)(75,96)(76,95)(77,94)(78,93)(79,92)(80,91)(81,90)(82,89)(83,88)(84,87)(85,86)$$"
      ],
      "text/plain": [
       "\\tau \\times \\sigma^{96}= (1,37)(2,36)(3,35)(4,34)(5,33)(6,32)(7,31)(8,30)(9,29)(10,28)(11,27)(12,26)(13,25)(14,24)(15,23)(16,22)(17,21)(18,20)(38,133)(39,132)(40,131)(41,130)(42,129)(43,128)(44,127)(45,126)(46,125)(47,124)(48,123)(49,122)(50,121)(51,120)(52,119)(53,118)(54,117)(55,116)(56,115)(57,114)(58,113)(59,112)(60,111)(61,110)(62,109)(63,108)(64,107)(65,106)(66,105)(67,104)(68,103)(69,102)(70,101)(71,100)(72,99)(73,98)(74,97)(75,96)(76,95)(77,94)(78,93)(79,92)(80,91)(81,90)(82,89)(83,88)(84,87)(85,86)"
      ]
     },
     "metadata": {},
     "output_type": "display_data"
    },
    {
     "data": {
      "text/html": [
       "<html><script type=\"math/tex; mode=display\">\\newcommand{\\Bold}[1]{\\mathbf{#1}}\\tau \\times \\sigma^{97}= (1,36)(2,35)(3,34)(4,33)(5,32)(6,31)(7,30)(8,29)(9,28)(10,27)(11,26)(12,25)(13,24)(14,23)(15,22)(16,21)(17,20)(18,19)(37,133)(38,132)(39,131)(40,130)(41,129)(42,128)(43,127)(44,126)(45,125)(46,124)(47,123)(48,122)(49,121)(50,120)(51,119)(52,118)(53,117)(54,116)(55,115)(56,114)(57,113)(58,112)(59,111)(60,110)(61,109)(62,108)(63,107)(64,106)(65,105)(66,104)(67,103)(68,102)(69,101)(70,100)(71,99)(72,98)(73,97)(74,96)(75,95)(76,94)(77,93)(78,92)(79,91)(80,90)(81,89)(82,88)(83,87)(84,86)</script></html>"
      ],
      "text/latex": [
       "$$\\newcommand{\\Bold}[1]{\\mathbf{#1}}\\tau \\times \\sigma^{97}= (1,36)(2,35)(3,34)(4,33)(5,32)(6,31)(7,30)(8,29)(9,28)(10,27)(11,26)(12,25)(13,24)(14,23)(15,22)(16,21)(17,20)(18,19)(37,133)(38,132)(39,131)(40,130)(41,129)(42,128)(43,127)(44,126)(45,125)(46,124)(47,123)(48,122)(49,121)(50,120)(51,119)(52,118)(53,117)(54,116)(55,115)(56,114)(57,113)(58,112)(59,111)(60,110)(61,109)(62,108)(63,107)(64,106)(65,105)(66,104)(67,103)(68,102)(69,101)(70,100)(71,99)(72,98)(73,97)(74,96)(75,95)(76,94)(77,93)(78,92)(79,91)(80,90)(81,89)(82,88)(83,87)(84,86)$$"
      ],
      "text/plain": [
       "\\tau \\times \\sigma^{97}= (1,36)(2,35)(3,34)(4,33)(5,32)(6,31)(7,30)(8,29)(9,28)(10,27)(11,26)(12,25)(13,24)(14,23)(15,22)(16,21)(17,20)(18,19)(37,133)(38,132)(39,131)(40,130)(41,129)(42,128)(43,127)(44,126)(45,125)(46,124)(47,123)(48,122)(49,121)(50,120)(51,119)(52,118)(53,117)(54,116)(55,115)(56,114)(57,113)(58,112)(59,111)(60,110)(61,109)(62,108)(63,107)(64,106)(65,105)(66,104)(67,103)(68,102)(69,101)(70,100)(71,99)(72,98)(73,97)(74,96)(75,95)(76,94)(77,93)(78,92)(79,91)(80,90)(81,89)(82,88)(83,87)(84,86)"
      ]
     },
     "metadata": {},
     "output_type": "display_data"
    },
    {
     "data": {
      "text/html": [
       "<html><script type=\"math/tex; mode=display\">\\newcommand{\\Bold}[1]{\\mathbf{#1}}\\tau \\times \\sigma^{98}= (1,35)(2,34)(3,33)(4,32)(5,31)(6,30)(7,29)(8,28)(9,27)(10,26)(11,25)(12,24)(13,23)(14,22)(15,21)(16,20)(17,19)(36,133)(37,132)(38,131)(39,130)(40,129)(41,128)(42,127)(43,126)(44,125)(45,124)(46,123)(47,122)(48,121)(49,120)(50,119)(51,118)(52,117)(53,116)(54,115)(55,114)(56,113)(57,112)(58,111)(59,110)(60,109)(61,108)(62,107)(63,106)(64,105)(65,104)(66,103)(67,102)(68,101)(69,100)(70,99)(71,98)(72,97)(73,96)(74,95)(75,94)(76,93)(77,92)(78,91)(79,90)(80,89)(81,88)(82,87)(83,86)(84,85)</script></html>"
      ],
      "text/latex": [
       "$$\\newcommand{\\Bold}[1]{\\mathbf{#1}}\\tau \\times \\sigma^{98}= (1,35)(2,34)(3,33)(4,32)(5,31)(6,30)(7,29)(8,28)(9,27)(10,26)(11,25)(12,24)(13,23)(14,22)(15,21)(16,20)(17,19)(36,133)(37,132)(38,131)(39,130)(40,129)(41,128)(42,127)(43,126)(44,125)(45,124)(46,123)(47,122)(48,121)(49,120)(50,119)(51,118)(52,117)(53,116)(54,115)(55,114)(56,113)(57,112)(58,111)(59,110)(60,109)(61,108)(62,107)(63,106)(64,105)(65,104)(66,103)(67,102)(68,101)(69,100)(70,99)(71,98)(72,97)(73,96)(74,95)(75,94)(76,93)(77,92)(78,91)(79,90)(80,89)(81,88)(82,87)(83,86)(84,85)$$"
      ],
      "text/plain": [
       "\\tau \\times \\sigma^{98}= (1,35)(2,34)(3,33)(4,32)(5,31)(6,30)(7,29)(8,28)(9,27)(10,26)(11,25)(12,24)(13,23)(14,22)(15,21)(16,20)(17,19)(36,133)(37,132)(38,131)(39,130)(40,129)(41,128)(42,127)(43,126)(44,125)(45,124)(46,123)(47,122)(48,121)(49,120)(50,119)(51,118)(52,117)(53,116)(54,115)(55,114)(56,113)(57,112)(58,111)(59,110)(60,109)(61,108)(62,107)(63,106)(64,105)(65,104)(66,103)(67,102)(68,101)(69,100)(70,99)(71,98)(72,97)(73,96)(74,95)(75,94)(76,93)(77,92)(78,91)(79,90)(80,89)(81,88)(82,87)(83,86)(84,85)"
      ]
     },
     "metadata": {},
     "output_type": "display_data"
    },
    {
     "data": {
      "text/html": [
       "<html><script type=\"math/tex; mode=display\">\\newcommand{\\Bold}[1]{\\mathbf{#1}}\\tau \\times \\sigma^{99}= (1,34)(2,33)(3,32)(4,31)(5,30)(6,29)(7,28)(8,27)(9,26)(10,25)(11,24)(12,23)(13,22)(14,21)(15,20)(16,19)(17,18)(35,133)(36,132)(37,131)(38,130)(39,129)(40,128)(41,127)(42,126)(43,125)(44,124)(45,123)(46,122)(47,121)(48,120)(49,119)(50,118)(51,117)(52,116)(53,115)(54,114)(55,113)(56,112)(57,111)(58,110)(59,109)(60,108)(61,107)(62,106)(63,105)(64,104)(65,103)(66,102)(67,101)(68,100)(69,99)(70,98)(71,97)(72,96)(73,95)(74,94)(75,93)(76,92)(77,91)(78,90)(79,89)(80,88)(81,87)(82,86)(83,85)</script></html>"
      ],
      "text/latex": [
       "$$\\newcommand{\\Bold}[1]{\\mathbf{#1}}\\tau \\times \\sigma^{99}= (1,34)(2,33)(3,32)(4,31)(5,30)(6,29)(7,28)(8,27)(9,26)(10,25)(11,24)(12,23)(13,22)(14,21)(15,20)(16,19)(17,18)(35,133)(36,132)(37,131)(38,130)(39,129)(40,128)(41,127)(42,126)(43,125)(44,124)(45,123)(46,122)(47,121)(48,120)(49,119)(50,118)(51,117)(52,116)(53,115)(54,114)(55,113)(56,112)(57,111)(58,110)(59,109)(60,108)(61,107)(62,106)(63,105)(64,104)(65,103)(66,102)(67,101)(68,100)(69,99)(70,98)(71,97)(72,96)(73,95)(74,94)(75,93)(76,92)(77,91)(78,90)(79,89)(80,88)(81,87)(82,86)(83,85)$$"
      ],
      "text/plain": [
       "\\tau \\times \\sigma^{99}= (1,34)(2,33)(3,32)(4,31)(5,30)(6,29)(7,28)(8,27)(9,26)(10,25)(11,24)(12,23)(13,22)(14,21)(15,20)(16,19)(17,18)(35,133)(36,132)(37,131)(38,130)(39,129)(40,128)(41,127)(42,126)(43,125)(44,124)(45,123)(46,122)(47,121)(48,120)(49,119)(50,118)(51,117)(52,116)(53,115)(54,114)(55,113)(56,112)(57,111)(58,110)(59,109)(60,108)(61,107)(62,106)(63,105)(64,104)(65,103)(66,102)(67,101)(68,100)(69,99)(70,98)(71,97)(72,96)(73,95)(74,94)(75,93)(76,92)(77,91)(78,90)(79,89)(80,88)(81,87)(82,86)(83,85)"
      ]
     },
     "metadata": {},
     "output_type": "display_data"
    },
    {
     "data": {
      "text/html": [
       "<html><script type=\"math/tex; mode=display\">\\newcommand{\\Bold}[1]{\\mathbf{#1}}\\tau \\times \\sigma^{100}= (1,33)(2,32)(3,31)(4,30)(5,29)(6,28)(7,27)(8,26)(9,25)(10,24)(11,23)(12,22)(13,21)(14,20)(15,19)(16,18)(34,133)(35,132)(36,131)(37,130)(38,129)(39,128)(40,127)(41,126)(42,125)(43,124)(44,123)(45,122)(46,121)(47,120)(48,119)(49,118)(50,117)(51,116)(52,115)(53,114)(54,113)(55,112)(56,111)(57,110)(58,109)(59,108)(60,107)(61,106)(62,105)(63,104)(64,103)(65,102)(66,101)(67,100)(68,99)(69,98)(70,97)(71,96)(72,95)(73,94)(74,93)(75,92)(76,91)(77,90)(78,89)(79,88)(80,87)(81,86)(82,85)(83,84)</script></html>"
      ],
      "text/latex": [
       "$$\\newcommand{\\Bold}[1]{\\mathbf{#1}}\\tau \\times \\sigma^{100}= (1,33)(2,32)(3,31)(4,30)(5,29)(6,28)(7,27)(8,26)(9,25)(10,24)(11,23)(12,22)(13,21)(14,20)(15,19)(16,18)(34,133)(35,132)(36,131)(37,130)(38,129)(39,128)(40,127)(41,126)(42,125)(43,124)(44,123)(45,122)(46,121)(47,120)(48,119)(49,118)(50,117)(51,116)(52,115)(53,114)(54,113)(55,112)(56,111)(57,110)(58,109)(59,108)(60,107)(61,106)(62,105)(63,104)(64,103)(65,102)(66,101)(67,100)(68,99)(69,98)(70,97)(71,96)(72,95)(73,94)(74,93)(75,92)(76,91)(77,90)(78,89)(79,88)(80,87)(81,86)(82,85)(83,84)$$"
      ],
      "text/plain": [
       "\\tau \\times \\sigma^{100}= (1,33)(2,32)(3,31)(4,30)(5,29)(6,28)(7,27)(8,26)(9,25)(10,24)(11,23)(12,22)(13,21)(14,20)(15,19)(16,18)(34,133)(35,132)(36,131)(37,130)(38,129)(39,128)(40,127)(41,126)(42,125)(43,124)(44,123)(45,122)(46,121)(47,120)(48,119)(49,118)(50,117)(51,116)(52,115)(53,114)(54,113)(55,112)(56,111)(57,110)(58,109)(59,108)(60,107)(61,106)(62,105)(63,104)(64,103)(65,102)(66,101)(67,100)(68,99)(69,98)(70,97)(71,96)(72,95)(73,94)(74,93)(75,92)(76,91)(77,90)(78,89)(79,88)(80,87)(81,86)(82,85)(83,84)"
      ]
     },
     "metadata": {},
     "output_type": "display_data"
    },
    {
     "data": {
      "text/html": [
       "<html><script type=\"math/tex; mode=display\">\\newcommand{\\Bold}[1]{\\mathbf{#1}}\\tau \\times \\sigma^{101}= (1,32)(2,31)(3,30)(4,29)(5,28)(6,27)(7,26)(8,25)(9,24)(10,23)(11,22)(12,21)(13,20)(14,19)(15,18)(16,17)(33,133)(34,132)(35,131)(36,130)(37,129)(38,128)(39,127)(40,126)(41,125)(42,124)(43,123)(44,122)(45,121)(46,120)(47,119)(48,118)(49,117)(50,116)(51,115)(52,114)(53,113)(54,112)(55,111)(56,110)(57,109)(58,108)(59,107)(60,106)(61,105)(62,104)(63,103)(64,102)(65,101)(66,100)(67,99)(68,98)(69,97)(70,96)(71,95)(72,94)(73,93)(74,92)(75,91)(76,90)(77,89)(78,88)(79,87)(80,86)(81,85)(82,84)</script></html>"
      ],
      "text/latex": [
       "$$\\newcommand{\\Bold}[1]{\\mathbf{#1}}\\tau \\times \\sigma^{101}= (1,32)(2,31)(3,30)(4,29)(5,28)(6,27)(7,26)(8,25)(9,24)(10,23)(11,22)(12,21)(13,20)(14,19)(15,18)(16,17)(33,133)(34,132)(35,131)(36,130)(37,129)(38,128)(39,127)(40,126)(41,125)(42,124)(43,123)(44,122)(45,121)(46,120)(47,119)(48,118)(49,117)(50,116)(51,115)(52,114)(53,113)(54,112)(55,111)(56,110)(57,109)(58,108)(59,107)(60,106)(61,105)(62,104)(63,103)(64,102)(65,101)(66,100)(67,99)(68,98)(69,97)(70,96)(71,95)(72,94)(73,93)(74,92)(75,91)(76,90)(77,89)(78,88)(79,87)(80,86)(81,85)(82,84)$$"
      ],
      "text/plain": [
       "\\tau \\times \\sigma^{101}= (1,32)(2,31)(3,30)(4,29)(5,28)(6,27)(7,26)(8,25)(9,24)(10,23)(11,22)(12,21)(13,20)(14,19)(15,18)(16,17)(33,133)(34,132)(35,131)(36,130)(37,129)(38,128)(39,127)(40,126)(41,125)(42,124)(43,123)(44,122)(45,121)(46,120)(47,119)(48,118)(49,117)(50,116)(51,115)(52,114)(53,113)(54,112)(55,111)(56,110)(57,109)(58,108)(59,107)(60,106)(61,105)(62,104)(63,103)(64,102)(65,101)(66,100)(67,99)(68,98)(69,97)(70,96)(71,95)(72,94)(73,93)(74,92)(75,91)(76,90)(77,89)(78,88)(79,87)(80,86)(81,85)(82,84)"
      ]
     },
     "metadata": {},
     "output_type": "display_data"
    },
    {
     "data": {
      "text/html": [
       "<html><script type=\"math/tex; mode=display\">\\newcommand{\\Bold}[1]{\\mathbf{#1}}\\tau \\times \\sigma^{102}= (1,31)(2,30)(3,29)(4,28)(5,27)(6,26)(7,25)(8,24)(9,23)(10,22)(11,21)(12,20)(13,19)(14,18)(15,17)(32,133)(33,132)(34,131)(35,130)(36,129)(37,128)(38,127)(39,126)(40,125)(41,124)(42,123)(43,122)(44,121)(45,120)(46,119)(47,118)(48,117)(49,116)(50,115)(51,114)(52,113)(53,112)(54,111)(55,110)(56,109)(57,108)(58,107)(59,106)(60,105)(61,104)(62,103)(63,102)(64,101)(65,100)(66,99)(67,98)(68,97)(69,96)(70,95)(71,94)(72,93)(73,92)(74,91)(75,90)(76,89)(77,88)(78,87)(79,86)(80,85)(81,84)(82,83)</script></html>"
      ],
      "text/latex": [
       "$$\\newcommand{\\Bold}[1]{\\mathbf{#1}}\\tau \\times \\sigma^{102}= (1,31)(2,30)(3,29)(4,28)(5,27)(6,26)(7,25)(8,24)(9,23)(10,22)(11,21)(12,20)(13,19)(14,18)(15,17)(32,133)(33,132)(34,131)(35,130)(36,129)(37,128)(38,127)(39,126)(40,125)(41,124)(42,123)(43,122)(44,121)(45,120)(46,119)(47,118)(48,117)(49,116)(50,115)(51,114)(52,113)(53,112)(54,111)(55,110)(56,109)(57,108)(58,107)(59,106)(60,105)(61,104)(62,103)(63,102)(64,101)(65,100)(66,99)(67,98)(68,97)(69,96)(70,95)(71,94)(72,93)(73,92)(74,91)(75,90)(76,89)(77,88)(78,87)(79,86)(80,85)(81,84)(82,83)$$"
      ],
      "text/plain": [
       "\\tau \\times \\sigma^{102}= (1,31)(2,30)(3,29)(4,28)(5,27)(6,26)(7,25)(8,24)(9,23)(10,22)(11,21)(12,20)(13,19)(14,18)(15,17)(32,133)(33,132)(34,131)(35,130)(36,129)(37,128)(38,127)(39,126)(40,125)(41,124)(42,123)(43,122)(44,121)(45,120)(46,119)(47,118)(48,117)(49,116)(50,115)(51,114)(52,113)(53,112)(54,111)(55,110)(56,109)(57,108)(58,107)(59,106)(60,105)(61,104)(62,103)(63,102)(64,101)(65,100)(66,99)(67,98)(68,97)(69,96)(70,95)(71,94)(72,93)(73,92)(74,91)(75,90)(76,89)(77,88)(78,87)(79,86)(80,85)(81,84)(82,83)"
      ]
     },
     "metadata": {},
     "output_type": "display_data"
    },
    {
     "data": {
      "text/html": [
       "<html><script type=\"math/tex; mode=display\">\\newcommand{\\Bold}[1]{\\mathbf{#1}}\\tau \\times \\sigma^{103}= (1,30)(2,29)(3,28)(4,27)(5,26)(6,25)(7,24)(8,23)(9,22)(10,21)(11,20)(12,19)(13,18)(14,17)(15,16)(31,133)(32,132)(33,131)(34,130)(35,129)(36,128)(37,127)(38,126)(39,125)(40,124)(41,123)(42,122)(43,121)(44,120)(45,119)(46,118)(47,117)(48,116)(49,115)(50,114)(51,113)(52,112)(53,111)(54,110)(55,109)(56,108)(57,107)(58,106)(59,105)(60,104)(61,103)(62,102)(63,101)(64,100)(65,99)(66,98)(67,97)(68,96)(69,95)(70,94)(71,93)(72,92)(73,91)(74,90)(75,89)(76,88)(77,87)(78,86)(79,85)(80,84)(81,83)</script></html>"
      ],
      "text/latex": [
       "$$\\newcommand{\\Bold}[1]{\\mathbf{#1}}\\tau \\times \\sigma^{103}= (1,30)(2,29)(3,28)(4,27)(5,26)(6,25)(7,24)(8,23)(9,22)(10,21)(11,20)(12,19)(13,18)(14,17)(15,16)(31,133)(32,132)(33,131)(34,130)(35,129)(36,128)(37,127)(38,126)(39,125)(40,124)(41,123)(42,122)(43,121)(44,120)(45,119)(46,118)(47,117)(48,116)(49,115)(50,114)(51,113)(52,112)(53,111)(54,110)(55,109)(56,108)(57,107)(58,106)(59,105)(60,104)(61,103)(62,102)(63,101)(64,100)(65,99)(66,98)(67,97)(68,96)(69,95)(70,94)(71,93)(72,92)(73,91)(74,90)(75,89)(76,88)(77,87)(78,86)(79,85)(80,84)(81,83)$$"
      ],
      "text/plain": [
       "\\tau \\times \\sigma^{103}= (1,30)(2,29)(3,28)(4,27)(5,26)(6,25)(7,24)(8,23)(9,22)(10,21)(11,20)(12,19)(13,18)(14,17)(15,16)(31,133)(32,132)(33,131)(34,130)(35,129)(36,128)(37,127)(38,126)(39,125)(40,124)(41,123)(42,122)(43,121)(44,120)(45,119)(46,118)(47,117)(48,116)(49,115)(50,114)(51,113)(52,112)(53,111)(54,110)(55,109)(56,108)(57,107)(58,106)(59,105)(60,104)(61,103)(62,102)(63,101)(64,100)(65,99)(66,98)(67,97)(68,96)(69,95)(70,94)(71,93)(72,92)(73,91)(74,90)(75,89)(76,88)(77,87)(78,86)(79,85)(80,84)(81,83)"
      ]
     },
     "metadata": {},
     "output_type": "display_data"
    },
    {
     "data": {
      "text/html": [
       "<html><script type=\"math/tex; mode=display\">\\newcommand{\\Bold}[1]{\\mathbf{#1}}\\tau \\times \\sigma^{104}= (1,29)(2,28)(3,27)(4,26)(5,25)(6,24)(7,23)(8,22)(9,21)(10,20)(11,19)(12,18)(13,17)(14,16)(30,133)(31,132)(32,131)(33,130)(34,129)(35,128)(36,127)(37,126)(38,125)(39,124)(40,123)(41,122)(42,121)(43,120)(44,119)(45,118)(46,117)(47,116)(48,115)(49,114)(50,113)(51,112)(52,111)(53,110)(54,109)(55,108)(56,107)(57,106)(58,105)(59,104)(60,103)(61,102)(62,101)(63,100)(64,99)(65,98)(66,97)(67,96)(68,95)(69,94)(70,93)(71,92)(72,91)(73,90)(74,89)(75,88)(76,87)(77,86)(78,85)(79,84)(80,83)(81,82)</script></html>"
      ],
      "text/latex": [
       "$$\\newcommand{\\Bold}[1]{\\mathbf{#1}}\\tau \\times \\sigma^{104}= (1,29)(2,28)(3,27)(4,26)(5,25)(6,24)(7,23)(8,22)(9,21)(10,20)(11,19)(12,18)(13,17)(14,16)(30,133)(31,132)(32,131)(33,130)(34,129)(35,128)(36,127)(37,126)(38,125)(39,124)(40,123)(41,122)(42,121)(43,120)(44,119)(45,118)(46,117)(47,116)(48,115)(49,114)(50,113)(51,112)(52,111)(53,110)(54,109)(55,108)(56,107)(57,106)(58,105)(59,104)(60,103)(61,102)(62,101)(63,100)(64,99)(65,98)(66,97)(67,96)(68,95)(69,94)(70,93)(71,92)(72,91)(73,90)(74,89)(75,88)(76,87)(77,86)(78,85)(79,84)(80,83)(81,82)$$"
      ],
      "text/plain": [
       "\\tau \\times \\sigma^{104}= (1,29)(2,28)(3,27)(4,26)(5,25)(6,24)(7,23)(8,22)(9,21)(10,20)(11,19)(12,18)(13,17)(14,16)(30,133)(31,132)(32,131)(33,130)(34,129)(35,128)(36,127)(37,126)(38,125)(39,124)(40,123)(41,122)(42,121)(43,120)(44,119)(45,118)(46,117)(47,116)(48,115)(49,114)(50,113)(51,112)(52,111)(53,110)(54,109)(55,108)(56,107)(57,106)(58,105)(59,104)(60,103)(61,102)(62,101)(63,100)(64,99)(65,98)(66,97)(67,96)(68,95)(69,94)(70,93)(71,92)(72,91)(73,90)(74,89)(75,88)(76,87)(77,86)(78,85)(79,84)(80,83)(81,82)"
      ]
     },
     "metadata": {},
     "output_type": "display_data"
    },
    {
     "data": {
      "text/html": [
       "<html><script type=\"math/tex; mode=display\">\\newcommand{\\Bold}[1]{\\mathbf{#1}}\\tau \\times \\sigma^{105}= (1,28)(2,27)(3,26)(4,25)(5,24)(6,23)(7,22)(8,21)(9,20)(10,19)(11,18)(12,17)(13,16)(14,15)(29,133)(30,132)(31,131)(32,130)(33,129)(34,128)(35,127)(36,126)(37,125)(38,124)(39,123)(40,122)(41,121)(42,120)(43,119)(44,118)(45,117)(46,116)(47,115)(48,114)(49,113)(50,112)(51,111)(52,110)(53,109)(54,108)(55,107)(56,106)(57,105)(58,104)(59,103)(60,102)(61,101)(62,100)(63,99)(64,98)(65,97)(66,96)(67,95)(68,94)(69,93)(70,92)(71,91)(72,90)(73,89)(74,88)(75,87)(76,86)(77,85)(78,84)(79,83)(80,82)</script></html>"
      ],
      "text/latex": [
       "$$\\newcommand{\\Bold}[1]{\\mathbf{#1}}\\tau \\times \\sigma^{105}= (1,28)(2,27)(3,26)(4,25)(5,24)(6,23)(7,22)(8,21)(9,20)(10,19)(11,18)(12,17)(13,16)(14,15)(29,133)(30,132)(31,131)(32,130)(33,129)(34,128)(35,127)(36,126)(37,125)(38,124)(39,123)(40,122)(41,121)(42,120)(43,119)(44,118)(45,117)(46,116)(47,115)(48,114)(49,113)(50,112)(51,111)(52,110)(53,109)(54,108)(55,107)(56,106)(57,105)(58,104)(59,103)(60,102)(61,101)(62,100)(63,99)(64,98)(65,97)(66,96)(67,95)(68,94)(69,93)(70,92)(71,91)(72,90)(73,89)(74,88)(75,87)(76,86)(77,85)(78,84)(79,83)(80,82)$$"
      ],
      "text/plain": [
       "\\tau \\times \\sigma^{105}= (1,28)(2,27)(3,26)(4,25)(5,24)(6,23)(7,22)(8,21)(9,20)(10,19)(11,18)(12,17)(13,16)(14,15)(29,133)(30,132)(31,131)(32,130)(33,129)(34,128)(35,127)(36,126)(37,125)(38,124)(39,123)(40,122)(41,121)(42,120)(43,119)(44,118)(45,117)(46,116)(47,115)(48,114)(49,113)(50,112)(51,111)(52,110)(53,109)(54,108)(55,107)(56,106)(57,105)(58,104)(59,103)(60,102)(61,101)(62,100)(63,99)(64,98)(65,97)(66,96)(67,95)(68,94)(69,93)(70,92)(71,91)(72,90)(73,89)(74,88)(75,87)(76,86)(77,85)(78,84)(79,83)(80,82)"
      ]
     },
     "metadata": {},
     "output_type": "display_data"
    },
    {
     "data": {
      "text/html": [
       "<html><script type=\"math/tex; mode=display\">\\newcommand{\\Bold}[1]{\\mathbf{#1}}\\tau \\times \\sigma^{106}= (1,27)(2,26)(3,25)(4,24)(5,23)(6,22)(7,21)(8,20)(9,19)(10,18)(11,17)(12,16)(13,15)(28,133)(29,132)(30,131)(31,130)(32,129)(33,128)(34,127)(35,126)(36,125)(37,124)(38,123)(39,122)(40,121)(41,120)(42,119)(43,118)(44,117)(45,116)(46,115)(47,114)(48,113)(49,112)(50,111)(51,110)(52,109)(53,108)(54,107)(55,106)(56,105)(57,104)(58,103)(59,102)(60,101)(61,100)(62,99)(63,98)(64,97)(65,96)(66,95)(67,94)(68,93)(69,92)(70,91)(71,90)(72,89)(73,88)(74,87)(75,86)(76,85)(77,84)(78,83)(79,82)(80,81)</script></html>"
      ],
      "text/latex": [
       "$$\\newcommand{\\Bold}[1]{\\mathbf{#1}}\\tau \\times \\sigma^{106}= (1,27)(2,26)(3,25)(4,24)(5,23)(6,22)(7,21)(8,20)(9,19)(10,18)(11,17)(12,16)(13,15)(28,133)(29,132)(30,131)(31,130)(32,129)(33,128)(34,127)(35,126)(36,125)(37,124)(38,123)(39,122)(40,121)(41,120)(42,119)(43,118)(44,117)(45,116)(46,115)(47,114)(48,113)(49,112)(50,111)(51,110)(52,109)(53,108)(54,107)(55,106)(56,105)(57,104)(58,103)(59,102)(60,101)(61,100)(62,99)(63,98)(64,97)(65,96)(66,95)(67,94)(68,93)(69,92)(70,91)(71,90)(72,89)(73,88)(74,87)(75,86)(76,85)(77,84)(78,83)(79,82)(80,81)$$"
      ],
      "text/plain": [
       "\\tau \\times \\sigma^{106}= (1,27)(2,26)(3,25)(4,24)(5,23)(6,22)(7,21)(8,20)(9,19)(10,18)(11,17)(12,16)(13,15)(28,133)(29,132)(30,131)(31,130)(32,129)(33,128)(34,127)(35,126)(36,125)(37,124)(38,123)(39,122)(40,121)(41,120)(42,119)(43,118)(44,117)(45,116)(46,115)(47,114)(48,113)(49,112)(50,111)(51,110)(52,109)(53,108)(54,107)(55,106)(56,105)(57,104)(58,103)(59,102)(60,101)(61,100)(62,99)(63,98)(64,97)(65,96)(66,95)(67,94)(68,93)(69,92)(70,91)(71,90)(72,89)(73,88)(74,87)(75,86)(76,85)(77,84)(78,83)(79,82)(80,81)"
      ]
     },
     "metadata": {},
     "output_type": "display_data"
    },
    {
     "data": {
      "text/html": [
       "<html><script type=\"math/tex; mode=display\">\\newcommand{\\Bold}[1]{\\mathbf{#1}}\\tau \\times \\sigma^{107}= (1,26)(2,25)(3,24)(4,23)(5,22)(6,21)(7,20)(8,19)(9,18)(10,17)(11,16)(12,15)(13,14)(27,133)(28,132)(29,131)(30,130)(31,129)(32,128)(33,127)(34,126)(35,125)(36,124)(37,123)(38,122)(39,121)(40,120)(41,119)(42,118)(43,117)(44,116)(45,115)(46,114)(47,113)(48,112)(49,111)(50,110)(51,109)(52,108)(53,107)(54,106)(55,105)(56,104)(57,103)(58,102)(59,101)(60,100)(61,99)(62,98)(63,97)(64,96)(65,95)(66,94)(67,93)(68,92)(69,91)(70,90)(71,89)(72,88)(73,87)(74,86)(75,85)(76,84)(77,83)(78,82)(79,81)</script></html>"
      ],
      "text/latex": [
       "$$\\newcommand{\\Bold}[1]{\\mathbf{#1}}\\tau \\times \\sigma^{107}= (1,26)(2,25)(3,24)(4,23)(5,22)(6,21)(7,20)(8,19)(9,18)(10,17)(11,16)(12,15)(13,14)(27,133)(28,132)(29,131)(30,130)(31,129)(32,128)(33,127)(34,126)(35,125)(36,124)(37,123)(38,122)(39,121)(40,120)(41,119)(42,118)(43,117)(44,116)(45,115)(46,114)(47,113)(48,112)(49,111)(50,110)(51,109)(52,108)(53,107)(54,106)(55,105)(56,104)(57,103)(58,102)(59,101)(60,100)(61,99)(62,98)(63,97)(64,96)(65,95)(66,94)(67,93)(68,92)(69,91)(70,90)(71,89)(72,88)(73,87)(74,86)(75,85)(76,84)(77,83)(78,82)(79,81)$$"
      ],
      "text/plain": [
       "\\tau \\times \\sigma^{107}= (1,26)(2,25)(3,24)(4,23)(5,22)(6,21)(7,20)(8,19)(9,18)(10,17)(11,16)(12,15)(13,14)(27,133)(28,132)(29,131)(30,130)(31,129)(32,128)(33,127)(34,126)(35,125)(36,124)(37,123)(38,122)(39,121)(40,120)(41,119)(42,118)(43,117)(44,116)(45,115)(46,114)(47,113)(48,112)(49,111)(50,110)(51,109)(52,108)(53,107)(54,106)(55,105)(56,104)(57,103)(58,102)(59,101)(60,100)(61,99)(62,98)(63,97)(64,96)(65,95)(66,94)(67,93)(68,92)(69,91)(70,90)(71,89)(72,88)(73,87)(74,86)(75,85)(76,84)(77,83)(78,82)(79,81)"
      ]
     },
     "metadata": {},
     "output_type": "display_data"
    },
    {
     "data": {
      "text/html": [
       "<html><script type=\"math/tex; mode=display\">\\newcommand{\\Bold}[1]{\\mathbf{#1}}\\tau \\times \\sigma^{108}= (1,25)(2,24)(3,23)(4,22)(5,21)(6,20)(7,19)(8,18)(9,17)(10,16)(11,15)(12,14)(26,133)(27,132)(28,131)(29,130)(30,129)(31,128)(32,127)(33,126)(34,125)(35,124)(36,123)(37,122)(38,121)(39,120)(40,119)(41,118)(42,117)(43,116)(44,115)(45,114)(46,113)(47,112)(48,111)(49,110)(50,109)(51,108)(52,107)(53,106)(54,105)(55,104)(56,103)(57,102)(58,101)(59,100)(60,99)(61,98)(62,97)(63,96)(64,95)(65,94)(66,93)(67,92)(68,91)(69,90)(70,89)(71,88)(72,87)(73,86)(74,85)(75,84)(76,83)(77,82)(78,81)(79,80)</script></html>"
      ],
      "text/latex": [
       "$$\\newcommand{\\Bold}[1]{\\mathbf{#1}}\\tau \\times \\sigma^{108}= (1,25)(2,24)(3,23)(4,22)(5,21)(6,20)(7,19)(8,18)(9,17)(10,16)(11,15)(12,14)(26,133)(27,132)(28,131)(29,130)(30,129)(31,128)(32,127)(33,126)(34,125)(35,124)(36,123)(37,122)(38,121)(39,120)(40,119)(41,118)(42,117)(43,116)(44,115)(45,114)(46,113)(47,112)(48,111)(49,110)(50,109)(51,108)(52,107)(53,106)(54,105)(55,104)(56,103)(57,102)(58,101)(59,100)(60,99)(61,98)(62,97)(63,96)(64,95)(65,94)(66,93)(67,92)(68,91)(69,90)(70,89)(71,88)(72,87)(73,86)(74,85)(75,84)(76,83)(77,82)(78,81)(79,80)$$"
      ],
      "text/plain": [
       "\\tau \\times \\sigma^{108}= (1,25)(2,24)(3,23)(4,22)(5,21)(6,20)(7,19)(8,18)(9,17)(10,16)(11,15)(12,14)(26,133)(27,132)(28,131)(29,130)(30,129)(31,128)(32,127)(33,126)(34,125)(35,124)(36,123)(37,122)(38,121)(39,120)(40,119)(41,118)(42,117)(43,116)(44,115)(45,114)(46,113)(47,112)(48,111)(49,110)(50,109)(51,108)(52,107)(53,106)(54,105)(55,104)(56,103)(57,102)(58,101)(59,100)(60,99)(61,98)(62,97)(63,96)(64,95)(65,94)(66,93)(67,92)(68,91)(69,90)(70,89)(71,88)(72,87)(73,86)(74,85)(75,84)(76,83)(77,82)(78,81)(79,80)"
      ]
     },
     "metadata": {},
     "output_type": "display_data"
    },
    {
     "data": {
      "text/html": [
       "<html><script type=\"math/tex; mode=display\">\\newcommand{\\Bold}[1]{\\mathbf{#1}}\\tau \\times \\sigma^{109}= (1,24)(2,23)(3,22)(4,21)(5,20)(6,19)(7,18)(8,17)(9,16)(10,15)(11,14)(12,13)(25,133)(26,132)(27,131)(28,130)(29,129)(30,128)(31,127)(32,126)(33,125)(34,124)(35,123)(36,122)(37,121)(38,120)(39,119)(40,118)(41,117)(42,116)(43,115)(44,114)(45,113)(46,112)(47,111)(48,110)(49,109)(50,108)(51,107)(52,106)(53,105)(54,104)(55,103)(56,102)(57,101)(58,100)(59,99)(60,98)(61,97)(62,96)(63,95)(64,94)(65,93)(66,92)(67,91)(68,90)(69,89)(70,88)(71,87)(72,86)(73,85)(74,84)(75,83)(76,82)(77,81)(78,80)</script></html>"
      ],
      "text/latex": [
       "$$\\newcommand{\\Bold}[1]{\\mathbf{#1}}\\tau \\times \\sigma^{109}= (1,24)(2,23)(3,22)(4,21)(5,20)(6,19)(7,18)(8,17)(9,16)(10,15)(11,14)(12,13)(25,133)(26,132)(27,131)(28,130)(29,129)(30,128)(31,127)(32,126)(33,125)(34,124)(35,123)(36,122)(37,121)(38,120)(39,119)(40,118)(41,117)(42,116)(43,115)(44,114)(45,113)(46,112)(47,111)(48,110)(49,109)(50,108)(51,107)(52,106)(53,105)(54,104)(55,103)(56,102)(57,101)(58,100)(59,99)(60,98)(61,97)(62,96)(63,95)(64,94)(65,93)(66,92)(67,91)(68,90)(69,89)(70,88)(71,87)(72,86)(73,85)(74,84)(75,83)(76,82)(77,81)(78,80)$$"
      ],
      "text/plain": [
       "\\tau \\times \\sigma^{109}= (1,24)(2,23)(3,22)(4,21)(5,20)(6,19)(7,18)(8,17)(9,16)(10,15)(11,14)(12,13)(25,133)(26,132)(27,131)(28,130)(29,129)(30,128)(31,127)(32,126)(33,125)(34,124)(35,123)(36,122)(37,121)(38,120)(39,119)(40,118)(41,117)(42,116)(43,115)(44,114)(45,113)(46,112)(47,111)(48,110)(49,109)(50,108)(51,107)(52,106)(53,105)(54,104)(55,103)(56,102)(57,101)(58,100)(59,99)(60,98)(61,97)(62,96)(63,95)(64,94)(65,93)(66,92)(67,91)(68,90)(69,89)(70,88)(71,87)(72,86)(73,85)(74,84)(75,83)(76,82)(77,81)(78,80)"
      ]
     },
     "metadata": {},
     "output_type": "display_data"
    },
    {
     "data": {
      "text/html": [
       "<html><script type=\"math/tex; mode=display\">\\newcommand{\\Bold}[1]{\\mathbf{#1}}\\tau \\times \\sigma^{110}= (1,23)(2,22)(3,21)(4,20)(5,19)(6,18)(7,17)(8,16)(9,15)(10,14)(11,13)(24,133)(25,132)(26,131)(27,130)(28,129)(29,128)(30,127)(31,126)(32,125)(33,124)(34,123)(35,122)(36,121)(37,120)(38,119)(39,118)(40,117)(41,116)(42,115)(43,114)(44,113)(45,112)(46,111)(47,110)(48,109)(49,108)(50,107)(51,106)(52,105)(53,104)(54,103)(55,102)(56,101)(57,100)(58,99)(59,98)(60,97)(61,96)(62,95)(63,94)(64,93)(65,92)(66,91)(67,90)(68,89)(69,88)(70,87)(71,86)(72,85)(73,84)(74,83)(75,82)(76,81)(77,80)(78,79)</script></html>"
      ],
      "text/latex": [
       "$$\\newcommand{\\Bold}[1]{\\mathbf{#1}}\\tau \\times \\sigma^{110}= (1,23)(2,22)(3,21)(4,20)(5,19)(6,18)(7,17)(8,16)(9,15)(10,14)(11,13)(24,133)(25,132)(26,131)(27,130)(28,129)(29,128)(30,127)(31,126)(32,125)(33,124)(34,123)(35,122)(36,121)(37,120)(38,119)(39,118)(40,117)(41,116)(42,115)(43,114)(44,113)(45,112)(46,111)(47,110)(48,109)(49,108)(50,107)(51,106)(52,105)(53,104)(54,103)(55,102)(56,101)(57,100)(58,99)(59,98)(60,97)(61,96)(62,95)(63,94)(64,93)(65,92)(66,91)(67,90)(68,89)(69,88)(70,87)(71,86)(72,85)(73,84)(74,83)(75,82)(76,81)(77,80)(78,79)$$"
      ],
      "text/plain": [
       "\\tau \\times \\sigma^{110}= (1,23)(2,22)(3,21)(4,20)(5,19)(6,18)(7,17)(8,16)(9,15)(10,14)(11,13)(24,133)(25,132)(26,131)(27,130)(28,129)(29,128)(30,127)(31,126)(32,125)(33,124)(34,123)(35,122)(36,121)(37,120)(38,119)(39,118)(40,117)(41,116)(42,115)(43,114)(44,113)(45,112)(46,111)(47,110)(48,109)(49,108)(50,107)(51,106)(52,105)(53,104)(54,103)(55,102)(56,101)(57,100)(58,99)(59,98)(60,97)(61,96)(62,95)(63,94)(64,93)(65,92)(66,91)(67,90)(68,89)(69,88)(70,87)(71,86)(72,85)(73,84)(74,83)(75,82)(76,81)(77,80)(78,79)"
      ]
     },
     "metadata": {},
     "output_type": "display_data"
    },
    {
     "data": {
      "text/html": [
       "<html><script type=\"math/tex; mode=display\">\\newcommand{\\Bold}[1]{\\mathbf{#1}}\\tau \\times \\sigma^{111}= (1,22)(2,21)(3,20)(4,19)(5,18)(6,17)(7,16)(8,15)(9,14)(10,13)(11,12)(23,133)(24,132)(25,131)(26,130)(27,129)(28,128)(29,127)(30,126)(31,125)(32,124)(33,123)(34,122)(35,121)(36,120)(37,119)(38,118)(39,117)(40,116)(41,115)(42,114)(43,113)(44,112)(45,111)(46,110)(47,109)(48,108)(49,107)(50,106)(51,105)(52,104)(53,103)(54,102)(55,101)(56,100)(57,99)(58,98)(59,97)(60,96)(61,95)(62,94)(63,93)(64,92)(65,91)(66,90)(67,89)(68,88)(69,87)(70,86)(71,85)(72,84)(73,83)(74,82)(75,81)(76,80)(77,79)</script></html>"
      ],
      "text/latex": [
       "$$\\newcommand{\\Bold}[1]{\\mathbf{#1}}\\tau \\times \\sigma^{111}= (1,22)(2,21)(3,20)(4,19)(5,18)(6,17)(7,16)(8,15)(9,14)(10,13)(11,12)(23,133)(24,132)(25,131)(26,130)(27,129)(28,128)(29,127)(30,126)(31,125)(32,124)(33,123)(34,122)(35,121)(36,120)(37,119)(38,118)(39,117)(40,116)(41,115)(42,114)(43,113)(44,112)(45,111)(46,110)(47,109)(48,108)(49,107)(50,106)(51,105)(52,104)(53,103)(54,102)(55,101)(56,100)(57,99)(58,98)(59,97)(60,96)(61,95)(62,94)(63,93)(64,92)(65,91)(66,90)(67,89)(68,88)(69,87)(70,86)(71,85)(72,84)(73,83)(74,82)(75,81)(76,80)(77,79)$$"
      ],
      "text/plain": [
       "\\tau \\times \\sigma^{111}= (1,22)(2,21)(3,20)(4,19)(5,18)(6,17)(7,16)(8,15)(9,14)(10,13)(11,12)(23,133)(24,132)(25,131)(26,130)(27,129)(28,128)(29,127)(30,126)(31,125)(32,124)(33,123)(34,122)(35,121)(36,120)(37,119)(38,118)(39,117)(40,116)(41,115)(42,114)(43,113)(44,112)(45,111)(46,110)(47,109)(48,108)(49,107)(50,106)(51,105)(52,104)(53,103)(54,102)(55,101)(56,100)(57,99)(58,98)(59,97)(60,96)(61,95)(62,94)(63,93)(64,92)(65,91)(66,90)(67,89)(68,88)(69,87)(70,86)(71,85)(72,84)(73,83)(74,82)(75,81)(76,80)(77,79)"
      ]
     },
     "metadata": {},
     "output_type": "display_data"
    },
    {
     "data": {
      "text/html": [
       "<html><script type=\"math/tex; mode=display\">\\newcommand{\\Bold}[1]{\\mathbf{#1}}\\tau \\times \\sigma^{112}= (1,21)(2,20)(3,19)(4,18)(5,17)(6,16)(7,15)(8,14)(9,13)(10,12)(22,133)(23,132)(24,131)(25,130)(26,129)(27,128)(28,127)(29,126)(30,125)(31,124)(32,123)(33,122)(34,121)(35,120)(36,119)(37,118)(38,117)(39,116)(40,115)(41,114)(42,113)(43,112)(44,111)(45,110)(46,109)(47,108)(48,107)(49,106)(50,105)(51,104)(52,103)(53,102)(54,101)(55,100)(56,99)(57,98)(58,97)(59,96)(60,95)(61,94)(62,93)(63,92)(64,91)(65,90)(66,89)(67,88)(68,87)(69,86)(70,85)(71,84)(72,83)(73,82)(74,81)(75,80)(76,79)(77,78)</script></html>"
      ],
      "text/latex": [
       "$$\\newcommand{\\Bold}[1]{\\mathbf{#1}}\\tau \\times \\sigma^{112}= (1,21)(2,20)(3,19)(4,18)(5,17)(6,16)(7,15)(8,14)(9,13)(10,12)(22,133)(23,132)(24,131)(25,130)(26,129)(27,128)(28,127)(29,126)(30,125)(31,124)(32,123)(33,122)(34,121)(35,120)(36,119)(37,118)(38,117)(39,116)(40,115)(41,114)(42,113)(43,112)(44,111)(45,110)(46,109)(47,108)(48,107)(49,106)(50,105)(51,104)(52,103)(53,102)(54,101)(55,100)(56,99)(57,98)(58,97)(59,96)(60,95)(61,94)(62,93)(63,92)(64,91)(65,90)(66,89)(67,88)(68,87)(69,86)(70,85)(71,84)(72,83)(73,82)(74,81)(75,80)(76,79)(77,78)$$"
      ],
      "text/plain": [
       "\\tau \\times \\sigma^{112}= (1,21)(2,20)(3,19)(4,18)(5,17)(6,16)(7,15)(8,14)(9,13)(10,12)(22,133)(23,132)(24,131)(25,130)(26,129)(27,128)(28,127)(29,126)(30,125)(31,124)(32,123)(33,122)(34,121)(35,120)(36,119)(37,118)(38,117)(39,116)(40,115)(41,114)(42,113)(43,112)(44,111)(45,110)(46,109)(47,108)(48,107)(49,106)(50,105)(51,104)(52,103)(53,102)(54,101)(55,100)(56,99)(57,98)(58,97)(59,96)(60,95)(61,94)(62,93)(63,92)(64,91)(65,90)(66,89)(67,88)(68,87)(69,86)(70,85)(71,84)(72,83)(73,82)(74,81)(75,80)(76,79)(77,78)"
      ]
     },
     "metadata": {},
     "output_type": "display_data"
    },
    {
     "data": {
      "text/html": [
       "<html><script type=\"math/tex; mode=display\">\\newcommand{\\Bold}[1]{\\mathbf{#1}}\\tau \\times \\sigma^{113}= (1,20)(2,19)(3,18)(4,17)(5,16)(6,15)(7,14)(8,13)(9,12)(10,11)(21,133)(22,132)(23,131)(24,130)(25,129)(26,128)(27,127)(28,126)(29,125)(30,124)(31,123)(32,122)(33,121)(34,120)(35,119)(36,118)(37,117)(38,116)(39,115)(40,114)(41,113)(42,112)(43,111)(44,110)(45,109)(46,108)(47,107)(48,106)(49,105)(50,104)(51,103)(52,102)(53,101)(54,100)(55,99)(56,98)(57,97)(58,96)(59,95)(60,94)(61,93)(62,92)(63,91)(64,90)(65,89)(66,88)(67,87)(68,86)(69,85)(70,84)(71,83)(72,82)(73,81)(74,80)(75,79)(76,78)</script></html>"
      ],
      "text/latex": [
       "$$\\newcommand{\\Bold}[1]{\\mathbf{#1}}\\tau \\times \\sigma^{113}= (1,20)(2,19)(3,18)(4,17)(5,16)(6,15)(7,14)(8,13)(9,12)(10,11)(21,133)(22,132)(23,131)(24,130)(25,129)(26,128)(27,127)(28,126)(29,125)(30,124)(31,123)(32,122)(33,121)(34,120)(35,119)(36,118)(37,117)(38,116)(39,115)(40,114)(41,113)(42,112)(43,111)(44,110)(45,109)(46,108)(47,107)(48,106)(49,105)(50,104)(51,103)(52,102)(53,101)(54,100)(55,99)(56,98)(57,97)(58,96)(59,95)(60,94)(61,93)(62,92)(63,91)(64,90)(65,89)(66,88)(67,87)(68,86)(69,85)(70,84)(71,83)(72,82)(73,81)(74,80)(75,79)(76,78)$$"
      ],
      "text/plain": [
       "\\tau \\times \\sigma^{113}= (1,20)(2,19)(3,18)(4,17)(5,16)(6,15)(7,14)(8,13)(9,12)(10,11)(21,133)(22,132)(23,131)(24,130)(25,129)(26,128)(27,127)(28,126)(29,125)(30,124)(31,123)(32,122)(33,121)(34,120)(35,119)(36,118)(37,117)(38,116)(39,115)(40,114)(41,113)(42,112)(43,111)(44,110)(45,109)(46,108)(47,107)(48,106)(49,105)(50,104)(51,103)(52,102)(53,101)(54,100)(55,99)(56,98)(57,97)(58,96)(59,95)(60,94)(61,93)(62,92)(63,91)(64,90)(65,89)(66,88)(67,87)(68,86)(69,85)(70,84)(71,83)(72,82)(73,81)(74,80)(75,79)(76,78)"
      ]
     },
     "metadata": {},
     "output_type": "display_data"
    },
    {
     "data": {
      "text/html": [
       "<html><script type=\"math/tex; mode=display\">\\newcommand{\\Bold}[1]{\\mathbf{#1}}\\tau \\times \\sigma^{114}= (1,19)(2,18)(3,17)(4,16)(5,15)(6,14)(7,13)(8,12)(9,11)(20,133)(21,132)(22,131)(23,130)(24,129)(25,128)(26,127)(27,126)(28,125)(29,124)(30,123)(31,122)(32,121)(33,120)(34,119)(35,118)(36,117)(37,116)(38,115)(39,114)(40,113)(41,112)(42,111)(43,110)(44,109)(45,108)(46,107)(47,106)(48,105)(49,104)(50,103)(51,102)(52,101)(53,100)(54,99)(55,98)(56,97)(57,96)(58,95)(59,94)(60,93)(61,92)(62,91)(63,90)(64,89)(65,88)(66,87)(67,86)(68,85)(69,84)(70,83)(71,82)(72,81)(73,80)(74,79)(75,78)(76,77)</script></html>"
      ],
      "text/latex": [
       "$$\\newcommand{\\Bold}[1]{\\mathbf{#1}}\\tau \\times \\sigma^{114}= (1,19)(2,18)(3,17)(4,16)(5,15)(6,14)(7,13)(8,12)(9,11)(20,133)(21,132)(22,131)(23,130)(24,129)(25,128)(26,127)(27,126)(28,125)(29,124)(30,123)(31,122)(32,121)(33,120)(34,119)(35,118)(36,117)(37,116)(38,115)(39,114)(40,113)(41,112)(42,111)(43,110)(44,109)(45,108)(46,107)(47,106)(48,105)(49,104)(50,103)(51,102)(52,101)(53,100)(54,99)(55,98)(56,97)(57,96)(58,95)(59,94)(60,93)(61,92)(62,91)(63,90)(64,89)(65,88)(66,87)(67,86)(68,85)(69,84)(70,83)(71,82)(72,81)(73,80)(74,79)(75,78)(76,77)$$"
      ],
      "text/plain": [
       "\\tau \\times \\sigma^{114}= (1,19)(2,18)(3,17)(4,16)(5,15)(6,14)(7,13)(8,12)(9,11)(20,133)(21,132)(22,131)(23,130)(24,129)(25,128)(26,127)(27,126)(28,125)(29,124)(30,123)(31,122)(32,121)(33,120)(34,119)(35,118)(36,117)(37,116)(38,115)(39,114)(40,113)(41,112)(42,111)(43,110)(44,109)(45,108)(46,107)(47,106)(48,105)(49,104)(50,103)(51,102)(52,101)(53,100)(54,99)(55,98)(56,97)(57,96)(58,95)(59,94)(60,93)(61,92)(62,91)(63,90)(64,89)(65,88)(66,87)(67,86)(68,85)(69,84)(70,83)(71,82)(72,81)(73,80)(74,79)(75,78)(76,77)"
      ]
     },
     "metadata": {},
     "output_type": "display_data"
    },
    {
     "data": {
      "text/html": [
       "<html><script type=\"math/tex; mode=display\">\\newcommand{\\Bold}[1]{\\mathbf{#1}}\\tau \\times \\sigma^{115}= (1,18)(2,17)(3,16)(4,15)(5,14)(6,13)(7,12)(8,11)(9,10)(19,133)(20,132)(21,131)(22,130)(23,129)(24,128)(25,127)(26,126)(27,125)(28,124)(29,123)(30,122)(31,121)(32,120)(33,119)(34,118)(35,117)(36,116)(37,115)(38,114)(39,113)(40,112)(41,111)(42,110)(43,109)(44,108)(45,107)(46,106)(47,105)(48,104)(49,103)(50,102)(51,101)(52,100)(53,99)(54,98)(55,97)(56,96)(57,95)(58,94)(59,93)(60,92)(61,91)(62,90)(63,89)(64,88)(65,87)(66,86)(67,85)(68,84)(69,83)(70,82)(71,81)(72,80)(73,79)(74,78)(75,77)</script></html>"
      ],
      "text/latex": [
       "$$\\newcommand{\\Bold}[1]{\\mathbf{#1}}\\tau \\times \\sigma^{115}= (1,18)(2,17)(3,16)(4,15)(5,14)(6,13)(7,12)(8,11)(9,10)(19,133)(20,132)(21,131)(22,130)(23,129)(24,128)(25,127)(26,126)(27,125)(28,124)(29,123)(30,122)(31,121)(32,120)(33,119)(34,118)(35,117)(36,116)(37,115)(38,114)(39,113)(40,112)(41,111)(42,110)(43,109)(44,108)(45,107)(46,106)(47,105)(48,104)(49,103)(50,102)(51,101)(52,100)(53,99)(54,98)(55,97)(56,96)(57,95)(58,94)(59,93)(60,92)(61,91)(62,90)(63,89)(64,88)(65,87)(66,86)(67,85)(68,84)(69,83)(70,82)(71,81)(72,80)(73,79)(74,78)(75,77)$$"
      ],
      "text/plain": [
       "\\tau \\times \\sigma^{115}= (1,18)(2,17)(3,16)(4,15)(5,14)(6,13)(7,12)(8,11)(9,10)(19,133)(20,132)(21,131)(22,130)(23,129)(24,128)(25,127)(26,126)(27,125)(28,124)(29,123)(30,122)(31,121)(32,120)(33,119)(34,118)(35,117)(36,116)(37,115)(38,114)(39,113)(40,112)(41,111)(42,110)(43,109)(44,108)(45,107)(46,106)(47,105)(48,104)(49,103)(50,102)(51,101)(52,100)(53,99)(54,98)(55,97)(56,96)(57,95)(58,94)(59,93)(60,92)(61,91)(62,90)(63,89)(64,88)(65,87)(66,86)(67,85)(68,84)(69,83)(70,82)(71,81)(72,80)(73,79)(74,78)(75,77)"
      ]
     },
     "metadata": {},
     "output_type": "display_data"
    },
    {
     "data": {
      "text/html": [
       "<html><script type=\"math/tex; mode=display\">\\newcommand{\\Bold}[1]{\\mathbf{#1}}\\tau \\times \\sigma^{116}= (1,17)(2,16)(3,15)(4,14)(5,13)(6,12)(7,11)(8,10)(18,133)(19,132)(20,131)(21,130)(22,129)(23,128)(24,127)(25,126)(26,125)(27,124)(28,123)(29,122)(30,121)(31,120)(32,119)(33,118)(34,117)(35,116)(36,115)(37,114)(38,113)(39,112)(40,111)(41,110)(42,109)(43,108)(44,107)(45,106)(46,105)(47,104)(48,103)(49,102)(50,101)(51,100)(52,99)(53,98)(54,97)(55,96)(56,95)(57,94)(58,93)(59,92)(60,91)(61,90)(62,89)(63,88)(64,87)(65,86)(66,85)(67,84)(68,83)(69,82)(70,81)(71,80)(72,79)(73,78)(74,77)(75,76)</script></html>"
      ],
      "text/latex": [
       "$$\\newcommand{\\Bold}[1]{\\mathbf{#1}}\\tau \\times \\sigma^{116}= (1,17)(2,16)(3,15)(4,14)(5,13)(6,12)(7,11)(8,10)(18,133)(19,132)(20,131)(21,130)(22,129)(23,128)(24,127)(25,126)(26,125)(27,124)(28,123)(29,122)(30,121)(31,120)(32,119)(33,118)(34,117)(35,116)(36,115)(37,114)(38,113)(39,112)(40,111)(41,110)(42,109)(43,108)(44,107)(45,106)(46,105)(47,104)(48,103)(49,102)(50,101)(51,100)(52,99)(53,98)(54,97)(55,96)(56,95)(57,94)(58,93)(59,92)(60,91)(61,90)(62,89)(63,88)(64,87)(65,86)(66,85)(67,84)(68,83)(69,82)(70,81)(71,80)(72,79)(73,78)(74,77)(75,76)$$"
      ],
      "text/plain": [
       "\\tau \\times \\sigma^{116}= (1,17)(2,16)(3,15)(4,14)(5,13)(6,12)(7,11)(8,10)(18,133)(19,132)(20,131)(21,130)(22,129)(23,128)(24,127)(25,126)(26,125)(27,124)(28,123)(29,122)(30,121)(31,120)(32,119)(33,118)(34,117)(35,116)(36,115)(37,114)(38,113)(39,112)(40,111)(41,110)(42,109)(43,108)(44,107)(45,106)(46,105)(47,104)(48,103)(49,102)(50,101)(51,100)(52,99)(53,98)(54,97)(55,96)(56,95)(57,94)(58,93)(59,92)(60,91)(61,90)(62,89)(63,88)(64,87)(65,86)(66,85)(67,84)(68,83)(69,82)(70,81)(71,80)(72,79)(73,78)(74,77)(75,76)"
      ]
     },
     "metadata": {},
     "output_type": "display_data"
    },
    {
     "data": {
      "text/html": [
       "<html><script type=\"math/tex; mode=display\">\\newcommand{\\Bold}[1]{\\mathbf{#1}}\\tau \\times \\sigma^{117}= (1,16)(2,15)(3,14)(4,13)(5,12)(6,11)(7,10)(8,9)(17,133)(18,132)(19,131)(20,130)(21,129)(22,128)(23,127)(24,126)(25,125)(26,124)(27,123)(28,122)(29,121)(30,120)(31,119)(32,118)(33,117)(34,116)(35,115)(36,114)(37,113)(38,112)(39,111)(40,110)(41,109)(42,108)(43,107)(44,106)(45,105)(46,104)(47,103)(48,102)(49,101)(50,100)(51,99)(52,98)(53,97)(54,96)(55,95)(56,94)(57,93)(58,92)(59,91)(60,90)(61,89)(62,88)(63,87)(64,86)(65,85)(66,84)(67,83)(68,82)(69,81)(70,80)(71,79)(72,78)(73,77)(74,76)</script></html>"
      ],
      "text/latex": [
       "$$\\newcommand{\\Bold}[1]{\\mathbf{#1}}\\tau \\times \\sigma^{117}= (1,16)(2,15)(3,14)(4,13)(5,12)(6,11)(7,10)(8,9)(17,133)(18,132)(19,131)(20,130)(21,129)(22,128)(23,127)(24,126)(25,125)(26,124)(27,123)(28,122)(29,121)(30,120)(31,119)(32,118)(33,117)(34,116)(35,115)(36,114)(37,113)(38,112)(39,111)(40,110)(41,109)(42,108)(43,107)(44,106)(45,105)(46,104)(47,103)(48,102)(49,101)(50,100)(51,99)(52,98)(53,97)(54,96)(55,95)(56,94)(57,93)(58,92)(59,91)(60,90)(61,89)(62,88)(63,87)(64,86)(65,85)(66,84)(67,83)(68,82)(69,81)(70,80)(71,79)(72,78)(73,77)(74,76)$$"
      ],
      "text/plain": [
       "\\tau \\times \\sigma^{117}= (1,16)(2,15)(3,14)(4,13)(5,12)(6,11)(7,10)(8,9)(17,133)(18,132)(19,131)(20,130)(21,129)(22,128)(23,127)(24,126)(25,125)(26,124)(27,123)(28,122)(29,121)(30,120)(31,119)(32,118)(33,117)(34,116)(35,115)(36,114)(37,113)(38,112)(39,111)(40,110)(41,109)(42,108)(43,107)(44,106)(45,105)(46,104)(47,103)(48,102)(49,101)(50,100)(51,99)(52,98)(53,97)(54,96)(55,95)(56,94)(57,93)(58,92)(59,91)(60,90)(61,89)(62,88)(63,87)(64,86)(65,85)(66,84)(67,83)(68,82)(69,81)(70,80)(71,79)(72,78)(73,77)(74,76)"
      ]
     },
     "metadata": {},
     "output_type": "display_data"
    },
    {
     "data": {
      "text/html": [
       "<html><script type=\"math/tex; mode=display\">\\newcommand{\\Bold}[1]{\\mathbf{#1}}\\tau \\times \\sigma^{118}= (1,15)(2,14)(3,13)(4,12)(5,11)(6,10)(7,9)(16,133)(17,132)(18,131)(19,130)(20,129)(21,128)(22,127)(23,126)(24,125)(25,124)(26,123)(27,122)(28,121)(29,120)(30,119)(31,118)(32,117)(33,116)(34,115)(35,114)(36,113)(37,112)(38,111)(39,110)(40,109)(41,108)(42,107)(43,106)(44,105)(45,104)(46,103)(47,102)(48,101)(49,100)(50,99)(51,98)(52,97)(53,96)(54,95)(55,94)(56,93)(57,92)(58,91)(59,90)(60,89)(61,88)(62,87)(63,86)(64,85)(65,84)(66,83)(67,82)(68,81)(69,80)(70,79)(71,78)(72,77)(73,76)(74,75)</script></html>"
      ],
      "text/latex": [
       "$$\\newcommand{\\Bold}[1]{\\mathbf{#1}}\\tau \\times \\sigma^{118}= (1,15)(2,14)(3,13)(4,12)(5,11)(6,10)(7,9)(16,133)(17,132)(18,131)(19,130)(20,129)(21,128)(22,127)(23,126)(24,125)(25,124)(26,123)(27,122)(28,121)(29,120)(30,119)(31,118)(32,117)(33,116)(34,115)(35,114)(36,113)(37,112)(38,111)(39,110)(40,109)(41,108)(42,107)(43,106)(44,105)(45,104)(46,103)(47,102)(48,101)(49,100)(50,99)(51,98)(52,97)(53,96)(54,95)(55,94)(56,93)(57,92)(58,91)(59,90)(60,89)(61,88)(62,87)(63,86)(64,85)(65,84)(66,83)(67,82)(68,81)(69,80)(70,79)(71,78)(72,77)(73,76)(74,75)$$"
      ],
      "text/plain": [
       "\\tau \\times \\sigma^{118}= (1,15)(2,14)(3,13)(4,12)(5,11)(6,10)(7,9)(16,133)(17,132)(18,131)(19,130)(20,129)(21,128)(22,127)(23,126)(24,125)(25,124)(26,123)(27,122)(28,121)(29,120)(30,119)(31,118)(32,117)(33,116)(34,115)(35,114)(36,113)(37,112)(38,111)(39,110)(40,109)(41,108)(42,107)(43,106)(44,105)(45,104)(46,103)(47,102)(48,101)(49,100)(50,99)(51,98)(52,97)(53,96)(54,95)(55,94)(56,93)(57,92)(58,91)(59,90)(60,89)(61,88)(62,87)(63,86)(64,85)(65,84)(66,83)(67,82)(68,81)(69,80)(70,79)(71,78)(72,77)(73,76)(74,75)"
      ]
     },
     "metadata": {},
     "output_type": "display_data"
    },
    {
     "data": {
      "text/html": [
       "<html><script type=\"math/tex; mode=display\">\\newcommand{\\Bold}[1]{\\mathbf{#1}}\\tau \\times \\sigma^{119}= (1,14)(2,13)(3,12)(4,11)(5,10)(6,9)(7,8)(15,133)(16,132)(17,131)(18,130)(19,129)(20,128)(21,127)(22,126)(23,125)(24,124)(25,123)(26,122)(27,121)(28,120)(29,119)(30,118)(31,117)(32,116)(33,115)(34,114)(35,113)(36,112)(37,111)(38,110)(39,109)(40,108)(41,107)(42,106)(43,105)(44,104)(45,103)(46,102)(47,101)(48,100)(49,99)(50,98)(51,97)(52,96)(53,95)(54,94)(55,93)(56,92)(57,91)(58,90)(59,89)(60,88)(61,87)(62,86)(63,85)(64,84)(65,83)(66,82)(67,81)(68,80)(69,79)(70,78)(71,77)(72,76)(73,75)</script></html>"
      ],
      "text/latex": [
       "$$\\newcommand{\\Bold}[1]{\\mathbf{#1}}\\tau \\times \\sigma^{119}= (1,14)(2,13)(3,12)(4,11)(5,10)(6,9)(7,8)(15,133)(16,132)(17,131)(18,130)(19,129)(20,128)(21,127)(22,126)(23,125)(24,124)(25,123)(26,122)(27,121)(28,120)(29,119)(30,118)(31,117)(32,116)(33,115)(34,114)(35,113)(36,112)(37,111)(38,110)(39,109)(40,108)(41,107)(42,106)(43,105)(44,104)(45,103)(46,102)(47,101)(48,100)(49,99)(50,98)(51,97)(52,96)(53,95)(54,94)(55,93)(56,92)(57,91)(58,90)(59,89)(60,88)(61,87)(62,86)(63,85)(64,84)(65,83)(66,82)(67,81)(68,80)(69,79)(70,78)(71,77)(72,76)(73,75)$$"
      ],
      "text/plain": [
       "\\tau \\times \\sigma^{119}= (1,14)(2,13)(3,12)(4,11)(5,10)(6,9)(7,8)(15,133)(16,132)(17,131)(18,130)(19,129)(20,128)(21,127)(22,126)(23,125)(24,124)(25,123)(26,122)(27,121)(28,120)(29,119)(30,118)(31,117)(32,116)(33,115)(34,114)(35,113)(36,112)(37,111)(38,110)(39,109)(40,108)(41,107)(42,106)(43,105)(44,104)(45,103)(46,102)(47,101)(48,100)(49,99)(50,98)(51,97)(52,96)(53,95)(54,94)(55,93)(56,92)(57,91)(58,90)(59,89)(60,88)(61,87)(62,86)(63,85)(64,84)(65,83)(66,82)(67,81)(68,80)(69,79)(70,78)(71,77)(72,76)(73,75)"
      ]
     },
     "metadata": {},
     "output_type": "display_data"
    },
    {
     "data": {
      "text/html": [
       "<html><script type=\"math/tex; mode=display\">\\newcommand{\\Bold}[1]{\\mathbf{#1}}\\tau \\times \\sigma^{120}= (1,13)(2,12)(3,11)(4,10)(5,9)(6,8)(14,133)(15,132)(16,131)(17,130)(18,129)(19,128)(20,127)(21,126)(22,125)(23,124)(24,123)(25,122)(26,121)(27,120)(28,119)(29,118)(30,117)(31,116)(32,115)(33,114)(34,113)(35,112)(36,111)(37,110)(38,109)(39,108)(40,107)(41,106)(42,105)(43,104)(44,103)(45,102)(46,101)(47,100)(48,99)(49,98)(50,97)(51,96)(52,95)(53,94)(54,93)(55,92)(56,91)(57,90)(58,89)(59,88)(60,87)(61,86)(62,85)(63,84)(64,83)(65,82)(66,81)(67,80)(68,79)(69,78)(70,77)(71,76)(72,75)(73,74)</script></html>"
      ],
      "text/latex": [
       "$$\\newcommand{\\Bold}[1]{\\mathbf{#1}}\\tau \\times \\sigma^{120}= (1,13)(2,12)(3,11)(4,10)(5,9)(6,8)(14,133)(15,132)(16,131)(17,130)(18,129)(19,128)(20,127)(21,126)(22,125)(23,124)(24,123)(25,122)(26,121)(27,120)(28,119)(29,118)(30,117)(31,116)(32,115)(33,114)(34,113)(35,112)(36,111)(37,110)(38,109)(39,108)(40,107)(41,106)(42,105)(43,104)(44,103)(45,102)(46,101)(47,100)(48,99)(49,98)(50,97)(51,96)(52,95)(53,94)(54,93)(55,92)(56,91)(57,90)(58,89)(59,88)(60,87)(61,86)(62,85)(63,84)(64,83)(65,82)(66,81)(67,80)(68,79)(69,78)(70,77)(71,76)(72,75)(73,74)$$"
      ],
      "text/plain": [
       "\\tau \\times \\sigma^{120}= (1,13)(2,12)(3,11)(4,10)(5,9)(6,8)(14,133)(15,132)(16,131)(17,130)(18,129)(19,128)(20,127)(21,126)(22,125)(23,124)(24,123)(25,122)(26,121)(27,120)(28,119)(29,118)(30,117)(31,116)(32,115)(33,114)(34,113)(35,112)(36,111)(37,110)(38,109)(39,108)(40,107)(41,106)(42,105)(43,104)(44,103)(45,102)(46,101)(47,100)(48,99)(49,98)(50,97)(51,96)(52,95)(53,94)(54,93)(55,92)(56,91)(57,90)(58,89)(59,88)(60,87)(61,86)(62,85)(63,84)(64,83)(65,82)(66,81)(67,80)(68,79)(69,78)(70,77)(71,76)(72,75)(73,74)"
      ]
     },
     "metadata": {},
     "output_type": "display_data"
    },
    {
     "data": {
      "text/html": [
       "<html><script type=\"math/tex; mode=display\">\\newcommand{\\Bold}[1]{\\mathbf{#1}}\\tau \\times \\sigma^{121}= (1,12)(2,11)(3,10)(4,9)(5,8)(6,7)(13,133)(14,132)(15,131)(16,130)(17,129)(18,128)(19,127)(20,126)(21,125)(22,124)(23,123)(24,122)(25,121)(26,120)(27,119)(28,118)(29,117)(30,116)(31,115)(32,114)(33,113)(34,112)(35,111)(36,110)(37,109)(38,108)(39,107)(40,106)(41,105)(42,104)(43,103)(44,102)(45,101)(46,100)(47,99)(48,98)(49,97)(50,96)(51,95)(52,94)(53,93)(54,92)(55,91)(56,90)(57,89)(58,88)(59,87)(60,86)(61,85)(62,84)(63,83)(64,82)(65,81)(66,80)(67,79)(68,78)(69,77)(70,76)(71,75)(72,74)</script></html>"
      ],
      "text/latex": [
       "$$\\newcommand{\\Bold}[1]{\\mathbf{#1}}\\tau \\times \\sigma^{121}= (1,12)(2,11)(3,10)(4,9)(5,8)(6,7)(13,133)(14,132)(15,131)(16,130)(17,129)(18,128)(19,127)(20,126)(21,125)(22,124)(23,123)(24,122)(25,121)(26,120)(27,119)(28,118)(29,117)(30,116)(31,115)(32,114)(33,113)(34,112)(35,111)(36,110)(37,109)(38,108)(39,107)(40,106)(41,105)(42,104)(43,103)(44,102)(45,101)(46,100)(47,99)(48,98)(49,97)(50,96)(51,95)(52,94)(53,93)(54,92)(55,91)(56,90)(57,89)(58,88)(59,87)(60,86)(61,85)(62,84)(63,83)(64,82)(65,81)(66,80)(67,79)(68,78)(69,77)(70,76)(71,75)(72,74)$$"
      ],
      "text/plain": [
       "\\tau \\times \\sigma^{121}= (1,12)(2,11)(3,10)(4,9)(5,8)(6,7)(13,133)(14,132)(15,131)(16,130)(17,129)(18,128)(19,127)(20,126)(21,125)(22,124)(23,123)(24,122)(25,121)(26,120)(27,119)(28,118)(29,117)(30,116)(31,115)(32,114)(33,113)(34,112)(35,111)(36,110)(37,109)(38,108)(39,107)(40,106)(41,105)(42,104)(43,103)(44,102)(45,101)(46,100)(47,99)(48,98)(49,97)(50,96)(51,95)(52,94)(53,93)(54,92)(55,91)(56,90)(57,89)(58,88)(59,87)(60,86)(61,85)(62,84)(63,83)(64,82)(65,81)(66,80)(67,79)(68,78)(69,77)(70,76)(71,75)(72,74)"
      ]
     },
     "metadata": {},
     "output_type": "display_data"
    },
    {
     "data": {
      "text/html": [
       "<html><script type=\"math/tex; mode=display\">\\newcommand{\\Bold}[1]{\\mathbf{#1}}\\tau \\times \\sigma^{122}= (1,11)(2,10)(3,9)(4,8)(5,7)(12,133)(13,132)(14,131)(15,130)(16,129)(17,128)(18,127)(19,126)(20,125)(21,124)(22,123)(23,122)(24,121)(25,120)(26,119)(27,118)(28,117)(29,116)(30,115)(31,114)(32,113)(33,112)(34,111)(35,110)(36,109)(37,108)(38,107)(39,106)(40,105)(41,104)(42,103)(43,102)(44,101)(45,100)(46,99)(47,98)(48,97)(49,96)(50,95)(51,94)(52,93)(53,92)(54,91)(55,90)(56,89)(57,88)(58,87)(59,86)(60,85)(61,84)(62,83)(63,82)(64,81)(65,80)(66,79)(67,78)(68,77)(69,76)(70,75)(71,74)(72,73)</script></html>"
      ],
      "text/latex": [
       "$$\\newcommand{\\Bold}[1]{\\mathbf{#1}}\\tau \\times \\sigma^{122}= (1,11)(2,10)(3,9)(4,8)(5,7)(12,133)(13,132)(14,131)(15,130)(16,129)(17,128)(18,127)(19,126)(20,125)(21,124)(22,123)(23,122)(24,121)(25,120)(26,119)(27,118)(28,117)(29,116)(30,115)(31,114)(32,113)(33,112)(34,111)(35,110)(36,109)(37,108)(38,107)(39,106)(40,105)(41,104)(42,103)(43,102)(44,101)(45,100)(46,99)(47,98)(48,97)(49,96)(50,95)(51,94)(52,93)(53,92)(54,91)(55,90)(56,89)(57,88)(58,87)(59,86)(60,85)(61,84)(62,83)(63,82)(64,81)(65,80)(66,79)(67,78)(68,77)(69,76)(70,75)(71,74)(72,73)$$"
      ],
      "text/plain": [
       "\\tau \\times \\sigma^{122}= (1,11)(2,10)(3,9)(4,8)(5,7)(12,133)(13,132)(14,131)(15,130)(16,129)(17,128)(18,127)(19,126)(20,125)(21,124)(22,123)(23,122)(24,121)(25,120)(26,119)(27,118)(28,117)(29,116)(30,115)(31,114)(32,113)(33,112)(34,111)(35,110)(36,109)(37,108)(38,107)(39,106)(40,105)(41,104)(42,103)(43,102)(44,101)(45,100)(46,99)(47,98)(48,97)(49,96)(50,95)(51,94)(52,93)(53,92)(54,91)(55,90)(56,89)(57,88)(58,87)(59,86)(60,85)(61,84)(62,83)(63,82)(64,81)(65,80)(66,79)(67,78)(68,77)(69,76)(70,75)(71,74)(72,73)"
      ]
     },
     "metadata": {},
     "output_type": "display_data"
    },
    {
     "data": {
      "text/html": [
       "<html><script type=\"math/tex; mode=display\">\\newcommand{\\Bold}[1]{\\mathbf{#1}}\\tau \\times \\sigma^{123}= (1,10)(2,9)(3,8)(4,7)(5,6)(11,133)(12,132)(13,131)(14,130)(15,129)(16,128)(17,127)(18,126)(19,125)(20,124)(21,123)(22,122)(23,121)(24,120)(25,119)(26,118)(27,117)(28,116)(29,115)(30,114)(31,113)(32,112)(33,111)(34,110)(35,109)(36,108)(37,107)(38,106)(39,105)(40,104)(41,103)(42,102)(43,101)(44,100)(45,99)(46,98)(47,97)(48,96)(49,95)(50,94)(51,93)(52,92)(53,91)(54,90)(55,89)(56,88)(57,87)(58,86)(59,85)(60,84)(61,83)(62,82)(63,81)(64,80)(65,79)(66,78)(67,77)(68,76)(69,75)(70,74)(71,73)</script></html>"
      ],
      "text/latex": [
       "$$\\newcommand{\\Bold}[1]{\\mathbf{#1}}\\tau \\times \\sigma^{123}= (1,10)(2,9)(3,8)(4,7)(5,6)(11,133)(12,132)(13,131)(14,130)(15,129)(16,128)(17,127)(18,126)(19,125)(20,124)(21,123)(22,122)(23,121)(24,120)(25,119)(26,118)(27,117)(28,116)(29,115)(30,114)(31,113)(32,112)(33,111)(34,110)(35,109)(36,108)(37,107)(38,106)(39,105)(40,104)(41,103)(42,102)(43,101)(44,100)(45,99)(46,98)(47,97)(48,96)(49,95)(50,94)(51,93)(52,92)(53,91)(54,90)(55,89)(56,88)(57,87)(58,86)(59,85)(60,84)(61,83)(62,82)(63,81)(64,80)(65,79)(66,78)(67,77)(68,76)(69,75)(70,74)(71,73)$$"
      ],
      "text/plain": [
       "\\tau \\times \\sigma^{123}= (1,10)(2,9)(3,8)(4,7)(5,6)(11,133)(12,132)(13,131)(14,130)(15,129)(16,128)(17,127)(18,126)(19,125)(20,124)(21,123)(22,122)(23,121)(24,120)(25,119)(26,118)(27,117)(28,116)(29,115)(30,114)(31,113)(32,112)(33,111)(34,110)(35,109)(36,108)(37,107)(38,106)(39,105)(40,104)(41,103)(42,102)(43,101)(44,100)(45,99)(46,98)(47,97)(48,96)(49,95)(50,94)(51,93)(52,92)(53,91)(54,90)(55,89)(56,88)(57,87)(58,86)(59,85)(60,84)(61,83)(62,82)(63,81)(64,80)(65,79)(66,78)(67,77)(68,76)(69,75)(70,74)(71,73)"
      ]
     },
     "metadata": {},
     "output_type": "display_data"
    },
    {
     "data": {
      "text/html": [
       "<html><script type=\"math/tex; mode=display\">\\newcommand{\\Bold}[1]{\\mathbf{#1}}\\tau \\times \\sigma^{124}= (1,9)(2,8)(3,7)(4,6)(10,133)(11,132)(12,131)(13,130)(14,129)(15,128)(16,127)(17,126)(18,125)(19,124)(20,123)(21,122)(22,121)(23,120)(24,119)(25,118)(26,117)(27,116)(28,115)(29,114)(30,113)(31,112)(32,111)(33,110)(34,109)(35,108)(36,107)(37,106)(38,105)(39,104)(40,103)(41,102)(42,101)(43,100)(44,99)(45,98)(46,97)(47,96)(48,95)(49,94)(50,93)(51,92)(52,91)(53,90)(54,89)(55,88)(56,87)(57,86)(58,85)(59,84)(60,83)(61,82)(62,81)(63,80)(64,79)(65,78)(66,77)(67,76)(68,75)(69,74)(70,73)(71,72)</script></html>"
      ],
      "text/latex": [
       "$$\\newcommand{\\Bold}[1]{\\mathbf{#1}}\\tau \\times \\sigma^{124}= (1,9)(2,8)(3,7)(4,6)(10,133)(11,132)(12,131)(13,130)(14,129)(15,128)(16,127)(17,126)(18,125)(19,124)(20,123)(21,122)(22,121)(23,120)(24,119)(25,118)(26,117)(27,116)(28,115)(29,114)(30,113)(31,112)(32,111)(33,110)(34,109)(35,108)(36,107)(37,106)(38,105)(39,104)(40,103)(41,102)(42,101)(43,100)(44,99)(45,98)(46,97)(47,96)(48,95)(49,94)(50,93)(51,92)(52,91)(53,90)(54,89)(55,88)(56,87)(57,86)(58,85)(59,84)(60,83)(61,82)(62,81)(63,80)(64,79)(65,78)(66,77)(67,76)(68,75)(69,74)(70,73)(71,72)$$"
      ],
      "text/plain": [
       "\\tau \\times \\sigma^{124}= (1,9)(2,8)(3,7)(4,6)(10,133)(11,132)(12,131)(13,130)(14,129)(15,128)(16,127)(17,126)(18,125)(19,124)(20,123)(21,122)(22,121)(23,120)(24,119)(25,118)(26,117)(27,116)(28,115)(29,114)(30,113)(31,112)(32,111)(33,110)(34,109)(35,108)(36,107)(37,106)(38,105)(39,104)(40,103)(41,102)(42,101)(43,100)(44,99)(45,98)(46,97)(47,96)(48,95)(49,94)(50,93)(51,92)(52,91)(53,90)(54,89)(55,88)(56,87)(57,86)(58,85)(59,84)(60,83)(61,82)(62,81)(63,80)(64,79)(65,78)(66,77)(67,76)(68,75)(69,74)(70,73)(71,72)"
      ]
     },
     "metadata": {},
     "output_type": "display_data"
    },
    {
     "data": {
      "text/html": [
       "<html><script type=\"math/tex; mode=display\">\\newcommand{\\Bold}[1]{\\mathbf{#1}}\\tau \\times \\sigma^{125}= (1,8)(2,7)(3,6)(4,5)(9,133)(10,132)(11,131)(12,130)(13,129)(14,128)(15,127)(16,126)(17,125)(18,124)(19,123)(20,122)(21,121)(22,120)(23,119)(24,118)(25,117)(26,116)(27,115)(28,114)(29,113)(30,112)(31,111)(32,110)(33,109)(34,108)(35,107)(36,106)(37,105)(38,104)(39,103)(40,102)(41,101)(42,100)(43,99)(44,98)(45,97)(46,96)(47,95)(48,94)(49,93)(50,92)(51,91)(52,90)(53,89)(54,88)(55,87)(56,86)(57,85)(58,84)(59,83)(60,82)(61,81)(62,80)(63,79)(64,78)(65,77)(66,76)(67,75)(68,74)(69,73)(70,72)</script></html>"
      ],
      "text/latex": [
       "$$\\newcommand{\\Bold}[1]{\\mathbf{#1}}\\tau \\times \\sigma^{125}= (1,8)(2,7)(3,6)(4,5)(9,133)(10,132)(11,131)(12,130)(13,129)(14,128)(15,127)(16,126)(17,125)(18,124)(19,123)(20,122)(21,121)(22,120)(23,119)(24,118)(25,117)(26,116)(27,115)(28,114)(29,113)(30,112)(31,111)(32,110)(33,109)(34,108)(35,107)(36,106)(37,105)(38,104)(39,103)(40,102)(41,101)(42,100)(43,99)(44,98)(45,97)(46,96)(47,95)(48,94)(49,93)(50,92)(51,91)(52,90)(53,89)(54,88)(55,87)(56,86)(57,85)(58,84)(59,83)(60,82)(61,81)(62,80)(63,79)(64,78)(65,77)(66,76)(67,75)(68,74)(69,73)(70,72)$$"
      ],
      "text/plain": [
       "\\tau \\times \\sigma^{125}= (1,8)(2,7)(3,6)(4,5)(9,133)(10,132)(11,131)(12,130)(13,129)(14,128)(15,127)(16,126)(17,125)(18,124)(19,123)(20,122)(21,121)(22,120)(23,119)(24,118)(25,117)(26,116)(27,115)(28,114)(29,113)(30,112)(31,111)(32,110)(33,109)(34,108)(35,107)(36,106)(37,105)(38,104)(39,103)(40,102)(41,101)(42,100)(43,99)(44,98)(45,97)(46,96)(47,95)(48,94)(49,93)(50,92)(51,91)(52,90)(53,89)(54,88)(55,87)(56,86)(57,85)(58,84)(59,83)(60,82)(61,81)(62,80)(63,79)(64,78)(65,77)(66,76)(67,75)(68,74)(69,73)(70,72)"
      ]
     },
     "metadata": {},
     "output_type": "display_data"
    },
    {
     "data": {
      "text/html": [
       "<html><script type=\"math/tex; mode=display\">\\newcommand{\\Bold}[1]{\\mathbf{#1}}\\tau \\times \\sigma^{126}= (1,7)(2,6)(3,5)(8,133)(9,132)(10,131)(11,130)(12,129)(13,128)(14,127)(15,126)(16,125)(17,124)(18,123)(19,122)(20,121)(21,120)(22,119)(23,118)(24,117)(25,116)(26,115)(27,114)(28,113)(29,112)(30,111)(31,110)(32,109)(33,108)(34,107)(35,106)(36,105)(37,104)(38,103)(39,102)(40,101)(41,100)(42,99)(43,98)(44,97)(45,96)(46,95)(47,94)(48,93)(49,92)(50,91)(51,90)(52,89)(53,88)(54,87)(55,86)(56,85)(57,84)(58,83)(59,82)(60,81)(61,80)(62,79)(63,78)(64,77)(65,76)(66,75)(67,74)(68,73)(69,72)(70,71)</script></html>"
      ],
      "text/latex": [
       "$$\\newcommand{\\Bold}[1]{\\mathbf{#1}}\\tau \\times \\sigma^{126}= (1,7)(2,6)(3,5)(8,133)(9,132)(10,131)(11,130)(12,129)(13,128)(14,127)(15,126)(16,125)(17,124)(18,123)(19,122)(20,121)(21,120)(22,119)(23,118)(24,117)(25,116)(26,115)(27,114)(28,113)(29,112)(30,111)(31,110)(32,109)(33,108)(34,107)(35,106)(36,105)(37,104)(38,103)(39,102)(40,101)(41,100)(42,99)(43,98)(44,97)(45,96)(46,95)(47,94)(48,93)(49,92)(50,91)(51,90)(52,89)(53,88)(54,87)(55,86)(56,85)(57,84)(58,83)(59,82)(60,81)(61,80)(62,79)(63,78)(64,77)(65,76)(66,75)(67,74)(68,73)(69,72)(70,71)$$"
      ],
      "text/plain": [
       "\\tau \\times \\sigma^{126}= (1,7)(2,6)(3,5)(8,133)(9,132)(10,131)(11,130)(12,129)(13,128)(14,127)(15,126)(16,125)(17,124)(18,123)(19,122)(20,121)(21,120)(22,119)(23,118)(24,117)(25,116)(26,115)(27,114)(28,113)(29,112)(30,111)(31,110)(32,109)(33,108)(34,107)(35,106)(36,105)(37,104)(38,103)(39,102)(40,101)(41,100)(42,99)(43,98)(44,97)(45,96)(46,95)(47,94)(48,93)(49,92)(50,91)(51,90)(52,89)(53,88)(54,87)(55,86)(56,85)(57,84)(58,83)(59,82)(60,81)(61,80)(62,79)(63,78)(64,77)(65,76)(66,75)(67,74)(68,73)(69,72)(70,71)"
      ]
     },
     "metadata": {},
     "output_type": "display_data"
    },
    {
     "data": {
      "text/html": [
       "<html><script type=\"math/tex; mode=display\">\\newcommand{\\Bold}[1]{\\mathbf{#1}}\\tau \\times \\sigma^{127}= (1,6)(2,5)(3,4)(7,133)(8,132)(9,131)(10,130)(11,129)(12,128)(13,127)(14,126)(15,125)(16,124)(17,123)(18,122)(19,121)(20,120)(21,119)(22,118)(23,117)(24,116)(25,115)(26,114)(27,113)(28,112)(29,111)(30,110)(31,109)(32,108)(33,107)(34,106)(35,105)(36,104)(37,103)(38,102)(39,101)(40,100)(41,99)(42,98)(43,97)(44,96)(45,95)(46,94)(47,93)(48,92)(49,91)(50,90)(51,89)(52,88)(53,87)(54,86)(55,85)(56,84)(57,83)(58,82)(59,81)(60,80)(61,79)(62,78)(63,77)(64,76)(65,75)(66,74)(67,73)(68,72)(69,71)</script></html>"
      ],
      "text/latex": [
       "$$\\newcommand{\\Bold}[1]{\\mathbf{#1}}\\tau \\times \\sigma^{127}= (1,6)(2,5)(3,4)(7,133)(8,132)(9,131)(10,130)(11,129)(12,128)(13,127)(14,126)(15,125)(16,124)(17,123)(18,122)(19,121)(20,120)(21,119)(22,118)(23,117)(24,116)(25,115)(26,114)(27,113)(28,112)(29,111)(30,110)(31,109)(32,108)(33,107)(34,106)(35,105)(36,104)(37,103)(38,102)(39,101)(40,100)(41,99)(42,98)(43,97)(44,96)(45,95)(46,94)(47,93)(48,92)(49,91)(50,90)(51,89)(52,88)(53,87)(54,86)(55,85)(56,84)(57,83)(58,82)(59,81)(60,80)(61,79)(62,78)(63,77)(64,76)(65,75)(66,74)(67,73)(68,72)(69,71)$$"
      ],
      "text/plain": [
       "\\tau \\times \\sigma^{127}= (1,6)(2,5)(3,4)(7,133)(8,132)(9,131)(10,130)(11,129)(12,128)(13,127)(14,126)(15,125)(16,124)(17,123)(18,122)(19,121)(20,120)(21,119)(22,118)(23,117)(24,116)(25,115)(26,114)(27,113)(28,112)(29,111)(30,110)(31,109)(32,108)(33,107)(34,106)(35,105)(36,104)(37,103)(38,102)(39,101)(40,100)(41,99)(42,98)(43,97)(44,96)(45,95)(46,94)(47,93)(48,92)(49,91)(50,90)(51,89)(52,88)(53,87)(54,86)(55,85)(56,84)(57,83)(58,82)(59,81)(60,80)(61,79)(62,78)(63,77)(64,76)(65,75)(66,74)(67,73)(68,72)(69,71)"
      ]
     },
     "metadata": {},
     "output_type": "display_data"
    },
    {
     "data": {
      "text/html": [
       "<html><script type=\"math/tex; mode=display\">\\newcommand{\\Bold}[1]{\\mathbf{#1}}\\tau \\times \\sigma^{128}= (1,5)(2,4)(6,133)(7,132)(8,131)(9,130)(10,129)(11,128)(12,127)(13,126)(14,125)(15,124)(16,123)(17,122)(18,121)(19,120)(20,119)(21,118)(22,117)(23,116)(24,115)(25,114)(26,113)(27,112)(28,111)(29,110)(30,109)(31,108)(32,107)(33,106)(34,105)(35,104)(36,103)(37,102)(38,101)(39,100)(40,99)(41,98)(42,97)(43,96)(44,95)(45,94)(46,93)(47,92)(48,91)(49,90)(50,89)(51,88)(52,87)(53,86)(54,85)(55,84)(56,83)(57,82)(58,81)(59,80)(60,79)(61,78)(62,77)(63,76)(64,75)(65,74)(66,73)(67,72)(68,71)(69,70)</script></html>"
      ],
      "text/latex": [
       "$$\\newcommand{\\Bold}[1]{\\mathbf{#1}}\\tau \\times \\sigma^{128}= (1,5)(2,4)(6,133)(7,132)(8,131)(9,130)(10,129)(11,128)(12,127)(13,126)(14,125)(15,124)(16,123)(17,122)(18,121)(19,120)(20,119)(21,118)(22,117)(23,116)(24,115)(25,114)(26,113)(27,112)(28,111)(29,110)(30,109)(31,108)(32,107)(33,106)(34,105)(35,104)(36,103)(37,102)(38,101)(39,100)(40,99)(41,98)(42,97)(43,96)(44,95)(45,94)(46,93)(47,92)(48,91)(49,90)(50,89)(51,88)(52,87)(53,86)(54,85)(55,84)(56,83)(57,82)(58,81)(59,80)(60,79)(61,78)(62,77)(63,76)(64,75)(65,74)(66,73)(67,72)(68,71)(69,70)$$"
      ],
      "text/plain": [
       "\\tau \\times \\sigma^{128}= (1,5)(2,4)(6,133)(7,132)(8,131)(9,130)(10,129)(11,128)(12,127)(13,126)(14,125)(15,124)(16,123)(17,122)(18,121)(19,120)(20,119)(21,118)(22,117)(23,116)(24,115)(25,114)(26,113)(27,112)(28,111)(29,110)(30,109)(31,108)(32,107)(33,106)(34,105)(35,104)(36,103)(37,102)(38,101)(39,100)(40,99)(41,98)(42,97)(43,96)(44,95)(45,94)(46,93)(47,92)(48,91)(49,90)(50,89)(51,88)(52,87)(53,86)(54,85)(55,84)(56,83)(57,82)(58,81)(59,80)(60,79)(61,78)(62,77)(63,76)(64,75)(65,74)(66,73)(67,72)(68,71)(69,70)"
      ]
     },
     "metadata": {},
     "output_type": "display_data"
    },
    {
     "data": {
      "text/html": [
       "<html><script type=\"math/tex; mode=display\">\\newcommand{\\Bold}[1]{\\mathbf{#1}}\\tau \\times \\sigma^{129}= (1,4)(2,3)(5,133)(6,132)(7,131)(8,130)(9,129)(10,128)(11,127)(12,126)(13,125)(14,124)(15,123)(16,122)(17,121)(18,120)(19,119)(20,118)(21,117)(22,116)(23,115)(24,114)(25,113)(26,112)(27,111)(28,110)(29,109)(30,108)(31,107)(32,106)(33,105)(34,104)(35,103)(36,102)(37,101)(38,100)(39,99)(40,98)(41,97)(42,96)(43,95)(44,94)(45,93)(46,92)(47,91)(48,90)(49,89)(50,88)(51,87)(52,86)(53,85)(54,84)(55,83)(56,82)(57,81)(58,80)(59,79)(60,78)(61,77)(62,76)(63,75)(64,74)(65,73)(66,72)(67,71)(68,70)</script></html>"
      ],
      "text/latex": [
       "$$\\newcommand{\\Bold}[1]{\\mathbf{#1}}\\tau \\times \\sigma^{129}= (1,4)(2,3)(5,133)(6,132)(7,131)(8,130)(9,129)(10,128)(11,127)(12,126)(13,125)(14,124)(15,123)(16,122)(17,121)(18,120)(19,119)(20,118)(21,117)(22,116)(23,115)(24,114)(25,113)(26,112)(27,111)(28,110)(29,109)(30,108)(31,107)(32,106)(33,105)(34,104)(35,103)(36,102)(37,101)(38,100)(39,99)(40,98)(41,97)(42,96)(43,95)(44,94)(45,93)(46,92)(47,91)(48,90)(49,89)(50,88)(51,87)(52,86)(53,85)(54,84)(55,83)(56,82)(57,81)(58,80)(59,79)(60,78)(61,77)(62,76)(63,75)(64,74)(65,73)(66,72)(67,71)(68,70)$$"
      ],
      "text/plain": [
       "\\tau \\times \\sigma^{129}= (1,4)(2,3)(5,133)(6,132)(7,131)(8,130)(9,129)(10,128)(11,127)(12,126)(13,125)(14,124)(15,123)(16,122)(17,121)(18,120)(19,119)(20,118)(21,117)(22,116)(23,115)(24,114)(25,113)(26,112)(27,111)(28,110)(29,109)(30,108)(31,107)(32,106)(33,105)(34,104)(35,103)(36,102)(37,101)(38,100)(39,99)(40,98)(41,97)(42,96)(43,95)(44,94)(45,93)(46,92)(47,91)(48,90)(49,89)(50,88)(51,87)(52,86)(53,85)(54,84)(55,83)(56,82)(57,81)(58,80)(59,79)(60,78)(61,77)(62,76)(63,75)(64,74)(65,73)(66,72)(67,71)(68,70)"
      ]
     },
     "metadata": {},
     "output_type": "display_data"
    },
    {
     "data": {
      "text/html": [
       "<html><script type=\"math/tex; mode=display\">\\newcommand{\\Bold}[1]{\\mathbf{#1}}\\tau \\times \\sigma^{130}= (1,3)(4,133)(5,132)(6,131)(7,130)(8,129)(9,128)(10,127)(11,126)(12,125)(13,124)(14,123)(15,122)(16,121)(17,120)(18,119)(19,118)(20,117)(21,116)(22,115)(23,114)(24,113)(25,112)(26,111)(27,110)(28,109)(29,108)(30,107)(31,106)(32,105)(33,104)(34,103)(35,102)(36,101)(37,100)(38,99)(39,98)(40,97)(41,96)(42,95)(43,94)(44,93)(45,92)(46,91)(47,90)(48,89)(49,88)(50,87)(51,86)(52,85)(53,84)(54,83)(55,82)(56,81)(57,80)(58,79)(59,78)(60,77)(61,76)(62,75)(63,74)(64,73)(65,72)(66,71)(67,70)(68,69)</script></html>"
      ],
      "text/latex": [
       "$$\\newcommand{\\Bold}[1]{\\mathbf{#1}}\\tau \\times \\sigma^{130}= (1,3)(4,133)(5,132)(6,131)(7,130)(8,129)(9,128)(10,127)(11,126)(12,125)(13,124)(14,123)(15,122)(16,121)(17,120)(18,119)(19,118)(20,117)(21,116)(22,115)(23,114)(24,113)(25,112)(26,111)(27,110)(28,109)(29,108)(30,107)(31,106)(32,105)(33,104)(34,103)(35,102)(36,101)(37,100)(38,99)(39,98)(40,97)(41,96)(42,95)(43,94)(44,93)(45,92)(46,91)(47,90)(48,89)(49,88)(50,87)(51,86)(52,85)(53,84)(54,83)(55,82)(56,81)(57,80)(58,79)(59,78)(60,77)(61,76)(62,75)(63,74)(64,73)(65,72)(66,71)(67,70)(68,69)$$"
      ],
      "text/plain": [
       "\\tau \\times \\sigma^{130}= (1,3)(4,133)(5,132)(6,131)(7,130)(8,129)(9,128)(10,127)(11,126)(12,125)(13,124)(14,123)(15,122)(16,121)(17,120)(18,119)(19,118)(20,117)(21,116)(22,115)(23,114)(24,113)(25,112)(26,111)(27,110)(28,109)(29,108)(30,107)(31,106)(32,105)(33,104)(34,103)(35,102)(36,101)(37,100)(38,99)(39,98)(40,97)(41,96)(42,95)(43,94)(44,93)(45,92)(46,91)(47,90)(48,89)(49,88)(50,87)(51,86)(52,85)(53,84)(54,83)(55,82)(56,81)(57,80)(58,79)(59,78)(60,77)(61,76)(62,75)(63,74)(64,73)(65,72)(66,71)(67,70)(68,69)"
      ]
     },
     "metadata": {},
     "output_type": "display_data"
    },
    {
     "data": {
      "text/html": [
       "<html><script type=\"math/tex; mode=display\">\\newcommand{\\Bold}[1]{\\mathbf{#1}}\\tau \\times \\sigma^{131}= (1,2)(3,133)(4,132)(5,131)(6,130)(7,129)(8,128)(9,127)(10,126)(11,125)(12,124)(13,123)(14,122)(15,121)(16,120)(17,119)(18,118)(19,117)(20,116)(21,115)(22,114)(23,113)(24,112)(25,111)(26,110)(27,109)(28,108)(29,107)(30,106)(31,105)(32,104)(33,103)(34,102)(35,101)(36,100)(37,99)(38,98)(39,97)(40,96)(41,95)(42,94)(43,93)(44,92)(45,91)(46,90)(47,89)(48,88)(49,87)(50,86)(51,85)(52,84)(53,83)(54,82)(55,81)(56,80)(57,79)(58,78)(59,77)(60,76)(61,75)(62,74)(63,73)(64,72)(65,71)(66,70)(67,69)</script></html>"
      ],
      "text/latex": [
       "$$\\newcommand{\\Bold}[1]{\\mathbf{#1}}\\tau \\times \\sigma^{131}= (1,2)(3,133)(4,132)(5,131)(6,130)(7,129)(8,128)(9,127)(10,126)(11,125)(12,124)(13,123)(14,122)(15,121)(16,120)(17,119)(18,118)(19,117)(20,116)(21,115)(22,114)(23,113)(24,112)(25,111)(26,110)(27,109)(28,108)(29,107)(30,106)(31,105)(32,104)(33,103)(34,102)(35,101)(36,100)(37,99)(38,98)(39,97)(40,96)(41,95)(42,94)(43,93)(44,92)(45,91)(46,90)(47,89)(48,88)(49,87)(50,86)(51,85)(52,84)(53,83)(54,82)(55,81)(56,80)(57,79)(58,78)(59,77)(60,76)(61,75)(62,74)(63,73)(64,72)(65,71)(66,70)(67,69)$$"
      ],
      "text/plain": [
       "\\tau \\times \\sigma^{131}= (1,2)(3,133)(4,132)(5,131)(6,130)(7,129)(8,128)(9,127)(10,126)(11,125)(12,124)(13,123)(14,122)(15,121)(16,120)(17,119)(18,118)(19,117)(20,116)(21,115)(22,114)(23,113)(24,112)(25,111)(26,110)(27,109)(28,108)(29,107)(30,106)(31,105)(32,104)(33,103)(34,102)(35,101)(36,100)(37,99)(38,98)(39,97)(40,96)(41,95)(42,94)(43,93)(44,92)(45,91)(46,90)(47,89)(48,88)(49,87)(50,86)(51,85)(52,84)(53,83)(54,82)(55,81)(56,80)(57,79)(58,78)(59,77)(60,76)(61,75)(62,74)(63,73)(64,72)(65,71)(66,70)(67,69)"
      ]
     },
     "metadata": {},
     "output_type": "display_data"
    },
    {
     "data": {
      "text/html": [
       "<html><script type=\"math/tex; mode=display\">\\newcommand{\\Bold}[1]{\\mathbf{#1}}\\tau \\times \\sigma^{132}= (2,133)(3,132)(4,131)(5,130)(6,129)(7,128)(8,127)(9,126)(10,125)(11,124)(12,123)(13,122)(14,121)(15,120)(16,119)(17,118)(18,117)(19,116)(20,115)(21,114)(22,113)(23,112)(24,111)(25,110)(26,109)(27,108)(28,107)(29,106)(30,105)(31,104)(32,103)(33,102)(34,101)(35,100)(36,99)(37,98)(38,97)(39,96)(40,95)(41,94)(42,93)(43,92)(44,91)(45,90)(46,89)(47,88)(48,87)(49,86)(50,85)(51,84)(52,83)(53,82)(54,81)(55,80)(56,79)(57,78)(58,77)(59,76)(60,75)(61,74)(62,73)(63,72)(64,71)(65,70)(66,69)(67,68)</script></html>"
      ],
      "text/latex": [
       "$$\\newcommand{\\Bold}[1]{\\mathbf{#1}}\\tau \\times \\sigma^{132}= (2,133)(3,132)(4,131)(5,130)(6,129)(7,128)(8,127)(9,126)(10,125)(11,124)(12,123)(13,122)(14,121)(15,120)(16,119)(17,118)(18,117)(19,116)(20,115)(21,114)(22,113)(23,112)(24,111)(25,110)(26,109)(27,108)(28,107)(29,106)(30,105)(31,104)(32,103)(33,102)(34,101)(35,100)(36,99)(37,98)(38,97)(39,96)(40,95)(41,94)(42,93)(43,92)(44,91)(45,90)(46,89)(47,88)(48,87)(49,86)(50,85)(51,84)(52,83)(53,82)(54,81)(55,80)(56,79)(57,78)(58,77)(59,76)(60,75)(61,74)(62,73)(63,72)(64,71)(65,70)(66,69)(67,68)$$"
      ],
      "text/plain": [
       "\\tau \\times \\sigma^{132}= (2,133)(3,132)(4,131)(5,130)(6,129)(7,128)(8,127)(9,126)(10,125)(11,124)(12,123)(13,122)(14,121)(15,120)(16,119)(17,118)(18,117)(19,116)(20,115)(21,114)(22,113)(23,112)(24,111)(25,110)(26,109)(27,108)(28,107)(29,106)(30,105)(31,104)(32,103)(33,102)(34,101)(35,100)(36,99)(37,98)(38,97)(39,96)(40,95)(41,94)(42,93)(43,92)(44,91)(45,90)(46,89)(47,88)(48,87)(49,86)(50,85)(51,84)(52,83)(53,82)(54,81)(55,80)(56,79)(57,78)(58,77)(59,76)(60,75)(61,74)(62,73)(63,72)(64,71)(65,70)(66,69)(67,68)"
      ]
     },
     "metadata": {},
     "output_type": "display_data"
    }
   ],
   "source": [
    "G = SymmetricGroup(133)\n",
    "s = G(tuple(srange(1, 134, 1)))\n",
    "t = G(srange(133, 0, -1))\n",
    "for i in range(1, 133,1):\n",
    "    pretty_print(LatexExpr(r\"\\tau \\times \\sigma^{\" + str(i) + r\"}=\"), (s**i)*t)"
   ]
  },
  {
   "cell_type": "markdown",
   "metadata": {},
   "source": [
    "Зададим формулой действие элементов группы G на множестве X с помощью $ G^{*} $:\n",
    "$$ g(\\{x_1, x_2, x_3, x_4, ..., x_{133}\\}) = \\{x_{(g^{*})^{−1}(1)}, x_{(g^{*})^{−1}(2)}, x_{(g^{*})^{−1}(3)}, ..., x_{(g^{*})^{−1}(133)}\\}, \\text{ где } g^{*} \\in G^{*}, g \\in G $$\n",
    "\n",
    "Например, цвет первой бусины $ x_1 $ после поворота по часовой на одну бусину ($ \\sigma $) стал $ x_{133} $, что соответствует $ \\sigma^{-1}(1) = \\sigma(132) = 133 $.\n",
    "\n",
    "В соответствии с леммой Бернсайда, количество орбит действия группы $ G $ на множестве $ X $ равно:\n",
    "$$\n",
    "    N = \\frac{1}{\\#G}\\sum_{g \\in G}{\\#X^g}\n",
    "$$\n",
    "\n",
    "А орбиты действия - это разбиение множества X на классы эквивалентности относительно действий G, это искомое число способов составить бусы с точностью до поворотов и осевых симметрий.\n",
    "\n",
    "Найдем $ \\#X^g $ (количество раскрасок, которые остаются на месте под действием преобразования g) для каждого $ g \\in G $:\n",
    "\n",
    "$ \\sigma, \\sigma^2, ..., \\tau \\times \\sigma^{132} $ состоят из произведений независимых циклов. Получаем, что если все бусины в одном цикле одинакого цвета, тогда под действием преобразования сама расцветка бус не изментся, изменятся лишь позиции, а это и есть $ X^g $. \n",
    "\n",
    "Тогда $ \\#X^g = 6^{сycles(g)} $, где $ сycles(g) $ - количество независимых циклов в перестановке $ g $, а 6 - количество цветов.\n",
    "\n",
    "Посчитаем $\\#X^g $ для всех $ g \\in G$:"
   ]
  },
  {
   "cell_type": "code",
   "execution_count": 5,
   "metadata": {
    "scrolled": false
   },
   "outputs": [
    {
     "data": {
      "text/html": [
       "<html><script type=\"math/tex; mode=display\">\\newcommand{\\Bold}[1]{\\mathbf{#1}}\\#X^{e} = 6^{133}= 31197249127522374612985855142774203087480569744680331869031769097768823704060873964663845664254765039616</script></html>"
      ],
      "text/latex": [
       "$$\\newcommand{\\Bold}[1]{\\mathbf{#1}}\\#X^{e} = 6^{133}= 31197249127522374612985855142774203087480569744680331869031769097768823704060873964663845664254765039616$$"
      ],
      "text/plain": [
       "\\#X^{e} = 6^{133}= 31197249127522374612985855142774203087480569744680331869031769097768823704060873964663845664254765039616"
      ]
     },
     "metadata": {},
     "output_type": "display_data"
    },
    {
     "data": {
      "text/html": [
       "<html><script type=\"math/tex; mode=display\">\\newcommand{\\Bold}[1]{\\mathbf{#1}}\\#X^{\\sigma} = 6^{1}= 6</script></html>"
      ],
      "text/latex": [
       "$$\\newcommand{\\Bold}[1]{\\mathbf{#1}}\\#X^{\\sigma} = 6^{1}= 6$$"
      ],
      "text/plain": [
       "\\#X^{\\sigma} = 6^{1}= 6"
      ]
     },
     "metadata": {},
     "output_type": "display_data"
    },
    {
     "data": {
      "text/html": [
       "<html><script type=\"math/tex; mode=display\">\\newcommand{\\Bold}[1]{\\mathbf{#1}}\\#X^{\\sigma^{2}}= 6^{1}= 6</script></html>"
      ],
      "text/latex": [
       "$$\\newcommand{\\Bold}[1]{\\mathbf{#1}}\\#X^{\\sigma^{2}}= 6^{1}= 6$$"
      ],
      "text/plain": [
       "\\#X^{\\sigma^{2}}= 6^{1}= 6"
      ]
     },
     "metadata": {},
     "output_type": "display_data"
    },
    {
     "data": {
      "text/html": [
       "<html><script type=\"math/tex; mode=display\">\\newcommand{\\Bold}[1]{\\mathbf{#1}}\\#X^{\\sigma^{3}}= 6^{1}= 6</script></html>"
      ],
      "text/latex": [
       "$$\\newcommand{\\Bold}[1]{\\mathbf{#1}}\\#X^{\\sigma^{3}}= 6^{1}= 6$$"
      ],
      "text/plain": [
       "\\#X^{\\sigma^{3}}= 6^{1}= 6"
      ]
     },
     "metadata": {},
     "output_type": "display_data"
    },
    {
     "data": {
      "text/html": [
       "<html><script type=\"math/tex; mode=display\">\\newcommand{\\Bold}[1]{\\mathbf{#1}}\\#X^{\\sigma^{4}}= 6^{1}= 6</script></html>"
      ],
      "text/latex": [
       "$$\\newcommand{\\Bold}[1]{\\mathbf{#1}}\\#X^{\\sigma^{4}}= 6^{1}= 6$$"
      ],
      "text/plain": [
       "\\#X^{\\sigma^{4}}= 6^{1}= 6"
      ]
     },
     "metadata": {},
     "output_type": "display_data"
    },
    {
     "data": {
      "text/html": [
       "<html><script type=\"math/tex; mode=display\">\\newcommand{\\Bold}[1]{\\mathbf{#1}}\\#X^{\\sigma^{5}}= 6^{1}= 6</script></html>"
      ],
      "text/latex": [
       "$$\\newcommand{\\Bold}[1]{\\mathbf{#1}}\\#X^{\\sigma^{5}}= 6^{1}= 6$$"
      ],
      "text/plain": [
       "\\#X^{\\sigma^{5}}= 6^{1}= 6"
      ]
     },
     "metadata": {},
     "output_type": "display_data"
    },
    {
     "data": {
      "text/html": [
       "<html><script type=\"math/tex; mode=display\">\\newcommand{\\Bold}[1]{\\mathbf{#1}}\\#X^{\\sigma^{6}}= 6^{1}= 6</script></html>"
      ],
      "text/latex": [
       "$$\\newcommand{\\Bold}[1]{\\mathbf{#1}}\\#X^{\\sigma^{6}}= 6^{1}= 6$$"
      ],
      "text/plain": [
       "\\#X^{\\sigma^{6}}= 6^{1}= 6"
      ]
     },
     "metadata": {},
     "output_type": "display_data"
    },
    {
     "data": {
      "text/html": [
       "<html><script type=\"math/tex; mode=display\">\\newcommand{\\Bold}[1]{\\mathbf{#1}}\\#X^{\\sigma^{7}}= 6^{7}= 279936</script></html>"
      ],
      "text/latex": [
       "$$\\newcommand{\\Bold}[1]{\\mathbf{#1}}\\#X^{\\sigma^{7}}= 6^{7}= 279936$$"
      ],
      "text/plain": [
       "\\#X^{\\sigma^{7}}= 6^{7}= 279936"
      ]
     },
     "metadata": {},
     "output_type": "display_data"
    },
    {
     "data": {
      "text/html": [
       "<html><script type=\"math/tex; mode=display\">\\newcommand{\\Bold}[1]{\\mathbf{#1}}\\#X^{\\sigma^{8}}= 6^{1}= 6</script></html>"
      ],
      "text/latex": [
       "$$\\newcommand{\\Bold}[1]{\\mathbf{#1}}\\#X^{\\sigma^{8}}= 6^{1}= 6$$"
      ],
      "text/plain": [
       "\\#X^{\\sigma^{8}}= 6^{1}= 6"
      ]
     },
     "metadata": {},
     "output_type": "display_data"
    },
    {
     "data": {
      "text/html": [
       "<html><script type=\"math/tex; mode=display\">\\newcommand{\\Bold}[1]{\\mathbf{#1}}\\#X^{\\sigma^{9}}= 6^{1}= 6</script></html>"
      ],
      "text/latex": [
       "$$\\newcommand{\\Bold}[1]{\\mathbf{#1}}\\#X^{\\sigma^{9}}= 6^{1}= 6$$"
      ],
      "text/plain": [
       "\\#X^{\\sigma^{9}}= 6^{1}= 6"
      ]
     },
     "metadata": {},
     "output_type": "display_data"
    },
    {
     "data": {
      "text/html": [
       "<html><script type=\"math/tex; mode=display\">\\newcommand{\\Bold}[1]{\\mathbf{#1}}\\#X^{\\sigma^{10}}= 6^{1}= 6</script></html>"
      ],
      "text/latex": [
       "$$\\newcommand{\\Bold}[1]{\\mathbf{#1}}\\#X^{\\sigma^{10}}= 6^{1}= 6$$"
      ],
      "text/plain": [
       "\\#X^{\\sigma^{10}}= 6^{1}= 6"
      ]
     },
     "metadata": {},
     "output_type": "display_data"
    },
    {
     "data": {
      "text/html": [
       "<html><script type=\"math/tex; mode=display\">\\newcommand{\\Bold}[1]{\\mathbf{#1}}\\#X^{\\sigma^{11}}= 6^{1}= 6</script></html>"
      ],
      "text/latex": [
       "$$\\newcommand{\\Bold}[1]{\\mathbf{#1}}\\#X^{\\sigma^{11}}= 6^{1}= 6$$"
      ],
      "text/plain": [
       "\\#X^{\\sigma^{11}}= 6^{1}= 6"
      ]
     },
     "metadata": {},
     "output_type": "display_data"
    },
    {
     "data": {
      "text/html": [
       "<html><script type=\"math/tex; mode=display\">\\newcommand{\\Bold}[1]{\\mathbf{#1}}\\#X^{\\sigma^{12}}= 6^{1}= 6</script></html>"
      ],
      "text/latex": [
       "$$\\newcommand{\\Bold}[1]{\\mathbf{#1}}\\#X^{\\sigma^{12}}= 6^{1}= 6$$"
      ],
      "text/plain": [
       "\\#X^{\\sigma^{12}}= 6^{1}= 6"
      ]
     },
     "metadata": {},
     "output_type": "display_data"
    },
    {
     "data": {
      "text/html": [
       "<html><script type=\"math/tex; mode=display\">\\newcommand{\\Bold}[1]{\\mathbf{#1}}\\#X^{\\sigma^{13}}= 6^{1}= 6</script></html>"
      ],
      "text/latex": [
       "$$\\newcommand{\\Bold}[1]{\\mathbf{#1}}\\#X^{\\sigma^{13}}= 6^{1}= 6$$"
      ],
      "text/plain": [
       "\\#X^{\\sigma^{13}}= 6^{1}= 6"
      ]
     },
     "metadata": {},
     "output_type": "display_data"
    },
    {
     "data": {
      "text/html": [
       "<html><script type=\"math/tex; mode=display\">\\newcommand{\\Bold}[1]{\\mathbf{#1}}\\#X^{\\sigma^{14}}= 6^{7}= 279936</script></html>"
      ],
      "text/latex": [
       "$$\\newcommand{\\Bold}[1]{\\mathbf{#1}}\\#X^{\\sigma^{14}}= 6^{7}= 279936$$"
      ],
      "text/plain": [
       "\\#X^{\\sigma^{14}}= 6^{7}= 279936"
      ]
     },
     "metadata": {},
     "output_type": "display_data"
    },
    {
     "data": {
      "text/html": [
       "<html><script type=\"math/tex; mode=display\">\\newcommand{\\Bold}[1]{\\mathbf{#1}}\\#X^{\\sigma^{15}}= 6^{1}= 6</script></html>"
      ],
      "text/latex": [
       "$$\\newcommand{\\Bold}[1]{\\mathbf{#1}}\\#X^{\\sigma^{15}}= 6^{1}= 6$$"
      ],
      "text/plain": [
       "\\#X^{\\sigma^{15}}= 6^{1}= 6"
      ]
     },
     "metadata": {},
     "output_type": "display_data"
    },
    {
     "data": {
      "text/html": [
       "<html><script type=\"math/tex; mode=display\">\\newcommand{\\Bold}[1]{\\mathbf{#1}}\\#X^{\\sigma^{16}}= 6^{1}= 6</script></html>"
      ],
      "text/latex": [
       "$$\\newcommand{\\Bold}[1]{\\mathbf{#1}}\\#X^{\\sigma^{16}}= 6^{1}= 6$$"
      ],
      "text/plain": [
       "\\#X^{\\sigma^{16}}= 6^{1}= 6"
      ]
     },
     "metadata": {},
     "output_type": "display_data"
    },
    {
     "data": {
      "text/html": [
       "<html><script type=\"math/tex; mode=display\">\\newcommand{\\Bold}[1]{\\mathbf{#1}}\\#X^{\\sigma^{17}}= 6^{1}= 6</script></html>"
      ],
      "text/latex": [
       "$$\\newcommand{\\Bold}[1]{\\mathbf{#1}}\\#X^{\\sigma^{17}}= 6^{1}= 6$$"
      ],
      "text/plain": [
       "\\#X^{\\sigma^{17}}= 6^{1}= 6"
      ]
     },
     "metadata": {},
     "output_type": "display_data"
    },
    {
     "data": {
      "text/html": [
       "<html><script type=\"math/tex; mode=display\">\\newcommand{\\Bold}[1]{\\mathbf{#1}}\\#X^{\\sigma^{18}}= 6^{1}= 6</script></html>"
      ],
      "text/latex": [
       "$$\\newcommand{\\Bold}[1]{\\mathbf{#1}}\\#X^{\\sigma^{18}}= 6^{1}= 6$$"
      ],
      "text/plain": [
       "\\#X^{\\sigma^{18}}= 6^{1}= 6"
      ]
     },
     "metadata": {},
     "output_type": "display_data"
    },
    {
     "data": {
      "text/html": [
       "<html><script type=\"math/tex; mode=display\">\\newcommand{\\Bold}[1]{\\mathbf{#1}}\\#X^{\\sigma^{19}}= 6^{19}= 609359740010496</script></html>"
      ],
      "text/latex": [
       "$$\\newcommand{\\Bold}[1]{\\mathbf{#1}}\\#X^{\\sigma^{19}}= 6^{19}= 609359740010496$$"
      ],
      "text/plain": [
       "\\#X^{\\sigma^{19}}= 6^{19}= 609359740010496"
      ]
     },
     "metadata": {},
     "output_type": "display_data"
    },
    {
     "data": {
      "text/html": [
       "<html><script type=\"math/tex; mode=display\">\\newcommand{\\Bold}[1]{\\mathbf{#1}}\\#X^{\\sigma^{20}}= 6^{1}= 6</script></html>"
      ],
      "text/latex": [
       "$$\\newcommand{\\Bold}[1]{\\mathbf{#1}}\\#X^{\\sigma^{20}}= 6^{1}= 6$$"
      ],
      "text/plain": [
       "\\#X^{\\sigma^{20}}= 6^{1}= 6"
      ]
     },
     "metadata": {},
     "output_type": "display_data"
    },
    {
     "data": {
      "text/html": [
       "<html><script type=\"math/tex; mode=display\">\\newcommand{\\Bold}[1]{\\mathbf{#1}}\\#X^{\\sigma^{21}}= 6^{7}= 279936</script></html>"
      ],
      "text/latex": [
       "$$\\newcommand{\\Bold}[1]{\\mathbf{#1}}\\#X^{\\sigma^{21}}= 6^{7}= 279936$$"
      ],
      "text/plain": [
       "\\#X^{\\sigma^{21}}= 6^{7}= 279936"
      ]
     },
     "metadata": {},
     "output_type": "display_data"
    },
    {
     "data": {
      "text/html": [
       "<html><script type=\"math/tex; mode=display\">\\newcommand{\\Bold}[1]{\\mathbf{#1}}\\#X^{\\sigma^{22}}= 6^{1}= 6</script></html>"
      ],
      "text/latex": [
       "$$\\newcommand{\\Bold}[1]{\\mathbf{#1}}\\#X^{\\sigma^{22}}= 6^{1}= 6$$"
      ],
      "text/plain": [
       "\\#X^{\\sigma^{22}}= 6^{1}= 6"
      ]
     },
     "metadata": {},
     "output_type": "display_data"
    },
    {
     "data": {
      "text/html": [
       "<html><script type=\"math/tex; mode=display\">\\newcommand{\\Bold}[1]{\\mathbf{#1}}\\#X^{\\sigma^{23}}= 6^{1}= 6</script></html>"
      ],
      "text/latex": [
       "$$\\newcommand{\\Bold}[1]{\\mathbf{#1}}\\#X^{\\sigma^{23}}= 6^{1}= 6$$"
      ],
      "text/plain": [
       "\\#X^{\\sigma^{23}}= 6^{1}= 6"
      ]
     },
     "metadata": {},
     "output_type": "display_data"
    },
    {
     "data": {
      "text/html": [
       "<html><script type=\"math/tex; mode=display\">\\newcommand{\\Bold}[1]{\\mathbf{#1}}\\#X^{\\sigma^{24}}= 6^{1}= 6</script></html>"
      ],
      "text/latex": [
       "$$\\newcommand{\\Bold}[1]{\\mathbf{#1}}\\#X^{\\sigma^{24}}= 6^{1}= 6$$"
      ],
      "text/plain": [
       "\\#X^{\\sigma^{24}}= 6^{1}= 6"
      ]
     },
     "metadata": {},
     "output_type": "display_data"
    },
    {
     "data": {
      "text/html": [
       "<html><script type=\"math/tex; mode=display\">\\newcommand{\\Bold}[1]{\\mathbf{#1}}\\#X^{\\sigma^{25}}= 6^{1}= 6</script></html>"
      ],
      "text/latex": [
       "$$\\newcommand{\\Bold}[1]{\\mathbf{#1}}\\#X^{\\sigma^{25}}= 6^{1}= 6$$"
      ],
      "text/plain": [
       "\\#X^{\\sigma^{25}}= 6^{1}= 6"
      ]
     },
     "metadata": {},
     "output_type": "display_data"
    },
    {
     "data": {
      "text/html": [
       "<html><script type=\"math/tex; mode=display\">\\newcommand{\\Bold}[1]{\\mathbf{#1}}\\#X^{\\sigma^{26}}= 6^{1}= 6</script></html>"
      ],
      "text/latex": [
       "$$\\newcommand{\\Bold}[1]{\\mathbf{#1}}\\#X^{\\sigma^{26}}= 6^{1}= 6$$"
      ],
      "text/plain": [
       "\\#X^{\\sigma^{26}}= 6^{1}= 6"
      ]
     },
     "metadata": {},
     "output_type": "display_data"
    },
    {
     "data": {
      "text/html": [
       "<html><script type=\"math/tex; mode=display\">\\newcommand{\\Bold}[1]{\\mathbf{#1}}\\#X^{\\sigma^{27}}= 6^{1}= 6</script></html>"
      ],
      "text/latex": [
       "$$\\newcommand{\\Bold}[1]{\\mathbf{#1}}\\#X^{\\sigma^{27}}= 6^{1}= 6$$"
      ],
      "text/plain": [
       "\\#X^{\\sigma^{27}}= 6^{1}= 6"
      ]
     },
     "metadata": {},
     "output_type": "display_data"
    },
    {
     "data": {
      "text/html": [
       "<html><script type=\"math/tex; mode=display\">\\newcommand{\\Bold}[1]{\\mathbf{#1}}\\#X^{\\sigma^{28}}= 6^{7}= 279936</script></html>"
      ],
      "text/latex": [
       "$$\\newcommand{\\Bold}[1]{\\mathbf{#1}}\\#X^{\\sigma^{28}}= 6^{7}= 279936$$"
      ],
      "text/plain": [
       "\\#X^{\\sigma^{28}}= 6^{7}= 279936"
      ]
     },
     "metadata": {},
     "output_type": "display_data"
    },
    {
     "data": {
      "text/html": [
       "<html><script type=\"math/tex; mode=display\">\\newcommand{\\Bold}[1]{\\mathbf{#1}}\\#X^{\\sigma^{29}}= 6^{1}= 6</script></html>"
      ],
      "text/latex": [
       "$$\\newcommand{\\Bold}[1]{\\mathbf{#1}}\\#X^{\\sigma^{29}}= 6^{1}= 6$$"
      ],
      "text/plain": [
       "\\#X^{\\sigma^{29}}= 6^{1}= 6"
      ]
     },
     "metadata": {},
     "output_type": "display_data"
    },
    {
     "data": {
      "text/html": [
       "<html><script type=\"math/tex; mode=display\">\\newcommand{\\Bold}[1]{\\mathbf{#1}}\\#X^{\\sigma^{30}}= 6^{1}= 6</script></html>"
      ],
      "text/latex": [
       "$$\\newcommand{\\Bold}[1]{\\mathbf{#1}}\\#X^{\\sigma^{30}}= 6^{1}= 6$$"
      ],
      "text/plain": [
       "\\#X^{\\sigma^{30}}= 6^{1}= 6"
      ]
     },
     "metadata": {},
     "output_type": "display_data"
    },
    {
     "data": {
      "text/html": [
       "<html><script type=\"math/tex; mode=display\">\\newcommand{\\Bold}[1]{\\mathbf{#1}}\\#X^{\\sigma^{31}}= 6^{1}= 6</script></html>"
      ],
      "text/latex": [
       "$$\\newcommand{\\Bold}[1]{\\mathbf{#1}}\\#X^{\\sigma^{31}}= 6^{1}= 6$$"
      ],
      "text/plain": [
       "\\#X^{\\sigma^{31}}= 6^{1}= 6"
      ]
     },
     "metadata": {},
     "output_type": "display_data"
    },
    {
     "data": {
      "text/html": [
       "<html><script type=\"math/tex; mode=display\">\\newcommand{\\Bold}[1]{\\mathbf{#1}}\\#X^{\\sigma^{32}}= 6^{1}= 6</script></html>"
      ],
      "text/latex": [
       "$$\\newcommand{\\Bold}[1]{\\mathbf{#1}}\\#X^{\\sigma^{32}}= 6^{1}= 6$$"
      ],
      "text/plain": [
       "\\#X^{\\sigma^{32}}= 6^{1}= 6"
      ]
     },
     "metadata": {},
     "output_type": "display_data"
    },
    {
     "data": {
      "text/html": [
       "<html><script type=\"math/tex; mode=display\">\\newcommand{\\Bold}[1]{\\mathbf{#1}}\\#X^{\\sigma^{33}}= 6^{1}= 6</script></html>"
      ],
      "text/latex": [
       "$$\\newcommand{\\Bold}[1]{\\mathbf{#1}}\\#X^{\\sigma^{33}}= 6^{1}= 6$$"
      ],
      "text/plain": [
       "\\#X^{\\sigma^{33}}= 6^{1}= 6"
      ]
     },
     "metadata": {},
     "output_type": "display_data"
    },
    {
     "data": {
      "text/html": [
       "<html><script type=\"math/tex; mode=display\">\\newcommand{\\Bold}[1]{\\mathbf{#1}}\\#X^{\\sigma^{34}}= 6^{1}= 6</script></html>"
      ],
      "text/latex": [
       "$$\\newcommand{\\Bold}[1]{\\mathbf{#1}}\\#X^{\\sigma^{34}}= 6^{1}= 6$$"
      ],
      "text/plain": [
       "\\#X^{\\sigma^{34}}= 6^{1}= 6"
      ]
     },
     "metadata": {},
     "output_type": "display_data"
    },
    {
     "data": {
      "text/html": [
       "<html><script type=\"math/tex; mode=display\">\\newcommand{\\Bold}[1]{\\mathbf{#1}}\\#X^{\\sigma^{35}}= 6^{7}= 279936</script></html>"
      ],
      "text/latex": [
       "$$\\newcommand{\\Bold}[1]{\\mathbf{#1}}\\#X^{\\sigma^{35}}= 6^{7}= 279936$$"
      ],
      "text/plain": [
       "\\#X^{\\sigma^{35}}= 6^{7}= 279936"
      ]
     },
     "metadata": {},
     "output_type": "display_data"
    },
    {
     "data": {
      "text/html": [
       "<html><script type=\"math/tex; mode=display\">\\newcommand{\\Bold}[1]{\\mathbf{#1}}\\#X^{\\sigma^{36}}= 6^{1}= 6</script></html>"
      ],
      "text/latex": [
       "$$\\newcommand{\\Bold}[1]{\\mathbf{#1}}\\#X^{\\sigma^{36}}= 6^{1}= 6$$"
      ],
      "text/plain": [
       "\\#X^{\\sigma^{36}}= 6^{1}= 6"
      ]
     },
     "metadata": {},
     "output_type": "display_data"
    },
    {
     "data": {
      "text/html": [
       "<html><script type=\"math/tex; mode=display\">\\newcommand{\\Bold}[1]{\\mathbf{#1}}\\#X^{\\sigma^{37}}= 6^{1}= 6</script></html>"
      ],
      "text/latex": [
       "$$\\newcommand{\\Bold}[1]{\\mathbf{#1}}\\#X^{\\sigma^{37}}= 6^{1}= 6$$"
      ],
      "text/plain": [
       "\\#X^{\\sigma^{37}}= 6^{1}= 6"
      ]
     },
     "metadata": {},
     "output_type": "display_data"
    },
    {
     "data": {
      "text/html": [
       "<html><script type=\"math/tex; mode=display\">\\newcommand{\\Bold}[1]{\\mathbf{#1}}\\#X^{\\sigma^{38}}= 6^{19}= 609359740010496</script></html>"
      ],
      "text/latex": [
       "$$\\newcommand{\\Bold}[1]{\\mathbf{#1}}\\#X^{\\sigma^{38}}= 6^{19}= 609359740010496$$"
      ],
      "text/plain": [
       "\\#X^{\\sigma^{38}}= 6^{19}= 609359740010496"
      ]
     },
     "metadata": {},
     "output_type": "display_data"
    },
    {
     "data": {
      "text/html": [
       "<html><script type=\"math/tex; mode=display\">\\newcommand{\\Bold}[1]{\\mathbf{#1}}\\#X^{\\sigma^{39}}= 6^{1}= 6</script></html>"
      ],
      "text/latex": [
       "$$\\newcommand{\\Bold}[1]{\\mathbf{#1}}\\#X^{\\sigma^{39}}= 6^{1}= 6$$"
      ],
      "text/plain": [
       "\\#X^{\\sigma^{39}}= 6^{1}= 6"
      ]
     },
     "metadata": {},
     "output_type": "display_data"
    },
    {
     "data": {
      "text/html": [
       "<html><script type=\"math/tex; mode=display\">\\newcommand{\\Bold}[1]{\\mathbf{#1}}\\#X^{\\sigma^{40}}= 6^{1}= 6</script></html>"
      ],
      "text/latex": [
       "$$\\newcommand{\\Bold}[1]{\\mathbf{#1}}\\#X^{\\sigma^{40}}= 6^{1}= 6$$"
      ],
      "text/plain": [
       "\\#X^{\\sigma^{40}}= 6^{1}= 6"
      ]
     },
     "metadata": {},
     "output_type": "display_data"
    },
    {
     "data": {
      "text/html": [
       "<html><script type=\"math/tex; mode=display\">\\newcommand{\\Bold}[1]{\\mathbf{#1}}\\#X^{\\sigma^{41}}= 6^{1}= 6</script></html>"
      ],
      "text/latex": [
       "$$\\newcommand{\\Bold}[1]{\\mathbf{#1}}\\#X^{\\sigma^{41}}= 6^{1}= 6$$"
      ],
      "text/plain": [
       "\\#X^{\\sigma^{41}}= 6^{1}= 6"
      ]
     },
     "metadata": {},
     "output_type": "display_data"
    },
    {
     "data": {
      "text/html": [
       "<html><script type=\"math/tex; mode=display\">\\newcommand{\\Bold}[1]{\\mathbf{#1}}\\#X^{\\sigma^{42}}= 6^{7}= 279936</script></html>"
      ],
      "text/latex": [
       "$$\\newcommand{\\Bold}[1]{\\mathbf{#1}}\\#X^{\\sigma^{42}}= 6^{7}= 279936$$"
      ],
      "text/plain": [
       "\\#X^{\\sigma^{42}}= 6^{7}= 279936"
      ]
     },
     "metadata": {},
     "output_type": "display_data"
    },
    {
     "data": {
      "text/html": [
       "<html><script type=\"math/tex; mode=display\">\\newcommand{\\Bold}[1]{\\mathbf{#1}}\\#X^{\\sigma^{43}}= 6^{1}= 6</script></html>"
      ],
      "text/latex": [
       "$$\\newcommand{\\Bold}[1]{\\mathbf{#1}}\\#X^{\\sigma^{43}}= 6^{1}= 6$$"
      ],
      "text/plain": [
       "\\#X^{\\sigma^{43}}= 6^{1}= 6"
      ]
     },
     "metadata": {},
     "output_type": "display_data"
    },
    {
     "data": {
      "text/html": [
       "<html><script type=\"math/tex; mode=display\">\\newcommand{\\Bold}[1]{\\mathbf{#1}}\\#X^{\\sigma^{44}}= 6^{1}= 6</script></html>"
      ],
      "text/latex": [
       "$$\\newcommand{\\Bold}[1]{\\mathbf{#1}}\\#X^{\\sigma^{44}}= 6^{1}= 6$$"
      ],
      "text/plain": [
       "\\#X^{\\sigma^{44}}= 6^{1}= 6"
      ]
     },
     "metadata": {},
     "output_type": "display_data"
    },
    {
     "data": {
      "text/html": [
       "<html><script type=\"math/tex; mode=display\">\\newcommand{\\Bold}[1]{\\mathbf{#1}}\\#X^{\\sigma^{45}}= 6^{1}= 6</script></html>"
      ],
      "text/latex": [
       "$$\\newcommand{\\Bold}[1]{\\mathbf{#1}}\\#X^{\\sigma^{45}}= 6^{1}= 6$$"
      ],
      "text/plain": [
       "\\#X^{\\sigma^{45}}= 6^{1}= 6"
      ]
     },
     "metadata": {},
     "output_type": "display_data"
    },
    {
     "data": {
      "text/html": [
       "<html><script type=\"math/tex; mode=display\">\\newcommand{\\Bold}[1]{\\mathbf{#1}}\\#X^{\\sigma^{46}}= 6^{1}= 6</script></html>"
      ],
      "text/latex": [
       "$$\\newcommand{\\Bold}[1]{\\mathbf{#1}}\\#X^{\\sigma^{46}}= 6^{1}= 6$$"
      ],
      "text/plain": [
       "\\#X^{\\sigma^{46}}= 6^{1}= 6"
      ]
     },
     "metadata": {},
     "output_type": "display_data"
    },
    {
     "data": {
      "text/html": [
       "<html><script type=\"math/tex; mode=display\">\\newcommand{\\Bold}[1]{\\mathbf{#1}}\\#X^{\\sigma^{47}}= 6^{1}= 6</script></html>"
      ],
      "text/latex": [
       "$$\\newcommand{\\Bold}[1]{\\mathbf{#1}}\\#X^{\\sigma^{47}}= 6^{1}= 6$$"
      ],
      "text/plain": [
       "\\#X^{\\sigma^{47}}= 6^{1}= 6"
      ]
     },
     "metadata": {},
     "output_type": "display_data"
    },
    {
     "data": {
      "text/html": [
       "<html><script type=\"math/tex; mode=display\">\\newcommand{\\Bold}[1]{\\mathbf{#1}}\\#X^{\\sigma^{48}}= 6^{1}= 6</script></html>"
      ],
      "text/latex": [
       "$$\\newcommand{\\Bold}[1]{\\mathbf{#1}}\\#X^{\\sigma^{48}}= 6^{1}= 6$$"
      ],
      "text/plain": [
       "\\#X^{\\sigma^{48}}= 6^{1}= 6"
      ]
     },
     "metadata": {},
     "output_type": "display_data"
    },
    {
     "data": {
      "text/html": [
       "<html><script type=\"math/tex; mode=display\">\\newcommand{\\Bold}[1]{\\mathbf{#1}}\\#X^{\\sigma^{49}}= 6^{7}= 279936</script></html>"
      ],
      "text/latex": [
       "$$\\newcommand{\\Bold}[1]{\\mathbf{#1}}\\#X^{\\sigma^{49}}= 6^{7}= 279936$$"
      ],
      "text/plain": [
       "\\#X^{\\sigma^{49}}= 6^{7}= 279936"
      ]
     },
     "metadata": {},
     "output_type": "display_data"
    },
    {
     "data": {
      "text/html": [
       "<html><script type=\"math/tex; mode=display\">\\newcommand{\\Bold}[1]{\\mathbf{#1}}\\#X^{\\sigma^{50}}= 6^{1}= 6</script></html>"
      ],
      "text/latex": [
       "$$\\newcommand{\\Bold}[1]{\\mathbf{#1}}\\#X^{\\sigma^{50}}= 6^{1}= 6$$"
      ],
      "text/plain": [
       "\\#X^{\\sigma^{50}}= 6^{1}= 6"
      ]
     },
     "metadata": {},
     "output_type": "display_data"
    },
    {
     "data": {
      "text/html": [
       "<html><script type=\"math/tex; mode=display\">\\newcommand{\\Bold}[1]{\\mathbf{#1}}\\#X^{\\sigma^{51}}= 6^{1}= 6</script></html>"
      ],
      "text/latex": [
       "$$\\newcommand{\\Bold}[1]{\\mathbf{#1}}\\#X^{\\sigma^{51}}= 6^{1}= 6$$"
      ],
      "text/plain": [
       "\\#X^{\\sigma^{51}}= 6^{1}= 6"
      ]
     },
     "metadata": {},
     "output_type": "display_data"
    },
    {
     "data": {
      "text/html": [
       "<html><script type=\"math/tex; mode=display\">\\newcommand{\\Bold}[1]{\\mathbf{#1}}\\#X^{\\sigma^{52}}= 6^{1}= 6</script></html>"
      ],
      "text/latex": [
       "$$\\newcommand{\\Bold}[1]{\\mathbf{#1}}\\#X^{\\sigma^{52}}= 6^{1}= 6$$"
      ],
      "text/plain": [
       "\\#X^{\\sigma^{52}}= 6^{1}= 6"
      ]
     },
     "metadata": {},
     "output_type": "display_data"
    },
    {
     "data": {
      "text/html": [
       "<html><script type=\"math/tex; mode=display\">\\newcommand{\\Bold}[1]{\\mathbf{#1}}\\#X^{\\sigma^{53}}= 6^{1}= 6</script></html>"
      ],
      "text/latex": [
       "$$\\newcommand{\\Bold}[1]{\\mathbf{#1}}\\#X^{\\sigma^{53}}= 6^{1}= 6$$"
      ],
      "text/plain": [
       "\\#X^{\\sigma^{53}}= 6^{1}= 6"
      ]
     },
     "metadata": {},
     "output_type": "display_data"
    },
    {
     "data": {
      "text/html": [
       "<html><script type=\"math/tex; mode=display\">\\newcommand{\\Bold}[1]{\\mathbf{#1}}\\#X^{\\sigma^{54}}= 6^{1}= 6</script></html>"
      ],
      "text/latex": [
       "$$\\newcommand{\\Bold}[1]{\\mathbf{#1}}\\#X^{\\sigma^{54}}= 6^{1}= 6$$"
      ],
      "text/plain": [
       "\\#X^{\\sigma^{54}}= 6^{1}= 6"
      ]
     },
     "metadata": {},
     "output_type": "display_data"
    },
    {
     "data": {
      "text/html": [
       "<html><script type=\"math/tex; mode=display\">\\newcommand{\\Bold}[1]{\\mathbf{#1}}\\#X^{\\sigma^{55}}= 6^{1}= 6</script></html>"
      ],
      "text/latex": [
       "$$\\newcommand{\\Bold}[1]{\\mathbf{#1}}\\#X^{\\sigma^{55}}= 6^{1}= 6$$"
      ],
      "text/plain": [
       "\\#X^{\\sigma^{55}}= 6^{1}= 6"
      ]
     },
     "metadata": {},
     "output_type": "display_data"
    },
    {
     "data": {
      "text/html": [
       "<html><script type=\"math/tex; mode=display\">\\newcommand{\\Bold}[1]{\\mathbf{#1}}\\#X^{\\sigma^{56}}= 6^{7}= 279936</script></html>"
      ],
      "text/latex": [
       "$$\\newcommand{\\Bold}[1]{\\mathbf{#1}}\\#X^{\\sigma^{56}}= 6^{7}= 279936$$"
      ],
      "text/plain": [
       "\\#X^{\\sigma^{56}}= 6^{7}= 279936"
      ]
     },
     "metadata": {},
     "output_type": "display_data"
    },
    {
     "data": {
      "text/html": [
       "<html><script type=\"math/tex; mode=display\">\\newcommand{\\Bold}[1]{\\mathbf{#1}}\\#X^{\\sigma^{57}}= 6^{19}= 609359740010496</script></html>"
      ],
      "text/latex": [
       "$$\\newcommand{\\Bold}[1]{\\mathbf{#1}}\\#X^{\\sigma^{57}}= 6^{19}= 609359740010496$$"
      ],
      "text/plain": [
       "\\#X^{\\sigma^{57}}= 6^{19}= 609359740010496"
      ]
     },
     "metadata": {},
     "output_type": "display_data"
    },
    {
     "data": {
      "text/html": [
       "<html><script type=\"math/tex; mode=display\">\\newcommand{\\Bold}[1]{\\mathbf{#1}}\\#X^{\\sigma^{58}}= 6^{1}= 6</script></html>"
      ],
      "text/latex": [
       "$$\\newcommand{\\Bold}[1]{\\mathbf{#1}}\\#X^{\\sigma^{58}}= 6^{1}= 6$$"
      ],
      "text/plain": [
       "\\#X^{\\sigma^{58}}= 6^{1}= 6"
      ]
     },
     "metadata": {},
     "output_type": "display_data"
    },
    {
     "data": {
      "text/html": [
       "<html><script type=\"math/tex; mode=display\">\\newcommand{\\Bold}[1]{\\mathbf{#1}}\\#X^{\\sigma^{59}}= 6^{1}= 6</script></html>"
      ],
      "text/latex": [
       "$$\\newcommand{\\Bold}[1]{\\mathbf{#1}}\\#X^{\\sigma^{59}}= 6^{1}= 6$$"
      ],
      "text/plain": [
       "\\#X^{\\sigma^{59}}= 6^{1}= 6"
      ]
     },
     "metadata": {},
     "output_type": "display_data"
    },
    {
     "data": {
      "text/html": [
       "<html><script type=\"math/tex; mode=display\">\\newcommand{\\Bold}[1]{\\mathbf{#1}}\\#X^{\\sigma^{60}}= 6^{1}= 6</script></html>"
      ],
      "text/latex": [
       "$$\\newcommand{\\Bold}[1]{\\mathbf{#1}}\\#X^{\\sigma^{60}}= 6^{1}= 6$$"
      ],
      "text/plain": [
       "\\#X^{\\sigma^{60}}= 6^{1}= 6"
      ]
     },
     "metadata": {},
     "output_type": "display_data"
    },
    {
     "data": {
      "text/html": [
       "<html><script type=\"math/tex; mode=display\">\\newcommand{\\Bold}[1]{\\mathbf{#1}}\\#X^{\\sigma^{61}}= 6^{1}= 6</script></html>"
      ],
      "text/latex": [
       "$$\\newcommand{\\Bold}[1]{\\mathbf{#1}}\\#X^{\\sigma^{61}}= 6^{1}= 6$$"
      ],
      "text/plain": [
       "\\#X^{\\sigma^{61}}= 6^{1}= 6"
      ]
     },
     "metadata": {},
     "output_type": "display_data"
    },
    {
     "data": {
      "text/html": [
       "<html><script type=\"math/tex; mode=display\">\\newcommand{\\Bold}[1]{\\mathbf{#1}}\\#X^{\\sigma^{62}}= 6^{1}= 6</script></html>"
      ],
      "text/latex": [
       "$$\\newcommand{\\Bold}[1]{\\mathbf{#1}}\\#X^{\\sigma^{62}}= 6^{1}= 6$$"
      ],
      "text/plain": [
       "\\#X^{\\sigma^{62}}= 6^{1}= 6"
      ]
     },
     "metadata": {},
     "output_type": "display_data"
    },
    {
     "data": {
      "text/html": [
       "<html><script type=\"math/tex; mode=display\">\\newcommand{\\Bold}[1]{\\mathbf{#1}}\\#X^{\\sigma^{63}}= 6^{7}= 279936</script></html>"
      ],
      "text/latex": [
       "$$\\newcommand{\\Bold}[1]{\\mathbf{#1}}\\#X^{\\sigma^{63}}= 6^{7}= 279936$$"
      ],
      "text/plain": [
       "\\#X^{\\sigma^{63}}= 6^{7}= 279936"
      ]
     },
     "metadata": {},
     "output_type": "display_data"
    },
    {
     "data": {
      "text/html": [
       "<html><script type=\"math/tex; mode=display\">\\newcommand{\\Bold}[1]{\\mathbf{#1}}\\#X^{\\sigma^{64}}= 6^{1}= 6</script></html>"
      ],
      "text/latex": [
       "$$\\newcommand{\\Bold}[1]{\\mathbf{#1}}\\#X^{\\sigma^{64}}= 6^{1}= 6$$"
      ],
      "text/plain": [
       "\\#X^{\\sigma^{64}}= 6^{1}= 6"
      ]
     },
     "metadata": {},
     "output_type": "display_data"
    },
    {
     "data": {
      "text/html": [
       "<html><script type=\"math/tex; mode=display\">\\newcommand{\\Bold}[1]{\\mathbf{#1}}\\#X^{\\sigma^{65}}= 6^{1}= 6</script></html>"
      ],
      "text/latex": [
       "$$\\newcommand{\\Bold}[1]{\\mathbf{#1}}\\#X^{\\sigma^{65}}= 6^{1}= 6$$"
      ],
      "text/plain": [
       "\\#X^{\\sigma^{65}}= 6^{1}= 6"
      ]
     },
     "metadata": {},
     "output_type": "display_data"
    },
    {
     "data": {
      "text/html": [
       "<html><script type=\"math/tex; mode=display\">\\newcommand{\\Bold}[1]{\\mathbf{#1}}\\#X^{\\sigma^{66}}= 6^{1}= 6</script></html>"
      ],
      "text/latex": [
       "$$\\newcommand{\\Bold}[1]{\\mathbf{#1}}\\#X^{\\sigma^{66}}= 6^{1}= 6$$"
      ],
      "text/plain": [
       "\\#X^{\\sigma^{66}}= 6^{1}= 6"
      ]
     },
     "metadata": {},
     "output_type": "display_data"
    },
    {
     "data": {
      "text/html": [
       "<html><script type=\"math/tex; mode=display\">\\newcommand{\\Bold}[1]{\\mathbf{#1}}\\#X^{\\sigma^{67}}= 6^{1}= 6</script></html>"
      ],
      "text/latex": [
       "$$\\newcommand{\\Bold}[1]{\\mathbf{#1}}\\#X^{\\sigma^{67}}= 6^{1}= 6$$"
      ],
      "text/plain": [
       "\\#X^{\\sigma^{67}}= 6^{1}= 6"
      ]
     },
     "metadata": {},
     "output_type": "display_data"
    },
    {
     "data": {
      "text/html": [
       "<html><script type=\"math/tex; mode=display\">\\newcommand{\\Bold}[1]{\\mathbf{#1}}\\#X^{\\sigma^{68}}= 6^{1}= 6</script></html>"
      ],
      "text/latex": [
       "$$\\newcommand{\\Bold}[1]{\\mathbf{#1}}\\#X^{\\sigma^{68}}= 6^{1}= 6$$"
      ],
      "text/plain": [
       "\\#X^{\\sigma^{68}}= 6^{1}= 6"
      ]
     },
     "metadata": {},
     "output_type": "display_data"
    },
    {
     "data": {
      "text/html": [
       "<html><script type=\"math/tex; mode=display\">\\newcommand{\\Bold}[1]{\\mathbf{#1}}\\#X^{\\sigma^{69}}= 6^{1}= 6</script></html>"
      ],
      "text/latex": [
       "$$\\newcommand{\\Bold}[1]{\\mathbf{#1}}\\#X^{\\sigma^{69}}= 6^{1}= 6$$"
      ],
      "text/plain": [
       "\\#X^{\\sigma^{69}}= 6^{1}= 6"
      ]
     },
     "metadata": {},
     "output_type": "display_data"
    },
    {
     "data": {
      "text/html": [
       "<html><script type=\"math/tex; mode=display\">\\newcommand{\\Bold}[1]{\\mathbf{#1}}\\#X^{\\sigma^{70}}= 6^{7}= 279936</script></html>"
      ],
      "text/latex": [
       "$$\\newcommand{\\Bold}[1]{\\mathbf{#1}}\\#X^{\\sigma^{70}}= 6^{7}= 279936$$"
      ],
      "text/plain": [
       "\\#X^{\\sigma^{70}}= 6^{7}= 279936"
      ]
     },
     "metadata": {},
     "output_type": "display_data"
    },
    {
     "data": {
      "text/html": [
       "<html><script type=\"math/tex; mode=display\">\\newcommand{\\Bold}[1]{\\mathbf{#1}}\\#X^{\\sigma^{71}}= 6^{1}= 6</script></html>"
      ],
      "text/latex": [
       "$$\\newcommand{\\Bold}[1]{\\mathbf{#1}}\\#X^{\\sigma^{71}}= 6^{1}= 6$$"
      ],
      "text/plain": [
       "\\#X^{\\sigma^{71}}= 6^{1}= 6"
      ]
     },
     "metadata": {},
     "output_type": "display_data"
    },
    {
     "data": {
      "text/html": [
       "<html><script type=\"math/tex; mode=display\">\\newcommand{\\Bold}[1]{\\mathbf{#1}}\\#X^{\\sigma^{72}}= 6^{1}= 6</script></html>"
      ],
      "text/latex": [
       "$$\\newcommand{\\Bold}[1]{\\mathbf{#1}}\\#X^{\\sigma^{72}}= 6^{1}= 6$$"
      ],
      "text/plain": [
       "\\#X^{\\sigma^{72}}= 6^{1}= 6"
      ]
     },
     "metadata": {},
     "output_type": "display_data"
    },
    {
     "data": {
      "text/html": [
       "<html><script type=\"math/tex; mode=display\">\\newcommand{\\Bold}[1]{\\mathbf{#1}}\\#X^{\\sigma^{73}}= 6^{1}= 6</script></html>"
      ],
      "text/latex": [
       "$$\\newcommand{\\Bold}[1]{\\mathbf{#1}}\\#X^{\\sigma^{73}}= 6^{1}= 6$$"
      ],
      "text/plain": [
       "\\#X^{\\sigma^{73}}= 6^{1}= 6"
      ]
     },
     "metadata": {},
     "output_type": "display_data"
    },
    {
     "data": {
      "text/html": [
       "<html><script type=\"math/tex; mode=display\">\\newcommand{\\Bold}[1]{\\mathbf{#1}}\\#X^{\\sigma^{74}}= 6^{1}= 6</script></html>"
      ],
      "text/latex": [
       "$$\\newcommand{\\Bold}[1]{\\mathbf{#1}}\\#X^{\\sigma^{74}}= 6^{1}= 6$$"
      ],
      "text/plain": [
       "\\#X^{\\sigma^{74}}= 6^{1}= 6"
      ]
     },
     "metadata": {},
     "output_type": "display_data"
    },
    {
     "data": {
      "text/html": [
       "<html><script type=\"math/tex; mode=display\">\\newcommand{\\Bold}[1]{\\mathbf{#1}}\\#X^{\\sigma^{75}}= 6^{1}= 6</script></html>"
      ],
      "text/latex": [
       "$$\\newcommand{\\Bold}[1]{\\mathbf{#1}}\\#X^{\\sigma^{75}}= 6^{1}= 6$$"
      ],
      "text/plain": [
       "\\#X^{\\sigma^{75}}= 6^{1}= 6"
      ]
     },
     "metadata": {},
     "output_type": "display_data"
    },
    {
     "data": {
      "text/html": [
       "<html><script type=\"math/tex; mode=display\">\\newcommand{\\Bold}[1]{\\mathbf{#1}}\\#X^{\\sigma^{76}}= 6^{19}= 609359740010496</script></html>"
      ],
      "text/latex": [
       "$$\\newcommand{\\Bold}[1]{\\mathbf{#1}}\\#X^{\\sigma^{76}}= 6^{19}= 609359740010496$$"
      ],
      "text/plain": [
       "\\#X^{\\sigma^{76}}= 6^{19}= 609359740010496"
      ]
     },
     "metadata": {},
     "output_type": "display_data"
    },
    {
     "data": {
      "text/html": [
       "<html><script type=\"math/tex; mode=display\">\\newcommand{\\Bold}[1]{\\mathbf{#1}}\\#X^{\\sigma^{77}}= 6^{7}= 279936</script></html>"
      ],
      "text/latex": [
       "$$\\newcommand{\\Bold}[1]{\\mathbf{#1}}\\#X^{\\sigma^{77}}= 6^{7}= 279936$$"
      ],
      "text/plain": [
       "\\#X^{\\sigma^{77}}= 6^{7}= 279936"
      ]
     },
     "metadata": {},
     "output_type": "display_data"
    },
    {
     "data": {
      "text/html": [
       "<html><script type=\"math/tex; mode=display\">\\newcommand{\\Bold}[1]{\\mathbf{#1}}\\#X^{\\sigma^{78}}= 6^{1}= 6</script></html>"
      ],
      "text/latex": [
       "$$\\newcommand{\\Bold}[1]{\\mathbf{#1}}\\#X^{\\sigma^{78}}= 6^{1}= 6$$"
      ],
      "text/plain": [
       "\\#X^{\\sigma^{78}}= 6^{1}= 6"
      ]
     },
     "metadata": {},
     "output_type": "display_data"
    },
    {
     "data": {
      "text/html": [
       "<html><script type=\"math/tex; mode=display\">\\newcommand{\\Bold}[1]{\\mathbf{#1}}\\#X^{\\sigma^{79}}= 6^{1}= 6</script></html>"
      ],
      "text/latex": [
       "$$\\newcommand{\\Bold}[1]{\\mathbf{#1}}\\#X^{\\sigma^{79}}= 6^{1}= 6$$"
      ],
      "text/plain": [
       "\\#X^{\\sigma^{79}}= 6^{1}= 6"
      ]
     },
     "metadata": {},
     "output_type": "display_data"
    },
    {
     "data": {
      "text/html": [
       "<html><script type=\"math/tex; mode=display\">\\newcommand{\\Bold}[1]{\\mathbf{#1}}\\#X^{\\sigma^{80}}= 6^{1}= 6</script></html>"
      ],
      "text/latex": [
       "$$\\newcommand{\\Bold}[1]{\\mathbf{#1}}\\#X^{\\sigma^{80}}= 6^{1}= 6$$"
      ],
      "text/plain": [
       "\\#X^{\\sigma^{80}}= 6^{1}= 6"
      ]
     },
     "metadata": {},
     "output_type": "display_data"
    },
    {
     "data": {
      "text/html": [
       "<html><script type=\"math/tex; mode=display\">\\newcommand{\\Bold}[1]{\\mathbf{#1}}\\#X^{\\sigma^{81}}= 6^{1}= 6</script></html>"
      ],
      "text/latex": [
       "$$\\newcommand{\\Bold}[1]{\\mathbf{#1}}\\#X^{\\sigma^{81}}= 6^{1}= 6$$"
      ],
      "text/plain": [
       "\\#X^{\\sigma^{81}}= 6^{1}= 6"
      ]
     },
     "metadata": {},
     "output_type": "display_data"
    },
    {
     "data": {
      "text/html": [
       "<html><script type=\"math/tex; mode=display\">\\newcommand{\\Bold}[1]{\\mathbf{#1}}\\#X^{\\sigma^{82}}= 6^{1}= 6</script></html>"
      ],
      "text/latex": [
       "$$\\newcommand{\\Bold}[1]{\\mathbf{#1}}\\#X^{\\sigma^{82}}= 6^{1}= 6$$"
      ],
      "text/plain": [
       "\\#X^{\\sigma^{82}}= 6^{1}= 6"
      ]
     },
     "metadata": {},
     "output_type": "display_data"
    },
    {
     "data": {
      "text/html": [
       "<html><script type=\"math/tex; mode=display\">\\newcommand{\\Bold}[1]{\\mathbf{#1}}\\#X^{\\sigma^{83}}= 6^{1}= 6</script></html>"
      ],
      "text/latex": [
       "$$\\newcommand{\\Bold}[1]{\\mathbf{#1}}\\#X^{\\sigma^{83}}= 6^{1}= 6$$"
      ],
      "text/plain": [
       "\\#X^{\\sigma^{83}}= 6^{1}= 6"
      ]
     },
     "metadata": {},
     "output_type": "display_data"
    },
    {
     "data": {
      "text/html": [
       "<html><script type=\"math/tex; mode=display\">\\newcommand{\\Bold}[1]{\\mathbf{#1}}\\#X^{\\sigma^{84}}= 6^{7}= 279936</script></html>"
      ],
      "text/latex": [
       "$$\\newcommand{\\Bold}[1]{\\mathbf{#1}}\\#X^{\\sigma^{84}}= 6^{7}= 279936$$"
      ],
      "text/plain": [
       "\\#X^{\\sigma^{84}}= 6^{7}= 279936"
      ]
     },
     "metadata": {},
     "output_type": "display_data"
    },
    {
     "data": {
      "text/html": [
       "<html><script type=\"math/tex; mode=display\">\\newcommand{\\Bold}[1]{\\mathbf{#1}}\\#X^{\\sigma^{85}}= 6^{1}= 6</script></html>"
      ],
      "text/latex": [
       "$$\\newcommand{\\Bold}[1]{\\mathbf{#1}}\\#X^{\\sigma^{85}}= 6^{1}= 6$$"
      ],
      "text/plain": [
       "\\#X^{\\sigma^{85}}= 6^{1}= 6"
      ]
     },
     "metadata": {},
     "output_type": "display_data"
    },
    {
     "data": {
      "text/html": [
       "<html><script type=\"math/tex; mode=display\">\\newcommand{\\Bold}[1]{\\mathbf{#1}}\\#X^{\\sigma^{86}}= 6^{1}= 6</script></html>"
      ],
      "text/latex": [
       "$$\\newcommand{\\Bold}[1]{\\mathbf{#1}}\\#X^{\\sigma^{86}}= 6^{1}= 6$$"
      ],
      "text/plain": [
       "\\#X^{\\sigma^{86}}= 6^{1}= 6"
      ]
     },
     "metadata": {},
     "output_type": "display_data"
    },
    {
     "data": {
      "text/html": [
       "<html><script type=\"math/tex; mode=display\">\\newcommand{\\Bold}[1]{\\mathbf{#1}}\\#X^{\\sigma^{87}}= 6^{1}= 6</script></html>"
      ],
      "text/latex": [
       "$$\\newcommand{\\Bold}[1]{\\mathbf{#1}}\\#X^{\\sigma^{87}}= 6^{1}= 6$$"
      ],
      "text/plain": [
       "\\#X^{\\sigma^{87}}= 6^{1}= 6"
      ]
     },
     "metadata": {},
     "output_type": "display_data"
    },
    {
     "data": {
      "text/html": [
       "<html><script type=\"math/tex; mode=display\">\\newcommand{\\Bold}[1]{\\mathbf{#1}}\\#X^{\\sigma^{88}}= 6^{1}= 6</script></html>"
      ],
      "text/latex": [
       "$$\\newcommand{\\Bold}[1]{\\mathbf{#1}}\\#X^{\\sigma^{88}}= 6^{1}= 6$$"
      ],
      "text/plain": [
       "\\#X^{\\sigma^{88}}= 6^{1}= 6"
      ]
     },
     "metadata": {},
     "output_type": "display_data"
    },
    {
     "data": {
      "text/html": [
       "<html><script type=\"math/tex; mode=display\">\\newcommand{\\Bold}[1]{\\mathbf{#1}}\\#X^{\\sigma^{89}}= 6^{1}= 6</script></html>"
      ],
      "text/latex": [
       "$$\\newcommand{\\Bold}[1]{\\mathbf{#1}}\\#X^{\\sigma^{89}}= 6^{1}= 6$$"
      ],
      "text/plain": [
       "\\#X^{\\sigma^{89}}= 6^{1}= 6"
      ]
     },
     "metadata": {},
     "output_type": "display_data"
    },
    {
     "data": {
      "text/html": [
       "<html><script type=\"math/tex; mode=display\">\\newcommand{\\Bold}[1]{\\mathbf{#1}}\\#X^{\\sigma^{90}}= 6^{1}= 6</script></html>"
      ],
      "text/latex": [
       "$$\\newcommand{\\Bold}[1]{\\mathbf{#1}}\\#X^{\\sigma^{90}}= 6^{1}= 6$$"
      ],
      "text/plain": [
       "\\#X^{\\sigma^{90}}= 6^{1}= 6"
      ]
     },
     "metadata": {},
     "output_type": "display_data"
    },
    {
     "data": {
      "text/html": [
       "<html><script type=\"math/tex; mode=display\">\\newcommand{\\Bold}[1]{\\mathbf{#1}}\\#X^{\\sigma^{91}}= 6^{7}= 279936</script></html>"
      ],
      "text/latex": [
       "$$\\newcommand{\\Bold}[1]{\\mathbf{#1}}\\#X^{\\sigma^{91}}= 6^{7}= 279936$$"
      ],
      "text/plain": [
       "\\#X^{\\sigma^{91}}= 6^{7}= 279936"
      ]
     },
     "metadata": {},
     "output_type": "display_data"
    },
    {
     "data": {
      "text/html": [
       "<html><script type=\"math/tex; mode=display\">\\newcommand{\\Bold}[1]{\\mathbf{#1}}\\#X^{\\sigma^{92}}= 6^{1}= 6</script></html>"
      ],
      "text/latex": [
       "$$\\newcommand{\\Bold}[1]{\\mathbf{#1}}\\#X^{\\sigma^{92}}= 6^{1}= 6$$"
      ],
      "text/plain": [
       "\\#X^{\\sigma^{92}}= 6^{1}= 6"
      ]
     },
     "metadata": {},
     "output_type": "display_data"
    },
    {
     "data": {
      "text/html": [
       "<html><script type=\"math/tex; mode=display\">\\newcommand{\\Bold}[1]{\\mathbf{#1}}\\#X^{\\sigma^{93}}= 6^{1}= 6</script></html>"
      ],
      "text/latex": [
       "$$\\newcommand{\\Bold}[1]{\\mathbf{#1}}\\#X^{\\sigma^{93}}= 6^{1}= 6$$"
      ],
      "text/plain": [
       "\\#X^{\\sigma^{93}}= 6^{1}= 6"
      ]
     },
     "metadata": {},
     "output_type": "display_data"
    },
    {
     "data": {
      "text/html": [
       "<html><script type=\"math/tex; mode=display\">\\newcommand{\\Bold}[1]{\\mathbf{#1}}\\#X^{\\sigma^{94}}= 6^{1}= 6</script></html>"
      ],
      "text/latex": [
       "$$\\newcommand{\\Bold}[1]{\\mathbf{#1}}\\#X^{\\sigma^{94}}= 6^{1}= 6$$"
      ],
      "text/plain": [
       "\\#X^{\\sigma^{94}}= 6^{1}= 6"
      ]
     },
     "metadata": {},
     "output_type": "display_data"
    },
    {
     "data": {
      "text/html": [
       "<html><script type=\"math/tex; mode=display\">\\newcommand{\\Bold}[1]{\\mathbf{#1}}\\#X^{\\sigma^{95}}= 6^{19}= 609359740010496</script></html>"
      ],
      "text/latex": [
       "$$\\newcommand{\\Bold}[1]{\\mathbf{#1}}\\#X^{\\sigma^{95}}= 6^{19}= 609359740010496$$"
      ],
      "text/plain": [
       "\\#X^{\\sigma^{95}}= 6^{19}= 609359740010496"
      ]
     },
     "metadata": {},
     "output_type": "display_data"
    },
    {
     "data": {
      "text/html": [
       "<html><script type=\"math/tex; mode=display\">\\newcommand{\\Bold}[1]{\\mathbf{#1}}\\#X^{\\sigma^{96}}= 6^{1}= 6</script></html>"
      ],
      "text/latex": [
       "$$\\newcommand{\\Bold}[1]{\\mathbf{#1}}\\#X^{\\sigma^{96}}= 6^{1}= 6$$"
      ],
      "text/plain": [
       "\\#X^{\\sigma^{96}}= 6^{1}= 6"
      ]
     },
     "metadata": {},
     "output_type": "display_data"
    },
    {
     "data": {
      "text/html": [
       "<html><script type=\"math/tex; mode=display\">\\newcommand{\\Bold}[1]{\\mathbf{#1}}\\#X^{\\sigma^{97}}= 6^{1}= 6</script></html>"
      ],
      "text/latex": [
       "$$\\newcommand{\\Bold}[1]{\\mathbf{#1}}\\#X^{\\sigma^{97}}= 6^{1}= 6$$"
      ],
      "text/plain": [
       "\\#X^{\\sigma^{97}}= 6^{1}= 6"
      ]
     },
     "metadata": {},
     "output_type": "display_data"
    },
    {
     "data": {
      "text/html": [
       "<html><script type=\"math/tex; mode=display\">\\newcommand{\\Bold}[1]{\\mathbf{#1}}\\#X^{\\sigma^{98}}= 6^{7}= 279936</script></html>"
      ],
      "text/latex": [
       "$$\\newcommand{\\Bold}[1]{\\mathbf{#1}}\\#X^{\\sigma^{98}}= 6^{7}= 279936$$"
      ],
      "text/plain": [
       "\\#X^{\\sigma^{98}}= 6^{7}= 279936"
      ]
     },
     "metadata": {},
     "output_type": "display_data"
    },
    {
     "data": {
      "text/html": [
       "<html><script type=\"math/tex; mode=display\">\\newcommand{\\Bold}[1]{\\mathbf{#1}}\\#X^{\\sigma^{99}}= 6^{1}= 6</script></html>"
      ],
      "text/latex": [
       "$$\\newcommand{\\Bold}[1]{\\mathbf{#1}}\\#X^{\\sigma^{99}}= 6^{1}= 6$$"
      ],
      "text/plain": [
       "\\#X^{\\sigma^{99}}= 6^{1}= 6"
      ]
     },
     "metadata": {},
     "output_type": "display_data"
    },
    {
     "data": {
      "text/html": [
       "<html><script type=\"math/tex; mode=display\">\\newcommand{\\Bold}[1]{\\mathbf{#1}}\\#X^{\\sigma^{100}}= 6^{1}= 6</script></html>"
      ],
      "text/latex": [
       "$$\\newcommand{\\Bold}[1]{\\mathbf{#1}}\\#X^{\\sigma^{100}}= 6^{1}= 6$$"
      ],
      "text/plain": [
       "\\#X^{\\sigma^{100}}= 6^{1}= 6"
      ]
     },
     "metadata": {},
     "output_type": "display_data"
    },
    {
     "data": {
      "text/html": [
       "<html><script type=\"math/tex; mode=display\">\\newcommand{\\Bold}[1]{\\mathbf{#1}}\\#X^{\\sigma^{101}}= 6^{1}= 6</script></html>"
      ],
      "text/latex": [
       "$$\\newcommand{\\Bold}[1]{\\mathbf{#1}}\\#X^{\\sigma^{101}}= 6^{1}= 6$$"
      ],
      "text/plain": [
       "\\#X^{\\sigma^{101}}= 6^{1}= 6"
      ]
     },
     "metadata": {},
     "output_type": "display_data"
    },
    {
     "data": {
      "text/html": [
       "<html><script type=\"math/tex; mode=display\">\\newcommand{\\Bold}[1]{\\mathbf{#1}}\\#X^{\\sigma^{102}}= 6^{1}= 6</script></html>"
      ],
      "text/latex": [
       "$$\\newcommand{\\Bold}[1]{\\mathbf{#1}}\\#X^{\\sigma^{102}}= 6^{1}= 6$$"
      ],
      "text/plain": [
       "\\#X^{\\sigma^{102}}= 6^{1}= 6"
      ]
     },
     "metadata": {},
     "output_type": "display_data"
    },
    {
     "data": {
      "text/html": [
       "<html><script type=\"math/tex; mode=display\">\\newcommand{\\Bold}[1]{\\mathbf{#1}}\\#X^{\\sigma^{103}}= 6^{1}= 6</script></html>"
      ],
      "text/latex": [
       "$$\\newcommand{\\Bold}[1]{\\mathbf{#1}}\\#X^{\\sigma^{103}}= 6^{1}= 6$$"
      ],
      "text/plain": [
       "\\#X^{\\sigma^{103}}= 6^{1}= 6"
      ]
     },
     "metadata": {},
     "output_type": "display_data"
    },
    {
     "data": {
      "text/html": [
       "<html><script type=\"math/tex; mode=display\">\\newcommand{\\Bold}[1]{\\mathbf{#1}}\\#X^{\\sigma^{104}}= 6^{1}= 6</script></html>"
      ],
      "text/latex": [
       "$$\\newcommand{\\Bold}[1]{\\mathbf{#1}}\\#X^{\\sigma^{104}}= 6^{1}= 6$$"
      ],
      "text/plain": [
       "\\#X^{\\sigma^{104}}= 6^{1}= 6"
      ]
     },
     "metadata": {},
     "output_type": "display_data"
    },
    {
     "data": {
      "text/html": [
       "<html><script type=\"math/tex; mode=display\">\\newcommand{\\Bold}[1]{\\mathbf{#1}}\\#X^{\\sigma^{105}}= 6^{7}= 279936</script></html>"
      ],
      "text/latex": [
       "$$\\newcommand{\\Bold}[1]{\\mathbf{#1}}\\#X^{\\sigma^{105}}= 6^{7}= 279936$$"
      ],
      "text/plain": [
       "\\#X^{\\sigma^{105}}= 6^{7}= 279936"
      ]
     },
     "metadata": {},
     "output_type": "display_data"
    },
    {
     "data": {
      "text/html": [
       "<html><script type=\"math/tex; mode=display\">\\newcommand{\\Bold}[1]{\\mathbf{#1}}\\#X^{\\sigma^{106}}= 6^{1}= 6</script></html>"
      ],
      "text/latex": [
       "$$\\newcommand{\\Bold}[1]{\\mathbf{#1}}\\#X^{\\sigma^{106}}= 6^{1}= 6$$"
      ],
      "text/plain": [
       "\\#X^{\\sigma^{106}}= 6^{1}= 6"
      ]
     },
     "metadata": {},
     "output_type": "display_data"
    },
    {
     "data": {
      "text/html": [
       "<html><script type=\"math/tex; mode=display\">\\newcommand{\\Bold}[1]{\\mathbf{#1}}\\#X^{\\sigma^{107}}= 6^{1}= 6</script></html>"
      ],
      "text/latex": [
       "$$\\newcommand{\\Bold}[1]{\\mathbf{#1}}\\#X^{\\sigma^{107}}= 6^{1}= 6$$"
      ],
      "text/plain": [
       "\\#X^{\\sigma^{107}}= 6^{1}= 6"
      ]
     },
     "metadata": {},
     "output_type": "display_data"
    },
    {
     "data": {
      "text/html": [
       "<html><script type=\"math/tex; mode=display\">\\newcommand{\\Bold}[1]{\\mathbf{#1}}\\#X^{\\sigma^{108}}= 6^{1}= 6</script></html>"
      ],
      "text/latex": [
       "$$\\newcommand{\\Bold}[1]{\\mathbf{#1}}\\#X^{\\sigma^{108}}= 6^{1}= 6$$"
      ],
      "text/plain": [
       "\\#X^{\\sigma^{108}}= 6^{1}= 6"
      ]
     },
     "metadata": {},
     "output_type": "display_data"
    },
    {
     "data": {
      "text/html": [
       "<html><script type=\"math/tex; mode=display\">\\newcommand{\\Bold}[1]{\\mathbf{#1}}\\#X^{\\sigma^{109}}= 6^{1}= 6</script></html>"
      ],
      "text/latex": [
       "$$\\newcommand{\\Bold}[1]{\\mathbf{#1}}\\#X^{\\sigma^{109}}= 6^{1}= 6$$"
      ],
      "text/plain": [
       "\\#X^{\\sigma^{109}}= 6^{1}= 6"
      ]
     },
     "metadata": {},
     "output_type": "display_data"
    },
    {
     "data": {
      "text/html": [
       "<html><script type=\"math/tex; mode=display\">\\newcommand{\\Bold}[1]{\\mathbf{#1}}\\#X^{\\sigma^{110}}= 6^{1}= 6</script></html>"
      ],
      "text/latex": [
       "$$\\newcommand{\\Bold}[1]{\\mathbf{#1}}\\#X^{\\sigma^{110}}= 6^{1}= 6$$"
      ],
      "text/plain": [
       "\\#X^{\\sigma^{110}}= 6^{1}= 6"
      ]
     },
     "metadata": {},
     "output_type": "display_data"
    },
    {
     "data": {
      "text/html": [
       "<html><script type=\"math/tex; mode=display\">\\newcommand{\\Bold}[1]{\\mathbf{#1}}\\#X^{\\sigma^{111}}= 6^{1}= 6</script></html>"
      ],
      "text/latex": [
       "$$\\newcommand{\\Bold}[1]{\\mathbf{#1}}\\#X^{\\sigma^{111}}= 6^{1}= 6$$"
      ],
      "text/plain": [
       "\\#X^{\\sigma^{111}}= 6^{1}= 6"
      ]
     },
     "metadata": {},
     "output_type": "display_data"
    },
    {
     "data": {
      "text/html": [
       "<html><script type=\"math/tex; mode=display\">\\newcommand{\\Bold}[1]{\\mathbf{#1}}\\#X^{\\sigma^{112}}= 6^{7}= 279936</script></html>"
      ],
      "text/latex": [
       "$$\\newcommand{\\Bold}[1]{\\mathbf{#1}}\\#X^{\\sigma^{112}}= 6^{7}= 279936$$"
      ],
      "text/plain": [
       "\\#X^{\\sigma^{112}}= 6^{7}= 279936"
      ]
     },
     "metadata": {},
     "output_type": "display_data"
    },
    {
     "data": {
      "text/html": [
       "<html><script type=\"math/tex; mode=display\">\\newcommand{\\Bold}[1]{\\mathbf{#1}}\\#X^{\\sigma^{113}}= 6^{1}= 6</script></html>"
      ],
      "text/latex": [
       "$$\\newcommand{\\Bold}[1]{\\mathbf{#1}}\\#X^{\\sigma^{113}}= 6^{1}= 6$$"
      ],
      "text/plain": [
       "\\#X^{\\sigma^{113}}= 6^{1}= 6"
      ]
     },
     "metadata": {},
     "output_type": "display_data"
    },
    {
     "data": {
      "text/html": [
       "<html><script type=\"math/tex; mode=display\">\\newcommand{\\Bold}[1]{\\mathbf{#1}}\\#X^{\\sigma^{114}}= 6^{19}= 609359740010496</script></html>"
      ],
      "text/latex": [
       "$$\\newcommand{\\Bold}[1]{\\mathbf{#1}}\\#X^{\\sigma^{114}}= 6^{19}= 609359740010496$$"
      ],
      "text/plain": [
       "\\#X^{\\sigma^{114}}= 6^{19}= 609359740010496"
      ]
     },
     "metadata": {},
     "output_type": "display_data"
    },
    {
     "data": {
      "text/html": [
       "<html><script type=\"math/tex; mode=display\">\\newcommand{\\Bold}[1]{\\mathbf{#1}}\\#X^{\\sigma^{115}}= 6^{1}= 6</script></html>"
      ],
      "text/latex": [
       "$$\\newcommand{\\Bold}[1]{\\mathbf{#1}}\\#X^{\\sigma^{115}}= 6^{1}= 6$$"
      ],
      "text/plain": [
       "\\#X^{\\sigma^{115}}= 6^{1}= 6"
      ]
     },
     "metadata": {},
     "output_type": "display_data"
    },
    {
     "data": {
      "text/html": [
       "<html><script type=\"math/tex; mode=display\">\\newcommand{\\Bold}[1]{\\mathbf{#1}}\\#X^{\\sigma^{116}}= 6^{1}= 6</script></html>"
      ],
      "text/latex": [
       "$$\\newcommand{\\Bold}[1]{\\mathbf{#1}}\\#X^{\\sigma^{116}}= 6^{1}= 6$$"
      ],
      "text/plain": [
       "\\#X^{\\sigma^{116}}= 6^{1}= 6"
      ]
     },
     "metadata": {},
     "output_type": "display_data"
    },
    {
     "data": {
      "text/html": [
       "<html><script type=\"math/tex; mode=display\">\\newcommand{\\Bold}[1]{\\mathbf{#1}}\\#X^{\\sigma^{117}}= 6^{1}= 6</script></html>"
      ],
      "text/latex": [
       "$$\\newcommand{\\Bold}[1]{\\mathbf{#1}}\\#X^{\\sigma^{117}}= 6^{1}= 6$$"
      ],
      "text/plain": [
       "\\#X^{\\sigma^{117}}= 6^{1}= 6"
      ]
     },
     "metadata": {},
     "output_type": "display_data"
    },
    {
     "data": {
      "text/html": [
       "<html><script type=\"math/tex; mode=display\">\\newcommand{\\Bold}[1]{\\mathbf{#1}}\\#X^{\\sigma^{118}}= 6^{1}= 6</script></html>"
      ],
      "text/latex": [
       "$$\\newcommand{\\Bold}[1]{\\mathbf{#1}}\\#X^{\\sigma^{118}}= 6^{1}= 6$$"
      ],
      "text/plain": [
       "\\#X^{\\sigma^{118}}= 6^{1}= 6"
      ]
     },
     "metadata": {},
     "output_type": "display_data"
    },
    {
     "data": {
      "text/html": [
       "<html><script type=\"math/tex; mode=display\">\\newcommand{\\Bold}[1]{\\mathbf{#1}}\\#X^{\\sigma^{119}}= 6^{7}= 279936</script></html>"
      ],
      "text/latex": [
       "$$\\newcommand{\\Bold}[1]{\\mathbf{#1}}\\#X^{\\sigma^{119}}= 6^{7}= 279936$$"
      ],
      "text/plain": [
       "\\#X^{\\sigma^{119}}= 6^{7}= 279936"
      ]
     },
     "metadata": {},
     "output_type": "display_data"
    },
    {
     "data": {
      "text/html": [
       "<html><script type=\"math/tex; mode=display\">\\newcommand{\\Bold}[1]{\\mathbf{#1}}\\#X^{\\sigma^{120}}= 6^{1}= 6</script></html>"
      ],
      "text/latex": [
       "$$\\newcommand{\\Bold}[1]{\\mathbf{#1}}\\#X^{\\sigma^{120}}= 6^{1}= 6$$"
      ],
      "text/plain": [
       "\\#X^{\\sigma^{120}}= 6^{1}= 6"
      ]
     },
     "metadata": {},
     "output_type": "display_data"
    },
    {
     "data": {
      "text/html": [
       "<html><script type=\"math/tex; mode=display\">\\newcommand{\\Bold}[1]{\\mathbf{#1}}\\#X^{\\sigma^{121}}= 6^{1}= 6</script></html>"
      ],
      "text/latex": [
       "$$\\newcommand{\\Bold}[1]{\\mathbf{#1}}\\#X^{\\sigma^{121}}= 6^{1}= 6$$"
      ],
      "text/plain": [
       "\\#X^{\\sigma^{121}}= 6^{1}= 6"
      ]
     },
     "metadata": {},
     "output_type": "display_data"
    },
    {
     "data": {
      "text/html": [
       "<html><script type=\"math/tex; mode=display\">\\newcommand{\\Bold}[1]{\\mathbf{#1}}\\#X^{\\sigma^{122}}= 6^{1}= 6</script></html>"
      ],
      "text/latex": [
       "$$\\newcommand{\\Bold}[1]{\\mathbf{#1}}\\#X^{\\sigma^{122}}= 6^{1}= 6$$"
      ],
      "text/plain": [
       "\\#X^{\\sigma^{122}}= 6^{1}= 6"
      ]
     },
     "metadata": {},
     "output_type": "display_data"
    },
    {
     "data": {
      "text/html": [
       "<html><script type=\"math/tex; mode=display\">\\newcommand{\\Bold}[1]{\\mathbf{#1}}\\#X^{\\sigma^{123}}= 6^{1}= 6</script></html>"
      ],
      "text/latex": [
       "$$\\newcommand{\\Bold}[1]{\\mathbf{#1}}\\#X^{\\sigma^{123}}= 6^{1}= 6$$"
      ],
      "text/plain": [
       "\\#X^{\\sigma^{123}}= 6^{1}= 6"
      ]
     },
     "metadata": {},
     "output_type": "display_data"
    },
    {
     "data": {
      "text/html": [
       "<html><script type=\"math/tex; mode=display\">\\newcommand{\\Bold}[1]{\\mathbf{#1}}\\#X^{\\sigma^{124}}= 6^{1}= 6</script></html>"
      ],
      "text/latex": [
       "$$\\newcommand{\\Bold}[1]{\\mathbf{#1}}\\#X^{\\sigma^{124}}= 6^{1}= 6$$"
      ],
      "text/plain": [
       "\\#X^{\\sigma^{124}}= 6^{1}= 6"
      ]
     },
     "metadata": {},
     "output_type": "display_data"
    },
    {
     "data": {
      "text/html": [
       "<html><script type=\"math/tex; mode=display\">\\newcommand{\\Bold}[1]{\\mathbf{#1}}\\#X^{\\sigma^{125}}= 6^{1}= 6</script></html>"
      ],
      "text/latex": [
       "$$\\newcommand{\\Bold}[1]{\\mathbf{#1}}\\#X^{\\sigma^{125}}= 6^{1}= 6$$"
      ],
      "text/plain": [
       "\\#X^{\\sigma^{125}}= 6^{1}= 6"
      ]
     },
     "metadata": {},
     "output_type": "display_data"
    },
    {
     "data": {
      "text/html": [
       "<html><script type=\"math/tex; mode=display\">\\newcommand{\\Bold}[1]{\\mathbf{#1}}\\#X^{\\sigma^{126}}= 6^{7}= 279936</script></html>"
      ],
      "text/latex": [
       "$$\\newcommand{\\Bold}[1]{\\mathbf{#1}}\\#X^{\\sigma^{126}}= 6^{7}= 279936$$"
      ],
      "text/plain": [
       "\\#X^{\\sigma^{126}}= 6^{7}= 279936"
      ]
     },
     "metadata": {},
     "output_type": "display_data"
    },
    {
     "data": {
      "text/html": [
       "<html><script type=\"math/tex; mode=display\">\\newcommand{\\Bold}[1]{\\mathbf{#1}}\\#X^{\\sigma^{127}}= 6^{1}= 6</script></html>"
      ],
      "text/latex": [
       "$$\\newcommand{\\Bold}[1]{\\mathbf{#1}}\\#X^{\\sigma^{127}}= 6^{1}= 6$$"
      ],
      "text/plain": [
       "\\#X^{\\sigma^{127}}= 6^{1}= 6"
      ]
     },
     "metadata": {},
     "output_type": "display_data"
    },
    {
     "data": {
      "text/html": [
       "<html><script type=\"math/tex; mode=display\">\\newcommand{\\Bold}[1]{\\mathbf{#1}}\\#X^{\\sigma^{128}}= 6^{1}= 6</script></html>"
      ],
      "text/latex": [
       "$$\\newcommand{\\Bold}[1]{\\mathbf{#1}}\\#X^{\\sigma^{128}}= 6^{1}= 6$$"
      ],
      "text/plain": [
       "\\#X^{\\sigma^{128}}= 6^{1}= 6"
      ]
     },
     "metadata": {},
     "output_type": "display_data"
    },
    {
     "data": {
      "text/html": [
       "<html><script type=\"math/tex; mode=display\">\\newcommand{\\Bold}[1]{\\mathbf{#1}}\\#X^{\\sigma^{129}}= 6^{1}= 6</script></html>"
      ],
      "text/latex": [
       "$$\\newcommand{\\Bold}[1]{\\mathbf{#1}}\\#X^{\\sigma^{129}}= 6^{1}= 6$$"
      ],
      "text/plain": [
       "\\#X^{\\sigma^{129}}= 6^{1}= 6"
      ]
     },
     "metadata": {},
     "output_type": "display_data"
    },
    {
     "data": {
      "text/html": [
       "<html><script type=\"math/tex; mode=display\">\\newcommand{\\Bold}[1]{\\mathbf{#1}}\\#X^{\\sigma^{130}}= 6^{1}= 6</script></html>"
      ],
      "text/latex": [
       "$$\\newcommand{\\Bold}[1]{\\mathbf{#1}}\\#X^{\\sigma^{130}}= 6^{1}= 6$$"
      ],
      "text/plain": [
       "\\#X^{\\sigma^{130}}= 6^{1}= 6"
      ]
     },
     "metadata": {},
     "output_type": "display_data"
    },
    {
     "data": {
      "text/html": [
       "<html><script type=\"math/tex; mode=display\">\\newcommand{\\Bold}[1]{\\mathbf{#1}}\\#X^{\\sigma^{131}}= 6^{1}= 6</script></html>"
      ],
      "text/latex": [
       "$$\\newcommand{\\Bold}[1]{\\mathbf{#1}}\\#X^{\\sigma^{131}}= 6^{1}= 6$$"
      ],
      "text/plain": [
       "\\#X^{\\sigma^{131}}= 6^{1}= 6"
      ]
     },
     "metadata": {},
     "output_type": "display_data"
    },
    {
     "data": {
      "text/html": [
       "<html><script type=\"math/tex; mode=display\">\\newcommand{\\Bold}[1]{\\mathbf{#1}}\\#X^{\\sigma^{132}}= 6^{1}= 6</script></html>"
      ],
      "text/latex": [
       "$$\\newcommand{\\Bold}[1]{\\mathbf{#1}}\\#X^{\\sigma^{132}}= 6^{1}= 6$$"
      ],
      "text/plain": [
       "\\#X^{\\sigma^{132}}= 6^{1}= 6"
      ]
     },
     "metadata": {},
     "output_type": "display_data"
    },
    {
     "data": {
      "text/html": [
       "<html><script type=\"math/tex; mode=display\">\\newcommand{\\Bold}[1]{\\mathbf{#1}}\\#X^{\\tau} = 6^{67}= 13681501919202227984531053980511367507737635754868736</script></html>"
      ],
      "text/latex": [
       "$$\\newcommand{\\Bold}[1]{\\mathbf{#1}}\\#X^{\\tau} = 6^{67}= 13681501919202227984531053980511367507737635754868736$$"
      ],
      "text/plain": [
       "\\#X^{\\tau} = 6^{67}= 13681501919202227984531053980511367507737635754868736"
      ]
     },
     "metadata": {},
     "output_type": "display_data"
    },
    {
     "data": {
      "text/html": [
       "<html><script type=\"math/tex; mode=display\">\\newcommand{\\Bold}[1]{\\mathbf{#1}}\\#X^{\\tau \\times \\sigma^{1}}= 6^{67}= 13681501919202227984531053980511367507737635754868736</script></html>"
      ],
      "text/latex": [
       "$$\\newcommand{\\Bold}[1]{\\mathbf{#1}}\\#X^{\\tau \\times \\sigma^{1}}= 6^{67}= 13681501919202227984531053980511367507737635754868736$$"
      ],
      "text/plain": [
       "\\#X^{\\tau \\times \\sigma^{1}}= 6^{67}= 13681501919202227984531053980511367507737635754868736"
      ]
     },
     "metadata": {},
     "output_type": "display_data"
    },
    {
     "data": {
      "text/html": [
       "<html><script type=\"math/tex; mode=display\">\\newcommand{\\Bold}[1]{\\mathbf{#1}}\\#X^{\\tau \\times \\sigma^{2}}= 6^{67}= 13681501919202227984531053980511367507737635754868736</script></html>"
      ],
      "text/latex": [
       "$$\\newcommand{\\Bold}[1]{\\mathbf{#1}}\\#X^{\\tau \\times \\sigma^{2}}= 6^{67}= 13681501919202227984531053980511367507737635754868736$$"
      ],
      "text/plain": [
       "\\#X^{\\tau \\times \\sigma^{2}}= 6^{67}= 13681501919202227984531053980511367507737635754868736"
      ]
     },
     "metadata": {},
     "output_type": "display_data"
    },
    {
     "data": {
      "text/html": [
       "<html><script type=\"math/tex; mode=display\">\\newcommand{\\Bold}[1]{\\mathbf{#1}}\\#X^{\\tau \\times \\sigma^{3}}= 6^{67}= 13681501919202227984531053980511367507737635754868736</script></html>"
      ],
      "text/latex": [
       "$$\\newcommand{\\Bold}[1]{\\mathbf{#1}}\\#X^{\\tau \\times \\sigma^{3}}= 6^{67}= 13681501919202227984531053980511367507737635754868736$$"
      ],
      "text/plain": [
       "\\#X^{\\tau \\times \\sigma^{3}}= 6^{67}= 13681501919202227984531053980511367507737635754868736"
      ]
     },
     "metadata": {},
     "output_type": "display_data"
    },
    {
     "data": {
      "text/html": [
       "<html><script type=\"math/tex; mode=display\">\\newcommand{\\Bold}[1]{\\mathbf{#1}}\\#X^{\\tau \\times \\sigma^{4}}= 6^{67}= 13681501919202227984531053980511367507737635754868736</script></html>"
      ],
      "text/latex": [
       "$$\\newcommand{\\Bold}[1]{\\mathbf{#1}}\\#X^{\\tau \\times \\sigma^{4}}= 6^{67}= 13681501919202227984531053980511367507737635754868736$$"
      ],
      "text/plain": [
       "\\#X^{\\tau \\times \\sigma^{4}}= 6^{67}= 13681501919202227984531053980511367507737635754868736"
      ]
     },
     "metadata": {},
     "output_type": "display_data"
    },
    {
     "data": {
      "text/html": [
       "<html><script type=\"math/tex; mode=display\">\\newcommand{\\Bold}[1]{\\mathbf{#1}}\\#X^{\\tau \\times \\sigma^{5}}= 6^{67}= 13681501919202227984531053980511367507737635754868736</script></html>"
      ],
      "text/latex": [
       "$$\\newcommand{\\Bold}[1]{\\mathbf{#1}}\\#X^{\\tau \\times \\sigma^{5}}= 6^{67}= 13681501919202227984531053980511367507737635754868736$$"
      ],
      "text/plain": [
       "\\#X^{\\tau \\times \\sigma^{5}}= 6^{67}= 13681501919202227984531053980511367507737635754868736"
      ]
     },
     "metadata": {},
     "output_type": "display_data"
    },
    {
     "data": {
      "text/html": [
       "<html><script type=\"math/tex; mode=display\">\\newcommand{\\Bold}[1]{\\mathbf{#1}}\\#X^{\\tau \\times \\sigma^{6}}= 6^{67}= 13681501919202227984531053980511367507737635754868736</script></html>"
      ],
      "text/latex": [
       "$$\\newcommand{\\Bold}[1]{\\mathbf{#1}}\\#X^{\\tau \\times \\sigma^{6}}= 6^{67}= 13681501919202227984531053980511367507737635754868736$$"
      ],
      "text/plain": [
       "\\#X^{\\tau \\times \\sigma^{6}}= 6^{67}= 13681501919202227984531053980511367507737635754868736"
      ]
     },
     "metadata": {},
     "output_type": "display_data"
    },
    {
     "data": {
      "text/html": [
       "<html><script type=\"math/tex; mode=display\">\\newcommand{\\Bold}[1]{\\mathbf{#1}}\\#X^{\\tau \\times \\sigma^{7}}= 6^{67}= 13681501919202227984531053980511367507737635754868736</script></html>"
      ],
      "text/latex": [
       "$$\\newcommand{\\Bold}[1]{\\mathbf{#1}}\\#X^{\\tau \\times \\sigma^{7}}= 6^{67}= 13681501919202227984531053980511367507737635754868736$$"
      ],
      "text/plain": [
       "\\#X^{\\tau \\times \\sigma^{7}}= 6^{67}= 13681501919202227984531053980511367507737635754868736"
      ]
     },
     "metadata": {},
     "output_type": "display_data"
    },
    {
     "data": {
      "text/html": [
       "<html><script type=\"math/tex; mode=display\">\\newcommand{\\Bold}[1]{\\mathbf{#1}}\\#X^{\\tau \\times \\sigma^{8}}= 6^{67}= 13681501919202227984531053980511367507737635754868736</script></html>"
      ],
      "text/latex": [
       "$$\\newcommand{\\Bold}[1]{\\mathbf{#1}}\\#X^{\\tau \\times \\sigma^{8}}= 6^{67}= 13681501919202227984531053980511367507737635754868736$$"
      ],
      "text/plain": [
       "\\#X^{\\tau \\times \\sigma^{8}}= 6^{67}= 13681501919202227984531053980511367507737635754868736"
      ]
     },
     "metadata": {},
     "output_type": "display_data"
    },
    {
     "data": {
      "text/html": [
       "<html><script type=\"math/tex; mode=display\">\\newcommand{\\Bold}[1]{\\mathbf{#1}}\\#X^{\\tau \\times \\sigma^{9}}= 6^{67}= 13681501919202227984531053980511367507737635754868736</script></html>"
      ],
      "text/latex": [
       "$$\\newcommand{\\Bold}[1]{\\mathbf{#1}}\\#X^{\\tau \\times \\sigma^{9}}= 6^{67}= 13681501919202227984531053980511367507737635754868736$$"
      ],
      "text/plain": [
       "\\#X^{\\tau \\times \\sigma^{9}}= 6^{67}= 13681501919202227984531053980511367507737635754868736"
      ]
     },
     "metadata": {},
     "output_type": "display_data"
    },
    {
     "data": {
      "text/html": [
       "<html><script type=\"math/tex; mode=display\">\\newcommand{\\Bold}[1]{\\mathbf{#1}}\\#X^{\\tau \\times \\sigma^{10}}= 6^{67}= 13681501919202227984531053980511367507737635754868736</script></html>"
      ],
      "text/latex": [
       "$$\\newcommand{\\Bold}[1]{\\mathbf{#1}}\\#X^{\\tau \\times \\sigma^{10}}= 6^{67}= 13681501919202227984531053980511367507737635754868736$$"
      ],
      "text/plain": [
       "\\#X^{\\tau \\times \\sigma^{10}}= 6^{67}= 13681501919202227984531053980511367507737635754868736"
      ]
     },
     "metadata": {},
     "output_type": "display_data"
    },
    {
     "data": {
      "text/html": [
       "<html><script type=\"math/tex; mode=display\">\\newcommand{\\Bold}[1]{\\mathbf{#1}}\\#X^{\\tau \\times \\sigma^{11}}= 6^{67}= 13681501919202227984531053980511367507737635754868736</script></html>"
      ],
      "text/latex": [
       "$$\\newcommand{\\Bold}[1]{\\mathbf{#1}}\\#X^{\\tau \\times \\sigma^{11}}= 6^{67}= 13681501919202227984531053980511367507737635754868736$$"
      ],
      "text/plain": [
       "\\#X^{\\tau \\times \\sigma^{11}}= 6^{67}= 13681501919202227984531053980511367507737635754868736"
      ]
     },
     "metadata": {},
     "output_type": "display_data"
    },
    {
     "data": {
      "text/html": [
       "<html><script type=\"math/tex; mode=display\">\\newcommand{\\Bold}[1]{\\mathbf{#1}}\\#X^{\\tau \\times \\sigma^{12}}= 6^{67}= 13681501919202227984531053980511367507737635754868736</script></html>"
      ],
      "text/latex": [
       "$$\\newcommand{\\Bold}[1]{\\mathbf{#1}}\\#X^{\\tau \\times \\sigma^{12}}= 6^{67}= 13681501919202227984531053980511367507737635754868736$$"
      ],
      "text/plain": [
       "\\#X^{\\tau \\times \\sigma^{12}}= 6^{67}= 13681501919202227984531053980511367507737635754868736"
      ]
     },
     "metadata": {},
     "output_type": "display_data"
    },
    {
     "data": {
      "text/html": [
       "<html><script type=\"math/tex; mode=display\">\\newcommand{\\Bold}[1]{\\mathbf{#1}}\\#X^{\\tau \\times \\sigma^{13}}= 6^{67}= 13681501919202227984531053980511367507737635754868736</script></html>"
      ],
      "text/latex": [
       "$$\\newcommand{\\Bold}[1]{\\mathbf{#1}}\\#X^{\\tau \\times \\sigma^{13}}= 6^{67}= 13681501919202227984531053980511367507737635754868736$$"
      ],
      "text/plain": [
       "\\#X^{\\tau \\times \\sigma^{13}}= 6^{67}= 13681501919202227984531053980511367507737635754868736"
      ]
     },
     "metadata": {},
     "output_type": "display_data"
    },
    {
     "data": {
      "text/html": [
       "<html><script type=\"math/tex; mode=display\">\\newcommand{\\Bold}[1]{\\mathbf{#1}}\\#X^{\\tau \\times \\sigma^{14}}= 6^{67}= 13681501919202227984531053980511367507737635754868736</script></html>"
      ],
      "text/latex": [
       "$$\\newcommand{\\Bold}[1]{\\mathbf{#1}}\\#X^{\\tau \\times \\sigma^{14}}= 6^{67}= 13681501919202227984531053980511367507737635754868736$$"
      ],
      "text/plain": [
       "\\#X^{\\tau \\times \\sigma^{14}}= 6^{67}= 13681501919202227984531053980511367507737635754868736"
      ]
     },
     "metadata": {},
     "output_type": "display_data"
    },
    {
     "data": {
      "text/html": [
       "<html><script type=\"math/tex; mode=display\">\\newcommand{\\Bold}[1]{\\mathbf{#1}}\\#X^{\\tau \\times \\sigma^{15}}= 6^{67}= 13681501919202227984531053980511367507737635754868736</script></html>"
      ],
      "text/latex": [
       "$$\\newcommand{\\Bold}[1]{\\mathbf{#1}}\\#X^{\\tau \\times \\sigma^{15}}= 6^{67}= 13681501919202227984531053980511367507737635754868736$$"
      ],
      "text/plain": [
       "\\#X^{\\tau \\times \\sigma^{15}}= 6^{67}= 13681501919202227984531053980511367507737635754868736"
      ]
     },
     "metadata": {},
     "output_type": "display_data"
    },
    {
     "data": {
      "text/html": [
       "<html><script type=\"math/tex; mode=display\">\\newcommand{\\Bold}[1]{\\mathbf{#1}}\\#X^{\\tau \\times \\sigma^{16}}= 6^{67}= 13681501919202227984531053980511367507737635754868736</script></html>"
      ],
      "text/latex": [
       "$$\\newcommand{\\Bold}[1]{\\mathbf{#1}}\\#X^{\\tau \\times \\sigma^{16}}= 6^{67}= 13681501919202227984531053980511367507737635754868736$$"
      ],
      "text/plain": [
       "\\#X^{\\tau \\times \\sigma^{16}}= 6^{67}= 13681501919202227984531053980511367507737635754868736"
      ]
     },
     "metadata": {},
     "output_type": "display_data"
    },
    {
     "data": {
      "text/html": [
       "<html><script type=\"math/tex; mode=display\">\\newcommand{\\Bold}[1]{\\mathbf{#1}}\\#X^{\\tau \\times \\sigma^{17}}= 6^{67}= 13681501919202227984531053980511367507737635754868736</script></html>"
      ],
      "text/latex": [
       "$$\\newcommand{\\Bold}[1]{\\mathbf{#1}}\\#X^{\\tau \\times \\sigma^{17}}= 6^{67}= 13681501919202227984531053980511367507737635754868736$$"
      ],
      "text/plain": [
       "\\#X^{\\tau \\times \\sigma^{17}}= 6^{67}= 13681501919202227984531053980511367507737635754868736"
      ]
     },
     "metadata": {},
     "output_type": "display_data"
    },
    {
     "data": {
      "text/html": [
       "<html><script type=\"math/tex; mode=display\">\\newcommand{\\Bold}[1]{\\mathbf{#1}}\\#X^{\\tau \\times \\sigma^{18}}= 6^{67}= 13681501919202227984531053980511367507737635754868736</script></html>"
      ],
      "text/latex": [
       "$$\\newcommand{\\Bold}[1]{\\mathbf{#1}}\\#X^{\\tau \\times \\sigma^{18}}= 6^{67}= 13681501919202227984531053980511367507737635754868736$$"
      ],
      "text/plain": [
       "\\#X^{\\tau \\times \\sigma^{18}}= 6^{67}= 13681501919202227984531053980511367507737635754868736"
      ]
     },
     "metadata": {},
     "output_type": "display_data"
    },
    {
     "data": {
      "text/html": [
       "<html><script type=\"math/tex; mode=display\">\\newcommand{\\Bold}[1]{\\mathbf{#1}}\\#X^{\\tau \\times \\sigma^{19}}= 6^{67}= 13681501919202227984531053980511367507737635754868736</script></html>"
      ],
      "text/latex": [
       "$$\\newcommand{\\Bold}[1]{\\mathbf{#1}}\\#X^{\\tau \\times \\sigma^{19}}= 6^{67}= 13681501919202227984531053980511367507737635754868736$$"
      ],
      "text/plain": [
       "\\#X^{\\tau \\times \\sigma^{19}}= 6^{67}= 13681501919202227984531053980511367507737635754868736"
      ]
     },
     "metadata": {},
     "output_type": "display_data"
    },
    {
     "data": {
      "text/html": [
       "<html><script type=\"math/tex; mode=display\">\\newcommand{\\Bold}[1]{\\mathbf{#1}}\\#X^{\\tau \\times \\sigma^{20}}= 6^{67}= 13681501919202227984531053980511367507737635754868736</script></html>"
      ],
      "text/latex": [
       "$$\\newcommand{\\Bold}[1]{\\mathbf{#1}}\\#X^{\\tau \\times \\sigma^{20}}= 6^{67}= 13681501919202227984531053980511367507737635754868736$$"
      ],
      "text/plain": [
       "\\#X^{\\tau \\times \\sigma^{20}}= 6^{67}= 13681501919202227984531053980511367507737635754868736"
      ]
     },
     "metadata": {},
     "output_type": "display_data"
    },
    {
     "data": {
      "text/html": [
       "<html><script type=\"math/tex; mode=display\">\\newcommand{\\Bold}[1]{\\mathbf{#1}}\\#X^{\\tau \\times \\sigma^{21}}= 6^{67}= 13681501919202227984531053980511367507737635754868736</script></html>"
      ],
      "text/latex": [
       "$$\\newcommand{\\Bold}[1]{\\mathbf{#1}}\\#X^{\\tau \\times \\sigma^{21}}= 6^{67}= 13681501919202227984531053980511367507737635754868736$$"
      ],
      "text/plain": [
       "\\#X^{\\tau \\times \\sigma^{21}}= 6^{67}= 13681501919202227984531053980511367507737635754868736"
      ]
     },
     "metadata": {},
     "output_type": "display_data"
    },
    {
     "data": {
      "text/html": [
       "<html><script type=\"math/tex; mode=display\">\\newcommand{\\Bold}[1]{\\mathbf{#1}}\\#X^{\\tau \\times \\sigma^{22}}= 6^{67}= 13681501919202227984531053980511367507737635754868736</script></html>"
      ],
      "text/latex": [
       "$$\\newcommand{\\Bold}[1]{\\mathbf{#1}}\\#X^{\\tau \\times \\sigma^{22}}= 6^{67}= 13681501919202227984531053980511367507737635754868736$$"
      ],
      "text/plain": [
       "\\#X^{\\tau \\times \\sigma^{22}}= 6^{67}= 13681501919202227984531053980511367507737635754868736"
      ]
     },
     "metadata": {},
     "output_type": "display_data"
    },
    {
     "data": {
      "text/html": [
       "<html><script type=\"math/tex; mode=display\">\\newcommand{\\Bold}[1]{\\mathbf{#1}}\\#X^{\\tau \\times \\sigma^{23}}= 6^{67}= 13681501919202227984531053980511367507737635754868736</script></html>"
      ],
      "text/latex": [
       "$$\\newcommand{\\Bold}[1]{\\mathbf{#1}}\\#X^{\\tau \\times \\sigma^{23}}= 6^{67}= 13681501919202227984531053980511367507737635754868736$$"
      ],
      "text/plain": [
       "\\#X^{\\tau \\times \\sigma^{23}}= 6^{67}= 13681501919202227984531053980511367507737635754868736"
      ]
     },
     "metadata": {},
     "output_type": "display_data"
    },
    {
     "data": {
      "text/html": [
       "<html><script type=\"math/tex; mode=display\">\\newcommand{\\Bold}[1]{\\mathbf{#1}}\\#X^{\\tau \\times \\sigma^{24}}= 6^{67}= 13681501919202227984531053980511367507737635754868736</script></html>"
      ],
      "text/latex": [
       "$$\\newcommand{\\Bold}[1]{\\mathbf{#1}}\\#X^{\\tau \\times \\sigma^{24}}= 6^{67}= 13681501919202227984531053980511367507737635754868736$$"
      ],
      "text/plain": [
       "\\#X^{\\tau \\times \\sigma^{24}}= 6^{67}= 13681501919202227984531053980511367507737635754868736"
      ]
     },
     "metadata": {},
     "output_type": "display_data"
    },
    {
     "data": {
      "text/html": [
       "<html><script type=\"math/tex; mode=display\">\\newcommand{\\Bold}[1]{\\mathbf{#1}}\\#X^{\\tau \\times \\sigma^{25}}= 6^{67}= 13681501919202227984531053980511367507737635754868736</script></html>"
      ],
      "text/latex": [
       "$$\\newcommand{\\Bold}[1]{\\mathbf{#1}}\\#X^{\\tau \\times \\sigma^{25}}= 6^{67}= 13681501919202227984531053980511367507737635754868736$$"
      ],
      "text/plain": [
       "\\#X^{\\tau \\times \\sigma^{25}}= 6^{67}= 13681501919202227984531053980511367507737635754868736"
      ]
     },
     "metadata": {},
     "output_type": "display_data"
    },
    {
     "data": {
      "text/html": [
       "<html><script type=\"math/tex; mode=display\">\\newcommand{\\Bold}[1]{\\mathbf{#1}}\\#X^{\\tau \\times \\sigma^{26}}= 6^{67}= 13681501919202227984531053980511367507737635754868736</script></html>"
      ],
      "text/latex": [
       "$$\\newcommand{\\Bold}[1]{\\mathbf{#1}}\\#X^{\\tau \\times \\sigma^{26}}= 6^{67}= 13681501919202227984531053980511367507737635754868736$$"
      ],
      "text/plain": [
       "\\#X^{\\tau \\times \\sigma^{26}}= 6^{67}= 13681501919202227984531053980511367507737635754868736"
      ]
     },
     "metadata": {},
     "output_type": "display_data"
    },
    {
     "data": {
      "text/html": [
       "<html><script type=\"math/tex; mode=display\">\\newcommand{\\Bold}[1]{\\mathbf{#1}}\\#X^{\\tau \\times \\sigma^{27}}= 6^{67}= 13681501919202227984531053980511367507737635754868736</script></html>"
      ],
      "text/latex": [
       "$$\\newcommand{\\Bold}[1]{\\mathbf{#1}}\\#X^{\\tau \\times \\sigma^{27}}= 6^{67}= 13681501919202227984531053980511367507737635754868736$$"
      ],
      "text/plain": [
       "\\#X^{\\tau \\times \\sigma^{27}}= 6^{67}= 13681501919202227984531053980511367507737635754868736"
      ]
     },
     "metadata": {},
     "output_type": "display_data"
    },
    {
     "data": {
      "text/html": [
       "<html><script type=\"math/tex; mode=display\">\\newcommand{\\Bold}[1]{\\mathbf{#1}}\\#X^{\\tau \\times \\sigma^{28}}= 6^{67}= 13681501919202227984531053980511367507737635754868736</script></html>"
      ],
      "text/latex": [
       "$$\\newcommand{\\Bold}[1]{\\mathbf{#1}}\\#X^{\\tau \\times \\sigma^{28}}= 6^{67}= 13681501919202227984531053980511367507737635754868736$$"
      ],
      "text/plain": [
       "\\#X^{\\tau \\times \\sigma^{28}}= 6^{67}= 13681501919202227984531053980511367507737635754868736"
      ]
     },
     "metadata": {},
     "output_type": "display_data"
    },
    {
     "data": {
      "text/html": [
       "<html><script type=\"math/tex; mode=display\">\\newcommand{\\Bold}[1]{\\mathbf{#1}}\\#X^{\\tau \\times \\sigma^{29}}= 6^{67}= 13681501919202227984531053980511367507737635754868736</script></html>"
      ],
      "text/latex": [
       "$$\\newcommand{\\Bold}[1]{\\mathbf{#1}}\\#X^{\\tau \\times \\sigma^{29}}= 6^{67}= 13681501919202227984531053980511367507737635754868736$$"
      ],
      "text/plain": [
       "\\#X^{\\tau \\times \\sigma^{29}}= 6^{67}= 13681501919202227984531053980511367507737635754868736"
      ]
     },
     "metadata": {},
     "output_type": "display_data"
    },
    {
     "data": {
      "text/html": [
       "<html><script type=\"math/tex; mode=display\">\\newcommand{\\Bold}[1]{\\mathbf{#1}}\\#X^{\\tau \\times \\sigma^{30}}= 6^{67}= 13681501919202227984531053980511367507737635754868736</script></html>"
      ],
      "text/latex": [
       "$$\\newcommand{\\Bold}[1]{\\mathbf{#1}}\\#X^{\\tau \\times \\sigma^{30}}= 6^{67}= 13681501919202227984531053980511367507737635754868736$$"
      ],
      "text/plain": [
       "\\#X^{\\tau \\times \\sigma^{30}}= 6^{67}= 13681501919202227984531053980511367507737635754868736"
      ]
     },
     "metadata": {},
     "output_type": "display_data"
    },
    {
     "data": {
      "text/html": [
       "<html><script type=\"math/tex; mode=display\">\\newcommand{\\Bold}[1]{\\mathbf{#1}}\\#X^{\\tau \\times \\sigma^{31}}= 6^{67}= 13681501919202227984531053980511367507737635754868736</script></html>"
      ],
      "text/latex": [
       "$$\\newcommand{\\Bold}[1]{\\mathbf{#1}}\\#X^{\\tau \\times \\sigma^{31}}= 6^{67}= 13681501919202227984531053980511367507737635754868736$$"
      ],
      "text/plain": [
       "\\#X^{\\tau \\times \\sigma^{31}}= 6^{67}= 13681501919202227984531053980511367507737635754868736"
      ]
     },
     "metadata": {},
     "output_type": "display_data"
    },
    {
     "data": {
      "text/html": [
       "<html><script type=\"math/tex; mode=display\">\\newcommand{\\Bold}[1]{\\mathbf{#1}}\\#X^{\\tau \\times \\sigma^{32}}= 6^{67}= 13681501919202227984531053980511367507737635754868736</script></html>"
      ],
      "text/latex": [
       "$$\\newcommand{\\Bold}[1]{\\mathbf{#1}}\\#X^{\\tau \\times \\sigma^{32}}= 6^{67}= 13681501919202227984531053980511367507737635754868736$$"
      ],
      "text/plain": [
       "\\#X^{\\tau \\times \\sigma^{32}}= 6^{67}= 13681501919202227984531053980511367507737635754868736"
      ]
     },
     "metadata": {},
     "output_type": "display_data"
    },
    {
     "data": {
      "text/html": [
       "<html><script type=\"math/tex; mode=display\">\\newcommand{\\Bold}[1]{\\mathbf{#1}}\\#X^{\\tau \\times \\sigma^{33}}= 6^{67}= 13681501919202227984531053980511367507737635754868736</script></html>"
      ],
      "text/latex": [
       "$$\\newcommand{\\Bold}[1]{\\mathbf{#1}}\\#X^{\\tau \\times \\sigma^{33}}= 6^{67}= 13681501919202227984531053980511367507737635754868736$$"
      ],
      "text/plain": [
       "\\#X^{\\tau \\times \\sigma^{33}}= 6^{67}= 13681501919202227984531053980511367507737635754868736"
      ]
     },
     "metadata": {},
     "output_type": "display_data"
    },
    {
     "data": {
      "text/html": [
       "<html><script type=\"math/tex; mode=display\">\\newcommand{\\Bold}[1]{\\mathbf{#1}}\\#X^{\\tau \\times \\sigma^{34}}= 6^{67}= 13681501919202227984531053980511367507737635754868736</script></html>"
      ],
      "text/latex": [
       "$$\\newcommand{\\Bold}[1]{\\mathbf{#1}}\\#X^{\\tau \\times \\sigma^{34}}= 6^{67}= 13681501919202227984531053980511367507737635754868736$$"
      ],
      "text/plain": [
       "\\#X^{\\tau \\times \\sigma^{34}}= 6^{67}= 13681501919202227984531053980511367507737635754868736"
      ]
     },
     "metadata": {},
     "output_type": "display_data"
    },
    {
     "data": {
      "text/html": [
       "<html><script type=\"math/tex; mode=display\">\\newcommand{\\Bold}[1]{\\mathbf{#1}}\\#X^{\\tau \\times \\sigma^{35}}= 6^{67}= 13681501919202227984531053980511367507737635754868736</script></html>"
      ],
      "text/latex": [
       "$$\\newcommand{\\Bold}[1]{\\mathbf{#1}}\\#X^{\\tau \\times \\sigma^{35}}= 6^{67}= 13681501919202227984531053980511367507737635754868736$$"
      ],
      "text/plain": [
       "\\#X^{\\tau \\times \\sigma^{35}}= 6^{67}= 13681501919202227984531053980511367507737635754868736"
      ]
     },
     "metadata": {},
     "output_type": "display_data"
    },
    {
     "data": {
      "text/html": [
       "<html><script type=\"math/tex; mode=display\">\\newcommand{\\Bold}[1]{\\mathbf{#1}}\\#X^{\\tau \\times \\sigma^{36}}= 6^{67}= 13681501919202227984531053980511367507737635754868736</script></html>"
      ],
      "text/latex": [
       "$$\\newcommand{\\Bold}[1]{\\mathbf{#1}}\\#X^{\\tau \\times \\sigma^{36}}= 6^{67}= 13681501919202227984531053980511367507737635754868736$$"
      ],
      "text/plain": [
       "\\#X^{\\tau \\times \\sigma^{36}}= 6^{67}= 13681501919202227984531053980511367507737635754868736"
      ]
     },
     "metadata": {},
     "output_type": "display_data"
    },
    {
     "data": {
      "text/html": [
       "<html><script type=\"math/tex; mode=display\">\\newcommand{\\Bold}[1]{\\mathbf{#1}}\\#X^{\\tau \\times \\sigma^{37}}= 6^{67}= 13681501919202227984531053980511367507737635754868736</script></html>"
      ],
      "text/latex": [
       "$$\\newcommand{\\Bold}[1]{\\mathbf{#1}}\\#X^{\\tau \\times \\sigma^{37}}= 6^{67}= 13681501919202227984531053980511367507737635754868736$$"
      ],
      "text/plain": [
       "\\#X^{\\tau \\times \\sigma^{37}}= 6^{67}= 13681501919202227984531053980511367507737635754868736"
      ]
     },
     "metadata": {},
     "output_type": "display_data"
    },
    {
     "data": {
      "text/html": [
       "<html><script type=\"math/tex; mode=display\">\\newcommand{\\Bold}[1]{\\mathbf{#1}}\\#X^{\\tau \\times \\sigma^{38}}= 6^{67}= 13681501919202227984531053980511367507737635754868736</script></html>"
      ],
      "text/latex": [
       "$$\\newcommand{\\Bold}[1]{\\mathbf{#1}}\\#X^{\\tau \\times \\sigma^{38}}= 6^{67}= 13681501919202227984531053980511367507737635754868736$$"
      ],
      "text/plain": [
       "\\#X^{\\tau \\times \\sigma^{38}}= 6^{67}= 13681501919202227984531053980511367507737635754868736"
      ]
     },
     "metadata": {},
     "output_type": "display_data"
    },
    {
     "data": {
      "text/html": [
       "<html><script type=\"math/tex; mode=display\">\\newcommand{\\Bold}[1]{\\mathbf{#1}}\\#X^{\\tau \\times \\sigma^{39}}= 6^{67}= 13681501919202227984531053980511367507737635754868736</script></html>"
      ],
      "text/latex": [
       "$$\\newcommand{\\Bold}[1]{\\mathbf{#1}}\\#X^{\\tau \\times \\sigma^{39}}= 6^{67}= 13681501919202227984531053980511367507737635754868736$$"
      ],
      "text/plain": [
       "\\#X^{\\tau \\times \\sigma^{39}}= 6^{67}= 13681501919202227984531053980511367507737635754868736"
      ]
     },
     "metadata": {},
     "output_type": "display_data"
    },
    {
     "data": {
      "text/html": [
       "<html><script type=\"math/tex; mode=display\">\\newcommand{\\Bold}[1]{\\mathbf{#1}}\\#X^{\\tau \\times \\sigma^{40}}= 6^{67}= 13681501919202227984531053980511367507737635754868736</script></html>"
      ],
      "text/latex": [
       "$$\\newcommand{\\Bold}[1]{\\mathbf{#1}}\\#X^{\\tau \\times \\sigma^{40}}= 6^{67}= 13681501919202227984531053980511367507737635754868736$$"
      ],
      "text/plain": [
       "\\#X^{\\tau \\times \\sigma^{40}}= 6^{67}= 13681501919202227984531053980511367507737635754868736"
      ]
     },
     "metadata": {},
     "output_type": "display_data"
    },
    {
     "data": {
      "text/html": [
       "<html><script type=\"math/tex; mode=display\">\\newcommand{\\Bold}[1]{\\mathbf{#1}}\\#X^{\\tau \\times \\sigma^{41}}= 6^{67}= 13681501919202227984531053980511367507737635754868736</script></html>"
      ],
      "text/latex": [
       "$$\\newcommand{\\Bold}[1]{\\mathbf{#1}}\\#X^{\\tau \\times \\sigma^{41}}= 6^{67}= 13681501919202227984531053980511367507737635754868736$$"
      ],
      "text/plain": [
       "\\#X^{\\tau \\times \\sigma^{41}}= 6^{67}= 13681501919202227984531053980511367507737635754868736"
      ]
     },
     "metadata": {},
     "output_type": "display_data"
    },
    {
     "data": {
      "text/html": [
       "<html><script type=\"math/tex; mode=display\">\\newcommand{\\Bold}[1]{\\mathbf{#1}}\\#X^{\\tau \\times \\sigma^{42}}= 6^{67}= 13681501919202227984531053980511367507737635754868736</script></html>"
      ],
      "text/latex": [
       "$$\\newcommand{\\Bold}[1]{\\mathbf{#1}}\\#X^{\\tau \\times \\sigma^{42}}= 6^{67}= 13681501919202227984531053980511367507737635754868736$$"
      ],
      "text/plain": [
       "\\#X^{\\tau \\times \\sigma^{42}}= 6^{67}= 13681501919202227984531053980511367507737635754868736"
      ]
     },
     "metadata": {},
     "output_type": "display_data"
    },
    {
     "data": {
      "text/html": [
       "<html><script type=\"math/tex; mode=display\">\\newcommand{\\Bold}[1]{\\mathbf{#1}}\\#X^{\\tau \\times \\sigma^{43}}= 6^{67}= 13681501919202227984531053980511367507737635754868736</script></html>"
      ],
      "text/latex": [
       "$$\\newcommand{\\Bold}[1]{\\mathbf{#1}}\\#X^{\\tau \\times \\sigma^{43}}= 6^{67}= 13681501919202227984531053980511367507737635754868736$$"
      ],
      "text/plain": [
       "\\#X^{\\tau \\times \\sigma^{43}}= 6^{67}= 13681501919202227984531053980511367507737635754868736"
      ]
     },
     "metadata": {},
     "output_type": "display_data"
    },
    {
     "data": {
      "text/html": [
       "<html><script type=\"math/tex; mode=display\">\\newcommand{\\Bold}[1]{\\mathbf{#1}}\\#X^{\\tau \\times \\sigma^{44}}= 6^{67}= 13681501919202227984531053980511367507737635754868736</script></html>"
      ],
      "text/latex": [
       "$$\\newcommand{\\Bold}[1]{\\mathbf{#1}}\\#X^{\\tau \\times \\sigma^{44}}= 6^{67}= 13681501919202227984531053980511367507737635754868736$$"
      ],
      "text/plain": [
       "\\#X^{\\tau \\times \\sigma^{44}}= 6^{67}= 13681501919202227984531053980511367507737635754868736"
      ]
     },
     "metadata": {},
     "output_type": "display_data"
    },
    {
     "data": {
      "text/html": [
       "<html><script type=\"math/tex; mode=display\">\\newcommand{\\Bold}[1]{\\mathbf{#1}}\\#X^{\\tau \\times \\sigma^{45}}= 6^{67}= 13681501919202227984531053980511367507737635754868736</script></html>"
      ],
      "text/latex": [
       "$$\\newcommand{\\Bold}[1]{\\mathbf{#1}}\\#X^{\\tau \\times \\sigma^{45}}= 6^{67}= 13681501919202227984531053980511367507737635754868736$$"
      ],
      "text/plain": [
       "\\#X^{\\tau \\times \\sigma^{45}}= 6^{67}= 13681501919202227984531053980511367507737635754868736"
      ]
     },
     "metadata": {},
     "output_type": "display_data"
    },
    {
     "data": {
      "text/html": [
       "<html><script type=\"math/tex; mode=display\">\\newcommand{\\Bold}[1]{\\mathbf{#1}}\\#X^{\\tau \\times \\sigma^{46}}= 6^{67}= 13681501919202227984531053980511367507737635754868736</script></html>"
      ],
      "text/latex": [
       "$$\\newcommand{\\Bold}[1]{\\mathbf{#1}}\\#X^{\\tau \\times \\sigma^{46}}= 6^{67}= 13681501919202227984531053980511367507737635754868736$$"
      ],
      "text/plain": [
       "\\#X^{\\tau \\times \\sigma^{46}}= 6^{67}= 13681501919202227984531053980511367507737635754868736"
      ]
     },
     "metadata": {},
     "output_type": "display_data"
    },
    {
     "data": {
      "text/html": [
       "<html><script type=\"math/tex; mode=display\">\\newcommand{\\Bold}[1]{\\mathbf{#1}}\\#X^{\\tau \\times \\sigma^{47}}= 6^{67}= 13681501919202227984531053980511367507737635754868736</script></html>"
      ],
      "text/latex": [
       "$$\\newcommand{\\Bold}[1]{\\mathbf{#1}}\\#X^{\\tau \\times \\sigma^{47}}= 6^{67}= 13681501919202227984531053980511367507737635754868736$$"
      ],
      "text/plain": [
       "\\#X^{\\tau \\times \\sigma^{47}}= 6^{67}= 13681501919202227984531053980511367507737635754868736"
      ]
     },
     "metadata": {},
     "output_type": "display_data"
    },
    {
     "data": {
      "text/html": [
       "<html><script type=\"math/tex; mode=display\">\\newcommand{\\Bold}[1]{\\mathbf{#1}}\\#X^{\\tau \\times \\sigma^{48}}= 6^{67}= 13681501919202227984531053980511367507737635754868736</script></html>"
      ],
      "text/latex": [
       "$$\\newcommand{\\Bold}[1]{\\mathbf{#1}}\\#X^{\\tau \\times \\sigma^{48}}= 6^{67}= 13681501919202227984531053980511367507737635754868736$$"
      ],
      "text/plain": [
       "\\#X^{\\tau \\times \\sigma^{48}}= 6^{67}= 13681501919202227984531053980511367507737635754868736"
      ]
     },
     "metadata": {},
     "output_type": "display_data"
    },
    {
     "data": {
      "text/html": [
       "<html><script type=\"math/tex; mode=display\">\\newcommand{\\Bold}[1]{\\mathbf{#1}}\\#X^{\\tau \\times \\sigma^{49}}= 6^{67}= 13681501919202227984531053980511367507737635754868736</script></html>"
      ],
      "text/latex": [
       "$$\\newcommand{\\Bold}[1]{\\mathbf{#1}}\\#X^{\\tau \\times \\sigma^{49}}= 6^{67}= 13681501919202227984531053980511367507737635754868736$$"
      ],
      "text/plain": [
       "\\#X^{\\tau \\times \\sigma^{49}}= 6^{67}= 13681501919202227984531053980511367507737635754868736"
      ]
     },
     "metadata": {},
     "output_type": "display_data"
    },
    {
     "data": {
      "text/html": [
       "<html><script type=\"math/tex; mode=display\">\\newcommand{\\Bold}[1]{\\mathbf{#1}}\\#X^{\\tau \\times \\sigma^{50}}= 6^{67}= 13681501919202227984531053980511367507737635754868736</script></html>"
      ],
      "text/latex": [
       "$$\\newcommand{\\Bold}[1]{\\mathbf{#1}}\\#X^{\\tau \\times \\sigma^{50}}= 6^{67}= 13681501919202227984531053980511367507737635754868736$$"
      ],
      "text/plain": [
       "\\#X^{\\tau \\times \\sigma^{50}}= 6^{67}= 13681501919202227984531053980511367507737635754868736"
      ]
     },
     "metadata": {},
     "output_type": "display_data"
    },
    {
     "data": {
      "text/html": [
       "<html><script type=\"math/tex; mode=display\">\\newcommand{\\Bold}[1]{\\mathbf{#1}}\\#X^{\\tau \\times \\sigma^{51}}= 6^{67}= 13681501919202227984531053980511367507737635754868736</script></html>"
      ],
      "text/latex": [
       "$$\\newcommand{\\Bold}[1]{\\mathbf{#1}}\\#X^{\\tau \\times \\sigma^{51}}= 6^{67}= 13681501919202227984531053980511367507737635754868736$$"
      ],
      "text/plain": [
       "\\#X^{\\tau \\times \\sigma^{51}}= 6^{67}= 13681501919202227984531053980511367507737635754868736"
      ]
     },
     "metadata": {},
     "output_type": "display_data"
    },
    {
     "data": {
      "text/html": [
       "<html><script type=\"math/tex; mode=display\">\\newcommand{\\Bold}[1]{\\mathbf{#1}}\\#X^{\\tau \\times \\sigma^{52}}= 6^{67}= 13681501919202227984531053980511367507737635754868736</script></html>"
      ],
      "text/latex": [
       "$$\\newcommand{\\Bold}[1]{\\mathbf{#1}}\\#X^{\\tau \\times \\sigma^{52}}= 6^{67}= 13681501919202227984531053980511367507737635754868736$$"
      ],
      "text/plain": [
       "\\#X^{\\tau \\times \\sigma^{52}}= 6^{67}= 13681501919202227984531053980511367507737635754868736"
      ]
     },
     "metadata": {},
     "output_type": "display_data"
    },
    {
     "data": {
      "text/html": [
       "<html><script type=\"math/tex; mode=display\">\\newcommand{\\Bold}[1]{\\mathbf{#1}}\\#X^{\\tau \\times \\sigma^{53}}= 6^{67}= 13681501919202227984531053980511367507737635754868736</script></html>"
      ],
      "text/latex": [
       "$$\\newcommand{\\Bold}[1]{\\mathbf{#1}}\\#X^{\\tau \\times \\sigma^{53}}= 6^{67}= 13681501919202227984531053980511367507737635754868736$$"
      ],
      "text/plain": [
       "\\#X^{\\tau \\times \\sigma^{53}}= 6^{67}= 13681501919202227984531053980511367507737635754868736"
      ]
     },
     "metadata": {},
     "output_type": "display_data"
    },
    {
     "data": {
      "text/html": [
       "<html><script type=\"math/tex; mode=display\">\\newcommand{\\Bold}[1]{\\mathbf{#1}}\\#X^{\\tau \\times \\sigma^{54}}= 6^{67}= 13681501919202227984531053980511367507737635754868736</script></html>"
      ],
      "text/latex": [
       "$$\\newcommand{\\Bold}[1]{\\mathbf{#1}}\\#X^{\\tau \\times \\sigma^{54}}= 6^{67}= 13681501919202227984531053980511367507737635754868736$$"
      ],
      "text/plain": [
       "\\#X^{\\tau \\times \\sigma^{54}}= 6^{67}= 13681501919202227984531053980511367507737635754868736"
      ]
     },
     "metadata": {},
     "output_type": "display_data"
    },
    {
     "data": {
      "text/html": [
       "<html><script type=\"math/tex; mode=display\">\\newcommand{\\Bold}[1]{\\mathbf{#1}}\\#X^{\\tau \\times \\sigma^{55}}= 6^{67}= 13681501919202227984531053980511367507737635754868736</script></html>"
      ],
      "text/latex": [
       "$$\\newcommand{\\Bold}[1]{\\mathbf{#1}}\\#X^{\\tau \\times \\sigma^{55}}= 6^{67}= 13681501919202227984531053980511367507737635754868736$$"
      ],
      "text/plain": [
       "\\#X^{\\tau \\times \\sigma^{55}}= 6^{67}= 13681501919202227984531053980511367507737635754868736"
      ]
     },
     "metadata": {},
     "output_type": "display_data"
    },
    {
     "data": {
      "text/html": [
       "<html><script type=\"math/tex; mode=display\">\\newcommand{\\Bold}[1]{\\mathbf{#1}}\\#X^{\\tau \\times \\sigma^{56}}= 6^{67}= 13681501919202227984531053980511367507737635754868736</script></html>"
      ],
      "text/latex": [
       "$$\\newcommand{\\Bold}[1]{\\mathbf{#1}}\\#X^{\\tau \\times \\sigma^{56}}= 6^{67}= 13681501919202227984531053980511367507737635754868736$$"
      ],
      "text/plain": [
       "\\#X^{\\tau \\times \\sigma^{56}}= 6^{67}= 13681501919202227984531053980511367507737635754868736"
      ]
     },
     "metadata": {},
     "output_type": "display_data"
    },
    {
     "data": {
      "text/html": [
       "<html><script type=\"math/tex; mode=display\">\\newcommand{\\Bold}[1]{\\mathbf{#1}}\\#X^{\\tau \\times \\sigma^{57}}= 6^{67}= 13681501919202227984531053980511367507737635754868736</script></html>"
      ],
      "text/latex": [
       "$$\\newcommand{\\Bold}[1]{\\mathbf{#1}}\\#X^{\\tau \\times \\sigma^{57}}= 6^{67}= 13681501919202227984531053980511367507737635754868736$$"
      ],
      "text/plain": [
       "\\#X^{\\tau \\times \\sigma^{57}}= 6^{67}= 13681501919202227984531053980511367507737635754868736"
      ]
     },
     "metadata": {},
     "output_type": "display_data"
    },
    {
     "data": {
      "text/html": [
       "<html><script type=\"math/tex; mode=display\">\\newcommand{\\Bold}[1]{\\mathbf{#1}}\\#X^{\\tau \\times \\sigma^{58}}= 6^{67}= 13681501919202227984531053980511367507737635754868736</script></html>"
      ],
      "text/latex": [
       "$$\\newcommand{\\Bold}[1]{\\mathbf{#1}}\\#X^{\\tau \\times \\sigma^{58}}= 6^{67}= 13681501919202227984531053980511367507737635754868736$$"
      ],
      "text/plain": [
       "\\#X^{\\tau \\times \\sigma^{58}}= 6^{67}= 13681501919202227984531053980511367507737635754868736"
      ]
     },
     "metadata": {},
     "output_type": "display_data"
    },
    {
     "data": {
      "text/html": [
       "<html><script type=\"math/tex; mode=display\">\\newcommand{\\Bold}[1]{\\mathbf{#1}}\\#X^{\\tau \\times \\sigma^{59}}= 6^{67}= 13681501919202227984531053980511367507737635754868736</script></html>"
      ],
      "text/latex": [
       "$$\\newcommand{\\Bold}[1]{\\mathbf{#1}}\\#X^{\\tau \\times \\sigma^{59}}= 6^{67}= 13681501919202227984531053980511367507737635754868736$$"
      ],
      "text/plain": [
       "\\#X^{\\tau \\times \\sigma^{59}}= 6^{67}= 13681501919202227984531053980511367507737635754868736"
      ]
     },
     "metadata": {},
     "output_type": "display_data"
    },
    {
     "data": {
      "text/html": [
       "<html><script type=\"math/tex; mode=display\">\\newcommand{\\Bold}[1]{\\mathbf{#1}}\\#X^{\\tau \\times \\sigma^{60}}= 6^{67}= 13681501919202227984531053980511367507737635754868736</script></html>"
      ],
      "text/latex": [
       "$$\\newcommand{\\Bold}[1]{\\mathbf{#1}}\\#X^{\\tau \\times \\sigma^{60}}= 6^{67}= 13681501919202227984531053980511367507737635754868736$$"
      ],
      "text/plain": [
       "\\#X^{\\tau \\times \\sigma^{60}}= 6^{67}= 13681501919202227984531053980511367507737635754868736"
      ]
     },
     "metadata": {},
     "output_type": "display_data"
    },
    {
     "data": {
      "text/html": [
       "<html><script type=\"math/tex; mode=display\">\\newcommand{\\Bold}[1]{\\mathbf{#1}}\\#X^{\\tau \\times \\sigma^{61}}= 6^{67}= 13681501919202227984531053980511367507737635754868736</script></html>"
      ],
      "text/latex": [
       "$$\\newcommand{\\Bold}[1]{\\mathbf{#1}}\\#X^{\\tau \\times \\sigma^{61}}= 6^{67}= 13681501919202227984531053980511367507737635754868736$$"
      ],
      "text/plain": [
       "\\#X^{\\tau \\times \\sigma^{61}}= 6^{67}= 13681501919202227984531053980511367507737635754868736"
      ]
     },
     "metadata": {},
     "output_type": "display_data"
    },
    {
     "data": {
      "text/html": [
       "<html><script type=\"math/tex; mode=display\">\\newcommand{\\Bold}[1]{\\mathbf{#1}}\\#X^{\\tau \\times \\sigma^{62}}= 6^{67}= 13681501919202227984531053980511367507737635754868736</script></html>"
      ],
      "text/latex": [
       "$$\\newcommand{\\Bold}[1]{\\mathbf{#1}}\\#X^{\\tau \\times \\sigma^{62}}= 6^{67}= 13681501919202227984531053980511367507737635754868736$$"
      ],
      "text/plain": [
       "\\#X^{\\tau \\times \\sigma^{62}}= 6^{67}= 13681501919202227984531053980511367507737635754868736"
      ]
     },
     "metadata": {},
     "output_type": "display_data"
    },
    {
     "data": {
      "text/html": [
       "<html><script type=\"math/tex; mode=display\">\\newcommand{\\Bold}[1]{\\mathbf{#1}}\\#X^{\\tau \\times \\sigma^{63}}= 6^{67}= 13681501919202227984531053980511367507737635754868736</script></html>"
      ],
      "text/latex": [
       "$$\\newcommand{\\Bold}[1]{\\mathbf{#1}}\\#X^{\\tau \\times \\sigma^{63}}= 6^{67}= 13681501919202227984531053980511367507737635754868736$$"
      ],
      "text/plain": [
       "\\#X^{\\tau \\times \\sigma^{63}}= 6^{67}= 13681501919202227984531053980511367507737635754868736"
      ]
     },
     "metadata": {},
     "output_type": "display_data"
    },
    {
     "data": {
      "text/html": [
       "<html><script type=\"math/tex; mode=display\">\\newcommand{\\Bold}[1]{\\mathbf{#1}}\\#X^{\\tau \\times \\sigma^{64}}= 6^{67}= 13681501919202227984531053980511367507737635754868736</script></html>"
      ],
      "text/latex": [
       "$$\\newcommand{\\Bold}[1]{\\mathbf{#1}}\\#X^{\\tau \\times \\sigma^{64}}= 6^{67}= 13681501919202227984531053980511367507737635754868736$$"
      ],
      "text/plain": [
       "\\#X^{\\tau \\times \\sigma^{64}}= 6^{67}= 13681501919202227984531053980511367507737635754868736"
      ]
     },
     "metadata": {},
     "output_type": "display_data"
    },
    {
     "data": {
      "text/html": [
       "<html><script type=\"math/tex; mode=display\">\\newcommand{\\Bold}[1]{\\mathbf{#1}}\\#X^{\\tau \\times \\sigma^{65}}= 6^{67}= 13681501919202227984531053980511367507737635754868736</script></html>"
      ],
      "text/latex": [
       "$$\\newcommand{\\Bold}[1]{\\mathbf{#1}}\\#X^{\\tau \\times \\sigma^{65}}= 6^{67}= 13681501919202227984531053980511367507737635754868736$$"
      ],
      "text/plain": [
       "\\#X^{\\tau \\times \\sigma^{65}}= 6^{67}= 13681501919202227984531053980511367507737635754868736"
      ]
     },
     "metadata": {},
     "output_type": "display_data"
    },
    {
     "data": {
      "text/html": [
       "<html><script type=\"math/tex; mode=display\">\\newcommand{\\Bold}[1]{\\mathbf{#1}}\\#X^{\\tau \\times \\sigma^{66}}= 6^{67}= 13681501919202227984531053980511367507737635754868736</script></html>"
      ],
      "text/latex": [
       "$$\\newcommand{\\Bold}[1]{\\mathbf{#1}}\\#X^{\\tau \\times \\sigma^{66}}= 6^{67}= 13681501919202227984531053980511367507737635754868736$$"
      ],
      "text/plain": [
       "\\#X^{\\tau \\times \\sigma^{66}}= 6^{67}= 13681501919202227984531053980511367507737635754868736"
      ]
     },
     "metadata": {},
     "output_type": "display_data"
    },
    {
     "data": {
      "text/html": [
       "<html><script type=\"math/tex; mode=display\">\\newcommand{\\Bold}[1]{\\mathbf{#1}}\\#X^{\\tau \\times \\sigma^{67}}= 6^{67}= 13681501919202227984531053980511367507737635754868736</script></html>"
      ],
      "text/latex": [
       "$$\\newcommand{\\Bold}[1]{\\mathbf{#1}}\\#X^{\\tau \\times \\sigma^{67}}= 6^{67}= 13681501919202227984531053980511367507737635754868736$$"
      ],
      "text/plain": [
       "\\#X^{\\tau \\times \\sigma^{67}}= 6^{67}= 13681501919202227984531053980511367507737635754868736"
      ]
     },
     "metadata": {},
     "output_type": "display_data"
    },
    {
     "data": {
      "text/html": [
       "<html><script type=\"math/tex; mode=display\">\\newcommand{\\Bold}[1]{\\mathbf{#1}}\\#X^{\\tau \\times \\sigma^{68}}= 6^{67}= 13681501919202227984531053980511367507737635754868736</script></html>"
      ],
      "text/latex": [
       "$$\\newcommand{\\Bold}[1]{\\mathbf{#1}}\\#X^{\\tau \\times \\sigma^{68}}= 6^{67}= 13681501919202227984531053980511367507737635754868736$$"
      ],
      "text/plain": [
       "\\#X^{\\tau \\times \\sigma^{68}}= 6^{67}= 13681501919202227984531053980511367507737635754868736"
      ]
     },
     "metadata": {},
     "output_type": "display_data"
    },
    {
     "data": {
      "text/html": [
       "<html><script type=\"math/tex; mode=display\">\\newcommand{\\Bold}[1]{\\mathbf{#1}}\\#X^{\\tau \\times \\sigma^{69}}= 6^{67}= 13681501919202227984531053980511367507737635754868736</script></html>"
      ],
      "text/latex": [
       "$$\\newcommand{\\Bold}[1]{\\mathbf{#1}}\\#X^{\\tau \\times \\sigma^{69}}= 6^{67}= 13681501919202227984531053980511367507737635754868736$$"
      ],
      "text/plain": [
       "\\#X^{\\tau \\times \\sigma^{69}}= 6^{67}= 13681501919202227984531053980511367507737635754868736"
      ]
     },
     "metadata": {},
     "output_type": "display_data"
    },
    {
     "data": {
      "text/html": [
       "<html><script type=\"math/tex; mode=display\">\\newcommand{\\Bold}[1]{\\mathbf{#1}}\\#X^{\\tau \\times \\sigma^{70}}= 6^{67}= 13681501919202227984531053980511367507737635754868736</script></html>"
      ],
      "text/latex": [
       "$$\\newcommand{\\Bold}[1]{\\mathbf{#1}}\\#X^{\\tau \\times \\sigma^{70}}= 6^{67}= 13681501919202227984531053980511367507737635754868736$$"
      ],
      "text/plain": [
       "\\#X^{\\tau \\times \\sigma^{70}}= 6^{67}= 13681501919202227984531053980511367507737635754868736"
      ]
     },
     "metadata": {},
     "output_type": "display_data"
    },
    {
     "data": {
      "text/html": [
       "<html><script type=\"math/tex; mode=display\">\\newcommand{\\Bold}[1]{\\mathbf{#1}}\\#X^{\\tau \\times \\sigma^{71}}= 6^{67}= 13681501919202227984531053980511367507737635754868736</script></html>"
      ],
      "text/latex": [
       "$$\\newcommand{\\Bold}[1]{\\mathbf{#1}}\\#X^{\\tau \\times \\sigma^{71}}= 6^{67}= 13681501919202227984531053980511367507737635754868736$$"
      ],
      "text/plain": [
       "\\#X^{\\tau \\times \\sigma^{71}}= 6^{67}= 13681501919202227984531053980511367507737635754868736"
      ]
     },
     "metadata": {},
     "output_type": "display_data"
    },
    {
     "data": {
      "text/html": [
       "<html><script type=\"math/tex; mode=display\">\\newcommand{\\Bold}[1]{\\mathbf{#1}}\\#X^{\\tau \\times \\sigma^{72}}= 6^{67}= 13681501919202227984531053980511367507737635754868736</script></html>"
      ],
      "text/latex": [
       "$$\\newcommand{\\Bold}[1]{\\mathbf{#1}}\\#X^{\\tau \\times \\sigma^{72}}= 6^{67}= 13681501919202227984531053980511367507737635754868736$$"
      ],
      "text/plain": [
       "\\#X^{\\tau \\times \\sigma^{72}}= 6^{67}= 13681501919202227984531053980511367507737635754868736"
      ]
     },
     "metadata": {},
     "output_type": "display_data"
    },
    {
     "data": {
      "text/html": [
       "<html><script type=\"math/tex; mode=display\">\\newcommand{\\Bold}[1]{\\mathbf{#1}}\\#X^{\\tau \\times \\sigma^{73}}= 6^{67}= 13681501919202227984531053980511367507737635754868736</script></html>"
      ],
      "text/latex": [
       "$$\\newcommand{\\Bold}[1]{\\mathbf{#1}}\\#X^{\\tau \\times \\sigma^{73}}= 6^{67}= 13681501919202227984531053980511367507737635754868736$$"
      ],
      "text/plain": [
       "\\#X^{\\tau \\times \\sigma^{73}}= 6^{67}= 13681501919202227984531053980511367507737635754868736"
      ]
     },
     "metadata": {},
     "output_type": "display_data"
    },
    {
     "data": {
      "text/html": [
       "<html><script type=\"math/tex; mode=display\">\\newcommand{\\Bold}[1]{\\mathbf{#1}}\\#X^{\\tau \\times \\sigma^{74}}= 6^{67}= 13681501919202227984531053980511367507737635754868736</script></html>"
      ],
      "text/latex": [
       "$$\\newcommand{\\Bold}[1]{\\mathbf{#1}}\\#X^{\\tau \\times \\sigma^{74}}= 6^{67}= 13681501919202227984531053980511367507737635754868736$$"
      ],
      "text/plain": [
       "\\#X^{\\tau \\times \\sigma^{74}}= 6^{67}= 13681501919202227984531053980511367507737635754868736"
      ]
     },
     "metadata": {},
     "output_type": "display_data"
    },
    {
     "data": {
      "text/html": [
       "<html><script type=\"math/tex; mode=display\">\\newcommand{\\Bold}[1]{\\mathbf{#1}}\\#X^{\\tau \\times \\sigma^{75}}= 6^{67}= 13681501919202227984531053980511367507737635754868736</script></html>"
      ],
      "text/latex": [
       "$$\\newcommand{\\Bold}[1]{\\mathbf{#1}}\\#X^{\\tau \\times \\sigma^{75}}= 6^{67}= 13681501919202227984531053980511367507737635754868736$$"
      ],
      "text/plain": [
       "\\#X^{\\tau \\times \\sigma^{75}}= 6^{67}= 13681501919202227984531053980511367507737635754868736"
      ]
     },
     "metadata": {},
     "output_type": "display_data"
    },
    {
     "data": {
      "text/html": [
       "<html><script type=\"math/tex; mode=display\">\\newcommand{\\Bold}[1]{\\mathbf{#1}}\\#X^{\\tau \\times \\sigma^{76}}= 6^{67}= 13681501919202227984531053980511367507737635754868736</script></html>"
      ],
      "text/latex": [
       "$$\\newcommand{\\Bold}[1]{\\mathbf{#1}}\\#X^{\\tau \\times \\sigma^{76}}= 6^{67}= 13681501919202227984531053980511367507737635754868736$$"
      ],
      "text/plain": [
       "\\#X^{\\tau \\times \\sigma^{76}}= 6^{67}= 13681501919202227984531053980511367507737635754868736"
      ]
     },
     "metadata": {},
     "output_type": "display_data"
    },
    {
     "data": {
      "text/html": [
       "<html><script type=\"math/tex; mode=display\">\\newcommand{\\Bold}[1]{\\mathbf{#1}}\\#X^{\\tau \\times \\sigma^{77}}= 6^{67}= 13681501919202227984531053980511367507737635754868736</script></html>"
      ],
      "text/latex": [
       "$$\\newcommand{\\Bold}[1]{\\mathbf{#1}}\\#X^{\\tau \\times \\sigma^{77}}= 6^{67}= 13681501919202227984531053980511367507737635754868736$$"
      ],
      "text/plain": [
       "\\#X^{\\tau \\times \\sigma^{77}}= 6^{67}= 13681501919202227984531053980511367507737635754868736"
      ]
     },
     "metadata": {},
     "output_type": "display_data"
    },
    {
     "data": {
      "text/html": [
       "<html><script type=\"math/tex; mode=display\">\\newcommand{\\Bold}[1]{\\mathbf{#1}}\\#X^{\\tau \\times \\sigma^{78}}= 6^{67}= 13681501919202227984531053980511367507737635754868736</script></html>"
      ],
      "text/latex": [
       "$$\\newcommand{\\Bold}[1]{\\mathbf{#1}}\\#X^{\\tau \\times \\sigma^{78}}= 6^{67}= 13681501919202227984531053980511367507737635754868736$$"
      ],
      "text/plain": [
       "\\#X^{\\tau \\times \\sigma^{78}}= 6^{67}= 13681501919202227984531053980511367507737635754868736"
      ]
     },
     "metadata": {},
     "output_type": "display_data"
    },
    {
     "data": {
      "text/html": [
       "<html><script type=\"math/tex; mode=display\">\\newcommand{\\Bold}[1]{\\mathbf{#1}}\\#X^{\\tau \\times \\sigma^{79}}= 6^{67}= 13681501919202227984531053980511367507737635754868736</script></html>"
      ],
      "text/latex": [
       "$$\\newcommand{\\Bold}[1]{\\mathbf{#1}}\\#X^{\\tau \\times \\sigma^{79}}= 6^{67}= 13681501919202227984531053980511367507737635754868736$$"
      ],
      "text/plain": [
       "\\#X^{\\tau \\times \\sigma^{79}}= 6^{67}= 13681501919202227984531053980511367507737635754868736"
      ]
     },
     "metadata": {},
     "output_type": "display_data"
    },
    {
     "data": {
      "text/html": [
       "<html><script type=\"math/tex; mode=display\">\\newcommand{\\Bold}[1]{\\mathbf{#1}}\\#X^{\\tau \\times \\sigma^{80}}= 6^{67}= 13681501919202227984531053980511367507737635754868736</script></html>"
      ],
      "text/latex": [
       "$$\\newcommand{\\Bold}[1]{\\mathbf{#1}}\\#X^{\\tau \\times \\sigma^{80}}= 6^{67}= 13681501919202227984531053980511367507737635754868736$$"
      ],
      "text/plain": [
       "\\#X^{\\tau \\times \\sigma^{80}}= 6^{67}= 13681501919202227984531053980511367507737635754868736"
      ]
     },
     "metadata": {},
     "output_type": "display_data"
    },
    {
     "data": {
      "text/html": [
       "<html><script type=\"math/tex; mode=display\">\\newcommand{\\Bold}[1]{\\mathbf{#1}}\\#X^{\\tau \\times \\sigma^{81}}= 6^{67}= 13681501919202227984531053980511367507737635754868736</script></html>"
      ],
      "text/latex": [
       "$$\\newcommand{\\Bold}[1]{\\mathbf{#1}}\\#X^{\\tau \\times \\sigma^{81}}= 6^{67}= 13681501919202227984531053980511367507737635754868736$$"
      ],
      "text/plain": [
       "\\#X^{\\tau \\times \\sigma^{81}}= 6^{67}= 13681501919202227984531053980511367507737635754868736"
      ]
     },
     "metadata": {},
     "output_type": "display_data"
    },
    {
     "data": {
      "text/html": [
       "<html><script type=\"math/tex; mode=display\">\\newcommand{\\Bold}[1]{\\mathbf{#1}}\\#X^{\\tau \\times \\sigma^{82}}= 6^{67}= 13681501919202227984531053980511367507737635754868736</script></html>"
      ],
      "text/latex": [
       "$$\\newcommand{\\Bold}[1]{\\mathbf{#1}}\\#X^{\\tau \\times \\sigma^{82}}= 6^{67}= 13681501919202227984531053980511367507737635754868736$$"
      ],
      "text/plain": [
       "\\#X^{\\tau \\times \\sigma^{82}}= 6^{67}= 13681501919202227984531053980511367507737635754868736"
      ]
     },
     "metadata": {},
     "output_type": "display_data"
    },
    {
     "data": {
      "text/html": [
       "<html><script type=\"math/tex; mode=display\">\\newcommand{\\Bold}[1]{\\mathbf{#1}}\\#X^{\\tau \\times \\sigma^{83}}= 6^{67}= 13681501919202227984531053980511367507737635754868736</script></html>"
      ],
      "text/latex": [
       "$$\\newcommand{\\Bold}[1]{\\mathbf{#1}}\\#X^{\\tau \\times \\sigma^{83}}= 6^{67}= 13681501919202227984531053980511367507737635754868736$$"
      ],
      "text/plain": [
       "\\#X^{\\tau \\times \\sigma^{83}}= 6^{67}= 13681501919202227984531053980511367507737635754868736"
      ]
     },
     "metadata": {},
     "output_type": "display_data"
    },
    {
     "data": {
      "text/html": [
       "<html><script type=\"math/tex; mode=display\">\\newcommand{\\Bold}[1]{\\mathbf{#1}}\\#X^{\\tau \\times \\sigma^{84}}= 6^{67}= 13681501919202227984531053980511367507737635754868736</script></html>"
      ],
      "text/latex": [
       "$$\\newcommand{\\Bold}[1]{\\mathbf{#1}}\\#X^{\\tau \\times \\sigma^{84}}= 6^{67}= 13681501919202227984531053980511367507737635754868736$$"
      ],
      "text/plain": [
       "\\#X^{\\tau \\times \\sigma^{84}}= 6^{67}= 13681501919202227984531053980511367507737635754868736"
      ]
     },
     "metadata": {},
     "output_type": "display_data"
    },
    {
     "data": {
      "text/html": [
       "<html><script type=\"math/tex; mode=display\">\\newcommand{\\Bold}[1]{\\mathbf{#1}}\\#X^{\\tau \\times \\sigma^{85}}= 6^{67}= 13681501919202227984531053980511367507737635754868736</script></html>"
      ],
      "text/latex": [
       "$$\\newcommand{\\Bold}[1]{\\mathbf{#1}}\\#X^{\\tau \\times \\sigma^{85}}= 6^{67}= 13681501919202227984531053980511367507737635754868736$$"
      ],
      "text/plain": [
       "\\#X^{\\tau \\times \\sigma^{85}}= 6^{67}= 13681501919202227984531053980511367507737635754868736"
      ]
     },
     "metadata": {},
     "output_type": "display_data"
    },
    {
     "data": {
      "text/html": [
       "<html><script type=\"math/tex; mode=display\">\\newcommand{\\Bold}[1]{\\mathbf{#1}}\\#X^{\\tau \\times \\sigma^{86}}= 6^{67}= 13681501919202227984531053980511367507737635754868736</script></html>"
      ],
      "text/latex": [
       "$$\\newcommand{\\Bold}[1]{\\mathbf{#1}}\\#X^{\\tau \\times \\sigma^{86}}= 6^{67}= 13681501919202227984531053980511367507737635754868736$$"
      ],
      "text/plain": [
       "\\#X^{\\tau \\times \\sigma^{86}}= 6^{67}= 13681501919202227984531053980511367507737635754868736"
      ]
     },
     "metadata": {},
     "output_type": "display_data"
    },
    {
     "data": {
      "text/html": [
       "<html><script type=\"math/tex; mode=display\">\\newcommand{\\Bold}[1]{\\mathbf{#1}}\\#X^{\\tau \\times \\sigma^{87}}= 6^{67}= 13681501919202227984531053980511367507737635754868736</script></html>"
      ],
      "text/latex": [
       "$$\\newcommand{\\Bold}[1]{\\mathbf{#1}}\\#X^{\\tau \\times \\sigma^{87}}= 6^{67}= 13681501919202227984531053980511367507737635754868736$$"
      ],
      "text/plain": [
       "\\#X^{\\tau \\times \\sigma^{87}}= 6^{67}= 13681501919202227984531053980511367507737635754868736"
      ]
     },
     "metadata": {},
     "output_type": "display_data"
    },
    {
     "data": {
      "text/html": [
       "<html><script type=\"math/tex; mode=display\">\\newcommand{\\Bold}[1]{\\mathbf{#1}}\\#X^{\\tau \\times \\sigma^{88}}= 6^{67}= 13681501919202227984531053980511367507737635754868736</script></html>"
      ],
      "text/latex": [
       "$$\\newcommand{\\Bold}[1]{\\mathbf{#1}}\\#X^{\\tau \\times \\sigma^{88}}= 6^{67}= 13681501919202227984531053980511367507737635754868736$$"
      ],
      "text/plain": [
       "\\#X^{\\tau \\times \\sigma^{88}}= 6^{67}= 13681501919202227984531053980511367507737635754868736"
      ]
     },
     "metadata": {},
     "output_type": "display_data"
    },
    {
     "data": {
      "text/html": [
       "<html><script type=\"math/tex; mode=display\">\\newcommand{\\Bold}[1]{\\mathbf{#1}}\\#X^{\\tau \\times \\sigma^{89}}= 6^{67}= 13681501919202227984531053980511367507737635754868736</script></html>"
      ],
      "text/latex": [
       "$$\\newcommand{\\Bold}[1]{\\mathbf{#1}}\\#X^{\\tau \\times \\sigma^{89}}= 6^{67}= 13681501919202227984531053980511367507737635754868736$$"
      ],
      "text/plain": [
       "\\#X^{\\tau \\times \\sigma^{89}}= 6^{67}= 13681501919202227984531053980511367507737635754868736"
      ]
     },
     "metadata": {},
     "output_type": "display_data"
    },
    {
     "data": {
      "text/html": [
       "<html><script type=\"math/tex; mode=display\">\\newcommand{\\Bold}[1]{\\mathbf{#1}}\\#X^{\\tau \\times \\sigma^{90}}= 6^{67}= 13681501919202227984531053980511367507737635754868736</script></html>"
      ],
      "text/latex": [
       "$$\\newcommand{\\Bold}[1]{\\mathbf{#1}}\\#X^{\\tau \\times \\sigma^{90}}= 6^{67}= 13681501919202227984531053980511367507737635754868736$$"
      ],
      "text/plain": [
       "\\#X^{\\tau \\times \\sigma^{90}}= 6^{67}= 13681501919202227984531053980511367507737635754868736"
      ]
     },
     "metadata": {},
     "output_type": "display_data"
    },
    {
     "data": {
      "text/html": [
       "<html><script type=\"math/tex; mode=display\">\\newcommand{\\Bold}[1]{\\mathbf{#1}}\\#X^{\\tau \\times \\sigma^{91}}= 6^{67}= 13681501919202227984531053980511367507737635754868736</script></html>"
      ],
      "text/latex": [
       "$$\\newcommand{\\Bold}[1]{\\mathbf{#1}}\\#X^{\\tau \\times \\sigma^{91}}= 6^{67}= 13681501919202227984531053980511367507737635754868736$$"
      ],
      "text/plain": [
       "\\#X^{\\tau \\times \\sigma^{91}}= 6^{67}= 13681501919202227984531053980511367507737635754868736"
      ]
     },
     "metadata": {},
     "output_type": "display_data"
    },
    {
     "data": {
      "text/html": [
       "<html><script type=\"math/tex; mode=display\">\\newcommand{\\Bold}[1]{\\mathbf{#1}}\\#X^{\\tau \\times \\sigma^{92}}= 6^{67}= 13681501919202227984531053980511367507737635754868736</script></html>"
      ],
      "text/latex": [
       "$$\\newcommand{\\Bold}[1]{\\mathbf{#1}}\\#X^{\\tau \\times \\sigma^{92}}= 6^{67}= 13681501919202227984531053980511367507737635754868736$$"
      ],
      "text/plain": [
       "\\#X^{\\tau \\times \\sigma^{92}}= 6^{67}= 13681501919202227984531053980511367507737635754868736"
      ]
     },
     "metadata": {},
     "output_type": "display_data"
    },
    {
     "data": {
      "text/html": [
       "<html><script type=\"math/tex; mode=display\">\\newcommand{\\Bold}[1]{\\mathbf{#1}}\\#X^{\\tau \\times \\sigma^{93}}= 6^{67}= 13681501919202227984531053980511367507737635754868736</script></html>"
      ],
      "text/latex": [
       "$$\\newcommand{\\Bold}[1]{\\mathbf{#1}}\\#X^{\\tau \\times \\sigma^{93}}= 6^{67}= 13681501919202227984531053980511367507737635754868736$$"
      ],
      "text/plain": [
       "\\#X^{\\tau \\times \\sigma^{93}}= 6^{67}= 13681501919202227984531053980511367507737635754868736"
      ]
     },
     "metadata": {},
     "output_type": "display_data"
    },
    {
     "data": {
      "text/html": [
       "<html><script type=\"math/tex; mode=display\">\\newcommand{\\Bold}[1]{\\mathbf{#1}}\\#X^{\\tau \\times \\sigma^{94}}= 6^{67}= 13681501919202227984531053980511367507737635754868736</script></html>"
      ],
      "text/latex": [
       "$$\\newcommand{\\Bold}[1]{\\mathbf{#1}}\\#X^{\\tau \\times \\sigma^{94}}= 6^{67}= 13681501919202227984531053980511367507737635754868736$$"
      ],
      "text/plain": [
       "\\#X^{\\tau \\times \\sigma^{94}}= 6^{67}= 13681501919202227984531053980511367507737635754868736"
      ]
     },
     "metadata": {},
     "output_type": "display_data"
    },
    {
     "data": {
      "text/html": [
       "<html><script type=\"math/tex; mode=display\">\\newcommand{\\Bold}[1]{\\mathbf{#1}}\\#X^{\\tau \\times \\sigma^{95}}= 6^{67}= 13681501919202227984531053980511367507737635754868736</script></html>"
      ],
      "text/latex": [
       "$$\\newcommand{\\Bold}[1]{\\mathbf{#1}}\\#X^{\\tau \\times \\sigma^{95}}= 6^{67}= 13681501919202227984531053980511367507737635754868736$$"
      ],
      "text/plain": [
       "\\#X^{\\tau \\times \\sigma^{95}}= 6^{67}= 13681501919202227984531053980511367507737635754868736"
      ]
     },
     "metadata": {},
     "output_type": "display_data"
    },
    {
     "data": {
      "text/html": [
       "<html><script type=\"math/tex; mode=display\">\\newcommand{\\Bold}[1]{\\mathbf{#1}}\\#X^{\\tau \\times \\sigma^{96}}= 6^{67}= 13681501919202227984531053980511367507737635754868736</script></html>"
      ],
      "text/latex": [
       "$$\\newcommand{\\Bold}[1]{\\mathbf{#1}}\\#X^{\\tau \\times \\sigma^{96}}= 6^{67}= 13681501919202227984531053980511367507737635754868736$$"
      ],
      "text/plain": [
       "\\#X^{\\tau \\times \\sigma^{96}}= 6^{67}= 13681501919202227984531053980511367507737635754868736"
      ]
     },
     "metadata": {},
     "output_type": "display_data"
    },
    {
     "data": {
      "text/html": [
       "<html><script type=\"math/tex; mode=display\">\\newcommand{\\Bold}[1]{\\mathbf{#1}}\\#X^{\\tau \\times \\sigma^{97}}= 6^{67}= 13681501919202227984531053980511367507737635754868736</script></html>"
      ],
      "text/latex": [
       "$$\\newcommand{\\Bold}[1]{\\mathbf{#1}}\\#X^{\\tau \\times \\sigma^{97}}= 6^{67}= 13681501919202227984531053980511367507737635754868736$$"
      ],
      "text/plain": [
       "\\#X^{\\tau \\times \\sigma^{97}}= 6^{67}= 13681501919202227984531053980511367507737635754868736"
      ]
     },
     "metadata": {},
     "output_type": "display_data"
    },
    {
     "data": {
      "text/html": [
       "<html><script type=\"math/tex; mode=display\">\\newcommand{\\Bold}[1]{\\mathbf{#1}}\\#X^{\\tau \\times \\sigma^{98}}= 6^{67}= 13681501919202227984531053980511367507737635754868736</script></html>"
      ],
      "text/latex": [
       "$$\\newcommand{\\Bold}[1]{\\mathbf{#1}}\\#X^{\\tau \\times \\sigma^{98}}= 6^{67}= 13681501919202227984531053980511367507737635754868736$$"
      ],
      "text/plain": [
       "\\#X^{\\tau \\times \\sigma^{98}}= 6^{67}= 13681501919202227984531053980511367507737635754868736"
      ]
     },
     "metadata": {},
     "output_type": "display_data"
    },
    {
     "data": {
      "text/html": [
       "<html><script type=\"math/tex; mode=display\">\\newcommand{\\Bold}[1]{\\mathbf{#1}}\\#X^{\\tau \\times \\sigma^{99}}= 6^{67}= 13681501919202227984531053980511367507737635754868736</script></html>"
      ],
      "text/latex": [
       "$$\\newcommand{\\Bold}[1]{\\mathbf{#1}}\\#X^{\\tau \\times \\sigma^{99}}= 6^{67}= 13681501919202227984531053980511367507737635754868736$$"
      ],
      "text/plain": [
       "\\#X^{\\tau \\times \\sigma^{99}}= 6^{67}= 13681501919202227984531053980511367507737635754868736"
      ]
     },
     "metadata": {},
     "output_type": "display_data"
    },
    {
     "data": {
      "text/html": [
       "<html><script type=\"math/tex; mode=display\">\\newcommand{\\Bold}[1]{\\mathbf{#1}}\\#X^{\\tau \\times \\sigma^{100}}= 6^{67}= 13681501919202227984531053980511367507737635754868736</script></html>"
      ],
      "text/latex": [
       "$$\\newcommand{\\Bold}[1]{\\mathbf{#1}}\\#X^{\\tau \\times \\sigma^{100}}= 6^{67}= 13681501919202227984531053980511367507737635754868736$$"
      ],
      "text/plain": [
       "\\#X^{\\tau \\times \\sigma^{100}}= 6^{67}= 13681501919202227984531053980511367507737635754868736"
      ]
     },
     "metadata": {},
     "output_type": "display_data"
    },
    {
     "data": {
      "text/html": [
       "<html><script type=\"math/tex; mode=display\">\\newcommand{\\Bold}[1]{\\mathbf{#1}}\\#X^{\\tau \\times \\sigma^{101}}= 6^{67}= 13681501919202227984531053980511367507737635754868736</script></html>"
      ],
      "text/latex": [
       "$$\\newcommand{\\Bold}[1]{\\mathbf{#1}}\\#X^{\\tau \\times \\sigma^{101}}= 6^{67}= 13681501919202227984531053980511367507737635754868736$$"
      ],
      "text/plain": [
       "\\#X^{\\tau \\times \\sigma^{101}}= 6^{67}= 13681501919202227984531053980511367507737635754868736"
      ]
     },
     "metadata": {},
     "output_type": "display_data"
    },
    {
     "data": {
      "text/html": [
       "<html><script type=\"math/tex; mode=display\">\\newcommand{\\Bold}[1]{\\mathbf{#1}}\\#X^{\\tau \\times \\sigma^{102}}= 6^{67}= 13681501919202227984531053980511367507737635754868736</script></html>"
      ],
      "text/latex": [
       "$$\\newcommand{\\Bold}[1]{\\mathbf{#1}}\\#X^{\\tau \\times \\sigma^{102}}= 6^{67}= 13681501919202227984531053980511367507737635754868736$$"
      ],
      "text/plain": [
       "\\#X^{\\tau \\times \\sigma^{102}}= 6^{67}= 13681501919202227984531053980511367507737635754868736"
      ]
     },
     "metadata": {},
     "output_type": "display_data"
    },
    {
     "data": {
      "text/html": [
       "<html><script type=\"math/tex; mode=display\">\\newcommand{\\Bold}[1]{\\mathbf{#1}}\\#X^{\\tau \\times \\sigma^{103}}= 6^{67}= 13681501919202227984531053980511367507737635754868736</script></html>"
      ],
      "text/latex": [
       "$$\\newcommand{\\Bold}[1]{\\mathbf{#1}}\\#X^{\\tau \\times \\sigma^{103}}= 6^{67}= 13681501919202227984531053980511367507737635754868736$$"
      ],
      "text/plain": [
       "\\#X^{\\tau \\times \\sigma^{103}}= 6^{67}= 13681501919202227984531053980511367507737635754868736"
      ]
     },
     "metadata": {},
     "output_type": "display_data"
    },
    {
     "data": {
      "text/html": [
       "<html><script type=\"math/tex; mode=display\">\\newcommand{\\Bold}[1]{\\mathbf{#1}}\\#X^{\\tau \\times \\sigma^{104}}= 6^{67}= 13681501919202227984531053980511367507737635754868736</script></html>"
      ],
      "text/latex": [
       "$$\\newcommand{\\Bold}[1]{\\mathbf{#1}}\\#X^{\\tau \\times \\sigma^{104}}= 6^{67}= 13681501919202227984531053980511367507737635754868736$$"
      ],
      "text/plain": [
       "\\#X^{\\tau \\times \\sigma^{104}}= 6^{67}= 13681501919202227984531053980511367507737635754868736"
      ]
     },
     "metadata": {},
     "output_type": "display_data"
    },
    {
     "data": {
      "text/html": [
       "<html><script type=\"math/tex; mode=display\">\\newcommand{\\Bold}[1]{\\mathbf{#1}}\\#X^{\\tau \\times \\sigma^{105}}= 6^{67}= 13681501919202227984531053980511367507737635754868736</script></html>"
      ],
      "text/latex": [
       "$$\\newcommand{\\Bold}[1]{\\mathbf{#1}}\\#X^{\\tau \\times \\sigma^{105}}= 6^{67}= 13681501919202227984531053980511367507737635754868736$$"
      ],
      "text/plain": [
       "\\#X^{\\tau \\times \\sigma^{105}}= 6^{67}= 13681501919202227984531053980511367507737635754868736"
      ]
     },
     "metadata": {},
     "output_type": "display_data"
    },
    {
     "data": {
      "text/html": [
       "<html><script type=\"math/tex; mode=display\">\\newcommand{\\Bold}[1]{\\mathbf{#1}}\\#X^{\\tau \\times \\sigma^{106}}= 6^{67}= 13681501919202227984531053980511367507737635754868736</script></html>"
      ],
      "text/latex": [
       "$$\\newcommand{\\Bold}[1]{\\mathbf{#1}}\\#X^{\\tau \\times \\sigma^{106}}= 6^{67}= 13681501919202227984531053980511367507737635754868736$$"
      ],
      "text/plain": [
       "\\#X^{\\tau \\times \\sigma^{106}}= 6^{67}= 13681501919202227984531053980511367507737635754868736"
      ]
     },
     "metadata": {},
     "output_type": "display_data"
    },
    {
     "data": {
      "text/html": [
       "<html><script type=\"math/tex; mode=display\">\\newcommand{\\Bold}[1]{\\mathbf{#1}}\\#X^{\\tau \\times \\sigma^{107}}= 6^{67}= 13681501919202227984531053980511367507737635754868736</script></html>"
      ],
      "text/latex": [
       "$$\\newcommand{\\Bold}[1]{\\mathbf{#1}}\\#X^{\\tau \\times \\sigma^{107}}= 6^{67}= 13681501919202227984531053980511367507737635754868736$$"
      ],
      "text/plain": [
       "\\#X^{\\tau \\times \\sigma^{107}}= 6^{67}= 13681501919202227984531053980511367507737635754868736"
      ]
     },
     "metadata": {},
     "output_type": "display_data"
    },
    {
     "data": {
      "text/html": [
       "<html><script type=\"math/tex; mode=display\">\\newcommand{\\Bold}[1]{\\mathbf{#1}}\\#X^{\\tau \\times \\sigma^{108}}= 6^{67}= 13681501919202227984531053980511367507737635754868736</script></html>"
      ],
      "text/latex": [
       "$$\\newcommand{\\Bold}[1]{\\mathbf{#1}}\\#X^{\\tau \\times \\sigma^{108}}= 6^{67}= 13681501919202227984531053980511367507737635754868736$$"
      ],
      "text/plain": [
       "\\#X^{\\tau \\times \\sigma^{108}}= 6^{67}= 13681501919202227984531053980511367507737635754868736"
      ]
     },
     "metadata": {},
     "output_type": "display_data"
    },
    {
     "data": {
      "text/html": [
       "<html><script type=\"math/tex; mode=display\">\\newcommand{\\Bold}[1]{\\mathbf{#1}}\\#X^{\\tau \\times \\sigma^{109}}= 6^{67}= 13681501919202227984531053980511367507737635754868736</script></html>"
      ],
      "text/latex": [
       "$$\\newcommand{\\Bold}[1]{\\mathbf{#1}}\\#X^{\\tau \\times \\sigma^{109}}= 6^{67}= 13681501919202227984531053980511367507737635754868736$$"
      ],
      "text/plain": [
       "\\#X^{\\tau \\times \\sigma^{109}}= 6^{67}= 13681501919202227984531053980511367507737635754868736"
      ]
     },
     "metadata": {},
     "output_type": "display_data"
    },
    {
     "data": {
      "text/html": [
       "<html><script type=\"math/tex; mode=display\">\\newcommand{\\Bold}[1]{\\mathbf{#1}}\\#X^{\\tau \\times \\sigma^{110}}= 6^{67}= 13681501919202227984531053980511367507737635754868736</script></html>"
      ],
      "text/latex": [
       "$$\\newcommand{\\Bold}[1]{\\mathbf{#1}}\\#X^{\\tau \\times \\sigma^{110}}= 6^{67}= 13681501919202227984531053980511367507737635754868736$$"
      ],
      "text/plain": [
       "\\#X^{\\tau \\times \\sigma^{110}}= 6^{67}= 13681501919202227984531053980511367507737635754868736"
      ]
     },
     "metadata": {},
     "output_type": "display_data"
    },
    {
     "data": {
      "text/html": [
       "<html><script type=\"math/tex; mode=display\">\\newcommand{\\Bold}[1]{\\mathbf{#1}}\\#X^{\\tau \\times \\sigma^{111}}= 6^{67}= 13681501919202227984531053980511367507737635754868736</script></html>"
      ],
      "text/latex": [
       "$$\\newcommand{\\Bold}[1]{\\mathbf{#1}}\\#X^{\\tau \\times \\sigma^{111}}= 6^{67}= 13681501919202227984531053980511367507737635754868736$$"
      ],
      "text/plain": [
       "\\#X^{\\tau \\times \\sigma^{111}}= 6^{67}= 13681501919202227984531053980511367507737635754868736"
      ]
     },
     "metadata": {},
     "output_type": "display_data"
    },
    {
     "data": {
      "text/html": [
       "<html><script type=\"math/tex; mode=display\">\\newcommand{\\Bold}[1]{\\mathbf{#1}}\\#X^{\\tau \\times \\sigma^{112}}= 6^{67}= 13681501919202227984531053980511367507737635754868736</script></html>"
      ],
      "text/latex": [
       "$$\\newcommand{\\Bold}[1]{\\mathbf{#1}}\\#X^{\\tau \\times \\sigma^{112}}= 6^{67}= 13681501919202227984531053980511367507737635754868736$$"
      ],
      "text/plain": [
       "\\#X^{\\tau \\times \\sigma^{112}}= 6^{67}= 13681501919202227984531053980511367507737635754868736"
      ]
     },
     "metadata": {},
     "output_type": "display_data"
    },
    {
     "data": {
      "text/html": [
       "<html><script type=\"math/tex; mode=display\">\\newcommand{\\Bold}[1]{\\mathbf{#1}}\\#X^{\\tau \\times \\sigma^{113}}= 6^{67}= 13681501919202227984531053980511367507737635754868736</script></html>"
      ],
      "text/latex": [
       "$$\\newcommand{\\Bold}[1]{\\mathbf{#1}}\\#X^{\\tau \\times \\sigma^{113}}= 6^{67}= 13681501919202227984531053980511367507737635754868736$$"
      ],
      "text/plain": [
       "\\#X^{\\tau \\times \\sigma^{113}}= 6^{67}= 13681501919202227984531053980511367507737635754868736"
      ]
     },
     "metadata": {},
     "output_type": "display_data"
    },
    {
     "data": {
      "text/html": [
       "<html><script type=\"math/tex; mode=display\">\\newcommand{\\Bold}[1]{\\mathbf{#1}}\\#X^{\\tau \\times \\sigma^{114}}= 6^{67}= 13681501919202227984531053980511367507737635754868736</script></html>"
      ],
      "text/latex": [
       "$$\\newcommand{\\Bold}[1]{\\mathbf{#1}}\\#X^{\\tau \\times \\sigma^{114}}= 6^{67}= 13681501919202227984531053980511367507737635754868736$$"
      ],
      "text/plain": [
       "\\#X^{\\tau \\times \\sigma^{114}}= 6^{67}= 13681501919202227984531053980511367507737635754868736"
      ]
     },
     "metadata": {},
     "output_type": "display_data"
    },
    {
     "data": {
      "text/html": [
       "<html><script type=\"math/tex; mode=display\">\\newcommand{\\Bold}[1]{\\mathbf{#1}}\\#X^{\\tau \\times \\sigma^{115}}= 6^{67}= 13681501919202227984531053980511367507737635754868736</script></html>"
      ],
      "text/latex": [
       "$$\\newcommand{\\Bold}[1]{\\mathbf{#1}}\\#X^{\\tau \\times \\sigma^{115}}= 6^{67}= 13681501919202227984531053980511367507737635754868736$$"
      ],
      "text/plain": [
       "\\#X^{\\tau \\times \\sigma^{115}}= 6^{67}= 13681501919202227984531053980511367507737635754868736"
      ]
     },
     "metadata": {},
     "output_type": "display_data"
    },
    {
     "data": {
      "text/html": [
       "<html><script type=\"math/tex; mode=display\">\\newcommand{\\Bold}[1]{\\mathbf{#1}}\\#X^{\\tau \\times \\sigma^{116}}= 6^{67}= 13681501919202227984531053980511367507737635754868736</script></html>"
      ],
      "text/latex": [
       "$$\\newcommand{\\Bold}[1]{\\mathbf{#1}}\\#X^{\\tau \\times \\sigma^{116}}= 6^{67}= 13681501919202227984531053980511367507737635754868736$$"
      ],
      "text/plain": [
       "\\#X^{\\tau \\times \\sigma^{116}}= 6^{67}= 13681501919202227984531053980511367507737635754868736"
      ]
     },
     "metadata": {},
     "output_type": "display_data"
    },
    {
     "data": {
      "text/html": [
       "<html><script type=\"math/tex; mode=display\">\\newcommand{\\Bold}[1]{\\mathbf{#1}}\\#X^{\\tau \\times \\sigma^{117}}= 6^{67}= 13681501919202227984531053980511367507737635754868736</script></html>"
      ],
      "text/latex": [
       "$$\\newcommand{\\Bold}[1]{\\mathbf{#1}}\\#X^{\\tau \\times \\sigma^{117}}= 6^{67}= 13681501919202227984531053980511367507737635754868736$$"
      ],
      "text/plain": [
       "\\#X^{\\tau \\times \\sigma^{117}}= 6^{67}= 13681501919202227984531053980511367507737635754868736"
      ]
     },
     "metadata": {},
     "output_type": "display_data"
    },
    {
     "data": {
      "text/html": [
       "<html><script type=\"math/tex; mode=display\">\\newcommand{\\Bold}[1]{\\mathbf{#1}}\\#X^{\\tau \\times \\sigma^{118}}= 6^{67}= 13681501919202227984531053980511367507737635754868736</script></html>"
      ],
      "text/latex": [
       "$$\\newcommand{\\Bold}[1]{\\mathbf{#1}}\\#X^{\\tau \\times \\sigma^{118}}= 6^{67}= 13681501919202227984531053980511367507737635754868736$$"
      ],
      "text/plain": [
       "\\#X^{\\tau \\times \\sigma^{118}}= 6^{67}= 13681501919202227984531053980511367507737635754868736"
      ]
     },
     "metadata": {},
     "output_type": "display_data"
    },
    {
     "data": {
      "text/html": [
       "<html><script type=\"math/tex; mode=display\">\\newcommand{\\Bold}[1]{\\mathbf{#1}}\\#X^{\\tau \\times \\sigma^{119}}= 6^{67}= 13681501919202227984531053980511367507737635754868736</script></html>"
      ],
      "text/latex": [
       "$$\\newcommand{\\Bold}[1]{\\mathbf{#1}}\\#X^{\\tau \\times \\sigma^{119}}= 6^{67}= 13681501919202227984531053980511367507737635754868736$$"
      ],
      "text/plain": [
       "\\#X^{\\tau \\times \\sigma^{119}}= 6^{67}= 13681501919202227984531053980511367507737635754868736"
      ]
     },
     "metadata": {},
     "output_type": "display_data"
    },
    {
     "data": {
      "text/html": [
       "<html><script type=\"math/tex; mode=display\">\\newcommand{\\Bold}[1]{\\mathbf{#1}}\\#X^{\\tau \\times \\sigma^{120}}= 6^{67}= 13681501919202227984531053980511367507737635754868736</script></html>"
      ],
      "text/latex": [
       "$$\\newcommand{\\Bold}[1]{\\mathbf{#1}}\\#X^{\\tau \\times \\sigma^{120}}= 6^{67}= 13681501919202227984531053980511367507737635754868736$$"
      ],
      "text/plain": [
       "\\#X^{\\tau \\times \\sigma^{120}}= 6^{67}= 13681501919202227984531053980511367507737635754868736"
      ]
     },
     "metadata": {},
     "output_type": "display_data"
    },
    {
     "data": {
      "text/html": [
       "<html><script type=\"math/tex; mode=display\">\\newcommand{\\Bold}[1]{\\mathbf{#1}}\\#X^{\\tau \\times \\sigma^{121}}= 6^{67}= 13681501919202227984531053980511367507737635754868736</script></html>"
      ],
      "text/latex": [
       "$$\\newcommand{\\Bold}[1]{\\mathbf{#1}}\\#X^{\\tau \\times \\sigma^{121}}= 6^{67}= 13681501919202227984531053980511367507737635754868736$$"
      ],
      "text/plain": [
       "\\#X^{\\tau \\times \\sigma^{121}}= 6^{67}= 13681501919202227984531053980511367507737635754868736"
      ]
     },
     "metadata": {},
     "output_type": "display_data"
    },
    {
     "data": {
      "text/html": [
       "<html><script type=\"math/tex; mode=display\">\\newcommand{\\Bold}[1]{\\mathbf{#1}}\\#X^{\\tau \\times \\sigma^{122}}= 6^{67}= 13681501919202227984531053980511367507737635754868736</script></html>"
      ],
      "text/latex": [
       "$$\\newcommand{\\Bold}[1]{\\mathbf{#1}}\\#X^{\\tau \\times \\sigma^{122}}= 6^{67}= 13681501919202227984531053980511367507737635754868736$$"
      ],
      "text/plain": [
       "\\#X^{\\tau \\times \\sigma^{122}}= 6^{67}= 13681501919202227984531053980511367507737635754868736"
      ]
     },
     "metadata": {},
     "output_type": "display_data"
    },
    {
     "data": {
      "text/html": [
       "<html><script type=\"math/tex; mode=display\">\\newcommand{\\Bold}[1]{\\mathbf{#1}}\\#X^{\\tau \\times \\sigma^{123}}= 6^{67}= 13681501919202227984531053980511367507737635754868736</script></html>"
      ],
      "text/latex": [
       "$$\\newcommand{\\Bold}[1]{\\mathbf{#1}}\\#X^{\\tau \\times \\sigma^{123}}= 6^{67}= 13681501919202227984531053980511367507737635754868736$$"
      ],
      "text/plain": [
       "\\#X^{\\tau \\times \\sigma^{123}}= 6^{67}= 13681501919202227984531053980511367507737635754868736"
      ]
     },
     "metadata": {},
     "output_type": "display_data"
    },
    {
     "data": {
      "text/html": [
       "<html><script type=\"math/tex; mode=display\">\\newcommand{\\Bold}[1]{\\mathbf{#1}}\\#X^{\\tau \\times \\sigma^{124}}= 6^{67}= 13681501919202227984531053980511367507737635754868736</script></html>"
      ],
      "text/latex": [
       "$$\\newcommand{\\Bold}[1]{\\mathbf{#1}}\\#X^{\\tau \\times \\sigma^{124}}= 6^{67}= 13681501919202227984531053980511367507737635754868736$$"
      ],
      "text/plain": [
       "\\#X^{\\tau \\times \\sigma^{124}}= 6^{67}= 13681501919202227984531053980511367507737635754868736"
      ]
     },
     "metadata": {},
     "output_type": "display_data"
    },
    {
     "data": {
      "text/html": [
       "<html><script type=\"math/tex; mode=display\">\\newcommand{\\Bold}[1]{\\mathbf{#1}}\\#X^{\\tau \\times \\sigma^{125}}= 6^{67}= 13681501919202227984531053980511367507737635754868736</script></html>"
      ],
      "text/latex": [
       "$$\\newcommand{\\Bold}[1]{\\mathbf{#1}}\\#X^{\\tau \\times \\sigma^{125}}= 6^{67}= 13681501919202227984531053980511367507737635754868736$$"
      ],
      "text/plain": [
       "\\#X^{\\tau \\times \\sigma^{125}}= 6^{67}= 13681501919202227984531053980511367507737635754868736"
      ]
     },
     "metadata": {},
     "output_type": "display_data"
    },
    {
     "data": {
      "text/html": [
       "<html><script type=\"math/tex; mode=display\">\\newcommand{\\Bold}[1]{\\mathbf{#1}}\\#X^{\\tau \\times \\sigma^{126}}= 6^{67}= 13681501919202227984531053980511367507737635754868736</script></html>"
      ],
      "text/latex": [
       "$$\\newcommand{\\Bold}[1]{\\mathbf{#1}}\\#X^{\\tau \\times \\sigma^{126}}= 6^{67}= 13681501919202227984531053980511367507737635754868736$$"
      ],
      "text/plain": [
       "\\#X^{\\tau \\times \\sigma^{126}}= 6^{67}= 13681501919202227984531053980511367507737635754868736"
      ]
     },
     "metadata": {},
     "output_type": "display_data"
    },
    {
     "data": {
      "text/html": [
       "<html><script type=\"math/tex; mode=display\">\\newcommand{\\Bold}[1]{\\mathbf{#1}}\\#X^{\\tau \\times \\sigma^{127}}= 6^{67}= 13681501919202227984531053980511367507737635754868736</script></html>"
      ],
      "text/latex": [
       "$$\\newcommand{\\Bold}[1]{\\mathbf{#1}}\\#X^{\\tau \\times \\sigma^{127}}= 6^{67}= 13681501919202227984531053980511367507737635754868736$$"
      ],
      "text/plain": [
       "\\#X^{\\tau \\times \\sigma^{127}}= 6^{67}= 13681501919202227984531053980511367507737635754868736"
      ]
     },
     "metadata": {},
     "output_type": "display_data"
    },
    {
     "data": {
      "text/html": [
       "<html><script type=\"math/tex; mode=display\">\\newcommand{\\Bold}[1]{\\mathbf{#1}}\\#X^{\\tau \\times \\sigma^{128}}= 6^{67}= 13681501919202227984531053980511367507737635754868736</script></html>"
      ],
      "text/latex": [
       "$$\\newcommand{\\Bold}[1]{\\mathbf{#1}}\\#X^{\\tau \\times \\sigma^{128}}= 6^{67}= 13681501919202227984531053980511367507737635754868736$$"
      ],
      "text/plain": [
       "\\#X^{\\tau \\times \\sigma^{128}}= 6^{67}= 13681501919202227984531053980511367507737635754868736"
      ]
     },
     "metadata": {},
     "output_type": "display_data"
    },
    {
     "data": {
      "text/html": [
       "<html><script type=\"math/tex; mode=display\">\\newcommand{\\Bold}[1]{\\mathbf{#1}}\\#X^{\\tau \\times \\sigma^{129}}= 6^{67}= 13681501919202227984531053980511367507737635754868736</script></html>"
      ],
      "text/latex": [
       "$$\\newcommand{\\Bold}[1]{\\mathbf{#1}}\\#X^{\\tau \\times \\sigma^{129}}= 6^{67}= 13681501919202227984531053980511367507737635754868736$$"
      ],
      "text/plain": [
       "\\#X^{\\tau \\times \\sigma^{129}}= 6^{67}= 13681501919202227984531053980511367507737635754868736"
      ]
     },
     "metadata": {},
     "output_type": "display_data"
    },
    {
     "data": {
      "text/html": [
       "<html><script type=\"math/tex; mode=display\">\\newcommand{\\Bold}[1]{\\mathbf{#1}}\\#X^{\\tau \\times \\sigma^{130}}= 6^{67}= 13681501919202227984531053980511367507737635754868736</script></html>"
      ],
      "text/latex": [
       "$$\\newcommand{\\Bold}[1]{\\mathbf{#1}}\\#X^{\\tau \\times \\sigma^{130}}= 6^{67}= 13681501919202227984531053980511367507737635754868736$$"
      ],
      "text/plain": [
       "\\#X^{\\tau \\times \\sigma^{130}}= 6^{67}= 13681501919202227984531053980511367507737635754868736"
      ]
     },
     "metadata": {},
     "output_type": "display_data"
    },
    {
     "data": {
      "text/html": [
       "<html><script type=\"math/tex; mode=display\">\\newcommand{\\Bold}[1]{\\mathbf{#1}}\\#X^{\\tau \\times \\sigma^{131}}= 6^{67}= 13681501919202227984531053980511367507737635754868736</script></html>"
      ],
      "text/latex": [
       "$$\\newcommand{\\Bold}[1]{\\mathbf{#1}}\\#X^{\\tau \\times \\sigma^{131}}= 6^{67}= 13681501919202227984531053980511367507737635754868736$$"
      ],
      "text/plain": [
       "\\#X^{\\tau \\times \\sigma^{131}}= 6^{67}= 13681501919202227984531053980511367507737635754868736"
      ]
     },
     "metadata": {},
     "output_type": "display_data"
    },
    {
     "data": {
      "text/html": [
       "<html><script type=\"math/tex; mode=display\">\\newcommand{\\Bold}[1]{\\mathbf{#1}}\\#X^{\\tau \\times \\sigma^{132}}= 6^{67}= 13681501919202227984531053980511367507737635754868736</script></html>"
      ],
      "text/latex": [
       "$$\\newcommand{\\Bold}[1]{\\mathbf{#1}}\\#X^{\\tau \\times \\sigma^{132}}= 6^{67}= 13681501919202227984531053980511367507737635754868736$$"
      ],
      "text/plain": [
       "\\#X^{\\tau \\times \\sigma^{132}}= 6^{67}= 13681501919202227984531053980511367507737635754868736"
      ]
     },
     "metadata": {},
     "output_type": "display_data"
    },
    {
     "data": {
      "text/html": [
       "<html><script type=\"math/tex; mode=display\">\\newcommand{\\Bold}[1]{\\mathbf{#1}}\\sum_{g \\in G} \\#X^{g}= 31197249127522374612985855142774203087480569744682151508787022994090766334240281976542378425968607683976</script></html>"
      ],
      "text/latex": [
       "$$\\newcommand{\\Bold}[1]{\\mathbf{#1}}\\sum_{g \\in G} \\#X^{g}= 31197249127522374612985855142774203087480569744682151508787022994090766334240281976542378425968607683976$$"
      ],
      "text/plain": [
       "\\sum_{g \\in G} \\#X^{g}= 31197249127522374612985855142774203087480569744682151508787022994090766334240281976542378425968607683976"
      ]
     },
     "metadata": {},
     "output_type": "display_data"
    }
   ],
   "source": [
    "G = SymmetricGroup(133)\n",
    "e = G([(i) for i in range(1, 134, 1)])\n",
    "s = G(tuple(srange(1, 134, 1)))\n",
    "t = G(srange(133, 0, -1))\n",
    "summ = 0\n",
    "\n",
    "X_g = len(e.cycle_tuples(singletons=True))\n",
    "summ += 6 ** X_g\n",
    "pretty_print(LatexExpr(r\"\\#X^{e} = 6^{\" + str(X_g) + \"}=\"), 6 ** X_g)\n",
    "\n",
    "X_g = len(s.cycle_tuples(singletons=True))\n",
    "summ += 6 ** X_g\n",
    "pretty_print(LatexExpr(r\"\\#X^{\\sigma} = 6^{\" + str(X_g) + \"}=\"), 6 ** X_g)\n",
    "for i in range(2, 133,1):\n",
    "    X_g = len((s**i).cycle_tuples(singletons=True))\n",
    "    summ += 6 ** X_g\n",
    "    pretty_print(LatexExpr(r\"\\#X^{\\sigma^{\" + str(i) + r\"}}= 6^{\" + str(X_g) + \"}=\"), 6 ** X_g)\n",
    "\n",
    "X_g = len(t.cycle_tuples(singletons=True))\n",
    "summ += 6 ** X_g\n",
    "pretty_print(LatexExpr(r\"\\#X^{\\tau} = 6^{\" + str(X_g) + \"}=\"), 6 ** X_g)\n",
    "for i in range(1,133,1):\n",
    "    X_g = len(((s**i)*t).cycle_tuples(singletons=True))\n",
    "    summ += 6 ** X_g\n",
    "    pretty_print(LatexExpr(r\"\\#X^{\\tau \\times \\sigma^{\" + str(i) + r\"}}= 6^{\" + str(X_g) + \"}=\"), 6 ** X_g)\n",
    "    \n",
    "\n",
    "pretty_print(LatexExpr(r\"\\sum_{g \\in G} \\#X^{g}=\"), summ)"
   ]
  },
  {
   "cell_type": "markdown",
   "metadata": {},
   "source": [
    "После деления полученного значения на $ \\#G $ получаем искомое число возможных раскрасок бус из 133 бусинок 6 цветов (с точностью до поворота и осевой симметрии):\n",
    "\n",
    "$$ N = \\frac{1}{\\#G} \\sum_{g \\in G}{X^{g}} = \\frac{31197249127522374612985855142774203087480569744682151508787022994090766334240281976542378425968607683976}{266} = 117282891456851032379646071965316552960453269716850193642056477421393858399399556302790896338227848436 $$"
   ]
  },
  {
   "cell_type": "markdown",
   "metadata": {},
   "source": [
    "### Графическое отображение раскраски по заданному номеру:"
   ]
  },
  {
   "cell_type": "code",
   "execution_count": 39,
   "metadata": {},
   "outputs": [],
   "source": [
    "def rotate(x_y, angle):\n",
    "    angle = angle * pi()/180\n",
    "    return (matrix([[cos(angle), -sin(angle)],[sin(angle), cos(angle)]]) * x_y.transpose()).transpose()\n",
    "\n",
    "def paint(coloring, distance = 100, size = 50, circles = 133):\n",
    "    num = 6\n",
    "    colors = [\"palegreen\", \"wheat\", \"limegreen\", \"plum\", \"gainsboro\", \"deeppink\"]\n",
    "    circles_color = []\n",
    "    for _ in range(133):\n",
    "        circles_color.append(colors[coloring % num])\n",
    "        coloring //= num\n",
    "    x_y = matrix([distance, 0])\n",
    "    base_angle = 360 / circles\n",
    "    bus = point(x_y.list(), color = circles_color[0], size = size)\n",
    "    for i in range(1, circles):\n",
    "        curr_center_x_y = (rotate(x_y, base_angle * i)).list()\n",
    "        bus += point(curr_center_x_y, color = circles_color[i], size = size)\n",
    "    show(bus, axes=False)"
   ]
  },
  {
   "cell_type": "markdown",
   "metadata": {},
   "source": [
    "Выведем несколько возможных раскрасок:"
   ]
  },
  {
   "cell_type": "code",
   "execution_count": 40,
   "metadata": {},
   "outputs": [
    {
     "data": {
      "image/png": "[encoded data removed]",
      "text/plain": [
       "Graphics object consisting of 133 graphics primitives"
      ]
     },
     "metadata": {},
     "output_type": "display_data"
    }
   ],
   "source": [
    "paint(0) # все вершины одного цвета"
   ]
  },
  {
   "cell_type": "code",
   "execution_count": 54,
   "metadata": {
    "scrolled": false
   },
   "outputs": [
    {
     "data": {
      "image/png": "[encoded data removed]",
      "text/plain": [
       "Graphics object consisting of 133 graphics primitives"
      ]
     },
     "metadata": {},
     "output_type": "display_data"
    }
   ],
   "source": [
    "paint(999996998888885888888886897999999998888888388888888899199999777777) # случайная раскраска"
   ]
  },
  {
   "cell_type": "code",
   "execution_count": 55,
   "metadata": {},
   "outputs": [
    {
     "data": {
      "image/png": "[encoded data removed]",
      "text/plain": [
       "Graphics object consisting of 133 graphics primitives"
      ]
     },
     "metadata": {},
     "output_type": "display_data"
    }
   ],
   "source": [
    "paint(11728289145685103237964607196531655296045326971685019364205647742139385839939) # случайная раскраска"
   ]
  },
  {
   "cell_type": "markdown",
   "metadata": {},
   "source": [
    "### Решение задачи в общем виде:"
   ]
  },
  {
   "cell_type": "markdown",
   "metadata": {},
   "source": [
    "Сколькими способами можно составить бусы из n бусинок k различных цветов (с точностью до поворотов и осевых симметрий)?\n",
    "\n",
    "**Для четных n:**\n",
    "\n",
    "Рассмотрим группу $ G^{*} $, все возможные перестановки будут:\n",
    "\n",
    "$$  e, \\sigma, \\sigma^{2}, \\sigma^{3}, ..., \\sigma^{n-1} $$\n",
    "$$  \\tau, \\tau \\times \\sigma, \\tau \\times \\sigma^{2}, \\tau \\times \\sigma^{3}, ..., \\tau \\times \\sigma^{n-1} $$\n",
    "\n",
    "Известны изначально:\n",
    "\n",
    "$ e = (1)(2)(3)(4)...(n-2)(n-1)(n)$ - нейтральная перестановка, имеет n независимых циклов.\n",
    "\n",
    "$ \\sigma = (1, 2, 3, 4, ..., n) $ - поворот на 1 бусину по часовой стрелке, имеет 1 независимый цикл длины n.\n",
    "\n",
    "$ \\tau = (1, n)(2, n-1)...(\\frac{n}{2}, \\frac{n}{2} + 1) $ - отражение относительно оси, разделяющей $ \\{ 1, 2, 3, ..., \\frac{n}{2} \\} $ и $ \\{ \\frac{n}{2} + 1, \\frac{n}{2} + 2, ..., n  \\} $, имеет $ \\frac{n}{2} $ независимых циклов длины 2.\n",
    "\n",
    "Для применения леммы Бернсайда необходимо знать число независимых циклов для всех перестановок.\n",
    "\n",
    "Если $ \\sigma $ является циклом длины $ m $, а НОД(m, v) = l. Тогда перестановка $ \\sigma^v $ является произведением $ l $ циклов длины $ \\frac{m}{l} $.\n",
    "\n",
    "Тогда количество циклов для $ \\sigma^{v} = НОД(n, v) $ для $ v = 2, 3, ..., n-1 $.\n",
    "\n",
    "Рассмотрим $ \\tau \\times \\sigma, \\tau \\times \\sigma^{2}, ..., \\tau \\times \\sigma^{n-1} $. Сначала происходит поворот на некоторое число бусин, а затем отражение. Возможны две ситуации: все бусины перешли в другие или 2 остались на месте, причем вторая ситуация происходит через раз. Это происходит потому что поворот на какое-то количество бусин происходит симметрично относительно оси симметрии, поэтому совпадающих бусин будет всегда четное число (при четном n). Всего их будет 2 потому что каждой бусине в одной из половин бус необходимо разное число поворотов, чтобы при отражении попасть обратно на свою позицию.\n",
    "\n",
    "Тогда кол-во независимых циклов для $ \\tau \\times \\sigma^{v} = \\frac{n}{2} + mod(v, 2) $ для $ v = 1, 2, 3, ..., n-1 $.\n",
    "\n",
    "Осталось применить лемму Бернсайда:\n",
    "\n",
    "$$\n",
    "    N = \\frac{1}{\\#G}\\sum_{g \\in G}{\\#X^g} = \\frac{1}{2n} \\left(k^{n} + k + \\sum_{v = 2}^{n-1}{k^{НОД(n, v)}} + k^{\\frac{n}{2}} + \\sum_{v = 1}^{n-1}{k^{\\frac{n}{2} + mod(v, 2)}} \\right) \n",
    "$$"
   ]
  },
  {
   "cell_type": "markdown",
   "metadata": {},
   "source": [
    "**Для нечетных n:**\n",
    "\n",
    "Рассмотрим группу $ G^{*} $, все возможные перестановки будут:\n",
    "\n",
    "$$  e, \\sigma, \\sigma^{2}, \\sigma^{3}, ..., \\sigma^{n-1} $$\n",
    "$$  \\tau, \\tau \\times \\sigma, \\tau \\times \\sigma^{2}, \\tau \\times \\sigma^{3}, ..., \\tau \\times \\sigma^{n-1} $$\n",
    "\n",
    "Известны изначально:\n",
    "\n",
    "\n",
    "$ e = (1)(2)(3)(4)...(n-2)(n-1)(n)$ - нейтральная перестановка, имеет n независимых циклов.\n",
    "\n",
    "$ \\sigma = (1, 2, 3, 4, ..., n) $ - поворот на 1 бусину по часовой стрелке, имеет 1 независимый цикл длины n.\n",
    "\n",
    "$ \\tau = (1, n)(2, n-1)...([\\frac{n}{2}], [\\frac{n}{2}] + 2)([\\frac{n}{2}] + 1) $ - отражение относительно оси, разделяющей $\\{ 1, 2, 3, ..., [\\frac{n}{2}] + 1 \\} $ и $ \\{ [\\frac{n}{2}] + 2, [\\frac{n}{2}] + 3, ..., n  \\} $, имеет $ [\\frac{n}{2}] + 1 $ независимых циклов.\n",
    "\n",
    "Для применения леммы Бернсайда необходимо знать число независимых циклов для всех перестановок.\n",
    "\n",
    "Если $ \\sigma $ является циклом длины $ m $, а НОД(m, v) = l. Тогда перестановка $ \\sigma^v $ является произведением $ l $ циклов длины $ \\frac{m}{l} $.\n",
    "\n",
    "Тогда количество циклов для $ \\sigma^{v} = НОД(n, v) $ для $ v = 2, 3, ..., n-1 $.\n",
    "\n",
    "Рассмотрим $ \\tau \\times \\sigma, \\tau \\times \\sigma^{2}, ..., \\tau \\times \\sigma^{n-1} $. Сначала происходит поворот на некоторое число бусин, а затем отражение. Впричем в любом случае одна бусина останется на своем месте, а остальные перейдут друг в друга, так как ось симметрии проходит через бусину с номером $ [\\frac{n}{2}] + 1 $ и получается так, что для каждой бусины в бусах необходимо разное количество поворотов, чтобы при отражении она попала обратно на свою позицию.\n",
    "\n",
    "Тогда кол-во независимых циклов для $ \\tau \\times \\sigma^{v} = [\\frac{n}{2}] + 1 $ для $ v = 1, 2, 3, ..., n-1 $.\n",
    "\n",
    "Осталось применить лемму Бернсайда:\n",
    "\n",
    "$$\n",
    "    N = \\frac{1}{\\#G} \\sum_{g \\in G}{\\#X^g} = \\frac{1}{2n} \\left(k^{n} + k + \\sum_{v = 2}^{n-1}{k^{НОД(n, v)}} + \\sum_{v = 1}^{n}{k^{[\\frac{n}{2}] + 1}} \\right) \n",
    "$$"
   ]
  },
  {
   "cell_type": "markdown",
   "metadata": {},
   "source": [
    "Проверим полученную формулу для нашей задачи:"
   ]
  },
  {
   "cell_type": "code",
   "execution_count": 56,
   "metadata": {},
   "outputs": [
    {
     "name": "stdout",
     "output_type": "stream",
     "text": [
      "117282891456851032379646071965316552960453269716850193642056477421393858399399556302790896338227848436\n"
     ]
    }
   ],
   "source": [
    "print((1 / (2*133))*((6 ** 133) + 6 + sum([6 ** gcd(n, v) for v in range(2, 133)]) + sum([6 ** (133//2 + 1) for v in range(1, 133+1)])))"
   ]
  },
  {
   "cell_type": "markdown",
   "metadata": {},
   "source": [
    "Полученное значение полностью совпадает с полученным ранее."
   ]
  },
  {
   "cell_type": "markdown",
   "metadata": {},
   "source": [
    "## Выводы\n",
    "\n"
   ]
  },
  {
   "cell_type": "markdown",
   "metadata": {},
   "source": [
    "В результате выполнения практической работы была рассмотрена лемма Бернсайда, а также её применение для решения конкретной задачи на число раскрасок. С помощью средств компьютерной алгебры Sage были  вычислены необходимые перестановки, а так же отображены раскраски из 133 бус 6-ти цветов по номеру. Так же задача о количестве бус из n бусинок k различных цветов была решена в общем виде и были получены формулы для четных и нечетных n."
   ]
  }
 ],
 "metadata": {
  "kernelspec": {
   "display_name": "SageMath 9.3",
   "language": "sage",
   "name": "sagemath"
  },
  "language_info": {
   "codemirror_mode": {
    "name": "ipython",
    "version": 3
   },
   "file_extension": ".py",
   "mimetype": "text/x-python",
   "name": "python",
   "nbconvert_exporter": "python",
   "pygments_lexer": "ipython3",
   "version": "3.7.10"
  }
 },
 "nbformat": 4,
 "nbformat_minor": 4
}
