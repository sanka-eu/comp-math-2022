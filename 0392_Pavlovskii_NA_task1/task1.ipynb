{
 "cells": [
  {
   "cell_type": "markdown",
   "metadata": {},
   "source": [
    "# Практическая работа №1: Исследование алгоритмов формирования аддитивных цепочек\n",
    "\n",
    "Выполнил студент гр. 0392 ,Павловский Никита вариант 83"
   ]
  },
  {
   "cell_type": "markdown",
   "metadata": {},
   "source": [
    "## Цель работы\n",
    "\n",
    "\n",
    "Сформировать представления о аддитивных цепочках, выработать умение составлять и применять алгоритмы для нахождения минимальных аддитивных цепочек для заданного числа, привить навык использования систем компьютерной математики для реализации алгоритмов."
   ]
  },
  {
   "cell_type": "markdown",
   "metadata": {},
   "source": [
    "## Основные теоретические положения\n",
    "\n",
    "Аддитивной цепочкой для  $ \\ n \\in \\mathbb {N}$   называется последовательность натуральных чисел.\n",
    "                       \\\\[   1=a_0,a_1,...,a_r=n  \\\\]\n",
    "где каждый элемент последователньости равен сумме каких-то двух предыдущих:\n",
    "    \\\\[ \n",
    "            a_i=a_j+a_k, k \\leq j \\leq i, i=1,2,3,...,r\n",
    "    \\\\]\n",
    "$\\ l(n)=r - наименьшая длина аддитивной цепочки для $ \\ n \\in \\mathbb {N}$\n",
    "\n",
    "$\\ \\bullet $ Для метода наименьших множителей:  $\\ l(mn) \\leq l(m)+l(n)$\n",
    "\n",
    "$\\ \\bullet $ Для  m-арного метода:  $\\ l(n) \\leq m-2 +(k+1)t , [m=2^k, n=\\sum_{ j=0}^{t} d_j m^{t-j} ] $\n",
    "\n"
   ]
  },
  {
   "cell_type": "markdown",
   "metadata": {},
   "source": [
    "## Свойства аддитивных цепочек:\n",
    "$\\ \\bullet $ Полагается строгое возрастание элементов цепочки: $\\ 1=a_0<a_1<...a_n=n $\n",
    "\n",
    "$\\ \\bullet $ Одинаковые числа в цепочке можно опустить.\n",
    "\n",
    "$\\ \\bullet $ Пара $\\ (j,k),0 \\leq k \\leq j \\leq i $ называется шагом $\\ i $ \n",
    "\n",
    "$\\ \\bullet $ Если \\exists более чем 1 пара $\\ (j,k) $, полагаем $\\ max $  $\\ j $"
   ]
  },
  {
   "cell_type": "markdown",
   "metadata": {},
   "source": [
    "## Виды шагов:\n",
    "$\\ \\bullet $  удвоение: $\\ j=k=i-1 $\n",
    "\n",
    "$\\ \\bullet $  звёздный шаг:  $\\ j= i-1 $\n",
    "\n",
    "$\\ \\bullet $ малый шаг: $\\ \\lambda(a_i)=\\lambda(a_i-1), где \\lambda(n)=lb(n) $ "
   ]
  },
  {
   "cell_type": "markdown",
   "metadata": {},
   "source": [
    "## Свойства видов шагов:\n",
    "$\\ \\bullet $ шаг 1 - всегда удвоение \n",
    "\n",
    "$\\ \\bullet $ удвоение - звёздный шаг, но никогда не малый\n",
    "\n",
    "$\\ \\bullet $ если $\\ i $-ый шаг не малый, то $\\ (i+1) $-ый шаг либо малый, либо звёздный, либо оба\n",
    "\n",
    "$\\ \\bullet $ за удвоением всегда следует звёздный шаг\n",
    "\n",
    "$\\ \\bullet $ если $\\ (i+1) $-ый шаг не звёздный и не малый, то -ый шаг должен быть малым"
   ]
  },
  {
   "cell_type": "markdown",
   "metadata": {},
   "source": [
    "### Алгоритм Брауэра:\n",
    "\n",
    "Для $n \\in ℕ$ при заданном $k \\in ℕ$ можно построить цепочку Брауэра с помощью рекуррентной формулы:\n",
    "\n",
    "$$ B_k (n) =\n",
    "\\begin{cases}\n",
    "1, 2, 3, ..., 2^k - 1, \\quad n < 2^k \\\\\n",
    "B_k (q), 2q, 4q, ..., 2^k q, n, \\quad n \\ge 2^k\n",
    "\\end{cases} \\\\\n",
    "q = \\lfloor {n \\over 2^k} \\rfloor\n",
    "$$\n",
    "\n",
    "Данная цепочка имеет длину\n",
    "$$l_B (n) = j(k + 1) + 2^k - 2,$$\n",
    "при условии что $jk \\le \\lambda (n) \\le (j+1)k$\n",
    "\n",
    "Длина будет минимализирована для больших $n$, если положить $k = \\lambda \\lambda (n) - 2 \\lambda \\lambda \\lambda (n)$\n",
    "\n",
    "**Ход алгоритма:**\n",
    "\n",
    "* Задаётся некий параметр $k$ для $n$.\n",
    "Выполняется вычисление вспомогательных чисел:\n",
    "$$\n",
    "d = 2^k, \\hspace{0.2cm} q_1 = [ {n \\over d} ], \\hspace{0.2cm} r_1 = n \\hspace{0.2cm} mod \\hspace{0.2cm} d => n = q_1 d + r_1 \\quad (0 \\le r_1 < d) \\\\\n",
    "q_2 = [ {q_1 \\over d} ], \\hspace{0.2cm} r_2 = q_1 \\hspace{0.2cm} mod \\hspace{0.2cm} d => q_1 = q_2 d + r_2 \\quad (0 \\le r_2 < d)\n",
    "$$\n",
    "* Данная процедура продолжается, пока не появится $q_s < d,$ следовательно $q_{s-1} = q_s d + r_s$\n",
    "* Таким образом, n имеет вид\n",
    "$$ n = 2^k q_1 + r_1 = 2^k (2^k q_2 + r_2) + r_1 = ...\\\\\n",
    "... = 2^k (2^k (... (2^k q_s + r_s ) ... ) + r_2 ) + r_1 . $$\n",
    "\n",
    "$$B_n (n): 1, 2, 3, ..., 2^k - 1, \\\\\n",
    "2q_s, 4q_s, 8q_s, ..., 2^k q_s, 2^k q_s + r_s, \\\\\n",
    "2q_{s-1}, 4q_{s-1}, 8q_{s-1}, ..., 2^k q_{s-1}, 2^k q_{s-1} + r_{s-1}, \\\\\n",
    "..., \\\\\n",
    "..., 2^k q_1, 2^k q_1 + r_1 = n.$$\n"
   ]
  },
  {
   "cell_type": "markdown",
   "metadata": {},
   "source": [
    "## Постановка задачи\n",
    "\n",
    "Реализовать точные и приближённые алгоритмы нахождения минимальных аддитивных цепочек с использованием системы компьютерной математики SageMath, провести анализ алгоритмов. Полученные результаты содержательно проинтерпретировать."
   ]
  },
  {
   "cell_type": "markdown",
   "metadata": {},
   "source": [
    "#### Выполнение работы\n",
    "1. Вручную (т.е. не реализовывая алгоритм на Sage) построить последовательность вычислений бинарным методом и методом множителей для $x^n$ для 2-3 значений $n$ ($n \\ge 30$). Сравнить количество операций для каждого метода, сделать выводы.\n",
    "\n",
    "**n = 165:**<br>\n",
    "бинарный метод:<br>\n",
    "\n",
    "$$ 165_{10} =10100101_2 $$\n",
    "\n",
    ".| N | Y | Z    | опер. |\n",
    "---|---   | --- | ---  |---\n",
    "0|165 | 1 | x   | \n",
    "1|82 | x  | x^2 |2\n",
    "2|41 | x  | x^4 |1\n",
    "3|20 | x^5| x^8 |2\n",
    "4|10 | x^5| x^16|1\n",
    "5|5 | x^5 | x^32|1\n",
    "6|2 | x^37| x^64|2\n",
    "7|1|  x^37| x^128|1\n",
    "8|0|  x^165| x^256|2\n",
    "\n",
    "Итого операций: $\\ 12 $\n",
    "\n",
    "Метод множителей:<br>\n",
    "\n",
    "$$ 165 = pq = 3\\cdot 55 $$\n",
    "\n",
    "$$ x,x^2, x^3  - 2 операции $$\n",
    "\n",
    "$$ y=x^3 $$\n",
    "\n",
    "$$ y, y^2, y^3, y^6, y^{12}, y^{24}, y^{25}, y^{26}, y^{27}, y^{54}, y^{55}-10 оп. $$\n",
    "\n",
    "итого  операций : $\\ 10+2=12 $\n",
    "\n",
    "**n = 252:**<br>\n",
    "Бинарный метод:<br>\n",
    "$\\  252_{10} = 11111100_2 $\n",
    "\n",
    ".| N | Y | Z | Опер. |\n",
    "---|---   | --- | ---|---\n",
    "0|252 | 1 | x   |\n",
    "1|126 | 1 | x^2 |1\n",
    "2|63 | 1  | x^4 |1\n",
    "3|31 | x^4| x^8 |2\n",
    "4|15 | x^12| x^16|2\n",
    "5|7  | x^28|x^32|2\n",
    "6|3 | x^60| x^64 |2\n",
    "7|1|  x^124| x^128|2\n",
    "8|0|  x^252| x^256|2\n",
    "\n",
    "\n",
    "Метод множителей:<br>\n",
    "\n",
    "$\\ 252 = pq = 2\\cdot 126 $$\n",
    "\n",
    "$$ x,x^2  - 1 операция $$\n",
    "\n",
    "$$ y=x^2 $$\n",
    "\n",
    "$$ y, y^2, y^3, y^6, y^{7}, y^{14}, y^{15}, y^{30}, y^{31}, y^{62}, y^{63},y^{126}  -11 оп. $$\n",
    "\n",
    "Сравни количество операций:<br>\n",
    "\n",
    "n | двоичный метод | метод множителей\n",
    "--- | --- | ---\n",
    "165 | 12 | 13\n",
    "256 | 14 | 13\n"
   ]
  },
  {
   "cell_type": "markdown",
   "metadata": {},
   "source": [
    "Вывод: заметим, что если в 2-ичной записи числа больше единиц чем 0 то лучше использовать метод множителей, а если больше нулей то рациональнее будет использовать бинарный метод. "
   ]
  },
  {
   "cell_type": "markdown",
   "metadata": {},
   "source": [
    "2. Реализовать алгоритм Брауэра для вычисления приближённых аддитивных цепочек для различных чисел при варьировании параметра k, сопоставить длины полученных аддитивных цепочек с минимальной аддитивной цепочкой для заданного числа. Сделать выводы."
   ]
  },
  {
   "cell_type": "code",
   "execution_count": 3,
   "metadata": {},
   "outputs": [],
   "source": [
    "def BR(n,k):\n",
    "    \n",
    "    \n",
    "    ch=[] #список аддитив цеп\n",
    "    div=[]\n",
    "    p=n\n",
    "    d=2**k\n",
    "    # Разложим число по модулю   2^𝑘\n",
    "    div.append([n,0])\n",
    "    while(p//d >=1):\n",
    "        div.append([p//d,p%d])\n",
    "        p //=d\n",
    "    div = div[::-1]\n",
    "# пише первыеэлементы цепочка от 1 до qs\n",
    "    for i in range(1,div[0][0]+1):\n",
    "        ch.append(i)\n",
    "               \n",
    "    i = 1\n",
    "    while(ch[-1] !=n):\n",
    "    #удваиваем последний эл цепочки  если результат не будет превосходить qn\n",
    "        if (ch[-1]+ch[-1] <=div[i][0]):\n",
    "            ch.append(ch[-1]+ch[-1])\n",
    "        else:\n",
    "                ch.append(ch[-1]+div[i-1][1])\n",
    "                i +=1\n",
    "   \n",
    "    \n",
    "    return ch\n",
    "                   \n",
    "    "
   ]
  },
  {
   "cell_type": "markdown",
   "metadata": {},
   "source": [
    " построим какие-то цепочки для проверки"
   ]
  },
  {
   "cell_type": "code",
   "execution_count": 16,
   "metadata": {},
   "outputs": [
    {
     "name": "stdout",
     "output_type": "stream",
     "text": [
      "[1, 2, 4, 8, 15, 30, 60, 120, 126, 252, 504, 1008, 1013]\n",
      "Len of chain is 13\n",
      "time passed:  0.0005381107330322266\n"
     ]
    }
   ],
   "source": [
    "import time\n",
    "n = 1013\n",
    "k = 3\n",
    "bigin= time.time()\n",
    "print(BR(n, k))\n",
    "end=time.time()\n",
    "\n",
    "print(\"Len of chain is\", len(BR(n, k)))\n",
    "\n",
    "\n",
    "print(\"time passed: \", end-bigin)\n",
    "\n",
    "\n",
    "\n"
   ]
  },
  {
   "cell_type": "code",
   "execution_count": 23,
   "metadata": {},
   "outputs": [
    {
     "name": "stdout",
     "output_type": "stream",
     "text": [
      "[1, 2, 3, 4, 5, 6, 7, 8, 9, 10, 11, 12, 13, 14, 15, 16, 17, 18, 19, 20, 21, 22, 23, 24, 25, 26, 27, 28, 29, 30, 31, 62, 124, 248, 496, 992, 1013]\n",
      "Len of chain is 37\n",
      "time passed:  0.0002808570861816406\n"
     ]
    }
   ],
   "source": [
    "import time\n",
    "n = 1013\n",
    "k = 5\n",
    "\n",
    "\n",
    "bigin= time.time()\n",
    "print(BR(n, k))\n",
    "end=time.time()\n",
    "print(\"Len of chain is\", len(BR(n, k)))\n",
    "\n",
    "\n",
    "print(\"time passed: \", end-bigin)\n"
   ]
  },
  {
   "cell_type": "code",
   "execution_count": 18,
   "metadata": {},
   "outputs": [
    {
     "name": "stdout",
     "output_type": "stream",
     "text": [
      "min len is 11 assuming k = 9\n"
     ]
    }
   ],
   "source": [
    "lst = []\n",
    "n=1013\n",
    "for i in range(2, 10):\n",
    "    \n",
    "    lst.append(len(BR(n, i)))\n",
    "    \n",
    "print(\"min len is\", min(lst), \"assuming k =\", lst.index(min(lst)) + 2)"
   ]
  },
  {
   "cell_type": "markdown",
   "metadata": {},
   "source": [
    "Вывод: заметим, чтобы алгоритм Брауэра строил аддитивные цепочки адекватной длины, $k$ должно быть куда меньше $n$ и для достаточно больших $n$ вычисляться по формуле $ k = \\lambda \\lambda (n) - 2 \\lambda \\lambda \\lambda (n) $, а для небольших $n$ быть положено равным $1$ или $2$ (разница должна быть не очень заметной)."
   ]
  },
  {
   "cell_type": "markdown",
   "metadata": {},
   "source": [
    "3. Реализовать алгоритм дробления вектора индексов для нахождения минимальной звёздной цепочки для заданного числа. Протестировать алгоритм минимум для 5 значений n > 1000. Указать, сколько времени потребовалось на поиск цепочки и какая цепочка получилась. Сравнить с предыдущими методами, сделать выводы."
   ]
  },
  {
   "cell_type": "code",
   "execution_count": 195,
   "metadata": {},
   "outputs": [],
   "source": [
    "def d(n): \n",
    "    n = Integer(n)\n",
    "    return n.popcount()"
   ]
  },
  {
   "cell_type": "code",
   "execution_count": 196,
   "metadata": {},
   "outputs": [],
   "source": [
    "def default(m, ch_part): #вектор по умолчанию\n",
    "    vector1 = []\n",
    "    vector2 = []\n",
    "    for i in range(1, m + 1):\n",
    "        if i <= int(ch_part):\n",
    "            vector1.append(i)\n",
    "        else:\n",
    "            vector2.append(i)\n",
    "    return [vector, vector2]"
   ]
  },
  {
   "cell_type": "code",
   "execution_count": 197,
   "metadata": {},
   "outputs": [],
   "source": [
    "def number_by_vector(vec): #число по вектору\n",
    "    line = []\n",
    "    line.append(1)\n",
    "    for i in range(len(vec)):\n",
    "        line.append(line[i] + line[vec[i] - 1])\n",
    "    return line[len(line) - 1]"
   ]
  },
  {
   "cell_type": "code",
   "execution_count": 198,
   "metadata": {},
   "outputs": [],
   "source": [
    "def dec(vec):# декрементируем вектор \n",
    "    _len = len(vec)\n",
    "    for i in range(_len):\n",
    "        if vec[_len - i - 1] > 1:\n",
    "            vec[_len - i - 1] -= 1\n",
    "            for j in range(_len - i, _len):\n",
    "                vec[j] = j + 1\n",
    "            break"
   ]
  },
  {
   "cell_type": "code",
   "execution_count": 199,
   "metadata": {},
   "outputs": [],
   "source": [
    "def part_vector(_len, first):#генерируем часть вектора\n",
    "    part = [0]*_len\n",
    "    for i in range(_len):\n",
    "        part[i] = first + i\n",
    "    return part"
   ]
  },
  {
   "cell_type": "code",
   "execution_count": 200,
   "metadata": {},
   "outputs": [],
   "source": [
    "def chain(vec):#генерируеv цепочку по вектору\n",
    "    line = []\n",
    "    line.append(1)\n",
    "    for i in range(len(vec)):\n",
    "        line.append(line[i] + line[vec[i] - 1])\n",
    "    return line"
   ]
  },
  {
   "cell_type": "code",
   "execution_count": 201,
   "metadata": {},
   "outputs": [],
   "source": [
    "def check_dect(vec):# проверка возможности декрементрирования\n",
    "    for i in vec:\n",
    "        if i > 1:\n",
    "            return False\n",
    "    return True"
   ]
  },
  {
   "cell_type": "markdown",
   "metadata": {},
   "source": [
    "Осталось реализовать алгоритм дробления вектора индексов."
   ]
  },
  {
   "cell_type": "code",
   "execution_count": 202,
   "metadata": {},
   "outputs": [],
   "source": [
    "def alg(n):\n",
    "    l_min = math.ceil(math.log2(n)) #минимум\n",
    "    l_max = int(math.log2(n) + d(n)) #максимум\n",
    "    for m in range(l_min, l_max):#перебор всех длин векторов\n",
    "        q = int(m/2)\n",
    "        vec = default(m, q)\n",
    "        fix = part_vector(q, 1)\n",
    "        \n",
    "        while True: # перебор всех возможных фикс частей\n",
    "            change = part_vector(m - q, q + 1)\n",
    "            bounds = [0]*2\n",
    "            a = number_by_vector(fix)\n",
    "            bounds[0] = a + m - q\n",
    "            bounds[1] = a * 2 ** (m - q)\n",
    "\n",
    "            \n",
    "            if n < bounds[0] or n > bounds[1]:\n",
    "                if check_dect(fix) and len(fix) > 1:\n",
    "                    break\n",
    "                dec(fix)\n",
    "                continue\n",
    "                \n",
    "            while True: #перебор меняющихся частей\n",
    "                if number_by_vector(fix + change) == n:\n",
    "                    return fix + change\n",
    "                if dect(change):\n",
    "                    break\n",
    "                dec(change)\n",
    "            if check_dect(fix):\n",
    "                break\n",
    "            dec(fix)   \n",
    "    print(\"error\")"
   ]
  },
  {
   "cell_type": "markdown",
   "metadata": {},
   "source": [
    "Протестируем алгоритм на 5 примерах."
   ]
  },
  {
   "cell_type": "code",
   "execution_count": 209,
   "metadata": {},
   "outputs": [
    {
     "name": "stdout",
     "output_type": "stream",
     "text": [
      "n =  165\n",
      "Цепочка:  [1, 2, 4, 5, 10, 20, 40, 80, 160, 165]\n",
      "Ваш вектор:   [1, 2, 1, 4, 5, 6, 7, 8, 4]\n",
      "l(n) =  9 \t Затраченное время =  10037.1119  sec\tМинимальная длина =  8 \tМаксимальная длина =  11\n",
      "\n",
      "\n",
      "n =  252\n",
      "Цепочка:  [1, 2, 4, 8, 12, 24, 48, 96, 192, 240, 252]\n",
      "Ваш вектор:   [1, 2, 3, 3, 5, 6, 7, 8, 7, 5]\n",
      "l(n) =  10 \t Затраченное время =  10037.37605  sec\tМинимальная длина =  8 \tМаксимальная длина =  13\n",
      "\n",
      "\n",
      "n =  1013\n",
      "Цепочка:  [1, 2, 4, 8, 12, 13, 25, 50, 100, 200, 400, 800, 1000, 1013]\n",
      "Ваш вектор:   [1, 2, 3, 3, 1, 5, 7, 8, 9, 10, 11, 10, 6]\n",
      "l(n) =  13 \t Затраченное время =  10113.88233  sec\tМинимальная длина =  10 \tМаксимальная длина =  17\n",
      "\n",
      "\n",
      "n =  1024\n",
      "Цепочка:  [1, 2, 4, 8, 16, 32, 64, 128, 256, 512, 1024]\n",
      "Ваш вектор:   [1, 2, 3, 4, 5, 6, 7, 8, 9, 10]\n",
      "l(n) =  10 \t Затраченное время =  10113.8828  sec\tМинимальная длина =  10 \tМаксимальная длина =  11\n",
      "\n",
      "\n",
      "n =  2064\n",
      "Цепочка:  [1, 2, 4, 8, 16, 32, 64, 128, 256, 512, 1024, 2048, 2064]\n",
      "Ваш вектор:   [1, 2, 3, 4, 5, 6, 7, 8, 9, 10, 11, 5]\n",
      "l(n) =  12 \t Затраченное время =  10113.88367  sec\tМинимальная длина =  12 \tМаксимальная длина =  13\n",
      "\n",
      "\n"
     ]
    }
   ],
   "source": [
    "test_set = [165, 252, 1013, 1024, 2064]\n",
    "for n in test_set:\n",
    "    a = alg(n)\n",
    "    print(\"n = \", n)\n",
    "    \n",
    "    end = time.time()\n",
    "    print(\"Цепочка: \",  chain(a))\n",
    "    print(\"Ваш вектор:  \", a)\n",
    "    print(\"l(n) = \", len(chain(a)) - 1, \"\\t Затраченное время = \",\n",
    "              round(end-begin, 5), \" sec\\tМинимальная длина = \",  math.ceil(math.log2(n)), \"\\tМаксимальная длина = \", int(math.log2(n) + d(n)) )\n",
    "    print(\"\\n\")"
   ]
  },
  {
   "cell_type": "markdown",
   "metadata": {},
   "source": [
    "По результатам видно, что чем ближе число к степени двойки (начиная с младших разрядов), тем меньше необходимо перебрать векторов индексов.\n",
    "\n",
    "По сравнению с методом Брауэра отношение длин цепочек к числам получаются примерно одинаковыми, и разумеется большими чем минимальные длины цепочек $l(n) = \\lceil lb(n) \\rceil$ .\n",
    "\n",
    "Также видно, что алгоритм имеет среднюю сложность $O(\\sum(m-1)!)$, где $m$ - длина минимальной звёздной цепочки."
   ]
  },
  {
   "cell_type": "markdown",
   "metadata": {},
   "source": [
    "4. Проверить гипотезу Шольца–Брауэра для всех натуральных 1 ⩽ 𝑛 ⩽ 12 на алгоритме дробления вектора индексов. Результаты оформить в виде таблицы. Сделать выводы."
   ]
  },
  {
   "cell_type": "code",
   "execution_count": null,
   "metadata": {},
   "outputs": [
    {
     "name": "stdout",
     "output_type": "stream",
     "text": [
      "n = 1\tTRUE\t 0 <= 0\n",
      "n = 2\tTRUE\t 2 <= 2\n",
      "n = 3\tTRUE\t 4 <= 4\n",
      "n = 4\tTRUE\t 5 <= 5\n",
      "n = 5\tTRUE\t 7 <= 7\n",
      "n = 6\tTRUE\t 8 <= 8\n",
      "n = 7\tTRUE\t 10 <= 10\n",
      "n = 8\tTRUE\t 10 <= 10\n"
     ]
    }
   ],
   "source": [
    "for i in range (1, 12):\n",
    "    cep_2n = index_vector_cepochka(2**i - 1)\n",
    "    cep_n = index_vector_cepochka(i)\n",
    "    print(\"n =\", i, end='')\n",
    "    if len(cep_2n) - 1 <= len(cep_n) + i - 2:\n",
    "        print(\"\\tTRUE\\t\", len(cep_2n) - 1, '<=', len(cep_n) + i - 2)\n",
    "    else:\n",
    "        print(\"\\tFALSE\")\n",
    "        print(cep_n)\n",
    "        break"
   ]
  },
  {
   "cell_type": "markdown",
   "metadata": {},
   "source": [
    "Полученные цепочки не являются кратчайшими; Гипотеза Шольца-Брауэра для звездных цепочек при n∈(1,12) верна."
   ]
  },
  {
   "cell_type": "markdown",
   "metadata": {},
   "source": [
    "### Вывод\n",
    "В ходе выполнения данной практической работы были сформированы представления об аддитивных цепочках, были выработаны умения реализовывать и применять алгоритмы для нахождения минимальных аддитивных цепочек, был сформирован навык использования системы компьютерной математики SageMath для реализации таких алгоритмов.\n",
    "\n",
    "Были проанализированы алгоритм Брауэра и алгоритм дробления векторов индексов."
   ]
  },
  {
   "cell_type": "code",
   "execution_count": null,
   "metadata": {},
   "outputs": [],
   "source": []
  }
 ],
 "metadata": {
  "kernelspec": {
   "display_name": "SageMath 9.3",
   "language": "sage",
   "name": "sagemath"
  },
  "language_info": {
   "codemirror_mode": {
    "name": "ipython",
    "version": 3
   },
   "file_extension": ".py",
   "mimetype": "text/x-python",
   "name": "python",
   "nbconvert_exporter": "python",
   "pygments_lexer": "ipython3",
   "version": "3.7.10"
  }
 },
 "nbformat": 4,
 "nbformat_minor": 4
}
