{
 "cells": [
  {
   "cell_type": "markdown",
   "metadata": {},
   "source": [
    "# <center> Практическая работа №1: Исследование алгоритмов формирования аддитивных цепочек </center>\n",
    "\n",
    "Выполнил студент гр. 0303 Болкунов Владислав, вариант 5."
   ]
  },
  {
   "cell_type": "markdown",
   "metadata": {},
   "source": [
    "## Цель работы\n",
    "\n",
    "Формирование представления о аддитивных цепочках, выработать умение составлять и применять алгоритмы для нахождения минимальных\n",
    "аддитивных цепочек для заданного числа, привить навык использования\n",
    "систем компьютерной математики для реализации алгоритмов."
   ]
  },
  {
   "cell_type": "markdown",
   "metadata": {},
   "source": [
    "## Основные теоретические положения\n",
    "\n",
    "#### Аддитивная цепочка для натурального числа n\n",
    "-- такая последовательность натуральных чисел : \n",
    "$$\\{a\\}_r = \\{1 = a_0, a_1, ... , a_r = n\\}$$\n",
    "где $$\\forall i \\in [0...r] : a_i = a_j + a_k, k \\leq j \\leq i$$\n",
    "\n",
    "#### Функции для анализа и построения аддитивных цепочек\n",
    "$l(n) = r$ - количество операций для построения цепочки (как для минимальной, так и для конкретных алгоритмов)\n",
    "\n",
    "$\\lambda(n) = \\lfloor{ log_2(n) }\\rfloor$ - (длина бинарной записи $n$) - 1\n",
    "\n",
    "$\\nu(n)$ - вес Хэмминга бинарной записи (количество единиц в бинарной записи)\n",
    "\n",
    "#### Свойства аддитивных цеочек\n",
    "- $1 = a_0 < a_1 < ... < a_{n-1} < a_n = n$\n",
    "- $\\exists a_j = a_i \\implies a_j \\notin \\{a\\}_r$\n",
    "- пара чисел $(j, k) : 0 \\leq k \\leq j < i$ называется $i-$ым шаг\n",
    "- $\\exists$ неколько пар $(j,k) \\implies$ взять пару с максимальным $j$ \n",
    "#####  Теорема\n",
    "- Если аддитивная цепочка включает d удвоений и f = r - d неудвоений, то:\n",
    "$$ n \\le 2^{d - 1} F_{f + 3}, $$\n",
    "где $ F_j $ - число фибоначчи.\n",
    "- Следствие. Если аддитивная цепочка включает f неудвоений и s малых шагов, то:\n",
    "$$ s \\le f \\le \\frac{s}{1 - lb(\\varphi)}, $$\n",
    "где $ \\varphi = \\frac{\\sqrt{5} + 1}{2} $ - золотое сечение.\n",
    "\n",
    "#### Шаги при построении цепочек\n",
    "1. Удвоение $: j = k = i-1$\n",
    "2. Звёздный шаг $: j = i-1$\n",
    "3. Малый шаг $: \\lambda(a_i) = \\lambda(a_{i-1})$\n",
    "\n",
    "#### Свойства шагов\n",
    "1. Первый шаг - всегда удвоение\n",
    "2. Удвоенине - всегда звёздный шаг, но никогда не малый\n",
    "3. За удвоением всегда следует звёздный шаг\n",
    "4. $i-$ый шаг не малый $\\implies (i+1)-$ый шаг либо малый либо звёздный либо и тот и тот.\n",
    "5. $(i+1)-$ый шаг ни звёздный ни малый $\\implies i-$ый шаг - малый \n"
   ]
  },
  {
   "cell_type": "markdown",
   "metadata": {},
   "source": [
    "### Алгоритмы для возведения числа $x$ в степень $n$\n",
    "Не трудно заметить, что возведение числа в n степень тоже является аддитивной цепочкой по отношению к степеням $x$, следовательно при построении последовательности возведения в степеь справедливы понятия и функции описанные выше.\n",
    "\n",
    "#### Бинарный метод \"SX\"\n",
    "1. Записать число в двоичной системе $n = (a_{m}...a_{1})_2$\n",
    "2. Отбросить старшую цифру a_m (т.к. она всегда будет 1) $\\implies(a_{m-1}...a_{1}) $\n",
    "3. Сделать замену в \"строке\" по правилу \n",
    "$$ \n",
    "\\begin{cases}\n",
    "    a_i = 1 \\implies a_i = {\"SX\"} \\\\\n",
    "    a_i = 0 \\implies a_i = {\"S\"}\n",
    "\\end{cases} \n",
    "$$\n",
    "\n",
    "4. Получается последовательность операций где $\"S\"$ - возведение в квадрат $\"X\"$ - умножение на $x$\n",
    "\n",
    "Минимальная длина цепочки для бинарного метода:\n",
    "$$ l(n) \\leq \\lambda(n) + \\nu(n) - 1 $$\n",
    "\n",
    "#### Бинарный метод (алгоритм более удобный для вычислений на компьютере)"
   ]
  },
  {
   "cell_type": "code",
   "execution_count": 1,
   "metadata": {},
   "outputs": [],
   "source": [
    "def binMeth(n, x):\n",
    "    N = [n]\n",
    "    Y = [1]\n",
    "    Z = [x]\n",
    "    while N[-1] != 0:\n",
    "        if N[-1] % 2 == 0:\n",
    "            Z.append(Z[-1] ** 2)\n",
    "            Y.append(Y[-1])\n",
    "        else:\n",
    "            Y.append(Z[-1] * Y[-1])\n",
    "            if N[-1] != 1:\n",
    "                Z.append(Z[-1] ** 2)\n",
    "            else:\n",
    "                Z.append(Z[-1])\n",
    "        N.append(N[-1] >> 1)\n",
    "        \n",
    "    return N, Y, Z"
   ]
  },
  {
   "cell_type": "markdown",
   "metadata": {},
   "source": [
    "#### Пример работы алгоритма:"
   ]
  },
  {
   "cell_type": "code",
   "execution_count": 2,
   "metadata": {},
   "outputs": [
    {
     "data": {
      "text/html": [
       "<div class=\"notruncate\">\n",
       "<table  class=\"table_form\">\n",
       "<tbody>\n",
       "<tr>\n",
       "<th><script type=\"math/tex\">i</script></th>\n",
       "<th><script type=\"math/tex\">N_i</script></th>\n",
       "<th><script type=\"math/tex\">Y_i</script></th>\n",
       "<th><script type=\"math/tex\">Z_i</script></th>\n",
       "</tr>\n",
       "<tr class =\"row-a\">\n",
       "<td><script type=\"math/tex\">0</script></td>\n",
       "<td><script type=\"math/tex\">273</script></td>\n",
       "<td><script type=\"math/tex\">1</script></td>\n",
       "<td><script type=\"math/tex\">x</script></td>\n",
       "</tr>\n",
       "<tr class =\"row-b\">\n",
       "<td><script type=\"math/tex\">1</script></td>\n",
       "<td><script type=\"math/tex\">136</script></td>\n",
       "<td><script type=\"math/tex\">x</script></td>\n",
       "<td><script type=\"math/tex\">x^{2}</script></td>\n",
       "</tr>\n",
       "<tr class =\"row-a\">\n",
       "<td><script type=\"math/tex\">2</script></td>\n",
       "<td><script type=\"math/tex\">68</script></td>\n",
       "<td><script type=\"math/tex\">x</script></td>\n",
       "<td><script type=\"math/tex\">x^{4}</script></td>\n",
       "</tr>\n",
       "<tr class =\"row-b\">\n",
       "<td><script type=\"math/tex\">3</script></td>\n",
       "<td><script type=\"math/tex\">34</script></td>\n",
       "<td><script type=\"math/tex\">x</script></td>\n",
       "<td><script type=\"math/tex\">x^{8}</script></td>\n",
       "</tr>\n",
       "<tr class =\"row-a\">\n",
       "<td><script type=\"math/tex\">4</script></td>\n",
       "<td><script type=\"math/tex\">17</script></td>\n",
       "<td><script type=\"math/tex\">x</script></td>\n",
       "<td><script type=\"math/tex\">x^{16}</script></td>\n",
       "</tr>\n",
       "<tr class =\"row-b\">\n",
       "<td><script type=\"math/tex\">5</script></td>\n",
       "<td><script type=\"math/tex\">8</script></td>\n",
       "<td><script type=\"math/tex\">x^{17}</script></td>\n",
       "<td><script type=\"math/tex\">x^{32}</script></td>\n",
       "</tr>\n",
       "<tr class =\"row-a\">\n",
       "<td><script type=\"math/tex\">6</script></td>\n",
       "<td><script type=\"math/tex\">4</script></td>\n",
       "<td><script type=\"math/tex\">x^{17}</script></td>\n",
       "<td><script type=\"math/tex\">x^{64}</script></td>\n",
       "</tr>\n",
       "<tr class =\"row-b\">\n",
       "<td><script type=\"math/tex\">7</script></td>\n",
       "<td><script type=\"math/tex\">2</script></td>\n",
       "<td><script type=\"math/tex\">x^{17}</script></td>\n",
       "<td><script type=\"math/tex\">x^{128}</script></td>\n",
       "</tr>\n",
       "<tr class =\"row-a\">\n",
       "<td><script type=\"math/tex\">8</script></td>\n",
       "<td><script type=\"math/tex\">1</script></td>\n",
       "<td><script type=\"math/tex\">x^{17}</script></td>\n",
       "<td><script type=\"math/tex\">x^{256}</script></td>\n",
       "</tr>\n",
       "<tr class =\"row-b\">\n",
       "<td><script type=\"math/tex\">9</script></td>\n",
       "<td><script type=\"math/tex\">0</script></td>\n",
       "<td><script type=\"math/tex\">x^{273}</script></td>\n",
       "<td><script type=\"math/tex\">x^{256}</script></td>\n",
       "</tr>\n",
       "</tbody>\n",
       "</table>\n",
       "</div>"
      ],
      "text/plain": [
       "  $i$   $N_i$   $Y_i$   $Z_i$\n",
       "+-----+-------+-------+-------+\n",
       "  0     273     1       x\n",
       "  1     136     x       x^2\n",
       "  2     68      x       x^4\n",
       "  3     34      x       x^8\n",
       "  4     17      x       x^16\n",
       "  5     8       x^17    x^32\n",
       "  6     4       x^17    x^64\n",
       "  7     2       x^17    x^128\n",
       "  8     1       x^17    x^256\n",
       "  9     0       x^273   x^256"
      ]
     },
     "execution_count": 2,
     "metadata": {},
     "output_type": "execute_result"
    }
   ],
   "source": [
    "data = binMeth(273, x)\n",
    "table(\n",
    "    columns=[list(range(len(data[0])))] + list(data), \n",
    "    header_row=['$i$', '$N_i$', '$Y_i$', '$Z_i$']\n",
    ")"
   ]
  },
  {
   "attachments": {
    "image.png": {
     "image/png": "[encoded data removed]"
    }
   },
   "cell_type": "markdown",
   "metadata": {},
   "source": [
    "#### Метод Множителей\n",
    "На каждом шаге:\n",
    "\n",
    "1. $n \\notin \\mathbb{P} \\implies n = p*q : x^n = {(x^p)}^q$, где $q$ - минимальный простой множитель\n",
    "\n",
    "2. $n \\in \\mathbb{P} \\implies x^n = x^{n-1}*x$\n",
    "\n",
    "3. $n = 1 \\implies x^1 $.\n",
    "\n",
    "Минимальная длина цепочки для метода множителей:\n",
    "$$ l(m*n) \\leq \\lambda(n) + \\nu(n) $$\n",
    "\n",
    "#### m-арный метод (обобщение бинарного метода):\n",
    "\n",
    "1. Записать n в m-ичной системе счисления:\n",
    "$$ n = \\sum_{j=0}^{t} {d_j m^{t-j}} \\,, 0 \\le d_j < m $$\n",
    "\n",
    "2. Построить $x^2, x^3, ..., x^{m-1}$\n",
    "\n",
    "3. Возвести $ x^{d_0} $ в степень m и умножить на $ x^{d_1} \\implies y_1 = x^{d_0 m + d_1} $\n",
    "\n",
    "4. Возвести $ y_1 $ в степень m и умножаем на $ x^{d_2} \\implies y_2 = x^{d_0 m^2 + d_1 m + d_2} $\n",
    "\n",
    "5. Продолжать, пока не получится $ y_t = x^n $.\n",
    "\n",
    "Минимальная длина цепочки для m-арного метода ($m = 2^k , n = \\sum_{j=0}^{t}m^{t-j}d_j$):\n",
    "$$ l(n) \\leq m - 2 + (k+1)t $$\n",
    "\n",
    "#### Дерево степеней:\n",
    "\n",
    "1. $\\exists k-$ый уровень дерева. Необходимо построить $(k+1)-$ый уровень.\n",
    "\n",
    "2. $\\forall$ узла n на k-ом уровне слева направо присоединить к нему узлы:\n",
    "$$\\{ n + a_0, n + a_1, n + a_2, ..., n + a_{k-1}, 2n \\}$$\n",
    "\n",
    "3. Не добавлять уже добавленный узел\n",
    "\n",
    "В итоге для каждого узла $n$ - путь к нему от корня будет являтся его *минимальной* (не всегда) аддитивной цепочкой.\n",
    "\n",
    "Пример такого дерева:\n",
    "![image.png](attachment:image.png)"
   ]
  },
  {
   "cell_type": "markdown",
   "metadata": {},
   "source": [
    "### Приближённые алгоритмы для нахождения аддитивных цепочек\n",
    "\n",
    "#### 1. Алгоритм Брауэра:\n",
    " \n",
    "Сложность:\n",
    "$$ l_B(n) = \\lambda(n) + \\frac{\\lambda(n)}{\\lambda(\\lambda(n))} + O\\left( \\frac{\\lambda(n)\\lambda(\\lambda(\\lambda(n)))}{(\\lambda(\\lambda(n)))^2} \\right) $$\n",
    "\n",
    "**Алгоритм:**\n",
    "\n",
    "1. Задается параметр $ k \\ge 2 $.\n",
    "\n",
    "2. Вычисление вспомогательных чисел:\n",
    "- $ d = 2^k $\n",
    "- $ q_1, r_1 $ таких, что $ n = q_1 d + r_1 : ( 0 \\le r_1 < d $)\n",
    "- $ q_2, r_2 $ таких, что $ q_1 = q_2 d + r_2 : ( 0 \\le r_2 < d $)\n",
    "- **...**\n",
    "- Пока не получится $ q_s < d \\implies q_{s-1} = q_s d + r_s $ ($ 0 \\le r_s < d $)\n",
    "\n",
    "3. Таким образом n можно записать в виде:\n",
    "$$ n = 2^k q_1 + r_1 = 2^k(2^k q_2 + r_2) + r_1 = ... = 2^k(2^k(...(2^k q_s + r_s)...)) $$\n",
    "\n",
    "Остаётся построить цепочки\n",
    "- Базовую цепочку: $ 1, 2, 3, ..., 2^k - 1 $\n",
    "\n",
    "- Следующие элементы для $q_s$: $ 2q_s, 2^2q_s, ..., 2^k q_s, 2^k q_s + r_s = q_{s-1} $\n",
    "\n",
    "- Затем для $q_{s-1}$: $ 2q_{s-1}, 2^2q_{s-1}, ..., 2^k q_{s-1}, 2^k q_{s-1} + r_{s-1} = q_{s-2} $\n",
    "\n",
    "- **...**\n",
    "- В итоге для $q_1$: $ 2q_1, 2^2q_1, ..., 2^k q_1, 2^k q_1 + r_1 = n $\n",
    "\n",
    "*Длина цепочки будет минимизированна для больших n, если взять $ k = \\lambda(\\lambda(n)) - 2\\lambda(\\lambda(\\lambda(n))) $*\n",
    "\n",
    "#### 2. Алгоритм Яо:\n",
    "\n",
    "Сложность такая же как у алгоритма Брауэра.\n",
    "\n",
    "**Алгоритм:**\n",
    "\n",
    "1. Задается параметр $ k \\ge 2 $.\n",
    "\n",
    "2. n раскладывается в $2^k$-ичную систему счисления:\n",
    "$$ n = \\sum_{i=0}^{j} {a_i 2^{ik}}, \\text{ } a_j \\ne 0 $$\n",
    "\n",
    "3. Базовая последовательность $\\{ 1, 2, 4, 8, ..., 2^{\\lambda(n)} \\}$\n",
    "\n",
    "4. Вычисляются значения функции $d(z)$:\n",
    "$$ d(z) = \\sum_{i: a_i = z} {2^{ik}} $$\n",
    "Для $\\forall z \\in \\{ 1, 2, 3, ..., 2^k - 1 \\} $.\n",
    "\n",
    "5. $\\forall z \\in \\{ 1, 2, 3, ..., 2^k - 1 \\}$ Вычисляются $z*d(z)$.\n",
    "\n",
    "6. Тогда $n$ раскладывается в:\n",
    "$$ n = \\sum_{z=1}^{2^k - 1} {zd(z)} $$\n",
    "\n",
    "А аддитивная цепочка для получения n будет выглядеть, как комбинация базовой цепочки и цепочек для получения $z*d(z)$."
   ]
  },
  {
   "cell_type": "markdown",
   "metadata": {},
   "source": [
    "### Звездные цепочки:\n",
    "- Звездная цепочка - аддитивная цепочка состоящая только из звёздных шагов.\n",
    "- Длина звездной цепочки: $ l^*(n) $.\n",
    "- Шаг звездной цепочки: $ a_i = a_{i-1} + a_k $ : $\\forall k < i $.\n",
    "- $ l(n) \\le l^{*}(n)$.\n",
    "- Для каждой звезной цепочки (длина $= m-1$) существует вектор индексов:\n",
    "$$ r = \\{ r_1, r_2, ..., r_m \\}, $$\n",
    "длины m - 1, такой, что $ r_i = z: 1 \\le z \\le i $, $ a_i = a_{i-1} + a_{r_{i-1}} $, $ 2 \\le i \\le m - 1 $.\n",
    "- $ r_1 $ всегда = 1. $ r_2 = \\{ 1, 2 \\} $ и так далее.\n",
    "- Наибольшая звездная цепочка : $ a = \\{ 1, 2, 4, ..., 2^{m-1} \\} $, а её вектор индексов $ r = \\{ 1, 2, 3, ..., m-1 \\} $.\n",
    "- Наименьшая звездная цепочка : $ a = \\{ 1, 2, 3, ..., m-1 \\} $, а её вектор индексов $ r = \\{ 1, 1, 1, ..., 1 \\} $.\n",
    "- Количество звездных цепочек длины $m-1$ = $A^{*}(m-1) = (m-1)! $.\n",
    "\n",
    "### Сравнимость векторов индексов:\n",
    "Даны 2 вектора индексов равной длины $ r = \\{r_1, r_2, ..., r_m\\} $ и $ \\tilde{r} = \\{ \\tilde{r_1}, \\tilde{r_2}, ..., \\tilde{r_m} \\} $. \n",
    "Тогда $ r \\succ \\tilde{r} $, если $ r_1 = \\tilde{r_1} = 1, r_2 = \\tilde{r_2}, ..., r_{i-1} = \\tilde{r_{i-1}} $, и $ r_i > \\tilde{r_i} $ (то есть $\\nexists r_i < \\tilde{r_i}$)\n",
    "\n",
    "### Алгоритм дробления вектора индексов\n",
    "- Дано число $n \\in \\mathbb{N}$. $\\implies$ найти минимальную звездную цепочку : $ a_m = n $.\n",
    "- $\\sphericalangle :$ вектор индексов вида:\n",
    "$$ \\{ r_1, r_2, ..., r_q \\} \\cup \\{ p_{q+1}, p_{q+2}, ..., p_m \\} $$\n",
    "Левая часть - фиксированная, а правую - меняющаяся, $\\implies$ такиих наборов: $ \\frac{m!}{q!} $.  \n",
    "\n",
    "**Алгоритм:**\n",
    "1. Выбрать число $ q \\in N $ ($q = \\frac{m}{2}$).\n",
    "\n",
    "2. Внешний цикл по длинам цепочек $ \\underline{l(n)} \\le m \\le \\overline{l(n)} $. \n",
    "\n",
    "3. Внутренний цикл перебора всех $ \\{ r_1, r_2, ..., r_q \\} $. На каждом шаге при фиксированной части вычисляем $ a_{min} = a_{q+1} + m - q $ и $ a_{max} = a_{q+1}*2^{m-q}$:\n",
    "\n",
    "    1. $ a_m = n \\implies$  задача решена.\n",
    "    \n",
    "    2. $ n \\notin \\{ a_{min}, a_{max} \\} \\implies$, переход к следующему набору $ \\{ r_1, r_2, ..., r_{q-1} \\} $.\n",
    "\n",
    "    3. $ n \\in \\{ a_{min}, a_{max} \\} \\implies$, внутренний перебор меняющейся части $ \\{ p_{q+1}, p_{q+2}, ..., p_m \\} $:\n",
    "\n",
    "        1. Если обнаруживается $ a_m = n \\implies$ задача решена.\n",
    "\n",
    "        2. Если в цикле таких векторов не оказалось $\\implies$ переход к следующей (по введенной упорядоченности) фиксированной части $ \\{ r_1, r_2, ..., r_q \\} $.\n",
    "\n",
    "4. Если все наборы фиксированной длины исчерпаны, то увеличивается общая длина цепочки во внешнем цикле."
   ]
  },
  {
   "cell_type": "markdown",
   "metadata": {},
   "source": [
    "## Постановка задачи\n",
    "\n",
    "Реализовать точные и приближённые алгоритмы нахождения минимальных аддитивных цепочек с использованием системы компьютерной математики SageMath, провести анализ алгоритмов. Полученные результаты\n",
    "содержательно проинтерпретировать.\n"
   ]
  },
  {
   "cell_type": "markdown",
   "metadata": {},
   "source": [
    "## Порядок выполнения работы\n",
    "\n",
    "1. Вручную (т.е. не реализовывая алгоритм на Sage) построить последовательность вычислений бинарным методом и методом множителей для $𝑥^𝑛$ для $2-3$ значений $𝑛$ (значение $𝑛 > 30$ выбираются студентом самостоятельно). Сравнить количество операций для каждого метода, сделать выводы.\n",
    "\n",
    "2. Реализовать алгоритм Брауэра (для нечётных вариантов) и алгоритм Яо (для чётных вариантов) для вычисления приближённых аддитивных цепочек для различных чисел при варьировании параметра $𝑘$, сопоставить длины полученных аддитивных цепочек с минимальной аддитивной цепочкой для заданного числа. Сделать выводы.\n",
    "\n",
    "3. Реализовать алгоритм дробления вектора индексов для нахождения минимальной звёздной цепочки для заданного числа. Протестировать алгоритм минимум для $5$ значений $𝑛 > 1000$. Указать, сколько времени потребовалось на поиск цепочки и какая цепочка получилась. Сравнить с предыдущими методами, сделать выводы.\n",
    "\n",
    "4. Проверить гипотезу Шольца–Брауэра для всех натуральных $1 \\leq 𝑛 \\leq 12$ на алгоритме дробления вектора индексов. Результаты оформить в виде таблицы. Сделать выводы.\n",
    "\n",
    "*5. Найти или предложить собственные модификации алгоритмов и\n",
    "привести описание модификаций. Реализовать модифицированные\n",
    "алгоритмы и сравнить их мощность."
   ]
  },
  {
   "cell_type": "markdown",
   "metadata": {},
   "source": [
    "## Выполнение работы\n",
    "\n",
    "### 1. Бинарный метод и метод множителей.\n",
    "$\\sphericalangle : n_1 = 273, n_2 = 127$ \n",
    "\n",
    "#### Бинарный метод\n",
    "#####  $n = 273$\n",
    "1. $273 = 100010001_2$\n",
    "2. a = (00010001)\n",
    "3. Замена: a = \"SSSSXSSSSX\"\n",
    "4. Итого: $\\{x, x^2, x^4, x^8, x^{16}, x^{17}, x^{34}, x^{68}, x^{136}, x^{272}, x^{273} \\}, l(n) = 10$ \n",
    "\n",
    "#####  $n = 127$\n",
    "1. $127 = 1111111_2$\n",
    "2. a = (111111)\n",
    "3. Замена: a = \"SXSXSXSXSXSX\"\n",
    "4. Итого: $\\{x, x^2, x^3, x^6, x^7, x^{14}, x^{15}, x^{30}, x^{31}, x^{62}, x^{63}, x^{126}, x^{127}\\}, l(n) = 12$\n"
   ]
  },
  {
   "cell_type": "markdown",
   "metadata": {},
   "source": [
    "#### Метод множителей\n",
    "#####  $n = 273$\n",
    "1. $x^{273} = (x^{91})^{3}$ $|$ $(y^3 = y^2 * y; y^2 = y*y)$\n",
    "2. $x^{91} = (x^{13})^7$ $|$ $(y^7 = y^6 * y; y^6 = (y^3)^2; y^3 = y^2 * y; y^2 = y*y)$\n",
    "3. $x^{13} = x^{12} * x$ \n",
    "4. $x^{12} = (x^6)^2$ \n",
    "5. $x^6 = (x^3)^2$\n",
    "6. $x^3 = x^2 * x$\n",
    "7. $x^2 = x*x$\n",
    "8. Итого: $\\{x, x^2, x^3, x^6, x^{12}, x^{13}, x^{26}, x^{39}, x^{78}, x^{91}, x^{182}, x^{273} \\}, l(n) = 11$ \n",
    "\n",
    "#####  $n = 127$\n",
    "1. $x^{127} = x^{126} * x$\n",
    "2. $x^{126} = (x^{63})^2$ $|$ $(y^2 = y*y)$\n",
    "3. $x^{63} = (x^{21})^3$ $|$ $(y^3 = y^2*y; y^2 = y*y)$\n",
    "4. $x^{21} = (x^{7})^3$ $|$ $(y^3 = y^2 * y; y^2 = y*y)$\n",
    "5. $x^{7} = x^6 * x$\n",
    "6. $x^6 = (x^3)^2$\n",
    "7. $x^3 = x^2 * x$\n",
    "8. $x^2 = x*x$\n",
    "9. Итого: $\\{x, x^2, x^3, x^6, x^7, x^{14}, x^{21}, x^{42}, x^{63}, x^{126}, x^{127} \\}, l(n) = 10$\n",
    "\n"
   ]
  },
  {
   "cell_type": "markdown",
   "metadata": {},
   "source": [
    "#### Вывод\n",
    "Метод множителей требует примено столько же операций сколько и бинарный, но при некоторых конкретных n может быть перевес в ту или другую сторону."
   ]
  },
  {
   "cell_type": "markdown",
   "metadata": {},
   "source": [
    "### 2. Алгоритм Брауэра"
   ]
  },
  {
   "cell_type": "code",
   "execution_count": 93,
   "metadata": {},
   "outputs": [],
   "source": [
    "def brauer(n, k):\n",
    "    d = 2 ** k\n",
    "    # Частные\n",
    "    Q = [n // d]\n",
    "    # Остатки\n",
    "    R = [n % d]\n",
    "    while Q[-1] >= d:\n",
    "        Q.append(Q[-1] // d)\n",
    "        R.append(Q[-1] % d)\n",
    "    \n",
    "    base = [1..d-1] # Базовая цепочка\n",
    "    chain = [] # остальная цепочка\n",
    "    for q in Q[::-1]:\n",
    "        for i in [0..k]:\n",
    "            chain.append(q * 2 ** i)\n",
    "    chain.append(chain[-1] + R[0])\n",
    "    return base, chain"
   ]
  },
  {
   "cell_type": "markdown",
   "metadata": {},
   "source": [
    "#### Пример работы алгоритма для фиксированного числа $n$ с варьированием параметра $k$ (в скобках указан размер с учётом базовой цепочки):"
   ]
  },
  {
   "cell_type": "code",
   "execution_count": 94,
   "metadata": {},
   "outputs": [
    {
     "data": {
      "text/html": [
       "<script type=\"math/tex\">k=2: [1, 2, 3, 3, 6, 12, 14, 28, 56, 59, 118, 236, 239]</script>"
      ],
      "text/plain": [
       "'$k=2: [1, 2, 3, 3, 6, 12, 14, 28, 56, 59, 118, 236, 239]$'"
      ]
     },
     "metadata": {},
     "output_type": "display_data"
    },
    {
     "data": {
      "text/html": [
       "<script type=\"math/tex\">k=3: [1, 2, 3, 4, 5, 6, 7, 3, 6, 12, 24, 29, 58, 116, 232, 239]</script>"
      ],
      "text/plain": [
       "'$k=3: [1, 2, 3, 4, 5, 6, 7, 3, 6, 12, 24, 29, 58, 116, 232, 239]$'"
      ]
     },
     "metadata": {},
     "output_type": "display_data"
    },
    {
     "data": {
      "text/html": [
       "<script type=\"math/tex\">k=4: [1, 2, 3, 4, 5, 6, 7, 8, 9, 10, 11, 12, 13, 14, 15, 14, 28, 56, 112, 224, 239]</script>"
      ],
      "text/plain": [
       "'$k=4: [1, 2, 3, 4, 5, 6, 7, 8, 9, 10, 11, 12, 13, 14, 15, 14, 28, 56, 112, 224, 239]$'"
      ]
     },
     "metadata": {},
     "output_type": "display_data"
    },
    {
     "data": {
      "text/html": [
       "<script type=\"math/tex\">k=5: [1, 2, 3, 4, 5, 6, 7, 8, 9, 10, 11, 12, 13, 14, 15, 16, 17, 18, 19, 20, 21, 22, 23, 24, 25, 26, 27, 28, 29, 30, 31, 7, 14, 28, 56, 112, 224, 239]</script>"
      ],
      "text/plain": [
       "'$k=5: [1, 2, 3, 4, 5, 6, 7, 8, 9, 10, 11, 12, 13, 14, 15, 16, 17, 18, 19, 20, 21, 22, 23, 24, 25, 26, 27, 28, 29, 30, 31, 7, 14, 28, 56, 112, 224, 239]$'"
      ]
     },
     "metadata": {},
     "output_type": "display_data"
    },
    {
     "data": {
      "text/html": [
       "<script type=\"math/tex\">k=6: [1, 2, 3, 4, 5, 6, 7, 8, 9, 10, 11, 12, 13, 14, 15, 16, 17, 18, 19, 20, 21, 22, 23, 24, 25, 26, 27, 28, 29, 30, 31, 32, 33, 34, 35, 36, 37, 38, 39, 40, 41, 42, 43, 44, 45, 46, 47, 48, 49, 50, 51, 52, 53, 54, 55, 56, 57, 58, 59, 60, 61, 62, 63, 3, 6, 12, 24, 48, 96, 192, 239]</script>"
      ],
      "text/plain": [
       "'$k=6: [1, 2, 3, 4, 5, 6, 7, 8, 9, 10, 11, 12, 13, 14, 15, 16, 17, 18, 19, 20, 21, 22, 23, 24, 25, 26, 27, 28, 29, 30, 31, 32, 33, 34, 35, 36, 37, 38, 39, 40, 41, 42, 43, 44, 45, 46, 47, 48, 49, 50, 51, 52, 53, 54, 55, 56, 57, 58, 59, 60, 61, 62, 63, 3, 6, 12, 24, 48, 96, 192, 239]$'"
      ]
     },
     "metadata": {},
     "output_type": "display_data"
    },
    {
     "data": {
      "text/html": [
       "<div class=\"notruncate\">\n",
       "<table  class=\"table_form\">\n",
       "<tbody>\n",
       "<tr>\n",
       "<th><script type=\"math/tex\">k</script></th>\n",
       "<th><script type=\"math/tex\">l(n)</script></th>\n",
       "</tr>\n",
       "<tr class =\"row-a\">\n",
       "<td><script type=\"math/tex\">2</script></td>\n",
       "<td>10(13)</td>\n",
       "</tr>\n",
       "<tr class =\"row-b\">\n",
       "<td><script type=\"math/tex\">3</script></td>\n",
       "<td>9(16)</td>\n",
       "</tr>\n",
       "<tr class =\"row-a\">\n",
       "<td><script type=\"math/tex\">4</script></td>\n",
       "<td>6(21)</td>\n",
       "</tr>\n",
       "<tr class =\"row-b\">\n",
       "<td><script type=\"math/tex\">5</script></td>\n",
       "<td>7(38)</td>\n",
       "</tr>\n",
       "<tr class =\"row-a\">\n",
       "<td><script type=\"math/tex\">6</script></td>\n",
       "<td>8(71)</td>\n",
       "</tr>\n",
       "</tbody>\n",
       "</table>\n",
       "</div>"
      ],
      "text/plain": [
       "  $k$   $l(n)$\n",
       "+-----+--------+\n",
       "  2     10(13)\n",
       "  3     9(16)\n",
       "  4     6(21)\n",
       "  5     7(38)\n",
       "  6     8(71)"
      ]
     },
     "metadata": {},
     "output_type": "display_data"
    }
   ],
   "source": [
    "n = 239\n",
    "\n",
    "chains = []\n",
    "rng = [2..6]\n",
    "for k in rng:\n",
    "    base, chain = brauer(n, k)\n",
    "    chains.append(f'{len(chain)}({len(chain) + len(base)})')\n",
    "    show(f'$k={k}: ' + str(base + chain) + '$')\n",
    "\n",
    "show(\n",
    "    table(columns=[list(rng)] + [chains], \n",
    "    header_row=['$k$', '$l(n)$'])\n",
    ")    "
   ]
  },
  {
   "cell_type": "markdown",
   "metadata": {},
   "source": [
    "#### Проверка алгоритма на различных $n$ и $k$, сравнение с минимальными цепочками (в скобках указана длина с учётом базовой цепочки)"
   ]
  },
  {
   "cell_type": "code",
   "execution_count": 95,
   "metadata": {},
   "outputs": [
    {
     "data": {
      "text/html": [
       "<div class=\"notruncate\">\n",
       "<table  class=\"table_form\">\n",
       "<tbody>\n",
       "<tr>\n",
       "<th><script type=\"math/tex\">n/k</script></th>\n",
       "<th><script type=\"math/tex\">2</script></th>\n",
       "<th><script type=\"math/tex\">3</script></th>\n",
       "<th><script type=\"math/tex\">4</script></th>\n",
       "<th><script type=\"math/tex\">5</script></th>\n",
       "<th><script type=\"math/tex\">6</script></th>\n",
       "<th><script type=\"math/tex\">7</script></th>\n",
       "<th><script type=\"math/tex\">8</script></th>\n",
       "<th><script type=\"math/tex\">l(n)</script></th>\n",
       "</tr>\n",
       "<tr class =\"row-a\">\n",
       "<td><script type=\"math/tex\">88</script></td>\n",
       "<td>10(13)</td>\n",
       "<td>9(16)</td>\n",
       "<td>6(21)</td>\n",
       "<td>7(38)</td>\n",
       "<td>8(71)</td>\n",
       "<td>9(136)</td>\n",
       "<td>10(265)</td>\n",
       "<td><script type=\"math/tex\">8</script></td>\n",
       "</tr>\n",
       "<tr class =\"row-b\">\n",
       "<td><script type=\"math/tex\">273</script></td>\n",
       "<td>13(16)</td>\n",
       "<td>9(16)</td>\n",
       "<td>11(26)</td>\n",
       "<td>7(38)</td>\n",
       "<td>8(71)</td>\n",
       "<td>9(136)</td>\n",
       "<td>10(265)</td>\n",
       "<td><script type=\"math/tex\">10</script></td>\n",
       "</tr>\n",
       "<tr class =\"row-a\">\n",
       "<td><script type=\"math/tex\">410</script></td>\n",
       "<td>13(16)</td>\n",
       "<td>9(16)</td>\n",
       "<td>11(26)</td>\n",
       "<td>7(38)</td>\n",
       "<td>8(71)</td>\n",
       "<td>9(136)</td>\n",
       "<td>10(265)</td>\n",
       "<td><script type=\"math/tex\">11</script></td>\n",
       "</tr>\n",
       "<tr class =\"row-b\">\n",
       "<td><script type=\"math/tex\">1203</script></td>\n",
       "<td>16(19)</td>\n",
       "<td>13(20)</td>\n",
       "<td>11(26)</td>\n",
       "<td>13(44)</td>\n",
       "<td>8(71)</td>\n",
       "<td>9(136)</td>\n",
       "<td>10(265)</td>\n",
       "<td><script type=\"math/tex\">13</script></td>\n",
       "</tr>\n",
       "<tr class =\"row-a\">\n",
       "<td><script type=\"math/tex\">10729</script></td>\n",
       "<td>19(22)</td>\n",
       "<td>17(24)</td>\n",
       "<td>16(31)</td>\n",
       "<td>13(44)</td>\n",
       "<td>15(78)</td>\n",
       "<td>9(136)</td>\n",
       "<td>10(265)</td>\n",
       "<td><script type=\"math/tex\">17</script></td>\n",
       "</tr>\n",
       "<tr class =\"row-b\">\n",
       "<td><script type=\"math/tex\">192168</script></td>\n",
       "<td>25(28)</td>\n",
       "<td>21(28)</td>\n",
       "<td>21(36)</td>\n",
       "<td>19(50)</td>\n",
       "<td>15(78)</td>\n",
       "<td>17(144)</td>\n",
       "<td>19(274)</td>\n",
       "<td><script type=\"math/tex\">21</script></td>\n",
       "</tr>\n",
       "<tr class =\"row-a\">\n",
       "<td><script type=\"math/tex\">8010200</script></td>\n",
       "<td>34(37)</td>\n",
       "<td>29(36)</td>\n",
       "<td>26(41)</td>\n",
       "<td>25(56)</td>\n",
       "<td>22(85)</td>\n",
       "<td>25(152)</td>\n",
       "<td>19(274)</td>\n",
       "<td><script type=\"math/tex\">27</script></td>\n",
       "</tr>\n",
       "</tbody>\n",
       "</table>\n",
       "</div>"
      ],
      "text/plain": [
       "  $n/k$     2        3        4        5        6        7         8         $l(n)$\n",
       "+---------+--------+--------+--------+--------+--------+---------+---------+--------+\n",
       "  88        10(13)   9(16)    6(21)    7(38)    8(71)    9(136)    10(265)   8\n",
       "  273       13(16)   9(16)    11(26)   7(38)    8(71)    9(136)    10(265)   10\n",
       "  410       13(16)   9(16)    11(26)   7(38)    8(71)    9(136)    10(265)   11\n",
       "  1203      16(19)   13(20)   11(26)   13(44)   8(71)    9(136)    10(265)   13\n",
       "  10729     19(22)   17(24)   16(31)   13(44)   15(78)   9(136)    10(265)   17\n",
       "  192168    25(28)   21(28)   21(36)   19(50)   15(78)   17(144)   19(274)   21\n",
       "  8010200   34(37)   29(36)   26(41)   25(56)   22(85)   25(152)   19(274)   27"
      ]
     },
     "metadata": {},
     "output_type": "display_data"
    }
   ],
   "source": [
    "N = [88, 273, 410, 1203, 10729, 192168, 8010200]\n",
    "MIN = [8, 10, 11, 13, 17, 21, 27] \n",
    "K = [2..8]\n",
    "chains = []\n",
    "\n",
    "for i, n in enumerate(N):\n",
    "    chains.append([n]) # добавляем само число в первый столбец\n",
    "    for k in K:\n",
    "        base, chain = brauer(n, k)\n",
    "        chains[-1].append(f'{len(chain)}({len(chain) + len(base)})')\n",
    "    chains[-1].append(MIN[i]) # добавляем минимальную длину\n",
    "        \n",
    "show(table(rows=chains, header_row=[\"$n/k$\"] + K + [\"$l(n)$\"]))  "
   ]
  },
  {
   "cell_type": "markdown",
   "metadata": {},
   "source": [
    "Можно заметить что при удачно выбранном параметре $k$ длина цепочки в алгоритме брауэра приближается к минимальной. Достаточно болшую часть длины аддитивной цепочки составляет базовая цепочка, длина которой очень быстро растёт при увеличении параметра $k$. Однако если предположить что вычисление базовой цепочки достаточно просто произвести, оставшаяся длина цепочки получается даже меньше минимальной аддитивной цепочки."
   ]
  },
  {
   "cell_type": "markdown",
   "metadata": {},
   "source": [
    "### 3. Алгоритм дробления вектора индексов"
   ]
  },
  {
   "cell_type": "markdown",
   "metadata": {},
   "source": [
    "Получение следующего вектора по убыванию (по правилу в теор. положениях)"
   ]
  },
  {
   "cell_type": "code",
   "execution_count": 2,
   "metadata": {},
   "outputs": [],
   "source": [
    "def nextVec(v, default=1):\n",
    "    for i in reversed(range(len(v))):\n",
    "        if v[i] == 1:\n",
    "            v[i] = i + default\n",
    "        else:  \n",
    "            v[i] -= 1\n",
    "            return v\n",
    "    return None"
   ]
  },
  {
   "cell_type": "markdown",
   "metadata": {},
   "source": [
    "Функция получения звёздной цепочки по заданному вектору индексов"
   ]
  },
  {
   "cell_type": "code",
   "execution_count": 3,
   "metadata": {},
   "outputs": [],
   "source": [
    "def vecToChain(v):\n",
    "    chain = [1]\n",
    "    for i in v:\n",
    "        chain.append(chain[-1] + chain[i - 1])\n",
    "    return chain"
   ]
  },
  {
   "cell_type": "markdown",
   "metadata": {},
   "source": [
    "Функции $\\lambda(n)$ и $\\nu(n)$ для уточнения границ перебора"
   ]
  },
  {
   "cell_type": "code",
   "execution_count": 4,
   "metadata": {},
   "outputs": [],
   "source": [
    "def lmb(n):\n",
    "    return len(bin(n)[2:]) - 1\n",
    "\n",
    "def nu(n):\n",
    "    return bin(n).count('1')"
   ]
  },
  {
   "cell_type": "markdown",
   "metadata": {},
   "source": [
    "Сам алгоритм"
   ]
  },
  {
   "cell_type": "code",
   "execution_count": 5,
   "metadata": {},
   "outputs": [],
   "source": [
    "def vecSplit(n):\n",
    "    minL = lmb(n)\n",
    "    maxL = lmb(n) + nu(n) - 1\n",
    "    # Перебор длины цепочки\n",
    "    for m in [minL..maxL]:\n",
    "        q = m // 2\n",
    "        fixedVec = [1..q]\n",
    "        # Перебор 'фиксированой' части\n",
    "        while fixedVec is not None:\n",
    "            fixedChain = vecToChain(fixedVec)\n",
    "            amin = fixedChain[-1] + m - q\n",
    "            amax = fixedChain[-1] * 2 ** (m - q)\n",
    "            if amin <= n <= amax:\n",
    "                floatVec = [(q+1)..m]\n",
    "                # Перебор 'меняющейся' части\n",
    "                while floatVec is not None:\n",
    "                    chain = vecToChain(fixedVec + floatVec)\n",
    "                    if chain[-1] == n:\n",
    "                        return fixedVec + floatVec, chain\n",
    "                    elif chain[-1] < n:\n",
    "                        while floatVec and floatVec[-1] != len(floatVec) + q:\n",
    "                            floatVec = nextVec(floatVec)\n",
    "                    else:\n",
    "                        floatVec = nextVec(floatVec, q + 1)\n",
    "            fixedVec = nextVec(fixedVec)\n",
    "            \n",
    "    return [], []"
   ]
  },
  {
   "cell_type": "markdown",
   "metadata": {},
   "source": [
    "#### Проверим его на наборе чисел N"
   ]
  },
  {
   "cell_type": "code",
   "execution_count": 6,
   "metadata": {},
   "outputs": [
    {
     "data": {
      "text/html": [
       "number: <script type=\"math/tex\">1024</script>, time: <script type=\"math/tex\">0.07046675682067871 s.</script>"
      ],
      "text/plain": [
       "'number: $1024$, time: $0.07046675682067871 s.$'"
      ]
     },
     "metadata": {},
     "output_type": "display_data"
    },
    {
     "data": {
      "text/html": [
       "number: <script type=\"math/tex\">1125</script>, time: <script type=\"math/tex\">29.906420946121216 s.</script>"
      ],
      "text/plain": [
       "'number: $1125$, time: $29.906420946121216 s.$'"
      ]
     },
     "metadata": {},
     "output_type": "display_data"
    },
    {
     "data": {
      "text/html": [
       "number: <script type=\"math/tex\">1424</script>, time: <script type=\"math/tex\">2.2918360233306885 s.</script>"
      ],
      "text/plain": [
       "'number: $1424$, time: $2.2918360233306885 s.$'"
      ]
     },
     "metadata": {},
     "output_type": "display_data"
    },
    {
     "data": {
      "text/html": [
       "number: <script type=\"math/tex\">1759</script>, time: <script type=\"math/tex\">128.4556107521057 s.</script>"
      ],
      "text/plain": [
       "'number: $1759$, time: $128.4556107521057 s.$'"
      ]
     },
     "metadata": {},
     "output_type": "display_data"
    },
    {
     "data": {
      "text/html": [
       "number: <script type=\"math/tex\">1812</script>, time: <script type=\"math/tex\">2.2241268157958984 s.</script>"
      ],
      "text/plain": [
       "'number: $1812$, time: $2.2241268157958984 s.$'"
      ]
     },
     "metadata": {},
     "output_type": "display_data"
    },
    {
     "data": {
      "text/html": [
       "number: <script type=\"math/tex\">2048</script>, time: <script type=\"math/tex\">0.00012230873107910156 s.</script>"
      ],
      "text/plain": [
       "'number: $2048$, time: $0.00012230873107910156 s.$'"
      ]
     },
     "metadata": {},
     "output_type": "display_data"
    }
   ],
   "source": [
    "N = [1024, 1125, 1424, 1759, 1812, 2048]\n",
    "MIN = [10, 13, 13, 14, 13, 11]\n",
    "\n",
    "import time\n",
    "\n",
    "res = []\n",
    "times = []\n",
    "for n in N:\n",
    "    start = time.time()\n",
    "    ivec, chain = vecSplit(n)\n",
    "    res.append((ivec, chain))\n",
    "    times.append(time.time() - start)\n",
    "    show(f'number: ${n}$, time: ${times[-1]} s.$')\n",
    "    "
   ]
  },
  {
   "cell_type": "code",
   "execution_count": 7,
   "metadata": {},
   "outputs": [
    {
     "data": {
      "text/html": [
       "<div class=\"notruncate\">\n",
       "<table  class=\"table_form\">\n",
       "<tbody>\n",
       "<tr>\n",
       "<th><script type=\"math/tex\">n</script></th>\n",
       "<th><script type=\"math/tex\">indecies</script> <script type=\"math/tex\">vectors</script></th>\n",
       "<th><script type=\"math/tex\">chains</script></th>\n",
       "<th><script type=\"math/tex\">l^*(n)</script></th>\n",
       "<th><script type=\"math/tex\">l(n)</script></th>\n",
       "<th><script type=\"math/tex\">time(sec)</script></th>\n",
       "</tr>\n",
       "<tr class =\"row-a\">\n",
       "<td><script type=\"math/tex\">1024</script></td>\n",
       "<td>[1, 2, 3, 4, 5, 6, 7, 8, 9, 10]</td>\n",
       "<td>[1, 2, 4, 8, 16, 32, 64, 128, 256, 512, 1024]</td>\n",
       "<td><script type=\"math/tex\">10</script></td>\n",
       "<td><script type=\"math/tex\">10</script></td>\n",
       "<td><script type=\"math/tex\">0.07047</script></td>\n",
       "</tr>\n",
       "<tr class =\"row-b\">\n",
       "<td><script type=\"math/tex\">1125</script></td>\n",
       "<td>[1, 2, 1, 4, 5, 6, 7, 8, 9, 10, 10, 9, 4]</td>\n",
       "<td>[1, 2, 4, 5, 10, 20, 40, 80, 160, 320, 640, 960, 1120, 1125]</td>\n",
       "<td><script type=\"math/tex\">13</script></td>\n",
       "<td><script type=\"math/tex\">13</script></td>\n",
       "<td><script type=\"math/tex\">29.90642</script></td>\n",
       "</tr>\n",
       "<tr class =\"row-a\">\n",
       "<td><script type=\"math/tex\">1424</script></td>\n",
       "<td>[1, 2, 3, 4, 5, 6, 7, 8, 9, 10, 9, 8, 5]</td>\n",
       "<td>[1, 2, 4, 8, 16, 32, 64, 128, 256, 512, 1024, 1280, 1408, 1424]</td>\n",
       "<td><script type=\"math/tex\">13</script></td>\n",
       "<td><script type=\"math/tex\">13</script></td>\n",
       "<td><script type=\"math/tex\">2.29184</script></td>\n",
       "</tr>\n",
       "<tr class =\"row-b\">\n",
       "<td><script type=\"math/tex\">1759</script></td>\n",
       "<td>[1, 2, 3, 1, 5, 5, 7, 8, 9, 10, 11, 12, 7, 3]</td>\n",
       "<td>[1, 2, 4, 8, 9, 18, 27, 54, 108, 216, 432, 864, 1728, 1755, 1759]</td>\n",
       "<td><script type=\"math/tex\">14</script></td>\n",
       "<td><script type=\"math/tex\">14</script></td>\n",
       "<td><script type=\"math/tex\">128.45561</script></td>\n",
       "</tr>\n",
       "<tr class =\"row-a\">\n",
       "<td><script type=\"math/tex\">1812</script></td>\n",
       "<td>[1, 2, 3, 4, 3, 4, 7, 8, 9, 10, 11, 12, 6]</td>\n",
       "<td>[1, 2, 4, 8, 16, 20, 28, 56, 112, 224, 448, 896, 1792, 1812]</td>\n",
       "<td><script type=\"math/tex\">13</script></td>\n",
       "<td><script type=\"math/tex\">13</script></td>\n",
       "<td><script type=\"math/tex\">2.22413</script></td>\n",
       "</tr>\n",
       "<tr class =\"row-b\">\n",
       "<td><script type=\"math/tex\">2048</script></td>\n",
       "<td>[1, 2, 3, 4, 5, 6, 7, 8, 9, 10, 11]</td>\n",
       "<td>[1, 2, 4, 8, 16, 32, 64, 128, 256, 512, 1024, 2048]</td>\n",
       "<td><script type=\"math/tex\">11</script></td>\n",
       "<td><script type=\"math/tex\">11</script></td>\n",
       "<td><script type=\"math/tex\">0.00012</script></td>\n",
       "</tr>\n",
       "</tbody>\n",
       "</table>\n",
       "</div>"
      ],
      "text/plain": [
       "  $n$    $indecies$ $vectors$                            $chains$                                                            $l^*(n)$   $l(n)$   $time(sec)$\n",
       "+------+-----------------------------------------------+-------------------------------------------------------------------+----------+--------+-------------+\n",
       "  1024   [1, 2, 3, 4, 5, 6, 7, 8, 9, 10]                 [1, 2, 4, 8, 16, 32, 64, 128, 256, 512, 1024]                       10         10       0.07047\n",
       "  1125   [1, 2, 1, 4, 5, 6, 7, 8, 9, 10, 10, 9, 4]       [1, 2, 4, 5, 10, 20, 40, 80, 160, 320, 640, 960, 1120, 1125]        13         13       29.90642\n",
       "  1424   [1, 2, 3, 4, 5, 6, 7, 8, 9, 10, 9, 8, 5]        [1, 2, 4, 8, 16, 32, 64, 128, 256, 512, 1024, 1280, 1408, 1424]     13         13       2.29184\n",
       "  1759   [1, 2, 3, 1, 5, 5, 7, 8, 9, 10, 11, 12, 7, 3]   [1, 2, 4, 8, 9, 18, 27, 54, 108, 216, 432, 864, 1728, 1755, 1759]   14         14       128.45561\n",
       "  1812   [1, 2, 3, 4, 3, 4, 7, 8, 9, 10, 11, 12, 6]      [1, 2, 4, 8, 16, 20, 28, 56, 112, 224, 448, 896, 1792, 1812]        13         13       2.22413\n",
       "  2048   [1, 2, 3, 4, 5, 6, 7, 8, 9, 10, 11]             [1, 2, 4, 8, 16, 32, 64, 128, 256, 512, 1024, 2048]                 11         11       0.00012"
      ]
     },
     "metadata": {},
     "output_type": "display_data"
    }
   ],
   "source": [
    "trows = [[N[i], str(res[i][0]), str(res[i][1]), len(res[i][0]), MIN[i], round(times[i], 5)] for i in range(len(N))]\n",
    "\n",
    "show(table(\n",
    "    rows=trows, \n",
    "    header_row=[\"$n$\", \"$indecies$ $vectors$\", \"$chains$\", \"$l^*(n)$\", \"$l(n)$\", \"$time(sec)$\"]\n",
    "))  "
   ]
  },
  {
   "cell_type": "markdown",
   "metadata": {},
   "source": [
    "Как можно заметить полученные цепочки оказались минимальными так как для $n < 12509$ доказано что $l^*(n) = l(n)$. Сам алгоритм работает значительно медленне приближённых алгоритмов так как является по сути переборным. Время его работы зависит от того насколько минимальная цепочка близка к начальной, в том числе и от того насколько близка её длина к длине начальной."
   ]
  },
  {
   "cell_type": "markdown",
   "metadata": {},
   "source": [
    "### 4. Гипотеза Шольца-Брауэра\n",
    "Сама гипотеза: $l(2^n - 1) \\leq l(n) + n - 1$. Доказано, что она справедлива для $1 \\leq n \\leq 64$ и также для звёздных цепочек.\n",
    "\n",
    "- Экспериментально требуется подтвердить что справедливо следующее равенство для $1 \\leq n \\leq 12$: \n",
    "$$\n",
    "l^*(2^n - 1) = l^*(n) + n - 1\n",
    "$$"
   ]
  },
  {
   "cell_type": "code",
   "execution_count": 11,
   "metadata": {},
   "outputs": [
    {
     "data": {
      "text/html": [
       "number: <script type=\"math/tex\">1</script>, time: <script type=\"math/tex\">0.00015401840209960938 s.</script>"
      ],
      "text/plain": [
       "'number: $1$, time: $0.00015401840209960938 s.$'"
      ]
     },
     "metadata": {},
     "output_type": "display_data"
    },
    {
     "data": {
      "text/html": [
       "<script type=\"math/tex\">l^*(2^n - 1)</script> = 0, <script type=\"math/tex\">l^*(n)</script> = 0, True"
      ],
      "text/plain": [
       "'$l^*(2^n - 1)$ = 0, $l^*(n)$ = 0, True'"
      ]
     },
     "metadata": {},
     "output_type": "display_data"
    },
    {
     "data": {
      "text/html": [
       "number: <script type=\"math/tex\">2</script>, time: <script type=\"math/tex\">0.000446319580078125 s.</script>"
      ],
      "text/plain": [
       "'number: $2$, time: $0.000446319580078125 s.$'"
      ]
     },
     "metadata": {},
     "output_type": "display_data"
    },
    {
     "data": {
      "text/html": [
       "<script type=\"math/tex\">l^*(2^n - 1)</script> = 2, <script type=\"math/tex\">l^*(n)</script> = 1, True"
      ],
      "text/plain": [
       "'$l^*(2^n - 1)$ = 2, $l^*(n)$ = 1, True'"
      ]
     },
     "metadata": {},
     "output_type": "display_data"
    },
    {
     "data": {
      "text/html": [
       "number: <script type=\"math/tex\">3</script>, time: <script type=\"math/tex\">0.0007295608520507812 s.</script>"
      ],
      "text/plain": [
       "'number: $3$, time: $0.0007295608520507812 s.$'"
      ]
     },
     "metadata": {},
     "output_type": "display_data"
    },
    {
     "data": {
      "text/html": [
       "<script type=\"math/tex\">l^*(2^n - 1)</script> = 4, <script type=\"math/tex\">l^*(n)</script> = 2, True"
      ],
      "text/plain": [
       "'$l^*(2^n - 1)$ = 4, $l^*(n)$ = 2, True'"
      ]
     },
     "metadata": {},
     "output_type": "display_data"
    },
    {
     "data": {
      "text/html": [
       "number: <script type=\"math/tex\">4</script>, time: <script type=\"math/tex\">0.0006589889526367188 s.</script>"
      ],
      "text/plain": [
       "'number: $4$, time: $0.0006589889526367188 s.$'"
      ]
     },
     "metadata": {},
     "output_type": "display_data"
    },
    {
     "data": {
      "text/html": [
       "<script type=\"math/tex\">l^*(2^n - 1)</script> = 5, <script type=\"math/tex\">l^*(n)</script> = 2, True"
      ],
      "text/plain": [
       "'$l^*(2^n - 1)$ = 5, $l^*(n)$ = 2, True'"
      ]
     },
     "metadata": {},
     "output_type": "display_data"
    },
    {
     "data": {
      "text/html": [
       "number: <script type=\"math/tex\">5</script>, time: <script type=\"math/tex\">0.003925800323486328 s.</script>"
      ],
      "text/plain": [
       "'number: $5$, time: $0.003925800323486328 s.$'"
      ]
     },
     "metadata": {},
     "output_type": "display_data"
    },
    {
     "data": {
      "text/html": [
       "<script type=\"math/tex\">l^*(2^n - 1)</script> = 7, <script type=\"math/tex\">l^*(n)</script> = 3, True"
      ],
      "text/plain": [
       "'$l^*(2^n - 1)$ = 7, $l^*(n)$ = 3, True'"
      ]
     },
     "metadata": {},
     "output_type": "display_data"
    },
    {
     "data": {
      "text/html": [
       "number: <script type=\"math/tex\">6</script>, time: <script type=\"math/tex\">0.00702667236328125 s.</script>"
      ],
      "text/plain": [
       "'number: $6$, time: $0.00702667236328125 s.$'"
      ]
     },
     "metadata": {},
     "output_type": "display_data"
    },
    {
     "data": {
      "text/html": [
       "<script type=\"math/tex\">l^*(2^n - 1)</script> = 8, <script type=\"math/tex\">l^*(n)</script> = 3, True"
      ],
      "text/plain": [
       "'$l^*(2^n - 1)$ = 8, $l^*(n)$ = 3, True'"
      ]
     },
     "metadata": {},
     "output_type": "display_data"
    },
    {
     "data": {
      "text/html": [
       "number: <script type=\"math/tex\">7</script>, time: <script type=\"math/tex\">0.0791313648223877 s.</script>"
      ],
      "text/plain": [
       "'number: $7$, time: $0.0791313648223877 s.$'"
      ]
     },
     "metadata": {},
     "output_type": "display_data"
    },
    {
     "data": {
      "text/html": [
       "<script type=\"math/tex\">l^*(2^n - 1)</script> = 10, <script type=\"math/tex\">l^*(n)</script> = 4, True"
      ],
      "text/plain": [
       "'$l^*(2^n - 1)$ = 10, $l^*(n)$ = 4, True'"
      ]
     },
     "metadata": {},
     "output_type": "display_data"
    },
    {
     "data": {
      "text/html": [
       "number: <script type=\"math/tex\">8</script>, time: <script type=\"math/tex\">0.1427614688873291 s.</script>"
      ],
      "text/plain": [
       "'number: $8$, time: $0.1427614688873291 s.$'"
      ]
     },
     "metadata": {},
     "output_type": "display_data"
    },
    {
     "data": {
      "text/html": [
       "<script type=\"math/tex\">l^*(2^n - 1)</script> = 10, <script type=\"math/tex\">l^*(n)</script> = 3, True"
      ],
      "text/plain": [
       "'$l^*(2^n - 1)$ = 10, $l^*(n)$ = 3, True'"
      ]
     },
     "metadata": {},
     "output_type": "display_data"
    },
    {
     "data": {
      "text/html": [
       "number: <script type=\"math/tex\">9</script>, time: <script type=\"math/tex\">2.6272809505462646 s.</script>"
      ],
      "text/plain": [
       "'number: $9$, time: $2.6272809505462646 s.$'"
      ]
     },
     "metadata": {},
     "output_type": "display_data"
    },
    {
     "data": {
      "text/html": [
       "<script type=\"math/tex\">l^*(2^n - 1)</script> = 12, <script type=\"math/tex\">l^*(n)</script> = 4, True"
      ],
      "text/plain": [
       "'$l^*(2^n - 1)$ = 12, $l^*(n)$ = 4, True'"
      ]
     },
     "metadata": {},
     "output_type": "display_data"
    },
    {
     "data": {
      "text/html": [
       "number: <script type=\"math/tex\">10</script>, time: <script type=\"math/tex\">46.20486807823181 s.</script>"
      ],
      "text/plain": [
       "'number: $10$, time: $46.20486807823181 s.$'"
      ]
     },
     "metadata": {},
     "output_type": "display_data"
    },
    {
     "data": {
      "text/html": [
       "<script type=\"math/tex\">l^*(2^n - 1)</script> = 13, <script type=\"math/tex\">l^*(n)</script> = 4, True"
      ],
      "text/plain": [
       "'$l^*(2^n - 1)$ = 13, $l^*(n)$ = 4, True'"
      ]
     },
     "metadata": {},
     "output_type": "display_data"
    },
    {
     "data": {
      "text/html": [
       "number: <script type=\"math/tex\">11</script>, time: <script type=\"math/tex\">968.4757196903229 s.</script>"
      ],
      "text/plain": [
       "'number: $11$, time: $968.4757196903229 s.$'"
      ]
     },
     "metadata": {},
     "output_type": "display_data"
    },
    {
     "data": {
      "text/html": [
       "<script type=\"math/tex\">l^*(2^n - 1)</script> = 15, <script type=\"math/tex\">l^*(n)</script> = 5, True"
      ],
      "text/plain": [
       "'$l^*(2^n - 1)$ = 15, $l^*(n)$ = 5, True'"
      ]
     },
     "metadata": {},
     "output_type": "display_data"
    },
    {
     "data": {
      "text/html": [
       "number: <script type=\"math/tex\">12</script>, time: <script type=\"math/tex\">1679.061520576477 s.</script>"
      ],
      "text/plain": [
       "'number: $12$, time: $1679.061520576477 s.$'"
      ]
     },
     "metadata": {},
     "output_type": "display_data"
    },
    {
     "data": {
      "text/html": [
       "<script type=\"math/tex\">l^*(2^n - 1)</script> = 15, <script type=\"math/tex\">l^*(n)</script> = 4, True"
      ],
      "text/plain": [
       "'$l^*(2^n - 1)$ = 15, $l^*(n)$ = 4, True'"
      ]
     },
     "metadata": {},
     "output_type": "display_data"
    }
   ],
   "source": [
    "import time\n",
    "\n",
    "Lres = []\n",
    "Rres = []\n",
    "times = []\n",
    "for n in [1..12]:\n",
    "    start = time.time()\n",
    "    Lres.append(vecSplit(2 ^ n - 1))\n",
    "    Rres.append(vecSplit(n))\n",
    "    \n",
    "    times.append(time.time() - start)\n",
    "    show(f'number: ${n}$, time: ${times[-1]} s.$')\n",
    "    show(f'$l^*(2^n - 1)$ = {len(Lres[-1][0])}, $l^*(n)$ = {len(Rres[-1][0])}, ' +\n",
    "        f'{len(Lres[-1][0]) == len(Rres[-1][0]) + n - 1}')\n",
    "    "
   ]
  },
  {
   "cell_type": "code",
   "execution_count": 19,
   "metadata": {},
   "outputs": [
    {
     "data": {
      "text/html": [
       "<div class=\"notruncate\">\n",
       "<table  class=\"table_form\">\n",
       "<tbody>\n",
       "<tr>\n",
       "<th><script type=\"math/tex\">n</script></th>\n",
       "<th><script type=\"math/tex\">l^*(2^n - 1)</script></th>\n",
       "<th><script type=\"math/tex\">l^*(n)</script></th>\n",
       "<th><script type=\"math/tex\">hypotesis</script></th>\n",
       "<th><script type=\"math/tex\">time(sec)</script></th>\n",
       "</tr>\n",
       "<tr class =\"row-a\">\n",
       "<td><script type=\"math/tex\">1</script></td>\n",
       "<td><script type=\"math/tex\">0</script></td>\n",
       "<td><script type=\"math/tex\">0</script></td>\n",
       "<td><script type=\"math/tex\">\\mathrm{True}</script></td>\n",
       "<td><script type=\"math/tex\">0.00015</script></td>\n",
       "</tr>\n",
       "<tr class =\"row-b\">\n",
       "<td><script type=\"math/tex\">2</script></td>\n",
       "<td><script type=\"math/tex\">2</script></td>\n",
       "<td><script type=\"math/tex\">1</script></td>\n",
       "<td><script type=\"math/tex\">\\mathrm{True}</script></td>\n",
       "<td><script type=\"math/tex\">0.00045</script></td>\n",
       "</tr>\n",
       "<tr class =\"row-a\">\n",
       "<td><script type=\"math/tex\">3</script></td>\n",
       "<td><script type=\"math/tex\">4</script></td>\n",
       "<td><script type=\"math/tex\">2</script></td>\n",
       "<td><script type=\"math/tex\">\\mathrm{True}</script></td>\n",
       "<td><script type=\"math/tex\">0.00073</script></td>\n",
       "</tr>\n",
       "<tr class =\"row-b\">\n",
       "<td><script type=\"math/tex\">4</script></td>\n",
       "<td><script type=\"math/tex\">5</script></td>\n",
       "<td><script type=\"math/tex\">2</script></td>\n",
       "<td><script type=\"math/tex\">\\mathrm{True}</script></td>\n",
       "<td><script type=\"math/tex\">0.00066</script></td>\n",
       "</tr>\n",
       "<tr class =\"row-a\">\n",
       "<td><script type=\"math/tex\">5</script></td>\n",
       "<td><script type=\"math/tex\">7</script></td>\n",
       "<td><script type=\"math/tex\">3</script></td>\n",
       "<td><script type=\"math/tex\">\\mathrm{True}</script></td>\n",
       "<td><script type=\"math/tex\">0.00393</script></td>\n",
       "</tr>\n",
       "<tr class =\"row-b\">\n",
       "<td><script type=\"math/tex\">6</script></td>\n",
       "<td><script type=\"math/tex\">8</script></td>\n",
       "<td><script type=\"math/tex\">3</script></td>\n",
       "<td><script type=\"math/tex\">\\mathrm{True}</script></td>\n",
       "<td><script type=\"math/tex\">0.00703</script></td>\n",
       "</tr>\n",
       "<tr class =\"row-a\">\n",
       "<td><script type=\"math/tex\">7</script></td>\n",
       "<td><script type=\"math/tex\">10</script></td>\n",
       "<td><script type=\"math/tex\">4</script></td>\n",
       "<td><script type=\"math/tex\">\\mathrm{True}</script></td>\n",
       "<td><script type=\"math/tex\">0.07913</script></td>\n",
       "</tr>\n",
       "<tr class =\"row-b\">\n",
       "<td><script type=\"math/tex\">8</script></td>\n",
       "<td><script type=\"math/tex\">10</script></td>\n",
       "<td><script type=\"math/tex\">3</script></td>\n",
       "<td><script type=\"math/tex\">\\mathrm{True}</script></td>\n",
       "<td><script type=\"math/tex\">0.14276</script></td>\n",
       "</tr>\n",
       "<tr class =\"row-a\">\n",
       "<td><script type=\"math/tex\">9</script></td>\n",
       "<td><script type=\"math/tex\">12</script></td>\n",
       "<td><script type=\"math/tex\">4</script></td>\n",
       "<td><script type=\"math/tex\">\\mathrm{True}</script></td>\n",
       "<td><script type=\"math/tex\">2.62728</script></td>\n",
       "</tr>\n",
       "<tr class =\"row-b\">\n",
       "<td><script type=\"math/tex\">10</script></td>\n",
       "<td><script type=\"math/tex\">13</script></td>\n",
       "<td><script type=\"math/tex\">4</script></td>\n",
       "<td><script type=\"math/tex\">\\mathrm{True}</script></td>\n",
       "<td><script type=\"math/tex\">46.20487</script></td>\n",
       "</tr>\n",
       "<tr class =\"row-a\">\n",
       "<td><script type=\"math/tex\">11</script></td>\n",
       "<td><script type=\"math/tex\">15</script></td>\n",
       "<td><script type=\"math/tex\">5</script></td>\n",
       "<td><script type=\"math/tex\">\\mathrm{True}</script></td>\n",
       "<td><script type=\"math/tex\">968.47572</script></td>\n",
       "</tr>\n",
       "<tr class =\"row-b\">\n",
       "<td><script type=\"math/tex\">12</script></td>\n",
       "<td><script type=\"math/tex\">15</script></td>\n",
       "<td><script type=\"math/tex\">4</script></td>\n",
       "<td><script type=\"math/tex\">\\mathrm{True}</script></td>\n",
       "<td><script type=\"math/tex\">1679.06152</script></td>\n",
       "</tr>\n",
       "</tbody>\n",
       "</table>\n",
       "</div>"
      ],
      "text/plain": [
       "  $n$   $l^*(2^n - 1)$   $l^*(n)$   $hypotesis$   $time(sec)$\n",
       "+-----+----------------+----------+-------------+-------------+\n",
       "  1     0                0          True          0.00015\n",
       "  2     2                1          True          0.00045\n",
       "  3     4                2          True          0.00073\n",
       "  4     5                2          True          0.00066\n",
       "  5     7                3          True          0.00393\n",
       "  6     8                3          True          0.00703\n",
       "  7     10               4          True          0.07913\n",
       "  8     10               3          True          0.14276\n",
       "  9     12               4          True          2.62728\n",
       "  10    13               4          True          46.20487\n",
       "  11    15               5          True          968.47572\n",
       "  12    15               4          True          1679.06152"
      ]
     },
     "metadata": {},
     "output_type": "display_data"
    }
   ],
   "source": [
    "N = [1..12]\n",
    "trows = [[N[i], len(Lres[i][0]), len(Rres[i][0]), len(Lres[i][0]) == len(Rres[i][0]) + N[i] - 1, round(times[i], 5)]  for i in range(len(times))]\n",
    "\n",
    "show(table(\n",
    "    rows=trows, \n",
    "    header_row=[\"$n$\", \"$l^*(2^n - 1)$\", \"$l^*(n)$\", \"$hypotesis$\", \"$time(sec)$\"]\n",
    "))  "
   ]
  },
  {
   "cell_type": "markdown",
   "metadata": {},
   "source": [
    "### 5*. Для алгоритма дробления вектора была применена следующая оптимизация\n",
    "В цикле перебора меняющейся части, в случае если $a_n < n$, пропускается сразу некоторое количество шагов до ближайшего $a_n \\geq n$; что сокращает время перебора почти в два раза."
   ]
  },
  {
   "cell_type": "markdown",
   "metadata": {},
   "source": [
    "## Выводы\n",
    "\n",
    "В ходе работы были исследованы, применены и реализованы с помощью СКА SageMath алгоритмы для быстрого возведения чисел в некоторую степень и алгоритмы построения аддитивных цепочек. А именно:\n",
    "- бинарный метод и метод множителей для возведения $x$ в степень $n$\n",
    "- алгоритм Брауэра, который является приближённым и позволяет строить аддитивную цепочку (не гарантируется что минимальную) за оптимальное время.\n",
    "- алгоритм дробления вектора индексов, который является переборным и позволяет получить минимальную звёздную цепочку.\n",
    "\n",
    "- также была проверена гипотеза Шольца-Брауэра для чисел $1 \\leq n \\leq 12$."
   ]
  },
  {
   "cell_type": "code",
   "execution_count": null,
   "metadata": {},
   "outputs": [],
   "source": []
  }
 ],
 "metadata": {
  "kernelspec": {
   "display_name": "SageMath 9.3",
   "language": "sage",
   "name": "sagemath"
  },
  "language_info": {
   "codemirror_mode": {
    "name": "ipython",
    "version": 3
   },
   "file_extension": ".py",
   "mimetype": "text/x-python",
   "name": "python",
   "nbconvert_exporter": "python",
   "pygments_lexer": "ipython3",
   "version": "3.7.10"
  }
 },
 "nbformat": 4,
 "nbformat_minor": 4
}
